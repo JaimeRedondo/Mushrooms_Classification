{
  "nbformat": 4,
  "nbformat_minor": 0,
  "metadata": {
    "colab": {
      "name": "Mushrooms_Classification.ipynb",
      "provenance": [],
      "collapsed_sections": [],
      "toc_visible": true,
      "authorship_tag": "ABX9TyMXbkF3xRfzFUC0MP2giwyK",
      "include_colab_link": true
    },
    "kernelspec": {
      "name": "python3",
      "display_name": "Python 3"
    },
    "widgets": {
      "application/vnd.jupyter.widget-state+json": {
        "ddcdbc58b0114caa8021235cd037e969": {
          "model_module": "@jupyter-widgets/controls",
          "model_name": "HBoxModel",
          "state": {
            "_view_name": "HBoxView",
            "_dom_classes": [],
            "_model_name": "HBoxModel",
            "_view_module": "@jupyter-widgets/controls",
            "_model_module_version": "1.5.0",
            "_view_count": null,
            "_view_module_version": "1.5.0",
            "box_style": "",
            "layout": "IPY_MODEL_6299cf1a2b7a45f49f66f9bafc6f07cf",
            "_model_module": "@jupyter-widgets/controls",
            "children": [
              "IPY_MODEL_bd2179ce1dde4f5bbec684c2f973b1cc",
              "IPY_MODEL_121a1d0b3d3845bc96c662fe508146d7"
            ]
          }
        },
        "6299cf1a2b7a45f49f66f9bafc6f07cf": {
          "model_module": "@jupyter-widgets/base",
          "model_name": "LayoutModel",
          "state": {
            "_view_name": "LayoutView",
            "grid_template_rows": null,
            "right": null,
            "justify_content": null,
            "_view_module": "@jupyter-widgets/base",
            "overflow": null,
            "_model_module_version": "1.2.0",
            "_view_count": null,
            "flex_flow": null,
            "width": null,
            "min_width": null,
            "border": null,
            "align_items": null,
            "bottom": null,
            "_model_module": "@jupyter-widgets/base",
            "top": null,
            "grid_column": null,
            "overflow_y": null,
            "overflow_x": null,
            "grid_auto_flow": null,
            "grid_area": null,
            "grid_template_columns": null,
            "flex": null,
            "_model_name": "LayoutModel",
            "justify_items": null,
            "grid_row": null,
            "max_height": null,
            "align_content": null,
            "visibility": null,
            "align_self": null,
            "height": null,
            "min_height": null,
            "padding": null,
            "grid_auto_rows": null,
            "grid_gap": null,
            "max_width": null,
            "order": null,
            "_view_module_version": "1.2.0",
            "grid_template_areas": null,
            "object_position": null,
            "object_fit": null,
            "grid_auto_columns": null,
            "margin": null,
            "display": null,
            "left": null
          }
        },
        "bd2179ce1dde4f5bbec684c2f973b1cc": {
          "model_module": "@jupyter-widgets/controls",
          "model_name": "FloatProgressModel",
          "state": {
            "_view_name": "ProgressView",
            "style": "IPY_MODEL_07a3f65eca394c2097665812210b2fbb",
            "_dom_classes": [],
            "description": "100%",
            "_model_name": "FloatProgressModel",
            "bar_style": "success",
            "max": 14,
            "_view_module": "@jupyter-widgets/controls",
            "_model_module_version": "1.5.0",
            "value": 14,
            "_view_count": null,
            "_view_module_version": "1.5.0",
            "orientation": "horizontal",
            "min": 0,
            "description_tooltip": null,
            "_model_module": "@jupyter-widgets/controls",
            "layout": "IPY_MODEL_404afedc74974e29a9fbcbb006c5fe0f"
          }
        },
        "121a1d0b3d3845bc96c662fe508146d7": {
          "model_module": "@jupyter-widgets/controls",
          "model_name": "HTMLModel",
          "state": {
            "_view_name": "HTMLView",
            "style": "IPY_MODEL_6e75dddc5e06427e8996ebc1b05d30c0",
            "_dom_classes": [],
            "description": "",
            "_model_name": "HTMLModel",
            "placeholder": "​",
            "_view_module": "@jupyter-widgets/controls",
            "_model_module_version": "1.5.0",
            "value": " 14/14 [00:00&lt;00:00, 68.21it/s]",
            "_view_count": null,
            "_view_module_version": "1.5.0",
            "description_tooltip": null,
            "_model_module": "@jupyter-widgets/controls",
            "layout": "IPY_MODEL_50590b88db02479cabdba7d0a3ca0e0d"
          }
        },
        "07a3f65eca394c2097665812210b2fbb": {
          "model_module": "@jupyter-widgets/controls",
          "model_name": "ProgressStyleModel",
          "state": {
            "_view_name": "StyleView",
            "_model_name": "ProgressStyleModel",
            "description_width": "initial",
            "_view_module": "@jupyter-widgets/base",
            "_model_module_version": "1.5.0",
            "_view_count": null,
            "_view_module_version": "1.2.0",
            "bar_color": null,
            "_model_module": "@jupyter-widgets/controls"
          }
        },
        "404afedc74974e29a9fbcbb006c5fe0f": {
          "model_module": "@jupyter-widgets/base",
          "model_name": "LayoutModel",
          "state": {
            "_view_name": "LayoutView",
            "grid_template_rows": null,
            "right": null,
            "justify_content": null,
            "_view_module": "@jupyter-widgets/base",
            "overflow": null,
            "_model_module_version": "1.2.0",
            "_view_count": null,
            "flex_flow": null,
            "width": null,
            "min_width": null,
            "border": null,
            "align_items": null,
            "bottom": null,
            "_model_module": "@jupyter-widgets/base",
            "top": null,
            "grid_column": null,
            "overflow_y": null,
            "overflow_x": null,
            "grid_auto_flow": null,
            "grid_area": null,
            "grid_template_columns": null,
            "flex": null,
            "_model_name": "LayoutModel",
            "justify_items": null,
            "grid_row": null,
            "max_height": null,
            "align_content": null,
            "visibility": null,
            "align_self": null,
            "height": null,
            "min_height": null,
            "padding": null,
            "grid_auto_rows": null,
            "grid_gap": null,
            "max_width": null,
            "order": null,
            "_view_module_version": "1.2.0",
            "grid_template_areas": null,
            "object_position": null,
            "object_fit": null,
            "grid_auto_columns": null,
            "margin": null,
            "display": null,
            "left": null
          }
        },
        "6e75dddc5e06427e8996ebc1b05d30c0": {
          "model_module": "@jupyter-widgets/controls",
          "model_name": "DescriptionStyleModel",
          "state": {
            "_view_name": "StyleView",
            "_model_name": "DescriptionStyleModel",
            "description_width": "",
            "_view_module": "@jupyter-widgets/base",
            "_model_module_version": "1.5.0",
            "_view_count": null,
            "_view_module_version": "1.2.0",
            "_model_module": "@jupyter-widgets/controls"
          }
        },
        "50590b88db02479cabdba7d0a3ca0e0d": {
          "model_module": "@jupyter-widgets/base",
          "model_name": "LayoutModel",
          "state": {
            "_view_name": "LayoutView",
            "grid_template_rows": null,
            "right": null,
            "justify_content": null,
            "_view_module": "@jupyter-widgets/base",
            "overflow": null,
            "_model_module_version": "1.2.0",
            "_view_count": null,
            "flex_flow": null,
            "width": null,
            "min_width": null,
            "border": null,
            "align_items": null,
            "bottom": null,
            "_model_module": "@jupyter-widgets/base",
            "top": null,
            "grid_column": null,
            "overflow_y": null,
            "overflow_x": null,
            "grid_auto_flow": null,
            "grid_area": null,
            "grid_template_columns": null,
            "flex": null,
            "_model_name": "LayoutModel",
            "justify_items": null,
            "grid_row": null,
            "max_height": null,
            "align_content": null,
            "visibility": null,
            "align_self": null,
            "height": null,
            "min_height": null,
            "padding": null,
            "grid_auto_rows": null,
            "grid_gap": null,
            "max_width": null,
            "order": null,
            "_view_module_version": "1.2.0",
            "grid_template_areas": null,
            "object_position": null,
            "object_fit": null,
            "grid_auto_columns": null,
            "margin": null,
            "display": null,
            "left": null
          }
        },
        "9ec5efd0696b4c17aa4ed501fe63da3d": {
          "model_module": "@jupyter-widgets/controls",
          "model_name": "HBoxModel",
          "state": {
            "_view_name": "HBoxView",
            "_dom_classes": [],
            "_model_name": "HBoxModel",
            "_view_module": "@jupyter-widgets/controls",
            "_model_module_version": "1.5.0",
            "_view_count": null,
            "_view_module_version": "1.5.0",
            "box_style": "",
            "layout": "IPY_MODEL_ca9ec2187f834811a49bf0ab5d12b7f2",
            "_model_module": "@jupyter-widgets/controls",
            "children": [
              "IPY_MODEL_2963569c846a4df081c9bc2343a6d7ab",
              "IPY_MODEL_ee0bfdd52e3045d0b601d242f34559c6"
            ]
          }
        },
        "ca9ec2187f834811a49bf0ab5d12b7f2": {
          "model_module": "@jupyter-widgets/base",
          "model_name": "LayoutModel",
          "state": {
            "_view_name": "LayoutView",
            "grid_template_rows": null,
            "right": null,
            "justify_content": null,
            "_view_module": "@jupyter-widgets/base",
            "overflow": null,
            "_model_module_version": "1.2.0",
            "_view_count": null,
            "flex_flow": null,
            "width": null,
            "min_width": null,
            "border": null,
            "align_items": null,
            "bottom": null,
            "_model_module": "@jupyter-widgets/base",
            "top": null,
            "grid_column": null,
            "overflow_y": null,
            "overflow_x": null,
            "grid_auto_flow": null,
            "grid_area": null,
            "grid_template_columns": null,
            "flex": null,
            "_model_name": "LayoutModel",
            "justify_items": null,
            "grid_row": null,
            "max_height": null,
            "align_content": null,
            "visibility": null,
            "align_self": null,
            "height": null,
            "min_height": null,
            "padding": null,
            "grid_auto_rows": null,
            "grid_gap": null,
            "max_width": null,
            "order": null,
            "_view_module_version": "1.2.0",
            "grid_template_areas": null,
            "object_position": null,
            "object_fit": null,
            "grid_auto_columns": null,
            "margin": null,
            "display": null,
            "left": null
          }
        },
        "2963569c846a4df081c9bc2343a6d7ab": {
          "model_module": "@jupyter-widgets/controls",
          "model_name": "FloatProgressModel",
          "state": {
            "_view_name": "ProgressView",
            "style": "IPY_MODEL_c75c82842a9b4516b7ed483d40dfda26",
            "_dom_classes": [],
            "description": "100%",
            "_model_name": "FloatProgressModel",
            "bar_style": "success",
            "max": 10,
            "_view_module": "@jupyter-widgets/controls",
            "_model_module_version": "1.5.0",
            "value": 10,
            "_view_count": null,
            "_view_module_version": "1.5.0",
            "orientation": "horizontal",
            "min": 0,
            "description_tooltip": null,
            "_model_module": "@jupyter-widgets/controls",
            "layout": "IPY_MODEL_7ef2298111504df187dfb461ad8cd048"
          }
        },
        "ee0bfdd52e3045d0b601d242f34559c6": {
          "model_module": "@jupyter-widgets/controls",
          "model_name": "HTMLModel",
          "state": {
            "_view_name": "HTMLView",
            "style": "IPY_MODEL_5bb9369119874b50bffad134ff1085dd",
            "_dom_classes": [],
            "description": "",
            "_model_name": "HTMLModel",
            "placeholder": "​",
            "_view_module": "@jupyter-widgets/controls",
            "_model_module_version": "1.5.0",
            "value": " 10/10 [00:08&lt;00:00,  1.24it/s]",
            "_view_count": null,
            "_view_module_version": "1.5.0",
            "description_tooltip": null,
            "_model_module": "@jupyter-widgets/controls",
            "layout": "IPY_MODEL_61d93ebf510a4489ac0ddf7e3141fa5a"
          }
        },
        "c75c82842a9b4516b7ed483d40dfda26": {
          "model_module": "@jupyter-widgets/controls",
          "model_name": "ProgressStyleModel",
          "state": {
            "_view_name": "StyleView",
            "_model_name": "ProgressStyleModel",
            "description_width": "initial",
            "_view_module": "@jupyter-widgets/base",
            "_model_module_version": "1.5.0",
            "_view_count": null,
            "_view_module_version": "1.2.0",
            "bar_color": null,
            "_model_module": "@jupyter-widgets/controls"
          }
        },
        "7ef2298111504df187dfb461ad8cd048": {
          "model_module": "@jupyter-widgets/base",
          "model_name": "LayoutModel",
          "state": {
            "_view_name": "LayoutView",
            "grid_template_rows": null,
            "right": null,
            "justify_content": null,
            "_view_module": "@jupyter-widgets/base",
            "overflow": null,
            "_model_module_version": "1.2.0",
            "_view_count": null,
            "flex_flow": null,
            "width": null,
            "min_width": null,
            "border": null,
            "align_items": null,
            "bottom": null,
            "_model_module": "@jupyter-widgets/base",
            "top": null,
            "grid_column": null,
            "overflow_y": null,
            "overflow_x": null,
            "grid_auto_flow": null,
            "grid_area": null,
            "grid_template_columns": null,
            "flex": null,
            "_model_name": "LayoutModel",
            "justify_items": null,
            "grid_row": null,
            "max_height": null,
            "align_content": null,
            "visibility": null,
            "align_self": null,
            "height": null,
            "min_height": null,
            "padding": null,
            "grid_auto_rows": null,
            "grid_gap": null,
            "max_width": null,
            "order": null,
            "_view_module_version": "1.2.0",
            "grid_template_areas": null,
            "object_position": null,
            "object_fit": null,
            "grid_auto_columns": null,
            "margin": null,
            "display": null,
            "left": null
          }
        },
        "5bb9369119874b50bffad134ff1085dd": {
          "model_module": "@jupyter-widgets/controls",
          "model_name": "DescriptionStyleModel",
          "state": {
            "_view_name": "StyleView",
            "_model_name": "DescriptionStyleModel",
            "description_width": "",
            "_view_module": "@jupyter-widgets/base",
            "_model_module_version": "1.5.0",
            "_view_count": null,
            "_view_module_version": "1.2.0",
            "_model_module": "@jupyter-widgets/controls"
          }
        },
        "61d93ebf510a4489ac0ddf7e3141fa5a": {
          "model_module": "@jupyter-widgets/base",
          "model_name": "LayoutModel",
          "state": {
            "_view_name": "LayoutView",
            "grid_template_rows": null,
            "right": null,
            "justify_content": null,
            "_view_module": "@jupyter-widgets/base",
            "overflow": null,
            "_model_module_version": "1.2.0",
            "_view_count": null,
            "flex_flow": null,
            "width": null,
            "min_width": null,
            "border": null,
            "align_items": null,
            "bottom": null,
            "_model_module": "@jupyter-widgets/base",
            "top": null,
            "grid_column": null,
            "overflow_y": null,
            "overflow_x": null,
            "grid_auto_flow": null,
            "grid_area": null,
            "grid_template_columns": null,
            "flex": null,
            "_model_name": "LayoutModel",
            "justify_items": null,
            "grid_row": null,
            "max_height": null,
            "align_content": null,
            "visibility": null,
            "align_self": null,
            "height": null,
            "min_height": null,
            "padding": null,
            "grid_auto_rows": null,
            "grid_gap": null,
            "max_width": null,
            "order": null,
            "_view_module_version": "1.2.0",
            "grid_template_areas": null,
            "object_position": null,
            "object_fit": null,
            "grid_auto_columns": null,
            "margin": null,
            "display": null,
            "left": null
          }
        },
        "b8a714f2ff02465c8c90c70448cf6ed3": {
          "model_module": "@jupyter-widgets/controls",
          "model_name": "HBoxModel",
          "state": {
            "_view_name": "HBoxView",
            "_dom_classes": [],
            "_model_name": "HBoxModel",
            "_view_module": "@jupyter-widgets/controls",
            "_model_module_version": "1.5.0",
            "_view_count": null,
            "_view_module_version": "1.5.0",
            "box_style": "",
            "layout": "IPY_MODEL_47c15d0100184b3dbfdbd2cdb485ba6d",
            "_model_module": "@jupyter-widgets/controls",
            "children": [
              "IPY_MODEL_2e7a589080fc4202a37e52119971dd7a",
              "IPY_MODEL_4d6202f89fcd4cd79cc71495a0a4a6fc"
            ]
          }
        },
        "47c15d0100184b3dbfdbd2cdb485ba6d": {
          "model_module": "@jupyter-widgets/base",
          "model_name": "LayoutModel",
          "state": {
            "_view_name": "LayoutView",
            "grid_template_rows": null,
            "right": null,
            "justify_content": null,
            "_view_module": "@jupyter-widgets/base",
            "overflow": null,
            "_model_module_version": "1.2.0",
            "_view_count": null,
            "flex_flow": null,
            "width": null,
            "min_width": null,
            "border": null,
            "align_items": null,
            "bottom": null,
            "_model_module": "@jupyter-widgets/base",
            "top": null,
            "grid_column": null,
            "overflow_y": null,
            "overflow_x": null,
            "grid_auto_flow": null,
            "grid_area": null,
            "grid_template_columns": null,
            "flex": null,
            "_model_name": "LayoutModel",
            "justify_items": null,
            "grid_row": null,
            "max_height": null,
            "align_content": null,
            "visibility": null,
            "align_self": null,
            "height": null,
            "min_height": null,
            "padding": null,
            "grid_auto_rows": null,
            "grid_gap": null,
            "max_width": null,
            "order": null,
            "_view_module_version": "1.2.0",
            "grid_template_areas": null,
            "object_position": null,
            "object_fit": null,
            "grid_auto_columns": null,
            "margin": null,
            "display": null,
            "left": null
          }
        },
        "2e7a589080fc4202a37e52119971dd7a": {
          "model_module": "@jupyter-widgets/controls",
          "model_name": "FloatProgressModel",
          "state": {
            "_view_name": "ProgressView",
            "style": "IPY_MODEL_aefc4a20159c42bbb2e79cf329341dbd",
            "_dom_classes": [],
            "description": "100%",
            "_model_name": "FloatProgressModel",
            "bar_style": "success",
            "max": 10,
            "_view_module": "@jupyter-widgets/controls",
            "_model_module_version": "1.5.0",
            "value": 10,
            "_view_count": null,
            "_view_module_version": "1.5.0",
            "orientation": "horizontal",
            "min": 0,
            "description_tooltip": null,
            "_model_module": "@jupyter-widgets/controls",
            "layout": "IPY_MODEL_9bf17ffd5c2e4a65af4fe55b26054d61"
          }
        },
        "4d6202f89fcd4cd79cc71495a0a4a6fc": {
          "model_module": "@jupyter-widgets/controls",
          "model_name": "HTMLModel",
          "state": {
            "_view_name": "HTMLView",
            "style": "IPY_MODEL_62a37e75bbd845238bb1d13549f47614",
            "_dom_classes": [],
            "description": "",
            "_model_name": "HTMLModel",
            "placeholder": "​",
            "_view_module": "@jupyter-widgets/controls",
            "_model_module_version": "1.5.0",
            "value": " 10/10 [11:41&lt;00:00, 70.18s/it]",
            "_view_count": null,
            "_view_module_version": "1.5.0",
            "description_tooltip": null,
            "_model_module": "@jupyter-widgets/controls",
            "layout": "IPY_MODEL_10e2fe71673a4e4c814603e56cc9f871"
          }
        },
        "aefc4a20159c42bbb2e79cf329341dbd": {
          "model_module": "@jupyter-widgets/controls",
          "model_name": "ProgressStyleModel",
          "state": {
            "_view_name": "StyleView",
            "_model_name": "ProgressStyleModel",
            "description_width": "initial",
            "_view_module": "@jupyter-widgets/base",
            "_model_module_version": "1.5.0",
            "_view_count": null,
            "_view_module_version": "1.2.0",
            "bar_color": null,
            "_model_module": "@jupyter-widgets/controls"
          }
        },
        "9bf17ffd5c2e4a65af4fe55b26054d61": {
          "model_module": "@jupyter-widgets/base",
          "model_name": "LayoutModel",
          "state": {
            "_view_name": "LayoutView",
            "grid_template_rows": null,
            "right": null,
            "justify_content": null,
            "_view_module": "@jupyter-widgets/base",
            "overflow": null,
            "_model_module_version": "1.2.0",
            "_view_count": null,
            "flex_flow": null,
            "width": null,
            "min_width": null,
            "border": null,
            "align_items": null,
            "bottom": null,
            "_model_module": "@jupyter-widgets/base",
            "top": null,
            "grid_column": null,
            "overflow_y": null,
            "overflow_x": null,
            "grid_auto_flow": null,
            "grid_area": null,
            "grid_template_columns": null,
            "flex": null,
            "_model_name": "LayoutModel",
            "justify_items": null,
            "grid_row": null,
            "max_height": null,
            "align_content": null,
            "visibility": null,
            "align_self": null,
            "height": null,
            "min_height": null,
            "padding": null,
            "grid_auto_rows": null,
            "grid_gap": null,
            "max_width": null,
            "order": null,
            "_view_module_version": "1.2.0",
            "grid_template_areas": null,
            "object_position": null,
            "object_fit": null,
            "grid_auto_columns": null,
            "margin": null,
            "display": null,
            "left": null
          }
        },
        "62a37e75bbd845238bb1d13549f47614": {
          "model_module": "@jupyter-widgets/controls",
          "model_name": "DescriptionStyleModel",
          "state": {
            "_view_name": "StyleView",
            "_model_name": "DescriptionStyleModel",
            "description_width": "",
            "_view_module": "@jupyter-widgets/base",
            "_model_module_version": "1.5.0",
            "_view_count": null,
            "_view_module_version": "1.2.0",
            "_model_module": "@jupyter-widgets/controls"
          }
        },
        "10e2fe71673a4e4c814603e56cc9f871": {
          "model_module": "@jupyter-widgets/base",
          "model_name": "LayoutModel",
          "state": {
            "_view_name": "LayoutView",
            "grid_template_rows": null,
            "right": null,
            "justify_content": null,
            "_view_module": "@jupyter-widgets/base",
            "overflow": null,
            "_model_module_version": "1.2.0",
            "_view_count": null,
            "flex_flow": null,
            "width": null,
            "min_width": null,
            "border": null,
            "align_items": null,
            "bottom": null,
            "_model_module": "@jupyter-widgets/base",
            "top": null,
            "grid_column": null,
            "overflow_y": null,
            "overflow_x": null,
            "grid_auto_flow": null,
            "grid_area": null,
            "grid_template_columns": null,
            "flex": null,
            "_model_name": "LayoutModel",
            "justify_items": null,
            "grid_row": null,
            "max_height": null,
            "align_content": null,
            "visibility": null,
            "align_self": null,
            "height": null,
            "min_height": null,
            "padding": null,
            "grid_auto_rows": null,
            "grid_gap": null,
            "max_width": null,
            "order": null,
            "_view_module_version": "1.2.0",
            "grid_template_areas": null,
            "object_position": null,
            "object_fit": null,
            "grid_auto_columns": null,
            "margin": null,
            "display": null,
            "left": null
          }
        },
        "f3edc2d5c97a4b45af17d3a19a185d53": {
          "model_module": "@jupyter-widgets/controls",
          "model_name": "HBoxModel",
          "state": {
            "_view_name": "HBoxView",
            "_dom_classes": [],
            "_model_name": "HBoxModel",
            "_view_module": "@jupyter-widgets/controls",
            "_model_module_version": "1.5.0",
            "_view_count": null,
            "_view_module_version": "1.5.0",
            "box_style": "",
            "layout": "IPY_MODEL_e55f49e3fa85433cac6c468e44f50c8b",
            "_model_module": "@jupyter-widgets/controls",
            "children": [
              "IPY_MODEL_ada08ce2156542599586d92ea0b8cfc9",
              "IPY_MODEL_631879276eac40d0bf7f60ea02b72323"
            ]
          }
        },
        "e55f49e3fa85433cac6c468e44f50c8b": {
          "model_module": "@jupyter-widgets/base",
          "model_name": "LayoutModel",
          "state": {
            "_view_name": "LayoutView",
            "grid_template_rows": null,
            "right": null,
            "justify_content": null,
            "_view_module": "@jupyter-widgets/base",
            "overflow": null,
            "_model_module_version": "1.2.0",
            "_view_count": null,
            "flex_flow": null,
            "width": null,
            "min_width": null,
            "border": null,
            "align_items": null,
            "bottom": null,
            "_model_module": "@jupyter-widgets/base",
            "top": null,
            "grid_column": null,
            "overflow_y": null,
            "overflow_x": null,
            "grid_auto_flow": null,
            "grid_area": null,
            "grid_template_columns": null,
            "flex": null,
            "_model_name": "LayoutModel",
            "justify_items": null,
            "grid_row": null,
            "max_height": null,
            "align_content": null,
            "visibility": null,
            "align_self": null,
            "height": null,
            "min_height": null,
            "padding": null,
            "grid_auto_rows": null,
            "grid_gap": null,
            "max_width": null,
            "order": null,
            "_view_module_version": "1.2.0",
            "grid_template_areas": null,
            "object_position": null,
            "object_fit": null,
            "grid_auto_columns": null,
            "margin": null,
            "display": null,
            "left": null
          }
        },
        "ada08ce2156542599586d92ea0b8cfc9": {
          "model_module": "@jupyter-widgets/controls",
          "model_name": "FloatProgressModel",
          "state": {
            "_view_name": "ProgressView",
            "style": "IPY_MODEL_d3ee732d654e4fffb8235af39ed9bd14",
            "_dom_classes": [],
            "description": "100%",
            "_model_name": "FloatProgressModel",
            "bar_style": "success",
            "max": 10,
            "_view_module": "@jupyter-widgets/controls",
            "_model_module_version": "1.5.0",
            "value": 10,
            "_view_count": null,
            "_view_module_version": "1.5.0",
            "orientation": "horizontal",
            "min": 0,
            "description_tooltip": null,
            "_model_module": "@jupyter-widgets/controls",
            "layout": "IPY_MODEL_9f53ef5da77745b683716641cd064118"
          }
        },
        "631879276eac40d0bf7f60ea02b72323": {
          "model_module": "@jupyter-widgets/controls",
          "model_name": "HTMLModel",
          "state": {
            "_view_name": "HTMLView",
            "style": "IPY_MODEL_cc496558b8a8476da4ceb060cf2f4391",
            "_dom_classes": [],
            "description": "",
            "_model_name": "HTMLModel",
            "placeholder": "​",
            "_view_module": "@jupyter-widgets/controls",
            "_model_module_version": "1.5.0",
            "value": " 10/10 [00:26&lt;00:00,  2.63s/it]",
            "_view_count": null,
            "_view_module_version": "1.5.0",
            "description_tooltip": null,
            "_model_module": "@jupyter-widgets/controls",
            "layout": "IPY_MODEL_ee78d2237bb8448cad5ed6bbb49af933"
          }
        },
        "d3ee732d654e4fffb8235af39ed9bd14": {
          "model_module": "@jupyter-widgets/controls",
          "model_name": "ProgressStyleModel",
          "state": {
            "_view_name": "StyleView",
            "_model_name": "ProgressStyleModel",
            "description_width": "initial",
            "_view_module": "@jupyter-widgets/base",
            "_model_module_version": "1.5.0",
            "_view_count": null,
            "_view_module_version": "1.2.0",
            "bar_color": null,
            "_model_module": "@jupyter-widgets/controls"
          }
        },
        "9f53ef5da77745b683716641cd064118": {
          "model_module": "@jupyter-widgets/base",
          "model_name": "LayoutModel",
          "state": {
            "_view_name": "LayoutView",
            "grid_template_rows": null,
            "right": null,
            "justify_content": null,
            "_view_module": "@jupyter-widgets/base",
            "overflow": null,
            "_model_module_version": "1.2.0",
            "_view_count": null,
            "flex_flow": null,
            "width": null,
            "min_width": null,
            "border": null,
            "align_items": null,
            "bottom": null,
            "_model_module": "@jupyter-widgets/base",
            "top": null,
            "grid_column": null,
            "overflow_y": null,
            "overflow_x": null,
            "grid_auto_flow": null,
            "grid_area": null,
            "grid_template_columns": null,
            "flex": null,
            "_model_name": "LayoutModel",
            "justify_items": null,
            "grid_row": null,
            "max_height": null,
            "align_content": null,
            "visibility": null,
            "align_self": null,
            "height": null,
            "min_height": null,
            "padding": null,
            "grid_auto_rows": null,
            "grid_gap": null,
            "max_width": null,
            "order": null,
            "_view_module_version": "1.2.0",
            "grid_template_areas": null,
            "object_position": null,
            "object_fit": null,
            "grid_auto_columns": null,
            "margin": null,
            "display": null,
            "left": null
          }
        },
        "cc496558b8a8476da4ceb060cf2f4391": {
          "model_module": "@jupyter-widgets/controls",
          "model_name": "DescriptionStyleModel",
          "state": {
            "_view_name": "StyleView",
            "_model_name": "DescriptionStyleModel",
            "description_width": "",
            "_view_module": "@jupyter-widgets/base",
            "_model_module_version": "1.5.0",
            "_view_count": null,
            "_view_module_version": "1.2.0",
            "_model_module": "@jupyter-widgets/controls"
          }
        },
        "ee78d2237bb8448cad5ed6bbb49af933": {
          "model_module": "@jupyter-widgets/base",
          "model_name": "LayoutModel",
          "state": {
            "_view_name": "LayoutView",
            "grid_template_rows": null,
            "right": null,
            "justify_content": null,
            "_view_module": "@jupyter-widgets/base",
            "overflow": null,
            "_model_module_version": "1.2.0",
            "_view_count": null,
            "flex_flow": null,
            "width": null,
            "min_width": null,
            "border": null,
            "align_items": null,
            "bottom": null,
            "_model_module": "@jupyter-widgets/base",
            "top": null,
            "grid_column": null,
            "overflow_y": null,
            "overflow_x": null,
            "grid_auto_flow": null,
            "grid_area": null,
            "grid_template_columns": null,
            "flex": null,
            "_model_name": "LayoutModel",
            "justify_items": null,
            "grid_row": null,
            "max_height": null,
            "align_content": null,
            "visibility": null,
            "align_self": null,
            "height": null,
            "min_height": null,
            "padding": null,
            "grid_auto_rows": null,
            "grid_gap": null,
            "max_width": null,
            "order": null,
            "_view_module_version": "1.2.0",
            "grid_template_areas": null,
            "object_position": null,
            "object_fit": null,
            "grid_auto_columns": null,
            "margin": null,
            "display": null,
            "left": null
          }
        }
      }
    },
    "accelerator": "GPU"
  },
  "cells": [
    {
      "cell_type": "markdown",
      "metadata": {
        "id": "view-in-github",
        "colab_type": "text"
      },
      "source": [
        "<a href=\"https://colab.research.google.com/github/JaimeRedondo/Mushrooms_Classification/blob/master/Mushrooms_Classification.ipynb\" target=\"_parent\"><img src=\"https://colab.research.google.com/assets/colab-badge.svg\" alt=\"Open In Colab\"/></a>"
      ]
    },
    {
      "cell_type": "markdown",
      "metadata": {
        "id": "KEqnwo-vV2nq"
      },
      "source": [
        "# Libraries Import"
      ]
    },
    {
      "cell_type": "code",
      "metadata": {
        "id": "vz6dxutvauCY",
        "colab": {
          "base_uri": "https://localhost:8080/"
        },
        "outputId": "60af2ece-837a-4ca5-c8a0-2cbacdf9f81c"
      },
      "source": [
        "#working with images\n",
        "! pip install opencv-python\n",
        "from matplotlib import image\n",
        "from matplotlib import pyplot\n",
        "from skimage import io\n",
        "import cv2\n",
        "import os\n",
        "import skimage\n",
        "from skimage import data, io, filters, transform\n",
        "\n",
        "#--Web scraping packages\n",
        "from bs4 import BeautifulSoup\n",
        "import requests\n",
        "import itertools\n",
        "from urllib.request import Request, urlopen\n",
        "import urllib.request\n",
        "\n",
        "#Pandas/numpy for data manipulation\n",
        "import pandas as pd\n",
        "import numpy as np\n",
        "from urllib.request import urlopen\n",
        "\n",
        "#barrita de progreso\n",
        "from tqdm.notebook import tqdm\n",
        "from time import sleep \n",
        "\n",
        "#Visualize data\n",
        "%pylab inline\n",
        "plt.style.use('seaborn-talk')\n",
        "\n",
        "#import deep learning libraries\n",
        "from tensorflow.keras import optimizers\n",
        "from tensorflow.keras import losses\n",
        "from tensorflow.keras import metrics\n",
        "from tensorflow.keras.utils import to_categorical\n",
        "from tensorflow.keras import models\n",
        "from tensorflow.keras import layers\n",
        "from tensorflow.keras import Input\n",
        "import tensorflow as tf\n",
        "\n"
      ],
      "execution_count": 3,
      "outputs": [
        {
          "output_type": "stream",
          "text": [
            "Requirement already satisfied: opencv-python in /usr/local/lib/python3.6/dist-packages (4.1.2.30)\n",
            "Requirement already satisfied: numpy>=1.11.3 in /usr/local/lib/python3.6/dist-packages (from opencv-python) (1.19.5)\n",
            "Populating the interactive namespace from numpy and matplotlib\n"
          ],
          "name": "stdout"
        }
      ]
    },
    {
      "cell_type": "code",
      "metadata": {
        "colab": {
          "base_uri": "https://localhost:8080/"
        },
        "id": "IIFuc4SycnAg",
        "outputId": "993a02b8-ebd6-4dce-e02d-617a52940d9e"
      },
      "source": [
        "from google.colab import drive\n",
        "\n",
        "drive.mount('/content/drive')"
      ],
      "execution_count": 4,
      "outputs": [
        {
          "output_type": "stream",
          "text": [
            "Drive already mounted at /content/drive; to attempt to forcibly remount, call drive.mount(\"/content/drive\", force_remount=True).\n"
          ],
          "name": "stdout"
        }
      ]
    },
    {
      "cell_type": "markdown",
      "metadata": {
        "id": "6YlGuovebGvf"
      },
      "source": [
        "# Define Functions"
      ]
    },
    {
      "cell_type": "markdown",
      "metadata": {
        "id": "gPoo0Ru5BPFI"
      },
      "source": [
        "\n",
        "\n",
        "Plotting function to see test and validation accuracy\n"
      ]
    },
    {
      "cell_type": "code",
      "metadata": {
        "id": "W__YZ3HnBNdb"
      },
      "source": [
        "#To plot test,train,and validation accuracy metrics.\n",
        "\n",
        "def plot_metric(history, metric):\n",
        "    history_dict = history.history\n",
        "    values = history_dict[metric]\n",
        "    if 'val_' + metric in history_dict.keys():  \n",
        "        val_values = history_dict['val_' + metric]\n",
        "\n",
        "    epochs = range(1, len(values) + 1)\n",
        "\n",
        "    if 'val_' + metric in history_dict.keys():  \n",
        "        plt.plot(epochs, val_values, label='Validation')\n",
        "    plt.semilogy(epochs, values, label='Training')\n",
        "\n",
        "    if 'val_' + metric in history_dict.keys():  \n",
        "        plt.title('Training and validation %s' % metric)\n",
        "    else:\n",
        "        plt.title('Training %s' % metric)\n",
        "    plt.xlabel('Epochs')\n",
        "    plt.ylabel(metric.capitalize())\n",
        "    plt.legend()\n",
        "    plt.grid()\n",
        "\n",
        "    plt.show()  \n",
        "\n",
        "\n",
        "#to see mushrooms when I want\n",
        "def plot_mushroom_image(N, imgs, labels):\n",
        "    print(labels[N])\n",
        "    plt.imshow(imgs[N,], cmap=plt.cm.binary)\n",
        "    plt.grid(True)"
      ],
      "execution_count": 5,
      "outputs": []
    },
    {
      "cell_type": "code",
      "metadata": {
        "colab": {
          "base_uri": "https://localhost:8080/",
          "height": 66,
          "referenced_widgets": [
            "ddcdbc58b0114caa8021235cd037e969",
            "6299cf1a2b7a45f49f66f9bafc6f07cf",
            "bd2179ce1dde4f5bbec684c2f973b1cc",
            "121a1d0b3d3845bc96c662fe508146d7",
            "07a3f65eca394c2097665812210b2fbb",
            "404afedc74974e29a9fbcbb006c5fe0f",
            "6e75dddc5e06427e8996ebc1b05d30c0",
            "50590b88db02479cabdba7d0a3ca0e0d"
          ]
        },
        "id": "Xh4E5MBCs-U2",
        "outputId": "7c558c78-8cc7-4e46-bf44-8b8ac130f2ac"
      },
      "source": [
        "mushrooms_directory=[]\n",
        "for folder in tqdm(os.listdir('/content/drive/MyDrive/Mushrooms_Classification')):\n",
        "    if '.' in folder:\n",
        "        pass\n",
        "    else:\n",
        "        mushrooms_directory.append(folder)\n",
        "        \n",
        "mushrooms_directory=sorted(mushrooms_directory)"
      ],
      "execution_count": 6,
      "outputs": [
        {
          "output_type": "display_data",
          "data": {
            "application/vnd.jupyter.widget-view+json": {
              "model_id": "ddcdbc58b0114caa8021235cd037e969",
              "version_minor": 0,
              "version_major": 2
            },
            "text/plain": [
              "HBox(children=(FloatProgress(value=0.0, max=14.0), HTML(value='')))"
            ]
          },
          "metadata": {
            "tags": []
          }
        },
        {
          "output_type": "stream",
          "text": [
            "\n"
          ],
          "name": "stdout"
        }
      ]
    },
    {
      "cell_type": "code",
      "metadata": {
        "colab": {
          "base_uri": "https://localhost:8080/"
        },
        "id": "0i5hRH4u9AKW",
        "outputId": "6bd74e22-7ed2-4412-87b0-9611ea7b7e5b"
      },
      "source": [
        "mushrooms_directory"
      ],
      "execution_count": 7,
      "outputs": [
        {
          "output_type": "execute_result",
          "data": {
            "text/plain": [
              "['Abortiporus biennis',\n",
              " 'Adelphella babingtonii',\n",
              " 'Agaricus arvensis',\n",
              " 'Agaricus campestris',\n",
              " 'Agaricus litoralis',\n",
              " 'Agaricus sylvaticus',\n",
              " 'Agaricus sylvicola',\n",
              " 'Agaricus urinascens',\n",
              " 'Agaricus xanthodermus',\n",
              " 'Agrocybe praecox']"
            ]
          },
          "metadata": {
            "tags": []
          },
          "execution_count": 7
        }
      ]
    },
    {
      "cell_type": "code",
      "metadata": {
        "id": "Ln1J9f_Xoodn"
      },
      "source": [
        "#resize all images shape in 28x28 and print what photos are not available\n",
        "def resize_photos(directory):\n",
        "    \n",
        "    for folder in tqdm(directory):\n",
        "        for numero in range(20):\n",
        "            try:\n",
        "                route = '/content/drive/MyDrive/Mushrooms_Classification/'+folder +'/'+ str(numero) + '.jpg'\n",
        "                data_picture = io.imread(route)\n",
        "                data_picture = cv2.resize(data_picture, (200, 200))\n",
        "                # save the images\n",
        "                cv2.imwrite(route,data_picture)\n",
        "            except:  \n",
        "                print(\"imagen \"+str(numero)+' de la seta '+folder+' no está disponible')\n",
        "\n",
        "#standarize 0_255 pixels to 0 - 1.\n",
        "lista=[]\n",
        "def standarize_pixels_and_augmentation(directory):\n",
        "    for folder in tqdm(directory):\n",
        "        for numero in range(20):\n",
        "            try:\n",
        "                route ='/content/drive/MyDrive/Mushrooms_Classification/'+folder +'/'+ str(numero) + '.jpg'\n",
        "                image_rgb=io.imread(route)/255.0\n",
        "\n",
        "                ##DATA AUGMENTATION##\n",
        "\n",
        "                flip_1 = np.fliplr(image_rgb)\n",
        "                #mirror with vertical line on right\n",
        "\n",
        "\n",
        "                rot_90 = tf.image.rot90(image_rgb, k=1)\n",
        "                rot_180 = tf.image.rot90(image_rgb, k=2)\n",
        "                rot_270 = tf.image.rot90(image_rgb, k=3)\n",
        "                #rotation of 90, 180 and 270 grades\n",
        "\n",
        "                #now we are going to crop the imgs, can be whatever siza of crop we want\n",
        "                height, width = image_rgb.shape[0:2]\n",
        "\n",
        "                startRow = int(height*.15)\n",
        "\n",
        "                startCol = int(width*.15)\n",
        "\n",
        "                endRow = int(height*.85)\n",
        "\n",
        "                endCol = int(width*.85)\n",
        "\n",
        "                croppedImage = image_rgb[startRow:endRow, startCol:endCol]\n",
        "\n",
        "                croppedImage = cv2.resize(croppedImage, (200, 200))\n",
        "\n",
        "                #now we are going to add contrast\n",
        "\n",
        "                contrast_img = cv2.addWeighted(image_rgb, 1.5, np.zeros(image_rgb.shape, image_rgb.dtype), 0, 0)\n",
        "\n",
        "                #desenfoque del 50% cogiendo la mediana de los pixeles\n",
        "                #blur_image = cv2.medianBlur(img,1)\n",
        "\n",
        "                #add to list\n",
        "\n",
        "                lista.append(image_rgb)\n",
        "                lista.append(flip_1)\n",
        "                lista.append(rot_90)\n",
        "                lista.append(rot_180)\n",
        "                lista.append(rot_270)\n",
        "                lista.append(croppedImage)\n",
        "                lista.append(contrast_img)\n",
        "                #lista.append(blur_image)\n",
        "\n",
        "            except:\n",
        "                print(folder+str(numero))                \n",
        "\n",
        "\n",
        "def standarize_photos(directory):\n",
        "    print(\"reshaping pictures...\")\n",
        "    resize_photos(directory)\n",
        "    print(\"Normalizing pixels...\")\n",
        "    standarize_pixels_and_augmentation(directory)  "
      ],
      "execution_count": 10,
      "outputs": []
    },
    {
      "cell_type": "markdown",
      "metadata": {
        "id": "Dx-wFgxrk8od"
      },
      "source": [
        "# Preparing data"
      ]
    },
    {
      "cell_type": "code",
      "metadata": {
        "id": "3Hr4dafxohyo",
        "colab": {
          "base_uri": "https://localhost:8080/",
          "height": 185,
          "referenced_widgets": [
            "9ec5efd0696b4c17aa4ed501fe63da3d",
            "ca9ec2187f834811a49bf0ab5d12b7f2",
            "2963569c846a4df081c9bc2343a6d7ab",
            "ee0bfdd52e3045d0b601d242f34559c6",
            "c75c82842a9b4516b7ed483d40dfda26",
            "7ef2298111504df187dfb461ad8cd048",
            "5bb9369119874b50bffad134ff1085dd",
            "61d93ebf510a4489ac0ddf7e3141fa5a",
            "b8a714f2ff02465c8c90c70448cf6ed3",
            "47c15d0100184b3dbfdbd2cdb485ba6d",
            "2e7a589080fc4202a37e52119971dd7a",
            "4d6202f89fcd4cd79cc71495a0a4a6fc",
            "aefc4a20159c42bbb2e79cf329341dbd",
            "9bf17ffd5c2e4a65af4fe55b26054d61",
            "62a37e75bbd845238bb1d13549f47614",
            "10e2fe71673a4e4c814603e56cc9f871"
          ]
        },
        "outputId": "3ac01983-4d48-4636-a346-df458d836970"
      },
      "source": [
        "standarize_photos(mushrooms_directory)"
      ],
      "execution_count": 11,
      "outputs": [
        {
          "output_type": "stream",
          "text": [
            "reshaping pictures...\n"
          ],
          "name": "stdout"
        },
        {
          "output_type": "display_data",
          "data": {
            "application/vnd.jupyter.widget-view+json": {
              "model_id": "9ec5efd0696b4c17aa4ed501fe63da3d",
              "version_minor": 0,
              "version_major": 2
            },
            "text/plain": [
              "HBox(children=(FloatProgress(value=0.0, max=10.0), HTML(value='')))"
            ]
          },
          "metadata": {
            "tags": []
          }
        },
        {
          "output_type": "stream",
          "text": [
            "imagen 4 de la seta Agaricus sylvaticus no está disponible\n",
            "\n",
            "Normalizing pixels...\n"
          ],
          "name": "stdout"
        },
        {
          "output_type": "display_data",
          "data": {
            "application/vnd.jupyter.widget-view+json": {
              "model_id": "b8a714f2ff02465c8c90c70448cf6ed3",
              "version_minor": 0,
              "version_major": 2
            },
            "text/plain": [
              "HBox(children=(FloatProgress(value=0.0, max=10.0), HTML(value='')))"
            ]
          },
          "metadata": {
            "tags": []
          }
        },
        {
          "output_type": "stream",
          "text": [
            "Agaricus sylvaticus4\n",
            "\n"
          ],
          "name": "stdout"
        }
      ]
    },
    {
      "cell_type": "code",
      "metadata": {
        "colab": {
          "base_uri": "https://localhost:8080/"
        },
        "id": "bfZSi1daZMAX",
        "outputId": "3fc94bae-ca5f-4850-9f6f-1e93249670f9"
      },
      "source": [
        "len(lista)"
      ],
      "execution_count": 12,
      "outputs": [
        {
          "output_type": "execute_result",
          "data": {
            "text/plain": [
              "1393"
            ]
          },
          "metadata": {
            "tags": []
          },
          "execution_count": 12
        }
      ]
    },
    {
      "cell_type": "code",
      "metadata": {
        "id": "stlp7T-MdLCQ",
        "colab": {
          "base_uri": "https://localhost:8080/",
          "height": 66,
          "referenced_widgets": [
            "f3edc2d5c97a4b45af17d3a19a185d53",
            "e55f49e3fa85433cac6c468e44f50c8b",
            "ada08ce2156542599586d92ea0b8cfc9",
            "631879276eac40d0bf7f60ea02b72323",
            "d3ee732d654e4fffb8235af39ed9bd14",
            "9f53ef5da77745b683716641cd064118",
            "cc496558b8a8476da4ceb060cf2f4391",
            "ee78d2237bb8448cad5ed6bbb49af933"
          ]
        },
        "outputId": "a62f6719-2878-4668-cd4d-3ee95f64447e"
      },
      "source": [
        "lista_categories=[]\n",
        "for folder in tqdm(mushrooms_directory):\n",
        "    for i in range(140):\n",
        "        lista_categories.append(folder)\n",
        "        \n",
        "train_labels=np.array(lista_categories)"
      ],
      "execution_count": 44,
      "outputs": [
        {
          "output_type": "display_data",
          "data": {
            "application/vnd.jupyter.widget-view+json": {
              "model_id": "f3edc2d5c97a4b45af17d3a19a185d53",
              "version_minor": 0,
              "version_major": 2
            },
            "text/plain": [
              "HBox(children=(FloatProgress(value=0.0, max=10.0), HTML(value='')))"
            ]
          },
          "metadata": {
            "tags": []
          }
        },
        {
          "output_type": "stream",
          "text": [
            "\n"
          ],
          "name": "stdout"
        }
      ]
    },
    {
      "cell_type": "code",
      "metadata": {
        "id": "3A_5NrCbazjQ"
      },
      "source": [
        "train_labels = list(train_labels)"
      ],
      "execution_count": 46,
      "outputs": []
    },
    {
      "cell_type": "code",
      "metadata": {
        "id": "25Zqn-TOX3qm"
      },
      "source": [
        "train_labels.remove('Agaricus sylvaticus')"
      ],
      "execution_count": 57,
      "outputs": []
    },
    {
      "cell_type": "code",
      "metadata": {
        "id": "RrGw5FEEbG7l"
      },
      "source": [
        "train_labels = np.array(train_labels)"
      ],
      "execution_count": 58,
      "outputs": []
    },
    {
      "cell_type": "code",
      "metadata": {
        "colab": {
          "base_uri": "https://localhost:8080/"
        },
        "id": "27dstI_FbR2O",
        "outputId": "13f312a4-27d3-4075-e405-626c233c7a6e"
      },
      "source": [
        "len(train_labels)"
      ],
      "execution_count": 59,
      "outputs": [
        {
          "output_type": "execute_result",
          "data": {
            "text/plain": [
              "1393"
            ]
          },
          "metadata": {
            "tags": []
          },
          "execution_count": 59
        }
      ]
    },
    {
      "cell_type": "code",
      "metadata": {
        "id": "iEnampXcpm0J"
      },
      "source": [
        "train_images = lista"
      ],
      "execution_count": 15,
      "outputs": []
    },
    {
      "cell_type": "code",
      "metadata": {
        "colab": {
          "base_uri": "https://localhost:8080/"
        },
        "id": "v3Sh7jPgbFbD",
        "outputId": "802cbe9a-5e36-4f9f-b680-6e6c05f73349"
      },
      "source": [
        "len(train_images)"
      ],
      "execution_count": 16,
      "outputs": [
        {
          "output_type": "execute_result",
          "data": {
            "text/plain": [
              "1393"
            ]
          },
          "metadata": {
            "tags": []
          },
          "execution_count": 16
        }
      ]
    },
    {
      "cell_type": "code",
      "metadata": {
        "id": "JAfDLGjMwN5o"
      },
      "source": [
        "test_labels=[]\n",
        "for element in range(0,len(train_labels),140):\n",
        "  test_labels.append(train_labels[element])\n",
        "  test_labels.append(train_labels[element+7])"
      ],
      "execution_count": 37,
      "outputs": []
    },
    {
      "cell_type": "code",
      "metadata": {
        "id": "4EGR2bgm-YZm",
        "colab": {
          "base_uri": "https://localhost:8080/"
        },
        "outputId": "a50ca38a-dd6e-4542-a7b1-11af10a87ecc"
      },
      "source": [
        "test_labels"
      ],
      "execution_count": 38,
      "outputs": [
        {
          "output_type": "execute_result",
          "data": {
            "text/plain": [
              "['Abortiporus biennis',\n",
              " 'Abortiporus biennis',\n",
              " 'Adelphella babingtonii',\n",
              " 'Adelphella babingtonii',\n",
              " 'Agaricus arvensis',\n",
              " 'Agaricus arvensis',\n",
              " 'Agaricus campestris',\n",
              " 'Agaricus campestris',\n",
              " 'Agaricus litoralis',\n",
              " 'Agaricus litoralis',\n",
              " 'Agaricus sylvaticus',\n",
              " 'Agaricus sylvaticus',\n",
              " 'Agaricus sylvicola',\n",
              " 'Agaricus sylvicola',\n",
              " 'Agaricus urinascens',\n",
              " 'Agaricus urinascens',\n",
              " 'Agaricus xanthodermus',\n",
              " 'Agaricus xanthodermus',\n",
              " 'Agrocybe praecox',\n",
              " 'Agrocybe praecox']"
            ]
          },
          "metadata": {
            "tags": []
          },
          "execution_count": 38
        }
      ]
    },
    {
      "cell_type": "code",
      "metadata": {
        "id": "NNcsMkzhyURC"
      },
      "source": [
        "test_images=[]\n",
        "for element in range(0,len(train_images),140):\n",
        "  test_images.append(train_images[element])\n",
        "  test_images.append(train_images[element+7])\n"
      ],
      "execution_count": 39,
      "outputs": []
    },
    {
      "cell_type": "code",
      "metadata": {
        "id": "rJpVLjuLjdzJ",
        "colab": {
          "base_uri": "https://localhost:8080/"
        },
        "outputId": "a47ccb30-b2c5-4ac0-f487-7d4ca32e369a"
      },
      "source": [
        "len(train_images)"
      ],
      "execution_count": 40,
      "outputs": [
        {
          "output_type": "execute_result",
          "data": {
            "text/plain": [
              "1393"
            ]
          },
          "metadata": {
            "tags": []
          },
          "execution_count": 40
        }
      ]
    },
    {
      "cell_type": "code",
      "metadata": {
        "id": "5AXtzY2Yu3H6",
        "colab": {
          "base_uri": "https://localhost:8080/"
        },
        "outputId": "39fdaccc-695d-4afd-9c38-ebaaa4d85798"
      },
      "source": [
        "len(test_labels)"
      ],
      "execution_count": 41,
      "outputs": [
        {
          "output_type": "execute_result",
          "data": {
            "text/plain": [
              "20"
            ]
          },
          "metadata": {
            "tags": []
          },
          "execution_count": 41
        }
      ]
    },
    {
      "cell_type": "code",
      "metadata": {
        "id": "igKhOFKtlrRv",
        "colab": {
          "base_uri": "https://localhost:8080/"
        },
        "outputId": "dc87b2e9-29fe-4103-bc77-4d39b006f051"
      },
      "source": [
        "len(test_images)"
      ],
      "execution_count": 42,
      "outputs": [
        {
          "output_type": "execute_result",
          "data": {
            "text/plain": [
              "20"
            ]
          },
          "metadata": {
            "tags": []
          },
          "execution_count": 42
        }
      ]
    },
    {
      "cell_type": "code",
      "metadata": {
        "id": "DwL2o2vUvFAU",
        "colab": {
          "base_uri": "https://localhost:8080/"
        },
        "outputId": "5c3929be-692d-4edc-dcd5-0dd6373055f2"
      },
      "source": [
        "lista_nueva_images=[]\n",
        "for element in range(0,len(train_images),140):\n",
        "  lista_partida = train_images[element:element+140]\n",
        "  lista_partida = lista_partida[1:7]+lista_partida[8:]\n",
        "  lista_nueva_images.append(lista_partida)\n",
        "\n",
        "lista_nueva_images = [item for lista in lista_nueva_images for item in lista]\n",
        "\n",
        "len(lista_nueva_images)"
      ],
      "execution_count": 60,
      "outputs": [
        {
          "output_type": "execute_result",
          "data": {
            "text/plain": [
              "1373"
            ]
          },
          "metadata": {
            "tags": []
          },
          "execution_count": 60
        }
      ]
    },
    {
      "cell_type": "code",
      "metadata": {
        "colab": {
          "base_uri": "https://localhost:8080/"
        },
        "id": "Pz_Ba_cNZ93d",
        "outputId": "cdcbef6e-dac7-4d42-b9a4-0244d777d439"
      },
      "source": [
        "len(train_labels)"
      ],
      "execution_count": 61,
      "outputs": [
        {
          "output_type": "execute_result",
          "data": {
            "text/plain": [
              "1393"
            ]
          },
          "metadata": {
            "tags": []
          },
          "execution_count": 61
        }
      ]
    },
    {
      "cell_type": "code",
      "metadata": {
        "id": "9wzHtpZxbdvu"
      },
      "source": [
        "train_labels = list(train_labels)\n"
      ],
      "execution_count": 65,
      "outputs": []
    },
    {
      "cell_type": "code",
      "metadata": {
        "id": "KljNhHa67g20",
        "colab": {
          "base_uri": "https://localhost:8080/"
        },
        "outputId": "ec0ba28b-b8c3-4d26-94dd-ccabf9b446ad"
      },
      "source": [
        "lista_nueva_labels=[]\n",
        "for element in range(0,len(train_labels),140):\n",
        "  lista_partida = train_labels[element:element+140]\n",
        "  lista_partida = lista_partida[1:7]+lista_partida[8:]\n",
        "  lista_nueva_labels.append(lista_partida)\n",
        "\n",
        "lista_nueva_labels = [item for lista in lista_nueva_labels for item in lista]\n",
        "\n",
        "len(lista_nueva_labels)"
      ],
      "execution_count": 66,
      "outputs": [
        {
          "output_type": "execute_result",
          "data": {
            "text/plain": [
              "1373"
            ]
          },
          "metadata": {
            "tags": []
          },
          "execution_count": 66
        }
      ]
    },
    {
      "cell_type": "code",
      "metadata": {
        "id": "dQWuuk-OfZVM"
      },
      "source": [
        "for i in range(len(lista_nueva_images)):\n",
        "\n",
        "  if lista_nueva_images[i].shape != (200,200,3):\n",
        "    print(lista_nueva_images[i].shape,i)\n",
        "\n",
        "  #esto lo hago para que no haya problemas de fotos en blanco y negro únicamente"
      ],
      "execution_count": 67,
      "outputs": []
    },
    {
      "cell_type": "code",
      "metadata": {
        "id": "iB21HGRY8BIP"
      },
      "source": [
        "#transformamos otra vez a arrays los datos de train y de test\n",
        "\n",
        "train_images, train_labels, test_images, test_labels = np.array(lista_nueva_images), np.array (lista_nueva_labels), np.array(test_images), np.array(test_labels)"
      ],
      "execution_count": 68,
      "outputs": []
    },
    {
      "cell_type": "code",
      "metadata": {
        "id": "CbmnI5eB87Kv",
        "colab": {
          "base_uri": "https://localhost:8080/"
        },
        "outputId": "e2c3f8b3-b1a9-43d5-ec10-d4f5588e87e4"
      },
      "source": [
        "test_images.shape"
      ],
      "execution_count": 69,
      "outputs": [
        {
          "output_type": "execute_result",
          "data": {
            "text/plain": [
              "(20, 200, 200, 3)"
            ]
          },
          "metadata": {
            "tags": []
          },
          "execution_count": 69
        }
      ]
    },
    {
      "cell_type": "code",
      "metadata": {
        "id": "8Y3yw38Xdat2",
        "colab": {
          "base_uri": "https://localhost:8080/",
          "height": 466
        },
        "outputId": "7e577d2f-662b-4dcd-dc3a-42a29b569bc7"
      },
      "source": [
        "plot_mushroom_image(7,test_images,test_labels)"
      ],
      "execution_count": 79,
      "outputs": [
        {
          "output_type": "stream",
          "text": [
            "Agaricus campestris\n"
          ],
          "name": "stdout"
        },
        {
          "output_type": "display_data",
          "data": {
            "image/png": "[encoded data removed]",
            "text/plain": [
              "<Figure size 748.8x514.8 with 1 Axes>"
            ]
          },
          "metadata": {
            "tags": [],
            "needs_background": "light"
          }
        }
      ]
    },
    {
      "cell_type": "code",
      "metadata": {
        "id": "RQU9jVmxgyec",
        "colab": {
          "base_uri": "https://localhost:8080/"
        },
        "outputId": "3022baad-606f-4e98-a2db-32a9e567f014"
      },
      "source": [
        "train_labels.shape\n",
        "#cambiar formato nombres para que funcionen"
      ],
      "execution_count": 80,
      "outputs": [
        {
          "output_type": "execute_result",
          "data": {
            "text/plain": [
              "(1373,)"
            ]
          },
          "metadata": {
            "tags": []
          },
          "execution_count": 80
        }
      ]
    },
    {
      "cell_type": "code",
      "metadata": {
        "id": "xDHBAqLyjeEx",
        "colab": {
          "base_uri": "https://localhost:8080/"
        },
        "outputId": "0bcec685-2109-4985-b3be-2f5d51385d03"
      },
      "source": [
        "np.unique(train_labels)"
      ],
      "execution_count": 81,
      "outputs": [
        {
          "output_type": "execute_result",
          "data": {
            "text/plain": [
              "array(['Abortiporus biennis', 'Adelphella babingtonii',\n",
              "       'Agaricus arvensis', 'Agaricus campestris', 'Agaricus litoralis',\n",
              "       'Agaricus sylvaticus', 'Agaricus sylvicola', 'Agaricus urinascens',\n",
              "       'Agaricus xanthodermus', 'Agrocybe praecox'], dtype='<U22')"
            ]
          },
          "metadata": {
            "tags": []
          },
          "execution_count": 81
        }
      ]
    },
    {
      "cell_type": "code",
      "metadata": {
        "id": "uo8xHoDSiVI3"
      },
      "source": [
        "l1 = list(range(10))\n",
        "l2 = list(np.unique(train_labels))\n",
        "d = dict(zip(l1,l2))\n",
        "#create a dictionary to use one hot encoder"
      ],
      "execution_count": 82,
      "outputs": []
    },
    {
      "cell_type": "code",
      "metadata": {
        "id": "T0tUzraljwpk",
        "colab": {
          "base_uri": "https://localhost:8080/"
        },
        "outputId": "d65a8212-028a-4cde-a1d6-64312d6e53e7"
      },
      "source": [
        "d"
      ],
      "execution_count": 83,
      "outputs": [
        {
          "output_type": "execute_result",
          "data": {
            "text/plain": [
              "{0: 'Abortiporus biennis',\n",
              " 1: 'Adelphella babingtonii',\n",
              " 2: 'Agaricus arvensis',\n",
              " 3: 'Agaricus campestris',\n",
              " 4: 'Agaricus litoralis',\n",
              " 5: 'Agaricus sylvaticus',\n",
              " 6: 'Agaricus sylvicola',\n",
              " 7: 'Agaricus urinascens',\n",
              " 8: 'Agaricus xanthodermus',\n",
              " 9: 'Agrocybe praecox'}"
            ]
          },
          "metadata": {
            "tags": []
          },
          "execution_count": 83
        }
      ]
    },
    {
      "cell_type": "code",
      "metadata": {
        "id": "-d_PJENHczSL"
      },
      "source": [
        "listote=range(0,3)"
      ],
      "execution_count": 97,
      "outputs": []
    },
    {
      "cell_type": "code",
      "metadata": {
        "id": "Jo5QjEJhc4MY"
      },
      "source": [
        "listonin = list(listote)"
      ],
      "execution_count": 105,
      "outputs": []
    },
    {
      "cell_type": "code",
      "metadata": {
        "id": "ivdvjnbVdEIV"
      },
      "source": [
        "listonin.append(6)"
      ],
      "execution_count": 107,
      "outputs": []
    },
    {
      "cell_type": "code",
      "metadata": {
        "id": "58TsiNY_dUzs"
      },
      "source": [
        "listonin.remove(6)"
      ],
      "execution_count": 109,
      "outputs": []
    },
    {
      "cell_type": "code",
      "metadata": {
        "colab": {
          "base_uri": "https://localhost:8080/"
        },
        "id": "MhqhLSEAdYIY",
        "outputId": "73d08e84-51d9-4d9b-b928-8e98719e8dd7"
      },
      "source": [
        "listonin"
      ],
      "execution_count": 110,
      "outputs": [
        {
          "output_type": "execute_result",
          "data": {
            "text/plain": [
              "[0, 1, 2]"
            ]
          },
          "metadata": {
            "tags": []
          },
          "execution_count": 110
        }
      ]
    },
    {
      "cell_type": "code",
      "metadata": {
        "id": "exRVBCC3j5e_"
      },
      "source": [
        "train_labels_nums = sorted(list(d.keys())*138)\n",
        "\n",
        "test_labels_nums = sorted(list(d.keys())*2)"
      ],
      "execution_count": 84,
      "outputs": []
    },
    {
      "cell_type": "code",
      "metadata": {
        "id": "DiGBRnTUcMV0"
      },
      "source": [
        "train_labels_nums.remove(5)"
      ],
      "execution_count": 117,
      "outputs": []
    },
    {
      "cell_type": "code",
      "metadata": {
        "colab": {
          "base_uri": "https://localhost:8080/"
        },
        "id": "LUyTe2AIchLN",
        "outputId": "07b16f8d-a884-498f-f844-c8a7c1e710d8"
      },
      "source": [
        "len(train_labels_nums)"
      ],
      "execution_count": 118,
      "outputs": [
        {
          "output_type": "execute_result",
          "data": {
            "text/plain": [
              "1373"
            ]
          },
          "metadata": {
            "tags": []
          },
          "execution_count": 118
        }
      ]
    },
    {
      "cell_type": "code",
      "metadata": {
        "id": "ETJutFw8l9iN",
        "colab": {
          "base_uri": "https://localhost:8080/"
        },
        "outputId": "68c5f26e-9ab5-4df9-98bc-050083973f70"
      },
      "source": [
        "len(test_labels_nums), len(train_labels_nums)"
      ],
      "execution_count": 119,
      "outputs": [
        {
          "output_type": "execute_result",
          "data": {
            "text/plain": [
              "(20, 1373)"
            ]
          },
          "metadata": {
            "tags": []
          },
          "execution_count": 119
        }
      ]
    },
    {
      "cell_type": "markdown",
      "metadata": {
        "id": "hRKWdcqXfYnW"
      },
      "source": [
        "Transform to one hot encoder the 10 classes we hace for now"
      ]
    },
    {
      "cell_type": "code",
      "metadata": {
        "id": "yWfJeYxGdaww",
        "colab": {
          "base_uri": "https://localhost:8080/"
        },
        "outputId": "2859b7b6-7a96-4473-f01f-8d6644968ea4"
      },
      "source": [
        "#transformamos a onehot nuestros targets \n",
        "onehot_train=to_categorical(train_labels_nums,num_classes=10)\n",
        "\n",
        "\n",
        "onehot_test=to_categorical(test_labels_nums,num_classes=10)\n",
        "\n",
        "onehot_train.shape,onehot_test.shape"
      ],
      "execution_count": 120,
      "outputs": [
        {
          "output_type": "execute_result",
          "data": {
            "text/plain": [
              "((1373, 10), (20, 10))"
            ]
          },
          "metadata": {
            "tags": []
          },
          "execution_count": 120
        }
      ]
    },
    {
      "cell_type": "code",
      "metadata": {
        "id": "p8E8N2-k8vle"
      },
      "source": [
        "import pandas as pd\n",
        "import numpy as np\n",
        "import matplotlib.pyplot as plt\n",
        "import matplotlib.image as mpimg\n",
        "import seaborn as sns\n",
        "%matplotlib inline\n",
        "\n",
        "np.random.seed(2)\n",
        "\n",
        "from sklearn.model_selection import train_test_split\n",
        "from sklearn.metrics import confusion_matrix\n",
        "import itertools\n",
        "\n",
        "from keras.utils.np_utils import to_categorical # convert to one-hot-encoding\n",
        "from keras.models import Sequential\n",
        "from keras.layers import Dense, Dropout, Flatten, Conv2D, MaxPool2D\n",
        "from keras.optimizers import RMSprop\n",
        "from keras.preprocessing.image import ImageDataGenerator\n",
        "from keras.callbacks import ReduceLROnPlateau"
      ],
      "execution_count": 121,
      "outputs": []
    },
    {
      "cell_type": "markdown",
      "metadata": {
        "id": "XOC9nYAylNuM"
      },
      "source": [
        "# Applying CNN (Convolutional Neural Network)"
      ]
    },
    {
      "cell_type": "markdown",
      "metadata": {
        "id": "9Xkp9-YokkT_"
      },
      "source": [
        "Vamos a crear nuestra primera red neuronal convolucional"
      ]
    },
    {
      "cell_type": "code",
      "metadata": {
        "id": "3si9lLeb7hZE"
      },
      "source": [
        "def build():  \n",
        "  model = Sequential()\n",
        "\n",
        "  model.add(Conv2D(filters = 32, kernel_size = (3,3),padding = 'Same', \n",
        "                 activation ='relu', input_shape = (200,200,3)))\n",
        "  #model.add(Conv2D(filters = 8, kernel_size = (5,5),padding = 'Same', \n",
        "                 #activation ='relu'))\n",
        "  #model.add(MaxPool2D(pool_size=(3,3)))\n",
        "  #model.add(Dropout(0.5))\n",
        "\n",
        "\n",
        "  #model.add(Conv2D(filters = 16, kernel_size = (3,3),padding = 'Same', \n",
        "                 #activation ='relu'))\n",
        "  #model.add(Conv2D(filters = 32, kernel_size = (3,3),padding = 'Same', \n",
        "                 #activation ='relu'))\n",
        "  #model.add(MaxPool2D(pool_size=(2,2), strides=(2,2)))\n",
        "  #model.add(Dropout(0.5))\n",
        "\n",
        "\n",
        "  model.add(Flatten())\n",
        "  model.add(Dense(250, activation = \"relu\"))\n",
        "  model.add(Dropout(0.5))\n",
        "\n",
        "  model.add(Dense(10, activation = \"softmax\"))\n",
        "\n",
        "  model.summary()\n",
        "\n",
        "  return model"
      ],
      "execution_count": 132,
      "outputs": []
    },
    {
      "cell_type": "code",
      "metadata": {
        "id": "vdgKuZYak59X",
        "colab": {
          "base_uri": "https://localhost:8080/"
        },
        "outputId": "f47880fc-45cf-4ce2-d07c-e8f0ae8f7b00"
      },
      "source": [
        "model=build()"
      ],
      "execution_count": 133,
      "outputs": [
        {
          "output_type": "stream",
          "text": [
            "Model: \"sequential_1\"\n",
            "_________________________________________________________________\n",
            "Layer (type)                 Output Shape              Param #   \n",
            "=================================================================\n",
            "conv2d_4 (Conv2D)            (None, 200, 200, 32)      896       \n",
            "_________________________________________________________________\n",
            "flatten_1 (Flatten)          (None, 1280000)           0         \n",
            "_________________________________________________________________\n",
            "dense_2 (Dense)              (None, 250)               320000250 \n",
            "_________________________________________________________________\n",
            "dropout_3 (Dropout)          (None, 250)               0         \n",
            "_________________________________________________________________\n",
            "dense_3 (Dense)              (None, 10)                2510      \n",
            "=================================================================\n",
            "Total params: 320,003,656\n",
            "Trainable params: 320,003,656\n",
            "Non-trainable params: 0\n",
            "_________________________________________________________________\n"
          ],
          "name": "stdout"
        }
      ]
    },
    {
      "cell_type": "code",
      "metadata": {
        "id": "CCOMHV6Mfv7K"
      },
      "source": [
        ""
      ],
      "execution_count": 133,
      "outputs": []
    },
    {
      "cell_type": "code",
      "metadata": {
        "id": "-Yk153KAk-r2"
      },
      "source": [
        "model.compile(optimizer=optimizers.Adam(),loss=losses.categorical_crossentropy,metrics=[metrics.categorical_accuracy])"
      ],
      "execution_count": 134,
      "outputs": []
    },
    {
      "cell_type": "code",
      "metadata": {
        "id": "0tbwtE-blZLu",
        "colab": {
          "base_uri": "https://localhost:8080/"
        },
        "outputId": "491ea86a-a8f1-4c0b-ee49-facfd04aea6b"
      },
      "source": [
        "train_images.shape"
      ],
      "execution_count": 135,
      "outputs": [
        {
          "output_type": "execute_result",
          "data": {
            "text/plain": [
              "(1373, 200, 200, 3)"
            ]
          },
          "metadata": {
            "tags": []
          },
          "execution_count": 135
        }
      ]
    },
    {
      "cell_type": "code",
      "metadata": {
        "id": "57j2rShyle47",
        "colab": {
          "base_uri": "https://localhost:8080/"
        },
        "outputId": "9e187325-6322-47ec-8996-9eef20f3e1ba"
      },
      "source": [
        "onehot_train.shape"
      ],
      "execution_count": 136,
      "outputs": [
        {
          "output_type": "execute_result",
          "data": {
            "text/plain": [
              "(1373, 10)"
            ]
          },
          "metadata": {
            "tags": []
          },
          "execution_count": 136
        }
      ]
    },
    {
      "cell_type": "markdown",
      "metadata": {
        "id": "PNK1FvrFdZfP"
      },
      "source": [
        "y vamos con el modelo"
      ]
    },
    {
      "cell_type": "code",
      "metadata": {
        "id": "PHe5GulblLPH",
        "colab": {
          "base_uri": "https://localhost:8080/"
        },
        "outputId": "6cd0f1b8-48ee-4d4a-fff1-f908ee71d93d"
      },
      "source": [
        " h = model.fit (train_images,onehot_train,batch_size= 40,epochs=30,validation_split=0.2)"
      ],
      "execution_count": 137,
      "outputs": [
        {
          "output_type": "stream",
          "text": [
            "Epoch 1/30\n",
            "28/28 [==============================] - 4s 118ms/step - loss: 43.3001 - categorical_accuracy: 0.1716 - val_loss: 3.2358 - val_categorical_accuracy: 0.0000e+00\n",
            "Epoch 2/30\n",
            "28/28 [==============================] - 3s 108ms/step - loss: 1.9637 - categorical_accuracy: 0.2393 - val_loss: 8.0152 - val_categorical_accuracy: 0.0000e+00\n",
            "Epoch 3/30\n",
            "28/28 [==============================] - 3s 110ms/step - loss: 1.5029 - categorical_accuracy: 0.4533 - val_loss: 11.5279 - val_categorical_accuracy: 0.0000e+00\n",
            "Epoch 4/30\n",
            "28/28 [==============================] - 3s 110ms/step - loss: 1.1015 - categorical_accuracy: 0.6325 - val_loss: 15.2696 - val_categorical_accuracy: 0.0000e+00\n",
            "Epoch 5/30\n",
            "28/28 [==============================] - 3s 110ms/step - loss: 0.7931 - categorical_accuracy: 0.7320 - val_loss: 17.3699 - val_categorical_accuracy: 0.0000e+00\n",
            "Epoch 6/30\n",
            "28/28 [==============================] - 3s 109ms/step - loss: 0.5375 - categorical_accuracy: 0.8132 - val_loss: 22.4420 - val_categorical_accuracy: 0.0000e+00\n",
            "Epoch 7/30\n",
            "28/28 [==============================] - 3s 110ms/step - loss: 0.4302 - categorical_accuracy: 0.8568 - val_loss: 20.0665 - val_categorical_accuracy: 0.0000e+00\n",
            "Epoch 8/30\n",
            "28/28 [==============================] - 3s 110ms/step - loss: 0.3608 - categorical_accuracy: 0.8987 - val_loss: 23.4889 - val_categorical_accuracy: 0.0000e+00\n",
            "Epoch 9/30\n",
            "28/28 [==============================] - 3s 110ms/step - loss: 0.2262 - categorical_accuracy: 0.9512 - val_loss: 23.2264 - val_categorical_accuracy: 0.0000e+00\n",
            "Epoch 10/30\n",
            "28/28 [==============================] - 3s 110ms/step - loss: 0.2474 - categorical_accuracy: 0.9197 - val_loss: 21.4143 - val_categorical_accuracy: 0.0000e+00\n",
            "Epoch 11/30\n",
            "28/28 [==============================] - 3s 110ms/step - loss: 0.2182 - categorical_accuracy: 0.9576 - val_loss: 27.4430 - val_categorical_accuracy: 0.0036\n",
            "Epoch 12/30\n",
            "28/28 [==============================] - 3s 109ms/step - loss: 0.1358 - categorical_accuracy: 0.9639 - val_loss: 26.5838 - val_categorical_accuracy: 0.0036\n",
            "Epoch 13/30\n",
            "28/28 [==============================] - 3s 110ms/step - loss: 0.1996 - categorical_accuracy: 0.9436 - val_loss: 21.2896 - val_categorical_accuracy: 0.0036\n",
            "Epoch 14/30\n",
            "28/28 [==============================] - 3s 109ms/step - loss: 0.2332 - categorical_accuracy: 0.9303 - val_loss: 22.3318 - val_categorical_accuracy: 0.0036\n",
            "Epoch 15/30\n",
            "28/28 [==============================] - 3s 110ms/step - loss: 0.2309 - categorical_accuracy: 0.9574 - val_loss: 28.5796 - val_categorical_accuracy: 0.0036\n",
            "Epoch 16/30\n",
            "28/28 [==============================] - 3s 109ms/step - loss: 0.1497 - categorical_accuracy: 0.9585 - val_loss: 30.0221 - val_categorical_accuracy: 0.0036\n",
            "Epoch 17/30\n",
            "28/28 [==============================] - 3s 109ms/step - loss: 0.1431 - categorical_accuracy: 0.9645 - val_loss: 33.5524 - val_categorical_accuracy: 0.0036\n",
            "Epoch 18/30\n",
            "28/28 [==============================] - 3s 110ms/step - loss: 0.1563 - categorical_accuracy: 0.9513 - val_loss: 33.9309 - val_categorical_accuracy: 0.0036\n",
            "Epoch 19/30\n",
            "28/28 [==============================] - 3s 110ms/step - loss: 0.1372 - categorical_accuracy: 0.9642 - val_loss: 26.0106 - val_categorical_accuracy: 0.0036\n",
            "Epoch 20/30\n",
            "28/28 [==============================] - 3s 110ms/step - loss: 0.1271 - categorical_accuracy: 0.9747 - val_loss: 31.6107 - val_categorical_accuracy: 0.0036\n",
            "Epoch 21/30\n",
            "28/28 [==============================] - 3s 110ms/step - loss: 0.0929 - categorical_accuracy: 0.9693 - val_loss: 28.1428 - val_categorical_accuracy: 0.0036\n",
            "Epoch 22/30\n",
            "28/28 [==============================] - 3s 109ms/step - loss: 0.1360 - categorical_accuracy: 0.9710 - val_loss: 34.4750 - val_categorical_accuracy: 0.0036\n",
            "Epoch 23/30\n",
            "28/28 [==============================] - 3s 110ms/step - loss: 0.1030 - categorical_accuracy: 0.9667 - val_loss: 30.6157 - val_categorical_accuracy: 0.0036\n",
            "Epoch 24/30\n",
            "28/28 [==============================] - 3s 111ms/step - loss: 0.1216 - categorical_accuracy: 0.9622 - val_loss: 26.6503 - val_categorical_accuracy: 0.0036\n",
            "Epoch 25/30\n",
            "28/28 [==============================] - 3s 111ms/step - loss: 0.1216 - categorical_accuracy: 0.9711 - val_loss: 28.7817 - val_categorical_accuracy: 0.0036\n",
            "Epoch 26/30\n",
            "28/28 [==============================] - 3s 110ms/step - loss: 0.1004 - categorical_accuracy: 0.9730 - val_loss: 35.5600 - val_categorical_accuracy: 0.0036\n",
            "Epoch 27/30\n",
            "28/28 [==============================] - 3s 111ms/step - loss: 0.0772 - categorical_accuracy: 0.9747 - val_loss: 22.0418 - val_categorical_accuracy: 0.0036\n",
            "Epoch 28/30\n",
            "28/28 [==============================] - 3s 110ms/step - loss: 0.0696 - categorical_accuracy: 0.9740 - val_loss: 34.9992 - val_categorical_accuracy: 0.0036\n",
            "Epoch 29/30\n",
            "28/28 [==============================] - 3s 114ms/step - loss: 0.0661 - categorical_accuracy: 0.9763 - val_loss: 40.3923 - val_categorical_accuracy: 0.0036\n",
            "Epoch 30/30\n",
            "28/28 [==============================] - 3s 109ms/step - loss: 0.0802 - categorical_accuracy: 0.9693 - val_loss: 27.9595 - val_categorical_accuracy: 0.0036\n"
          ],
          "name": "stdout"
        }
      ]
    },
    {
      "cell_type": "markdown",
      "metadata": {
        "id": "QmgOQTUHla7s"
      },
      "source": [
        "### Evaluating the model"
      ]
    },
    {
      "cell_type": "code",
      "metadata": {
        "id": "h5Je_tJf_-vG",
        "colab": {
          "base_uri": "https://localhost:8080/",
          "height": 603
        },
        "outputId": "a0cef6e7-e8eb-4ea3-aac0-cfc7d18fab0a"
      },
      "source": [
        "plot_metric(h,'loss')\n",
        "plot_metric(h,'categorical_accuracy')"
      ],
      "execution_count": 138,
      "outputs": [
        {
          "output_type": "display_data",
          "data": {
            "image/png": "[encoded data removed]",
            "text/plain": [
              "<Figure size 432x288 with 1 Axes>"
            ]
          },
          "metadata": {
            "tags": [],
            "needs_background": "light"
          }
        },
        {
          "output_type": "display_data",
          "data": {
            "image/png": "[encoded data removed]",
            "text/plain": [
              "<Figure size 432x288 with 1 Axes>"
            ]
          },
          "metadata": {
            "tags": [],
            "needs_background": "light"
          }
        }
      ]
    },
    {
      "cell_type": "code",
      "metadata": {
        "id": "EpRFkGy-mfR1",
        "colab": {
          "base_uri": "https://localhost:8080/"
        },
        "outputId": "c5538f8a-5d3d-43cb-e3ec-db232555556c"
      },
      "source": [
        "model.evaluate(test_images,onehot_test)"
      ],
      "execution_count": 139,
      "outputs": [
        {
          "output_type": "stream",
          "text": [
            "1/1 [==============================] - 0s 69ms/step - loss: 4.4187 - categorical_accuracy: 0.7500\n"
          ],
          "name": "stdout"
        },
        {
          "output_type": "execute_result",
          "data": {
            "text/plain": [
              "[4.4187493324279785, 0.75]"
            ]
          },
          "metadata": {
            "tags": []
          },
          "execution_count": 139
        }
      ]
    },
    {
      "cell_type": "markdown",
      "metadata": {
        "id": "XTGE36V5lhyC"
      },
      "source": [
        "### Doing predictions"
      ]
    },
    {
      "cell_type": "code",
      "metadata": {
        "id": "UWfb_eClAKYl",
        "colab": {
          "base_uri": "https://localhost:8080/"
        },
        "outputId": "00a03660-2c2e-4952-9f53-8af37e234784"
      },
      "source": [
        "y_pred = model.predict_classes(test_images)\n",
        "y_pred"
      ],
      "execution_count": 140,
      "outputs": [
        {
          "output_type": "stream",
          "text": [
            "/usr/local/lib/python3.6/dist-packages/tensorflow/python/keras/engine/sequential.py:450: UserWarning: `model.predict_classes()` is deprecated and will be removed after 2021-01-01. Please use instead:* `np.argmax(model.predict(x), axis=-1)`,   if your model does multi-class classification   (e.g. if it uses a `softmax` last-layer activation).* `(model.predict(x) > 0.5).astype(\"int32\")`,   if your model does binary classification   (e.g. if it uses a `sigmoid` last-layer activation).\n",
            "  warnings.warn('`model.predict_classes()` is deprecated and '\n"
          ],
          "name": "stderr"
        },
        {
          "output_type": "execute_result",
          "data": {
            "text/plain": [
              "array([0, 0, 1, 1, 2, 2, 2, 3, 4, 4, 5, 5, 6, 6, 7, 7, 6, 7, 5, 5])"
            ]
          },
          "metadata": {
            "tags": []
          },
          "execution_count": 140
        }
      ]
    },
    {
      "cell_type": "code",
      "metadata": {
        "id": "rC_ouIJHzw60"
      },
      "source": [
        "test_labels\n",
        "target_names = pd.Series(test_labels).drop_duplicates()"
      ],
      "execution_count": 141,
      "outputs": []
    },
    {
      "cell_type": "code",
      "metadata": {
        "id": "ps2JoX3Awu1P",
        "colab": {
          "base_uri": "https://localhost:8080/"
        },
        "outputId": "0d1e6300-a1e8-4c1a-ee0e-e2bcef6784e3"
      },
      "source": [
        "d.keys()"
      ],
      "execution_count": 142,
      "outputs": [
        {
          "output_type": "execute_result",
          "data": {
            "text/plain": [
              "dict_keys([0, 1, 2, 3, 4, 5, 6, 7, 8, 9])"
            ]
          },
          "metadata": {
            "tags": []
          },
          "execution_count": 142
        }
      ]
    },
    {
      "cell_type": "code",
      "metadata": {
        "id": "bEPJkWglwyMh"
      },
      "source": [
        "predictions=[]\n",
        "for i in y_pred:\n",
        "  predictions.append(d.get(i))"
      ],
      "execution_count": 143,
      "outputs": []
    },
    {
      "cell_type": "code",
      "metadata": {
        "id": "Pd6G9Srhx2eD",
        "colab": {
          "base_uri": "https://localhost:8080/"
        },
        "outputId": "1fd806aa-ffaf-440e-9cfc-75b703fe3b07"
      },
      "source": [
        "predictions"
      ],
      "execution_count": 144,
      "outputs": [
        {
          "output_type": "execute_result",
          "data": {
            "text/plain": [
              "['Abortiporus biennis',\n",
              " 'Abortiporus biennis',\n",
              " 'Adelphella babingtonii',\n",
              " 'Adelphella babingtonii',\n",
              " 'Agaricus arvensis',\n",
              " 'Agaricus arvensis',\n",
              " 'Agaricus arvensis',\n",
              " 'Agaricus campestris',\n",
              " 'Agaricus litoralis',\n",
              " 'Agaricus litoralis',\n",
              " 'Agaricus sylvaticus',\n",
              " 'Agaricus sylvaticus',\n",
              " 'Agaricus sylvicola',\n",
              " 'Agaricus sylvicola',\n",
              " 'Agaricus urinascens',\n",
              " 'Agaricus urinascens',\n",
              " 'Agaricus sylvicola',\n",
              " 'Agaricus urinascens',\n",
              " 'Agaricus sylvaticus',\n",
              " 'Agaricus sylvaticus']"
            ]
          },
          "metadata": {
            "tags": []
          },
          "execution_count": 144
        }
      ]
    },
    {
      "cell_type": "code",
      "metadata": {
        "colab": {
          "base_uri": "https://localhost:8080/"
        },
        "id": "rheWFsiDiYEF",
        "outputId": "231254b1-2241-4678-8271-ecca8021cf83"
      },
      "source": [
        "test_labels"
      ],
      "execution_count": 162,
      "outputs": [
        {
          "output_type": "execute_result",
          "data": {
            "text/plain": [
              "array(['Abortiporus biennis', 'Abortiporus biennis',\n",
              "       'Adelphella babingtonii', 'Adelphella babingtonii',\n",
              "       'Agaricus arvensis', 'Agaricus arvensis', 'Agaricus campestris',\n",
              "       'Agaricus campestris', 'Agaricus litoralis', 'Agaricus litoralis',\n",
              "       'Agaricus sylvaticus', 'Agaricus sylvaticus', 'Agaricus sylvicola',\n",
              "       'Agaricus sylvicola', 'Agaricus urinascens', 'Agaricus urinascens',\n",
              "       'Agaricus xanthodermus', 'Agaricus xanthodermus',\n",
              "       'Agrocybe praecox', 'Agrocybe praecox'], dtype='<U22')"
            ]
          },
          "metadata": {
            "tags": []
          },
          "execution_count": 162
        }
      ]
    },
    {
      "cell_type": "markdown",
      "metadata": {
        "id": "PvPA6ilIlnDa"
      },
      "source": [
        "### Evaluating the test data"
      ]
    },
    {
      "cell_type": "code",
      "metadata": {
        "id": "D4Yi-3jyfCKj"
      },
      "source": [
        "from sklearn.metrics import confusion_matrix\n",
        "\n",
        "\n",
        "cm=confusion_matrix(test_labels, predictions, labels=target_names)"
      ],
      "execution_count": 163,
      "outputs": []
    },
    {
      "cell_type": "code",
      "metadata": {
        "colab": {
          "base_uri": "https://localhost:8080/",
          "height": 296
        },
        "id": "7Zd6J5j6inqc",
        "outputId": "8b2516a4-a05f-43a2-ebf6-4c06dc1b653e"
      },
      "source": [
        "sns.heatmap(cm,annot=True,cmap=\"YlGnBu\")"
      ],
      "execution_count": 169,
      "outputs": [
        {
          "output_type": "execute_result",
          "data": {
            "text/plain": [
              "<matplotlib.axes._subplots.AxesSubplot at 0x7f1c29586f98>"
            ]
          },
          "metadata": {
            "tags": []
          },
          "execution_count": 169
        },
        {
          "output_type": "display_data",
          "data": {
            "image/png": "[encoded data removed]",
            "text/plain": [
              "<Figure size 432x288 with 2 Axes>"
            ]
          },
          "metadata": {
            "tags": [],
            "needs_background": "light"
          }
        }
      ]
    },
    {
      "cell_type": "code",
      "metadata": {
        "id": "USJFpBGEp7LJ"
      },
      "source": [
        ""
      ],
      "execution_count": null,
      "outputs": []
    }
  ]
}