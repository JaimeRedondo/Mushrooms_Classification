{
  "nbformat": 4,
  "nbformat_minor": 0,
  "metadata": {
    "accelerator": "GPU",
    "colab": {
      "name": "Mushrooms_Classification.ipynb",
      "provenance": [],
      "collapsed_sections": [
        "KEqnwo-vV2nq",
        "m2gO0JrFIG8J",
        "LPcNroEVsd7F",
        "2U56_5cMsxNi",
        "Dx-wFgxrk8od",
        "pn6CpUGDthuT",
        "gyc5KxDFdhtI",
        "hRKWdcqXfYnW",
        "XOC9nYAylNuM",
        "VerxmCnyEqW1",
        "XTGE36V5lhyC",
        "aAY31WWibLqp",
        "lrhLEPToXHvE",
        "snsxjgH3M6BE"
      ],
      "authorship_tag": "ABX9TyNQxfwqVTLQRrlRV3Ol0Jy5",
      "include_colab_link": true
    },
    "kernelspec": {
      "display_name": "Python 3",
      "name": "python3"
    },
    "widgets": {
      "application/vnd.jupyter.widget-state+json": {
        "4f8d67d49c224bd5bdcba4314777afed": {
          "model_module": "@jupyter-widgets/controls",
          "model_name": "HBoxModel",
          "state": {
            "_view_name": "HBoxView",
            "_dom_classes": [],
            "_model_name": "HBoxModel",
            "_view_module": "@jupyter-widgets/controls",
            "_model_module_version": "1.5.0",
            "_view_count": null,
            "_view_module_version": "1.5.0",
            "box_style": "",
            "layout": "IPY_MODEL_a010f32095a849c3b46331122215ce8b",
            "_model_module": "@jupyter-widgets/controls",
            "children": [
              "IPY_MODEL_cf0f2de4fec2462b8f9191da6fef0992",
              "IPY_MODEL_4e5280684cd0459a90ee7fffc78829ef"
            ]
          }
        },
        "a010f32095a849c3b46331122215ce8b": {
          "model_module": "@jupyter-widgets/base",
          "model_name": "LayoutModel",
          "state": {
            "_view_name": "LayoutView",
            "grid_template_rows": null,
            "right": null,
            "justify_content": null,
            "_view_module": "@jupyter-widgets/base",
            "overflow": null,
            "_model_module_version": "1.2.0",
            "_view_count": null,
            "flex_flow": null,
            "width": null,
            "min_width": null,
            "border": null,
            "align_items": null,
            "bottom": null,
            "_model_module": "@jupyter-widgets/base",
            "top": null,
            "grid_column": null,
            "overflow_y": null,
            "overflow_x": null,
            "grid_auto_flow": null,
            "grid_area": null,
            "grid_template_columns": null,
            "flex": null,
            "_model_name": "LayoutModel",
            "justify_items": null,
            "grid_row": null,
            "max_height": null,
            "align_content": null,
            "visibility": null,
            "align_self": null,
            "height": null,
            "min_height": null,
            "padding": null,
            "grid_auto_rows": null,
            "grid_gap": null,
            "max_width": null,
            "order": null,
            "_view_module_version": "1.2.0",
            "grid_template_areas": null,
            "object_position": null,
            "object_fit": null,
            "grid_auto_columns": null,
            "margin": null,
            "display": null,
            "left": null
          }
        },
        "cf0f2de4fec2462b8f9191da6fef0992": {
          "model_module": "@jupyter-widgets/controls",
          "model_name": "FloatProgressModel",
          "state": {
            "_view_name": "ProgressView",
            "style": "IPY_MODEL_7203226da78e41b3afdc711a6c75faa9",
            "_dom_classes": [],
            "description": "100%",
            "_model_name": "FloatProgressModel",
            "bar_style": "success",
            "max": 48,
            "_view_module": "@jupyter-widgets/controls",
            "_model_module_version": "1.5.0",
            "value": 48,
            "_view_count": null,
            "_view_module_version": "1.5.0",
            "orientation": "horizontal",
            "min": 0,
            "description_tooltip": null,
            "_model_module": "@jupyter-widgets/controls",
            "layout": "IPY_MODEL_ea6817799f4c4d08b8b7015a567752f4"
          }
        },
        "4e5280684cd0459a90ee7fffc78829ef": {
          "model_module": "@jupyter-widgets/controls",
          "model_name": "HTMLModel",
          "state": {
            "_view_name": "HTMLView",
            "style": "IPY_MODEL_157d8c1878854b85b80fde0532d1aefe",
            "_dom_classes": [],
            "description": "",
            "_model_name": "HTMLModel",
            "placeholder": "​",
            "_view_module": "@jupyter-widgets/controls",
            "_model_module_version": "1.5.0",
            "value": " 48/48 [10:51&lt;00:00, 13.57s/it]",
            "_view_count": null,
            "_view_module_version": "1.5.0",
            "description_tooltip": null,
            "_model_module": "@jupyter-widgets/controls",
            "layout": "IPY_MODEL_a23496b0da4e487db0478cf9a0059c11"
          }
        },
        "7203226da78e41b3afdc711a6c75faa9": {
          "model_module": "@jupyter-widgets/controls",
          "model_name": "ProgressStyleModel",
          "state": {
            "_view_name": "StyleView",
            "_model_name": "ProgressStyleModel",
            "description_width": "initial",
            "_view_module": "@jupyter-widgets/base",
            "_model_module_version": "1.5.0",
            "_view_count": null,
            "_view_module_version": "1.2.0",
            "bar_color": null,
            "_model_module": "@jupyter-widgets/controls"
          }
        },
        "ea6817799f4c4d08b8b7015a567752f4": {
          "model_module": "@jupyter-widgets/base",
          "model_name": "LayoutModel",
          "state": {
            "_view_name": "LayoutView",
            "grid_template_rows": null,
            "right": null,
            "justify_content": null,
            "_view_module": "@jupyter-widgets/base",
            "overflow": null,
            "_model_module_version": "1.2.0",
            "_view_count": null,
            "flex_flow": null,
            "width": null,
            "min_width": null,
            "border": null,
            "align_items": null,
            "bottom": null,
            "_model_module": "@jupyter-widgets/base",
            "top": null,
            "grid_column": null,
            "overflow_y": null,
            "overflow_x": null,
            "grid_auto_flow": null,
            "grid_area": null,
            "grid_template_columns": null,
            "flex": null,
            "_model_name": "LayoutModel",
            "justify_items": null,
            "grid_row": null,
            "max_height": null,
            "align_content": null,
            "visibility": null,
            "align_self": null,
            "height": null,
            "min_height": null,
            "padding": null,
            "grid_auto_rows": null,
            "grid_gap": null,
            "max_width": null,
            "order": null,
            "_view_module_version": "1.2.0",
            "grid_template_areas": null,
            "object_position": null,
            "object_fit": null,
            "grid_auto_columns": null,
            "margin": null,
            "display": null,
            "left": null
          }
        },
        "157d8c1878854b85b80fde0532d1aefe": {
          "model_module": "@jupyter-widgets/controls",
          "model_name": "DescriptionStyleModel",
          "state": {
            "_view_name": "StyleView",
            "_model_name": "DescriptionStyleModel",
            "description_width": "",
            "_view_module": "@jupyter-widgets/base",
            "_model_module_version": "1.5.0",
            "_view_count": null,
            "_view_module_version": "1.2.0",
            "_model_module": "@jupyter-widgets/controls"
          }
        },
        "a23496b0da4e487db0478cf9a0059c11": {
          "model_module": "@jupyter-widgets/base",
          "model_name": "LayoutModel",
          "state": {
            "_view_name": "LayoutView",
            "grid_template_rows": null,
            "right": null,
            "justify_content": null,
            "_view_module": "@jupyter-widgets/base",
            "overflow": null,
            "_model_module_version": "1.2.0",
            "_view_count": null,
            "flex_flow": null,
            "width": null,
            "min_width": null,
            "border": null,
            "align_items": null,
            "bottom": null,
            "_model_module": "@jupyter-widgets/base",
            "top": null,
            "grid_column": null,
            "overflow_y": null,
            "overflow_x": null,
            "grid_auto_flow": null,
            "grid_area": null,
            "grid_template_columns": null,
            "flex": null,
            "_model_name": "LayoutModel",
            "justify_items": null,
            "grid_row": null,
            "max_height": null,
            "align_content": null,
            "visibility": null,
            "align_self": null,
            "height": null,
            "min_height": null,
            "padding": null,
            "grid_auto_rows": null,
            "grid_gap": null,
            "max_width": null,
            "order": null,
            "_view_module_version": "1.2.0",
            "grid_template_areas": null,
            "object_position": null,
            "object_fit": null,
            "grid_auto_columns": null,
            "margin": null,
            "display": null,
            "left": null
          }
        },
        "cc533a7631f644aabcf5d782d0e9b17b": {
          "model_module": "@jupyter-widgets/controls",
          "model_name": "HBoxModel",
          "state": {
            "_view_name": "HBoxView",
            "_dom_classes": [],
            "_model_name": "HBoxModel",
            "_view_module": "@jupyter-widgets/controls",
            "_model_module_version": "1.5.0",
            "_view_count": null,
            "_view_module_version": "1.5.0",
            "box_style": "",
            "layout": "IPY_MODEL_5ba0c314366e47f6bb1b979ca22dc61d",
            "_model_module": "@jupyter-widgets/controls",
            "children": [
              "IPY_MODEL_0f68b87111084ff694b07d86d51c3e64",
              "IPY_MODEL_ffe44c24e92141aca3ee83371995b039"
            ]
          }
        },
        "5ba0c314366e47f6bb1b979ca22dc61d": {
          "model_module": "@jupyter-widgets/base",
          "model_name": "LayoutModel",
          "state": {
            "_view_name": "LayoutView",
            "grid_template_rows": null,
            "right": null,
            "justify_content": null,
            "_view_module": "@jupyter-widgets/base",
            "overflow": null,
            "_model_module_version": "1.2.0",
            "_view_count": null,
            "flex_flow": null,
            "width": null,
            "min_width": null,
            "border": null,
            "align_items": null,
            "bottom": null,
            "_model_module": "@jupyter-widgets/base",
            "top": null,
            "grid_column": null,
            "overflow_y": null,
            "overflow_x": null,
            "grid_auto_flow": null,
            "grid_area": null,
            "grid_template_columns": null,
            "flex": null,
            "_model_name": "LayoutModel",
            "justify_items": null,
            "grid_row": null,
            "max_height": null,
            "align_content": null,
            "visibility": null,
            "align_self": null,
            "height": null,
            "min_height": null,
            "padding": null,
            "grid_auto_rows": null,
            "grid_gap": null,
            "max_width": null,
            "order": null,
            "_view_module_version": "1.2.0",
            "grid_template_areas": null,
            "object_position": null,
            "object_fit": null,
            "grid_auto_columns": null,
            "margin": null,
            "display": null,
            "left": null
          }
        },
        "0f68b87111084ff694b07d86d51c3e64": {
          "model_module": "@jupyter-widgets/controls",
          "model_name": "FloatProgressModel",
          "state": {
            "_view_name": "ProgressView",
            "style": "IPY_MODEL_ef8b8f1f13054041acde538ee2008ed8",
            "_dom_classes": [],
            "description": "100%",
            "_model_name": "FloatProgressModel",
            "bar_style": "success",
            "max": 48,
            "_view_module": "@jupyter-widgets/controls",
            "_model_module_version": "1.5.0",
            "value": 48,
            "_view_count": null,
            "_view_module_version": "1.5.0",
            "orientation": "horizontal",
            "min": 0,
            "description_tooltip": null,
            "_model_module": "@jupyter-widgets/controls",
            "layout": "IPY_MODEL_44a56a2c8715455aaa45790c403cdea2"
          }
        },
        "ffe44c24e92141aca3ee83371995b039": {
          "model_module": "@jupyter-widgets/controls",
          "model_name": "HTMLModel",
          "state": {
            "_view_name": "HTMLView",
            "style": "IPY_MODEL_2be8b388dfcd4d7d982ce4ba07bd809f",
            "_dom_classes": [],
            "description": "",
            "_model_name": "HTMLModel",
            "placeholder": "​",
            "_view_module": "@jupyter-widgets/controls",
            "_model_module_version": "1.5.0",
            "value": " 48/48 [11:57&lt;00:00, 14.96s/it]",
            "_view_count": null,
            "_view_module_version": "1.5.0",
            "description_tooltip": null,
            "_model_module": "@jupyter-widgets/controls",
            "layout": "IPY_MODEL_ebdf03224ed340198d0318503e3b8f49"
          }
        },
        "ef8b8f1f13054041acde538ee2008ed8": {
          "model_module": "@jupyter-widgets/controls",
          "model_name": "ProgressStyleModel",
          "state": {
            "_view_name": "StyleView",
            "_model_name": "ProgressStyleModel",
            "description_width": "initial",
            "_view_module": "@jupyter-widgets/base",
            "_model_module_version": "1.5.0",
            "_view_count": null,
            "_view_module_version": "1.2.0",
            "bar_color": null,
            "_model_module": "@jupyter-widgets/controls"
          }
        },
        "44a56a2c8715455aaa45790c403cdea2": {
          "model_module": "@jupyter-widgets/base",
          "model_name": "LayoutModel",
          "state": {
            "_view_name": "LayoutView",
            "grid_template_rows": null,
            "right": null,
            "justify_content": null,
            "_view_module": "@jupyter-widgets/base",
            "overflow": null,
            "_model_module_version": "1.2.0",
            "_view_count": null,
            "flex_flow": null,
            "width": null,
            "min_width": null,
            "border": null,
            "align_items": null,
            "bottom": null,
            "_model_module": "@jupyter-widgets/base",
            "top": null,
            "grid_column": null,
            "overflow_y": null,
            "overflow_x": null,
            "grid_auto_flow": null,
            "grid_area": null,
            "grid_template_columns": null,
            "flex": null,
            "_model_name": "LayoutModel",
            "justify_items": null,
            "grid_row": null,
            "max_height": null,
            "align_content": null,
            "visibility": null,
            "align_self": null,
            "height": null,
            "min_height": null,
            "padding": null,
            "grid_auto_rows": null,
            "grid_gap": null,
            "max_width": null,
            "order": null,
            "_view_module_version": "1.2.0",
            "grid_template_areas": null,
            "object_position": null,
            "object_fit": null,
            "grid_auto_columns": null,
            "margin": null,
            "display": null,
            "left": null
          }
        },
        "2be8b388dfcd4d7d982ce4ba07bd809f": {
          "model_module": "@jupyter-widgets/controls",
          "model_name": "DescriptionStyleModel",
          "state": {
            "_view_name": "StyleView",
            "_model_name": "DescriptionStyleModel",
            "description_width": "",
            "_view_module": "@jupyter-widgets/base",
            "_model_module_version": "1.5.0",
            "_view_count": null,
            "_view_module_version": "1.2.0",
            "_model_module": "@jupyter-widgets/controls"
          }
        },
        "ebdf03224ed340198d0318503e3b8f49": {
          "model_module": "@jupyter-widgets/base",
          "model_name": "LayoutModel",
          "state": {
            "_view_name": "LayoutView",
            "grid_template_rows": null,
            "right": null,
            "justify_content": null,
            "_view_module": "@jupyter-widgets/base",
            "overflow": null,
            "_model_module_version": "1.2.0",
            "_view_count": null,
            "flex_flow": null,
            "width": null,
            "min_width": null,
            "border": null,
            "align_items": null,
            "bottom": null,
            "_model_module": "@jupyter-widgets/base",
            "top": null,
            "grid_column": null,
            "overflow_y": null,
            "overflow_x": null,
            "grid_auto_flow": null,
            "grid_area": null,
            "grid_template_columns": null,
            "flex": null,
            "_model_name": "LayoutModel",
            "justify_items": null,
            "grid_row": null,
            "max_height": null,
            "align_content": null,
            "visibility": null,
            "align_self": null,
            "height": null,
            "min_height": null,
            "padding": null,
            "grid_auto_rows": null,
            "grid_gap": null,
            "max_width": null,
            "order": null,
            "_view_module_version": "1.2.0",
            "grid_template_areas": null,
            "object_position": null,
            "object_fit": null,
            "grid_auto_columns": null,
            "margin": null,
            "display": null,
            "left": null
          }
        },
        "30bfdb20908246869cdb1540c4818e2a": {
          "model_module": "@jupyter-widgets/controls",
          "model_name": "HBoxModel",
          "state": {
            "_view_name": "HBoxView",
            "_dom_classes": [],
            "_model_name": "HBoxModel",
            "_view_module": "@jupyter-widgets/controls",
            "_model_module_version": "1.5.0",
            "_view_count": null,
            "_view_module_version": "1.5.0",
            "box_style": "",
            "layout": "IPY_MODEL_9e121ef961594f6c852e14f6989d6e28",
            "_model_module": "@jupyter-widgets/controls",
            "children": [
              "IPY_MODEL_7a11550b59d445198f7f79a67c9494dc",
              "IPY_MODEL_5a20c371ab774fa1bb53c7bf516ac606"
            ]
          }
        },
        "9e121ef961594f6c852e14f6989d6e28": {
          "model_module": "@jupyter-widgets/base",
          "model_name": "LayoutModel",
          "state": {
            "_view_name": "LayoutView",
            "grid_template_rows": null,
            "right": null,
            "justify_content": null,
            "_view_module": "@jupyter-widgets/base",
            "overflow": null,
            "_model_module_version": "1.2.0",
            "_view_count": null,
            "flex_flow": null,
            "width": null,
            "min_width": null,
            "border": null,
            "align_items": null,
            "bottom": null,
            "_model_module": "@jupyter-widgets/base",
            "top": null,
            "grid_column": null,
            "overflow_y": null,
            "overflow_x": null,
            "grid_auto_flow": null,
            "grid_area": null,
            "grid_template_columns": null,
            "flex": null,
            "_model_name": "LayoutModel",
            "justify_items": null,
            "grid_row": null,
            "max_height": null,
            "align_content": null,
            "visibility": null,
            "align_self": null,
            "height": null,
            "min_height": null,
            "padding": null,
            "grid_auto_rows": null,
            "grid_gap": null,
            "max_width": null,
            "order": null,
            "_view_module_version": "1.2.0",
            "grid_template_areas": null,
            "object_position": null,
            "object_fit": null,
            "grid_auto_columns": null,
            "margin": null,
            "display": null,
            "left": null
          }
        },
        "7a11550b59d445198f7f79a67c9494dc": {
          "model_module": "@jupyter-widgets/controls",
          "model_name": "FloatProgressModel",
          "state": {
            "_view_name": "ProgressView",
            "style": "IPY_MODEL_40b7946658264bf195712b1e73fcbe8b",
            "_dom_classes": [],
            "description": "100%",
            "_model_name": "FloatProgressModel",
            "bar_style": "success",
            "max": 48,
            "_view_module": "@jupyter-widgets/controls",
            "_model_module_version": "1.5.0",
            "value": 48,
            "_view_count": null,
            "_view_module_version": "1.5.0",
            "orientation": "horizontal",
            "min": 0,
            "description_tooltip": null,
            "_model_module": "@jupyter-widgets/controls",
            "layout": "IPY_MODEL_46895dab6c7c4a7e92855c6aa54108d9"
          }
        },
        "5a20c371ab774fa1bb53c7bf516ac606": {
          "model_module": "@jupyter-widgets/controls",
          "model_name": "HTMLModel",
          "state": {
            "_view_name": "HTMLView",
            "style": "IPY_MODEL_68e4897f383e4beaa70e629ce43bd2e2",
            "_dom_classes": [],
            "description": "",
            "_model_name": "HTMLModel",
            "placeholder": "​",
            "_view_module": "@jupyter-widgets/controls",
            "_model_module_version": "1.5.0",
            "value": " 48/48 [00:28&lt;00:00,  1.66it/s]",
            "_view_count": null,
            "_view_module_version": "1.5.0",
            "description_tooltip": null,
            "_model_module": "@jupyter-widgets/controls",
            "layout": "IPY_MODEL_5a3e5175d281412aad863826642cd1ec"
          }
        },
        "40b7946658264bf195712b1e73fcbe8b": {
          "model_module": "@jupyter-widgets/controls",
          "model_name": "ProgressStyleModel",
          "state": {
            "_view_name": "StyleView",
            "_model_name": "ProgressStyleModel",
            "description_width": "initial",
            "_view_module": "@jupyter-widgets/base",
            "_model_module_version": "1.5.0",
            "_view_count": null,
            "_view_module_version": "1.2.0",
            "bar_color": null,
            "_model_module": "@jupyter-widgets/controls"
          }
        },
        "46895dab6c7c4a7e92855c6aa54108d9": {
          "model_module": "@jupyter-widgets/base",
          "model_name": "LayoutModel",
          "state": {
            "_view_name": "LayoutView",
            "grid_template_rows": null,
            "right": null,
            "justify_content": null,
            "_view_module": "@jupyter-widgets/base",
            "overflow": null,
            "_model_module_version": "1.2.0",
            "_view_count": null,
            "flex_flow": null,
            "width": null,
            "min_width": null,
            "border": null,
            "align_items": null,
            "bottom": null,
            "_model_module": "@jupyter-widgets/base",
            "top": null,
            "grid_column": null,
            "overflow_y": null,
            "overflow_x": null,
            "grid_auto_flow": null,
            "grid_area": null,
            "grid_template_columns": null,
            "flex": null,
            "_model_name": "LayoutModel",
            "justify_items": null,
            "grid_row": null,
            "max_height": null,
            "align_content": null,
            "visibility": null,
            "align_self": null,
            "height": null,
            "min_height": null,
            "padding": null,
            "grid_auto_rows": null,
            "grid_gap": null,
            "max_width": null,
            "order": null,
            "_view_module_version": "1.2.0",
            "grid_template_areas": null,
            "object_position": null,
            "object_fit": null,
            "grid_auto_columns": null,
            "margin": null,
            "display": null,
            "left": null
          }
        },
        "68e4897f383e4beaa70e629ce43bd2e2": {
          "model_module": "@jupyter-widgets/controls",
          "model_name": "DescriptionStyleModel",
          "state": {
            "_view_name": "StyleView",
            "_model_name": "DescriptionStyleModel",
            "description_width": "",
            "_view_module": "@jupyter-widgets/base",
            "_model_module_version": "1.5.0",
            "_view_count": null,
            "_view_module_version": "1.2.0",
            "_model_module": "@jupyter-widgets/controls"
          }
        },
        "5a3e5175d281412aad863826642cd1ec": {
          "model_module": "@jupyter-widgets/base",
          "model_name": "LayoutModel",
          "state": {
            "_view_name": "LayoutView",
            "grid_template_rows": null,
            "right": null,
            "justify_content": null,
            "_view_module": "@jupyter-widgets/base",
            "overflow": null,
            "_model_module_version": "1.2.0",
            "_view_count": null,
            "flex_flow": null,
            "width": null,
            "min_width": null,
            "border": null,
            "align_items": null,
            "bottom": null,
            "_model_module": "@jupyter-widgets/base",
            "top": null,
            "grid_column": null,
            "overflow_y": null,
            "overflow_x": null,
            "grid_auto_flow": null,
            "grid_area": null,
            "grid_template_columns": null,
            "flex": null,
            "_model_name": "LayoutModel",
            "justify_items": null,
            "grid_row": null,
            "max_height": null,
            "align_content": null,
            "visibility": null,
            "align_self": null,
            "height": null,
            "min_height": null,
            "padding": null,
            "grid_auto_rows": null,
            "grid_gap": null,
            "max_width": null,
            "order": null,
            "_view_module_version": "1.2.0",
            "grid_template_areas": null,
            "object_position": null,
            "object_fit": null,
            "grid_auto_columns": null,
            "margin": null,
            "display": null,
            "left": null
          }
        },
        "0776f9e189dd486c9278b1f3041237c8": {
          "model_module": "@jupyter-widgets/controls",
          "model_name": "HBoxModel",
          "state": {
            "_view_name": "HBoxView",
            "_dom_classes": [],
            "_model_name": "HBoxModel",
            "_view_module": "@jupyter-widgets/controls",
            "_model_module_version": "1.5.0",
            "_view_count": null,
            "_view_module_version": "1.5.0",
            "box_style": "",
            "layout": "IPY_MODEL_11fbeef80f4d496c8e0c9cf713232674",
            "_model_module": "@jupyter-widgets/controls",
            "children": [
              "IPY_MODEL_b28faf1d213d4771a72e3c303a5bb06b",
              "IPY_MODEL_5b4f397d3f2d4a468b9c96a7e0f66148"
            ]
          }
        },
        "11fbeef80f4d496c8e0c9cf713232674": {
          "model_module": "@jupyter-widgets/base",
          "model_name": "LayoutModel",
          "state": {
            "_view_name": "LayoutView",
            "grid_template_rows": null,
            "right": null,
            "justify_content": null,
            "_view_module": "@jupyter-widgets/base",
            "overflow": null,
            "_model_module_version": "1.2.0",
            "_view_count": null,
            "flex_flow": null,
            "width": null,
            "min_width": null,
            "border": null,
            "align_items": null,
            "bottom": null,
            "_model_module": "@jupyter-widgets/base",
            "top": null,
            "grid_column": null,
            "overflow_y": null,
            "overflow_x": null,
            "grid_auto_flow": null,
            "grid_area": null,
            "grid_template_columns": null,
            "flex": null,
            "_model_name": "LayoutModel",
            "justify_items": null,
            "grid_row": null,
            "max_height": null,
            "align_content": null,
            "visibility": null,
            "align_self": null,
            "height": null,
            "min_height": null,
            "padding": null,
            "grid_auto_rows": null,
            "grid_gap": null,
            "max_width": null,
            "order": null,
            "_view_module_version": "1.2.0",
            "grid_template_areas": null,
            "object_position": null,
            "object_fit": null,
            "grid_auto_columns": null,
            "margin": null,
            "display": null,
            "left": null
          }
        },
        "b28faf1d213d4771a72e3c303a5bb06b": {
          "model_module": "@jupyter-widgets/controls",
          "model_name": "FloatProgressModel",
          "state": {
            "_view_name": "ProgressView",
            "style": "IPY_MODEL_b7cceaebe354486fa54774b6d2a5c457",
            "_dom_classes": [],
            "description": "100%",
            "_model_name": "FloatProgressModel",
            "bar_style": "success",
            "max": 48,
            "_view_module": "@jupyter-widgets/controls",
            "_model_module_version": "1.5.0",
            "value": 48,
            "_view_count": null,
            "_view_module_version": "1.5.0",
            "orientation": "horizontal",
            "min": 0,
            "description_tooltip": null,
            "_model_module": "@jupyter-widgets/controls",
            "layout": "IPY_MODEL_636d5bddb31d455db5ff7dc4657ab41b"
          }
        },
        "5b4f397d3f2d4a468b9c96a7e0f66148": {
          "model_module": "@jupyter-widgets/controls",
          "model_name": "HTMLModel",
          "state": {
            "_view_name": "HTMLView",
            "style": "IPY_MODEL_d27682757a4a4f6db862eba28fbf9e05",
            "_dom_classes": [],
            "description": "",
            "_model_name": "HTMLModel",
            "placeholder": "​",
            "_view_module": "@jupyter-widgets/controls",
            "_model_module_version": "1.5.0",
            "value": " 48/48 [00:21&lt;00:00,  2.20it/s]",
            "_view_count": null,
            "_view_module_version": "1.5.0",
            "description_tooltip": null,
            "_model_module": "@jupyter-widgets/controls",
            "layout": "IPY_MODEL_b04761ed84f844c6a63487d83923e140"
          }
        },
        "b7cceaebe354486fa54774b6d2a5c457": {
          "model_module": "@jupyter-widgets/controls",
          "model_name": "ProgressStyleModel",
          "state": {
            "_view_name": "StyleView",
            "_model_name": "ProgressStyleModel",
            "description_width": "initial",
            "_view_module": "@jupyter-widgets/base",
            "_model_module_version": "1.5.0",
            "_view_count": null,
            "_view_module_version": "1.2.0",
            "bar_color": null,
            "_model_module": "@jupyter-widgets/controls"
          }
        },
        "636d5bddb31d455db5ff7dc4657ab41b": {
          "model_module": "@jupyter-widgets/base",
          "model_name": "LayoutModel",
          "state": {
            "_view_name": "LayoutView",
            "grid_template_rows": null,
            "right": null,
            "justify_content": null,
            "_view_module": "@jupyter-widgets/base",
            "overflow": null,
            "_model_module_version": "1.2.0",
            "_view_count": null,
            "flex_flow": null,
            "width": null,
            "min_width": null,
            "border": null,
            "align_items": null,
            "bottom": null,
            "_model_module": "@jupyter-widgets/base",
            "top": null,
            "grid_column": null,
            "overflow_y": null,
            "overflow_x": null,
            "grid_auto_flow": null,
            "grid_area": null,
            "grid_template_columns": null,
            "flex": null,
            "_model_name": "LayoutModel",
            "justify_items": null,
            "grid_row": null,
            "max_height": null,
            "align_content": null,
            "visibility": null,
            "align_self": null,
            "height": null,
            "min_height": null,
            "padding": null,
            "grid_auto_rows": null,
            "grid_gap": null,
            "max_width": null,
            "order": null,
            "_view_module_version": "1.2.0",
            "grid_template_areas": null,
            "object_position": null,
            "object_fit": null,
            "grid_auto_columns": null,
            "margin": null,
            "display": null,
            "left": null
          }
        },
        "d27682757a4a4f6db862eba28fbf9e05": {
          "model_module": "@jupyter-widgets/controls",
          "model_name": "DescriptionStyleModel",
          "state": {
            "_view_name": "StyleView",
            "_model_name": "DescriptionStyleModel",
            "description_width": "",
            "_view_module": "@jupyter-widgets/base",
            "_model_module_version": "1.5.0",
            "_view_count": null,
            "_view_module_version": "1.2.0",
            "_model_module": "@jupyter-widgets/controls"
          }
        },
        "b04761ed84f844c6a63487d83923e140": {
          "model_module": "@jupyter-widgets/base",
          "model_name": "LayoutModel",
          "state": {
            "_view_name": "LayoutView",
            "grid_template_rows": null,
            "right": null,
            "justify_content": null,
            "_view_module": "@jupyter-widgets/base",
            "overflow": null,
            "_model_module_version": "1.2.0",
            "_view_count": null,
            "flex_flow": null,
            "width": null,
            "min_width": null,
            "border": null,
            "align_items": null,
            "bottom": null,
            "_model_module": "@jupyter-widgets/base",
            "top": null,
            "grid_column": null,
            "overflow_y": null,
            "overflow_x": null,
            "grid_auto_flow": null,
            "grid_area": null,
            "grid_template_columns": null,
            "flex": null,
            "_model_name": "LayoutModel",
            "justify_items": null,
            "grid_row": null,
            "max_height": null,
            "align_content": null,
            "visibility": null,
            "align_self": null,
            "height": null,
            "min_height": null,
            "padding": null,
            "grid_auto_rows": null,
            "grid_gap": null,
            "max_width": null,
            "order": null,
            "_view_module_version": "1.2.0",
            "grid_template_areas": null,
            "object_position": null,
            "object_fit": null,
            "grid_auto_columns": null,
            "margin": null,
            "display": null,
            "left": null
          }
        }
      }
    }
  },
  "cells": [
    {
      "cell_type": "markdown",
      "metadata": {
        "id": "view-in-github",
        "colab_type": "text"
      },
      "source": [
        "<a href=\"https://colab.research.google.com/github/JaimeRedondo/Mushrooms_Classification/blob/master/Mushrooms_Classification.ipynb\" target=\"_parent\"><img src=\"https://colab.research.google.com/assets/colab-badge.svg\" alt=\"Open In Colab\"/></a>"
      ]
    },
    {
      "cell_type": "markdown",
      "metadata": {
        "id": "KEqnwo-vV2nq"
      },
      "source": [
        "## Libraries Import"
      ]
    },
    {
      "cell_type": "code",
      "metadata": {
        "colab": {
          "base_uri": "https://localhost:8080/"
        },
        "id": "vz6dxutvauCY",
        "outputId": "0242cd0b-f076-4f64-9758-b59c973ac680"
      },
      "source": [
        "### If the first time you have an error, try to restart runtime and run again.\n",
        "\n",
        "### Working with images\n",
        "! pip install opencv-python\n",
        "from matplotlib import image\n",
        "from matplotlib import pyplot\n",
        "from skimage import io\n",
        "import cv2\n",
        "import os\n",
        "import skimage\n",
        "from skimage import data, io, filters, transform\n",
        "\n",
        "### Web scraping packages\n",
        "from bs4 import BeautifulSoup\n",
        "import requests\n",
        "import itertools\n",
        "from urllib.request import Request, urlopen\n",
        "import urllib.request\n",
        "\n",
        "### Pandas/numpy for data manipulation\n",
        "import pandas as pd\n",
        "import numpy as np\n",
        "from urllib.request import urlopen\n",
        "\n",
        "### Progress bar\n",
        "from tqdm.notebook import tqdm\n",
        "from time import sleep \n",
        "\n",
        "### Visualize data\n",
        "%pylab inline\n",
        "plt.style.use('seaborn-talk')\n",
        "import matplotlib.pyplot as plt\n",
        "import matplotlib.image as mpimg\n",
        "import seaborn as sns\n",
        "%matplotlib inline\n",
        "\n",
        "### Deep learning libraries\n",
        "from tensorflow.keras import optimizers\n",
        "from tensorflow.keras import losses\n",
        "from tensorflow.keras import metrics\n",
        "from tensorflow.keras.utils import to_categorical\n",
        "from tensorflow.keras import models\n",
        "from tensorflow.keras import layers\n",
        "from tensorflow.keras import Input\n",
        "import tensorflow as tf\n",
        "from sklearn.metrics import confusion_matrix\n",
        "import itertools\n",
        "from keras.utils.np_utils import to_categorical\n",
        "from keras.models import Sequential\n",
        "from keras.layers import Dense, Dropout, Flatten, Conv2D, MaxPool2D\n",
        "from keras.optimizers import RMSprop\n",
        "from keras.preprocessing.image import ImageDataGenerator\n",
        "from keras.callbacks import ReduceLROnPlateau\n",
        "from sklearn.preprocessing import OneHotEncoder\n",
        "from sklearn.preprocessing import LabelEncoder\n",
        "from keras.models import load_model\n",
        "from sklearn.metrics import confusion_matrix\n",
        "\n",
        "### Random\n",
        "import random \n",
        "\n",
        "### Streamlit Web App\n",
        "! pip install streamlit\n",
        "! pip install pyngrok\n",
        "from pyngrok import ngrok\n",
        "import streamlit as st\n",
        "\n",
        "\n"
      ],
      "execution_count": 1,
      "outputs": [
        {
          "output_type": "stream",
          "text": [
            "Requirement already satisfied: opencv-python in /usr/local/lib/python3.7/dist-packages (4.1.2.30)\n",
            "Requirement already satisfied: numpy>=1.14.5 in /usr/local/lib/python3.7/dist-packages (from opencv-python) (1.19.5)\n",
            "Populating the interactive namespace from numpy and matplotlib\n",
            "Requirement already satisfied: streamlit in /usr/local/lib/python3.7/dist-packages (0.81.1)\n",
            "Requirement already satisfied: altair>=3.2.0 in /usr/local/lib/python3.7/dist-packages (from streamlit) (4.1.0)\n",
            "Requirement already satisfied: tzlocal in /usr/local/lib/python3.7/dist-packages (from streamlit) (1.5.1)\n",
            "Requirement already satisfied: validators in /usr/local/lib/python3.7/dist-packages (from streamlit) (0.18.2)\n",
            "Requirement already satisfied: tornado>=5.0 in /usr/local/lib/python3.7/dist-packages (from streamlit) (5.1.1)\n",
            "Requirement already satisfied: gitpython in /usr/local/lib/python3.7/dist-packages (from streamlit) (3.1.16)\n",
            "Requirement already satisfied: blinker in /usr/local/lib/python3.7/dist-packages (from streamlit) (1.4)\n",
            "Requirement already satisfied: protobuf!=3.11,>=3.6.0 in /usr/local/lib/python3.7/dist-packages (from streamlit) (3.12.4)\n",
            "Requirement already satisfied: packaging in /usr/local/lib/python3.7/dist-packages (from streamlit) (20.9)\n",
            "Requirement already satisfied: base58 in /usr/local/lib/python3.7/dist-packages (from streamlit) (2.1.0)\n",
            "Requirement already satisfied: astor in /usr/local/lib/python3.7/dist-packages (from streamlit) (0.8.1)\n",
            "Requirement already satisfied: cachetools>=4.0 in /usr/local/lib/python3.7/dist-packages (from streamlit) (4.2.2)\n",
            "Requirement already satisfied: pyarrow; python_version < \"3.9\" in /usr/local/lib/python3.7/dist-packages (from streamlit) (3.0.0)\n",
            "Requirement already satisfied: numpy in /usr/local/lib/python3.7/dist-packages (from streamlit) (1.19.5)\n",
            "Requirement already satisfied: toml in /usr/local/lib/python3.7/dist-packages (from streamlit) (0.10.2)\n",
            "Requirement already satisfied: pandas>=0.21.0 in /usr/local/lib/python3.7/dist-packages (from streamlit) (1.1.5)\n",
            "Requirement already satisfied: python-dateutil in /usr/local/lib/python3.7/dist-packages (from streamlit) (2.8.1)\n",
            "Requirement already satisfied: click>=7.0 in /usr/local/lib/python3.7/dist-packages (from streamlit) (7.1.2)\n",
            "Requirement already satisfied: requests in /usr/local/lib/python3.7/dist-packages (from streamlit) (2.23.0)\n",
            "Requirement already satisfied: pydeck>=0.1.dev5 in /usr/local/lib/python3.7/dist-packages (from streamlit) (0.6.2)\n",
            "Requirement already satisfied: watchdog; platform_system != \"Darwin\" in /usr/local/lib/python3.7/dist-packages (from streamlit) (2.1.1)\n",
            "Requirement already satisfied: pillow>=6.2.0 in /usr/local/lib/python3.7/dist-packages (from streamlit) (7.1.2)\n",
            "Requirement already satisfied: jsonschema in /usr/local/lib/python3.7/dist-packages (from altair>=3.2.0->streamlit) (2.6.0)\n",
            "Requirement already satisfied: jinja2 in /usr/local/lib/python3.7/dist-packages (from altair>=3.2.0->streamlit) (2.11.3)\n",
            "Requirement already satisfied: entrypoints in /usr/local/lib/python3.7/dist-packages (from altair>=3.2.0->streamlit) (0.3)\n",
            "Requirement already satisfied: toolz in /usr/local/lib/python3.7/dist-packages (from altair>=3.2.0->streamlit) (0.11.1)\n",
            "Requirement already satisfied: pytz in /usr/local/lib/python3.7/dist-packages (from tzlocal->streamlit) (2018.9)\n",
            "Requirement already satisfied: decorator>=3.4.0 in /usr/local/lib/python3.7/dist-packages (from validators->streamlit) (4.4.2)\n",
            "Requirement already satisfied: six>=1.4.0 in /usr/local/lib/python3.7/dist-packages (from validators->streamlit) (1.15.0)\n",
            "Requirement already satisfied: gitdb<5,>=4.0.1 in /usr/local/lib/python3.7/dist-packages (from gitpython->streamlit) (4.0.7)\n",
            "Requirement already satisfied: typing-extensions>=3.7.4.0; python_version < \"3.8\" in /usr/local/lib/python3.7/dist-packages (from gitpython->streamlit) (3.7.4.3)\n",
            "Requirement already satisfied: setuptools in /usr/local/lib/python3.7/dist-packages (from protobuf!=3.11,>=3.6.0->streamlit) (56.1.0)\n",
            "Requirement already satisfied: pyparsing>=2.0.2 in /usr/local/lib/python3.7/dist-packages (from packaging->streamlit) (2.4.7)\n",
            "Requirement already satisfied: certifi>=2017.4.17 in /usr/local/lib/python3.7/dist-packages (from requests->streamlit) (2020.12.5)\n",
            "Requirement already satisfied: urllib3!=1.25.0,!=1.25.1,<1.26,>=1.21.1 in /usr/local/lib/python3.7/dist-packages (from requests->streamlit) (1.24.3)\n",
            "Requirement already satisfied: chardet<4,>=3.0.2 in /usr/local/lib/python3.7/dist-packages (from requests->streamlit) (3.0.4)\n",
            "Requirement already satisfied: idna<3,>=2.5 in /usr/local/lib/python3.7/dist-packages (from requests->streamlit) (2.10)\n",
            "Requirement already satisfied: ipykernel>=5.1.2; python_version >= \"3.4\" in /usr/local/lib/python3.7/dist-packages (from pydeck>=0.1.dev5->streamlit) (5.5.4)\n",
            "Requirement already satisfied: ipywidgets>=7.0.0 in /usr/local/lib/python3.7/dist-packages (from pydeck>=0.1.dev5->streamlit) (7.6.3)\n",
            "Requirement already satisfied: traitlets>=4.3.2 in /usr/local/lib/python3.7/dist-packages (from pydeck>=0.1.dev5->streamlit) (5.0.5)\n",
            "Requirement already satisfied: MarkupSafe>=0.23 in /usr/local/lib/python3.7/dist-packages (from jinja2->altair>=3.2.0->streamlit) (1.1.1)\n",
            "Requirement already satisfied: smmap<5,>=3.0.1 in /usr/local/lib/python3.7/dist-packages (from gitdb<5,>=4.0.1->gitpython->streamlit) (4.0.0)\n",
            "Requirement already satisfied: ipython>=5.0.0 in /usr/local/lib/python3.7/dist-packages (from ipykernel>=5.1.2; python_version >= \"3.4\"->pydeck>=0.1.dev5->streamlit) (5.5.0)\n",
            "Requirement already satisfied: jupyter-client in /usr/local/lib/python3.7/dist-packages (from ipykernel>=5.1.2; python_version >= \"3.4\"->pydeck>=0.1.dev5->streamlit) (5.3.5)\n",
            "Requirement already satisfied: widgetsnbextension~=3.5.0 in /usr/local/lib/python3.7/dist-packages (from ipywidgets>=7.0.0->pydeck>=0.1.dev5->streamlit) (3.5.1)\n",
            "Requirement already satisfied: jupyterlab-widgets>=1.0.0; python_version >= \"3.6\" in /usr/local/lib/python3.7/dist-packages (from ipywidgets>=7.0.0->pydeck>=0.1.dev5->streamlit) (1.0.0)\n",
            "Requirement already satisfied: nbformat>=4.2.0 in /usr/local/lib/python3.7/dist-packages (from ipywidgets>=7.0.0->pydeck>=0.1.dev5->streamlit) (5.1.3)\n",
            "Requirement already satisfied: ipython-genutils in /usr/local/lib/python3.7/dist-packages (from traitlets>=4.3.2->pydeck>=0.1.dev5->streamlit) (0.2.0)\n",
            "Requirement already satisfied: simplegeneric>0.8 in /usr/local/lib/python3.7/dist-packages (from ipython>=5.0.0->ipykernel>=5.1.2; python_version >= \"3.4\"->pydeck>=0.1.dev5->streamlit) (0.8.1)\n",
            "Requirement already satisfied: pickleshare in /usr/local/lib/python3.7/dist-packages (from ipython>=5.0.0->ipykernel>=5.1.2; python_version >= \"3.4\"->pydeck>=0.1.dev5->streamlit) (0.7.5)\n",
            "Requirement already satisfied: prompt-toolkit<2.0.0,>=1.0.4 in /usr/local/lib/python3.7/dist-packages (from ipython>=5.0.0->ipykernel>=5.1.2; python_version >= \"3.4\"->pydeck>=0.1.dev5->streamlit) (1.0.18)\n",
            "Requirement already satisfied: pygments in /usr/local/lib/python3.7/dist-packages (from ipython>=5.0.0->ipykernel>=5.1.2; python_version >= \"3.4\"->pydeck>=0.1.dev5->streamlit) (2.6.1)\n",
            "Requirement already satisfied: pexpect; sys_platform != \"win32\" in /usr/local/lib/python3.7/dist-packages (from ipython>=5.0.0->ipykernel>=5.1.2; python_version >= \"3.4\"->pydeck>=0.1.dev5->streamlit) (4.8.0)\n",
            "Requirement already satisfied: pyzmq>=13 in /usr/local/lib/python3.7/dist-packages (from jupyter-client->ipykernel>=5.1.2; python_version >= \"3.4\"->pydeck>=0.1.dev5->streamlit) (22.0.3)\n",
            "Requirement already satisfied: jupyter-core>=4.6.0 in /usr/local/lib/python3.7/dist-packages (from jupyter-client->ipykernel>=5.1.2; python_version >= \"3.4\"->pydeck>=0.1.dev5->streamlit) (4.7.1)\n",
            "Requirement already satisfied: notebook>=4.4.1 in /usr/local/lib/python3.7/dist-packages (from widgetsnbextension~=3.5.0->ipywidgets>=7.0.0->pydeck>=0.1.dev5->streamlit) (5.3.1)\n",
            "Requirement already satisfied: wcwidth in /usr/local/lib/python3.7/dist-packages (from prompt-toolkit<2.0.0,>=1.0.4->ipython>=5.0.0->ipykernel>=5.1.2; python_version >= \"3.4\"->pydeck>=0.1.dev5->streamlit) (0.2.5)\n",
            "Requirement already satisfied: ptyprocess>=0.5 in /usr/local/lib/python3.7/dist-packages (from pexpect; sys_platform != \"win32\"->ipython>=5.0.0->ipykernel>=5.1.2; python_version >= \"3.4\"->pydeck>=0.1.dev5->streamlit) (0.7.0)\n",
            "Requirement already satisfied: nbconvert in /usr/local/lib/python3.7/dist-packages (from notebook>=4.4.1->widgetsnbextension~=3.5.0->ipywidgets>=7.0.0->pydeck>=0.1.dev5->streamlit) (5.6.1)\n",
            "Requirement already satisfied: terminado>=0.8.1 in /usr/local/lib/python3.7/dist-packages (from notebook>=4.4.1->widgetsnbextension~=3.5.0->ipywidgets>=7.0.0->pydeck>=0.1.dev5->streamlit) (0.9.4)\n",
            "Requirement already satisfied: Send2Trash in /usr/local/lib/python3.7/dist-packages (from notebook>=4.4.1->widgetsnbextension~=3.5.0->ipywidgets>=7.0.0->pydeck>=0.1.dev5->streamlit) (1.5.0)\n",
            "Requirement already satisfied: mistune<2,>=0.8.1 in /usr/local/lib/python3.7/dist-packages (from nbconvert->notebook>=4.4.1->widgetsnbextension~=3.5.0->ipywidgets>=7.0.0->pydeck>=0.1.dev5->streamlit) (0.8.4)\n",
            "Requirement already satisfied: pandocfilters>=1.4.1 in /usr/local/lib/python3.7/dist-packages (from nbconvert->notebook>=4.4.1->widgetsnbextension~=3.5.0->ipywidgets>=7.0.0->pydeck>=0.1.dev5->streamlit) (1.4.3)\n",
            "Requirement already satisfied: defusedxml in /usr/local/lib/python3.7/dist-packages (from nbconvert->notebook>=4.4.1->widgetsnbextension~=3.5.0->ipywidgets>=7.0.0->pydeck>=0.1.dev5->streamlit) (0.7.1)\n",
            "Requirement already satisfied: testpath in /usr/local/lib/python3.7/dist-packages (from nbconvert->notebook>=4.4.1->widgetsnbextension~=3.5.0->ipywidgets>=7.0.0->pydeck>=0.1.dev5->streamlit) (0.4.4)\n",
            "Requirement already satisfied: bleach in /usr/local/lib/python3.7/dist-packages (from nbconvert->notebook>=4.4.1->widgetsnbextension~=3.5.0->ipywidgets>=7.0.0->pydeck>=0.1.dev5->streamlit) (3.3.0)\n",
            "Requirement already satisfied: webencodings in /usr/local/lib/python3.7/dist-packages (from bleach->nbconvert->notebook>=4.4.1->widgetsnbextension~=3.5.0->ipywidgets>=7.0.0->pydeck>=0.1.dev5->streamlit) (0.5.1)\n",
            "Requirement already satisfied: pyngrok in /usr/local/lib/python3.7/dist-packages (5.0.5)\n",
            "Requirement already satisfied: PyYAML in /usr/local/lib/python3.7/dist-packages (from pyngrok) (3.13)\n"
          ],
          "name": "stdout"
        }
      ]
    },
    {
      "cell_type": "markdown",
      "metadata": {
        "id": "m2gO0JrFIG8J"
      },
      "source": [
        "## Getting the data"
      ]
    },
    {
      "cell_type": "code",
      "metadata": {
        "colab": {
          "base_uri": "https://localhost:8080/"
        },
        "id": "nCvoxlJF38dW",
        "outputId": "2ded655d-09ea-448a-ad9a-99266c8978c0"
      },
      "source": [
        "### If you want to scrape mushrooms since the beginning, first of all put the script Scraping_Mushrooms.ipynb in this script , you will have the opportunity\n",
        "### in the next cell, upload scraping mushrooms to this sesion, after this the script will run and you are going to need to give the parameters you want for \n",
        "### the search.\n",
        "\n",
        "### If you don´t want to scrape mushrooms, you have the data I used in the repo, you will need only to choose the option Use_data and you will get the data\n",
        "\n",
        "print(\"Do you want to scrape your own mushrooms or use the data existing?, put Scrape_mushrooms or Use_data\")\n",
        "\n",
        "def scrape_mushrooms(option=input()):\n",
        "  \n",
        "  if option == 'Scrape_mushrooms':\n",
        "    from google.colab import files\n",
        "    uploaded = files.upload()\n",
        "    %run Scraping_Mushrooms.ipynb\n",
        "    return None\n",
        "\n",
        "  elif option == 'Use_data':\n",
        "    print('Get the data existing and put it in this directory, later read it')\n",
        "    print('if you prefer to put in other route you only need to change the main route to after read the data')\n",
        "    from google.colab import drive\n",
        "    drive.mount('/content/gdrive')\n",
        "\n",
        "    path_output_1 = '/content/gdrive/MyDrive/Mushrooms_Dataset'\n",
        "    ########### Change to the path you save your data!!!!!!!! ##############\n",
        "\n",
        "    return path_output_1\n",
        "\n",
        "  else:\n",
        "    print('The option must be Scrape_mushrooms or Use_data, please, try again:')\n",
        "    return scrape_mushrooms(option=input())\n",
        "\n",
        "main_route = scrape_mushrooms()\n",
        "\n",
        "if main_route == None:\n",
        "  main_route = path_output\n",
        "else:\n",
        "  main_route = scrape_mushrooms()"
      ],
      "execution_count": 2,
      "outputs": [
        {
          "output_type": "stream",
          "text": [
            "Do you want to scrape your own mushrooms or use the data existing?, put Scrape_mushrooms or Use_data\n",
            "Use_data\n",
            "Get the data existing and put it in this directory, later read it\n",
            "if you prefer to put in other route you only need to change the main route to after read the data\n",
            "Drive already mounted at /content/gdrive; to attempt to forcibly remount, call drive.mount(\"/content/gdrive\", force_remount=True).\n",
            "Get the data existing and put it in this directory, later read it\n",
            "if you prefer to put in other route you only need to change the main route to after read the data\n",
            "Drive already mounted at /content/gdrive; to attempt to forcibly remount, call drive.mount(\"/content/gdrive\", force_remount=True).\n"
          ],
          "name": "stdout"
        }
      ]
    },
    {
      "cell_type": "markdown",
      "metadata": {
        "id": "LPcNroEVsd7F"
      },
      "source": [
        "## Getting the list with the mushrooms names (the folders names)."
      ]
    },
    {
      "cell_type": "code",
      "metadata": {
        "colab": {
          "base_uri": "https://localhost:8080/",
          "height": 66,
          "referenced_widgets": [
            "4f8d67d49c224bd5bdcba4314777afed",
            "a010f32095a849c3b46331122215ce8b",
            "cf0f2de4fec2462b8f9191da6fef0992",
            "4e5280684cd0459a90ee7fffc78829ef",
            "7203226da78e41b3afdc711a6c75faa9",
            "ea6817799f4c4d08b8b7015a567752f4",
            "157d8c1878854b85b80fde0532d1aefe",
            "a23496b0da4e487db0478cf9a0059c11"
          ]
        },
        "id": "Xh4E5MBCs-U2",
        "outputId": "3ca8a3e1-67ff-41ee-ed18-a2d6b319a45e"
      },
      "source": [
        "### defining the main route (depends on what did you choose before).\n",
        "### with the data you have already choose\n",
        "\n",
        "mushrooms_directory=[]\n",
        "for folder in tqdm(os.listdir(main_route)):\n",
        "    if '.' in folder:\n",
        "        pass\n",
        "    else:\n",
        "        mushrooms_directory.append(folder)\n",
        "        \n",
        "mushrooms_directory=sorted(mushrooms_directory)\n",
        "\n",
        "### Now you have a directory named mushrooms_directory that is a list of the mushroom names\n",
        "\n",
        "### Delete the names in the mushrooms_directory list that are not mushroom names\n",
        "\n",
        "if 'sample_data' in mushrooms_directory:\n",
        "  mushrooms_directory.remove(\"sample_data\") \n",
        "\n",
        "if 'gdrive' in mushrooms_directory:\n",
        "  mushrooms_directory.remove(\"gdrive\") \n",
        "\n",
        "if 'ngrok' in mushrooms_directory:\n",
        "  mushrooms_directory.remove(\"ngrok\") \n",
        "\n",
        "### Getting the number of photos per mushroom we have, we did this to have the maximum length because in some mushrooms can be problems, so\n",
        "### we won´t have all the images for that mushroom, so now with this maximum length we have the number of images should be per mushroom\n",
        "\n",
        "lengths=[]\n",
        "for name in mushrooms_directory:\n",
        "  lengths.append(len(os.listdir(main_route +'/'+ name +'/')))\n",
        "\n",
        "number_of_photos = max(lengths)"
      ],
      "execution_count": 3,
      "outputs": [
        {
          "output_type": "display_data",
          "data": {
            "application/vnd.jupyter.widget-view+json": {
              "model_id": "4f8d67d49c224bd5bdcba4314777afed",
              "version_minor": 0,
              "version_major": 2
            },
            "text/plain": [
              "HBox(children=(FloatProgress(value=0.0, max=48.0), HTML(value='')))"
            ]
          },
          "metadata": {
            "tags": []
          }
        },
        {
          "output_type": "stream",
          "text": [
            "\n"
          ],
          "name": "stdout"
        }
      ]
    },
    {
      "cell_type": "markdown",
      "metadata": {
        "id": "2U56_5cMsxNi"
      },
      "source": [
        "## Pipeline with the process per image (Resize, Data Augmentation, Standarize pixels)"
      ]
    },
    {
      "cell_type": "code",
      "metadata": {
        "id": "Ln1J9f_Xoodn"
      },
      "source": [
        "### Resize each image shape in 28x28 and print what photos are not available\n",
        "\n",
        "def resize_photos(directory,main_route,size_photo,number_of_photos):\n",
        "    for folder in tqdm(directory):\n",
        "        for numero in range(number_of_photos):\n",
        "            try:\n",
        "                route = main_route +'/'+ folder +'/'+ str(numero) + '.jpg'\n",
        "                data_picture = io.imread(route)\n",
        "                data_picture = cv2.resize(data_picture, size_photo)\n",
        "                # save the images\n",
        "                cv2.imwrite(route,data_picture)\n",
        "            except:  \n",
        "                print(\"Image number \"+str(numero)+' of mushroom '+folder+' is not available')\n",
        "\n",
        "### Standarize 0 - 255 pixels to 0 - 1 and do Data Augmentation to increase the dataset\n",
        "\n",
        "lista=[]\n",
        "lista1=[]\n",
        "def standarize_pixels_and_augmentation(directory,main_route,size_photo,number_of_photos):\n",
        "    for folder in tqdm(directory):\n",
        "        for numero in range(number_of_photos):\n",
        "            try:\n",
        "                route = main_route +'/'+folder +'/'+ str(numero) + '.jpg'\n",
        "                image_rgb=io.imread(route)/255.0\n",
        "\n",
        "                ############### DATA AUGMENTATION ###############\n",
        "\n",
        "                ### Mirror with vertical line on right\n",
        "                flip_1 = np.fliplr(image_rgb)\n",
        "\n",
        "                ### rotation of 90, 180 and 270 grades\n",
        "                rot_90 = tf.image.rot90(image_rgb, k=1)\n",
        "                rot_180 = tf.image.rot90(image_rgb, k=2)\n",
        "                rot_270 = tf.image.rot90(image_rgb, k=3)\n",
        "\n",
        "                ### Crop the images, can be any size of crop we choose\n",
        "                height, width = image_rgb.shape[0:2]\n",
        "                startRow = int(height*.15)\n",
        "                startCol = int(width*.15)\n",
        "                endRow = int(height*.85)\n",
        "                endCol = int(width*.85)\n",
        "                croppedImage = image_rgb[startRow:endRow, startCol:endCol]\n",
        "                croppedImage = cv2.resize(croppedImage,size_photo)\n",
        "\n",
        "                ### Adding contrast\n",
        "                contrast_img = cv2.addWeighted(image_rgb, 1.5, np.zeros(image_rgb.shape, image_rgb.dtype), 0, 0)\n",
        "\n",
        "                ### 50% blur by taking the median of the pixels\n",
        "                blur_image = cv2.medianBlur(image_rgb,1)\n",
        "\n",
        "                ### Add to dataset\n",
        "                lista.append(image_rgb)\n",
        "                lista.append(flip_1)\n",
        "                lista.append(rot_90)\n",
        "                lista.append(rot_180)\n",
        "                lista.append(rot_270)\n",
        "                lista.append(croppedImage)\n",
        "                lista.append(contrast_img)\n",
        "                lista.append(blur_image)\n",
        "                lista1.append(folder)\n",
        "                lista1.append(folder)\n",
        "                lista1.append(folder)\n",
        "                lista1.append(folder)\n",
        "                lista1.append(folder)\n",
        "                lista1.append(folder)\n",
        "                lista1.append(folder)\n",
        "                lista1.append(folder)            \n",
        "\n",
        "            except:\n",
        "              print(\"there are some problems with one of the mushrooms...\")\n",
        "\n",
        "### Group the functions in other function\n",
        "\n",
        "def standarize_photos(directory,main_route,size_photo,number_of_photos):\n",
        "    print(\"reshaping pictures...\")\n",
        "    resize_photos(directory,main_route,size_photo,number_of_photos)\n",
        "    resize_photos(directory,main_route,size_photo,number_of_photos)\n",
        "    print(\"Normalizing pixels...\")\n",
        "    standarize_pixels_and_augmentation(directory,main_route,size_photo,number_of_photos) "
      ],
      "execution_count": 4,
      "outputs": []
    },
    {
      "cell_type": "markdown",
      "metadata": {
        "id": "Dx-wFgxrk8od"
      },
      "source": [
        "## Give parameters and apply the function defined\n"
      ]
    },
    {
      "cell_type": "code",
      "metadata": {
        "colab": {
          "base_uri": "https://localhost:8080/",
          "height": 217,
          "referenced_widgets": [
            "cc533a7631f644aabcf5d782d0e9b17b",
            "5ba0c314366e47f6bb1b979ca22dc61d",
            "0f68b87111084ff694b07d86d51c3e64",
            "ffe44c24e92141aca3ee83371995b039",
            "ef8b8f1f13054041acde538ee2008ed8",
            "44a56a2c8715455aaa45790c403cdea2",
            "2be8b388dfcd4d7d982ce4ba07bd809f",
            "ebdf03224ed340198d0318503e3b8f49",
            "30bfdb20908246869cdb1540c4818e2a",
            "9e121ef961594f6c852e14f6989d6e28",
            "7a11550b59d445198f7f79a67c9494dc",
            "5a20c371ab774fa1bb53c7bf516ac606",
            "40b7946658264bf195712b1e73fcbe8b",
            "46895dab6c7c4a7e92855c6aa54108d9",
            "68e4897f383e4beaa70e629ce43bd2e2",
            "5a3e5175d281412aad863826642cd1ec",
            "0776f9e189dd486c9278b1f3041237c8",
            "11fbeef80f4d496c8e0c9cf713232674",
            "b28faf1d213d4771a72e3c303a5bb06b",
            "5b4f397d3f2d4a468b9c96a7e0f66148",
            "b7cceaebe354486fa54774b6d2a5c457",
            "636d5bddb31d455db5ff7dc4657ab41b",
            "d27682757a4a4f6db862eba28fbf9e05",
            "b04761ed84f844c6a63487d83923e140"
          ]
        },
        "id": "3Hr4dafxohyo",
        "outputId": "ef54fec4-9f57-4e93-cb6c-96cfaa517eab"
      },
      "source": [
        "### Parameters for the function defined before, the main_route and number_of_photos were defined before.\n",
        "\n",
        "directory = mushrooms_directory\n",
        "size_photo = (28,28)\n",
        "\n",
        "### Applying the group function we defined\n",
        "\n",
        "standarize_photos(directory,main_route,size_photo,number_of_photos)"
      ],
      "execution_count": 5,
      "outputs": [
        {
          "output_type": "stream",
          "text": [
            "reshaping pictures...\n"
          ],
          "name": "stdout"
        },
        {
          "output_type": "display_data",
          "data": {
            "application/vnd.jupyter.widget-view+json": {
              "model_id": "cc533a7631f644aabcf5d782d0e9b17b",
              "version_minor": 0,
              "version_major": 2
            },
            "text/plain": [
              "HBox(children=(FloatProgress(value=0.0, max=48.0), HTML(value='')))"
            ]
          },
          "metadata": {
            "tags": []
          }
        },
        {
          "output_type": "stream",
          "text": [
            "\n"
          ],
          "name": "stdout"
        },
        {
          "output_type": "display_data",
          "data": {
            "application/vnd.jupyter.widget-view+json": {
              "model_id": "30bfdb20908246869cdb1540c4818e2a",
              "version_minor": 0,
              "version_major": 2
            },
            "text/plain": [
              "HBox(children=(FloatProgress(value=0.0, max=48.0), HTML(value='')))"
            ]
          },
          "metadata": {
            "tags": []
          }
        },
        {
          "output_type": "stream",
          "text": [
            "\n",
            "Normalizing pixels...\n"
          ],
          "name": "stdout"
        },
        {
          "output_type": "display_data",
          "data": {
            "application/vnd.jupyter.widget-view+json": {
              "model_id": "0776f9e189dd486c9278b1f3041237c8",
              "version_minor": 0,
              "version_major": 2
            },
            "text/plain": [
              "HBox(children=(FloatProgress(value=0.0, max=48.0), HTML(value='')))"
            ]
          },
          "metadata": {
            "tags": []
          }
        },
        {
          "output_type": "stream",
          "text": [
            "there are some problems with one of the mushrooms...\n",
            "\n"
          ],
          "name": "stdout"
        }
      ]
    },
    {
      "cell_type": "markdown",
      "metadata": {
        "id": "pn6CpUGDthuT"
      },
      "source": [
        "## Train, validation and tests datasets of images and labels"
      ]
    },
    {
      "cell_type": "code",
      "metadata": {
        "id": "IKoDme0Zf4N4"
      },
      "source": [
        "### Images and labels datasets\n",
        "\n",
        "images = np.array(lista)\n",
        "labels = np.array(lista1)\n",
        "\n",
        "### Splitting the test and train data\n",
        "\n",
        "randomizado = np.array(range(0,len(images)))\n",
        "enteros_aleatorios = randint(0,len(images),int(len(images)*0.10))\n",
        "\n",
        "mask = pd.Series(randomizado).isin(enteros_aleatorios)\n",
        "\n",
        "test_images = images[mask]\n",
        "test_labels = labels[mask]\n",
        "trainval_images = images[~mask]\n",
        "trainval_labels = labels[~mask]\n",
        "\n",
        "### Splitting the train data in train and validation\n",
        "\n",
        "randomizado1 = np.array(range(0,len(trainval_images)))\n",
        "enteros_aleatorios1 = randint(0,len(trainval_images),int(len(trainval_images)*0.10))\n",
        "\n",
        "mask1 = pd.Series(randomizado1).isin(enteros_aleatorios1)\n",
        "\n",
        "validation_images = trainval_images[mask1]\n",
        "validation_labels = trainval_labels[mask1]\n",
        "train_images = trainval_images[~mask1]\n",
        "train_labels = trainval_labels[~mask1]"
      ],
      "execution_count": 6,
      "outputs": []
    },
    {
      "cell_type": "markdown",
      "metadata": {
        "id": "gyc5KxDFdhtI"
      },
      "source": [
        "## Seeing the dataset images"
      ]
    },
    {
      "cell_type": "code",
      "metadata": {
        "id": "4uWy6y9odMJN"
      },
      "source": [
        "\n",
        "### To see mushrooms when I want\n",
        "def plot_mushroom_image(N, imgs, labels):\n",
        "    print(labels[N])\n",
        "    plt.imshow(imgs[N,], cmap=plt.cm.binary)\n",
        "    plt.grid(True)"
      ],
      "execution_count": 7,
      "outputs": []
    },
    {
      "cell_type": "code",
      "metadata": {
        "colab": {
          "base_uri": "https://localhost:8080/",
          "height": 292
        },
        "id": "8Y3yw38Xdat2",
        "outputId": "ca4bd5a2-3d03-493d-e2cd-c2601e5df4aa"
      },
      "source": [
        "### This is the function defined above to see mushrooms I want\n",
        "plot_mushroom_image(939,train_images,train_labels)"
      ],
      "execution_count": 8,
      "outputs": [
        {
          "output_type": "stream",
          "text": [
            "Agaricus campestris\n"
          ],
          "name": "stdout"
        },
        {
          "output_type": "display_data",
          "data": {
            "image/png": "[encoded data removed]",
            "text/plain": [
              "<Figure size 432x288 with 1 Axes>"
            ]
          },
          "metadata": {
            "tags": [],
            "needs_background": "light"
          }
        }
      ]
    },
    {
      "cell_type": "markdown",
      "metadata": {
        "id": "hRKWdcqXfYnW"
      },
      "source": [
        "## One Hot Encoding"
      ]
    },
    {
      "cell_type": "code",
      "metadata": {
        "id": "SGr13NUYdu7T"
      },
      "source": [
        "### One Hot Encoding for train, test and validation\n",
        "\n",
        "ohetrain = OneHotEncoder(sparse = False)\n",
        "le = LabelEncoder()\n",
        "OneHotTrain = ohetrain.fit_transform(le.fit_transform(train_labels).reshape(-1, 1))\n",
        "\n",
        "ohetest = OneHotEncoder(sparse = False)\n",
        "le = LabelEncoder()\n",
        "OneHotTest = ohetest.fit_transform(le.fit_transform(test_labels).reshape(-1, 1))\n",
        "\n",
        "oheval = OneHotEncoder(sparse = False)\n",
        "le = LabelEncoder()\n",
        "OneHotVal = oheval.fit_transform(le.fit_transform(validation_labels).reshape(-1, 1))"
      ],
      "execution_count": 9,
      "outputs": []
    },
    {
      "cell_type": "markdown",
      "metadata": {
        "id": "XOC9nYAylNuM"
      },
      "source": [
        "## CNN (Convolutional Neural Network)"
      ]
    },
    {
      "cell_type": "code",
      "metadata": {
        "id": "8eTFwKMjsalO",
        "colab": {
          "base_uri": "https://localhost:8080/"
        },
        "outputId": "995915e8-9f0d-478b-d50b-1e964aa9e279"
      },
      "source": [
        "### We defined the parameters to use in the neural network, INIT_LR: the learning rate to apply SGD (Stochastic Gradient Descent), epochs, batch size\n",
        "### and nClasses (How many classes are).\n",
        "\n",
        "INIT_LR = 0.01\n",
        "epochs = 200\n",
        "batch_size = 32\n",
        "nClasses = len(mushrooms_directory)\n",
        "\n",
        "### Define the model with layers, ending with a softmax because we have multiple classes.\n",
        "\n",
        "def cnn_model():\n",
        "  model = Sequential()\n",
        "\n",
        "  model.add(Conv2D(filters = 16, kernel_size = (5,5),padding = 'Same', \n",
        "                 activation ='relu', input_shape = (28,28,3)))\n",
        "  model.add(Conv2D(filters = 32, kernel_size = (5,5),padding = 'Same', \n",
        "                 activation ='relu'))\n",
        "  model.add(MaxPool2D(pool_size=(3,3)))\n",
        "  model.add(Dropout(0.25))\n",
        "\n",
        "  model.add(Conv2D(filters = 32, kernel_size = (3,3),padding = 'Same', \n",
        "                 activation ='relu'))\n",
        "  model.add(MaxPool2D(pool_size=(3,3)))\n",
        "  model.add(Dropout(0.25))\n",
        "\n",
        "  \n",
        "  model.add(Flatten())\n",
        "\n",
        "  model.add(Dense(200, activation='relu'))\n",
        "  model.add(Dense(100, activation='relu'))\n",
        "  model.add(Dense(nClasses, activation='softmax'))\n",
        "\n",
        "  ### Resume of the model\n",
        "  \n",
        "  model.summary()\n",
        "\n",
        "  return model\n",
        "  \n",
        "model = cnn_model()"
      ],
      "execution_count": 10,
      "outputs": [
        {
          "output_type": "stream",
          "text": [
            "Model: \"sequential\"\n",
            "_________________________________________________________________\n",
            "Layer (type)                 Output Shape              Param #   \n",
            "=================================================================\n",
            "conv2d (Conv2D)              (None, 28, 28, 16)        1216      \n",
            "_________________________________________________________________\n",
            "conv2d_1 (Conv2D)            (None, 28, 28, 32)        12832     \n",
            "_________________________________________________________________\n",
            "max_pooling2d (MaxPooling2D) (None, 9, 9, 32)          0         \n",
            "_________________________________________________________________\n",
            "dropout (Dropout)            (None, 9, 9, 32)          0         \n",
            "_________________________________________________________________\n",
            "conv2d_2 (Conv2D)            (None, 9, 9, 32)          9248      \n",
            "_________________________________________________________________\n",
            "max_pooling2d_1 (MaxPooling2 (None, 3, 3, 32)          0         \n",
            "_________________________________________________________________\n",
            "dropout_1 (Dropout)          (None, 3, 3, 32)          0         \n",
            "_________________________________________________________________\n",
            "flatten (Flatten)            (None, 288)               0         \n",
            "_________________________________________________________________\n",
            "dense (Dense)                (None, 200)               57800     \n",
            "_________________________________________________________________\n",
            "dense_1 (Dense)              (None, 100)               20100     \n",
            "_________________________________________________________________\n",
            "dense_2 (Dense)              (None, 48)                4848      \n",
            "=================================================================\n",
            "Total params: 106,044\n",
            "Trainable params: 106,044\n",
            "Non-trainable params: 0\n",
            "_________________________________________________________________\n"
          ],
          "name": "stdout"
        }
      ]
    },
    {
      "cell_type": "code",
      "metadata": {
        "id": "CgpZhaBx8LJX"
      },
      "source": [
        "#### SGD Optimizer\n",
        "\n",
        "model.compile(optimizer=optimizers.SGD(INIT_LR),loss=losses.categorical_crossentropy,metrics=[metrics.categorical_accuracy])"
      ],
      "execution_count": 11,
      "outputs": []
    },
    {
      "cell_type": "code",
      "metadata": {
        "colab": {
          "base_uri": "https://localhost:8080/"
        },
        "id": "Oigv6Aj-thzF",
        "outputId": "92801b22-e17e-42c1-bfc6-43fc128d9c15"
      },
      "source": [
        "### Train the model\n",
        "\n",
        "h = model.fit(train_images,OneHotTrain, batch_size=batch_size,epochs=epochs,verbose=1,validation_data=(validation_images,OneHotVal))\n"
      ],
      "execution_count": 12,
      "outputs": [
        {
          "output_type": "stream",
          "text": [
            "Epoch 1/200\n",
            "590/590 [==============================] - 58s 98ms/step - loss: 3.8763 - categorical_accuracy: 0.0205 - val_loss: 3.8707 - val_categorical_accuracy: 0.0302\n",
            "Epoch 2/200\n",
            "590/590 [==============================] - 58s 98ms/step - loss: 3.8712 - categorical_accuracy: 0.0226 - val_loss: 3.8703 - val_categorical_accuracy: 0.0322\n",
            "Epoch 3/200\n",
            "590/590 [==============================] - 57s 97ms/step - loss: 3.8696 - categorical_accuracy: 0.0245 - val_loss: 3.8681 - val_categorical_accuracy: 0.0287\n",
            "Epoch 4/200\n",
            "590/590 [==============================] - 58s 98ms/step - loss: 3.8667 - categorical_accuracy: 0.0278 - val_loss: 3.8624 - val_categorical_accuracy: 0.0447\n",
            "Epoch 5/200\n",
            "590/590 [==============================] - 58s 98ms/step - loss: 3.8545 - categorical_accuracy: 0.0395 - val_loss: 3.8206 - val_categorical_accuracy: 0.0437\n",
            "Epoch 6/200\n",
            "590/590 [==============================] - 56s 96ms/step - loss: 3.7704 - categorical_accuracy: 0.0459 - val_loss: 3.7250 - val_categorical_accuracy: 0.0568\n",
            "Epoch 7/200\n",
            "590/590 [==============================] - 56s 96ms/step - loss: 3.6488 - categorical_accuracy: 0.0568 - val_loss: 3.6701 - val_categorical_accuracy: 0.0518\n",
            "Epoch 8/200\n",
            "590/590 [==============================] - 56s 96ms/step - loss: 3.5451 - categorical_accuracy: 0.0690 - val_loss: 3.5694 - val_categorical_accuracy: 0.0623\n",
            "Epoch 9/200\n",
            "590/590 [==============================] - 56s 96ms/step - loss: 3.4692 - categorical_accuracy: 0.0750 - val_loss: 3.6141 - val_categorical_accuracy: 0.0684\n",
            "Epoch 10/200\n",
            "590/590 [==============================] - 57s 96ms/step - loss: 3.4030 - categorical_accuracy: 0.0905 - val_loss: 3.3926 - val_categorical_accuracy: 0.0644\n",
            "Epoch 11/200\n",
            "590/590 [==============================] - 57s 96ms/step - loss: 3.3507 - categorical_accuracy: 0.0966 - val_loss: 3.3305 - val_categorical_accuracy: 0.1021\n",
            "Epoch 12/200\n",
            "590/590 [==============================] - 56s 96ms/step - loss: 3.3122 - categorical_accuracy: 0.1077 - val_loss: 3.5354 - val_categorical_accuracy: 0.0840\n",
            "Epoch 13/200\n",
            "590/590 [==============================] - 57s 96ms/step - loss: 3.2451 - categorical_accuracy: 0.1187 - val_loss: 3.6587 - val_categorical_accuracy: 0.0749\n",
            "Epoch 14/200\n",
            "590/590 [==============================] - 57s 96ms/step - loss: 3.1938 - categorical_accuracy: 0.1346 - val_loss: 3.1948 - val_categorical_accuracy: 0.1428\n",
            "Epoch 15/200\n",
            "590/590 [==============================] - 56s 96ms/step - loss: 3.1379 - categorical_accuracy: 0.1498 - val_loss: 3.0766 - val_categorical_accuracy: 0.1770\n",
            "Epoch 16/200\n",
            "590/590 [==============================] - 57s 96ms/step - loss: 3.0753 - categorical_accuracy: 0.1646 - val_loss: 3.0976 - val_categorical_accuracy: 0.1719\n",
            "Epoch 17/200\n",
            "590/590 [==============================] - 57s 97ms/step - loss: 3.0410 - categorical_accuracy: 0.1740 - val_loss: 3.2496 - val_categorical_accuracy: 0.1357\n",
            "Epoch 18/200\n",
            "590/590 [==============================] - 57s 96ms/step - loss: 2.9850 - categorical_accuracy: 0.1816 - val_loss: 4.1320 - val_categorical_accuracy: 0.0598\n",
            "Epoch 19/200\n",
            "590/590 [==============================] - 57s 97ms/step - loss: 2.9623 - categorical_accuracy: 0.1936 - val_loss: 3.1169 - val_categorical_accuracy: 0.1357\n",
            "Epoch 20/200\n",
            "590/590 [==============================] - 57s 97ms/step - loss: 2.9080 - categorical_accuracy: 0.2022 - val_loss: 3.3643 - val_categorical_accuracy: 0.1267\n",
            "Epoch 21/200\n",
            "590/590 [==============================] - 57s 97ms/step - loss: 2.8724 - categorical_accuracy: 0.2141 - val_loss: 3.3049 - val_categorical_accuracy: 0.1398\n",
            "Epoch 22/200\n",
            "590/590 [==============================] - 57s 97ms/step - loss: 2.8247 - categorical_accuracy: 0.2208 - val_loss: 3.0744 - val_categorical_accuracy: 0.1735\n",
            "Epoch 23/200\n",
            "590/590 [==============================] - 57s 97ms/step - loss: 2.7779 - categorical_accuracy: 0.2309 - val_loss: 3.2758 - val_categorical_accuracy: 0.1287\n",
            "Epoch 24/200\n",
            "590/590 [==============================] - 58s 98ms/step - loss: 2.7399 - categorical_accuracy: 0.2402 - val_loss: 3.2905 - val_categorical_accuracy: 0.1709\n",
            "Epoch 25/200\n",
            "590/590 [==============================] - 57s 96ms/step - loss: 2.7290 - categorical_accuracy: 0.2454 - val_loss: 3.2383 - val_categorical_accuracy: 0.1398\n",
            "Epoch 26/200\n",
            "590/590 [==============================] - 57s 97ms/step - loss: 2.6949 - categorical_accuracy: 0.2474 - val_loss: 2.6257 - val_categorical_accuracy: 0.2710\n",
            "Epoch 27/200\n",
            "590/590 [==============================] - 57s 97ms/step - loss: 2.6348 - categorical_accuracy: 0.2625 - val_loss: 2.9721 - val_categorical_accuracy: 0.2056\n",
            "Epoch 28/200\n",
            "590/590 [==============================] - 57s 97ms/step - loss: 2.6069 - categorical_accuracy: 0.2612 - val_loss: 2.7758 - val_categorical_accuracy: 0.2358\n",
            "Epoch 29/200\n",
            "590/590 [==============================] - 57s 97ms/step - loss: 2.5808 - categorical_accuracy: 0.2733 - val_loss: 2.6170 - val_categorical_accuracy: 0.2680\n",
            "Epoch 30/200\n",
            "590/590 [==============================] - 57s 97ms/step - loss: 2.5541 - categorical_accuracy: 0.2789 - val_loss: 3.0671 - val_categorical_accuracy: 0.1664\n",
            "Epoch 31/200\n",
            "590/590 [==============================] - 57s 97ms/step - loss: 2.5548 - categorical_accuracy: 0.2830 - val_loss: 2.8485 - val_categorical_accuracy: 0.2262\n",
            "Epoch 32/200\n",
            "590/590 [==============================] - 57s 97ms/step - loss: 2.5024 - categorical_accuracy: 0.2893 - val_loss: 2.6655 - val_categorical_accuracy: 0.2469\n",
            "Epoch 33/200\n",
            "590/590 [==============================] - 57s 97ms/step - loss: 2.4572 - categorical_accuracy: 0.3031 - val_loss: 3.4869 - val_categorical_accuracy: 0.1493\n",
            "Epoch 34/200\n",
            "590/590 [==============================] - 57s 97ms/step - loss: 2.4552 - categorical_accuracy: 0.3037 - val_loss: 2.7022 - val_categorical_accuracy: 0.2494\n",
            "Epoch 35/200\n",
            "590/590 [==============================] - 57s 97ms/step - loss: 2.4371 - categorical_accuracy: 0.3091 - val_loss: 2.5728 - val_categorical_accuracy: 0.2640\n",
            "Epoch 36/200\n",
            "590/590 [==============================] - 58s 98ms/step - loss: 2.3897 - categorical_accuracy: 0.3164 - val_loss: 3.4661 - val_categorical_accuracy: 0.1408\n",
            "Epoch 37/200\n",
            "590/590 [==============================] - 57s 97ms/step - loss: 2.3726 - categorical_accuracy: 0.3245 - val_loss: 2.7605 - val_categorical_accuracy: 0.2222\n",
            "Epoch 38/200\n",
            "590/590 [==============================] - 57s 97ms/step - loss: 2.3508 - categorical_accuracy: 0.3251 - val_loss: 3.0029 - val_categorical_accuracy: 0.1921\n",
            "Epoch 39/200\n",
            "590/590 [==============================] - 58s 97ms/step - loss: 2.3352 - categorical_accuracy: 0.3306 - val_loss: 2.8242 - val_categorical_accuracy: 0.2232\n",
            "Epoch 40/200\n",
            "590/590 [==============================] - 58s 98ms/step - loss: 2.3148 - categorical_accuracy: 0.3356 - val_loss: 2.5427 - val_categorical_accuracy: 0.2916\n",
            "Epoch 41/200\n",
            "590/590 [==============================] - 58s 97ms/step - loss: 2.2845 - categorical_accuracy: 0.3438 - val_loss: 2.7930 - val_categorical_accuracy: 0.2192\n",
            "Epoch 42/200\n",
            "590/590 [==============================] - 58s 98ms/step - loss: 2.2527 - categorical_accuracy: 0.3539 - val_loss: 2.5599 - val_categorical_accuracy: 0.2685\n",
            "Epoch 43/200\n",
            "590/590 [==============================] - 57s 97ms/step - loss: 2.2381 - categorical_accuracy: 0.3497 - val_loss: 2.3084 - val_categorical_accuracy: 0.3278\n",
            "Epoch 44/200\n",
            "590/590 [==============================] - 57s 97ms/step - loss: 2.1905 - categorical_accuracy: 0.3617 - val_loss: 2.5652 - val_categorical_accuracy: 0.2760\n",
            "Epoch 45/200\n",
            "590/590 [==============================] - 58s 98ms/step - loss: 2.1814 - categorical_accuracy: 0.3607 - val_loss: 2.7814 - val_categorical_accuracy: 0.2368\n",
            "Epoch 46/200\n",
            "590/590 [==============================] - 57s 97ms/step - loss: 2.1631 - categorical_accuracy: 0.3706 - val_loss: 2.7329 - val_categorical_accuracy: 0.2589\n",
            "Epoch 47/200\n",
            "590/590 [==============================] - 58s 98ms/step - loss: 2.1389 - categorical_accuracy: 0.3745 - val_loss: 2.2836 - val_categorical_accuracy: 0.3404\n",
            "Epoch 48/200\n",
            "590/590 [==============================] - 58s 98ms/step - loss: 2.1058 - categorical_accuracy: 0.3887 - val_loss: 2.2344 - val_categorical_accuracy: 0.3509\n",
            "Epoch 49/200\n",
            "590/590 [==============================] - 58s 99ms/step - loss: 2.0806 - categorical_accuracy: 0.3910 - val_loss: 2.9064 - val_categorical_accuracy: 0.2393\n",
            "Epoch 50/200\n",
            "590/590 [==============================] - 58s 98ms/step - loss: 2.0953 - categorical_accuracy: 0.3875 - val_loss: 2.3398 - val_categorical_accuracy: 0.3404\n",
            "Epoch 51/200\n",
            "590/590 [==============================] - 59s 101ms/step - loss: 2.0625 - categorical_accuracy: 0.3947 - val_loss: 2.2099 - val_categorical_accuracy: 0.3650\n",
            "Epoch 52/200\n",
            "590/590 [==============================] - 59s 99ms/step - loss: 2.0164 - categorical_accuracy: 0.4076 - val_loss: 2.0590 - val_categorical_accuracy: 0.4027\n",
            "Epoch 53/200\n",
            "590/590 [==============================] - 59s 100ms/step - loss: 2.0142 - categorical_accuracy: 0.4047 - val_loss: 2.6743 - val_categorical_accuracy: 0.2815\n",
            "Epoch 54/200\n",
            "590/590 [==============================] - 58s 99ms/step - loss: 2.0097 - categorical_accuracy: 0.4109 - val_loss: 2.5620 - val_categorical_accuracy: 0.2810\n",
            "Epoch 55/200\n",
            "590/590 [==============================] - 59s 99ms/step - loss: 2.0001 - categorical_accuracy: 0.4124 - val_loss: 2.2057 - val_categorical_accuracy: 0.3625\n",
            "Epoch 56/200\n",
            "590/590 [==============================] - 59s 99ms/step - loss: 1.9566 - categorical_accuracy: 0.4239 - val_loss: 2.2350 - val_categorical_accuracy: 0.3590\n",
            "Epoch 57/200\n",
            "590/590 [==============================] - 58s 98ms/step - loss: 1.9514 - categorical_accuracy: 0.4225 - val_loss: 2.0814 - val_categorical_accuracy: 0.4032\n",
            "Epoch 58/200\n",
            "590/590 [==============================] - 58s 98ms/step - loss: 1.9122 - categorical_accuracy: 0.4327 - val_loss: 2.3755 - val_categorical_accuracy: 0.3534\n",
            "Epoch 59/200\n",
            "590/590 [==============================] - 58s 98ms/step - loss: 1.9300 - categorical_accuracy: 0.4311 - val_loss: 3.5639 - val_categorical_accuracy: 0.1996\n",
            "Epoch 60/200\n",
            "590/590 [==============================] - 58s 98ms/step - loss: 1.8909 - categorical_accuracy: 0.4434 - val_loss: 2.5143 - val_categorical_accuracy: 0.2996\n",
            "Epoch 61/200\n",
            "590/590 [==============================] - 58s 98ms/step - loss: 1.8754 - categorical_accuracy: 0.4461 - val_loss: 1.9160 - val_categorical_accuracy: 0.4600\n",
            "Epoch 62/200\n",
            "590/590 [==============================] - 58s 99ms/step - loss: 1.8467 - categorical_accuracy: 0.4553 - val_loss: 2.4815 - val_categorical_accuracy: 0.3273\n",
            "Epoch 63/200\n",
            "590/590 [==============================] - 58s 99ms/step - loss: 1.8435 - categorical_accuracy: 0.4529 - val_loss: 2.6480 - val_categorical_accuracy: 0.2589\n",
            "Epoch 64/200\n",
            "590/590 [==============================] - 59s 99ms/step - loss: 1.8340 - categorical_accuracy: 0.4549 - val_loss: 3.1657 - val_categorical_accuracy: 0.2257\n",
            "Epoch 65/200\n",
            "590/590 [==============================] - 59s 99ms/step - loss: 1.8130 - categorical_accuracy: 0.4680 - val_loss: 2.5656 - val_categorical_accuracy: 0.3419\n",
            "Epoch 66/200\n",
            "590/590 [==============================] - 59s 99ms/step - loss: 1.7926 - categorical_accuracy: 0.4687 - val_loss: 2.1557 - val_categorical_accuracy: 0.3655\n",
            "Epoch 67/200\n",
            "590/590 [==============================] - 59s 99ms/step - loss: 1.7934 - categorical_accuracy: 0.4663 - val_loss: 2.4549 - val_categorical_accuracy: 0.3363\n",
            "Epoch 68/200\n",
            "590/590 [==============================] - 59s 100ms/step - loss: 1.7641 - categorical_accuracy: 0.4727 - val_loss: 3.5808 - val_categorical_accuracy: 0.2102\n",
            "Epoch 69/200\n",
            "590/590 [==============================] - 59s 100ms/step - loss: 1.7547 - categorical_accuracy: 0.4816 - val_loss: 2.4358 - val_categorical_accuracy: 0.3278\n",
            "Epoch 70/200\n",
            "590/590 [==============================] - 59s 100ms/step - loss: 1.7270 - categorical_accuracy: 0.4784 - val_loss: 1.8337 - val_categorical_accuracy: 0.4691\n",
            "Epoch 71/200\n",
            "590/590 [==============================] - 59s 100ms/step - loss: 1.6999 - categorical_accuracy: 0.4881 - val_loss: 2.0016 - val_categorical_accuracy: 0.4339\n",
            "Epoch 72/200\n",
            "590/590 [==============================] - 59s 100ms/step - loss: 1.6911 - categorical_accuracy: 0.4881 - val_loss: 2.2468 - val_categorical_accuracy: 0.3640\n",
            "Epoch 73/200\n",
            "590/590 [==============================] - 59s 100ms/step - loss: 1.7022 - categorical_accuracy: 0.4908 - val_loss: 1.9417 - val_categorical_accuracy: 0.4444\n",
            "Epoch 74/200\n",
            "590/590 [==============================] - 59s 100ms/step - loss: 1.6572 - categorical_accuracy: 0.5040 - val_loss: 2.2585 - val_categorical_accuracy: 0.3685\n",
            "Epoch 75/200\n",
            "590/590 [==============================] - 59s 100ms/step - loss: 1.6697 - categorical_accuracy: 0.4973 - val_loss: 2.4412 - val_categorical_accuracy: 0.3132\n",
            "Epoch 76/200\n",
            "590/590 [==============================] - 59s 101ms/step - loss: 1.6331 - categorical_accuracy: 0.5130 - val_loss: 2.2778 - val_categorical_accuracy: 0.3484\n",
            "Epoch 77/200\n",
            "590/590 [==============================] - 60s 101ms/step - loss: 1.6401 - categorical_accuracy: 0.5000 - val_loss: 2.1707 - val_categorical_accuracy: 0.4188\n",
            "Epoch 78/200\n",
            "590/590 [==============================] - 60s 101ms/step - loss: 1.6389 - categorical_accuracy: 0.5071 - val_loss: 1.9305 - val_categorical_accuracy: 0.4379\n",
            "Epoch 79/200\n",
            "590/590 [==============================] - 60s 101ms/step - loss: 1.5829 - categorical_accuracy: 0.5273 - val_loss: 5.8163 - val_categorical_accuracy: 0.0885\n",
            "Epoch 80/200\n",
            "590/590 [==============================] - 59s 101ms/step - loss: 1.6370 - categorical_accuracy: 0.5168 - val_loss: 2.1034 - val_categorical_accuracy: 0.4118\n",
            "Epoch 81/200\n",
            "590/590 [==============================] - 59s 100ms/step - loss: 1.5397 - categorical_accuracy: 0.5262 - val_loss: 2.6898 - val_categorical_accuracy: 0.3087\n",
            "Epoch 82/200\n",
            "590/590 [==============================] - 59s 100ms/step - loss: 1.5902 - categorical_accuracy: 0.5218 - val_loss: 3.0523 - val_categorical_accuracy: 0.2594\n",
            "Epoch 83/200\n",
            "590/590 [==============================] - 59s 100ms/step - loss: 1.5548 - categorical_accuracy: 0.5285 - val_loss: 2.4425 - val_categorical_accuracy: 0.3565\n",
            "Epoch 84/200\n",
            "590/590 [==============================] - 59s 99ms/step - loss: 1.5421 - categorical_accuracy: 0.5314 - val_loss: 2.0644 - val_categorical_accuracy: 0.4299\n",
            "Epoch 85/200\n",
            "590/590 [==============================] - 59s 101ms/step - loss: 1.5038 - categorical_accuracy: 0.5426 - val_loss: 2.2500 - val_categorical_accuracy: 0.3736\n",
            "Epoch 86/200\n",
            "590/590 [==============================] - 59s 100ms/step - loss: 1.5134 - categorical_accuracy: 0.5422 - val_loss: 1.8391 - val_categorical_accuracy: 0.4721\n",
            "Epoch 87/200\n",
            "590/590 [==============================] - 59s 100ms/step - loss: 1.4896 - categorical_accuracy: 0.5456 - val_loss: 1.9466 - val_categorical_accuracy: 0.4505\n",
            "Epoch 88/200\n",
            "590/590 [==============================] - 59s 100ms/step - loss: 1.4806 - categorical_accuracy: 0.5475 - val_loss: 1.7363 - val_categorical_accuracy: 0.5048\n",
            "Epoch 89/200\n",
            "590/590 [==============================] - 60s 101ms/step - loss: 1.4618 - categorical_accuracy: 0.5511 - val_loss: 2.4085 - val_categorical_accuracy: 0.3595\n",
            "Epoch 90/200\n",
            "590/590 [==============================] - 60s 102ms/step - loss: 1.4863 - categorical_accuracy: 0.5532 - val_loss: 1.8545 - val_categorical_accuracy: 0.4741\n",
            "Epoch 91/200\n",
            "590/590 [==============================] - 60s 101ms/step - loss: 1.4501 - categorical_accuracy: 0.5521 - val_loss: 1.8659 - val_categorical_accuracy: 0.4600\n",
            "Epoch 92/200\n",
            "590/590 [==============================] - 59s 101ms/step - loss: 1.4318 - categorical_accuracy: 0.5592 - val_loss: 2.4505 - val_categorical_accuracy: 0.3821\n",
            "Epoch 93/200\n",
            "590/590 [==============================] - 59s 101ms/step - loss: 1.4360 - categorical_accuracy: 0.5599 - val_loss: 1.9530 - val_categorical_accuracy: 0.4540\n",
            "Epoch 94/200\n",
            "590/590 [==============================] - 59s 100ms/step - loss: 1.4349 - categorical_accuracy: 0.5651 - val_loss: 2.6276 - val_categorical_accuracy: 0.3072\n",
            "Epoch 95/200\n",
            "590/590 [==============================] - 59s 99ms/step - loss: 1.4075 - categorical_accuracy: 0.5694 - val_loss: 1.7050 - val_categorical_accuracy: 0.5033\n",
            "Epoch 96/200\n",
            "590/590 [==============================] - 59s 100ms/step - loss: 1.4070 - categorical_accuracy: 0.5651 - val_loss: 1.9633 - val_categorical_accuracy: 0.4555\n",
            "Epoch 97/200\n",
            "590/590 [==============================] - 59s 100ms/step - loss: 1.4010 - categorical_accuracy: 0.5642 - val_loss: 2.2947 - val_categorical_accuracy: 0.4002\n",
            "Epoch 98/200\n",
            "590/590 [==============================] - 59s 100ms/step - loss: 1.3892 - categorical_accuracy: 0.5741 - val_loss: 1.9462 - val_categorical_accuracy: 0.4550\n",
            "Epoch 99/200\n",
            "590/590 [==============================] - 59s 100ms/step - loss: 1.3771 - categorical_accuracy: 0.5749 - val_loss: 2.3068 - val_categorical_accuracy: 0.3932\n",
            "Epoch 100/200\n",
            "590/590 [==============================] - 59s 101ms/step - loss: 1.3768 - categorical_accuracy: 0.5773 - val_loss: 1.5463 - val_categorical_accuracy: 0.5460\n",
            "Epoch 101/200\n",
            "590/590 [==============================] - 59s 101ms/step - loss: 1.3342 - categorical_accuracy: 0.5916 - val_loss: 1.5563 - val_categorical_accuracy: 0.5500\n",
            "Epoch 102/200\n",
            "590/590 [==============================] - 59s 101ms/step - loss: 1.3427 - categorical_accuracy: 0.5842 - val_loss: 2.2293 - val_categorical_accuracy: 0.4103\n",
            "Epoch 103/200\n",
            "590/590 [==============================] - 59s 100ms/step - loss: 1.3230 - categorical_accuracy: 0.5922 - val_loss: 1.5776 - val_categorical_accuracy: 0.5490\n",
            "Epoch 104/200\n",
            "590/590 [==============================] - 59s 100ms/step - loss: 1.3198 - categorical_accuracy: 0.5884 - val_loss: 1.8256 - val_categorical_accuracy: 0.4751\n",
            "Epoch 105/200\n",
            "590/590 [==============================] - 60s 101ms/step - loss: 1.3156 - categorical_accuracy: 0.5955 - val_loss: 2.4475 - val_categorical_accuracy: 0.3600\n",
            "Epoch 106/200\n",
            "590/590 [==============================] - 59s 101ms/step - loss: 1.2991 - categorical_accuracy: 0.5960 - val_loss: 1.8507 - val_categorical_accuracy: 0.4746\n",
            "Epoch 107/200\n",
            "590/590 [==============================] - 59s 101ms/step - loss: 1.3017 - categorical_accuracy: 0.5979 - val_loss: 1.9624 - val_categorical_accuracy: 0.4691\n",
            "Epoch 108/200\n",
            "590/590 [==============================] - 59s 100ms/step - loss: 1.2835 - categorical_accuracy: 0.6000 - val_loss: 3.8161 - val_categorical_accuracy: 0.1961\n",
            "Epoch 109/200\n",
            "590/590 [==============================] - 60s 101ms/step - loss: 1.3712 - categorical_accuracy: 0.5856 - val_loss: 1.7572 - val_categorical_accuracy: 0.5013\n",
            "Epoch 110/200\n",
            "590/590 [==============================] - 59s 101ms/step - loss: 1.2873 - categorical_accuracy: 0.5998 - val_loss: 2.0813 - val_categorical_accuracy: 0.4409\n",
            "Epoch 111/200\n",
            "590/590 [==============================] - 59s 100ms/step - loss: 1.2752 - categorical_accuracy: 0.6013 - val_loss: 2.1316 - val_categorical_accuracy: 0.4485\n",
            "Epoch 112/200\n",
            "590/590 [==============================] - 59s 100ms/step - loss: 1.2449 - categorical_accuracy: 0.6181 - val_loss: 2.0140 - val_categorical_accuracy: 0.4676\n",
            "Epoch 113/200\n",
            "590/590 [==============================] - 59s 101ms/step - loss: 1.2364 - categorical_accuracy: 0.6163 - val_loss: 1.6051 - val_categorical_accuracy: 0.5395\n",
            "Epoch 114/200\n",
            "590/590 [==============================] - 59s 101ms/step - loss: 1.2580 - categorical_accuracy: 0.6110 - val_loss: 1.4253 - val_categorical_accuracy: 0.5902\n",
            "Epoch 115/200\n",
            "590/590 [==============================] - 59s 101ms/step - loss: 1.2366 - categorical_accuracy: 0.6146 - val_loss: 2.0688 - val_categorical_accuracy: 0.4565\n",
            "Epoch 116/200\n",
            "590/590 [==============================] - 59s 101ms/step - loss: 1.2412 - categorical_accuracy: 0.6164 - val_loss: 3.0538 - val_categorical_accuracy: 0.2946\n",
            "Epoch 117/200\n",
            "590/590 [==============================] - 60s 101ms/step - loss: 1.2446 - categorical_accuracy: 0.6161 - val_loss: 1.4609 - val_categorical_accuracy: 0.5802\n",
            "Epoch 118/200\n",
            "590/590 [==============================] - 60s 101ms/step - loss: 1.2120 - categorical_accuracy: 0.6218 - val_loss: 2.1950 - val_categorical_accuracy: 0.4439\n",
            "Epoch 119/200\n",
            "590/590 [==============================] - 60s 101ms/step - loss: 1.2446 - categorical_accuracy: 0.6164 - val_loss: 2.2188 - val_categorical_accuracy: 0.4344\n",
            "Epoch 120/200\n",
            "590/590 [==============================] - 59s 101ms/step - loss: 1.1967 - categorical_accuracy: 0.6269 - val_loss: 1.7891 - val_categorical_accuracy: 0.5093\n",
            "Epoch 121/200\n",
            "590/590 [==============================] - 59s 100ms/step - loss: 1.2031 - categorical_accuracy: 0.6263 - val_loss: 1.8397 - val_categorical_accuracy: 0.4827\n",
            "Epoch 122/200\n",
            "590/590 [==============================] - 59s 100ms/step - loss: 1.1961 - categorical_accuracy: 0.6313 - val_loss: 1.4894 - val_categorical_accuracy: 0.5757\n",
            "Epoch 123/200\n",
            "590/590 [==============================] - 60s 102ms/step - loss: 1.1663 - categorical_accuracy: 0.6335 - val_loss: 1.7645 - val_categorical_accuracy: 0.5048\n",
            "Epoch 124/200\n",
            "590/590 [==============================] - 60s 102ms/step - loss: 1.1407 - categorical_accuracy: 0.6455 - val_loss: 1.6535 - val_categorical_accuracy: 0.5415\n",
            "Epoch 125/200\n",
            "590/590 [==============================] - 60s 102ms/step - loss: 1.1591 - categorical_accuracy: 0.6359 - val_loss: 1.6049 - val_categorical_accuracy: 0.5546\n",
            "Epoch 126/200\n",
            "590/590 [==============================] - 60s 102ms/step - loss: 1.1622 - categorical_accuracy: 0.6347 - val_loss: 1.7731 - val_categorical_accuracy: 0.5219\n",
            "Epoch 127/200\n",
            "590/590 [==============================] - 60s 101ms/step - loss: 1.1533 - categorical_accuracy: 0.6382 - val_loss: 1.3825 - val_categorical_accuracy: 0.6053\n",
            "Epoch 128/200\n",
            "590/590 [==============================] - 60s 102ms/step - loss: 1.1331 - categorical_accuracy: 0.6393 - val_loss: 1.7810 - val_categorical_accuracy: 0.5068\n",
            "Epoch 129/200\n",
            "590/590 [==============================] - 60s 102ms/step - loss: 1.1314 - categorical_accuracy: 0.6456 - val_loss: 2.2056 - val_categorical_accuracy: 0.4299\n",
            "Epoch 130/200\n",
            "590/590 [==============================] - 61s 103ms/step - loss: 1.1494 - categorical_accuracy: 0.6434 - val_loss: 2.4371 - val_categorical_accuracy: 0.4052\n",
            "Epoch 131/200\n",
            "590/590 [==============================] - 61s 103ms/step - loss: 1.1421 - categorical_accuracy: 0.6422 - val_loss: 1.5399 - val_categorical_accuracy: 0.5651\n",
            "Epoch 132/200\n",
            "590/590 [==============================] - 61s 103ms/step - loss: 1.1094 - categorical_accuracy: 0.6506 - val_loss: 1.7926 - val_categorical_accuracy: 0.4957\n",
            "Epoch 133/200\n",
            "590/590 [==============================] - 60s 102ms/step - loss: 1.1299 - categorical_accuracy: 0.6519 - val_loss: 4.9191 - val_categorical_accuracy: 0.2212\n",
            "Epoch 134/200\n",
            "590/590 [==============================] - 60s 102ms/step - loss: 1.1757 - categorical_accuracy: 0.6379 - val_loss: 2.0093 - val_categorical_accuracy: 0.4706\n",
            "Epoch 135/200\n",
            "590/590 [==============================] - 60s 102ms/step - loss: 1.0749 - categorical_accuracy: 0.6599 - val_loss: 3.0144 - val_categorical_accuracy: 0.3198\n",
            "Epoch 136/200\n",
            "590/590 [==============================] - 60s 101ms/step - loss: 1.1621 - categorical_accuracy: 0.6387 - val_loss: 1.5789 - val_categorical_accuracy: 0.5566\n",
            "Epoch 137/200\n",
            "590/590 [==============================] - 60s 102ms/step - loss: 1.0957 - categorical_accuracy: 0.6575 - val_loss: 3.5304 - val_categorical_accuracy: 0.2926\n",
            "Epoch 138/200\n",
            "590/590 [==============================] - 60s 101ms/step - loss: 1.1160 - categorical_accuracy: 0.6564 - val_loss: 2.9556 - val_categorical_accuracy: 0.3575\n",
            "Epoch 139/200\n",
            "590/590 [==============================] - 60s 101ms/step - loss: 1.1159 - categorical_accuracy: 0.6515 - val_loss: 2.2056 - val_categorical_accuracy: 0.4268\n",
            "Epoch 140/200\n",
            "590/590 [==============================] - 60s 102ms/step - loss: 1.1125 - categorical_accuracy: 0.6480 - val_loss: 1.3450 - val_categorical_accuracy: 0.6149\n",
            "Epoch 141/200\n",
            "590/590 [==============================] - 60s 101ms/step - loss: 1.0537 - categorical_accuracy: 0.6664 - val_loss: 1.4075 - val_categorical_accuracy: 0.5923\n",
            "Epoch 142/200\n",
            "590/590 [==============================] - 60s 101ms/step - loss: 1.0682 - categorical_accuracy: 0.6557 - val_loss: 1.9528 - val_categorical_accuracy: 0.4701\n",
            "Epoch 143/200\n",
            "590/590 [==============================] - 60s 102ms/step - loss: 1.0788 - categorical_accuracy: 0.6644 - val_loss: 2.0677 - val_categorical_accuracy: 0.4676\n",
            "Epoch 144/200\n",
            "590/590 [==============================] - 60s 101ms/step - loss: 1.0902 - categorical_accuracy: 0.6544 - val_loss: 1.7461 - val_categorical_accuracy: 0.5168\n",
            "Epoch 145/200\n",
            "590/590 [==============================] - 60s 101ms/step - loss: 1.0572 - categorical_accuracy: 0.6623 - val_loss: 1.6219 - val_categorical_accuracy: 0.5505\n",
            "Epoch 146/200\n",
            "590/590 [==============================] - 60s 101ms/step - loss: 1.0807 - categorical_accuracy: 0.6634 - val_loss: 2.5542 - val_categorical_accuracy: 0.4017\n",
            "Epoch 147/200\n",
            "590/590 [==============================] - 60s 101ms/step - loss: 1.0500 - categorical_accuracy: 0.6704 - val_loss: 3.5580 - val_categorical_accuracy: 0.2655\n",
            "Epoch 148/200\n",
            "590/590 [==============================] - 60s 102ms/step - loss: 1.1008 - categorical_accuracy: 0.6634 - val_loss: 1.6869 - val_categorical_accuracy: 0.5470\n",
            "Epoch 149/200\n",
            "590/590 [==============================] - 60s 102ms/step - loss: 1.0507 - categorical_accuracy: 0.6678 - val_loss: 1.3643 - val_categorical_accuracy: 0.6159\n",
            "Epoch 150/200\n",
            "590/590 [==============================] - 60s 101ms/step - loss: 1.0149 - categorical_accuracy: 0.6755 - val_loss: 1.4153 - val_categorical_accuracy: 0.5978\n",
            "Epoch 151/200\n",
            "590/590 [==============================] - 60s 101ms/step - loss: 1.0268 - categorical_accuracy: 0.6728 - val_loss: 2.8209 - val_categorical_accuracy: 0.3550\n",
            "Epoch 152/200\n",
            "590/590 [==============================] - 60s 101ms/step - loss: 1.0716 - categorical_accuracy: 0.6662 - val_loss: 1.4900 - val_categorical_accuracy: 0.5902\n",
            "Epoch 153/200\n",
            "590/590 [==============================] - 60s 101ms/step - loss: 1.0300 - categorical_accuracy: 0.6721 - val_loss: 1.2889 - val_categorical_accuracy: 0.6370\n",
            "Epoch 154/200\n",
            "590/590 [==============================] - 60s 102ms/step - loss: 0.9627 - categorical_accuracy: 0.6950 - val_loss: 1.6797 - val_categorical_accuracy: 0.5349\n",
            "Epoch 155/200\n",
            "590/590 [==============================] - 60s 101ms/step - loss: 1.0127 - categorical_accuracy: 0.6850 - val_loss: 2.6534 - val_categorical_accuracy: 0.4178\n",
            "Epoch 156/200\n",
            "590/590 [==============================] - 60s 102ms/step - loss: 1.0263 - categorical_accuracy: 0.6768 - val_loss: 1.3018 - val_categorical_accuracy: 0.6320\n",
            "Epoch 157/200\n",
            "590/590 [==============================] - 60s 102ms/step - loss: 0.9852 - categorical_accuracy: 0.6878 - val_loss: 1.3222 - val_categorical_accuracy: 0.6254\n",
            "Epoch 158/200\n",
            "590/590 [==============================] - 60s 102ms/step - loss: 0.9700 - categorical_accuracy: 0.6905 - val_loss: 1.7722 - val_categorical_accuracy: 0.5098\n",
            "Epoch 159/200\n",
            "590/590 [==============================] - 60s 102ms/step - loss: 0.9890 - categorical_accuracy: 0.6845 - val_loss: 1.7052 - val_categorical_accuracy: 0.5289\n",
            "Epoch 160/200\n",
            "590/590 [==============================] - 60s 102ms/step - loss: 0.9932 - categorical_accuracy: 0.6824 - val_loss: 2.4333 - val_categorical_accuracy: 0.4098\n",
            "Epoch 161/200\n",
            "590/590 [==============================] - 59s 101ms/step - loss: 1.0203 - categorical_accuracy: 0.6810 - val_loss: 3.0633 - val_categorical_accuracy: 0.3017\n",
            "Epoch 162/200\n",
            "590/590 [==============================] - 60s 101ms/step - loss: 1.0401 - categorical_accuracy: 0.6747 - val_loss: 1.2914 - val_categorical_accuracy: 0.6295\n",
            "Epoch 163/200\n",
            "590/590 [==============================] - 60s 101ms/step - loss: 0.9731 - categorical_accuracy: 0.6911 - val_loss: 1.9895 - val_categorical_accuracy: 0.4741\n",
            "Epoch 164/200\n",
            "590/590 [==============================] - 59s 100ms/step - loss: 0.9779 - categorical_accuracy: 0.6873 - val_loss: 2.5877 - val_categorical_accuracy: 0.4002\n",
            "Epoch 165/200\n",
            "590/590 [==============================] - 59s 100ms/step - loss: 0.9942 - categorical_accuracy: 0.6909 - val_loss: 1.6588 - val_categorical_accuracy: 0.5606\n",
            "Epoch 166/200\n",
            "590/590 [==============================] - 59s 101ms/step - loss: 0.9489 - categorical_accuracy: 0.6976 - val_loss: 8.6853 - val_categorical_accuracy: 0.1171\n",
            "Epoch 167/200\n",
            "590/590 [==============================] - 59s 101ms/step - loss: 1.1717 - categorical_accuracy: 0.6609 - val_loss: 2.9827 - val_categorical_accuracy: 0.3293\n",
            "Epoch 168/200\n",
            "590/590 [==============================] - 59s 100ms/step - loss: 1.0134 - categorical_accuracy: 0.6854 - val_loss: 1.3344 - val_categorical_accuracy: 0.6174\n",
            "Epoch 169/200\n",
            "590/590 [==============================] - 60s 101ms/step - loss: 0.9694 - categorical_accuracy: 0.6949 - val_loss: 1.9525 - val_categorical_accuracy: 0.5058\n",
            "Epoch 170/200\n",
            "590/590 [==============================] - 60s 101ms/step - loss: 0.9462 - categorical_accuracy: 0.6976 - val_loss: 1.4169 - val_categorical_accuracy: 0.5923\n",
            "Epoch 171/200\n",
            "590/590 [==============================] - 60s 101ms/step - loss: 0.9436 - categorical_accuracy: 0.6982 - val_loss: 1.4770 - val_categorical_accuracy: 0.5918\n",
            "Epoch 172/200\n",
            "590/590 [==============================] - 60s 102ms/step - loss: 0.9601 - categorical_accuracy: 0.7013 - val_loss: 1.4814 - val_categorical_accuracy: 0.5857\n",
            "Epoch 173/200\n",
            "590/590 [==============================] - 60s 102ms/step - loss: 0.9426 - categorical_accuracy: 0.6987 - val_loss: 2.9930 - val_categorical_accuracy: 0.3650\n",
            "Epoch 174/200\n",
            "590/590 [==============================] - 60s 102ms/step - loss: 0.9595 - categorical_accuracy: 0.6958 - val_loss: 1.6088 - val_categorical_accuracy: 0.5631\n",
            "Epoch 175/200\n",
            "590/590 [==============================] - 60s 101ms/step - loss: 0.9223 - categorical_accuracy: 0.7016 - val_loss: 1.7151 - val_categorical_accuracy: 0.5254\n",
            "Epoch 176/200\n",
            "590/590 [==============================] - 60s 101ms/step - loss: 0.9378 - categorical_accuracy: 0.7006 - val_loss: 1.8674 - val_categorical_accuracy: 0.5204\n",
            "Epoch 177/200\n",
            "590/590 [==============================] - 60s 102ms/step - loss: 0.9258 - categorical_accuracy: 0.7028 - val_loss: 1.3938 - val_categorical_accuracy: 0.6083\n",
            "Epoch 178/200\n",
            "590/590 [==============================] - 60s 102ms/step - loss: 0.8831 - categorical_accuracy: 0.7115 - val_loss: 1.2812 - val_categorical_accuracy: 0.6420\n",
            "Epoch 179/200\n",
            "590/590 [==============================] - 60s 101ms/step - loss: 0.9068 - categorical_accuracy: 0.7069 - val_loss: 4.8730 - val_categorical_accuracy: 0.1921\n",
            "Epoch 180/200\n",
            "590/590 [==============================] - 60s 102ms/step - loss: 1.0009 - categorical_accuracy: 0.6918 - val_loss: 1.2588 - val_categorical_accuracy: 0.6430\n",
            "Epoch 181/200\n",
            "590/590 [==============================] - 60s 101ms/step - loss: 0.9006 - categorical_accuracy: 0.7121 - val_loss: 1.3382 - val_categorical_accuracy: 0.6275\n",
            "Epoch 182/200\n",
            "590/590 [==============================] - 60s 102ms/step - loss: 0.8938 - categorical_accuracy: 0.7123 - val_loss: 1.7429 - val_categorical_accuracy: 0.5983\n",
            "Epoch 183/200\n",
            "590/590 [==============================] - 60s 102ms/step - loss: 0.9163 - categorical_accuracy: 0.7109 - val_loss: 1.3778 - val_categorical_accuracy: 0.6199\n",
            "Epoch 184/200\n",
            "590/590 [==============================] - 60s 101ms/step - loss: 0.9014 - categorical_accuracy: 0.7164 - val_loss: 1.3180 - val_categorical_accuracy: 0.6275\n",
            "Epoch 185/200\n",
            "590/590 [==============================] - 60s 102ms/step - loss: 0.8893 - categorical_accuracy: 0.7096 - val_loss: 1.9477 - val_categorical_accuracy: 0.4776\n",
            "Epoch 186/200\n",
            "590/590 [==============================] - 60s 102ms/step - loss: 0.9011 - categorical_accuracy: 0.7131 - val_loss: 1.2913 - val_categorical_accuracy: 0.6285\n",
            "Epoch 187/200\n",
            "590/590 [==============================] - 60s 102ms/step - loss: 0.8933 - categorical_accuracy: 0.7207 - val_loss: 2.8494 - val_categorical_accuracy: 0.3987\n",
            "Epoch 188/200\n",
            "590/590 [==============================] - 61s 103ms/step - loss: 0.9607 - categorical_accuracy: 0.6981 - val_loss: 1.2862 - val_categorical_accuracy: 0.6330\n",
            "Epoch 189/200\n",
            "590/590 [==============================] - 60s 102ms/step - loss: 0.8641 - categorical_accuracy: 0.7208 - val_loss: 1.3741 - val_categorical_accuracy: 0.6214\n",
            "Epoch 190/200\n",
            "590/590 [==============================] - 60s 102ms/step - loss: 0.8758 - categorical_accuracy: 0.7195 - val_loss: 5.1124 - val_categorical_accuracy: 0.2092\n",
            "Epoch 191/200\n",
            "590/590 [==============================] - 60s 102ms/step - loss: 0.9919 - categorical_accuracy: 0.7032 - val_loss: 1.2575 - val_categorical_accuracy: 0.6466\n",
            "Epoch 192/200\n",
            "590/590 [==============================] - 61s 103ms/step - loss: 0.8747 - categorical_accuracy: 0.7204 - val_loss: 1.4150 - val_categorical_accuracy: 0.6114\n",
            "Epoch 193/200\n",
            "590/590 [==============================] - 61s 103ms/step - loss: 0.8923 - categorical_accuracy: 0.7102 - val_loss: 1.2618 - val_categorical_accuracy: 0.6370\n",
            "Epoch 194/200\n",
            "590/590 [==============================] - 60s 102ms/step - loss: 0.8725 - categorical_accuracy: 0.7202 - val_loss: 1.2702 - val_categorical_accuracy: 0.6395\n",
            "Epoch 195/200\n",
            "590/590 [==============================] - 60s 102ms/step - loss: 0.8857 - categorical_accuracy: 0.7178 - val_loss: 1.3471 - val_categorical_accuracy: 0.6189\n",
            "Epoch 196/200\n",
            "590/590 [==============================] - 60s 101ms/step - loss: 0.8543 - categorical_accuracy: 0.7296 - val_loss: 1.4828 - val_categorical_accuracy: 0.5983\n",
            "Epoch 197/200\n",
            "590/590 [==============================] - 60s 102ms/step - loss: 0.8737 - categorical_accuracy: 0.7254 - val_loss: 1.4308 - val_categorical_accuracy: 0.6053\n",
            "Epoch 198/200\n",
            "590/590 [==============================] - 61s 103ms/step - loss: 0.8667 - categorical_accuracy: 0.7224 - val_loss: 2.7175 - val_categorical_accuracy: 0.4017\n",
            "Epoch 199/200\n",
            "590/590 [==============================] - 60s 102ms/step - loss: 0.9019 - categorical_accuracy: 0.7175 - val_loss: 1.6707 - val_categorical_accuracy: 0.5631\n",
            "Epoch 200/200\n",
            "590/590 [==============================] - 60s 102ms/step - loss: 0.8511 - categorical_accuracy: 0.7267 - val_loss: 1.3072 - val_categorical_accuracy: 0.6310\n"
          ],
          "name": "stdout"
        }
      ]
    },
    {
      "cell_type": "markdown",
      "metadata": {
        "id": "QmgOQTUHla7s"
      },
      "source": [
        "### Evaluate model"
      ]
    },
    {
      "cell_type": "markdown",
      "metadata": {
        "id": "gPoo0Ru5BPFI"
      },
      "source": [
        "\n",
        "\n",
        "####Plotting function to see test and validation accuracy\n"
      ]
    },
    {
      "cell_type": "code",
      "metadata": {
        "id": "W__YZ3HnBNdb"
      },
      "source": [
        "### To plot test,train,and validation accuracy metrics.\n",
        "\n",
        "def plot_metric(history, metric):\n",
        "    history_dict = history.history\n",
        "    values = history_dict[metric]\n",
        "    if 'val_' + metric in history_dict.keys():  \n",
        "        val_values = history_dict['val_' + metric]\n",
        "\n",
        "    epochs = range(1, len(values) + 1)\n",
        "\n",
        "    if 'val_' + metric in history_dict.keys():  \n",
        "        plt.plot(epochs, val_values, label='Validation')\n",
        "    plt.semilogy(epochs, values, label='Training')\n",
        "\n",
        "    if 'val_' + metric in history_dict.keys():  \n",
        "        plt.title('Training and validation %s' % metric)\n",
        "    else:\n",
        "        plt.title('Training %s' % metric)\n",
        "    plt.xlabel('Epochs')\n",
        "    plt.ylabel(metric.capitalize())\n",
        "    plt.legend()\n",
        "    plt.grid()\n",
        "\n",
        "    plt.show() "
      ],
      "execution_count": 13,
      "outputs": []
    },
    {
      "cell_type": "code",
      "metadata": {
        "colab": {
          "base_uri": "https://localhost:8080/",
          "height": 603
        },
        "id": "h5Je_tJf_-vG",
        "outputId": "0037574c-0c50-47a1-8d81-10746bf2ecf4"
      },
      "source": [
        "### Graphics to see the possible overfitting during training\n",
        "\n",
        "plot_metric(h,'loss')\n",
        "plot_metric(h,'categorical_accuracy')"
      ],
      "execution_count": 14,
      "outputs": [
        {
          "output_type": "display_data",
          "data": {
            "image/png": "[encoded data removed]",
            "text/plain": [
              "<Figure size 432x288 with 1 Axes>"
            ]
          },
          "metadata": {
            "tags": [],
            "needs_background": "light"
          }
        },
        {
          "output_type": "display_data",
          "data": {
            "image/png": "[encoded data removed]",
            "text/plain": [
              "<Figure size 432x288 with 1 Axes>"
            ]
          },
          "metadata": {
            "tags": [],
            "needs_background": "light"
          }
        }
      ]
    },
    {
      "cell_type": "code",
      "metadata": {
        "colab": {
          "base_uri": "https://localhost:8080/"
        },
        "id": "EpRFkGy-mfR1",
        "outputId": "e6bee172-3555-4714-e804-5efdf8e594ee"
      },
      "source": [
        "### Evaluate the accuracy of model. \n",
        "\n",
        "model.evaluate(test_images,OneHotTest)"
      ],
      "execution_count": 15,
      "outputs": [
        {
          "output_type": "stream",
          "text": [
            "69/69 [==============================] - 2s 25ms/step - loss: 1.4312 - categorical_accuracy: 0.6083\n"
          ],
          "name": "stdout"
        },
        {
          "output_type": "execute_result",
          "data": {
            "text/plain": [
              "[1.4311846494674683, 0.6082991361618042]"
            ]
          },
          "metadata": {
            "tags": []
          },
          "execution_count": 15
        }
      ]
    },
    {
      "cell_type": "code",
      "metadata": {
        "colab": {
          "base_uri": "https://localhost:8080/",
          "height": 349
        },
        "id": "jfeWjuQuXNrF",
        "outputId": "640afe37-ab80-4bc6-b055-81761b9185bc"
      },
      "source": [
        "### Get predictions \n",
        "predictions = model.predict_classes(test_images)\n",
        "\n",
        "### Create dictionary to pass the predictions to names\n",
        "l1 = list(range(len(mushrooms_directory)))\n",
        "l2 = list(np.unique(labels))\n",
        "d = dict(zip(l1,l2))\n",
        "\n",
        "### Get predictions in name format\n",
        "predictions_labels=[]\n",
        "for i in predictions:\n",
        "  predictions_labels.append(d[i])\n",
        "\n",
        "### Confusion matrix\n",
        "cm = confusion_matrix(test_labels,predictions_labels,l2)\n",
        "sns.heatmap(cm,annot=True,cmap=\"YlGnBu\")"
      ],
      "execution_count": 23,
      "outputs": [
        {
          "output_type": "stream",
          "text": [
            "/usr/local/lib/python3.7/dist-packages/tensorflow/python/keras/engine/sequential.py:450: UserWarning: `model.predict_classes()` is deprecated and will be removed after 2021-01-01. Please use instead:* `np.argmax(model.predict(x), axis=-1)`,   if your model does multi-class classification   (e.g. if it uses a `softmax` last-layer activation).* `(model.predict(x) > 0.5).astype(\"int32\")`,   if your model does binary classification   (e.g. if it uses a `sigmoid` last-layer activation).\n",
            "  warnings.warn('`model.predict_classes()` is deprecated and '\n"
          ],
          "name": "stderr"
        },
        {
          "output_type": "execute_result",
          "data": {
            "text/plain": [
              "<matplotlib.axes._subplots.AxesSubplot at 0x7f7b1a8609d0>"
            ]
          },
          "metadata": {
            "tags": []
          },
          "execution_count": 23
        },
        {
          "output_type": "display_data",
          "data": {
            "image/png": "[encoded data removed]",
            "text/plain": [
              "<Figure size 432x288 with 2 Axes>"
            ]
          },
          "metadata": {
            "tags": [],
            "needs_background": "light"
          }
        }
      ]
    },
    {
      "cell_type": "markdown",
      "metadata": {
        "id": "VerxmCnyEqW1"
      },
      "source": [
        "## Save objects to keep and load in the Streamlit App"
      ]
    },
    {
      "cell_type": "code",
      "metadata": {
        "id": "_NjePVrjqMfx"
      },
      "source": [
        "### Save the model \n",
        "model.save(\"gdrive/MyDrive/model_mushrooms_SGD.h5\")\n",
        "model.save(\"model_mushrooms_SGD.h5\")\n",
        "### Save the mushroom labels list\n",
        "pd.Series(l2).to_csv('mushrooms_labels.csv',sep='|')"
      ],
      "execution_count": 24,
      "outputs": []
    },
    {
      "cell_type": "markdown",
      "metadata": {
        "id": "XTGE36V5lhyC"
      },
      "source": [
        "## Get the 3 mushrooms more similar to the one we choose"
      ]
    },
    {
      "cell_type": "code",
      "metadata": {
        "colab": {
          "base_uri": "https://localhost:8080/",
          "height": 198
        },
        "id": "UWfb_eClAKYl",
        "outputId": "2a0e1696-956f-444b-8712-b50a089a7307"
      },
      "source": [
        "### Doing random predictions, this time for mushroom in the position 189 in test_images\n",
        "\n",
        "y_pred = model.predict_proba(test_images)\n",
        "df = pd.DataFrame(y_pred[189], columns = ['probabilities'])\n",
        "df['labels']=l2\n",
        "df_sort = df.sort_values('probabilities',ascending = False)[0:3]\n",
        "df_sort=df_sort.reset_index(drop=True)\n",
        "df_sort"
      ],
      "execution_count": 18,
      "outputs": [
        {
          "output_type": "stream",
          "text": [
            "/usr/local/lib/python3.7/dist-packages/tensorflow/python/keras/engine/sequential.py:425: UserWarning: `model.predict_proba()` is deprecated and will be removed after 2021-01-01. Please use `model.predict()` instead.\n",
            "  warnings.warn('`model.predict_proba()` is deprecated and '\n"
          ],
          "name": "stderr"
        },
        {
          "output_type": "execute_result",
          "data": {
            "text/html": [
              "<div>\n",
              "<style scoped>\n",
              "    .dataframe tbody tr th:only-of-type {\n",
              "        vertical-align: middle;\n",
              "    }\n",
              "\n",
              "    .dataframe tbody tr th {\n",
              "        vertical-align: top;\n",
              "    }\n",
              "\n",
              "    .dataframe thead th {\n",
              "        text-align: right;\n",
              "    }\n",
              "</style>\n",
              "<table border=\"1\" class=\"dataframe\">\n",
              "  <thead>\n",
              "    <tr style=\"text-align: right;\">\n",
              "      <th></th>\n",
              "      <th>probabilities</th>\n",
              "      <th>labels</th>\n",
              "    </tr>\n",
              "  </thead>\n",
              "  <tbody>\n",
              "    <tr>\n",
              "      <th>0</th>\n",
              "      <td>0.994206</td>\n",
              "      <td>Amanita caesarea</td>\n",
              "    </tr>\n",
              "    <tr>\n",
              "      <th>1</th>\n",
              "      <td>0.001609</td>\n",
              "      <td>Tricholoma portentosum</td>\n",
              "    </tr>\n",
              "    <tr>\n",
              "      <th>2</th>\n",
              "      <td>0.001253</td>\n",
              "      <td>Boletus satanas</td>\n",
              "    </tr>\n",
              "  </tbody>\n",
              "</table>\n",
              "</div>"
            ],
            "text/plain": [
              "   probabilities                  labels\n",
              "0       0.994206        Amanita caesarea\n",
              "1       0.001609  Tricholoma portentosum\n",
              "2       0.001253         Boletus satanas"
            ]
          },
          "metadata": {
            "tags": []
          },
          "execution_count": 18
        }
      ]
    },
    {
      "cell_type": "markdown",
      "metadata": {
        "id": "aAY31WWibLqp"
      },
      "source": [
        "# Streamlit"
      ]
    },
    {
      "cell_type": "markdown",
      "metadata": {
        "id": "lrhLEPToXHvE"
      },
      "source": [
        "## Installing Ngrok for Streamlit"
      ]
    },
    {
      "cell_type": "code",
      "metadata": {
        "colab": {
          "resources": {
            "http://localhost:8080/nbextensions/google.colab/files.js": {
              "data": "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",
              "ok": true,
              "headers": [
                [
                  "content-type",
                  "application/javascript"
                ]
              ],
              "status": 200,
              "status_text": "OK"
            }
          },
          "base_uri": "https://localhost:8080/",
          "height": 127
        },
        "id": "6aUPZ-eCXYb3",
        "outputId": "dec0b830-563d-4fc4-883c-e9e564606d8b"
      },
      "source": [
        "### Import the zipfile ngrok-stable-inux-amd64.zip, is neccesary for installation\n",
        "from google.colab import files\n",
        "uploaded = files.upload()\n",
        "\n",
        "### Unzip the zipfile\n",
        "!unzip /content/ngrok-stable-linux-amd64.zip"
      ],
      "execution_count": 19,
      "outputs": [
        {
          "output_type": "display_data",
          "data": {
            "text/html": [
              "\n",
              "     <input type=\"file\" id=\"files-abbe1792-540c-4822-801f-3ad6beb8a6f8\" name=\"files[]\" multiple disabled\n",
              "        style=\"border:none\" />\n",
              "     <output id=\"result-abbe1792-540c-4822-801f-3ad6beb8a6f8\">\n",
              "      Upload widget is only available when the cell has been executed in the\n",
              "      current browser session. Please rerun this cell to enable.\n",
              "      </output>\n",
              "      <script src=\"/nbextensions/google.colab/files.js\"></script> "
            ],
            "text/plain": [
              "<IPython.core.display.HTML object>"
            ]
          },
          "metadata": {
            "tags": []
          }
        },
        {
          "output_type": "stream",
          "text": [
            "Saving ngrok-stable-linux-amd64.zip to ngrok-stable-linux-amd64 (1).zip\n",
            "Archive:  /content/ngrok-stable-linux-amd64.zip\n",
            "replace ngrok? [y]es, [n]o, [A]ll, [N]one, [r]ename: y\n",
            "  inflating: ngrok                   \n"
          ],
          "name": "stdout"
        }
      ]
    },
    {
      "cell_type": "code",
      "metadata": {
        "id": "aXx7tSXCj5mA",
        "outputId": "2bf47ab2-ab4f-4042-c0b6-6b79226b20e3",
        "colab": {
          "base_uri": "https://localhost:8080/"
        }
      },
      "source": [
        "### Authentication\n",
        "!ngrok authtoken 1s4dWx40WEPgxZOREhcu4JZc5JL_79bCSDk2c3hVJ38GTc2zz\n",
        "\n",
        "### Public url with port 80, to have access to the app\n",
        "public_url = ngrok.connect(port = '80')"
      ],
      "execution_count": 20,
      "outputs": [
        {
          "output_type": "stream",
          "text": [
            "Authtoken saved to configuration file: /root/.ngrok2/ngrok.yml\n"
          ],
          "name": "stdout"
        },
        {
          "output_type": "stream",
          "text": [
            "2021-05-13 17:55:47.741 INFO    pyngrok.ngrok: Opening tunnel named: http-80-9b4addfe-208b-4e20-b1ae-be0ac495fbf4\n",
            "2021-05-13 17:55:47.801 INFO    pyngrok.process.ngrok: t=2021-05-13T17:55:47+0000 lvl=info msg=\"no configuration paths supplied\"\n",
            "2021-05-13 17:55:47.806 INFO    pyngrok.process.ngrok: t=2021-05-13T17:55:47+0000 lvl=info msg=\"using configuration at default config path\" path=/root/.ngrok2/ngrok.yml\n",
            "2021-05-13 17:55:47.809 INFO    pyngrok.process.ngrok: t=2021-05-13T17:55:47+0000 lvl=info msg=\"open config file\" path=/root/.ngrok2/ngrok.yml err=nil\n",
            "2021-05-13 17:55:47.829 INFO    pyngrok.process.ngrok: t=2021-05-13T17:55:47+0000 lvl=info msg=\"starting web service\" obj=web addr=127.0.0.1:4040\n",
            "2021-05-13 17:55:47.968 INFO    pyngrok.process.ngrok: t=2021-05-13T17:55:47+0000 lvl=info msg=\"tunnel session started\" obj=tunnels.session\n",
            "2021-05-13 17:55:47.972 INFO    pyngrok.process.ngrok: t=2021-05-13T17:55:47+0000 lvl=info msg=\"client session established\" obj=csess id=36e4fc5e15b8\n",
            "2021-05-13 17:55:47.997 INFO    pyngrok.process.ngrok: t=2021-05-13T17:55:47+0000 lvl=info msg=start pg=/api/tunnels id=3baf0fb64ada72b9\n",
            "2021-05-13 17:55:48.005 INFO    pyngrok.process.ngrok: t=2021-05-13T17:55:47+0000 lvl=info msg=end pg=/api/tunnels id=3baf0fb64ada72b9 status=200 dur=559.838µs\n",
            "2021-05-13 17:55:48.013 INFO    pyngrok.process.ngrok: t=2021-05-13T17:55:47+0000 lvl=info msg=start pg=/api/tunnels id=b03d1c776b9107fb\n",
            "2021-05-13 17:55:48.021 INFO    pyngrok.process.ngrok: t=2021-05-13T17:55:47+0000 lvl=info msg=end pg=/api/tunnels id=b03d1c776b9107fb status=200 dur=163.348µs\n",
            "2021-05-13 17:55:48.024 INFO    pyngrok.process.ngrok: t=2021-05-13T17:55:47+0000 lvl=info msg=start pg=/api/tunnels id=8016e50a9a2be385\n",
            "2021-05-13 17:55:48.048 INFO    pyngrok.process.ngrok: t=2021-05-13T17:55:48+0000 lvl=info msg=\"started tunnel\" obj=tunnels name=\"http-80-9b4addfe-208b-4e20-b1ae-be0ac495fbf4 (http)\" addr=http://localhost:80 url=http://59c64d5ab8aa.ngrok.io\n",
            "2021-05-13 17:55:48.050 INFO    pyngrok.process.ngrok: t=2021-05-13T17:55:48+0000 lvl=info msg=\"started tunnel\" obj=tunnels name=http-80-9b4addfe-208b-4e20-b1ae-be0ac495fbf4 addr=http://localhost:80 url=https://59c64d5ab8aa.ngrok.io\n",
            "2021-05-13 17:55:48.057 INFO    pyngrok.process.ngrok: t=2021-05-13T17:55:48+0000 lvl=info msg=end pg=/api/tunnels id=8016e50a9a2be385 status=201 dur=48.992181ms\n"
          ],
          "name": "stderr"
        }
      ]
    },
    {
      "cell_type": "markdown",
      "metadata": {
        "id": "snsxjgH3M6BE"
      },
      "source": [
        "## Streamlit App\n"
      ]
    },
    {
      "cell_type": "code",
      "metadata": {
        "colab": {
          "base_uri": "https://localhost:8080/"
        },
        "id": "sZxVmmxyctd0",
        "outputId": "01b7b2e0-0a31-42a9-cd4a-8ee83f56372b"
      },
      "source": [
        "%%writefile app.py\n",
        "\n",
        "### IMPORT LIBRARIES\n",
        "\n",
        "### Streamlit\n",
        "import streamlit as st\n",
        "import altair as alt\n",
        "import pandas as pd\n",
        "import matplotlib.pyplot as plt\n",
        "\n",
        "### Images\n",
        "from matplotlib import image\n",
        "from matplotlib import pyplot\n",
        "from skimage import io\n",
        "import cv2\n",
        "import os\n",
        "import skimage\n",
        "from skimage import data, io, filters, transform\n",
        "import numpy as np\n",
        "\n",
        "### Load model\n",
        "from keras.models import load_model\n",
        "\n",
        "### Deep Learning\n",
        "from tensorflow.keras import optimizers\n",
        "from tensorflow.keras import losses\n",
        "from tensorflow.keras import metrics\n",
        "from tensorflow.keras.utils import to_categorical\n",
        "from tensorflow.keras import models\n",
        "from tensorflow.keras import layers\n",
        "from tensorflow.keras import Input\n",
        "import tensorflow as tf\n",
        "\n",
        "### Random\n",
        "import random \n",
        "\n",
        "### Web scraping packages\n",
        "from bs4 import BeautifulSoup\n",
        "import requests\n",
        "import itertools\n",
        "from urllib.request import Request, urlopen\n",
        "import urllib.request\n",
        "\n",
        "### Title, subheader and first paragraphs\n",
        "st.title('Mushrooms Classification')\n",
        "st.subheader('App to know what mushroom is your picture')\n",
        "st.markdown(\"Hello everybody and welcome to this interactive website on **mushrooms classification**.\")\n",
        "st.markdown(\"This work consists on classifying different types of mushrooms from images, using the famous convolutional neural networks (CNN) as a method.\")\n",
        "st.markdown(\"Put a mushroom and get the probability that it is a type of mushroom among the different species studied, and you will also get the 3 most likely mushrooms it is.\")\n",
        "st.markdown(\"Please, put a picture of your choice\")\n",
        "\n",
        "### Load the model saved before.\n",
        "model = load_model('model_mushrooms_SGD.h5')\n",
        "\n",
        "### Read the mushrooms_labels.csv\n",
        "l2 = pd.read_csv('mushrooms_labels.csv',sep='|')\n",
        "l2 = l2['0'].to_list()\n",
        "\n",
        "### Programming the App\n",
        "try:\n",
        "\n",
        "  ### Charge the picture of your choice\n",
        "  picture = st.file_uploader('picture',type='jpg')\n",
        "\n",
        "  ### Display the picture chosen in the app\n",
        "  st.image(picture)\n",
        "\n",
        "  ### Standarize pixels\n",
        "  image_rgb=io.imread(picture)/255.0\n",
        "\n",
        "  ### Resize photo, this time (28,28)\n",
        "  data_picture = cv2.resize(image_rgb, (28, 28))\n",
        "\n",
        "  ### Predict which mushroom is in the picture and giving the 3 more similar to it.\n",
        "  pictures = np.array([data_picture])\n",
        "  pred_photos = model.predict_proba(pictures)\n",
        "  df = pd.DataFrame(pred_photos[0], columns = ['probabilities'])\n",
        "  df['labels']=l2\n",
        "  df_sort = df.sort_values('probabilities',ascending = False)[0:3]\n",
        "  X=df_sort['probabilities']\n",
        "  Y=df_sort['labels'] \n",
        "\n",
        "  ### Barplot with the information about the 3 mushrooms more similar to the one in the photo\n",
        "  fig = plt.figure(figsize=(12, 8))\n",
        "  plt.bar(range(len(X)), X)\n",
        "  plt.xticks(np.arange(len(X)), Y)\n",
        "  plt.ylabel('probability')\n",
        "  ax = X.plot(kind='bar')\n",
        "  ax.set_xticklabels(Y)\n",
        "  rects = ax.patches\n",
        "  for rect, label in zip(rects, X):\n",
        "      height = rect.get_height()\n",
        "      ax.text(rect.get_x() + rect.get_width() / 10, height+0.01, label,\n",
        "              ha='left', va='bottom')\n",
        "  st.pyplot(fig)\n",
        "\n",
        "  ### Text with the percentage of accuracy and the mushroom more similar to the one in the photo\n",
        "  probability = str(round(df_sort['probabilities'][:-2]*100,2).reset_index()['probabilities'][0])\n",
        "  label = df_sort['labels'][:-2].reset_index()['labels'][0]\n",
        "  text = f\"Your choice has **{probability} %** to be **{label}** mushroom\"\n",
        "  st.markdown(text)\n",
        "\n",
        "  ### Show pictures similars to the one that the model thinks is in the photo\n",
        "  st.markdown(\"Here, you have other different pictures of this mushroom\")\n",
        "  \n",
        "  url = 'https://www.google.com/search?q='+label+'&tbm=isch&hl=es&sa=X&ved=2ahUKEwjw_M7z2NfuAhUMpRoKHbPQAokQgowBegQIARAX&biw=1905&bih=852'\n",
        "  response = requests.get(url)\n",
        "  soup = BeautifulSoup(response.content,'html.parser')\n",
        "  images = soup.find_all(\"img\")         \n",
        "  images = images[1::]\n",
        "  random_photos = random.sample(images, 8)\n",
        "\n",
        "  urls_list = []\n",
        "  for image in random_photos:\n",
        "    image_src = image['src']\n",
        "    urls_list.append(image_src)\n",
        "\n",
        "  st.image(urls_list)\n",
        "\n",
        "except:\n",
        "  pass"
      ],
      "execution_count": 21,
      "outputs": [
        {
          "output_type": "stream",
          "text": [
            "2021-05-13 17:55:48.062 INFO    pyngrok.process.ngrok: t=2021-05-13T17:55:48+0000 lvl=info msg=start pg=\"/api/tunnels/http-80-9b4addfe-208b-4e20-b1ae-be0ac495fbf4 (http)\" id=1cf7b5c48fe4560a\n",
            "2021-05-13 17:55:48.077 INFO    pyngrok.process.ngrok: t=2021-05-13T17:55:48+0000 lvl=info msg=end pg=\"/api/tunnels/http-80-9b4addfe-208b-4e20-b1ae-be0ac495fbf4 (http)\" id=1cf7b5c48fe4560a status=200 dur=173.359µs\n"
          ],
          "name": "stderr"
        },
        {
          "output_type": "stream",
          "text": [
            "Overwriting app.py\n"
          ],
          "name": "stdout"
        }
      ]
    },
    {
      "cell_type": "code",
      "metadata": {
        "colab": {
          "base_uri": "https://localhost:8080/"
        },
        "id": "EiZqAAUyilQK",
        "outputId": "49f7de89-e334-4295-9b45-609a7d2a3931"
      },
      "source": [
        "### run the app in the server\n",
        "!streamlit run --server.port 80 app.py&>/dev/null&\n",
        "\n",
        "### Access to the app\n",
        "public_url"
      ],
      "execution_count": 22,
      "outputs": [
        {
          "output_type": "execute_result",
          "data": {
            "text/plain": [
              "<NgrokTunnel: \"http://59c64d5ab8aa.ngrok.io\" -> \"http://localhost:80\">"
            ]
          },
          "metadata": {
            "tags": []
          },
          "execution_count": 22
        }
      ]
    }
  ]
}