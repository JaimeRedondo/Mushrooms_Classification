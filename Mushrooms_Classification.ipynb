{
  "nbformat": 4,
  "nbformat_minor": 0,
  "metadata": {
    "accelerator": "GPU",
    "colab": {
      "name": "Mushrooms_Classification.ipynb",
      "provenance": [],
      "collapsed_sections": [],
      "authorship_tag": "ABX9TyPqaA0UADSaeJqbptibseoi",
      "include_colab_link": true
    },
    "kernelspec": {
      "display_name": "Python 3",
      "name": "python3"
    },
    "widgets": {
      "application/vnd.jupyter.widget-state+json": {
        "2b60bda7d14a4c359bb9b8773cf0ff97": {
          "model_module": "@jupyter-widgets/controls",
          "model_name": "HBoxModel",
          "state": {
            "_view_name": "HBoxView",
            "_dom_classes": [],
            "_model_name": "HBoxModel",
            "_view_module": "@jupyter-widgets/controls",
            "_model_module_version": "1.5.0",
            "_view_count": null,
            "_view_module_version": "1.5.0",
            "box_style": "",
            "layout": "IPY_MODEL_a4cacabf7a244d8d8d2db2ea0e6f960e",
            "_model_module": "@jupyter-widgets/controls",
            "children": [
              "IPY_MODEL_8914fa0dd3c4402c88275ac702f24713",
              "IPY_MODEL_609425cbc1bc459ba2a247b69b78c9ee"
            ]
          }
        },
        "a4cacabf7a244d8d8d2db2ea0e6f960e": {
          "model_module": "@jupyter-widgets/base",
          "model_name": "LayoutModel",
          "state": {
            "_view_name": "LayoutView",
            "grid_template_rows": null,
            "right": null,
            "justify_content": null,
            "_view_module": "@jupyter-widgets/base",
            "overflow": null,
            "_model_module_version": "1.2.0",
            "_view_count": null,
            "flex_flow": null,
            "width": null,
            "min_width": null,
            "border": null,
            "align_items": null,
            "bottom": null,
            "_model_module": "@jupyter-widgets/base",
            "top": null,
            "grid_column": null,
            "overflow_y": null,
            "overflow_x": null,
            "grid_auto_flow": null,
            "grid_area": null,
            "grid_template_columns": null,
            "flex": null,
            "_model_name": "LayoutModel",
            "justify_items": null,
            "grid_row": null,
            "max_height": null,
            "align_content": null,
            "visibility": null,
            "align_self": null,
            "height": null,
            "min_height": null,
            "padding": null,
            "grid_auto_rows": null,
            "grid_gap": null,
            "max_width": null,
            "order": null,
            "_view_module_version": "1.2.0",
            "grid_template_areas": null,
            "object_position": null,
            "object_fit": null,
            "grid_auto_columns": null,
            "margin": null,
            "display": null,
            "left": null
          }
        },
        "8914fa0dd3c4402c88275ac702f24713": {
          "model_module": "@jupyter-widgets/controls",
          "model_name": "FloatProgressModel",
          "state": {
            "_view_name": "ProgressView",
            "style": "IPY_MODEL_5e005e75601441ac861aba8d5cf2f165",
            "_dom_classes": [],
            "description": "100%",
            "_model_name": "FloatProgressModel",
            "bar_style": "success",
            "max": 49,
            "_view_module": "@jupyter-widgets/controls",
            "_model_module_version": "1.5.0",
            "value": 49,
            "_view_count": null,
            "_view_module_version": "1.5.0",
            "orientation": "horizontal",
            "min": 0,
            "description_tooltip": null,
            "_model_module": "@jupyter-widgets/controls",
            "layout": "IPY_MODEL_8a64ab1f17c442a4be0be5bc0463e116"
          }
        },
        "609425cbc1bc459ba2a247b69b78c9ee": {
          "model_module": "@jupyter-widgets/controls",
          "model_name": "HTMLModel",
          "state": {
            "_view_name": "HTMLView",
            "style": "IPY_MODEL_b7684bf498cc45159e41105e2c62f01e",
            "_dom_classes": [],
            "description": "",
            "_model_name": "HTMLModel",
            "placeholder": "​",
            "_view_module": "@jupyter-widgets/controls",
            "_model_module_version": "1.5.0",
            "value": " 49/49 [02:24&lt;00:00,  2.95s/it]",
            "_view_count": null,
            "_view_module_version": "1.5.0",
            "description_tooltip": null,
            "_model_module": "@jupyter-widgets/controls",
            "layout": "IPY_MODEL_c496dcbf9e4e4af4b1c6c22059070ae3"
          }
        },
        "5e005e75601441ac861aba8d5cf2f165": {
          "model_module": "@jupyter-widgets/controls",
          "model_name": "ProgressStyleModel",
          "state": {
            "_view_name": "StyleView",
            "_model_name": "ProgressStyleModel",
            "description_width": "initial",
            "_view_module": "@jupyter-widgets/base",
            "_model_module_version": "1.5.0",
            "_view_count": null,
            "_view_module_version": "1.2.0",
            "bar_color": null,
            "_model_module": "@jupyter-widgets/controls"
          }
        },
        "8a64ab1f17c442a4be0be5bc0463e116": {
          "model_module": "@jupyter-widgets/base",
          "model_name": "LayoutModel",
          "state": {
            "_view_name": "LayoutView",
            "grid_template_rows": null,
            "right": null,
            "justify_content": null,
            "_view_module": "@jupyter-widgets/base",
            "overflow": null,
            "_model_module_version": "1.2.0",
            "_view_count": null,
            "flex_flow": null,
            "width": null,
            "min_width": null,
            "border": null,
            "align_items": null,
            "bottom": null,
            "_model_module": "@jupyter-widgets/base",
            "top": null,
            "grid_column": null,
            "overflow_y": null,
            "overflow_x": null,
            "grid_auto_flow": null,
            "grid_area": null,
            "grid_template_columns": null,
            "flex": null,
            "_model_name": "LayoutModel",
            "justify_items": null,
            "grid_row": null,
            "max_height": null,
            "align_content": null,
            "visibility": null,
            "align_self": null,
            "height": null,
            "min_height": null,
            "padding": null,
            "grid_auto_rows": null,
            "grid_gap": null,
            "max_width": null,
            "order": null,
            "_view_module_version": "1.2.0",
            "grid_template_areas": null,
            "object_position": null,
            "object_fit": null,
            "grid_auto_columns": null,
            "margin": null,
            "display": null,
            "left": null
          }
        },
        "b7684bf498cc45159e41105e2c62f01e": {
          "model_module": "@jupyter-widgets/controls",
          "model_name": "DescriptionStyleModel",
          "state": {
            "_view_name": "StyleView",
            "_model_name": "DescriptionStyleModel",
            "description_width": "",
            "_view_module": "@jupyter-widgets/base",
            "_model_module_version": "1.5.0",
            "_view_count": null,
            "_view_module_version": "1.2.0",
            "_model_module": "@jupyter-widgets/controls"
          }
        },
        "c496dcbf9e4e4af4b1c6c22059070ae3": {
          "model_module": "@jupyter-widgets/base",
          "model_name": "LayoutModel",
          "state": {
            "_view_name": "LayoutView",
            "grid_template_rows": null,
            "right": null,
            "justify_content": null,
            "_view_module": "@jupyter-widgets/base",
            "overflow": null,
            "_model_module_version": "1.2.0",
            "_view_count": null,
            "flex_flow": null,
            "width": null,
            "min_width": null,
            "border": null,
            "align_items": null,
            "bottom": null,
            "_model_module": "@jupyter-widgets/base",
            "top": null,
            "grid_column": null,
            "overflow_y": null,
            "overflow_x": null,
            "grid_auto_flow": null,
            "grid_area": null,
            "grid_template_columns": null,
            "flex": null,
            "_model_name": "LayoutModel",
            "justify_items": null,
            "grid_row": null,
            "max_height": null,
            "align_content": null,
            "visibility": null,
            "align_self": null,
            "height": null,
            "min_height": null,
            "padding": null,
            "grid_auto_rows": null,
            "grid_gap": null,
            "max_width": null,
            "order": null,
            "_view_module_version": "1.2.0",
            "grid_template_areas": null,
            "object_position": null,
            "object_fit": null,
            "grid_auto_columns": null,
            "margin": null,
            "display": null,
            "left": null
          }
        },
        "5212e22dc2c54b02ad331e64ab9d8f5b": {
          "model_module": "@jupyter-widgets/controls",
          "model_name": "HBoxModel",
          "state": {
            "_view_name": "HBoxView",
            "_dom_classes": [],
            "_model_name": "HBoxModel",
            "_view_module": "@jupyter-widgets/controls",
            "_model_module_version": "1.5.0",
            "_view_count": null,
            "_view_module_version": "1.5.0",
            "box_style": "",
            "layout": "IPY_MODEL_46be8e731e0e4e4ea1badecf07938aa7",
            "_model_module": "@jupyter-widgets/controls",
            "children": [
              "IPY_MODEL_bffa005606d24350a4c47638e2bc5177",
              "IPY_MODEL_6dbe35ba707c4167a443b5f7bbb2ad3f"
            ]
          }
        },
        "46be8e731e0e4e4ea1badecf07938aa7": {
          "model_module": "@jupyter-widgets/base",
          "model_name": "LayoutModel",
          "state": {
            "_view_name": "LayoutView",
            "grid_template_rows": null,
            "right": null,
            "justify_content": null,
            "_view_module": "@jupyter-widgets/base",
            "overflow": null,
            "_model_module_version": "1.2.0",
            "_view_count": null,
            "flex_flow": null,
            "width": null,
            "min_width": null,
            "border": null,
            "align_items": null,
            "bottom": null,
            "_model_module": "@jupyter-widgets/base",
            "top": null,
            "grid_column": null,
            "overflow_y": null,
            "overflow_x": null,
            "grid_auto_flow": null,
            "grid_area": null,
            "grid_template_columns": null,
            "flex": null,
            "_model_name": "LayoutModel",
            "justify_items": null,
            "grid_row": null,
            "max_height": null,
            "align_content": null,
            "visibility": null,
            "align_self": null,
            "height": null,
            "min_height": null,
            "padding": null,
            "grid_auto_rows": null,
            "grid_gap": null,
            "max_width": null,
            "order": null,
            "_view_module_version": "1.2.0",
            "grid_template_areas": null,
            "object_position": null,
            "object_fit": null,
            "grid_auto_columns": null,
            "margin": null,
            "display": null,
            "left": null
          }
        },
        "bffa005606d24350a4c47638e2bc5177": {
          "model_module": "@jupyter-widgets/controls",
          "model_name": "FloatProgressModel",
          "state": {
            "_view_name": "ProgressView",
            "style": "IPY_MODEL_39744801acb6496fb028dfe32e06ed2d",
            "_dom_classes": [],
            "description": "100%",
            "_model_name": "FloatProgressModel",
            "bar_style": "success",
            "max": 54,
            "_view_module": "@jupyter-widgets/controls",
            "_model_module_version": "1.5.0",
            "value": 54,
            "_view_count": null,
            "_view_module_version": "1.5.0",
            "orientation": "horizontal",
            "min": 0,
            "description_tooltip": null,
            "_model_module": "@jupyter-widgets/controls",
            "layout": "IPY_MODEL_a698eed50b9042e3b7aae5c8d961868a"
          }
        },
        "6dbe35ba707c4167a443b5f7bbb2ad3f": {
          "model_module": "@jupyter-widgets/controls",
          "model_name": "HTMLModel",
          "state": {
            "_view_name": "HTMLView",
            "style": "IPY_MODEL_8376ff10e69245c98de0579143f217de",
            "_dom_classes": [],
            "description": "",
            "_model_name": "HTMLModel",
            "placeholder": "​",
            "_view_module": "@jupyter-widgets/controls",
            "_model_module_version": "1.5.0",
            "value": " 54/54 [00:02&lt;00:00, 21.36it/s]",
            "_view_count": null,
            "_view_module_version": "1.5.0",
            "description_tooltip": null,
            "_model_module": "@jupyter-widgets/controls",
            "layout": "IPY_MODEL_8b2c7a8a11024846b56cfa4fae6553c6"
          }
        },
        "39744801acb6496fb028dfe32e06ed2d": {
          "model_module": "@jupyter-widgets/controls",
          "model_name": "ProgressStyleModel",
          "state": {
            "_view_name": "StyleView",
            "_model_name": "ProgressStyleModel",
            "description_width": "initial",
            "_view_module": "@jupyter-widgets/base",
            "_model_module_version": "1.5.0",
            "_view_count": null,
            "_view_module_version": "1.2.0",
            "bar_color": null,
            "_model_module": "@jupyter-widgets/controls"
          }
        },
        "a698eed50b9042e3b7aae5c8d961868a": {
          "model_module": "@jupyter-widgets/base",
          "model_name": "LayoutModel",
          "state": {
            "_view_name": "LayoutView",
            "grid_template_rows": null,
            "right": null,
            "justify_content": null,
            "_view_module": "@jupyter-widgets/base",
            "overflow": null,
            "_model_module_version": "1.2.0",
            "_view_count": null,
            "flex_flow": null,
            "width": null,
            "min_width": null,
            "border": null,
            "align_items": null,
            "bottom": null,
            "_model_module": "@jupyter-widgets/base",
            "top": null,
            "grid_column": null,
            "overflow_y": null,
            "overflow_x": null,
            "grid_auto_flow": null,
            "grid_area": null,
            "grid_template_columns": null,
            "flex": null,
            "_model_name": "LayoutModel",
            "justify_items": null,
            "grid_row": null,
            "max_height": null,
            "align_content": null,
            "visibility": null,
            "align_self": null,
            "height": null,
            "min_height": null,
            "padding": null,
            "grid_auto_rows": null,
            "grid_gap": null,
            "max_width": null,
            "order": null,
            "_view_module_version": "1.2.0",
            "grid_template_areas": null,
            "object_position": null,
            "object_fit": null,
            "grid_auto_columns": null,
            "margin": null,
            "display": null,
            "left": null
          }
        },
        "8376ff10e69245c98de0579143f217de": {
          "model_module": "@jupyter-widgets/controls",
          "model_name": "DescriptionStyleModel",
          "state": {
            "_view_name": "StyleView",
            "_model_name": "DescriptionStyleModel",
            "description_width": "",
            "_view_module": "@jupyter-widgets/base",
            "_model_module_version": "1.5.0",
            "_view_count": null,
            "_view_module_version": "1.2.0",
            "_model_module": "@jupyter-widgets/controls"
          }
        },
        "8b2c7a8a11024846b56cfa4fae6553c6": {
          "model_module": "@jupyter-widgets/base",
          "model_name": "LayoutModel",
          "state": {
            "_view_name": "LayoutView",
            "grid_template_rows": null,
            "right": null,
            "justify_content": null,
            "_view_module": "@jupyter-widgets/base",
            "overflow": null,
            "_model_module_version": "1.2.0",
            "_view_count": null,
            "flex_flow": null,
            "width": null,
            "min_width": null,
            "border": null,
            "align_items": null,
            "bottom": null,
            "_model_module": "@jupyter-widgets/base",
            "top": null,
            "grid_column": null,
            "overflow_y": null,
            "overflow_x": null,
            "grid_auto_flow": null,
            "grid_area": null,
            "grid_template_columns": null,
            "flex": null,
            "_model_name": "LayoutModel",
            "justify_items": null,
            "grid_row": null,
            "max_height": null,
            "align_content": null,
            "visibility": null,
            "align_self": null,
            "height": null,
            "min_height": null,
            "padding": null,
            "grid_auto_rows": null,
            "grid_gap": null,
            "max_width": null,
            "order": null,
            "_view_module_version": "1.2.0",
            "grid_template_areas": null,
            "object_position": null,
            "object_fit": null,
            "grid_auto_columns": null,
            "margin": null,
            "display": null,
            "left": null
          }
        },
        "f188bd2f28df492a928339af5e99a3ab": {
          "model_module": "@jupyter-widgets/controls",
          "model_name": "HBoxModel",
          "state": {
            "_view_name": "HBoxView",
            "_dom_classes": [],
            "_model_name": "HBoxModel",
            "_view_module": "@jupyter-widgets/controls",
            "_model_module_version": "1.5.0",
            "_view_count": null,
            "_view_module_version": "1.5.0",
            "box_style": "",
            "layout": "IPY_MODEL_78be1a41971e49d9aa44190106871624",
            "_model_module": "@jupyter-widgets/controls",
            "children": [
              "IPY_MODEL_dbf1e07f32fb41e9a23dfbc7c72d9635",
              "IPY_MODEL_1612e1d35e724d7a9ee5a45af9687622"
            ]
          }
        },
        "78be1a41971e49d9aa44190106871624": {
          "model_module": "@jupyter-widgets/base",
          "model_name": "LayoutModel",
          "state": {
            "_view_name": "LayoutView",
            "grid_template_rows": null,
            "right": null,
            "justify_content": null,
            "_view_module": "@jupyter-widgets/base",
            "overflow": null,
            "_model_module_version": "1.2.0",
            "_view_count": null,
            "flex_flow": null,
            "width": null,
            "min_width": null,
            "border": null,
            "align_items": null,
            "bottom": null,
            "_model_module": "@jupyter-widgets/base",
            "top": null,
            "grid_column": null,
            "overflow_y": null,
            "overflow_x": null,
            "grid_auto_flow": null,
            "grid_area": null,
            "grid_template_columns": null,
            "flex": null,
            "_model_name": "LayoutModel",
            "justify_items": null,
            "grid_row": null,
            "max_height": null,
            "align_content": null,
            "visibility": null,
            "align_self": null,
            "height": null,
            "min_height": null,
            "padding": null,
            "grid_auto_rows": null,
            "grid_gap": null,
            "max_width": null,
            "order": null,
            "_view_module_version": "1.2.0",
            "grid_template_areas": null,
            "object_position": null,
            "object_fit": null,
            "grid_auto_columns": null,
            "margin": null,
            "display": null,
            "left": null
          }
        },
        "dbf1e07f32fb41e9a23dfbc7c72d9635": {
          "model_module": "@jupyter-widgets/controls",
          "model_name": "FloatProgressModel",
          "state": {
            "_view_name": "ProgressView",
            "style": "IPY_MODEL_5d02fd7459664482949604485137826b",
            "_dom_classes": [],
            "description": "100%",
            "_model_name": "FloatProgressModel",
            "bar_style": "success",
            "max": 48,
            "_view_module": "@jupyter-widgets/controls",
            "_model_module_version": "1.5.0",
            "value": 48,
            "_view_count": null,
            "_view_module_version": "1.5.0",
            "orientation": "horizontal",
            "min": 0,
            "description_tooltip": null,
            "_model_module": "@jupyter-widgets/controls",
            "layout": "IPY_MODEL_7f499e23e42e44219427d79f29ee6f29"
          }
        },
        "1612e1d35e724d7a9ee5a45af9687622": {
          "model_module": "@jupyter-widgets/controls",
          "model_name": "HTMLModel",
          "state": {
            "_view_name": "HTMLView",
            "style": "IPY_MODEL_0728cfcbaeb845148e5bb97d1a476e59",
            "_dom_classes": [],
            "description": "",
            "_model_name": "HTMLModel",
            "placeholder": "​",
            "_view_module": "@jupyter-widgets/controls",
            "_model_module_version": "1.5.0",
            "value": " 48/48 [00:00&lt;00:00, 49.04it/s]",
            "_view_count": null,
            "_view_module_version": "1.5.0",
            "description_tooltip": null,
            "_model_module": "@jupyter-widgets/controls",
            "layout": "IPY_MODEL_4f8bfeb8eee6441ba826986284dc34bf"
          }
        },
        "5d02fd7459664482949604485137826b": {
          "model_module": "@jupyter-widgets/controls",
          "model_name": "ProgressStyleModel",
          "state": {
            "_view_name": "StyleView",
            "_model_name": "ProgressStyleModel",
            "description_width": "initial",
            "_view_module": "@jupyter-widgets/base",
            "_model_module_version": "1.5.0",
            "_view_count": null,
            "_view_module_version": "1.2.0",
            "bar_color": null,
            "_model_module": "@jupyter-widgets/controls"
          }
        },
        "7f499e23e42e44219427d79f29ee6f29": {
          "model_module": "@jupyter-widgets/base",
          "model_name": "LayoutModel",
          "state": {
            "_view_name": "LayoutView",
            "grid_template_rows": null,
            "right": null,
            "justify_content": null,
            "_view_module": "@jupyter-widgets/base",
            "overflow": null,
            "_model_module_version": "1.2.0",
            "_view_count": null,
            "flex_flow": null,
            "width": null,
            "min_width": null,
            "border": null,
            "align_items": null,
            "bottom": null,
            "_model_module": "@jupyter-widgets/base",
            "top": null,
            "grid_column": null,
            "overflow_y": null,
            "overflow_x": null,
            "grid_auto_flow": null,
            "grid_area": null,
            "grid_template_columns": null,
            "flex": null,
            "_model_name": "LayoutModel",
            "justify_items": null,
            "grid_row": null,
            "max_height": null,
            "align_content": null,
            "visibility": null,
            "align_self": null,
            "height": null,
            "min_height": null,
            "padding": null,
            "grid_auto_rows": null,
            "grid_gap": null,
            "max_width": null,
            "order": null,
            "_view_module_version": "1.2.0",
            "grid_template_areas": null,
            "object_position": null,
            "object_fit": null,
            "grid_auto_columns": null,
            "margin": null,
            "display": null,
            "left": null
          }
        },
        "0728cfcbaeb845148e5bb97d1a476e59": {
          "model_module": "@jupyter-widgets/controls",
          "model_name": "DescriptionStyleModel",
          "state": {
            "_view_name": "StyleView",
            "_model_name": "DescriptionStyleModel",
            "description_width": "",
            "_view_module": "@jupyter-widgets/base",
            "_model_module_version": "1.5.0",
            "_view_count": null,
            "_view_module_version": "1.2.0",
            "_model_module": "@jupyter-widgets/controls"
          }
        },
        "4f8bfeb8eee6441ba826986284dc34bf": {
          "model_module": "@jupyter-widgets/base",
          "model_name": "LayoutModel",
          "state": {
            "_view_name": "LayoutView",
            "grid_template_rows": null,
            "right": null,
            "justify_content": null,
            "_view_module": "@jupyter-widgets/base",
            "overflow": null,
            "_model_module_version": "1.2.0",
            "_view_count": null,
            "flex_flow": null,
            "width": null,
            "min_width": null,
            "border": null,
            "align_items": null,
            "bottom": null,
            "_model_module": "@jupyter-widgets/base",
            "top": null,
            "grid_column": null,
            "overflow_y": null,
            "overflow_x": null,
            "grid_auto_flow": null,
            "grid_area": null,
            "grid_template_columns": null,
            "flex": null,
            "_model_name": "LayoutModel",
            "justify_items": null,
            "grid_row": null,
            "max_height": null,
            "align_content": null,
            "visibility": null,
            "align_self": null,
            "height": null,
            "min_height": null,
            "padding": null,
            "grid_auto_rows": null,
            "grid_gap": null,
            "max_width": null,
            "order": null,
            "_view_module_version": "1.2.0",
            "grid_template_areas": null,
            "object_position": null,
            "object_fit": null,
            "grid_auto_columns": null,
            "margin": null,
            "display": null,
            "left": null
          }
        },
        "23ca97f368524eecafee01435d11b506": {
          "model_module": "@jupyter-widgets/controls",
          "model_name": "HBoxModel",
          "state": {
            "_view_name": "HBoxView",
            "_dom_classes": [],
            "_model_name": "HBoxModel",
            "_view_module": "@jupyter-widgets/controls",
            "_model_module_version": "1.5.0",
            "_view_count": null,
            "_view_module_version": "1.5.0",
            "box_style": "",
            "layout": "IPY_MODEL_22e9c83310cf4b68b1a7b89e2fe2c921",
            "_model_module": "@jupyter-widgets/controls",
            "children": [
              "IPY_MODEL_87865998f5154b4996b2f2fdd4cd9fc7",
              "IPY_MODEL_97e5c72e2e254dd69f04d20250b97df8"
            ]
          }
        },
        "22e9c83310cf4b68b1a7b89e2fe2c921": {
          "model_module": "@jupyter-widgets/base",
          "model_name": "LayoutModel",
          "state": {
            "_view_name": "LayoutView",
            "grid_template_rows": null,
            "right": null,
            "justify_content": null,
            "_view_module": "@jupyter-widgets/base",
            "overflow": null,
            "_model_module_version": "1.2.0",
            "_view_count": null,
            "flex_flow": null,
            "width": null,
            "min_width": null,
            "border": null,
            "align_items": null,
            "bottom": null,
            "_model_module": "@jupyter-widgets/base",
            "top": null,
            "grid_column": null,
            "overflow_y": null,
            "overflow_x": null,
            "grid_auto_flow": null,
            "grid_area": null,
            "grid_template_columns": null,
            "flex": null,
            "_model_name": "LayoutModel",
            "justify_items": null,
            "grid_row": null,
            "max_height": null,
            "align_content": null,
            "visibility": null,
            "align_self": null,
            "height": null,
            "min_height": null,
            "padding": null,
            "grid_auto_rows": null,
            "grid_gap": null,
            "max_width": null,
            "order": null,
            "_view_module_version": "1.2.0",
            "grid_template_areas": null,
            "object_position": null,
            "object_fit": null,
            "grid_auto_columns": null,
            "margin": null,
            "display": null,
            "left": null
          }
        },
        "87865998f5154b4996b2f2fdd4cd9fc7": {
          "model_module": "@jupyter-widgets/controls",
          "model_name": "FloatProgressModel",
          "state": {
            "_view_name": "ProgressView",
            "style": "IPY_MODEL_23d0676aca6a4f16a74a2e41a69f1939",
            "_dom_classes": [],
            "description": "100%",
            "_model_name": "FloatProgressModel",
            "bar_style": "success",
            "max": 48,
            "_view_module": "@jupyter-widgets/controls",
            "_model_module_version": "1.5.0",
            "value": 48,
            "_view_count": null,
            "_view_module_version": "1.5.0",
            "orientation": "horizontal",
            "min": 0,
            "description_tooltip": null,
            "_model_module": "@jupyter-widgets/controls",
            "layout": "IPY_MODEL_fab09e270c344c15839e50c1c5dfa51b"
          }
        },
        "97e5c72e2e254dd69f04d20250b97df8": {
          "model_module": "@jupyter-widgets/controls",
          "model_name": "HTMLModel",
          "state": {
            "_view_name": "HTMLView",
            "style": "IPY_MODEL_5deffa717eed4d05a130e89b05702ba5",
            "_dom_classes": [],
            "description": "",
            "_model_name": "HTMLModel",
            "placeholder": "​",
            "_view_module": "@jupyter-widgets/controls",
            "_model_module_version": "1.5.0",
            "value": " 48/48 [01:39&lt;00:00,  2.08s/it]",
            "_view_count": null,
            "_view_module_version": "1.5.0",
            "description_tooltip": null,
            "_model_module": "@jupyter-widgets/controls",
            "layout": "IPY_MODEL_476af20ca33147bc981ad7095b277aa1"
          }
        },
        "23d0676aca6a4f16a74a2e41a69f1939": {
          "model_module": "@jupyter-widgets/controls",
          "model_name": "ProgressStyleModel",
          "state": {
            "_view_name": "StyleView",
            "_model_name": "ProgressStyleModel",
            "description_width": "initial",
            "_view_module": "@jupyter-widgets/base",
            "_model_module_version": "1.5.0",
            "_view_count": null,
            "_view_module_version": "1.2.0",
            "bar_color": null,
            "_model_module": "@jupyter-widgets/controls"
          }
        },
        "fab09e270c344c15839e50c1c5dfa51b": {
          "model_module": "@jupyter-widgets/base",
          "model_name": "LayoutModel",
          "state": {
            "_view_name": "LayoutView",
            "grid_template_rows": null,
            "right": null,
            "justify_content": null,
            "_view_module": "@jupyter-widgets/base",
            "overflow": null,
            "_model_module_version": "1.2.0",
            "_view_count": null,
            "flex_flow": null,
            "width": null,
            "min_width": null,
            "border": null,
            "align_items": null,
            "bottom": null,
            "_model_module": "@jupyter-widgets/base",
            "top": null,
            "grid_column": null,
            "overflow_y": null,
            "overflow_x": null,
            "grid_auto_flow": null,
            "grid_area": null,
            "grid_template_columns": null,
            "flex": null,
            "_model_name": "LayoutModel",
            "justify_items": null,
            "grid_row": null,
            "max_height": null,
            "align_content": null,
            "visibility": null,
            "align_self": null,
            "height": null,
            "min_height": null,
            "padding": null,
            "grid_auto_rows": null,
            "grid_gap": null,
            "max_width": null,
            "order": null,
            "_view_module_version": "1.2.0",
            "grid_template_areas": null,
            "object_position": null,
            "object_fit": null,
            "grid_auto_columns": null,
            "margin": null,
            "display": null,
            "left": null
          }
        },
        "5deffa717eed4d05a130e89b05702ba5": {
          "model_module": "@jupyter-widgets/controls",
          "model_name": "DescriptionStyleModel",
          "state": {
            "_view_name": "StyleView",
            "_model_name": "DescriptionStyleModel",
            "description_width": "",
            "_view_module": "@jupyter-widgets/base",
            "_model_module_version": "1.5.0",
            "_view_count": null,
            "_view_module_version": "1.2.0",
            "_model_module": "@jupyter-widgets/controls"
          }
        },
        "476af20ca33147bc981ad7095b277aa1": {
          "model_module": "@jupyter-widgets/base",
          "model_name": "LayoutModel",
          "state": {
            "_view_name": "LayoutView",
            "grid_template_rows": null,
            "right": null,
            "justify_content": null,
            "_view_module": "@jupyter-widgets/base",
            "overflow": null,
            "_model_module_version": "1.2.0",
            "_view_count": null,
            "flex_flow": null,
            "width": null,
            "min_width": null,
            "border": null,
            "align_items": null,
            "bottom": null,
            "_model_module": "@jupyter-widgets/base",
            "top": null,
            "grid_column": null,
            "overflow_y": null,
            "overflow_x": null,
            "grid_auto_flow": null,
            "grid_area": null,
            "grid_template_columns": null,
            "flex": null,
            "_model_name": "LayoutModel",
            "justify_items": null,
            "grid_row": null,
            "max_height": null,
            "align_content": null,
            "visibility": null,
            "align_self": null,
            "height": null,
            "min_height": null,
            "padding": null,
            "grid_auto_rows": null,
            "grid_gap": null,
            "max_width": null,
            "order": null,
            "_view_module_version": "1.2.0",
            "grid_template_areas": null,
            "object_position": null,
            "object_fit": null,
            "grid_auto_columns": null,
            "margin": null,
            "display": null,
            "left": null
          }
        },
        "6e92d90491b04743a7550f42dc7f50eb": {
          "model_module": "@jupyter-widgets/controls",
          "model_name": "HBoxModel",
          "state": {
            "_view_name": "HBoxView",
            "_dom_classes": [],
            "_model_name": "HBoxModel",
            "_view_module": "@jupyter-widgets/controls",
            "_model_module_version": "1.5.0",
            "_view_count": null,
            "_view_module_version": "1.5.0",
            "box_style": "",
            "layout": "IPY_MODEL_4e0996e63a15495d911ca04e6e4b2cb2",
            "_model_module": "@jupyter-widgets/controls",
            "children": [
              "IPY_MODEL_6c5e7cebb32744408cddf184c989076d",
              "IPY_MODEL_bfe36e190fd841b999403cd928a078c4"
            ]
          }
        },
        "4e0996e63a15495d911ca04e6e4b2cb2": {
          "model_module": "@jupyter-widgets/base",
          "model_name": "LayoutModel",
          "state": {
            "_view_name": "LayoutView",
            "grid_template_rows": null,
            "right": null,
            "justify_content": null,
            "_view_module": "@jupyter-widgets/base",
            "overflow": null,
            "_model_module_version": "1.2.0",
            "_view_count": null,
            "flex_flow": null,
            "width": null,
            "min_width": null,
            "border": null,
            "align_items": null,
            "bottom": null,
            "_model_module": "@jupyter-widgets/base",
            "top": null,
            "grid_column": null,
            "overflow_y": null,
            "overflow_x": null,
            "grid_auto_flow": null,
            "grid_area": null,
            "grid_template_columns": null,
            "flex": null,
            "_model_name": "LayoutModel",
            "justify_items": null,
            "grid_row": null,
            "max_height": null,
            "align_content": null,
            "visibility": null,
            "align_self": null,
            "height": null,
            "min_height": null,
            "padding": null,
            "grid_auto_rows": null,
            "grid_gap": null,
            "max_width": null,
            "order": null,
            "_view_module_version": "1.2.0",
            "grid_template_areas": null,
            "object_position": null,
            "object_fit": null,
            "grid_auto_columns": null,
            "margin": null,
            "display": null,
            "left": null
          }
        },
        "6c5e7cebb32744408cddf184c989076d": {
          "model_module": "@jupyter-widgets/controls",
          "model_name": "FloatProgressModel",
          "state": {
            "_view_name": "ProgressView",
            "style": "IPY_MODEL_a0920479521c44abbd05b36f2cb8fc5a",
            "_dom_classes": [],
            "description": "100%",
            "_model_name": "FloatProgressModel",
            "bar_style": "success",
            "max": 48,
            "_view_module": "@jupyter-widgets/controls",
            "_model_module_version": "1.5.0",
            "value": 48,
            "_view_count": null,
            "_view_module_version": "1.5.0",
            "orientation": "horizontal",
            "min": 0,
            "description_tooltip": null,
            "_model_module": "@jupyter-widgets/controls",
            "layout": "IPY_MODEL_8e20c6d5e140486f9155cf6a266ead96"
          }
        },
        "bfe36e190fd841b999403cd928a078c4": {
          "model_module": "@jupyter-widgets/controls",
          "model_name": "HTMLModel",
          "state": {
            "_view_name": "HTMLView",
            "style": "IPY_MODEL_57238612814f4a149f0b757c902cd0f2",
            "_dom_classes": [],
            "description": "",
            "_model_name": "HTMLModel",
            "placeholder": "​",
            "_view_module": "@jupyter-widgets/controls",
            "_model_module_version": "1.5.0",
            "value": " 48/48 [01:39&lt;00:00,  2.06s/it]",
            "_view_count": null,
            "_view_module_version": "1.5.0",
            "description_tooltip": null,
            "_model_module": "@jupyter-widgets/controls",
            "layout": "IPY_MODEL_8b2b95e0375f4e55b40512faf46fe883"
          }
        },
        "a0920479521c44abbd05b36f2cb8fc5a": {
          "model_module": "@jupyter-widgets/controls",
          "model_name": "ProgressStyleModel",
          "state": {
            "_view_name": "StyleView",
            "_model_name": "ProgressStyleModel",
            "description_width": "initial",
            "_view_module": "@jupyter-widgets/base",
            "_model_module_version": "1.5.0",
            "_view_count": null,
            "_view_module_version": "1.2.0",
            "bar_color": null,
            "_model_module": "@jupyter-widgets/controls"
          }
        },
        "8e20c6d5e140486f9155cf6a266ead96": {
          "model_module": "@jupyter-widgets/base",
          "model_name": "LayoutModel",
          "state": {
            "_view_name": "LayoutView",
            "grid_template_rows": null,
            "right": null,
            "justify_content": null,
            "_view_module": "@jupyter-widgets/base",
            "overflow": null,
            "_model_module_version": "1.2.0",
            "_view_count": null,
            "flex_flow": null,
            "width": null,
            "min_width": null,
            "border": null,
            "align_items": null,
            "bottom": null,
            "_model_module": "@jupyter-widgets/base",
            "top": null,
            "grid_column": null,
            "overflow_y": null,
            "overflow_x": null,
            "grid_auto_flow": null,
            "grid_area": null,
            "grid_template_columns": null,
            "flex": null,
            "_model_name": "LayoutModel",
            "justify_items": null,
            "grid_row": null,
            "max_height": null,
            "align_content": null,
            "visibility": null,
            "align_self": null,
            "height": null,
            "min_height": null,
            "padding": null,
            "grid_auto_rows": null,
            "grid_gap": null,
            "max_width": null,
            "order": null,
            "_view_module_version": "1.2.0",
            "grid_template_areas": null,
            "object_position": null,
            "object_fit": null,
            "grid_auto_columns": null,
            "margin": null,
            "display": null,
            "left": null
          }
        },
        "57238612814f4a149f0b757c902cd0f2": {
          "model_module": "@jupyter-widgets/controls",
          "model_name": "DescriptionStyleModel",
          "state": {
            "_view_name": "StyleView",
            "_model_name": "DescriptionStyleModel",
            "description_width": "",
            "_view_module": "@jupyter-widgets/base",
            "_model_module_version": "1.5.0",
            "_view_count": null,
            "_view_module_version": "1.2.0",
            "_model_module": "@jupyter-widgets/controls"
          }
        },
        "8b2b95e0375f4e55b40512faf46fe883": {
          "model_module": "@jupyter-widgets/base",
          "model_name": "LayoutModel",
          "state": {
            "_view_name": "LayoutView",
            "grid_template_rows": null,
            "right": null,
            "justify_content": null,
            "_view_module": "@jupyter-widgets/base",
            "overflow": null,
            "_model_module_version": "1.2.0",
            "_view_count": null,
            "flex_flow": null,
            "width": null,
            "min_width": null,
            "border": null,
            "align_items": null,
            "bottom": null,
            "_model_module": "@jupyter-widgets/base",
            "top": null,
            "grid_column": null,
            "overflow_y": null,
            "overflow_x": null,
            "grid_auto_flow": null,
            "grid_area": null,
            "grid_template_columns": null,
            "flex": null,
            "_model_name": "LayoutModel",
            "justify_items": null,
            "grid_row": null,
            "max_height": null,
            "align_content": null,
            "visibility": null,
            "align_self": null,
            "height": null,
            "min_height": null,
            "padding": null,
            "grid_auto_rows": null,
            "grid_gap": null,
            "max_width": null,
            "order": null,
            "_view_module_version": "1.2.0",
            "grid_template_areas": null,
            "object_position": null,
            "object_fit": null,
            "grid_auto_columns": null,
            "margin": null,
            "display": null,
            "left": null
          }
        }
      }
    }
  },
  "cells": [
    {
      "cell_type": "markdown",
      "metadata": {
        "id": "view-in-github",
        "colab_type": "text"
      },
      "source": [
        "<a href=\"https://colab.research.google.com/github/JaimeRedondo/Mushrooms_Classification/blob/master/Mushrooms_Classification.ipynb\" target=\"_parent\"><img src=\"https://colab.research.google.com/assets/colab-badge.svg\" alt=\"Open In Colab\"/></a>"
      ]
    },
    {
      "cell_type": "markdown",
      "metadata": {
        "id": "KEqnwo-vV2nq"
      },
      "source": [
        "# Libraries Import"
      ]
    },
    {
      "cell_type": "code",
      "metadata": {
        "colab": {
          "base_uri": "https://localhost:8080/"
        },
        "id": "vz6dxutvauCY",
        "outputId": "fa4eefaf-e1ae-47cb-c714-4b802fdccdad"
      },
      "source": [
        "#working with images\n",
        "! pip install opencv-python\n",
        "from matplotlib import image\n",
        "from matplotlib import pyplot\n",
        "from skimage import io\n",
        "import cv2\n",
        "import os\n",
        "import skimage\n",
        "from skimage import data, io, filters, transform\n",
        "\n",
        "#--Web scraping packages\n",
        "from bs4 import BeautifulSoup\n",
        "import requests\n",
        "import itertools\n",
        "from urllib.request import Request, urlopen\n",
        "import urllib.request\n",
        "\n",
        "#Pandas/numpy for data manipulation\n",
        "import pandas as pd\n",
        "import numpy as np\n",
        "from urllib.request import urlopen\n",
        "\n",
        "#barrita de progreso\n",
        "from tqdm.notebook import tqdm\n",
        "from time import sleep \n",
        "\n",
        "#Visualize data\n",
        "%pylab inline\n",
        "plt.style.use('seaborn-talk')\n",
        "\n",
        "#import deep learning libraries\n",
        "from tensorflow.keras import optimizers\n",
        "from tensorflow.keras import losses\n",
        "from tensorflow.keras import metrics\n",
        "from tensorflow.keras.utils import to_categorical\n",
        "from tensorflow.keras import models\n",
        "from tensorflow.keras import layers\n",
        "from tensorflow.keras import Input\n",
        "import tensorflow as tf\n",
        "\n",
        "import matplotlib.pyplot as plt\n",
        "import matplotlib.image as mpimg\n",
        "import seaborn as sns\n",
        "%matplotlib inline\n",
        "\n",
        "from sklearn.model_selection import train_test_split\n",
        "from sklearn.metrics import confusion_matrix\n",
        "import itertools\n",
        "\n",
        "from keras.utils.np_utils import to_categorical # convert to one-hot-encoding\n",
        "from keras.models import Sequential\n",
        "from keras.layers import Dense, Dropout, Flatten, Conv2D, MaxPool2D\n",
        "from keras.optimizers import RMSprop\n",
        "from keras.preprocessing.image import ImageDataGenerator\n",
        "from keras.callbacks import ReduceLROnPlateau\n",
        "\n",
        "! pip install streamlit\n",
        "! pip install pyngrok\n",
        "from pyngrok import ngrok\n",
        "import streamlit as st\n",
        "\n",
        "\n"
      ],
      "execution_count": 1,
      "outputs": [
        {
          "output_type": "stream",
          "text": [
            "Requirement already satisfied: opencv-python in /usr/local/lib/python3.7/dist-packages (4.1.2.30)\n",
            "Requirement already satisfied: numpy>=1.14.5 in /usr/local/lib/python3.7/dist-packages (from opencv-python) (1.19.5)\n",
            "Populating the interactive namespace from numpy and matplotlib\n",
            "Requirement already satisfied: streamlit in /usr/local/lib/python3.7/dist-packages (0.81.1)\n",
            "Requirement already satisfied: astor in /usr/local/lib/python3.7/dist-packages (from streamlit) (0.8.1)\n",
            "Requirement already satisfied: pandas>=0.21.0 in /usr/local/lib/python3.7/dist-packages (from streamlit) (1.1.5)\n",
            "Requirement already satisfied: base58 in /usr/local/lib/python3.7/dist-packages (from streamlit) (2.1.0)\n",
            "Requirement already satisfied: pyarrow; python_version < \"3.9\" in /usr/local/lib/python3.7/dist-packages (from streamlit) (3.0.0)\n",
            "Requirement already satisfied: tornado>=5.0 in /usr/local/lib/python3.7/dist-packages (from streamlit) (5.1.1)\n",
            "Requirement already satisfied: toml in /usr/local/lib/python3.7/dist-packages (from streamlit) (0.10.2)\n",
            "Requirement already satisfied: altair>=3.2.0 in /usr/local/lib/python3.7/dist-packages (from streamlit) (4.1.0)\n",
            "Requirement already satisfied: validators in /usr/local/lib/python3.7/dist-packages (from streamlit) (0.18.2)\n",
            "Requirement already satisfied: tzlocal in /usr/local/lib/python3.7/dist-packages (from streamlit) (1.5.1)\n",
            "Requirement already satisfied: blinker in /usr/local/lib/python3.7/dist-packages (from streamlit) (1.4)\n",
            "Requirement already satisfied: protobuf!=3.11,>=3.6.0 in /usr/local/lib/python3.7/dist-packages (from streamlit) (3.12.4)\n",
            "Requirement already satisfied: requests in /usr/local/lib/python3.7/dist-packages (from streamlit) (2.23.0)\n",
            "Requirement already satisfied: pillow>=6.2.0 in /usr/local/lib/python3.7/dist-packages (from streamlit) (7.1.2)\n",
            "Requirement already satisfied: pydeck>=0.1.dev5 in /usr/local/lib/python3.7/dist-packages (from streamlit) (0.6.2)\n",
            "Requirement already satisfied: python-dateutil in /usr/local/lib/python3.7/dist-packages (from streamlit) (2.8.1)\n",
            "Requirement already satisfied: cachetools>=4.0 in /usr/local/lib/python3.7/dist-packages (from streamlit) (4.2.1)\n",
            "Requirement already satisfied: packaging in /usr/local/lib/python3.7/dist-packages (from streamlit) (20.9)\n",
            "Requirement already satisfied: watchdog; platform_system != \"Darwin\" in /usr/local/lib/python3.7/dist-packages (from streamlit) (2.1.0)\n",
            "Requirement already satisfied: click>=7.0 in /usr/local/lib/python3.7/dist-packages (from streamlit) (7.1.2)\n",
            "Requirement already satisfied: numpy in /usr/local/lib/python3.7/dist-packages (from streamlit) (1.19.5)\n",
            "Requirement already satisfied: gitpython in /usr/local/lib/python3.7/dist-packages (from streamlit) (3.1.14)\n",
            "Requirement already satisfied: pytz>=2017.2 in /usr/local/lib/python3.7/dist-packages (from pandas>=0.21.0->streamlit) (2018.9)\n",
            "Requirement already satisfied: entrypoints in /usr/local/lib/python3.7/dist-packages (from altair>=3.2.0->streamlit) (0.3)\n",
            "Requirement already satisfied: jinja2 in /usr/local/lib/python3.7/dist-packages (from altair>=3.2.0->streamlit) (2.11.3)\n",
            "Requirement already satisfied: jsonschema in /usr/local/lib/python3.7/dist-packages (from altair>=3.2.0->streamlit) (2.6.0)\n",
            "Requirement already satisfied: toolz in /usr/local/lib/python3.7/dist-packages (from altair>=3.2.0->streamlit) (0.11.1)\n",
            "Requirement already satisfied: decorator>=3.4.0 in /usr/local/lib/python3.7/dist-packages (from validators->streamlit) (4.4.2)\n",
            "Requirement already satisfied: six>=1.4.0 in /usr/local/lib/python3.7/dist-packages (from validators->streamlit) (1.15.0)\n",
            "Requirement already satisfied: setuptools in /usr/local/lib/python3.7/dist-packages (from protobuf!=3.11,>=3.6.0->streamlit) (56.1.0)\n",
            "Requirement already satisfied: urllib3!=1.25.0,!=1.25.1,<1.26,>=1.21.1 in /usr/local/lib/python3.7/dist-packages (from requests->streamlit) (1.24.3)\n",
            "Requirement already satisfied: certifi>=2017.4.17 in /usr/local/lib/python3.7/dist-packages (from requests->streamlit) (2020.12.5)\n",
            "Requirement already satisfied: chardet<4,>=3.0.2 in /usr/local/lib/python3.7/dist-packages (from requests->streamlit) (3.0.4)\n",
            "Requirement already satisfied: idna<3,>=2.5 in /usr/local/lib/python3.7/dist-packages (from requests->streamlit) (2.10)\n",
            "Requirement already satisfied: ipywidgets>=7.0.0 in /usr/local/lib/python3.7/dist-packages (from pydeck>=0.1.dev5->streamlit) (7.6.3)\n",
            "Requirement already satisfied: traitlets>=4.3.2 in /usr/local/lib/python3.7/dist-packages (from pydeck>=0.1.dev5->streamlit) (5.0.5)\n",
            "Requirement already satisfied: ipykernel>=5.1.2; python_version >= \"3.4\" in /usr/local/lib/python3.7/dist-packages (from pydeck>=0.1.dev5->streamlit) (5.5.4)\n",
            "Requirement already satisfied: pyparsing>=2.0.2 in /usr/local/lib/python3.7/dist-packages (from packaging->streamlit) (2.4.7)\n",
            "Requirement already satisfied: gitdb<5,>=4.0.1 in /usr/local/lib/python3.7/dist-packages (from gitpython->streamlit) (4.0.7)\n",
            "Requirement already satisfied: MarkupSafe>=0.23 in /usr/local/lib/python3.7/dist-packages (from jinja2->altair>=3.2.0->streamlit) (1.1.1)\n",
            "Requirement already satisfied: jupyterlab-widgets>=1.0.0; python_version >= \"3.6\" in /usr/local/lib/python3.7/dist-packages (from ipywidgets>=7.0.0->pydeck>=0.1.dev5->streamlit) (1.0.0)\n",
            "Requirement already satisfied: nbformat>=4.2.0 in /usr/local/lib/python3.7/dist-packages (from ipywidgets>=7.0.0->pydeck>=0.1.dev5->streamlit) (5.1.3)\n",
            "Requirement already satisfied: ipython>=4.0.0; python_version >= \"3.3\" in /usr/local/lib/python3.7/dist-packages (from ipywidgets>=7.0.0->pydeck>=0.1.dev5->streamlit) (5.5.0)\n",
            "Requirement already satisfied: widgetsnbextension~=3.5.0 in /usr/local/lib/python3.7/dist-packages (from ipywidgets>=7.0.0->pydeck>=0.1.dev5->streamlit) (3.5.1)\n",
            "Requirement already satisfied: ipython-genutils in /usr/local/lib/python3.7/dist-packages (from traitlets>=4.3.2->pydeck>=0.1.dev5->streamlit) (0.2.0)\n",
            "Requirement already satisfied: jupyter-client in /usr/local/lib/python3.7/dist-packages (from ipykernel>=5.1.2; python_version >= \"3.4\"->pydeck>=0.1.dev5->streamlit) (5.3.5)\n",
            "Requirement already satisfied: smmap<5,>=3.0.1 in /usr/local/lib/python3.7/dist-packages (from gitdb<5,>=4.0.1->gitpython->streamlit) (4.0.0)\n",
            "Requirement already satisfied: jupyter-core in /usr/local/lib/python3.7/dist-packages (from nbformat>=4.2.0->ipywidgets>=7.0.0->pydeck>=0.1.dev5->streamlit) (4.7.1)\n",
            "Requirement already satisfied: pexpect; sys_platform != \"win32\" in /usr/local/lib/python3.7/dist-packages (from ipython>=4.0.0; python_version >= \"3.3\"->ipywidgets>=7.0.0->pydeck>=0.1.dev5->streamlit) (4.8.0)\n",
            "Requirement already satisfied: pickleshare in /usr/local/lib/python3.7/dist-packages (from ipython>=4.0.0; python_version >= \"3.3\"->ipywidgets>=7.0.0->pydeck>=0.1.dev5->streamlit) (0.7.5)\n",
            "Requirement already satisfied: prompt-toolkit<2.0.0,>=1.0.4 in /usr/local/lib/python3.7/dist-packages (from ipython>=4.0.0; python_version >= \"3.3\"->ipywidgets>=7.0.0->pydeck>=0.1.dev5->streamlit) (1.0.18)\n",
            "Requirement already satisfied: pygments in /usr/local/lib/python3.7/dist-packages (from ipython>=4.0.0; python_version >= \"3.3\"->ipywidgets>=7.0.0->pydeck>=0.1.dev5->streamlit) (2.6.1)\n",
            "Requirement already satisfied: simplegeneric>0.8 in /usr/local/lib/python3.7/dist-packages (from ipython>=4.0.0; python_version >= \"3.3\"->ipywidgets>=7.0.0->pydeck>=0.1.dev5->streamlit) (0.8.1)\n",
            "Requirement already satisfied: notebook>=4.4.1 in /usr/local/lib/python3.7/dist-packages (from widgetsnbextension~=3.5.0->ipywidgets>=7.0.0->pydeck>=0.1.dev5->streamlit) (5.3.1)\n",
            "Requirement already satisfied: pyzmq>=13 in /usr/local/lib/python3.7/dist-packages (from jupyter-client->ipykernel>=5.1.2; python_version >= \"3.4\"->pydeck>=0.1.dev5->streamlit) (22.0.3)\n",
            "Requirement already satisfied: ptyprocess>=0.5 in /usr/local/lib/python3.7/dist-packages (from pexpect; sys_platform != \"win32\"->ipython>=4.0.0; python_version >= \"3.3\"->ipywidgets>=7.0.0->pydeck>=0.1.dev5->streamlit) (0.7.0)\n",
            "Requirement already satisfied: wcwidth in /usr/local/lib/python3.7/dist-packages (from prompt-toolkit<2.0.0,>=1.0.4->ipython>=4.0.0; python_version >= \"3.3\"->ipywidgets>=7.0.0->pydeck>=0.1.dev5->streamlit) (0.2.5)\n",
            "Requirement already satisfied: nbconvert in /usr/local/lib/python3.7/dist-packages (from notebook>=4.4.1->widgetsnbextension~=3.5.0->ipywidgets>=7.0.0->pydeck>=0.1.dev5->streamlit) (5.6.1)\n",
            "Requirement already satisfied: terminado>=0.8.1 in /usr/local/lib/python3.7/dist-packages (from notebook>=4.4.1->widgetsnbextension~=3.5.0->ipywidgets>=7.0.0->pydeck>=0.1.dev5->streamlit) (0.9.4)\n",
            "Requirement already satisfied: Send2Trash in /usr/local/lib/python3.7/dist-packages (from notebook>=4.4.1->widgetsnbextension~=3.5.0->ipywidgets>=7.0.0->pydeck>=0.1.dev5->streamlit) (1.5.0)\n",
            "Requirement already satisfied: defusedxml in /usr/local/lib/python3.7/dist-packages (from nbconvert->notebook>=4.4.1->widgetsnbextension~=3.5.0->ipywidgets>=7.0.0->pydeck>=0.1.dev5->streamlit) (0.7.1)\n",
            "Requirement already satisfied: testpath in /usr/local/lib/python3.7/dist-packages (from nbconvert->notebook>=4.4.1->widgetsnbextension~=3.5.0->ipywidgets>=7.0.0->pydeck>=0.1.dev5->streamlit) (0.4.4)\n",
            "Requirement already satisfied: mistune<2,>=0.8.1 in /usr/local/lib/python3.7/dist-packages (from nbconvert->notebook>=4.4.1->widgetsnbextension~=3.5.0->ipywidgets>=7.0.0->pydeck>=0.1.dev5->streamlit) (0.8.4)\n",
            "Requirement already satisfied: bleach in /usr/local/lib/python3.7/dist-packages (from nbconvert->notebook>=4.4.1->widgetsnbextension~=3.5.0->ipywidgets>=7.0.0->pydeck>=0.1.dev5->streamlit) (3.3.0)\n",
            "Requirement already satisfied: pandocfilters>=1.4.1 in /usr/local/lib/python3.7/dist-packages (from nbconvert->notebook>=4.4.1->widgetsnbextension~=3.5.0->ipywidgets>=7.0.0->pydeck>=0.1.dev5->streamlit) (1.4.3)\n",
            "Requirement already satisfied: webencodings in /usr/local/lib/python3.7/dist-packages (from bleach->nbconvert->notebook>=4.4.1->widgetsnbextension~=3.5.0->ipywidgets>=7.0.0->pydeck>=0.1.dev5->streamlit) (0.5.1)\n",
            "Requirement already satisfied: pyngrok in /usr/local/lib/python3.7/dist-packages (5.0.5)\n",
            "Requirement already satisfied: PyYAML in /usr/local/lib/python3.7/dist-packages (from pyngrok) (3.13)\n"
          ],
          "name": "stdout"
        }
      ]
    },
    {
      "cell_type": "code",
      "metadata": {
        "id": "-NV8MMQdITPT"
      },
      "source": [
        "### first of all put the script Scraping_Mushrooms.ipynb in this script "
      ],
      "execution_count": 2,
      "outputs": []
    },
    {
      "cell_type": "markdown",
      "metadata": {
        "id": "m2gO0JrFIG8J"
      },
      "source": [
        "## Choosing data"
      ]
    },
    {
      "cell_type": "code",
      "metadata": {
        "colab": {
          "resources": {
            "http://localhost:8080/nbextensions/google.colab/files.js": {
              "data": "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",
              "ok": true,
              "headers": [
                [
                  "content-type",
                  "application/javascript"
                ]
              ],
              "status": 200,
              "status_text": "OK"
            }
          },
          "base_uri": "https://localhost:8080/",
          "height": 1000,
          "referenced_widgets": [
            "2b60bda7d14a4c359bb9b8773cf0ff97",
            "a4cacabf7a244d8d8d2db2ea0e6f960e",
            "8914fa0dd3c4402c88275ac702f24713",
            "609425cbc1bc459ba2a247b69b78c9ee",
            "5e005e75601441ac861aba8d5cf2f165",
            "8a64ab1f17c442a4be0be5bc0463e116",
            "b7684bf498cc45159e41105e2c62f01e",
            "c496dcbf9e4e4af4b1c6c22059070ae3"
          ]
        },
        "id": "nCvoxlJF38dW",
        "outputId": "52edf8a6-ac78-4729-f85a-c0653d36b1f4"
      },
      "source": [
        "print(\"Do you want to scrape your own mushrooms or use the data existing?, put Scrape_mushrooms or Use_data\")\n",
        "\n",
        "def scrape_mushrooms(option=input()):\n",
        "  \n",
        "  if option == 'Scrape_mushrooms':\n",
        "    from google.colab import files\n",
        "    uploaded = files.upload()\n",
        "    %run Scraping_Mushrooms.ipynb\n",
        "    return None\n",
        "\n",
        "  elif option == 'Use_data':\n",
        "    print('Get the data existing and put it in this directory, later read it')\n",
        "    print('if you prefer to put in other route you only need to change the main route to after read the data')\n",
        "    from google.colab import drive\n",
        "    drive.mount('/content/gdrive')\n",
        "    path_output_1 = '/content/gdrive/MyDrive/Mushrooms_Classification_Guadalajara'\n",
        "    ## change to the path you save your data\n",
        "    return path_output_1\n",
        "\n",
        "  else:\n",
        "    print('The option must be Scrape_mushrooms or Use_data, please, try again:')\n",
        "    return scrape_mushrooms(option=input())\n",
        "\n",
        "main_route = scrape_mushrooms()\n",
        "\n",
        "if main_route == None:\n",
        "  main_route = path_output\n",
        "else:\n",
        "  main_route = scrape_mushrooms()"
      ],
      "execution_count": 3,
      "outputs": [
        {
          "output_type": "stream",
          "text": [
            "Do you want to scrape your own mushrooms or use the data existing?, put Scrape_mushrooms or Use_data\n",
            "Scrape_mushrooms\n"
          ],
          "name": "stdout"
        },
        {
          "output_type": "display_data",
          "data": {
            "text/html": [
              "\n",
              "     <input type=\"file\" id=\"files-d328ad03-e75f-4d44-9537-2d3c06bf0c58\" name=\"files[]\" multiple disabled\n",
              "        style=\"border:none\" />\n",
              "     <output id=\"result-d328ad03-e75f-4d44-9537-2d3c06bf0c58\">\n",
              "      Upload widget is only available when the cell has been executed in the\n",
              "      current browser session. Please rerun this cell to enable.\n",
              "      </output>\n",
              "      <script src=\"/nbextensions/google.colab/files.js\"></script> "
            ],
            "text/plain": [
              "<IPython.core.display.HTML object>"
            ]
          },
          "metadata": {
            "tags": []
          }
        },
        {
          "output_type": "stream",
          "text": [
            "Saving Scraping_Mushrooms.ipynb to Scraping_Mushrooms (3).ipynb\n",
            "Requirement already satisfied: opencv-python in /usr/local/lib/python3.7/dist-packages (4.1.2.30)\n",
            "Requirement already satisfied: numpy>=1.14.5 in /usr/local/lib/python3.7/dist-packages (from opencv-python) (1.19.5)\n",
            "Populating the interactive namespace from numpy and matplotlib\n",
            "Choose between All the regions or only Guadalajara Mushrooms\n",
            "Guadalajara\n",
            "You choose Guadalajara Mushrooms\n",
            "Where do you want to save the photos?, example: /home/dsc/FP_Mushrooms/Mushrooms_Classification_Guadalajara\n",
            "If you want your current path write 'Default'\n",
            "Default\n",
            "How many images per mushroom do you want? minimum 20, give a number multiple of 20 (20,40,60...)\n",
            "20\n"
          ],
          "name": "stdout"
        },
        {
          "output_type": "display_data",
          "data": {
            "application/vnd.jupyter.widget-view+json": {
              "model_id": "2b60bda7d14a4c359bb9b8773cf0ff97",
              "version_minor": 0,
              "version_major": 2
            },
            "text/plain": [
              "HBox(children=(FloatProgress(value=0.0, max=49.0), HTML(value='')))"
            ]
          },
          "metadata": {
            "tags": []
          }
        },
        {
          "output_type": "stream",
          "text": [
            "Agaricus arvensis folder already created\n",
            "Agaricus bitorquis folder already created\n",
            "Agaricus campestris folder already created\n",
            "Agaricus sylvaticus folder already created\n",
            "Amanita caesarea folder already created\n",
            "Amanita citrina folder already created\n",
            "Amanita curtipes folder already created\n",
            "Amanita muscaria folder already created\n",
            "Amanita pantherina folder already created\n",
            "Amanita phalloides folder already created\n",
            "Boletus aereus folder already created\n",
            "Boletus aestivalis folder already created\n",
            "Boletus edulis folder already created\n",
            "Boletus erythropus folder already created\n",
            "Boletus luridus folder already created\n",
            "Boletus pinophilus folder already created\n",
            "Boletus satanas folder already created\n",
            "Cantharellus cibarius folder already created\n",
            "Clitocybe gibba folder already created\n",
            "Clitocybe odora folder already created\n",
            "Cratarellus cornucopioide folder already created\n",
            "Cratarellus lutescens folder already created\n",
            "Ganoderma lucidum folder already created\n",
            "Lactarius controversus folder already created\n",
            "Lactarius controversus folder already created\n",
            "Lactarius deliciosus folder already created\n",
            "Lactarius rufus folder already created\n",
            "Lactarius sanguifluus folder already created\n",
            "Lepista nuda folder already created\n",
            "Macrolepiota mastoidea folder already created\n",
            "Macrolepiota procera folder already created\n",
            "Marasmius oreades folder already created\n",
            "Morchella elata folder already created\n",
            "Morchella esculenta folder already created\n",
            "Morchella vulgaris folder already created\n",
            "Pleurotus eryngii folder already created\n",
            "Pleurotus ostreatus folder already created\n",
            "Russula chloroides folder already created\n",
            "Russula cyanoxantha folder already created\n",
            "Russula vesca folder already created\n",
            "Sparasis crispa folder already created\n",
            "Suillus luteus folder already created\n",
            "Terfecia leptoderma folder already created\n",
            "Tricholoma columbetta folder already created\n",
            "Tricholoma equestre folder already created\n",
            "Tricholoma portentosum folder already created\n",
            "Tuber aestivum folder already created\n",
            "Tuber brumale folder already created\n",
            "Tuber melanosporum folder already created\n",
            "\n"
          ],
          "name": "stdout"
        }
      ]
    },
    {
      "cell_type": "markdown",
      "metadata": {
        "id": "LPcNroEVsd7F"
      },
      "source": [
        "## List with the mushrooms names (the folders names)"
      ]
    },
    {
      "cell_type": "code",
      "metadata": {
        "colab": {
          "base_uri": "https://localhost:8080/",
          "height": 66,
          "referenced_widgets": [
            "5212e22dc2c54b02ad331e64ab9d8f5b",
            "46be8e731e0e4e4ea1badecf07938aa7",
            "bffa005606d24350a4c47638e2bc5177",
            "6dbe35ba707c4167a443b5f7bbb2ad3f",
            "39744801acb6496fb028dfe32e06ed2d",
            "a698eed50b9042e3b7aae5c8d961868a",
            "8376ff10e69245c98de0579143f217de",
            "8b2c7a8a11024846b56cfa4fae6553c6"
          ]
        },
        "id": "Xh4E5MBCs-U2",
        "outputId": "854999b5-5233-494b-e313-e5ce7cfdc7ad"
      },
      "source": [
        "## defining the main route (depends on what did you choose before).\n",
        "\n",
        "## witth the data you have already chosse\n",
        "\n",
        "mushrooms_directory=[]\n",
        "for folder in tqdm(os.listdir(main_route)):\n",
        "    if '.' in folder:\n",
        "        pass\n",
        "    else:\n",
        "        mushrooms_directory.append(folder)\n",
        "        \n",
        "mushrooms_directory=sorted(mushrooms_directory)"
      ],
      "execution_count": 4,
      "outputs": [
        {
          "output_type": "display_data",
          "data": {
            "application/vnd.jupyter.widget-view+json": {
              "model_id": "5212e22dc2c54b02ad331e64ab9d8f5b",
              "version_minor": 0,
              "version_major": 2
            },
            "text/plain": [
              "HBox(children=(FloatProgress(value=0.0, max=54.0), HTML(value='')))"
            ]
          },
          "metadata": {
            "tags": []
          }
        },
        {
          "output_type": "stream",
          "text": [
            "\n"
          ],
          "name": "stdout"
        }
      ]
    },
    {
      "cell_type": "code",
      "metadata": {
        "id": "O-BLIQVRFz0o"
      },
      "source": [
        "if 'sample_data' in mushrooms_directory:\n",
        "  mushrooms_directory.remove(\"sample_data\") \n",
        "\n",
        "if 'gdrive' in mushrooms_directory:\n",
        "  mushrooms_directory.remove(\"gdrive\") \n",
        "\n",
        "if 'ngrok' in mushrooms_directory:\n",
        "  mushrooms_directory.remove(\"ngrok\") "
      ],
      "execution_count": 5,
      "outputs": []
    },
    {
      "cell_type": "markdown",
      "metadata": {
        "id": "2U56_5cMsxNi"
      },
      "source": [
        "## Pipeline with the process of each image for each mushroom"
      ]
    },
    {
      "cell_type": "code",
      "metadata": {
        "id": "Ln1J9f_Xoodn"
      },
      "source": [
        "#resize all images shape in 28x28 and print what photos are not available\n",
        "def resize_photos(directory,main_route,size_photo,number_of_photos):\n",
        "    \n",
        "    for folder in tqdm(directory):\n",
        "        for numero in range(number_of_photos):\n",
        "            try:\n",
        "                route = main_route +'/'+ folder +'/'+ str(numero) + '.jpg'\n",
        "                data_picture = io.imread(route)\n",
        "                data_picture = cv2.resize(data_picture, size_photo)\n",
        "                # save the images\n",
        "                cv2.imwrite(route,data_picture)\n",
        "            except:  \n",
        "                print(\"Image number \"+str(numero)+' of mushroom '+folder+' is not available')\n",
        "\n",
        "#standarize 0_255 pixels to 0 - 1.\n",
        "lista=[]\n",
        "lista1=[]\n",
        "def standarize_pixels_and_augmentation(directory,main_route,size_photo,number_of_photos):\n",
        "    for folder in tqdm(directory):\n",
        "        for numero in range(number_of_photos):\n",
        "            try:\n",
        "                route = main_route +'/'+folder +'/'+ str(numero) + '.jpg'\n",
        "                image_rgb=io.imread(route)/255.0\n",
        "\n",
        "                ##DATA AUGMENTATION##\n",
        "\n",
        "                flip_1 = np.fliplr(image_rgb)\n",
        "                #mirror with vertical line on right\n",
        "\n",
        "\n",
        "                rot_90 = tf.image.rot90(image_rgb, k=1)\n",
        "                rot_180 = tf.image.rot90(image_rgb, k=2)\n",
        "                rot_270 = tf.image.rot90(image_rgb, k=3)\n",
        "                #rotation of 90, 180 and 270 grades\n",
        "\n",
        "                #now we are going to crop the imgs, can be whatever siza of crop we want\n",
        "                height, width = image_rgb.shape[0:2]\n",
        "\n",
        "                startRow = int(height*.15)\n",
        "\n",
        "                startCol = int(width*.15)\n",
        "\n",
        "                endRow = int(height*.85)\n",
        "\n",
        "                endCol = int(width*.85)\n",
        "\n",
        "                croppedImage = image_rgb[startRow:endRow, startCol:endCol]\n",
        "\n",
        "                croppedImage = cv2.resize(croppedImage,size_photo)\n",
        "\n",
        "                #now we are going to add contrast\n",
        "\n",
        "                contrast_img = cv2.addWeighted(image_rgb, 1.5, np.zeros(image_rgb.shape, image_rgb.dtype), 0, 0)\n",
        "\n",
        "                #desenfoque del 50% cogiendo la mediana de los pixeles\n",
        "                blur_image = cv2.medianBlur(image_rgb,1)\n",
        "\n",
        "                #add to list\n",
        "\n",
        "                lista.append(image_rgb)\n",
        "                lista.append(flip_1)\n",
        "                lista.append(rot_90)\n",
        "                lista.append(rot_180)\n",
        "                lista.append(rot_270)\n",
        "                lista.append(croppedImage)\n",
        "                lista.append(contrast_img)\n",
        "                lista.append(blur_image)\n",
        "                lista1.append(folder)\n",
        "                lista1.append(folder)\n",
        "                lista1.append(folder)\n",
        "                lista1.append(folder)\n",
        "                lista1.append(folder)\n",
        "                lista1.append(folder)\n",
        "                lista1.append(folder)\n",
        "                lista1.append(folder)            \n",
        "\n",
        "            except:\n",
        "              print(\"there are some problems with one of the mushrooms...\")\n",
        "\n",
        "def standarize_photos(directory,main_route,size_photo,number_of_photos):\n",
        "    print(\"reshaping pictures...\")\n",
        "    resize_photos(directory,main_route,size_photo,number_of_photos)\n",
        "    resize_photos(directory,main_route,size_photo,number_of_photos)\n",
        "    print(\"Normalizing pixels...\")\n",
        "    standarize_pixels_and_augmentation(directory,main_route,size_photo,number_of_photos) "
      ],
      "execution_count": 6,
      "outputs": []
    },
    {
      "cell_type": "markdown",
      "metadata": {
        "id": "Dx-wFgxrk8od"
      },
      "source": [
        "## Giving params to the function defined\n"
      ]
    },
    {
      "cell_type": "code",
      "metadata": {
        "id": "o9NxNZ9tHzN7"
      },
      "source": [
        "lengths=[]\n",
        "for name in mushrooms_directory:\n",
        "  lengths.append(len(os.listdir(main_route +'/'+ name +'/')))\n",
        "\n",
        "number_of_photos = max(lengths)\n"
      ],
      "execution_count": 7,
      "outputs": []
    },
    {
      "cell_type": "code",
      "metadata": {
        "colab": {
          "base_uri": "https://localhost:8080/",
          "height": 217,
          "referenced_widgets": [
            "f188bd2f28df492a928339af5e99a3ab",
            "78be1a41971e49d9aa44190106871624",
            "dbf1e07f32fb41e9a23dfbc7c72d9635",
            "1612e1d35e724d7a9ee5a45af9687622",
            "5d02fd7459664482949604485137826b",
            "7f499e23e42e44219427d79f29ee6f29",
            "0728cfcbaeb845148e5bb97d1a476e59",
            "4f8bfeb8eee6441ba826986284dc34bf",
            "23ca97f368524eecafee01435d11b506",
            "22e9c83310cf4b68b1a7b89e2fe2c921",
            "87865998f5154b4996b2f2fdd4cd9fc7",
            "97e5c72e2e254dd69f04d20250b97df8",
            "23d0676aca6a4f16a74a2e41a69f1939",
            "fab09e270c344c15839e50c1c5dfa51b",
            "5deffa717eed4d05a130e89b05702ba5",
            "476af20ca33147bc981ad7095b277aa1",
            "6e92d90491b04743a7550f42dc7f50eb",
            "4e0996e63a15495d911ca04e6e4b2cb2",
            "6c5e7cebb32744408cddf184c989076d",
            "bfe36e190fd841b999403cd928a078c4",
            "a0920479521c44abbd05b36f2cb8fc5a",
            "8e20c6d5e140486f9155cf6a266ead96",
            "57238612814f4a149f0b757c902cd0f2",
            "8b2b95e0375f4e55b40512faf46fe883"
          ]
        },
        "id": "3Hr4dafxohyo",
        "outputId": "8b7e7ac6-e132-4160-b053-f687624e0c2c"
      },
      "source": [
        "## params for the function defined before, the main route was defined before.\n",
        "\n",
        "directory = mushrooms_directory\n",
        "size_photo = (28,28)\n",
        "\n",
        "standarize_photos(directory,main_route,size_photo,number_of_photos)"
      ],
      "execution_count": 8,
      "outputs": [
        {
          "output_type": "stream",
          "text": [
            "reshaping pictures...\n"
          ],
          "name": "stdout"
        },
        {
          "output_type": "display_data",
          "data": {
            "application/vnd.jupyter.widget-view+json": {
              "model_id": "f188bd2f28df492a928339af5e99a3ab",
              "version_minor": 0,
              "version_major": 2
            },
            "text/plain": [
              "HBox(children=(FloatProgress(value=0.0, max=48.0), HTML(value='')))"
            ]
          },
          "metadata": {
            "tags": []
          }
        },
        {
          "output_type": "stream",
          "text": [
            "\n"
          ],
          "name": "stdout"
        },
        {
          "output_type": "display_data",
          "data": {
            "application/vnd.jupyter.widget-view+json": {
              "model_id": "23ca97f368524eecafee01435d11b506",
              "version_minor": 0,
              "version_major": 2
            },
            "text/plain": [
              "HBox(children=(FloatProgress(value=0.0, max=48.0), HTML(value='')))"
            ]
          },
          "metadata": {
            "tags": []
          }
        },
        {
          "output_type": "stream",
          "text": [
            "\n",
            "Normalizing pixels...\n"
          ],
          "name": "stdout"
        },
        {
          "output_type": "display_data",
          "data": {
            "application/vnd.jupyter.widget-view+json": {
              "model_id": "6e92d90491b04743a7550f42dc7f50eb",
              "version_minor": 0,
              "version_major": 2
            },
            "text/plain": [
              "HBox(children=(FloatProgress(value=0.0, max=48.0), HTML(value='')))"
            ]
          },
          "metadata": {
            "tags": []
          }
        },
        {
          "output_type": "stream",
          "text": [
            "there are some problems with one of the mushrooms...\n",
            "\n"
          ],
          "name": "stdout"
        }
      ]
    },
    {
      "cell_type": "markdown",
      "metadata": {
        "id": "pn6CpUGDthuT"
      },
      "source": [
        "## Creating the images and labels datasets"
      ]
    },
    {
      "cell_type": "code",
      "metadata": {
        "id": "IKoDme0Zf4N4"
      },
      "source": [
        "images = np.array(lista)\n",
        "\n",
        "labels = np.array(lista1)"
      ],
      "execution_count": 9,
      "outputs": []
    },
    {
      "cell_type": "markdown",
      "metadata": {
        "id": "XfUsQhdwtn8T"
      },
      "source": [
        "### Creating the train, validation and tests datasets of images and labels"
      ]
    },
    {
      "cell_type": "code",
      "metadata": {
        "id": "MBiMuk3h03Wj"
      },
      "source": [
        "# creamos lista para coger el conjunto de test\n",
        "\n",
        "import random \n",
        "\n",
        "randomizado = np.array(range(0,len(images)))\n",
        "enteros_aleatorios = randint(0,len(images),int(len(images)*0.10))\n",
        "\n",
        "mask = pd.Series(randomizado).isin(enteros_aleatorios)\n",
        "\n",
        "test_images = images[mask]\n",
        "test_labels = labels[mask]\n",
        "trainval_images = images[~mask]\n",
        "trainval_labels = labels[~mask]\n",
        "\n",
        "### y ahora saco validation\n",
        "\n",
        "randomizado1 = np.array(range(0,len(trainval_images)))\n",
        "enteros_aleatorios1 = randint(0,len(trainval_images),int(len(trainval_images)*0.10))\n",
        "\n",
        "mask1 = pd.Series(randomizado1).isin(enteros_aleatorios1)\n",
        "\n",
        "validation_images = trainval_images[mask1]\n",
        "validation_labels = trainval_labels[mask1]\n",
        "train_images = trainval_images[~mask1]\n",
        "train_labels = trainval_labels[~mask1]"
      ],
      "execution_count": 10,
      "outputs": []
    },
    {
      "cell_type": "markdown",
      "metadata": {
        "id": "gPoo0Ru5BPFI"
      },
      "source": [
        "\n",
        "\n",
        "Plotting function to see test and validation accuracy\n"
      ]
    },
    {
      "cell_type": "code",
      "metadata": {
        "id": "W__YZ3HnBNdb"
      },
      "source": [
        "#To plot test,train,and validation accuracy metrics.\n",
        "\n",
        "def plot_metric(history, metric):\n",
        "    history_dict = history.history\n",
        "    values = history_dict[metric]\n",
        "    if 'val_' + metric in history_dict.keys():  \n",
        "        val_values = history_dict['val_' + metric]\n",
        "\n",
        "    epochs = range(1, len(values) + 1)\n",
        "\n",
        "    if 'val_' + metric in history_dict.keys():  \n",
        "        plt.plot(epochs, val_values, label='Validation')\n",
        "    plt.semilogy(epochs, values, label='Training')\n",
        "\n",
        "    if 'val_' + metric in history_dict.keys():  \n",
        "        plt.title('Training and validation %s' % metric)\n",
        "    else:\n",
        "        plt.title('Training %s' % metric)\n",
        "    plt.xlabel('Epochs')\n",
        "    plt.ylabel(metric.capitalize())\n",
        "    plt.legend()\n",
        "    plt.grid()\n",
        "\n",
        "    plt.show()  \n",
        "\n",
        "\n",
        "#to see mushrooms when I want\n",
        "def plot_mushroom_image(N, imgs, labels):\n",
        "    print(labels[N])\n",
        "    plt.imshow(imgs[N,], cmap=plt.cm.binary)\n",
        "    plt.grid(True)"
      ],
      "execution_count": 11,
      "outputs": []
    },
    {
      "cell_type": "code",
      "metadata": {
        "colab": {
          "base_uri": "https://localhost:8080/",
          "height": 462
        },
        "id": "8Y3yw38Xdat2",
        "outputId": "681daf15-2dbf-4e86-99d2-386163e9d793"
      },
      "source": [
        "plot_mushroom_image(939,train_images,train_labels)"
      ],
      "execution_count": 12,
      "outputs": [
        {
          "output_type": "stream",
          "text": [
            "Amanita muscaria\n"
          ],
          "name": "stdout"
        },
        {
          "output_type": "display_data",
          "data": {
            "image/png": "[encoded data removed]",
            "text/plain": [
              "<Figure size 748.8x514.8 with 1 Axes>"
            ]
          },
          "metadata": {
            "tags": [],
            "needs_background": "light"
          }
        }
      ]
    },
    {
      "cell_type": "markdown",
      "metadata": {
        "id": "ILbqg2DfuA_f"
      },
      "source": [
        "### Creating a dictionary with the labels and numbers for each label"
      ]
    },
    {
      "cell_type": "code",
      "metadata": {
        "id": "uo8xHoDSiVI3"
      },
      "source": [
        "l1 = list(range(48))\n",
        "l2 = list(np.unique(labels))\n",
        "d = dict(zip(l1,l2))\n",
        "#create a dictionary to use one hot encoder"
      ],
      "execution_count": 13,
      "outputs": []
    },
    {
      "cell_type": "markdown",
      "metadata": {
        "id": "hRKWdcqXfYnW"
      },
      "source": [
        "Transform to one hot encoder the 48 classes "
      ]
    },
    {
      "cell_type": "code",
      "metadata": {
        "id": "SGr13NUYdu7T"
      },
      "source": [
        "from sklearn.preprocessing import OneHotEncoder\n",
        "from sklearn.preprocessing import LabelEncoder\n",
        "\n",
        "ohetrain = OneHotEncoder(sparse = False)\n",
        "le = LabelEncoder()\n",
        "OneHotTrain = ohetrain.fit_transform(le.fit_transform(train_labels).reshape(-1, 1))\n",
        "\n",
        "ohetest = OneHotEncoder(sparse = False)\n",
        "le = LabelEncoder()\n",
        "OneHotTest = ohetest.fit_transform(le.fit_transform(test_labels).reshape(-1, 1))\n",
        "\n",
        "oheval = OneHotEncoder(sparse = False)\n",
        "le = LabelEncoder()\n",
        "OneHotVal = oheval.fit_transform(le.fit_transform(validation_labels).reshape(-1, 1))"
      ],
      "execution_count": 14,
      "outputs": []
    },
    {
      "cell_type": "markdown",
      "metadata": {
        "id": "XOC9nYAylNuM"
      },
      "source": [
        "# Applying CNN (Convolutional Neural Network)"
      ]
    },
    {
      "cell_type": "markdown",
      "metadata": {
        "id": "9Xkp9-YokkT_"
      },
      "source": [
        "## Creating our first convolutional neural network\n",
        "\n"
      ]
    },
    {
      "cell_type": "markdown",
      "metadata": {
        "id": "UzMIs1Uluhlh"
      },
      "source": [
        "### with stochastic gradient descent"
      ]
    },
    {
      "cell_type": "code",
      "metadata": {
        "id": "8eTFwKMjsalO"
      },
      "source": [
        "INIT_LR = 1e-3\n",
        "epochs = 200\n",
        "batch_size = 32\n",
        "nClasses = 48\n",
        "\n",
        "def cnn_model():\n",
        "  model = Sequential()\n",
        "\n",
        "  model.add(Conv2D(filters = 16, kernel_size = (5,5),padding = 'Same', \n",
        "                 activation ='relu', input_shape = (28,28,3)))\n",
        "  model.add(Conv2D(filters = 32, kernel_size = (5,5),padding = 'Same', \n",
        "                 activation ='relu'))\n",
        "  model.add(MaxPool2D(pool_size=(3,3)))\n",
        "  model.add(Dropout(0.25))\n",
        "\n",
        "  model.add(Conv2D(filters = 32, kernel_size = (3,3),padding = 'Same', \n",
        "                 activation ='relu'))\n",
        "  model.add(MaxPool2D(pool_size=(3,3)))\n",
        "  model.add(Dropout(0.25))\n",
        "\n",
        "  \n",
        "  model.add(Flatten())\n",
        "\n",
        "  model.add(Dense(200, activation='relu'))\n",
        "  model.add(Dense(100, activation='relu'))\n",
        "  model.add(Dense(nClasses, activation='softmax'))\n",
        "  \n",
        "  model.summary()\n",
        "\n",
        "  return model\n",
        "  \n",
        "  "
      ],
      "execution_count": 15,
      "outputs": []
    },
    {
      "cell_type": "code",
      "metadata": {
        "colab": {
          "base_uri": "https://localhost:8080/"
        },
        "id": "IN3BKjviub2N",
        "outputId": "3811f4c2-6741-4b3a-e48b-3bf67cdc9a2c"
      },
      "source": [
        "model = cnn_model()"
      ],
      "execution_count": 16,
      "outputs": [
        {
          "output_type": "stream",
          "text": [
            "Model: \"sequential\"\n",
            "_________________________________________________________________\n",
            "Layer (type)                 Output Shape              Param #   \n",
            "=================================================================\n",
            "conv2d (Conv2D)              (None, 28, 28, 16)        1216      \n",
            "_________________________________________________________________\n",
            "conv2d_1 (Conv2D)            (None, 28, 28, 32)        12832     \n",
            "_________________________________________________________________\n",
            "max_pooling2d (MaxPooling2D) (None, 9, 9, 32)          0         \n",
            "_________________________________________________________________\n",
            "dropout (Dropout)            (None, 9, 9, 32)          0         \n",
            "_________________________________________________________________\n",
            "conv2d_2 (Conv2D)            (None, 9, 9, 32)          9248      \n",
            "_________________________________________________________________\n",
            "max_pooling2d_1 (MaxPooling2 (None, 3, 3, 32)          0         \n",
            "_________________________________________________________________\n",
            "dropout_1 (Dropout)          (None, 3, 3, 32)          0         \n",
            "_________________________________________________________________\n",
            "flatten (Flatten)            (None, 288)               0         \n",
            "_________________________________________________________________\n",
            "dense (Dense)                (None, 200)               57800     \n",
            "_________________________________________________________________\n",
            "dense_1 (Dense)              (None, 100)               20100     \n",
            "_________________________________________________________________\n",
            "dense_2 (Dense)              (None, 48)                4848      \n",
            "=================================================================\n",
            "Total params: 106,044\n",
            "Trainable params: 106,044\n",
            "Non-trainable params: 0\n",
            "_________________________________________________________________\n"
          ],
          "name": "stdout"
        }
      ]
    },
    {
      "cell_type": "code",
      "metadata": {
        "id": "h1XwFrcttJ5z"
      },
      "source": [
        "## we choose the Adam optimizer\n",
        "\n",
        "model.compile(loss=losses.categorical_crossentropy, optimizer=optimizers.Adam(),metrics=['categorical_accuracy'])"
      ],
      "execution_count": null,
      "outputs": []
    },
    {
      "cell_type": "code",
      "metadata": {
        "id": "CgpZhaBx8LJX"
      },
      "source": [
        "#### probamos con sgd\n",
        "\n",
        "model.compile(optimizer=optimizers.SGD(lr=0.01),loss=losses.categorical_crossentropy,metrics=[metrics.categorical_accuracy])"
      ],
      "execution_count": 17,
      "outputs": []
    },
    {
      "cell_type": "code",
      "metadata": {
        "colab": {
          "base_uri": "https://localhost:8080/"
        },
        "id": "Oigv6Aj-thzF",
        "outputId": "a3aef7a8-a917-4ad7-dd5a-6c1f55defb3a"
      },
      "source": [
        "h = model.fit(train_images,OneHotTrain, batch_size=batch_size,epochs=epochs,verbose=1,validation_data=(validation_images,OneHotVal))\n"
      ],
      "execution_count": 18,
      "outputs": [
        {
          "output_type": "stream",
          "text": [
            "Epoch 1/200\n",
            "197/197 [==============================] - 4s 7ms/step - loss: 3.8752 - categorical_accuracy: 0.0226 - val_loss: 3.8718 - val_categorical_accuracy: 0.0209\n",
            "Epoch 2/200\n",
            "197/197 [==============================] - 1s 4ms/step - loss: 3.8695 - categorical_accuracy: 0.0239 - val_loss: 3.8696 - val_categorical_accuracy: 0.0164\n",
            "Epoch 3/200\n",
            "197/197 [==============================] - 1s 4ms/step - loss: 3.8682 - categorical_accuracy: 0.0280 - val_loss: 3.8672 - val_categorical_accuracy: 0.0164\n",
            "Epoch 4/200\n",
            "197/197 [==============================] - 1s 4ms/step - loss: 3.8658 - categorical_accuracy: 0.0252 - val_loss: 3.8631 - val_categorical_accuracy: 0.0194\n",
            "Epoch 5/200\n",
            "197/197 [==============================] - 1s 4ms/step - loss: 3.8631 - categorical_accuracy: 0.0290 - val_loss: 3.8597 - val_categorical_accuracy: 0.0209\n",
            "Epoch 6/200\n",
            "197/197 [==============================] - 1s 4ms/step - loss: 3.8576 - categorical_accuracy: 0.0292 - val_loss: 3.8508 - val_categorical_accuracy: 0.0254\n",
            "Epoch 7/200\n",
            "197/197 [==============================] - 1s 4ms/step - loss: 3.8511 - categorical_accuracy: 0.0326 - val_loss: 3.8347 - val_categorical_accuracy: 0.0343\n",
            "Epoch 8/200\n",
            "197/197 [==============================] - 1s 4ms/step - loss: 3.8268 - categorical_accuracy: 0.0456 - val_loss: 3.7954 - val_categorical_accuracy: 0.0448\n",
            "Epoch 9/200\n",
            "197/197 [==============================] - 1s 4ms/step - loss: 3.7750 - categorical_accuracy: 0.0475 - val_loss: 3.7212 - val_categorical_accuracy: 0.0552\n",
            "Epoch 10/200\n",
            "197/197 [==============================] - 1s 4ms/step - loss: 3.6848 - categorical_accuracy: 0.0589 - val_loss: 3.5926 - val_categorical_accuracy: 0.0612\n",
            "Epoch 11/200\n",
            "197/197 [==============================] - 1s 4ms/step - loss: 3.5896 - categorical_accuracy: 0.0658 - val_loss: 3.5557 - val_categorical_accuracy: 0.0746\n",
            "Epoch 12/200\n",
            "197/197 [==============================] - 1s 4ms/step - loss: 3.5155 - categorical_accuracy: 0.0746 - val_loss: 3.4835 - val_categorical_accuracy: 0.0627\n",
            "Epoch 13/200\n",
            "197/197 [==============================] - 1s 4ms/step - loss: 3.4431 - categorical_accuracy: 0.0803 - val_loss: 3.4056 - val_categorical_accuracy: 0.0761\n",
            "Epoch 14/200\n",
            "197/197 [==============================] - 1s 4ms/step - loss: 3.3974 - categorical_accuracy: 0.0868 - val_loss: 3.3862 - val_categorical_accuracy: 0.0896\n",
            "Epoch 15/200\n",
            "197/197 [==============================] - 1s 4ms/step - loss: 3.3785 - categorical_accuracy: 0.0842 - val_loss: 3.4444 - val_categorical_accuracy: 0.0761\n",
            "Epoch 16/200\n",
            "197/197 [==============================] - 1s 4ms/step - loss: 3.3268 - categorical_accuracy: 0.0915 - val_loss: 3.3257 - val_categorical_accuracy: 0.1164\n",
            "Epoch 17/200\n",
            "197/197 [==============================] - 1s 4ms/step - loss: 3.2837 - categorical_accuracy: 0.1064 - val_loss: 3.2686 - val_categorical_accuracy: 0.1164\n",
            "Epoch 18/200\n",
            "197/197 [==============================] - 1s 4ms/step - loss: 3.2313 - categorical_accuracy: 0.1214 - val_loss: 3.2557 - val_categorical_accuracy: 0.1224\n",
            "Epoch 19/200\n",
            "197/197 [==============================] - 1s 4ms/step - loss: 3.2031 - categorical_accuracy: 0.1225 - val_loss: 3.3268 - val_categorical_accuracy: 0.1209\n",
            "Epoch 20/200\n",
            "197/197 [==============================] - 1s 4ms/step - loss: 3.2070 - categorical_accuracy: 0.1189 - val_loss: 3.2835 - val_categorical_accuracy: 0.1119\n",
            "Epoch 21/200\n",
            "197/197 [==============================] - 1s 4ms/step - loss: 3.1450 - categorical_accuracy: 0.1432 - val_loss: 3.2118 - val_categorical_accuracy: 0.1209\n",
            "Epoch 22/200\n",
            "197/197 [==============================] - 1s 4ms/step - loss: 3.1227 - categorical_accuracy: 0.1443 - val_loss: 3.1013 - val_categorical_accuracy: 0.1388\n",
            "Epoch 23/200\n",
            "197/197 [==============================] - 1s 4ms/step - loss: 3.0880 - categorical_accuracy: 0.1500 - val_loss: 3.1069 - val_categorical_accuracy: 0.1627\n",
            "Epoch 24/200\n",
            "197/197 [==============================] - 1s 4ms/step - loss: 3.0230 - categorical_accuracy: 0.1693 - val_loss: 3.0605 - val_categorical_accuracy: 0.1328\n",
            "Epoch 25/200\n",
            "197/197 [==============================] - 1s 4ms/step - loss: 3.0151 - categorical_accuracy: 0.1716 - val_loss: 3.1061 - val_categorical_accuracy: 0.1597\n",
            "Epoch 26/200\n",
            "197/197 [==============================] - 1s 4ms/step - loss: 2.9737 - categorical_accuracy: 0.1770 - val_loss: 2.9418 - val_categorical_accuracy: 0.1597\n",
            "Epoch 27/200\n",
            "197/197 [==============================] - 1s 4ms/step - loss: 2.9336 - categorical_accuracy: 0.1758 - val_loss: 2.9712 - val_categorical_accuracy: 0.1657\n",
            "Epoch 28/200\n",
            "197/197 [==============================] - 1s 4ms/step - loss: 2.8840 - categorical_accuracy: 0.1910 - val_loss: 2.9253 - val_categorical_accuracy: 0.1821\n",
            "Epoch 29/200\n",
            "197/197 [==============================] - 1s 4ms/step - loss: 2.8304 - categorical_accuracy: 0.1897 - val_loss: 2.8876 - val_categorical_accuracy: 0.1925\n",
            "Epoch 30/200\n",
            "197/197 [==============================] - 1s 4ms/step - loss: 2.7858 - categorical_accuracy: 0.2253 - val_loss: 2.8275 - val_categorical_accuracy: 0.1985\n",
            "Epoch 31/200\n",
            "197/197 [==============================] - 1s 4ms/step - loss: 2.7531 - categorical_accuracy: 0.2261 - val_loss: 2.7744 - val_categorical_accuracy: 0.2104\n",
            "Epoch 32/200\n",
            "197/197 [==============================] - 1s 4ms/step - loss: 2.7222 - categorical_accuracy: 0.2399 - val_loss: 3.1560 - val_categorical_accuracy: 0.1403\n",
            "Epoch 33/200\n",
            "197/197 [==============================] - 1s 4ms/step - loss: 2.7200 - categorical_accuracy: 0.2347 - val_loss: 2.8800 - val_categorical_accuracy: 0.2015\n",
            "Epoch 34/200\n",
            "197/197 [==============================] - 1s 4ms/step - loss: 2.6580 - categorical_accuracy: 0.2483 - val_loss: 2.7712 - val_categorical_accuracy: 0.2269\n",
            "Epoch 35/200\n",
            "197/197 [==============================] - 1s 4ms/step - loss: 2.6643 - categorical_accuracy: 0.2515 - val_loss: 2.8924 - val_categorical_accuracy: 0.1806\n",
            "Epoch 36/200\n",
            "197/197 [==============================] - 1s 4ms/step - loss: 2.6121 - categorical_accuracy: 0.2680 - val_loss: 2.8957 - val_categorical_accuracy: 0.1925\n",
            "Epoch 37/200\n",
            "197/197 [==============================] - 1s 4ms/step - loss: 2.5731 - categorical_accuracy: 0.2670 - val_loss: 2.5597 - val_categorical_accuracy: 0.2687\n",
            "Epoch 38/200\n",
            "197/197 [==============================] - 1s 4ms/step - loss: 2.5110 - categorical_accuracy: 0.2776 - val_loss: 2.5535 - val_categorical_accuracy: 0.2791\n",
            "Epoch 39/200\n",
            "197/197 [==============================] - 1s 4ms/step - loss: 2.5215 - categorical_accuracy: 0.2733 - val_loss: 2.6456 - val_categorical_accuracy: 0.2284\n",
            "Epoch 40/200\n",
            "197/197 [==============================] - 1s 4ms/step - loss: 2.4664 - categorical_accuracy: 0.2864 - val_loss: 2.4730 - val_categorical_accuracy: 0.2925\n",
            "Epoch 41/200\n",
            "197/197 [==============================] - 1s 4ms/step - loss: 2.3927 - categorical_accuracy: 0.2984 - val_loss: 2.4892 - val_categorical_accuracy: 0.2821\n",
            "Epoch 42/200\n",
            "197/197 [==============================] - 1s 4ms/step - loss: 2.3756 - categorical_accuracy: 0.3087 - val_loss: 2.4828 - val_categorical_accuracy: 0.2851\n",
            "Epoch 43/200\n",
            "197/197 [==============================] - 1s 4ms/step - loss: 2.3840 - categorical_accuracy: 0.3161 - val_loss: 2.5572 - val_categorical_accuracy: 0.2687\n",
            "Epoch 44/200\n",
            "197/197 [==============================] - 1s 4ms/step - loss: 2.3276 - categorical_accuracy: 0.3224 - val_loss: 2.3778 - val_categorical_accuracy: 0.3284\n",
            "Epoch 45/200\n",
            "197/197 [==============================] - 1s 4ms/step - loss: 2.3021 - categorical_accuracy: 0.3372 - val_loss: 2.4930 - val_categorical_accuracy: 0.2866\n",
            "Epoch 46/200\n",
            "197/197 [==============================] - 1s 4ms/step - loss: 2.2811 - categorical_accuracy: 0.3289 - val_loss: 2.5167 - val_categorical_accuracy: 0.2716\n",
            "Epoch 47/200\n",
            "197/197 [==============================] - 1s 4ms/step - loss: 2.2539 - categorical_accuracy: 0.3438 - val_loss: 2.3496 - val_categorical_accuracy: 0.3403\n",
            "Epoch 48/200\n",
            "197/197 [==============================] - 1s 4ms/step - loss: 2.2111 - categorical_accuracy: 0.3588 - val_loss: 2.3271 - val_categorical_accuracy: 0.3463\n",
            "Epoch 49/200\n",
            "197/197 [==============================] - 1s 4ms/step - loss: 2.1992 - categorical_accuracy: 0.3631 - val_loss: 2.4508 - val_categorical_accuracy: 0.3119\n",
            "Epoch 50/200\n",
            "197/197 [==============================] - 1s 4ms/step - loss: 2.1749 - categorical_accuracy: 0.3629 - val_loss: 2.4923 - val_categorical_accuracy: 0.2970\n",
            "Epoch 51/200\n",
            "197/197 [==============================] - 1s 4ms/step - loss: 2.1228 - categorical_accuracy: 0.3571 - val_loss: 2.3304 - val_categorical_accuracy: 0.3463\n",
            "Epoch 52/200\n",
            "197/197 [==============================] - 1s 4ms/step - loss: 2.0950 - categorical_accuracy: 0.3829 - val_loss: 2.2321 - val_categorical_accuracy: 0.3672\n",
            "Epoch 53/200\n",
            "197/197 [==============================] - 1s 4ms/step - loss: 2.0527 - categorical_accuracy: 0.3914 - val_loss: 2.3035 - val_categorical_accuracy: 0.3224\n",
            "Epoch 54/200\n",
            "197/197 [==============================] - 1s 4ms/step - loss: 2.0535 - categorical_accuracy: 0.3921 - val_loss: 2.2151 - val_categorical_accuracy: 0.3463\n",
            "Epoch 55/200\n",
            "197/197 [==============================] - 1s 4ms/step - loss: 1.9992 - categorical_accuracy: 0.4078 - val_loss: 2.0981 - val_categorical_accuracy: 0.3985\n",
            "Epoch 56/200\n",
            "197/197 [==============================] - 1s 4ms/step - loss: 1.9739 - categorical_accuracy: 0.4210 - val_loss: 2.0569 - val_categorical_accuracy: 0.4284\n",
            "Epoch 57/200\n",
            "197/197 [==============================] - 1s 4ms/step - loss: 1.9558 - categorical_accuracy: 0.4082 - val_loss: 2.4463 - val_categorical_accuracy: 0.2866\n",
            "Epoch 58/200\n",
            "197/197 [==============================] - 1s 4ms/step - loss: 1.9647 - categorical_accuracy: 0.4135 - val_loss: 2.1182 - val_categorical_accuracy: 0.3821\n",
            "Epoch 59/200\n",
            "197/197 [==============================] - 1s 4ms/step - loss: 1.9340 - categorical_accuracy: 0.4259 - val_loss: 2.0514 - val_categorical_accuracy: 0.4149\n",
            "Epoch 60/200\n",
            "197/197 [==============================] - 1s 4ms/step - loss: 1.9094 - categorical_accuracy: 0.4262 - val_loss: 2.0524 - val_categorical_accuracy: 0.4149\n",
            "Epoch 61/200\n",
            "197/197 [==============================] - 1s 4ms/step - loss: 1.8764 - categorical_accuracy: 0.4420 - val_loss: 2.0497 - val_categorical_accuracy: 0.4075\n",
            "Epoch 62/200\n",
            "197/197 [==============================] - 1s 4ms/step - loss: 1.8239 - categorical_accuracy: 0.4466 - val_loss: 2.1344 - val_categorical_accuracy: 0.3940\n",
            "Epoch 63/200\n",
            "197/197 [==============================] - 1s 4ms/step - loss: 1.8032 - categorical_accuracy: 0.4638 - val_loss: 1.9362 - val_categorical_accuracy: 0.4552\n",
            "Epoch 64/200\n",
            "197/197 [==============================] - 1s 4ms/step - loss: 1.7968 - categorical_accuracy: 0.4572 - val_loss: 2.3182 - val_categorical_accuracy: 0.3478\n",
            "Epoch 65/200\n",
            "197/197 [==============================] - 1s 4ms/step - loss: 1.7913 - categorical_accuracy: 0.4606 - val_loss: 2.5894 - val_categorical_accuracy: 0.3015\n",
            "Epoch 66/200\n",
            "197/197 [==============================] - 1s 4ms/step - loss: 1.8232 - categorical_accuracy: 0.4573 - val_loss: 2.0914 - val_categorical_accuracy: 0.4164\n",
            "Epoch 67/200\n",
            "197/197 [==============================] - 1s 4ms/step - loss: 1.7746 - categorical_accuracy: 0.4630 - val_loss: 1.8933 - val_categorical_accuracy: 0.4418\n",
            "Epoch 68/200\n",
            "197/197 [==============================] - 1s 4ms/step - loss: 1.7044 - categorical_accuracy: 0.4792 - val_loss: 1.8357 - val_categorical_accuracy: 0.4851\n",
            "Epoch 69/200\n",
            "197/197 [==============================] - 1s 4ms/step - loss: 1.6287 - categorical_accuracy: 0.5044 - val_loss: 1.9156 - val_categorical_accuracy: 0.4642\n",
            "Epoch 70/200\n",
            "197/197 [==============================] - 1s 4ms/step - loss: 1.6334 - categorical_accuracy: 0.4990 - val_loss: 2.0560 - val_categorical_accuracy: 0.4254\n",
            "Epoch 71/200\n",
            "197/197 [==============================] - 1s 4ms/step - loss: 1.6299 - categorical_accuracy: 0.5177 - val_loss: 1.8501 - val_categorical_accuracy: 0.4672\n",
            "Epoch 72/200\n",
            "197/197 [==============================] - 1s 4ms/step - loss: 1.5798 - categorical_accuracy: 0.5235 - val_loss: 2.0173 - val_categorical_accuracy: 0.4284\n",
            "Epoch 73/200\n",
            "197/197 [==============================] - 1s 4ms/step - loss: 1.5657 - categorical_accuracy: 0.5339 - val_loss: 1.7799 - val_categorical_accuracy: 0.5000\n",
            "Epoch 74/200\n",
            "197/197 [==============================] - 1s 4ms/step - loss: 1.5569 - categorical_accuracy: 0.5252 - val_loss: 1.7674 - val_categorical_accuracy: 0.4836\n",
            "Epoch 75/200\n",
            "197/197 [==============================] - 1s 4ms/step - loss: 1.5069 - categorical_accuracy: 0.5300 - val_loss: 1.8351 - val_categorical_accuracy: 0.4776\n",
            "Epoch 76/200\n",
            "197/197 [==============================] - 1s 4ms/step - loss: 1.4649 - categorical_accuracy: 0.5598 - val_loss: 2.0813 - val_categorical_accuracy: 0.4134\n",
            "Epoch 77/200\n",
            "197/197 [==============================] - 1s 4ms/step - loss: 1.4924 - categorical_accuracy: 0.5348 - val_loss: 1.7663 - val_categorical_accuracy: 0.4896\n",
            "Epoch 78/200\n",
            "197/197 [==============================] - 1s 4ms/step - loss: 1.4935 - categorical_accuracy: 0.5473 - val_loss: 1.8259 - val_categorical_accuracy: 0.4776\n",
            "Epoch 79/200\n",
            "197/197 [==============================] - 1s 4ms/step - loss: 1.4064 - categorical_accuracy: 0.5646 - val_loss: 1.7638 - val_categorical_accuracy: 0.5045\n",
            "Epoch 80/200\n",
            "197/197 [==============================] - 1s 4ms/step - loss: 1.3995 - categorical_accuracy: 0.5587 - val_loss: 1.8891 - val_categorical_accuracy: 0.5000\n",
            "Epoch 81/200\n",
            "197/197 [==============================] - 1s 4ms/step - loss: 1.4336 - categorical_accuracy: 0.5623 - val_loss: 1.7379 - val_categorical_accuracy: 0.5104\n",
            "Epoch 82/200\n",
            "197/197 [==============================] - 1s 4ms/step - loss: 1.3761 - categorical_accuracy: 0.5771 - val_loss: 1.5961 - val_categorical_accuracy: 0.5522\n",
            "Epoch 83/200\n",
            "197/197 [==============================] - 1s 4ms/step - loss: 1.3262 - categorical_accuracy: 0.5962 - val_loss: 1.7173 - val_categorical_accuracy: 0.5299\n",
            "Epoch 84/200\n",
            "197/197 [==============================] - 1s 4ms/step - loss: 1.3148 - categorical_accuracy: 0.5915 - val_loss: 1.8307 - val_categorical_accuracy: 0.4985\n",
            "Epoch 85/200\n",
            "197/197 [==============================] - 1s 4ms/step - loss: 1.3138 - categorical_accuracy: 0.5923 - val_loss: 1.7801 - val_categorical_accuracy: 0.4716\n",
            "Epoch 86/200\n",
            "197/197 [==============================] - 1s 4ms/step - loss: 1.3617 - categorical_accuracy: 0.5866 - val_loss: 1.8394 - val_categorical_accuracy: 0.4776\n",
            "Epoch 87/200\n",
            "197/197 [==============================] - 1s 4ms/step - loss: 1.2850 - categorical_accuracy: 0.6117 - val_loss: 1.6087 - val_categorical_accuracy: 0.5328\n",
            "Epoch 88/200\n",
            "197/197 [==============================] - 1s 4ms/step - loss: 1.2483 - categorical_accuracy: 0.6137 - val_loss: 2.4105 - val_categorical_accuracy: 0.3672\n",
            "Epoch 89/200\n",
            "197/197 [==============================] - 1s 4ms/step - loss: 1.2935 - categorical_accuracy: 0.6113 - val_loss: 1.6978 - val_categorical_accuracy: 0.5209\n",
            "Epoch 90/200\n",
            "197/197 [==============================] - 1s 4ms/step - loss: 1.2179 - categorical_accuracy: 0.6178 - val_loss: 1.6567 - val_categorical_accuracy: 0.5224\n",
            "Epoch 91/200\n",
            "197/197 [==============================] - 1s 4ms/step - loss: 1.2244 - categorical_accuracy: 0.6208 - val_loss: 1.5443 - val_categorical_accuracy: 0.5433\n",
            "Epoch 92/200\n",
            "197/197 [==============================] - 1s 4ms/step - loss: 1.1675 - categorical_accuracy: 0.6361 - val_loss: 1.5781 - val_categorical_accuracy: 0.5403\n",
            "Epoch 93/200\n",
            "197/197 [==============================] - 1s 4ms/step - loss: 1.1723 - categorical_accuracy: 0.6377 - val_loss: 1.6556 - val_categorical_accuracy: 0.5537\n",
            "Epoch 94/200\n",
            "197/197 [==============================] - 1s 4ms/step - loss: 1.1137 - categorical_accuracy: 0.6470 - val_loss: 1.5502 - val_categorical_accuracy: 0.5776\n",
            "Epoch 95/200\n",
            "197/197 [==============================] - 1s 4ms/step - loss: 1.1114 - categorical_accuracy: 0.6546 - val_loss: 1.5646 - val_categorical_accuracy: 0.5418\n",
            "Epoch 96/200\n",
            "197/197 [==============================] - 1s 4ms/step - loss: 1.1191 - categorical_accuracy: 0.6532 - val_loss: 1.5796 - val_categorical_accuracy: 0.5687\n",
            "Epoch 97/200\n",
            "197/197 [==============================] - 1s 4ms/step - loss: 1.1324 - categorical_accuracy: 0.6461 - val_loss: 1.6497 - val_categorical_accuracy: 0.5418\n",
            "Epoch 98/200\n",
            "197/197 [==============================] - 1s 4ms/step - loss: 1.0798 - categorical_accuracy: 0.6597 - val_loss: 1.5845 - val_categorical_accuracy: 0.5567\n",
            "Epoch 99/200\n",
            "197/197 [==============================] - 1s 4ms/step - loss: 1.0513 - categorical_accuracy: 0.6723 - val_loss: 1.5355 - val_categorical_accuracy: 0.5612\n",
            "Epoch 100/200\n",
            "197/197 [==============================] - 1s 4ms/step - loss: 1.0662 - categorical_accuracy: 0.6621 - val_loss: 1.6984 - val_categorical_accuracy: 0.5358\n",
            "Epoch 101/200\n",
            "197/197 [==============================] - 1s 4ms/step - loss: 1.0737 - categorical_accuracy: 0.6573 - val_loss: 1.9954 - val_categorical_accuracy: 0.4806\n",
            "Epoch 102/200\n",
            "197/197 [==============================] - 1s 4ms/step - loss: 1.0425 - categorical_accuracy: 0.6688 - val_loss: 1.7541 - val_categorical_accuracy: 0.5358\n",
            "Epoch 103/200\n",
            "197/197 [==============================] - 1s 4ms/step - loss: 1.0449 - categorical_accuracy: 0.6647 - val_loss: 1.4514 - val_categorical_accuracy: 0.5821\n",
            "Epoch 104/200\n",
            "197/197 [==============================] - 1s 4ms/step - loss: 0.9905 - categorical_accuracy: 0.6888 - val_loss: 1.4829 - val_categorical_accuracy: 0.5896\n",
            "Epoch 105/200\n",
            "197/197 [==============================] - 1s 4ms/step - loss: 1.0011 - categorical_accuracy: 0.6867 - val_loss: 1.5817 - val_categorical_accuracy: 0.5507\n",
            "Epoch 106/200\n",
            "197/197 [==============================] - 1s 4ms/step - loss: 0.9872 - categorical_accuracy: 0.6901 - val_loss: 1.8199 - val_categorical_accuracy: 0.5030\n",
            "Epoch 107/200\n",
            "197/197 [==============================] - 1s 4ms/step - loss: 0.9746 - categorical_accuracy: 0.7009 - val_loss: 1.6801 - val_categorical_accuracy: 0.5672\n",
            "Epoch 108/200\n",
            "197/197 [==============================] - 1s 4ms/step - loss: 0.9886 - categorical_accuracy: 0.6963 - val_loss: 1.4933 - val_categorical_accuracy: 0.5896\n",
            "Epoch 109/200\n",
            "197/197 [==============================] - 1s 4ms/step - loss: 0.9200 - categorical_accuracy: 0.7104 - val_loss: 1.4739 - val_categorical_accuracy: 0.5881\n",
            "Epoch 110/200\n",
            "197/197 [==============================] - 1s 4ms/step - loss: 0.9312 - categorical_accuracy: 0.7020 - val_loss: 1.7580 - val_categorical_accuracy: 0.5269\n",
            "Epoch 111/200\n",
            "197/197 [==============================] - 1s 4ms/step - loss: 0.9410 - categorical_accuracy: 0.6938 - val_loss: 1.4535 - val_categorical_accuracy: 0.5955\n",
            "Epoch 112/200\n",
            "197/197 [==============================] - 1s 4ms/step - loss: 0.8851 - categorical_accuracy: 0.7210 - val_loss: 1.5843 - val_categorical_accuracy: 0.5567\n",
            "Epoch 113/200\n",
            "197/197 [==============================] - 1s 4ms/step - loss: 0.9197 - categorical_accuracy: 0.7093 - val_loss: 1.6094 - val_categorical_accuracy: 0.5657\n",
            "Epoch 114/200\n",
            "197/197 [==============================] - 1s 4ms/step - loss: 0.8959 - categorical_accuracy: 0.7144 - val_loss: 1.3017 - val_categorical_accuracy: 0.6254\n",
            "Epoch 115/200\n",
            "197/197 [==============================] - 1s 4ms/step - loss: 0.8503 - categorical_accuracy: 0.7309 - val_loss: 1.6609 - val_categorical_accuracy: 0.5522\n",
            "Epoch 116/200\n",
            "197/197 [==============================] - 1s 4ms/step - loss: 0.8572 - categorical_accuracy: 0.7197 - val_loss: 1.3572 - val_categorical_accuracy: 0.6194\n",
            "Epoch 117/200\n",
            "197/197 [==============================] - 1s 4ms/step - loss: 0.8468 - categorical_accuracy: 0.7310 - val_loss: 1.4085 - val_categorical_accuracy: 0.5970\n",
            "Epoch 118/200\n",
            "197/197 [==============================] - 1s 4ms/step - loss: 0.8029 - categorical_accuracy: 0.7527 - val_loss: 1.3622 - val_categorical_accuracy: 0.6104\n",
            "Epoch 119/200\n",
            "197/197 [==============================] - 1s 4ms/step - loss: 0.8261 - categorical_accuracy: 0.7317 - val_loss: 1.3533 - val_categorical_accuracy: 0.6045\n",
            "Epoch 120/200\n",
            "197/197 [==============================] - 1s 4ms/step - loss: 0.7966 - categorical_accuracy: 0.7506 - val_loss: 1.5446 - val_categorical_accuracy: 0.5716\n",
            "Epoch 121/200\n",
            "197/197 [==============================] - 1s 4ms/step - loss: 0.8021 - categorical_accuracy: 0.7464 - val_loss: 1.7454 - val_categorical_accuracy: 0.5522\n",
            "Epoch 122/200\n",
            "197/197 [==============================] - 1s 4ms/step - loss: 0.7795 - categorical_accuracy: 0.7491 - val_loss: 1.3897 - val_categorical_accuracy: 0.6134\n",
            "Epoch 123/200\n",
            "197/197 [==============================] - 1s 4ms/step - loss: 0.7838 - categorical_accuracy: 0.7467 - val_loss: 1.3891 - val_categorical_accuracy: 0.6090\n",
            "Epoch 124/200\n",
            "197/197 [==============================] - 1s 4ms/step - loss: 0.7606 - categorical_accuracy: 0.7548 - val_loss: 1.4745 - val_categorical_accuracy: 0.6119\n",
            "Epoch 125/200\n",
            "197/197 [==============================] - 1s 4ms/step - loss: 0.7415 - categorical_accuracy: 0.7607 - val_loss: 1.7311 - val_categorical_accuracy: 0.5582\n",
            "Epoch 126/200\n",
            "197/197 [==============================] - 1s 4ms/step - loss: 0.7743 - categorical_accuracy: 0.7548 - val_loss: 1.4092 - val_categorical_accuracy: 0.6194\n",
            "Epoch 127/200\n",
            "197/197 [==============================] - 1s 4ms/step - loss: 0.7275 - categorical_accuracy: 0.7637 - val_loss: 1.8984 - val_categorical_accuracy: 0.4985\n",
            "Epoch 128/200\n",
            "197/197 [==============================] - 1s 4ms/step - loss: 0.7823 - categorical_accuracy: 0.7502 - val_loss: 1.4169 - val_categorical_accuracy: 0.6030\n",
            "Epoch 129/200\n",
            "197/197 [==============================] - 1s 4ms/step - loss: 0.7622 - categorical_accuracy: 0.7556 - val_loss: 1.5254 - val_categorical_accuracy: 0.5985\n",
            "Epoch 130/200\n",
            "197/197 [==============================] - 1s 4ms/step - loss: 0.7017 - categorical_accuracy: 0.7701 - val_loss: 2.0491 - val_categorical_accuracy: 0.4925\n",
            "Epoch 131/200\n",
            "197/197 [==============================] - 1s 4ms/step - loss: 0.7066 - categorical_accuracy: 0.7720 - val_loss: 1.5108 - val_categorical_accuracy: 0.5955\n",
            "Epoch 132/200\n",
            "197/197 [==============================] - 1s 4ms/step - loss: 0.7262 - categorical_accuracy: 0.7635 - val_loss: 1.3570 - val_categorical_accuracy: 0.6194\n",
            "Epoch 133/200\n",
            "197/197 [==============================] - 1s 4ms/step - loss: 0.6915 - categorical_accuracy: 0.7713 - val_loss: 1.3240 - val_categorical_accuracy: 0.6328\n",
            "Epoch 134/200\n",
            "197/197 [==============================] - 1s 4ms/step - loss: 0.6482 - categorical_accuracy: 0.7923 - val_loss: 1.7686 - val_categorical_accuracy: 0.5448\n",
            "Epoch 135/200\n",
            "197/197 [==============================] - 1s 4ms/step - loss: 0.6770 - categorical_accuracy: 0.7806 - val_loss: 1.5408 - val_categorical_accuracy: 0.5836\n",
            "Epoch 136/200\n",
            "197/197 [==============================] - 1s 4ms/step - loss: 0.6768 - categorical_accuracy: 0.7759 - val_loss: 1.5192 - val_categorical_accuracy: 0.5970\n",
            "Epoch 137/200\n",
            "197/197 [==============================] - 1s 4ms/step - loss: 0.6451 - categorical_accuracy: 0.7865 - val_loss: 1.2953 - val_categorical_accuracy: 0.6582\n",
            "Epoch 138/200\n",
            "197/197 [==============================] - 1s 4ms/step - loss: 0.6231 - categorical_accuracy: 0.7916 - val_loss: 1.6137 - val_categorical_accuracy: 0.5776\n",
            "Epoch 139/200\n",
            "197/197 [==============================] - 1s 4ms/step - loss: 0.6637 - categorical_accuracy: 0.7837 - val_loss: 1.1939 - val_categorical_accuracy: 0.6672\n",
            "Epoch 140/200\n",
            "197/197 [==============================] - 1s 4ms/step - loss: 0.6141 - categorical_accuracy: 0.7968 - val_loss: 1.8347 - val_categorical_accuracy: 0.5657\n",
            "Epoch 141/200\n",
            "197/197 [==============================] - 1s 4ms/step - loss: 0.6872 - categorical_accuracy: 0.7755 - val_loss: 1.4256 - val_categorical_accuracy: 0.6015\n",
            "Epoch 142/200\n",
            "197/197 [==============================] - 1s 4ms/step - loss: 0.6242 - categorical_accuracy: 0.7955 - val_loss: 1.2828 - val_categorical_accuracy: 0.6448\n",
            "Epoch 143/200\n",
            "197/197 [==============================] - 1s 4ms/step - loss: 0.6085 - categorical_accuracy: 0.7999 - val_loss: 1.2318 - val_categorical_accuracy: 0.6507\n",
            "Epoch 144/200\n",
            "197/197 [==============================] - 1s 4ms/step - loss: 0.6149 - categorical_accuracy: 0.8028 - val_loss: 1.3154 - val_categorical_accuracy: 0.6463\n",
            "Epoch 145/200\n",
            "197/197 [==============================] - 1s 4ms/step - loss: 0.6019 - categorical_accuracy: 0.7997 - val_loss: 1.5735 - val_categorical_accuracy: 0.5851\n",
            "Epoch 146/200\n",
            "197/197 [==============================] - 1s 4ms/step - loss: 0.6189 - categorical_accuracy: 0.7937 - val_loss: 1.2773 - val_categorical_accuracy: 0.6552\n",
            "Epoch 147/200\n",
            "197/197 [==============================] - 1s 4ms/step - loss: 0.6110 - categorical_accuracy: 0.8058 - val_loss: 1.3209 - val_categorical_accuracy: 0.6507\n",
            "Epoch 148/200\n",
            "197/197 [==============================] - 1s 4ms/step - loss: 0.6004 - categorical_accuracy: 0.8005 - val_loss: 1.5773 - val_categorical_accuracy: 0.5881\n",
            "Epoch 149/200\n",
            "197/197 [==============================] - 1s 4ms/step - loss: 0.5982 - categorical_accuracy: 0.8014 - val_loss: 1.3342 - val_categorical_accuracy: 0.6537\n",
            "Epoch 150/200\n",
            "197/197 [==============================] - 1s 4ms/step - loss: 0.5789 - categorical_accuracy: 0.8116 - val_loss: 1.2554 - val_categorical_accuracy: 0.6478\n",
            "Epoch 151/200\n",
            "197/197 [==============================] - 1s 4ms/step - loss: 0.5744 - categorical_accuracy: 0.8145 - val_loss: 1.2244 - val_categorical_accuracy: 0.6836\n",
            "Epoch 152/200\n",
            "197/197 [==============================] - 1s 4ms/step - loss: 0.5497 - categorical_accuracy: 0.8208 - val_loss: 1.1995 - val_categorical_accuracy: 0.6925\n",
            "Epoch 153/200\n",
            "197/197 [==============================] - 1s 4ms/step - loss: 0.6110 - categorical_accuracy: 0.7989 - val_loss: 1.2671 - val_categorical_accuracy: 0.6627\n",
            "Epoch 154/200\n",
            "197/197 [==============================] - 1s 4ms/step - loss: 0.5469 - categorical_accuracy: 0.8268 - val_loss: 1.2230 - val_categorical_accuracy: 0.6701\n",
            "Epoch 155/200\n",
            "197/197 [==============================] - 1s 4ms/step - loss: 0.5548 - categorical_accuracy: 0.8181 - val_loss: 1.2059 - val_categorical_accuracy: 0.6701\n",
            "Epoch 156/200\n",
            "197/197 [==============================] - 1s 4ms/step - loss: 0.5539 - categorical_accuracy: 0.8124 - val_loss: 1.7562 - val_categorical_accuracy: 0.5552\n",
            "Epoch 157/200\n",
            "197/197 [==============================] - 1s 4ms/step - loss: 0.5495 - categorical_accuracy: 0.8197 - val_loss: 1.2914 - val_categorical_accuracy: 0.6597\n",
            "Epoch 158/200\n",
            "197/197 [==============================] - 1s 4ms/step - loss: 0.5680 - categorical_accuracy: 0.8231 - val_loss: 1.2981 - val_categorical_accuracy: 0.6522\n",
            "Epoch 159/200\n",
            "197/197 [==============================] - 1s 4ms/step - loss: 0.4901 - categorical_accuracy: 0.8427 - val_loss: 1.3183 - val_categorical_accuracy: 0.6463\n",
            "Epoch 160/200\n",
            "197/197 [==============================] - 1s 4ms/step - loss: 0.5562 - categorical_accuracy: 0.8219 - val_loss: 1.2397 - val_categorical_accuracy: 0.6567\n",
            "Epoch 161/200\n",
            "197/197 [==============================] - 1s 4ms/step - loss: 0.5118 - categorical_accuracy: 0.8305 - val_loss: 1.3156 - val_categorical_accuracy: 0.6552\n",
            "Epoch 162/200\n",
            "197/197 [==============================] - 1s 4ms/step - loss: 0.5097 - categorical_accuracy: 0.8267 - val_loss: 1.2432 - val_categorical_accuracy: 0.6627\n",
            "Epoch 163/200\n",
            "197/197 [==============================] - 1s 4ms/step - loss: 0.4863 - categorical_accuracy: 0.8351 - val_loss: 1.4302 - val_categorical_accuracy: 0.6358\n",
            "Epoch 164/200\n",
            "197/197 [==============================] - 1s 4ms/step - loss: 0.5078 - categorical_accuracy: 0.8396 - val_loss: 1.1961 - val_categorical_accuracy: 0.6791\n",
            "Epoch 165/200\n",
            "197/197 [==============================] - 1s 4ms/step - loss: 0.5141 - categorical_accuracy: 0.8339 - val_loss: 1.2431 - val_categorical_accuracy: 0.6731\n",
            "Epoch 166/200\n",
            "197/197 [==============================] - 1s 4ms/step - loss: 0.4607 - categorical_accuracy: 0.8447 - val_loss: 1.3276 - val_categorical_accuracy: 0.6522\n",
            "Epoch 167/200\n",
            "197/197 [==============================] - 1s 4ms/step - loss: 0.5080 - categorical_accuracy: 0.8350 - val_loss: 1.2445 - val_categorical_accuracy: 0.6746\n",
            "Epoch 168/200\n",
            "197/197 [==============================] - 1s 4ms/step - loss: 0.4843 - categorical_accuracy: 0.8403 - val_loss: 1.4358 - val_categorical_accuracy: 0.6478\n",
            "Epoch 169/200\n",
            "197/197 [==============================] - 1s 4ms/step - loss: 0.5090 - categorical_accuracy: 0.8400 - val_loss: 1.2212 - val_categorical_accuracy: 0.6776\n",
            "Epoch 170/200\n",
            "197/197 [==============================] - 1s 4ms/step - loss: 0.4892 - categorical_accuracy: 0.8336 - val_loss: 1.5265 - val_categorical_accuracy: 0.6388\n",
            "Epoch 171/200\n",
            "197/197 [==============================] - 1s 4ms/step - loss: 0.4823 - categorical_accuracy: 0.8493 - val_loss: 1.4014 - val_categorical_accuracy: 0.6507\n",
            "Epoch 172/200\n",
            "197/197 [==============================] - 1s 4ms/step - loss: 0.4567 - categorical_accuracy: 0.8469 - val_loss: 1.7257 - val_categorical_accuracy: 0.5881\n",
            "Epoch 173/200\n",
            "197/197 [==============================] - 1s 4ms/step - loss: 0.4666 - categorical_accuracy: 0.8472 - val_loss: 1.1628 - val_categorical_accuracy: 0.6881\n",
            "Epoch 174/200\n",
            "197/197 [==============================] - 1s 4ms/step - loss: 0.4627 - categorical_accuracy: 0.8470 - val_loss: 1.2450 - val_categorical_accuracy: 0.6672\n",
            "Epoch 175/200\n",
            "197/197 [==============================] - 1s 4ms/step - loss: 0.4618 - categorical_accuracy: 0.8436 - val_loss: 1.3258 - val_categorical_accuracy: 0.6791\n",
            "Epoch 176/200\n",
            "197/197 [==============================] - 1s 4ms/step - loss: 0.4644 - categorical_accuracy: 0.8502 - val_loss: 1.1926 - val_categorical_accuracy: 0.6866\n",
            "Epoch 177/200\n",
            "197/197 [==============================] - 1s 4ms/step - loss: 0.4690 - categorical_accuracy: 0.8464 - val_loss: 1.2819 - val_categorical_accuracy: 0.6791\n",
            "Epoch 178/200\n",
            "197/197 [==============================] - 1s 4ms/step - loss: 0.4877 - categorical_accuracy: 0.8455 - val_loss: 1.2756 - val_categorical_accuracy: 0.6672\n",
            "Epoch 179/200\n",
            "197/197 [==============================] - 1s 4ms/step - loss: 0.4375 - categorical_accuracy: 0.8554 - val_loss: 2.0532 - val_categorical_accuracy: 0.5284\n",
            "Epoch 180/200\n",
            "197/197 [==============================] - 1s 4ms/step - loss: 0.5099 - categorical_accuracy: 0.8381 - val_loss: 1.0948 - val_categorical_accuracy: 0.7104\n",
            "Epoch 181/200\n",
            "197/197 [==============================] - 1s 4ms/step - loss: 0.4527 - categorical_accuracy: 0.8515 - val_loss: 1.1060 - val_categorical_accuracy: 0.6806\n",
            "Epoch 182/200\n",
            "197/197 [==============================] - 1s 4ms/step - loss: 0.3870 - categorical_accuracy: 0.8753 - val_loss: 1.1944 - val_categorical_accuracy: 0.6955\n",
            "Epoch 183/200\n",
            "197/197 [==============================] - 1s 4ms/step - loss: 0.4114 - categorical_accuracy: 0.8691 - val_loss: 1.3402 - val_categorical_accuracy: 0.6612\n",
            "Epoch 184/200\n",
            "197/197 [==============================] - 1s 4ms/step - loss: 0.4466 - categorical_accuracy: 0.8509 - val_loss: 1.2474 - val_categorical_accuracy: 0.6687\n",
            "Epoch 185/200\n",
            "197/197 [==============================] - 1s 4ms/step - loss: 0.3972 - categorical_accuracy: 0.8643 - val_loss: 1.2141 - val_categorical_accuracy: 0.6896\n",
            "Epoch 186/200\n",
            "197/197 [==============================] - 1s 4ms/step - loss: 0.4554 - categorical_accuracy: 0.8493 - val_loss: 1.1766 - val_categorical_accuracy: 0.6940\n",
            "Epoch 187/200\n",
            "197/197 [==============================] - 1s 4ms/step - loss: 0.3899 - categorical_accuracy: 0.8689 - val_loss: 1.2583 - val_categorical_accuracy: 0.6806\n",
            "Epoch 188/200\n",
            "197/197 [==============================] - 1s 4ms/step - loss: 0.4207 - categorical_accuracy: 0.8584 - val_loss: 1.1770 - val_categorical_accuracy: 0.6821\n",
            "Epoch 189/200\n",
            "197/197 [==============================] - 1s 4ms/step - loss: 0.4047 - categorical_accuracy: 0.8591 - val_loss: 1.3919 - val_categorical_accuracy: 0.6552\n",
            "Epoch 190/200\n",
            "197/197 [==============================] - 1s 4ms/step - loss: 0.4160 - categorical_accuracy: 0.8684 - val_loss: 1.1934 - val_categorical_accuracy: 0.6746\n",
            "Epoch 191/200\n",
            "197/197 [==============================] - 1s 4ms/step - loss: 0.3987 - categorical_accuracy: 0.8719 - val_loss: 1.2486 - val_categorical_accuracy: 0.6881\n",
            "Epoch 192/200\n",
            "197/197 [==============================] - 1s 4ms/step - loss: 0.4018 - categorical_accuracy: 0.8697 - val_loss: 1.2716 - val_categorical_accuracy: 0.6776\n",
            "Epoch 193/200\n",
            "197/197 [==============================] - 1s 4ms/step - loss: 0.4175 - categorical_accuracy: 0.8646 - val_loss: 1.1265 - val_categorical_accuracy: 0.7030\n",
            "Epoch 194/200\n",
            "197/197 [==============================] - 1s 4ms/step - loss: 0.4059 - categorical_accuracy: 0.8677 - val_loss: 1.3698 - val_categorical_accuracy: 0.6507\n",
            "Epoch 195/200\n",
            "197/197 [==============================] - 1s 4ms/step - loss: 0.4064 - categorical_accuracy: 0.8658 - val_loss: 1.1981 - val_categorical_accuracy: 0.6806\n",
            "Epoch 196/200\n",
            "197/197 [==============================] - 1s 4ms/step - loss: 0.3772 - categorical_accuracy: 0.8743 - val_loss: 1.2930 - val_categorical_accuracy: 0.6687\n",
            "Epoch 197/200\n",
            "197/197 [==============================] - 1s 4ms/step - loss: 0.3542 - categorical_accuracy: 0.8815 - val_loss: 1.2646 - val_categorical_accuracy: 0.6746\n",
            "Epoch 198/200\n",
            "197/197 [==============================] - 1s 4ms/step - loss: 0.3850 - categorical_accuracy: 0.8728 - val_loss: 1.3708 - val_categorical_accuracy: 0.6687\n",
            "Epoch 199/200\n",
            "197/197 [==============================] - 1s 4ms/step - loss: 0.3931 - categorical_accuracy: 0.8735 - val_loss: 1.3867 - val_categorical_accuracy: 0.6507\n",
            "Epoch 200/200\n",
            "197/197 [==============================] - 1s 4ms/step - loss: 0.3872 - categorical_accuracy: 0.8699 - val_loss: 1.1789 - val_categorical_accuracy: 0.6910\n"
          ],
          "name": "stdout"
        }
      ]
    },
    {
      "cell_type": "markdown",
      "metadata": {
        "id": "QmgOQTUHla7s"
      },
      "source": [
        "### Evaluating the model"
      ]
    },
    {
      "cell_type": "code",
      "metadata": {
        "colab": {
          "base_uri": "https://localhost:8080/",
          "height": 945
        },
        "id": "h5Je_tJf_-vG",
        "outputId": "27147592-b203-4f48-ad5c-0a2ad97287dd"
      },
      "source": [
        "plot_metric(h,'loss')\n",
        "plot_metric(h,'categorical_accuracy')"
      ],
      "execution_count": 19,
      "outputs": [
        {
          "output_type": "display_data",
          "data": {
            "image/png": "[encoded data removed]",
            "text/plain": [
              "<Figure size 748.8x514.8 with 1 Axes>"
            ]
          },
          "metadata": {
            "tags": [],
            "needs_background": "light"
          }
        },
        {
          "output_type": "display_data",
          "data": {
            "image/png": "[encoded data removed]",
            "text/plain": [
              "<Figure size 748.8x514.8 with 1 Axes>"
            ]
          },
          "metadata": {
            "tags": [],
            "needs_background": "light"
          }
        }
      ]
    },
    {
      "cell_type": "code",
      "metadata": {
        "colab": {
          "base_uri": "https://localhost:8080/",
          "height": 462
        },
        "id": "qho0IEV4g4I9",
        "outputId": "b986204e-89fe-428e-9a7d-6f965760bec7"
      },
      "source": [
        "plot_mushroom_image(100,test_images,test_labels)"
      ],
      "execution_count": 20,
      "outputs": [
        {
          "output_type": "stream",
          "text": [
            "Amanita curtipes\n"
          ],
          "name": "stdout"
        },
        {
          "output_type": "display_data",
          "data": {
            "image/png": "[encoded data removed]",
            "text/plain": [
              "<Figure size 748.8x514.8 with 1 Axes>"
            ]
          },
          "metadata": {
            "tags": [],
            "needs_background": "light"
          }
        }
      ]
    },
    {
      "cell_type": "code",
      "metadata": {
        "colab": {
          "base_uri": "https://localhost:8080/"
        },
        "id": "EpRFkGy-mfR1",
        "outputId": "7f311288-302c-49cd-a131-01963fa04fd8"
      },
      "source": [
        "model.evaluate(test_images,OneHotTest)"
      ],
      "execution_count": 21,
      "outputs": [
        {
          "output_type": "stream",
          "text": [
            "23/23 [==============================] - 0s 5ms/step - loss: 1.1702 - categorical_accuracy: 0.7171\n"
          ],
          "name": "stdout"
        },
        {
          "output_type": "execute_result",
          "data": {
            "text/plain": [
              "[1.170159935951233, 0.7170596122741699]"
            ]
          },
          "metadata": {
            "tags": []
          },
          "execution_count": 21
        }
      ]
    },
    {
      "cell_type": "code",
      "metadata": {
        "id": "_NjePVrjqMfx"
      },
      "source": [
        "## save my model \n",
        "\n",
        "model.save(\"model_mushrooms_SGD.h5\")"
      ],
      "execution_count": 46,
      "outputs": []
    },
    {
      "cell_type": "code",
      "metadata": {
        "id": "cw9d9pLz1hZm"
      },
      "source": [
        "from keras.models import load_model\n",
        "\n",
        "model = load_model('model_mushrooms_SGD.h5')"
      ],
      "execution_count": 48,
      "outputs": []
    },
    {
      "cell_type": "markdown",
      "metadata": {
        "id": "XTGE36V5lhyC"
      },
      "source": [
        "### Doing predictions"
      ]
    },
    {
      "cell_type": "code",
      "metadata": {
        "colab": {
          "base_uri": "https://localhost:8080/"
        },
        "id": "UWfb_eClAKYl",
        "outputId": "91ca859f-054c-4eb0-b4ae-32b185b6f2eb"
      },
      "source": [
        "y_pred = model.predict_proba(test_images)\n"
      ],
      "execution_count": 26,
      "outputs": [
        {
          "output_type": "stream",
          "text": [
            "/usr/local/lib/python3.7/dist-packages/tensorflow/python/keras/engine/sequential.py:425: UserWarning: `model.predict_proba()` is deprecated and will be removed after 2021-01-01. Please use `model.predict()` instead.\n",
            "  warnings.warn('`model.predict_proba()` is deprecated and '\n"
          ],
          "name": "stderr"
        }
      ]
    },
    {
      "cell_type": "code",
      "metadata": {
        "id": "0sMOmNSiubxC"
      },
      "source": [
        "df = pd.DataFrame(y_pred[100], columns = ['probabilities'])"
      ],
      "execution_count": 27,
      "outputs": []
    },
    {
      "cell_type": "code",
      "metadata": {
        "id": "63YD8F_0vv_E"
      },
      "source": [
        "df['labels']=l2"
      ],
      "execution_count": 28,
      "outputs": []
    },
    {
      "cell_type": "code",
      "metadata": {
        "id": "xBTTluoV4Cxi"
      },
      "source": [
        "## save to use after in the app\n",
        "\n",
        "pd.Series(l2).to_csv('mushrooms_labels.csv',sep='|')"
      ],
      "execution_count": 59,
      "outputs": []
    },
    {
      "cell_type": "code",
      "metadata": {
        "id": "SSWqtq9F5-WZ"
      },
      "source": [
        "l3 = pd.read_csv('mushrooms_labels.csv',sep='|')"
      ],
      "execution_count": 63,
      "outputs": []
    },
    {
      "cell_type": "code",
      "metadata": {
        "colab": {
          "base_uri": "https://localhost:8080/"
        },
        "id": "s0AVcpSS6ZG8",
        "outputId": "49f78b8f-8b66-4f6a-bbc2-dc03a7eda807"
      },
      "source": [
        "l3['0'].to_list()"
      ],
      "execution_count": 70,
      "outputs": [
        {
          "output_type": "execute_result",
          "data": {
            "text/plain": [
              "['Agaricus arvensis',\n",
              " 'Agaricus bitorquis',\n",
              " 'Agaricus campestris',\n",
              " 'Agaricus sylvaticus',\n",
              " 'Amanita caesarea',\n",
              " 'Amanita citrina',\n",
              " 'Amanita curtipes',\n",
              " 'Amanita muscaria',\n",
              " 'Amanita pantherina',\n",
              " 'Amanita phalloides',\n",
              " 'Boletus aereus',\n",
              " 'Boletus aestivalis',\n",
              " 'Boletus edulis',\n",
              " 'Boletus erythropus',\n",
              " 'Boletus luridus',\n",
              " 'Boletus pinophilus',\n",
              " 'Boletus satanas',\n",
              " 'Cantharellus cibarius',\n",
              " 'Clitocybe gibba',\n",
              " 'Clitocybe odora',\n",
              " 'Cratarellus cornucopioide',\n",
              " 'Cratarellus lutescens',\n",
              " 'Ganoderma lucidum',\n",
              " 'Lactarius controversus',\n",
              " 'Lactarius deliciosus',\n",
              " 'Lactarius rufus',\n",
              " 'Lactarius sanguifluus',\n",
              " 'Lepista nuda',\n",
              " 'Macrolepiota mastoidea',\n",
              " 'Macrolepiota procera',\n",
              " 'Marasmius oreades',\n",
              " 'Morchella elata',\n",
              " 'Morchella esculenta',\n",
              " 'Morchella vulgaris',\n",
              " 'Pleurotus eryngii',\n",
              " 'Pleurotus ostreatus',\n",
              " 'Russula chloroides',\n",
              " 'Russula cyanoxantha',\n",
              " 'Russula vesca',\n",
              " 'Sparasis crispa',\n",
              " 'Suillus luteus',\n",
              " 'Terfecia leptoderma',\n",
              " 'Tricholoma columbetta',\n",
              " 'Tricholoma equestre',\n",
              " 'Tricholoma portentosum',\n",
              " 'Tuber aestivum',\n",
              " 'Tuber brumale',\n",
              " 'Tuber melanosporum']"
            ]
          },
          "metadata": {
            "tags": []
          },
          "execution_count": 70
        }
      ]
    },
    {
      "cell_type": "code",
      "metadata": {
        "colab": {
          "base_uri": "https://localhost:8080/",
          "height": 313
        },
        "id": "Nq92b3BK6G4M",
        "outputId": "564cc2f0-5ffb-482e-c7fa-5d6cf9746138"
      },
      "source": [
        "l3.drop('Unnamed: 0')"
      ],
      "execution_count": 66,
      "outputs": [
        {
          "output_type": "error",
          "ename": "KeyError",
          "evalue": "ignored",
          "traceback": [
            "\u001b[0;31m---------------------------------------------------------------------------\u001b[0m",
            "\u001b[0;31mKeyError\u001b[0m                                  Traceback (most recent call last)",
            "\u001b[0;32m<ipython-input-66-521dc38430ee>\u001b[0m in \u001b[0;36m<module>\u001b[0;34m()\u001b[0m\n\u001b[0;32m----> 1\u001b[0;31m \u001b[0ml3\u001b[0m\u001b[0;34m.\u001b[0m\u001b[0mdrop\u001b[0m\u001b[0;34m(\u001b[0m\u001b[0;34m'Unnamed:0'\u001b[0m\u001b[0;34m)\u001b[0m\u001b[0;34m\u001b[0m\u001b[0;34m\u001b[0m\u001b[0m\n\u001b[0m",
            "\u001b[0;32m/usr/local/lib/python3.7/dist-packages/pandas/core/frame.py\u001b[0m in \u001b[0;36mdrop\u001b[0;34m(self, labels, axis, index, columns, level, inplace, errors)\u001b[0m\n\u001b[1;32m   4172\u001b[0m             \u001b[0mlevel\u001b[0m\u001b[0;34m=\u001b[0m\u001b[0mlevel\u001b[0m\u001b[0;34m,\u001b[0m\u001b[0;34m\u001b[0m\u001b[0;34m\u001b[0m\u001b[0m\n\u001b[1;32m   4173\u001b[0m             \u001b[0minplace\u001b[0m\u001b[0;34m=\u001b[0m\u001b[0minplace\u001b[0m\u001b[0;34m,\u001b[0m\u001b[0;34m\u001b[0m\u001b[0;34m\u001b[0m\u001b[0m\n\u001b[0;32m-> 4174\u001b[0;31m             \u001b[0merrors\u001b[0m\u001b[0;34m=\u001b[0m\u001b[0merrors\u001b[0m\u001b[0;34m,\u001b[0m\u001b[0;34m\u001b[0m\u001b[0;34m\u001b[0m\u001b[0m\n\u001b[0m\u001b[1;32m   4175\u001b[0m         )\n\u001b[1;32m   4176\u001b[0m \u001b[0;34m\u001b[0m\u001b[0m\n",
            "\u001b[0;32m/usr/local/lib/python3.7/dist-packages/pandas/core/generic.py\u001b[0m in \u001b[0;36mdrop\u001b[0;34m(self, labels, axis, index, columns, level, inplace, errors)\u001b[0m\n\u001b[1;32m   3887\u001b[0m         \u001b[0;32mfor\u001b[0m \u001b[0maxis\u001b[0m\u001b[0;34m,\u001b[0m \u001b[0mlabels\u001b[0m \u001b[0;32min\u001b[0m \u001b[0maxes\u001b[0m\u001b[0;34m.\u001b[0m\u001b[0mitems\u001b[0m\u001b[0;34m(\u001b[0m\u001b[0;34m)\u001b[0m\u001b[0;34m:\u001b[0m\u001b[0;34m\u001b[0m\u001b[0;34m\u001b[0m\u001b[0m\n\u001b[1;32m   3888\u001b[0m             \u001b[0;32mif\u001b[0m \u001b[0mlabels\u001b[0m \u001b[0;32mis\u001b[0m \u001b[0;32mnot\u001b[0m \u001b[0;32mNone\u001b[0m\u001b[0;34m:\u001b[0m\u001b[0;34m\u001b[0m\u001b[0;34m\u001b[0m\u001b[0m\n\u001b[0;32m-> 3889\u001b[0;31m                 \u001b[0mobj\u001b[0m \u001b[0;34m=\u001b[0m \u001b[0mobj\u001b[0m\u001b[0;34m.\u001b[0m\u001b[0m_drop_axis\u001b[0m\u001b[0;34m(\u001b[0m\u001b[0mlabels\u001b[0m\u001b[0;34m,\u001b[0m \u001b[0maxis\u001b[0m\u001b[0;34m,\u001b[0m \u001b[0mlevel\u001b[0m\u001b[0;34m=\u001b[0m\u001b[0mlevel\u001b[0m\u001b[0;34m,\u001b[0m \u001b[0merrors\u001b[0m\u001b[0;34m=\u001b[0m\u001b[0merrors\u001b[0m\u001b[0;34m)\u001b[0m\u001b[0;34m\u001b[0m\u001b[0;34m\u001b[0m\u001b[0m\n\u001b[0m\u001b[1;32m   3890\u001b[0m \u001b[0;34m\u001b[0m\u001b[0m\n\u001b[1;32m   3891\u001b[0m         \u001b[0;32mif\u001b[0m \u001b[0minplace\u001b[0m\u001b[0;34m:\u001b[0m\u001b[0;34m\u001b[0m\u001b[0;34m\u001b[0m\u001b[0m\n",
            "\u001b[0;32m/usr/local/lib/python3.7/dist-packages/pandas/core/generic.py\u001b[0m in \u001b[0;36m_drop_axis\u001b[0;34m(self, labels, axis, level, errors)\u001b[0m\n\u001b[1;32m   3921\u001b[0m                 \u001b[0mnew_axis\u001b[0m \u001b[0;34m=\u001b[0m \u001b[0maxis\u001b[0m\u001b[0;34m.\u001b[0m\u001b[0mdrop\u001b[0m\u001b[0;34m(\u001b[0m\u001b[0mlabels\u001b[0m\u001b[0;34m,\u001b[0m \u001b[0mlevel\u001b[0m\u001b[0;34m=\u001b[0m\u001b[0mlevel\u001b[0m\u001b[0;34m,\u001b[0m \u001b[0merrors\u001b[0m\u001b[0;34m=\u001b[0m\u001b[0merrors\u001b[0m\u001b[0;34m)\u001b[0m\u001b[0;34m\u001b[0m\u001b[0;34m\u001b[0m\u001b[0m\n\u001b[1;32m   3922\u001b[0m             \u001b[0;32melse\u001b[0m\u001b[0;34m:\u001b[0m\u001b[0;34m\u001b[0m\u001b[0;34m\u001b[0m\u001b[0m\n\u001b[0;32m-> 3923\u001b[0;31m                 \u001b[0mnew_axis\u001b[0m \u001b[0;34m=\u001b[0m \u001b[0maxis\u001b[0m\u001b[0;34m.\u001b[0m\u001b[0mdrop\u001b[0m\u001b[0;34m(\u001b[0m\u001b[0mlabels\u001b[0m\u001b[0;34m,\u001b[0m \u001b[0merrors\u001b[0m\u001b[0;34m=\u001b[0m\u001b[0merrors\u001b[0m\u001b[0;34m)\u001b[0m\u001b[0;34m\u001b[0m\u001b[0;34m\u001b[0m\u001b[0m\n\u001b[0m\u001b[1;32m   3924\u001b[0m             \u001b[0mresult\u001b[0m \u001b[0;34m=\u001b[0m \u001b[0mself\u001b[0m\u001b[0;34m.\u001b[0m\u001b[0mreindex\u001b[0m\u001b[0;34m(\u001b[0m\u001b[0;34m**\u001b[0m\u001b[0;34m{\u001b[0m\u001b[0maxis_name\u001b[0m\u001b[0;34m:\u001b[0m \u001b[0mnew_axis\u001b[0m\u001b[0;34m}\u001b[0m\u001b[0;34m)\u001b[0m\u001b[0;34m\u001b[0m\u001b[0;34m\u001b[0m\u001b[0m\n\u001b[1;32m   3925\u001b[0m \u001b[0;34m\u001b[0m\u001b[0m\n",
            "\u001b[0;32m/usr/local/lib/python3.7/dist-packages/pandas/core/indexes/base.py\u001b[0m in \u001b[0;36mdrop\u001b[0;34m(self, labels, errors)\u001b[0m\n\u001b[1;32m   5285\u001b[0m         \u001b[0;32mif\u001b[0m \u001b[0mmask\u001b[0m\u001b[0;34m.\u001b[0m\u001b[0many\u001b[0m\u001b[0;34m(\u001b[0m\u001b[0;34m)\u001b[0m\u001b[0;34m:\u001b[0m\u001b[0;34m\u001b[0m\u001b[0;34m\u001b[0m\u001b[0m\n\u001b[1;32m   5286\u001b[0m             \u001b[0;32mif\u001b[0m \u001b[0merrors\u001b[0m \u001b[0;34m!=\u001b[0m \u001b[0;34m\"ignore\"\u001b[0m\u001b[0;34m:\u001b[0m\u001b[0;34m\u001b[0m\u001b[0;34m\u001b[0m\u001b[0m\n\u001b[0;32m-> 5287\u001b[0;31m                 \u001b[0;32mraise\u001b[0m \u001b[0mKeyError\u001b[0m\u001b[0;34m(\u001b[0m\u001b[0;34mf\"{labels[mask]} not found in axis\"\u001b[0m\u001b[0;34m)\u001b[0m\u001b[0;34m\u001b[0m\u001b[0;34m\u001b[0m\u001b[0m\n\u001b[0m\u001b[1;32m   5288\u001b[0m             \u001b[0mindexer\u001b[0m \u001b[0;34m=\u001b[0m \u001b[0mindexer\u001b[0m\u001b[0;34m[\u001b[0m\u001b[0;34m~\u001b[0m\u001b[0mmask\u001b[0m\u001b[0;34m]\u001b[0m\u001b[0;34m\u001b[0m\u001b[0;34m\u001b[0m\u001b[0m\n\u001b[1;32m   5289\u001b[0m         \u001b[0;32mreturn\u001b[0m \u001b[0mself\u001b[0m\u001b[0;34m.\u001b[0m\u001b[0mdelete\u001b[0m\u001b[0;34m(\u001b[0m\u001b[0mindexer\u001b[0m\u001b[0;34m)\u001b[0m\u001b[0;34m\u001b[0m\u001b[0;34m\u001b[0m\u001b[0m\n",
            "\u001b[0;31mKeyError\u001b[0m: \"['Unnamed:0'] not found in axis\""
          ]
        }
      ]
    },
    {
      "cell_type": "code",
      "metadata": {
        "id": "e-xfBmk2w_Xr"
      },
      "source": [
        "df_sort = df.sort_values('probabilities',ascending = False)[0:3]"
      ],
      "execution_count": 29,
      "outputs": []
    },
    {
      "cell_type": "code",
      "metadata": {
        "id": "eXlTLtWnJNy4"
      },
      "source": [
        "df_sort=df_sort.reset_index(drop=True)"
      ],
      "execution_count": 126,
      "outputs": []
    },
    {
      "cell_type": "code",
      "metadata": {
        "colab": {
          "base_uri": "https://localhost:8080/"
        },
        "id": "9liURrtLJWTC",
        "outputId": "2e3bf44f-9c69-44bb-c0c6-697054df76cb"
      },
      "source": [
        "df_sort['probabilities'][0]"
      ],
      "execution_count": 128,
      "outputs": [
        {
          "output_type": "execute_result",
          "data": {
            "text/plain": [
              "0.7198548"
            ]
          },
          "metadata": {
            "tags": []
          },
          "execution_count": 128
        }
      ]
    },
    {
      "cell_type": "code",
      "metadata": {
        "colab": {
          "base_uri": "https://localhost:8080/",
          "height": 604
        },
        "id": "rC_ouIJHzw60",
        "outputId": "035246af-2b90-4083-9e70-b9ada9f73b58"
      },
      "source": [
        "X=df_sort['probabilities']\n",
        "Y=df_sort['labels']\n",
        "\n",
        "plt.figure(figsize=(12, 8))\n",
        "\n",
        "plt.bar(range(len(X)), X)\n",
        "plt.xticks(np.arange(len(X)), Y)\n",
        "plt.ylabel('probability')\n",
        "ax = X.plot(kind='bar')\n",
        "ax.set_xticklabels(Y)\n",
        "rects = ax.patches\n",
        "\n",
        "for rect, label in zip(rects, X):\n",
        "    height = rect.get_height()\n",
        "    ax.text(rect.get_x() + rect.get_width() / 10, height+0.01, label,\n",
        "            ha='left', va='bottom')\n",
        "    \n",
        "plt.show()"
      ],
      "execution_count": 129,
      "outputs": [
        {
          "output_type": "display_data",
          "data": {
            "image/png": "[encoded data removed]",
            "text/plain": [
              "<Figure size 864x576 with 1 Axes>"
            ]
          },
          "metadata": {
            "tags": [],
            "needs_background": "light"
          }
        }
      ]
    },
    {
      "cell_type": "markdown",
      "metadata": {
        "id": "aAY31WWibLqp"
      },
      "source": [
        "# Streamlit"
      ]
    },
    {
      "cell_type": "markdown",
      "metadata": {
        "id": "lrhLEPToXHvE"
      },
      "source": [
        "## Installing Ngrok for Streamlit"
      ]
    },
    {
      "cell_type": "code",
      "metadata": {
        "colab": {
          "resources": {
            "http://localhost:8080/nbextensions/google.colab/files.js": {
              "data": "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",
              "ok": true,
              "headers": [
                [
                  "content-type",
                  "application/javascript"
                ]
              ],
              "status": 200,
              "status_text": "OK"
            }
          },
          "base_uri": "https://localhost:8080/",
          "height": 75
        },
        "id": "6aUPZ-eCXYb3",
        "outputId": "5f77dfb9-c34b-4375-fc59-de65a70bcd5a"
      },
      "source": [
        "from google.colab import files\n",
        "uploaded = files.upload()"
      ],
      "execution_count": 32,
      "outputs": [
        {
          "output_type": "display_data",
          "data": {
            "text/html": [
              "\n",
              "     <input type=\"file\" id=\"files-9dafdec2-edc2-4332-b36a-4df3539ddcf3\" name=\"files[]\" multiple disabled\n",
              "        style=\"border:none\" />\n",
              "     <output id=\"result-9dafdec2-edc2-4332-b36a-4df3539ddcf3\">\n",
              "      Upload widget is only available when the cell has been executed in the\n",
              "      current browser session. Please rerun this cell to enable.\n",
              "      </output>\n",
              "      <script src=\"/nbextensions/google.colab/files.js\"></script> "
            ],
            "text/plain": [
              "<IPython.core.display.HTML object>"
            ]
          },
          "metadata": {
            "tags": []
          }
        },
        {
          "output_type": "stream",
          "text": [
            "Saving ngrok-stable-linux-amd64.zip to ngrok-stable-linux-amd64.zip\n"
          ],
          "name": "stdout"
        }
      ]
    },
    {
      "cell_type": "code",
      "metadata": {
        "colab": {
          "base_uri": "https://localhost:8080/"
        },
        "id": "nJlbFJxPXFjx",
        "outputId": "dcce199d-f982-40a6-e959-7aab78156587"
      },
      "source": [
        "!unzip /content/ngrok-stable-linux-amd64.zip"
      ],
      "execution_count": 33,
      "outputs": [
        {
          "output_type": "stream",
          "text": [
            "Archive:  /content/ngrok-stable-linux-amd64.zip\n",
            "  inflating: ngrok                   \n"
          ],
          "name": "stdout"
        }
      ]
    },
    {
      "cell_type": "code",
      "metadata": {
        "colab": {
          "base_uri": "https://localhost:8080/"
        },
        "id": "UEz8jsyPXFtK",
        "outputId": "be3c5721-3d3e-43f7-ac7e-60b9fefea48f"
      },
      "source": [
        "!ngrok authtoken 1s4dWx40WEPgxZOREhcu4JZc5JL_79bCSDk2c3hVJ38GTc2zz"
      ],
      "execution_count": 34,
      "outputs": [
        {
          "output_type": "stream",
          "text": [
            "Authtoken saved to configuration file: /root/.ngrok2/ngrok.yml\n"
          ],
          "name": "stdout"
        }
      ]
    },
    {
      "cell_type": "code",
      "metadata": {
        "colab": {
          "base_uri": "https://localhost:8080/"
        },
        "id": "Y_RPyKWAauOA",
        "outputId": "8fa8d98b-310d-444a-85fd-fecf1441a066"
      },
      "source": [
        "public_url = ngrok.connect(port = '80')"
      ],
      "execution_count": 35,
      "outputs": [
        {
          "output_type": "stream",
          "text": [
            "2021-05-08 11:33:24.829 INFO    pyngrok.ngrok: Opening tunnel named: http-80-eb95c759-33fb-4909-8653-951b19911528\n",
            "2021-05-08 11:33:24.901 INFO    pyngrok.process.ngrok: t=2021-05-08T11:33:24+0000 lvl=info msg=\"no configuration paths supplied\"\n",
            "2021-05-08 11:33:24.903 INFO    pyngrok.process.ngrok: t=2021-05-08T11:33:24+0000 lvl=info msg=\"using configuration at default config path\" path=/root/.ngrok2/ngrok.yml\n",
            "2021-05-08 11:33:24.908 INFO    pyngrok.process.ngrok: t=2021-05-08T11:33:24+0000 lvl=info msg=\"open config file\" path=/root/.ngrok2/ngrok.yml err=nil\n",
            "2021-05-08 11:33:24.914 INFO    pyngrok.process.ngrok: t=2021-05-08T11:33:24+0000 lvl=info msg=\"starting web service\" obj=web addr=127.0.0.1:4040\n",
            "2021-05-08 11:33:24.987 INFO    pyngrok.process.ngrok: t=2021-05-08T11:33:24+0000 lvl=info msg=\"tunnel session started\" obj=tunnels.session\n",
            "2021-05-08 11:33:24.991 INFO    pyngrok.process.ngrok: t=2021-05-08T11:33:24+0000 lvl=info msg=\"client session established\" obj=csess id=7d84cadcb0f1\n",
            "2021-05-08 11:33:24.999 INFO    pyngrok.process.ngrok: t=2021-05-08T11:33:24+0000 lvl=info msg=start pg=/api/tunnels id=bc4470259462f5ff\n",
            "2021-05-08 11:33:25.004 INFO    pyngrok.process.ngrok: t=2021-05-08T11:33:24+0000 lvl=info msg=end pg=/api/tunnels id=bc4470259462f5ff status=200 dur=304.178µs\n",
            "2021-05-08 11:33:25.007 INFO    pyngrok.process.ngrok: t=2021-05-08T11:33:24+0000 lvl=info msg=start pg=/api/tunnels id=9123f66a5e48b5d1\n",
            "2021-05-08 11:33:25.012 INFO    pyngrok.process.ngrok: t=2021-05-08T11:33:24+0000 lvl=info msg=end pg=/api/tunnels id=9123f66a5e48b5d1 status=200 dur=79.191µs\n",
            "2021-05-08 11:33:25.016 INFO    pyngrok.process.ngrok: t=2021-05-08T11:33:24+0000 lvl=info msg=start pg=/api/tunnels id=27b0216347e0d900\n",
            "2021-05-08 11:33:25.045 INFO    pyngrok.process.ngrok: t=2021-05-08T11:33:25+0000 lvl=info msg=\"started tunnel\" obj=tunnels name=\"http-80-eb95c759-33fb-4909-8653-951b19911528 (http)\" addr=http://localhost:80 url=http://2d1be9e21322.ngrok.io\n",
            "2021-05-08 11:33:25.047 INFO    pyngrok.process.ngrok: t=2021-05-08T11:33:25+0000 lvl=info msg=\"started tunnel\" obj=tunnels name=http-80-eb95c759-33fb-4909-8653-951b19911528 addr=http://localhost:80 url=https://2d1be9e21322.ngrok.io\n",
            "2021-05-08 11:33:25.050 INFO    pyngrok.process.ngrok: t=2021-05-08T11:33:25+0000 lvl=info msg=end pg=/api/tunnels id=27b0216347e0d900 status=201 dur=46.67622ms\n",
            "2021-05-08 11:33:25.052 INFO    pyngrok.process.ngrok: t=2021-05-08T11:33:25+0000 lvl=info msg=start pg=\"/api/tunnels/http-80-eb95c759-33fb-4909-8653-951b19911528 (http)\" id=eb0b7c8bacd010ae\n",
            "2021-05-08 11:33:25.057 INFO    pyngrok.process.ngrok: t=2021-05-08T11:33:25+0000 lvl=info msg=end pg=\"/api/tunnels/http-80-eb95c759-33fb-4909-8653-951b19911528 (http)\" id=eb0b7c8bacd010ae status=200 dur=117.041µs\n"
          ],
          "name": "stderr"
        }
      ]
    },
    {
      "cell_type": "code",
      "metadata": {
        "colab": {
          "base_uri": "https://localhost:8080/"
        },
        "id": "TyprQPI2bc_U",
        "outputId": "1f424c4f-161d-4239-80a0-e7810d07e38f"
      },
      "source": [
        "public_url"
      ],
      "execution_count": 36,
      "outputs": [
        {
          "output_type": "execute_result",
          "data": {
            "text/plain": [
              "<NgrokTunnel: \"http://2d1be9e21322.ngrok.io\" -> \"http://localhost:80\">"
            ]
          },
          "metadata": {
            "tags": []
          },
          "execution_count": 36
        }
      ]
    },
    {
      "cell_type": "code",
      "metadata": {
        "colab": {
          "base_uri": "https://localhost:8080/"
        },
        "id": "sZxVmmxyctd0",
        "outputId": "5ccbc9ab-10c8-4841-e3b5-63a2487cd4bb"
      },
      "source": [
        "%%writefile app.py\n",
        "\n",
        "import streamlit as st\n",
        "import altair as alt\n",
        "import pandas as pd\n",
        "import matplotlib.pyplot as plt\n",
        "#working with images\n",
        "from matplotlib import image\n",
        "from matplotlib import pyplot\n",
        "from skimage import io\n",
        "import cv2\n",
        "import os\n",
        "import skimage\n",
        "from skimage import data, io, filters, transform\n",
        "import numpy as np\n",
        "\n",
        "##load model\n",
        "from keras.models import load_model\n",
        "\n",
        "#import deep learning libraries\n",
        "from tensorflow.keras import optimizers\n",
        "from tensorflow.keras import losses\n",
        "from tensorflow.keras import metrics\n",
        "from tensorflow.keras.utils import to_categorical\n",
        "from tensorflow.keras import models\n",
        "from tensorflow.keras import layers\n",
        "from tensorflow.keras import Input\n",
        "import tensorflow as tf\n",
        "\n",
        "st.title('Mushrooms Classification')\n",
        "st.subheader('App to know what mushroom is your picture')\n",
        "\n",
        "st.markdown(\"Hello everybody and welcome to this interactive website on mushrooms classification.\")\n",
        "st.markdown(\"This work consists on classifying different types of mushrooms from images, using the famous convolutional neural networks (CNN) as a method.\")\n",
        "st.markdown(\"Put a mushroom and get the probability that it is a type of mushroom among the different species studied, and you will also get the 3 most likely mushrooms it is.\")\n",
        "st.markdown(\"Please, put a picture of your choice\")\n",
        "\n",
        "#load the model saved before.\n",
        "\n",
        "model = load_model('model_mushrooms_SGD.h5')\n",
        "\n",
        "## read the msuhrooms labels csv\n",
        "\n",
        "l2 = pd.read_csv('mushrooms_labels.csv',sep='|')\n",
        "l2 = l2['0'].to_list()\n",
        "try:\n",
        "  picture = st.file_uploader('picture',type='jpg')\n",
        "  st.image(picture)\n",
        "  image_rgb=io.imread(picture)/255.0\n",
        "  data_picture = cv2.resize(image_rgb, (28, 28))\n",
        "  pictures = np.array([data_picture])\n",
        "  pred_photos = model.predict_proba(pictures)\n",
        "  df = pd.DataFrame(pred_photos[0], columns = ['probabilities'])\n",
        "  df['labels']=l2\n",
        "  df_sort = df.sort_values('probabilities',ascending = False)[0:3]\n",
        "  #fig = plt.bar(df_sort['labels'],df_sort['probabilities'])\n",
        "  X=df_sort['probabilities']\n",
        "  Y=df_sort['labels'] \n",
        "\n",
        "  fig = plt.figure(figsize=(12, 8))\n",
        "\n",
        "  plt.bar(range(len(X)), X)\n",
        "  plt.xticks(np.arange(len(X)), Y)\n",
        "  plt.ylabel('probability')\n",
        "  ax = X.plot(kind='bar')\n",
        "  ax.set_xticklabels(Y)\n",
        "  rects = ax.patches\n",
        "\n",
        "  for rect, label in zip(rects, X):\n",
        "      height = rect.get_height()\n",
        "      ax.text(rect.get_x() + rect.get_width() / 10, height+0.01, label,\n",
        "              ha='left', va='bottom')\n",
        "\n",
        "  st.pyplot(fig)\n",
        "\n",
        "  Y[:-2][::]\n",
        "\n",
        "except:\n",
        "  pass\n",
        "\n"
      ],
      "execution_count": 161,
      "outputs": [
        {
          "output_type": "stream",
          "text": [
            "Overwriting app.py\n"
          ],
          "name": "stdout"
        }
      ]
    },
    {
      "cell_type": "code",
      "metadata": {
        "id": "tLdl548wvv6x"
      },
      "source": [
        ""
      ],
      "execution_count": null,
      "outputs": []
    },
    {
      "cell_type": "code",
      "metadata": {
        "id": "0fKkD_qTiTjo"
      },
      "source": [
        "!streamlit run --server.port 80 app.py&>/dev/null&"
      ],
      "execution_count": 38,
      "outputs": []
    },
    {
      "cell_type": "code",
      "metadata": {
        "id": "9w-CKcnmdSGm"
      },
      "source": [
        ""
      ],
      "execution_count": null,
      "outputs": []
    },
    {
      "cell_type": "code",
      "metadata": {
        "colab": {
          "resources": {
            "http://localhost:8080/nbextensions/google.colab/files.js": {
              "data": "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",
              "headers": [
                [
                  "content-type",
                  "application/javascript"
                ]
              ],
              "ok": true,
              "status": 200,
              "status_text": "OK"
            }
          },
          "base_uri": "https://localhost:8080/",
          "height": 75
        },
        "id": "lYAgXnLFSzLA",
        "outputId": "99ba5c66-a2d3-4173-f9e8-028d69a1665b"
      },
      "source": [
        "#### vamos a comprobar con una imagen aletaria que cojo de google.\n",
        "\n",
        "import numpy as np\n",
        "from google.colab import files\n",
        "\n",
        "uploaded=files.upload()\n",
        "\n"
      ],
      "execution_count": null,
      "outputs": [
        {
          "output_type": "display_data",
          "data": {
            "text/html": [
              "\n",
              "     <input type=\"file\" id=\"files-4d02bf3a-a19b-4882-9f27-46a04d8b5473\" name=\"files[]\" multiple disabled\n",
              "        style=\"border:none\" />\n",
              "     <output id=\"result-4d02bf3a-a19b-4882-9f27-46a04d8b5473\">\n",
              "      Upload widget is only available when the cell has been executed in the\n",
              "      current browser session. Please rerun this cell to enable.\n",
              "      </output>\n",
              "      <script src=\"/nbextensions/google.colab/files.js\"></script> "
            ],
            "text/plain": [
              "<IPython.core.display.HTML object>"
            ]
          },
          "metadata": {
            "tags": []
          }
        },
        {
          "output_type": "stream",
          "text": [
            "Saving Amanita_phalloides.jpg to Amanita_phalloides.jpg\n"
          ],
          "name": "stdout"
        }
      ]
    },
    {
      "cell_type": "code",
      "metadata": {
        "id": "Cuvaqm4CU4EB"
      },
      "source": [
        "#route ='/content/istockphoto-1015452220-612x612.jpg'\n",
        "#route1 = '/content/images.jpeg'\n",
        "#route2 = '/content/images.jpeg'\n",
        "#route3 = '/content/maxresdefault.jpg'\n",
        "route4 = '/content/Amanita_phalloides.jpg'\n",
        "#route5 = '/content/unnamed.jpg'\n",
        "#image_rgb=io.imread(route)/255.0\n",
        "#image_rgb1=io.imread(route1)/255.0\n",
        "#image_rgb2=io.imread(route2)/255.0\n",
        "#image_rgb3=io.imread(route3)/255.0\n",
        "image_rgb4=io.imread(route4)/255.0\n",
        "#image_rgb5=io.imread(route5)/255.0"
      ],
      "execution_count": null,
      "outputs": []
    },
    {
      "cell_type": "code",
      "metadata": {
        "id": "X4_FMEg6Wqll"
      },
      "source": [
        "#data_picture = cv2.resize(image_rgb, (28, 28))\n",
        "#data_picture1 = cv2.resize(image_rgb1, (28, 28))\n",
        "#data_picture2 = cv2.resize(image_rgb2, (28, 28))\n",
        "#data_picture3 = cv2.resize(image_rgb3, (28, 28))\n",
        "data_picture4 = cv2.resize(image_rgb4, (28, 28))\n",
        "#data_picture5 = cv2.resize(image_rgb5, (28, 28))"
      ],
      "execution_count": null,
      "outputs": []
    },
    {
      "cell_type": "markdown",
      "metadata": {
        "id": "CNeDum7uX7HC"
      },
      "source": [
        ""
      ]
    },
    {
      "cell_type": "code",
      "metadata": {
        "id": "dnNZcerKTpFl"
      },
      "source": [
        ""
      ],
      "execution_count": null,
      "outputs": []
    },
    {
      "cell_type": "code",
      "metadata": {
        "id": "sL3cvlulXQRn"
      },
      "source": [
        "pictures = np.array([data_picture4])"
      ],
      "execution_count": null,
      "outputs": []
    },
    {
      "cell_type": "code",
      "metadata": {
        "colab": {
          "base_uri": "https://localhost:8080/"
        },
        "id": "ILUJFQCgWPPo",
        "outputId": "16cd7a32-e5c5-4065-8ea6-f6bea0c5221c"
      },
      "source": [
        "# predecimos la clase\n",
        "\n",
        "pred_photos = model.predict_proba(pictures)"
      ],
      "execution_count": null,
      "outputs": [
        {
          "output_type": "stream",
          "text": [
            "/usr/local/lib/python3.7/dist-packages/tensorflow/python/keras/engine/sequential.py:425: UserWarning: `model.predict_proba()` is deprecated and will be removed after 2021-01-01. Please use `model.predict()` instead.\n",
            "  warnings.warn('`model.predict_proba()` is deprecated and '\n"
          ],
          "name": "stderr"
        }
      ]
    },
    {
      "cell_type": "code",
      "metadata": {
        "colab": {
          "base_uri": "https://localhost:8080/",
          "height": 571
        },
        "id": "ev68LPKpZzc2",
        "outputId": "03c4a824-8ccf-4c65-a5ff-6d62eac72a31"
      },
      "source": [
        "df = pd.DataFrame(pred_photos[0], columns = ['probabilities'])\n",
        "df['labels']=l2\n",
        "df_sort = df.sort_values('probabilities',ascending = False)[0:3]\n",
        "plt.bar(df_sort['labels'],df_sort['probabilities'])\n",
        "df_sort"
      ],
      "execution_count": null,
      "outputs": [
        {
          "output_type": "execute_result",
          "data": {
            "text/html": [
              "<div>\n",
              "<style scoped>\n",
              "    .dataframe tbody tr th:only-of-type {\n",
              "        vertical-align: middle;\n",
              "    }\n",
              "\n",
              "    .dataframe tbody tr th {\n",
              "        vertical-align: top;\n",
              "    }\n",
              "\n",
              "    .dataframe thead th {\n",
              "        text-align: right;\n",
              "    }\n",
              "</style>\n",
              "<table border=\"1\" class=\"dataframe\">\n",
              "  <thead>\n",
              "    <tr style=\"text-align: right;\">\n",
              "      <th></th>\n",
              "      <th>probabilities</th>\n",
              "      <th>labels</th>\n",
              "    </tr>\n",
              "  </thead>\n",
              "  <tbody>\n",
              "    <tr>\n",
              "      <th>19</th>\n",
              "      <td>0.999995</td>\n",
              "      <td>Clitocybe odora</td>\n",
              "    </tr>\n",
              "    <tr>\n",
              "      <th>36</th>\n",
              "      <td>0.000003</td>\n",
              "      <td>Russula chloroides</td>\n",
              "    </tr>\n",
              "    <tr>\n",
              "      <th>9</th>\n",
              "      <td>0.000001</td>\n",
              "      <td>Amanita phalloides</td>\n",
              "    </tr>\n",
              "  </tbody>\n",
              "</table>\n",
              "</div>"
            ],
            "text/plain": [
              "    probabilities              labels\n",
              "19       0.999995     Clitocybe odora\n",
              "36       0.000003  Russula chloroides\n",
              "9        0.000001  Amanita phalloides"
            ]
          },
          "metadata": {
            "tags": []
          },
          "execution_count": 94
        },
        {
          "output_type": "display_data",
          "data": {
            "image/png": "[encoded data removed]",
            "text/plain": [
              "<Figure size 748.8x514.8 with 1 Axes>"
            ]
          },
          "metadata": {
            "tags": []
          }
        }
      ]
    },
    {
      "cell_type": "markdown",
      "metadata": {
        "id": "PvPA6ilIlnDa"
      },
      "source": [
        "### Evaluating the test data"
      ]
    },
    {
      "cell_type": "code",
      "metadata": {
        "id": "EptHuyVEhi0k"
      },
      "source": [
        "target_names"
      ],
      "execution_count": null,
      "outputs": []
    },
    {
      "cell_type": "code",
      "metadata": {
        "id": "5sBW92Ed8vzW"
      },
      "source": [
        "predictions"
      ],
      "execution_count": null,
      "outputs": []
    },
    {
      "cell_type": "code",
      "metadata": {
        "id": "D4Yi-3jyfCKj"
      },
      "source": [
        "from sklearn.metrics import confusion_matrix\n",
        "\n",
        "\n",
        "cm=confusion_matrix(test_labels, predictions, labels=target_names)"
      ],
      "execution_count": null,
      "outputs": []
    },
    {
      "cell_type": "code",
      "metadata": {
        "id": "7Zd6J5j6inqc"
      },
      "source": [
        "sns.heatmap(cm,annot=True,cmap=\"YlGnBu\")"
      ],
      "execution_count": null,
      "outputs": []
    },
    {
      "cell_type": "code",
      "metadata": {
        "id": "USJFpBGEp7LJ"
      },
      "source": [
        ""
      ],
      "execution_count": null,
      "outputs": []
    }
  ]
}