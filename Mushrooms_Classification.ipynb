{
  "nbformat": 4,
  "nbformat_minor": 0,
  "metadata": {
    "colab": {
      "name": "Mushrooms_Classification.ipynb",
      "provenance": [],
      "authorship_tag": "ABX9TyMtxZIg9hSIh6OcCwu+PhVU",
      "include_colab_link": true
    },
    "kernelspec": {
      "name": "python3",
      "display_name": "Python 3"
    },
    "widgets": {
      "application/vnd.jupyter.widget-state+json": {
        "6fad601342354308931b07bad3613066": {
          "model_module": "@jupyter-widgets/controls",
          "model_name": "HBoxModel",
          "state": {
            "_view_name": "HBoxView",
            "_dom_classes": [],
            "_model_name": "HBoxModel",
            "_view_module": "@jupyter-widgets/controls",
            "_model_module_version": "1.5.0",
            "_view_count": null,
            "_view_module_version": "1.5.0",
            "box_style": "",
            "layout": "IPY_MODEL_47fd481d97fd4100a82ae30492d71b2b",
            "_model_module": "@jupyter-widgets/controls",
            "children": [
              "IPY_MODEL_9c8dad86f70540ada381ac403fbf01c8",
              "IPY_MODEL_8ea2d007fbbb4f3e80fa90ad7b75beb0"
            ]
          }
        },
        "47fd481d97fd4100a82ae30492d71b2b": {
          "model_module": "@jupyter-widgets/base",
          "model_name": "LayoutModel",
          "state": {
            "_view_name": "LayoutView",
            "grid_template_rows": null,
            "right": null,
            "justify_content": null,
            "_view_module": "@jupyter-widgets/base",
            "overflow": null,
            "_model_module_version": "1.2.0",
            "_view_count": null,
            "flex_flow": null,
            "width": null,
            "min_width": null,
            "border": null,
            "align_items": null,
            "bottom": null,
            "_model_module": "@jupyter-widgets/base",
            "top": null,
            "grid_column": null,
            "overflow_y": null,
            "overflow_x": null,
            "grid_auto_flow": null,
            "grid_area": null,
            "grid_template_columns": null,
            "flex": null,
            "_model_name": "LayoutModel",
            "justify_items": null,
            "grid_row": null,
            "max_height": null,
            "align_content": null,
            "visibility": null,
            "align_self": null,
            "height": null,
            "min_height": null,
            "padding": null,
            "grid_auto_rows": null,
            "grid_gap": null,
            "max_width": null,
            "order": null,
            "_view_module_version": "1.2.0",
            "grid_template_areas": null,
            "object_position": null,
            "object_fit": null,
            "grid_auto_columns": null,
            "margin": null,
            "display": null,
            "left": null
          }
        },
        "9c8dad86f70540ada381ac403fbf01c8": {
          "model_module": "@jupyter-widgets/controls",
          "model_name": "FloatProgressModel",
          "state": {
            "_view_name": "ProgressView",
            "style": "IPY_MODEL_5a78a8cb2e10499db8d546f40dd69128",
            "_dom_classes": [],
            "description": "100%",
            "_model_name": "FloatProgressModel",
            "bar_style": "success",
            "max": 10,
            "_view_module": "@jupyter-widgets/controls",
            "_model_module_version": "1.5.0",
            "value": 10,
            "_view_count": null,
            "_view_module_version": "1.5.0",
            "orientation": "horizontal",
            "min": 0,
            "description_tooltip": null,
            "_model_module": "@jupyter-widgets/controls",
            "layout": "IPY_MODEL_c74281bd38704fa09f8f3c1991782418"
          }
        },
        "8ea2d007fbbb4f3e80fa90ad7b75beb0": {
          "model_module": "@jupyter-widgets/controls",
          "model_name": "HTMLModel",
          "state": {
            "_view_name": "HTMLView",
            "style": "IPY_MODEL_ff0471ecba7049b7a6186a9215a52454",
            "_dom_classes": [],
            "description": "",
            "_model_name": "HTMLModel",
            "placeholder": "​",
            "_view_module": "@jupyter-widgets/controls",
            "_model_module_version": "1.5.0",
            "value": " 10/10 [02:32&lt;00:00, 15.25s/it]",
            "_view_count": null,
            "_view_module_version": "1.5.0",
            "description_tooltip": null,
            "_model_module": "@jupyter-widgets/controls",
            "layout": "IPY_MODEL_ee54417d3c404e66a22474cbdb52295e"
          }
        },
        "5a78a8cb2e10499db8d546f40dd69128": {
          "model_module": "@jupyter-widgets/controls",
          "model_name": "ProgressStyleModel",
          "state": {
            "_view_name": "StyleView",
            "_model_name": "ProgressStyleModel",
            "description_width": "initial",
            "_view_module": "@jupyter-widgets/base",
            "_model_module_version": "1.5.0",
            "_view_count": null,
            "_view_module_version": "1.2.0",
            "bar_color": null,
            "_model_module": "@jupyter-widgets/controls"
          }
        },
        "c74281bd38704fa09f8f3c1991782418": {
          "model_module": "@jupyter-widgets/base",
          "model_name": "LayoutModel",
          "state": {
            "_view_name": "LayoutView",
            "grid_template_rows": null,
            "right": null,
            "justify_content": null,
            "_view_module": "@jupyter-widgets/base",
            "overflow": null,
            "_model_module_version": "1.2.0",
            "_view_count": null,
            "flex_flow": null,
            "width": null,
            "min_width": null,
            "border": null,
            "align_items": null,
            "bottom": null,
            "_model_module": "@jupyter-widgets/base",
            "top": null,
            "grid_column": null,
            "overflow_y": null,
            "overflow_x": null,
            "grid_auto_flow": null,
            "grid_area": null,
            "grid_template_columns": null,
            "flex": null,
            "_model_name": "LayoutModel",
            "justify_items": null,
            "grid_row": null,
            "max_height": null,
            "align_content": null,
            "visibility": null,
            "align_self": null,
            "height": null,
            "min_height": null,
            "padding": null,
            "grid_auto_rows": null,
            "grid_gap": null,
            "max_width": null,
            "order": null,
            "_view_module_version": "1.2.0",
            "grid_template_areas": null,
            "object_position": null,
            "object_fit": null,
            "grid_auto_columns": null,
            "margin": null,
            "display": null,
            "left": null
          }
        },
        "ff0471ecba7049b7a6186a9215a52454": {
          "model_module": "@jupyter-widgets/controls",
          "model_name": "DescriptionStyleModel",
          "state": {
            "_view_name": "StyleView",
            "_model_name": "DescriptionStyleModel",
            "description_width": "",
            "_view_module": "@jupyter-widgets/base",
            "_model_module_version": "1.5.0",
            "_view_count": null,
            "_view_module_version": "1.2.0",
            "_model_module": "@jupyter-widgets/controls"
          }
        },
        "ee54417d3c404e66a22474cbdb52295e": {
          "model_module": "@jupyter-widgets/base",
          "model_name": "LayoutModel",
          "state": {
            "_view_name": "LayoutView",
            "grid_template_rows": null,
            "right": null,
            "justify_content": null,
            "_view_module": "@jupyter-widgets/base",
            "overflow": null,
            "_model_module_version": "1.2.0",
            "_view_count": null,
            "flex_flow": null,
            "width": null,
            "min_width": null,
            "border": null,
            "align_items": null,
            "bottom": null,
            "_model_module": "@jupyter-widgets/base",
            "top": null,
            "grid_column": null,
            "overflow_y": null,
            "overflow_x": null,
            "grid_auto_flow": null,
            "grid_area": null,
            "grid_template_columns": null,
            "flex": null,
            "_model_name": "LayoutModel",
            "justify_items": null,
            "grid_row": null,
            "max_height": null,
            "align_content": null,
            "visibility": null,
            "align_self": null,
            "height": null,
            "min_height": null,
            "padding": null,
            "grid_auto_rows": null,
            "grid_gap": null,
            "max_width": null,
            "order": null,
            "_view_module_version": "1.2.0",
            "grid_template_areas": null,
            "object_position": null,
            "object_fit": null,
            "grid_auto_columns": null,
            "margin": null,
            "display": null,
            "left": null
          }
        },
        "40b4f0edaf9b416db03d665af798afc8": {
          "model_module": "@jupyter-widgets/controls",
          "model_name": "HBoxModel",
          "state": {
            "_view_name": "HBoxView",
            "_dom_classes": [],
            "_model_name": "HBoxModel",
            "_view_module": "@jupyter-widgets/controls",
            "_model_module_version": "1.5.0",
            "_view_count": null,
            "_view_module_version": "1.5.0",
            "box_style": "",
            "layout": "IPY_MODEL_5b7f275d40d34b1cbbc990637e23a2ba",
            "_model_module": "@jupyter-widgets/controls",
            "children": [
              "IPY_MODEL_fe1449db652248ad845d26d8d9c59092",
              "IPY_MODEL_56e98f64b76b41fcbe8ff2e229624215"
            ]
          }
        },
        "5b7f275d40d34b1cbbc990637e23a2ba": {
          "model_module": "@jupyter-widgets/base",
          "model_name": "LayoutModel",
          "state": {
            "_view_name": "LayoutView",
            "grid_template_rows": null,
            "right": null,
            "justify_content": null,
            "_view_module": "@jupyter-widgets/base",
            "overflow": null,
            "_model_module_version": "1.2.0",
            "_view_count": null,
            "flex_flow": null,
            "width": null,
            "min_width": null,
            "border": null,
            "align_items": null,
            "bottom": null,
            "_model_module": "@jupyter-widgets/base",
            "top": null,
            "grid_column": null,
            "overflow_y": null,
            "overflow_x": null,
            "grid_auto_flow": null,
            "grid_area": null,
            "grid_template_columns": null,
            "flex": null,
            "_model_name": "LayoutModel",
            "justify_items": null,
            "grid_row": null,
            "max_height": null,
            "align_content": null,
            "visibility": null,
            "align_self": null,
            "height": null,
            "min_height": null,
            "padding": null,
            "grid_auto_rows": null,
            "grid_gap": null,
            "max_width": null,
            "order": null,
            "_view_module_version": "1.2.0",
            "grid_template_areas": null,
            "object_position": null,
            "object_fit": null,
            "grid_auto_columns": null,
            "margin": null,
            "display": null,
            "left": null
          }
        },
        "fe1449db652248ad845d26d8d9c59092": {
          "model_module": "@jupyter-widgets/controls",
          "model_name": "FloatProgressModel",
          "state": {
            "_view_name": "ProgressView",
            "style": "IPY_MODEL_6754d65cb2d64445afb4e26ffcd66049",
            "_dom_classes": [],
            "description": "100%",
            "_model_name": "FloatProgressModel",
            "bar_style": "success",
            "max": 10,
            "_view_module": "@jupyter-widgets/controls",
            "_model_module_version": "1.5.0",
            "value": 10,
            "_view_count": null,
            "_view_module_version": "1.5.0",
            "orientation": "horizontal",
            "min": 0,
            "description_tooltip": null,
            "_model_module": "@jupyter-widgets/controls",
            "layout": "IPY_MODEL_3033ab4ee27f48018eb09c16061b1442"
          }
        },
        "56e98f64b76b41fcbe8ff2e229624215": {
          "model_module": "@jupyter-widgets/controls",
          "model_name": "HTMLModel",
          "state": {
            "_view_name": "HTMLView",
            "style": "IPY_MODEL_69b303e88e5d4b4baa91802d169d2c0c",
            "_dom_classes": [],
            "description": "",
            "_model_name": "HTMLModel",
            "placeholder": "​",
            "_view_module": "@jupyter-widgets/controls",
            "_model_module_version": "1.5.0",
            "value": " 10/10 [00:00&lt;00:00, 143.38it/s]",
            "_view_count": null,
            "_view_module_version": "1.5.0",
            "description_tooltip": null,
            "_model_module": "@jupyter-widgets/controls",
            "layout": "IPY_MODEL_4a6857fd86194a89aa29967d5097c995"
          }
        },
        "6754d65cb2d64445afb4e26ffcd66049": {
          "model_module": "@jupyter-widgets/controls",
          "model_name": "ProgressStyleModel",
          "state": {
            "_view_name": "StyleView",
            "_model_name": "ProgressStyleModel",
            "description_width": "initial",
            "_view_module": "@jupyter-widgets/base",
            "_model_module_version": "1.5.0",
            "_view_count": null,
            "_view_module_version": "1.2.0",
            "bar_color": null,
            "_model_module": "@jupyter-widgets/controls"
          }
        },
        "3033ab4ee27f48018eb09c16061b1442": {
          "model_module": "@jupyter-widgets/base",
          "model_name": "LayoutModel",
          "state": {
            "_view_name": "LayoutView",
            "grid_template_rows": null,
            "right": null,
            "justify_content": null,
            "_view_module": "@jupyter-widgets/base",
            "overflow": null,
            "_model_module_version": "1.2.0",
            "_view_count": null,
            "flex_flow": null,
            "width": null,
            "min_width": null,
            "border": null,
            "align_items": null,
            "bottom": null,
            "_model_module": "@jupyter-widgets/base",
            "top": null,
            "grid_column": null,
            "overflow_y": null,
            "overflow_x": null,
            "grid_auto_flow": null,
            "grid_area": null,
            "grid_template_columns": null,
            "flex": null,
            "_model_name": "LayoutModel",
            "justify_items": null,
            "grid_row": null,
            "max_height": null,
            "align_content": null,
            "visibility": null,
            "align_self": null,
            "height": null,
            "min_height": null,
            "padding": null,
            "grid_auto_rows": null,
            "grid_gap": null,
            "max_width": null,
            "order": null,
            "_view_module_version": "1.2.0",
            "grid_template_areas": null,
            "object_position": null,
            "object_fit": null,
            "grid_auto_columns": null,
            "margin": null,
            "display": null,
            "left": null
          }
        },
        "69b303e88e5d4b4baa91802d169d2c0c": {
          "model_module": "@jupyter-widgets/controls",
          "model_name": "DescriptionStyleModel",
          "state": {
            "_view_name": "StyleView",
            "_model_name": "DescriptionStyleModel",
            "description_width": "",
            "_view_module": "@jupyter-widgets/base",
            "_model_module_version": "1.5.0",
            "_view_count": null,
            "_view_module_version": "1.2.0",
            "_model_module": "@jupyter-widgets/controls"
          }
        },
        "4a6857fd86194a89aa29967d5097c995": {
          "model_module": "@jupyter-widgets/base",
          "model_name": "LayoutModel",
          "state": {
            "_view_name": "LayoutView",
            "grid_template_rows": null,
            "right": null,
            "justify_content": null,
            "_view_module": "@jupyter-widgets/base",
            "overflow": null,
            "_model_module_version": "1.2.0",
            "_view_count": null,
            "flex_flow": null,
            "width": null,
            "min_width": null,
            "border": null,
            "align_items": null,
            "bottom": null,
            "_model_module": "@jupyter-widgets/base",
            "top": null,
            "grid_column": null,
            "overflow_y": null,
            "overflow_x": null,
            "grid_auto_flow": null,
            "grid_area": null,
            "grid_template_columns": null,
            "flex": null,
            "_model_name": "LayoutModel",
            "justify_items": null,
            "grid_row": null,
            "max_height": null,
            "align_content": null,
            "visibility": null,
            "align_self": null,
            "height": null,
            "min_height": null,
            "padding": null,
            "grid_auto_rows": null,
            "grid_gap": null,
            "max_width": null,
            "order": null,
            "_view_module_version": "1.2.0",
            "grid_template_areas": null,
            "object_position": null,
            "object_fit": null,
            "grid_auto_columns": null,
            "margin": null,
            "display": null,
            "left": null
          }
        },
        "6762d6de889c4e38a4473f809f8c8caf": {
          "model_module": "@jupyter-widgets/controls",
          "model_name": "HBoxModel",
          "state": {
            "_view_name": "HBoxView",
            "_dom_classes": [],
            "_model_name": "HBoxModel",
            "_view_module": "@jupyter-widgets/controls",
            "_model_module_version": "1.5.0",
            "_view_count": null,
            "_view_module_version": "1.5.0",
            "box_style": "",
            "layout": "IPY_MODEL_153ca4fbb474405ea54d87e3064a6720",
            "_model_module": "@jupyter-widgets/controls",
            "children": [
              "IPY_MODEL_cd97256579cd45498a9ec88890d94d0a",
              "IPY_MODEL_47cedaf002244b1599d6a8c444f121c8"
            ]
          }
        },
        "153ca4fbb474405ea54d87e3064a6720": {
          "model_module": "@jupyter-widgets/base",
          "model_name": "LayoutModel",
          "state": {
            "_view_name": "LayoutView",
            "grid_template_rows": null,
            "right": null,
            "justify_content": null,
            "_view_module": "@jupyter-widgets/base",
            "overflow": null,
            "_model_module_version": "1.2.0",
            "_view_count": null,
            "flex_flow": null,
            "width": null,
            "min_width": null,
            "border": null,
            "align_items": null,
            "bottom": null,
            "_model_module": "@jupyter-widgets/base",
            "top": null,
            "grid_column": null,
            "overflow_y": null,
            "overflow_x": null,
            "grid_auto_flow": null,
            "grid_area": null,
            "grid_template_columns": null,
            "flex": null,
            "_model_name": "LayoutModel",
            "justify_items": null,
            "grid_row": null,
            "max_height": null,
            "align_content": null,
            "visibility": null,
            "align_self": null,
            "height": null,
            "min_height": null,
            "padding": null,
            "grid_auto_rows": null,
            "grid_gap": null,
            "max_width": null,
            "order": null,
            "_view_module_version": "1.2.0",
            "grid_template_areas": null,
            "object_position": null,
            "object_fit": null,
            "grid_auto_columns": null,
            "margin": null,
            "display": null,
            "left": null
          }
        },
        "cd97256579cd45498a9ec88890d94d0a": {
          "model_module": "@jupyter-widgets/controls",
          "model_name": "FloatProgressModel",
          "state": {
            "_view_name": "ProgressView",
            "style": "IPY_MODEL_8df59f6f9140472bb0e38a0dfb2c6154",
            "_dom_classes": [],
            "description": "100%",
            "_model_name": "FloatProgressModel",
            "bar_style": "success",
            "max": 10,
            "_view_module": "@jupyter-widgets/controls",
            "_model_module_version": "1.5.0",
            "value": 10,
            "_view_count": null,
            "_view_module_version": "1.5.0",
            "orientation": "horizontal",
            "min": 0,
            "description_tooltip": null,
            "_model_module": "@jupyter-widgets/controls",
            "layout": "IPY_MODEL_eabd92fbee6845328a8a77c6185f1fc4"
          }
        },
        "47cedaf002244b1599d6a8c444f121c8": {
          "model_module": "@jupyter-widgets/controls",
          "model_name": "HTMLModel",
          "state": {
            "_view_name": "HTMLView",
            "style": "IPY_MODEL_f94c9f3f44bc46efb250ee9cb05ef96e",
            "_dom_classes": [],
            "description": "",
            "_model_name": "HTMLModel",
            "placeholder": "​",
            "_view_module": "@jupyter-widgets/controls",
            "_model_module_version": "1.5.0",
            "value": " 10/10 [00:13&lt;00:00,  1.40s/it]",
            "_view_count": null,
            "_view_module_version": "1.5.0",
            "description_tooltip": null,
            "_model_module": "@jupyter-widgets/controls",
            "layout": "IPY_MODEL_c2fd03781bd7411dae4081d0ff2a751c"
          }
        },
        "8df59f6f9140472bb0e38a0dfb2c6154": {
          "model_module": "@jupyter-widgets/controls",
          "model_name": "ProgressStyleModel",
          "state": {
            "_view_name": "StyleView",
            "_model_name": "ProgressStyleModel",
            "description_width": "initial",
            "_view_module": "@jupyter-widgets/base",
            "_model_module_version": "1.5.0",
            "_view_count": null,
            "_view_module_version": "1.2.0",
            "bar_color": null,
            "_model_module": "@jupyter-widgets/controls"
          }
        },
        "eabd92fbee6845328a8a77c6185f1fc4": {
          "model_module": "@jupyter-widgets/base",
          "model_name": "LayoutModel",
          "state": {
            "_view_name": "LayoutView",
            "grid_template_rows": null,
            "right": null,
            "justify_content": null,
            "_view_module": "@jupyter-widgets/base",
            "overflow": null,
            "_model_module_version": "1.2.0",
            "_view_count": null,
            "flex_flow": null,
            "width": null,
            "min_width": null,
            "border": null,
            "align_items": null,
            "bottom": null,
            "_model_module": "@jupyter-widgets/base",
            "top": null,
            "grid_column": null,
            "overflow_y": null,
            "overflow_x": null,
            "grid_auto_flow": null,
            "grid_area": null,
            "grid_template_columns": null,
            "flex": null,
            "_model_name": "LayoutModel",
            "justify_items": null,
            "grid_row": null,
            "max_height": null,
            "align_content": null,
            "visibility": null,
            "align_self": null,
            "height": null,
            "min_height": null,
            "padding": null,
            "grid_auto_rows": null,
            "grid_gap": null,
            "max_width": null,
            "order": null,
            "_view_module_version": "1.2.0",
            "grid_template_areas": null,
            "object_position": null,
            "object_fit": null,
            "grid_auto_columns": null,
            "margin": null,
            "display": null,
            "left": null
          }
        },
        "f94c9f3f44bc46efb250ee9cb05ef96e": {
          "model_module": "@jupyter-widgets/controls",
          "model_name": "DescriptionStyleModel",
          "state": {
            "_view_name": "StyleView",
            "_model_name": "DescriptionStyleModel",
            "description_width": "",
            "_view_module": "@jupyter-widgets/base",
            "_model_module_version": "1.5.0",
            "_view_count": null,
            "_view_module_version": "1.2.0",
            "_model_module": "@jupyter-widgets/controls"
          }
        },
        "c2fd03781bd7411dae4081d0ff2a751c": {
          "model_module": "@jupyter-widgets/base",
          "model_name": "LayoutModel",
          "state": {
            "_view_name": "LayoutView",
            "grid_template_rows": null,
            "right": null,
            "justify_content": null,
            "_view_module": "@jupyter-widgets/base",
            "overflow": null,
            "_model_module_version": "1.2.0",
            "_view_count": null,
            "flex_flow": null,
            "width": null,
            "min_width": null,
            "border": null,
            "align_items": null,
            "bottom": null,
            "_model_module": "@jupyter-widgets/base",
            "top": null,
            "grid_column": null,
            "overflow_y": null,
            "overflow_x": null,
            "grid_auto_flow": null,
            "grid_area": null,
            "grid_template_columns": null,
            "flex": null,
            "_model_name": "LayoutModel",
            "justify_items": null,
            "grid_row": null,
            "max_height": null,
            "align_content": null,
            "visibility": null,
            "align_self": null,
            "height": null,
            "min_height": null,
            "padding": null,
            "grid_auto_rows": null,
            "grid_gap": null,
            "max_width": null,
            "order": null,
            "_view_module_version": "1.2.0",
            "grid_template_areas": null,
            "object_position": null,
            "object_fit": null,
            "grid_auto_columns": null,
            "margin": null,
            "display": null,
            "left": null
          }
        },
        "0ce71ffc517d46feaded6e4482b42502": {
          "model_module": "@jupyter-widgets/controls",
          "model_name": "HBoxModel",
          "state": {
            "_view_name": "HBoxView",
            "_dom_classes": [],
            "_model_name": "HBoxModel",
            "_view_module": "@jupyter-widgets/controls",
            "_model_module_version": "1.5.0",
            "_view_count": null,
            "_view_module_version": "1.5.0",
            "box_style": "",
            "layout": "IPY_MODEL_8cd60032c81443c69d61a350cae62b09",
            "_model_module": "@jupyter-widgets/controls",
            "children": [
              "IPY_MODEL_f25f24b619c240e7b1f9596867a9cc71",
              "IPY_MODEL_5063e891d7b243c88e743341d4a06c61"
            ]
          }
        },
        "8cd60032c81443c69d61a350cae62b09": {
          "model_module": "@jupyter-widgets/base",
          "model_name": "LayoutModel",
          "state": {
            "_view_name": "LayoutView",
            "grid_template_rows": null,
            "right": null,
            "justify_content": null,
            "_view_module": "@jupyter-widgets/base",
            "overflow": null,
            "_model_module_version": "1.2.0",
            "_view_count": null,
            "flex_flow": null,
            "width": null,
            "min_width": null,
            "border": null,
            "align_items": null,
            "bottom": null,
            "_model_module": "@jupyter-widgets/base",
            "top": null,
            "grid_column": null,
            "overflow_y": null,
            "overflow_x": null,
            "grid_auto_flow": null,
            "grid_area": null,
            "grid_template_columns": null,
            "flex": null,
            "_model_name": "LayoutModel",
            "justify_items": null,
            "grid_row": null,
            "max_height": null,
            "align_content": null,
            "visibility": null,
            "align_self": null,
            "height": null,
            "min_height": null,
            "padding": null,
            "grid_auto_rows": null,
            "grid_gap": null,
            "max_width": null,
            "order": null,
            "_view_module_version": "1.2.0",
            "grid_template_areas": null,
            "object_position": null,
            "object_fit": null,
            "grid_auto_columns": null,
            "margin": null,
            "display": null,
            "left": null
          }
        },
        "f25f24b619c240e7b1f9596867a9cc71": {
          "model_module": "@jupyter-widgets/controls",
          "model_name": "FloatProgressModel",
          "state": {
            "_view_name": "ProgressView",
            "style": "IPY_MODEL_b06d05a8b0584c80b12b3cfb6beb61a1",
            "_dom_classes": [],
            "description": "100%",
            "_model_name": "FloatProgressModel",
            "bar_style": "success",
            "max": 10,
            "_view_module": "@jupyter-widgets/controls",
            "_model_module_version": "1.5.0",
            "value": 10,
            "_view_count": null,
            "_view_module_version": "1.5.0",
            "orientation": "horizontal",
            "min": 0,
            "description_tooltip": null,
            "_model_module": "@jupyter-widgets/controls",
            "layout": "IPY_MODEL_06bb4bcb38dd4ad6a89178fdb4f3da59"
          }
        },
        "5063e891d7b243c88e743341d4a06c61": {
          "model_module": "@jupyter-widgets/controls",
          "model_name": "HTMLModel",
          "state": {
            "_view_name": "HTMLView",
            "style": "IPY_MODEL_caeb9dfc3b374a6e87bdc231ad6a8057",
            "_dom_classes": [],
            "description": "",
            "_model_name": "HTMLModel",
            "placeholder": "​",
            "_view_module": "@jupyter-widgets/controls",
            "_model_module_version": "1.5.0",
            "value": " 10/10 [00:00&lt;00:00, 17.02it/s]",
            "_view_count": null,
            "_view_module_version": "1.5.0",
            "description_tooltip": null,
            "_model_module": "@jupyter-widgets/controls",
            "layout": "IPY_MODEL_5e52c2ccce6a4ffba972afa913e6ce0b"
          }
        },
        "b06d05a8b0584c80b12b3cfb6beb61a1": {
          "model_module": "@jupyter-widgets/controls",
          "model_name": "ProgressStyleModel",
          "state": {
            "_view_name": "StyleView",
            "_model_name": "ProgressStyleModel",
            "description_width": "initial",
            "_view_module": "@jupyter-widgets/base",
            "_model_module_version": "1.5.0",
            "_view_count": null,
            "_view_module_version": "1.2.0",
            "bar_color": null,
            "_model_module": "@jupyter-widgets/controls"
          }
        },
        "06bb4bcb38dd4ad6a89178fdb4f3da59": {
          "model_module": "@jupyter-widgets/base",
          "model_name": "LayoutModel",
          "state": {
            "_view_name": "LayoutView",
            "grid_template_rows": null,
            "right": null,
            "justify_content": null,
            "_view_module": "@jupyter-widgets/base",
            "overflow": null,
            "_model_module_version": "1.2.0",
            "_view_count": null,
            "flex_flow": null,
            "width": null,
            "min_width": null,
            "border": null,
            "align_items": null,
            "bottom": null,
            "_model_module": "@jupyter-widgets/base",
            "top": null,
            "grid_column": null,
            "overflow_y": null,
            "overflow_x": null,
            "grid_auto_flow": null,
            "grid_area": null,
            "grid_template_columns": null,
            "flex": null,
            "_model_name": "LayoutModel",
            "justify_items": null,
            "grid_row": null,
            "max_height": null,
            "align_content": null,
            "visibility": null,
            "align_self": null,
            "height": null,
            "min_height": null,
            "padding": null,
            "grid_auto_rows": null,
            "grid_gap": null,
            "max_width": null,
            "order": null,
            "_view_module_version": "1.2.0",
            "grid_template_areas": null,
            "object_position": null,
            "object_fit": null,
            "grid_auto_columns": null,
            "margin": null,
            "display": null,
            "left": null
          }
        },
        "caeb9dfc3b374a6e87bdc231ad6a8057": {
          "model_module": "@jupyter-widgets/controls",
          "model_name": "DescriptionStyleModel",
          "state": {
            "_view_name": "StyleView",
            "_model_name": "DescriptionStyleModel",
            "description_width": "",
            "_view_module": "@jupyter-widgets/base",
            "_model_module_version": "1.5.0",
            "_view_count": null,
            "_view_module_version": "1.2.0",
            "_model_module": "@jupyter-widgets/controls"
          }
        },
        "5e52c2ccce6a4ffba972afa913e6ce0b": {
          "model_module": "@jupyter-widgets/base",
          "model_name": "LayoutModel",
          "state": {
            "_view_name": "LayoutView",
            "grid_template_rows": null,
            "right": null,
            "justify_content": null,
            "_view_module": "@jupyter-widgets/base",
            "overflow": null,
            "_model_module_version": "1.2.0",
            "_view_count": null,
            "flex_flow": null,
            "width": null,
            "min_width": null,
            "border": null,
            "align_items": null,
            "bottom": null,
            "_model_module": "@jupyter-widgets/base",
            "top": null,
            "grid_column": null,
            "overflow_y": null,
            "overflow_x": null,
            "grid_auto_flow": null,
            "grid_area": null,
            "grid_template_columns": null,
            "flex": null,
            "_model_name": "LayoutModel",
            "justify_items": null,
            "grid_row": null,
            "max_height": null,
            "align_content": null,
            "visibility": null,
            "align_self": null,
            "height": null,
            "min_height": null,
            "padding": null,
            "grid_auto_rows": null,
            "grid_gap": null,
            "max_width": null,
            "order": null,
            "_view_module_version": "1.2.0",
            "grid_template_areas": null,
            "object_position": null,
            "object_fit": null,
            "grid_auto_columns": null,
            "margin": null,
            "display": null,
            "left": null
          }
        },
        "188e0aaaed0a4e26ba9a905fe9218104": {
          "model_module": "@jupyter-widgets/controls",
          "model_name": "HBoxModel",
          "state": {
            "_view_name": "HBoxView",
            "_dom_classes": [],
            "_model_name": "HBoxModel",
            "_view_module": "@jupyter-widgets/controls",
            "_model_module_version": "1.5.0",
            "_view_count": null,
            "_view_module_version": "1.5.0",
            "box_style": "",
            "layout": "IPY_MODEL_18f87841983d40d4bcefd62708150553",
            "_model_module": "@jupyter-widgets/controls",
            "children": [
              "IPY_MODEL_5b590fd4ad34457aab4554278215da21",
              "IPY_MODEL_8707c37259b843978ef65e1250c5aa51"
            ]
          }
        },
        "18f87841983d40d4bcefd62708150553": {
          "model_module": "@jupyter-widgets/base",
          "model_name": "LayoutModel",
          "state": {
            "_view_name": "LayoutView",
            "grid_template_rows": null,
            "right": null,
            "justify_content": null,
            "_view_module": "@jupyter-widgets/base",
            "overflow": null,
            "_model_module_version": "1.2.0",
            "_view_count": null,
            "flex_flow": null,
            "width": null,
            "min_width": null,
            "border": null,
            "align_items": null,
            "bottom": null,
            "_model_module": "@jupyter-widgets/base",
            "top": null,
            "grid_column": null,
            "overflow_y": null,
            "overflow_x": null,
            "grid_auto_flow": null,
            "grid_area": null,
            "grid_template_columns": null,
            "flex": null,
            "_model_name": "LayoutModel",
            "justify_items": null,
            "grid_row": null,
            "max_height": null,
            "align_content": null,
            "visibility": null,
            "align_self": null,
            "height": null,
            "min_height": null,
            "padding": null,
            "grid_auto_rows": null,
            "grid_gap": null,
            "max_width": null,
            "order": null,
            "_view_module_version": "1.2.0",
            "grid_template_areas": null,
            "object_position": null,
            "object_fit": null,
            "grid_auto_columns": null,
            "margin": null,
            "display": null,
            "left": null
          }
        },
        "5b590fd4ad34457aab4554278215da21": {
          "model_module": "@jupyter-widgets/controls",
          "model_name": "FloatProgressModel",
          "state": {
            "_view_name": "ProgressView",
            "style": "IPY_MODEL_9a2dcbe80ff54a49bcea1f110266de0e",
            "_dom_classes": [],
            "description": "100%",
            "_model_name": "FloatProgressModel",
            "bar_style": "success",
            "max": 10,
            "_view_module": "@jupyter-widgets/controls",
            "_model_module_version": "1.5.0",
            "value": 10,
            "_view_count": null,
            "_view_module_version": "1.5.0",
            "orientation": "horizontal",
            "min": 0,
            "description_tooltip": null,
            "_model_module": "@jupyter-widgets/controls",
            "layout": "IPY_MODEL_cdc5adbbf8f7459295785abf6a00e379"
          }
        },
        "8707c37259b843978ef65e1250c5aa51": {
          "model_module": "@jupyter-widgets/controls",
          "model_name": "HTMLModel",
          "state": {
            "_view_name": "HTMLView",
            "style": "IPY_MODEL_5410976682fd45548845af76b7567865",
            "_dom_classes": [],
            "description": "",
            "_model_name": "HTMLModel",
            "placeholder": "​",
            "_view_module": "@jupyter-widgets/controls",
            "_model_module_version": "1.5.0",
            "value": " 10/10 [05:00&lt;00:00, 30.01s/it]",
            "_view_count": null,
            "_view_module_version": "1.5.0",
            "description_tooltip": null,
            "_model_module": "@jupyter-widgets/controls",
            "layout": "IPY_MODEL_a526bc688d5d4f1384c3332b04957793"
          }
        },
        "9a2dcbe80ff54a49bcea1f110266de0e": {
          "model_module": "@jupyter-widgets/controls",
          "model_name": "ProgressStyleModel",
          "state": {
            "_view_name": "StyleView",
            "_model_name": "ProgressStyleModel",
            "description_width": "initial",
            "_view_module": "@jupyter-widgets/base",
            "_model_module_version": "1.5.0",
            "_view_count": null,
            "_view_module_version": "1.2.0",
            "bar_color": null,
            "_model_module": "@jupyter-widgets/controls"
          }
        },
        "cdc5adbbf8f7459295785abf6a00e379": {
          "model_module": "@jupyter-widgets/base",
          "model_name": "LayoutModel",
          "state": {
            "_view_name": "LayoutView",
            "grid_template_rows": null,
            "right": null,
            "justify_content": null,
            "_view_module": "@jupyter-widgets/base",
            "overflow": null,
            "_model_module_version": "1.2.0",
            "_view_count": null,
            "flex_flow": null,
            "width": null,
            "min_width": null,
            "border": null,
            "align_items": null,
            "bottom": null,
            "_model_module": "@jupyter-widgets/base",
            "top": null,
            "grid_column": null,
            "overflow_y": null,
            "overflow_x": null,
            "grid_auto_flow": null,
            "grid_area": null,
            "grid_template_columns": null,
            "flex": null,
            "_model_name": "LayoutModel",
            "justify_items": null,
            "grid_row": null,
            "max_height": null,
            "align_content": null,
            "visibility": null,
            "align_self": null,
            "height": null,
            "min_height": null,
            "padding": null,
            "grid_auto_rows": null,
            "grid_gap": null,
            "max_width": null,
            "order": null,
            "_view_module_version": "1.2.0",
            "grid_template_areas": null,
            "object_position": null,
            "object_fit": null,
            "grid_auto_columns": null,
            "margin": null,
            "display": null,
            "left": null
          }
        },
        "5410976682fd45548845af76b7567865": {
          "model_module": "@jupyter-widgets/controls",
          "model_name": "DescriptionStyleModel",
          "state": {
            "_view_name": "StyleView",
            "_model_name": "DescriptionStyleModel",
            "description_width": "",
            "_view_module": "@jupyter-widgets/base",
            "_model_module_version": "1.5.0",
            "_view_count": null,
            "_view_module_version": "1.2.0",
            "_model_module": "@jupyter-widgets/controls"
          }
        },
        "a526bc688d5d4f1384c3332b04957793": {
          "model_module": "@jupyter-widgets/base",
          "model_name": "LayoutModel",
          "state": {
            "_view_name": "LayoutView",
            "grid_template_rows": null,
            "right": null,
            "justify_content": null,
            "_view_module": "@jupyter-widgets/base",
            "overflow": null,
            "_model_module_version": "1.2.0",
            "_view_count": null,
            "flex_flow": null,
            "width": null,
            "min_width": null,
            "border": null,
            "align_items": null,
            "bottom": null,
            "_model_module": "@jupyter-widgets/base",
            "top": null,
            "grid_column": null,
            "overflow_y": null,
            "overflow_x": null,
            "grid_auto_flow": null,
            "grid_area": null,
            "grid_template_columns": null,
            "flex": null,
            "_model_name": "LayoutModel",
            "justify_items": null,
            "grid_row": null,
            "max_height": null,
            "align_content": null,
            "visibility": null,
            "align_self": null,
            "height": null,
            "min_height": null,
            "padding": null,
            "grid_auto_rows": null,
            "grid_gap": null,
            "max_width": null,
            "order": null,
            "_view_module_version": "1.2.0",
            "grid_template_areas": null,
            "object_position": null,
            "object_fit": null,
            "grid_auto_columns": null,
            "margin": null,
            "display": null,
            "left": null
          }
        }
      }
    }
  },
  "cells": [
    {
      "cell_type": "markdown",
      "metadata": {
        "id": "view-in-github",
        "colab_type": "text"
      },
      "source": [
        "<a href=\"https://colab.research.google.com/github/JaimeRedondo/Mushrooms_Classification/blob/master/Mushrooms_Classification.ipynb\" target=\"_parent\"><img src=\"https://colab.research.google.com/assets/colab-badge.svg\" alt=\"Open In Colab\"/></a>"
      ]
    },
    {
      "cell_type": "code",
      "metadata": {
        "colab": {
          "base_uri": "https://localhost:8080/"
        },
        "id": "vz6dxutvauCY",
        "outputId": "ec44f320-5a39-4cc0-fa9c-b011f56b1b73"
      },
      "source": [
        "#We can search images from Bing, better option because it works.\n",
        "! pip install bing-image-downloader\n",
        "! pip install opencv-python\n",
        "#instalo open cv\n",
        "from matplotlib import image\n",
        "from matplotlib import pyplot\n",
        "from skimage import io\n",
        "import cv2\n",
        "import os\n",
        "! pip install tensorflow\n",
        "\n",
        "import tensorflow as tf\n",
        "#Packages\n",
        "#--Web scraping packages\n",
        "from bs4 import BeautifulSoup\n",
        "import requests\n",
        "#Pandas/numpy for data manipulation\n",
        "import pandas as pd\n",
        "import numpy as np\n",
        "from urllib.request import urlopen\n",
        "from bing_image_downloader import downloader\n",
        "from tqdm.notebook import tqdm\n",
        "from time import sleep \n",
        "\n",
        "#import libraries I want.\n",
        "from tensorflow.keras import optimizers\n",
        "from tensorflow.keras import losses\n",
        "from tensorflow.keras import metrics\n",
        "from tensorflow.keras.utils import to_categorical\n",
        "from tensorflow.keras import models\n",
        "from tensorflow.keras import layers\n",
        "from tensorflow.keras import Input\n",
        "\n",
        "%pylab inline\n",
        "plt.style.use('seaborn-talk')"
      ],
      "execution_count": 1,
      "outputs": [
        {
          "output_type": "stream",
          "text": [
            "Requirement already satisfied: bing-image-downloader in /usr/local/lib/python3.6/dist-packages (1.0.4)\n",
            "Requirement already satisfied: opencv-python in /usr/local/lib/python3.6/dist-packages (4.1.2.30)\n",
            "Requirement already satisfied: numpy>=1.11.3 in /usr/local/lib/python3.6/dist-packages (from opencv-python) (1.19.5)\n",
            "Requirement already satisfied: tensorflow in /usr/local/lib/python3.6/dist-packages (2.4.0)\n",
            "Requirement already satisfied: numpy~=1.19.2 in /usr/local/lib/python3.6/dist-packages (from tensorflow) (1.19.5)\n",
            "Requirement already satisfied: tensorboard~=2.4 in /usr/local/lib/python3.6/dist-packages (from tensorflow) (2.4.0)\n",
            "Requirement already satisfied: flatbuffers~=1.12.0 in /usr/local/lib/python3.6/dist-packages (from tensorflow) (1.12)\n",
            "Requirement already satisfied: wrapt~=1.12.1 in /usr/local/lib/python3.6/dist-packages (from tensorflow) (1.12.1)\n",
            "Requirement already satisfied: gast==0.3.3 in /usr/local/lib/python3.6/dist-packages (from tensorflow) (0.3.3)\n",
            "Requirement already satisfied: tensorflow-estimator<2.5.0,>=2.4.0rc0 in /usr/local/lib/python3.6/dist-packages (from tensorflow) (2.4.0)\n",
            "Requirement already satisfied: opt-einsum~=3.3.0 in /usr/local/lib/python3.6/dist-packages (from tensorflow) (3.3.0)\n",
            "Requirement already satisfied: astunparse~=1.6.3 in /usr/local/lib/python3.6/dist-packages (from tensorflow) (1.6.3)\n",
            "Requirement already satisfied: typing-extensions~=3.7.4 in /usr/local/lib/python3.6/dist-packages (from tensorflow) (3.7.4.3)\n",
            "Requirement already satisfied: wheel~=0.35 in /usr/local/lib/python3.6/dist-packages (from tensorflow) (0.36.2)\n",
            "Requirement already satisfied: h5py~=2.10.0 in /usr/local/lib/python3.6/dist-packages (from tensorflow) (2.10.0)\n",
            "Requirement already satisfied: six~=1.15.0 in /usr/local/lib/python3.6/dist-packages (from tensorflow) (1.15.0)\n",
            "Requirement already satisfied: grpcio~=1.32.0 in /usr/local/lib/python3.6/dist-packages (from tensorflow) (1.32.0)\n",
            "Requirement already satisfied: termcolor~=1.1.0 in /usr/local/lib/python3.6/dist-packages (from tensorflow) (1.1.0)\n",
            "Requirement already satisfied: google-pasta~=0.2 in /usr/local/lib/python3.6/dist-packages (from tensorflow) (0.2.0)\n",
            "Requirement already satisfied: absl-py~=0.10 in /usr/local/lib/python3.6/dist-packages (from tensorflow) (0.10.0)\n",
            "Requirement already satisfied: protobuf>=3.9.2 in /usr/local/lib/python3.6/dist-packages (from tensorflow) (3.12.4)\n",
            "Requirement already satisfied: keras-preprocessing~=1.1.2 in /usr/local/lib/python3.6/dist-packages (from tensorflow) (1.1.2)\n",
            "Requirement already satisfied: requests<3,>=2.21.0 in /usr/local/lib/python3.6/dist-packages (from tensorboard~=2.4->tensorflow) (2.23.0)\n",
            "Requirement already satisfied: google-auth<2,>=1.6.3 in /usr/local/lib/python3.6/dist-packages (from tensorboard~=2.4->tensorflow) (1.17.2)\n",
            "Requirement already satisfied: tensorboard-plugin-wit>=1.6.0 in /usr/local/lib/python3.6/dist-packages (from tensorboard~=2.4->tensorflow) (1.7.0)\n",
            "Requirement already satisfied: markdown>=2.6.8 in /usr/local/lib/python3.6/dist-packages (from tensorboard~=2.4->tensorflow) (3.3.3)\n",
            "Requirement already satisfied: werkzeug>=0.11.15 in /usr/local/lib/python3.6/dist-packages (from tensorboard~=2.4->tensorflow) (1.0.1)\n",
            "Requirement already satisfied: setuptools>=41.0.0 in /usr/local/lib/python3.6/dist-packages (from tensorboard~=2.4->tensorflow) (51.3.3)\n",
            "Requirement already satisfied: google-auth-oauthlib<0.5,>=0.4.1 in /usr/local/lib/python3.6/dist-packages (from tensorboard~=2.4->tensorflow) (0.4.2)\n",
            "Requirement already satisfied: chardet<4,>=3.0.2 in /usr/local/lib/python3.6/dist-packages (from requests<3,>=2.21.0->tensorboard~=2.4->tensorflow) (3.0.4)\n",
            "Requirement already satisfied: idna<3,>=2.5 in /usr/local/lib/python3.6/dist-packages (from requests<3,>=2.21.0->tensorboard~=2.4->tensorflow) (2.10)\n",
            "Requirement already satisfied: urllib3!=1.25.0,!=1.25.1,<1.26,>=1.21.1 in /usr/local/lib/python3.6/dist-packages (from requests<3,>=2.21.0->tensorboard~=2.4->tensorflow) (1.24.3)\n",
            "Requirement already satisfied: certifi>=2017.4.17 in /usr/local/lib/python3.6/dist-packages (from requests<3,>=2.21.0->tensorboard~=2.4->tensorflow) (2020.12.5)\n",
            "Requirement already satisfied: pyasn1-modules>=0.2.1 in /usr/local/lib/python3.6/dist-packages (from google-auth<2,>=1.6.3->tensorboard~=2.4->tensorflow) (0.2.8)\n",
            "Requirement already satisfied: rsa<5,>=3.1.4; python_version >= \"3\" in /usr/local/lib/python3.6/dist-packages (from google-auth<2,>=1.6.3->tensorboard~=2.4->tensorflow) (4.6)\n",
            "Requirement already satisfied: cachetools<5.0,>=2.0.0 in /usr/local/lib/python3.6/dist-packages (from google-auth<2,>=1.6.3->tensorboard~=2.4->tensorflow) (4.2.0)\n",
            "Requirement already satisfied: importlib-metadata; python_version < \"3.8\" in /usr/local/lib/python3.6/dist-packages (from markdown>=2.6.8->tensorboard~=2.4->tensorflow) (3.3.0)\n",
            "Requirement already satisfied: requests-oauthlib>=0.7.0 in /usr/local/lib/python3.6/dist-packages (from google-auth-oauthlib<0.5,>=0.4.1->tensorboard~=2.4->tensorflow) (1.3.0)\n",
            "Requirement already satisfied: pyasn1<0.5.0,>=0.4.6 in /usr/local/lib/python3.6/dist-packages (from pyasn1-modules>=0.2.1->google-auth<2,>=1.6.3->tensorboard~=2.4->tensorflow) (0.4.8)\n",
            "Requirement already satisfied: zipp>=0.5 in /usr/local/lib/python3.6/dist-packages (from importlib-metadata; python_version < \"3.8\"->markdown>=2.6.8->tensorboard~=2.4->tensorflow) (3.4.0)\n",
            "Requirement already satisfied: oauthlib>=3.0.0 in /usr/local/lib/python3.6/dist-packages (from requests-oauthlib>=0.7.0->google-auth-oauthlib<0.5,>=0.4.1->tensorboard~=2.4->tensorflow) (3.1.0)\n",
            "Populating the interactive namespace from numpy and matplotlib\n"
          ],
          "name": "stdout"
        }
      ]
    },
    {
      "cell_type": "markdown",
      "metadata": {
        "id": "6YlGuovebGvf"
      },
      "source": [
        "# Define Functions"
      ]
    },
    {
      "cell_type": "markdown",
      "metadata": {
        "id": "IRi-WmojbdU_"
      },
      "source": [
        "Web Scraping to have enough mushrooms types."
      ]
    },
    {
      "cell_type": "code",
      "metadata": {
        "id": "x3d_01ofbZeS"
      },
      "source": [
        "def scraping_mushrooms():    \n",
        "    clean_titles_all=pd.DataFrame()\n",
        "    titles=['Final']\n",
        "    url = 'https://www.fungipedia.org/hongos.html?start=0'\n",
        "\n",
        "    while 'Final' in list(titles):\n",
        "        html = urlopen(url)\n",
        "        soup = BeautifulSoup(html, 'lxml')\n",
        "    \n",
        "    ## getting the web titles\n",
        "        titles=[]\n",
        "        all_links = soup.find_all(\"a\")\n",
        "        for link in all_links:\n",
        "            titles.append(link.get(\"title\"))\n",
        "        \n",
        "        titles=pd.Series(titles).apply(str)\n",
        "    \n",
        "        titles=titles[titles!='None']\n",
        "    \n",
        "        titles_df=titles.reset_index()\n",
        "    \n",
        "        for phrase in titles_df[0]:\n",
        "            if phrase =='Catálogo de Setas y Hongos':\n",
        "                numero=int((titles_df[titles_df[0]==phrase]['index']))\n",
        "            else:\n",
        "                continue\n",
        "            \n",
        "        titles=titles[titles.index > numero]\n",
        "    \n",
        "        clean_titles=titles[titles.str.len()>6][:-1]\n",
        "    \n",
        "        clean_titles=clean_titles.to_frame()\n",
        "    \n",
        "        siguiente = '='+str(int(url.split('=')[1])+20)\n",
        "    \n",
        "        url = url.split('=')[0] + siguiente\n",
        "    \n",
        "        clean_titles_all = clean_titles_all.append(clean_titles)\n",
        "    \n",
        "    clean_titles_all=clean_titles_all.reset_index()\n",
        "\n",
        "    del clean_titles_all['index']\n",
        "\n",
        "    lista_setas = clean_titles_all[0]\n",
        "\n",
        "    lista_setas=list(lista_setas)\n",
        "    \n",
        "    return lista_setas\n"
      ],
      "execution_count": 2,
      "outputs": []
    },
    {
      "cell_type": "markdown",
      "metadata": {
        "id": "Ct6hNe9VcNIU"
      },
      "source": [
        "Download Images From an Internet Browser (Bing)"
      ]
    },
    {
      "cell_type": "code",
      "metadata": {
        "id": "tTdr6mmpcMLx"
      },
      "source": [
        "#keep 1 photo of ecah mushroom,##write a list of things in the input of searcher:\n",
        "def searcher_downloader(lista):\n",
        "    for seta in tqdm(lista):\n",
        "        try:\n",
        "            downloader.download(seta, limit=20,  output_dir='dataset', \n",
        "            adult_filter_off=True, force_replace=False, timeout=60)\n",
        "        except:\n",
        "            print(\"esta no puedo\")\n",
        "    print(\"I'm done\")"
      ],
      "execution_count": 3,
      "outputs": []
    },
    {
      "cell_type": "markdown",
      "metadata": {
        "id": "OvYPCx_AcXIy"
      },
      "source": [
        "Standarize the images downloaded"
      ]
    },
    {
      "cell_type": "code",
      "metadata": {
        "id": "THnbjrC2cGuq"
      },
      "source": [
        "#estandarizamos nombres de fotos\n",
        "def standarize_names(directory):\n",
        "    for folder in tqdm(directory):\n",
        "        directorio = os.listdir('dataset/'+folder)\n",
        "        for image in directorio:     \n",
        "            if image.split('.')[1] == 'jpg':\n",
        "                continue\n",
        "            else:\n",
        "                image_new=image.split('.')[0] + '.jpg'\n",
        "                os.rename('dataset/'+folder+'/'+image, 'dataset/'+folder+'/'+image_new)"
      ],
      "execution_count": 4,
      "outputs": []
    },
    {
      "cell_type": "code",
      "metadata": {
        "id": "dUA60EsMcdfz"
      },
      "source": [
        "#resize all images shape in 200x200 and print what photos are not available\n",
        "def resize_photos(directory):\n",
        "    for folder in tqdm(directory):\n",
        "        for numero in range(20):\n",
        "            try:\n",
        "                route = \"dataset/\" + folder +'/Image_'+ str(numero+1) + '.jpg'\n",
        "                data_picture = io.imread(route)\n",
        "                data_picture = cv2.resize(data_picture, (200, 200))\n",
        "                # save the images\n",
        "                cv2.imwrite(route,data_picture)\n",
        "            except:  \n",
        "                print(\"imagen \"+str(numero+1)+' de la seta '+folder+' no está disponible')"
      ],
      "execution_count": 5,
      "outputs": []
    },
    {
      "cell_type": "code",
      "metadata": {
        "id": "_9YK6V0rcfxG"
      },
      "source": [
        "#standarize 0_255 pixels to 0 - 1.\n",
        "lista=[]\n",
        "def standarize_pixels(directory):\n",
        "    for folder in tqdm(directory):\n",
        "        for numero in range(20):\n",
        "            try:\n",
        "                route = \"dataset/\" + folder +'/Image_'+ str(numero+1) + '.jpg'\n",
        "                image_rgb=io.imread(route)/255.0\n",
        "                lista.append(image_rgb)\n",
        "            except:\n",
        "                print(folder+str(numero+1))"
      ],
      "execution_count": 6,
      "outputs": []
    },
    {
      "cell_type": "code",
      "metadata": {
        "id": "J5Qbupk3c5nv"
      },
      "source": [
        "def standarize_photos(directory):\n",
        "    print(\"renombrando...\")\n",
        "    standarize_names(directory)\n",
        "    print(\"homogeneizando tamaño fotos...\")\n",
        "    resize_photos(directory)\n",
        "    print(\"estandarizando pixels...\")\n",
        "    standarize_pixels(directory)"
      ],
      "execution_count": 7,
      "outputs": []
    },
    {
      "cell_type": "code",
      "metadata": {
        "id": "d8h0G2Kbc7px"
      },
      "source": [
        "def comprobar_longitudes_carpetas(directorio):\n",
        "    for folder in directorio:\n",
        "        print(folder + ' '+str(len(os.listdir(\"dataset/\" + folder))))"
      ],
      "execution_count": 8,
      "outputs": []
    },
    {
      "cell_type": "code",
      "metadata": {
        "id": "5NN3vxsvc-Nk"
      },
      "source": [
        "def plot_mushroom_image(N, imgs, labels):\n",
        "    print(labels[N])\n",
        "    plt.imshow(imgs[N,], cmap=plt.cm.binary)\n",
        "    plt.grid(True)"
      ],
      "execution_count": 9,
      "outputs": []
    },
    {
      "cell_type": "markdown",
      "metadata": {
        "id": "59p_-UwxdCx2"
      },
      "source": [
        "### Apply the def functions"
      ]
    },
    {
      "cell_type": "code",
      "metadata": {
        "id": "Smt0JB4GdAAY"
      },
      "source": [
        "lista_setas=scraping_mushrooms()"
      ],
      "execution_count": 10,
      "outputs": []
    },
    {
      "cell_type": "code",
      "metadata": {
        "id": "L9TEtx6xdF3m"
      },
      "source": [
        "lista_setas_2=lista_setas[0:10]\n",
        "#primero lo hare con unm muestra"
      ],
      "execution_count": 11,
      "outputs": []
    },
    {
      "cell_type": "code",
      "metadata": {
        "colab": {
          "base_uri": "https://localhost:8080/"
        },
        "id": "0j5nIrhXdJAv",
        "outputId": "4b118cd3-16c7-496b-b5d0-eb99f67feace"
      },
      "source": [
        "lista_setas_2"
      ],
      "execution_count": 12,
      "outputs": [
        {
          "output_type": "execute_result",
          "data": {
            "text/plain": [
              "['Abortiporus biennis',\n",
              " 'Adelphella babingtonii',\n",
              " 'Agaricus arvensis',\n",
              " 'Agaricus campestris',\n",
              " 'Agaricus litoralis',\n",
              " 'Agaricus sylvaticus',\n",
              " 'Agaricus sylvicola',\n",
              " 'Agaricus urinascens',\n",
              " 'Agaricus xanthodermus',\n",
              " 'Agrocybe praecox']"
            ]
          },
          "metadata": {
            "tags": []
          },
          "execution_count": 12
        }
      ]
    },
    {
      "cell_type": "code",
      "metadata": {
        "colab": {
          "base_uri": "https://localhost:8080/",
          "height": 1000,
          "referenced_widgets": [
            "6fad601342354308931b07bad3613066",
            "47fd481d97fd4100a82ae30492d71b2b",
            "9c8dad86f70540ada381ac403fbf01c8",
            "8ea2d007fbbb4f3e80fa90ad7b75beb0",
            "5a78a8cb2e10499db8d546f40dd69128",
            "c74281bd38704fa09f8f3c1991782418",
            "ff0471ecba7049b7a6186a9215a52454",
            "ee54417d3c404e66a22474cbdb52295e"
          ]
        },
        "id": "v4nFJPozdK2w",
        "outputId": "c4f56d99-d666-45c6-b80f-35f7086ae16b"
      },
      "source": [
        "searcher_downloader(lista_setas_2)"
      ],
      "execution_count": 13,
      "outputs": [
        {
          "output_type": "display_data",
          "data": {
            "application/vnd.jupyter.widget-view+json": {
              "model_id": "6fad601342354308931b07bad3613066",
              "version_minor": 0,
              "version_major": 2
            },
            "text/plain": [
              "HBox(children=(FloatProgress(value=0.0, max=10.0), HTML(value='')))"
            ]
          },
          "metadata": {
            "tags": []
          }
        },
        {
          "output_type": "stream",
          "text": [
            "\n",
            "\n",
            "[!!]Indexing page: 1\n",
            "\n",
            "[%] Indexed 20 Images on Page 1.\n",
            "\n",
            "===============================================\n",
            "\n",
            "[%] Downloading Image #1 from https://upload.wikimedia.org/wikipedia/commons/thumb/2/25/Abortiporus_biennis_197275.jpg/1200px-Abortiporus_biennis_197275.jpg\n",
            "[%] File Downloaded !\n",
            "\n",
            "[%] Downloading Image #2 from https://upload.wikimedia.org/wikipedia/commons/thumb/4/46/Abortiporus_biennis_161023wa.jpg/1200px-Abortiporus_biennis_161023wa.jpg\n",
            "[Error]Invalid image, not saving https://upload.wikimedia.org/wikipedia/commons/thumb/4/46/Abortiporus_biennis_161023wa.jpg/1200px-Abortiporus_biennis_161023wa.jpg\n",
            "\n",
            "[!] Issue getting: https://upload.wikimedia.org/wikipedia/commons/thumb/4/46/Abortiporus_biennis_161023wa.jpg/1200px-Abortiporus_biennis_161023wa.jpg\n",
            "[!] Error:: No active exception to reraise\n",
            "[%] Downloading Image #2 from https://upload.wikimedia.org/wikipedia/commons/6/6e/Abortiporus_biennis_179245.jpg\n",
            "[%] File Downloaded !\n",
            "\n",
            "[%] Downloading Image #3 from http://warehouse1.indicia.org.uk/upload/p16f1d5bv21msg1g93jl512se53i2.jpg\n",
            "[%] File Downloaded !\n",
            "\n",
            "[%] Downloading Image #4 from https://www.first-nature.com/fungi/images/meruliaceae/abortiporus-biennis5.jpg\n",
            "[%] File Downloaded !\n",
            "\n",
            "[%] Downloading Image #5 from http://www.mushroomexpert.com/images/kuo2/abortiporus_biennis_01.jpg\n",
            "[%] File Downloaded !\n",
            "\n",
            "[%] Downloading Image #6 from http://www.mushroomexpert.com/images/kuo2/abortiporus_biennis_06.jpg\n",
            "[%] File Downloaded !\n",
            "\n",
            "[%] Downloading Image #7 from http://amatafoto.it/images/abortiporus-biennis--1-.jpg\n",
            "[%] File Downloaded !\n",
            "\n",
            "[%] Downloading Image #8 from http://www.mykoweb.com/CAF/photos/large/Abortiporus_biennis%28fs-01%29.jpg\n",
            "[%] File Downloaded !\n",
            "\n",
            "[%] Downloading Image #9 from https://ultimate-mushroom.com/uploads/posts/2020-10/1603290303_abortiporus-biennis-1.jpg\n",
            "[%] File Downloaded !\n",
            "\n",
            "[%] Downloading Image #10 from https://upload.wikimedia.org/wikipedia/commons/6/6d/Abortiporus_biennis_184698.jpg\n",
            "[%] File Downloaded !\n",
            "\n",
            "[%] Downloading Image #11 from https://ultimate-mushroom.com/uploads/posts/2020-10/1603290351_abortiporus-biennis-3.jpg\n",
            "[%] File Downloaded !\n",
            "\n",
            "[%] Downloading Image #12 from https://www.first-nature.com/fungi/images/meruliaceae/abortiporus-biennis1.jpg\n",
            "[%] File Downloaded !\n",
            "\n",
            "[%] Downloading Image #13 from http://www.mushroomexpert.com/images/kuo2/abortiporus_biennis_04.jpg\n",
            "[%] File Downloaded !\n",
            "\n",
            "[%] Downloading Image #14 from http://www.mykoweb.com/CAF/photos/large/Abortiporus_biennis%28mgw-01%29.jpg\n",
            "[%] File Downloaded !\n",
            "\n",
            "[%] Downloading Image #15 from https://ultimate-mushroom.com/uploads/posts/2020-10/1603290371_abortiporus-biennis-4.jpg\n",
            "[%] File Downloaded !\n",
            "\n",
            "[%] Downloading Image #16 from https://live.staticflickr.com/4302/35478025903_3505c25712_b.jpg\n",
            "[%] File Downloaded !\n",
            "\n",
            "[%] Downloading Image #17 from http://mushroomobserver.org/images/1280/651051.jpg\n",
            "[%] File Downloaded !\n",
            "\n",
            "[%] Downloading Image #18 from https://upload.wikimedia.org/wikipedia/commons/0/06/Rötender_Saftwirrling_Abortiporus_biennis_5329.jpg\n",
            "[!] Issue getting: https://upload.wikimedia.org/wikipedia/commons/0/06/Rötender_Saftwirrling_Abortiporus_biennis_5329.jpg\n",
            "[!] Error:: 'ascii' codec can't encode character '\\xf6' in position 29: ordinal not in range(128)\n",
            "[%] Downloading Image #18 from http://scmycoflora.org/genera/abortiporus/images/Abortiporus-biennis_1.jpg\n",
            "[%] File Downloaded !\n",
            "\n",
            "\n",
            "\n",
            "[!!]Indexing page: 2\n",
            "\n",
            "[%] Indexed 35 Images on Page 2.\n",
            "\n",
            "===============================================\n",
            "\n",
            "[%] Downloading Image #19 from https://upload.wikimedia.org/wikipedia/commons/thumb/2/25/Abortiporus_biennis_197275.jpg/1200px-Abortiporus_biennis_197275.jpg\n",
            "[%] File Downloaded !\n",
            "\n",
            "[%] Downloading Image #20 from https://upload.wikimedia.org/wikipedia/commons/thumb/4/46/Abortiporus_biennis_161023wa.jpg/1200px-Abortiporus_biennis_161023wa.jpg\n",
            "[Error]Invalid image, not saving https://upload.wikimedia.org/wikipedia/commons/thumb/4/46/Abortiporus_biennis_161023wa.jpg/1200px-Abortiporus_biennis_161023wa.jpg\n",
            "\n",
            "[!] Issue getting: https://upload.wikimedia.org/wikipedia/commons/thumb/4/46/Abortiporus_biennis_161023wa.jpg/1200px-Abortiporus_biennis_161023wa.jpg\n",
            "[!] Error:: No active exception to reraise\n",
            "[%] Downloading Image #20 from http://warehouse1.indicia.org.uk/upload/p16f1d5bv21msg1g93jl512se53i2.jpg\n",
            "[%] File Downloaded !\n",
            "\n",
            "\n",
            "\n",
            "[%] Done. Downloaded 20 images.\n",
            "\n",
            "===============================================\n",
            "\n",
            "\n",
            "\n",
            "[!!]Indexing page: 1\n",
            "\n",
            "[%] Indexed 20 Images on Page 1.\n",
            "\n",
            "===============================================\n",
            "\n",
            "[%] Downloading Image #1 from http://www.mykoweb.com/CAF/photos/Adelphella_babingtoni_ mgw-01.jpg\n",
            "[!] Issue getting: http://www.mykoweb.com/CAF/photos/Adelphella_babingtoni_ mgw-01.jpg\n",
            "[!] Error:: URL can't contain control characters. '/CAF/photos/Adelphella_babingtoni_ mgw-01.jpg' (found at least ' ')\n",
            "[%] Downloading Image #1 from https://www.ilgiardinocommestibile.it/wp-content/uploads/2020/09/adelphella-babingtonii.jpg\n",
            "[%] File Downloaded !\n",
            "\n",
            "[%] Downloading Image #2 from https://www.fungipedia.org/images/galerias/adelphella_babingtonii/adelphella_babingtonii3.jpg\n",
            "[%] File Downloaded !\n",
            "\n",
            "[%] Downloading Image #3 from http://chawantake.sakura.ne.jp/image/Adelphella_babingtoniiL.jpg\n",
            "[%] File Downloaded !\n",
            "\n",
            "[%] Downloading Image #4 from http://manatarka.org/files/2015/08/Adelphellababingtonii1.jpg\n",
            "[%] File Downloaded !\n",
            "\n",
            "[%] Downloading Image #5 from https://www.mycodb.fr/photos/Adelphella_babingtonii_2007_jd_1.jpg\n",
            "[%] File Downloaded !\n",
            "\n",
            "[%] Downloading Image #6 from http://manatarka.org/files/2015/08/Adelphellababingtonii2.jpg\n",
            "[%] File Downloaded !\n",
            "\n",
            "[%] Downloading Image #7 from http://www.centrodeestudiosmicologicosasturianos.org/wp-content/uploads/2020/05/Adelphella-babingtonii.-Tineo-31-V-2006-madera-de-planifolio-300x199.jpg\n",
            "[%] File Downloaded !\n",
            "\n",
            "[%] Downloading Image #8 from http://pagan-cancan.by/species/Adelphella_babingtonii/img/Adelphella_babingtonii_DAY_05_Jun_2016_2.jpg\n",
            "[%] File Downloaded !\n",
            "\n",
            "[%] Downloading Image #9 from https://www.mycodb.fr/photos/Adelphella_babingtonii_2016_ym_1.jpg\n",
            "[%] File Downloaded !\n",
            "\n",
            "[%] Downloading Image #10 from https://www.fungipedia.org/images/galerias/adelphella_babingtonii/adelphella_babingtonii6.jpg\n",
            "[%] File Downloaded !\n",
            "\n",
            "[%] Downloading Image #11 from http://www.smbla.fr/medias/album/adelphella-babingtonii-3.JPG?fx=r_400_400\n",
            "[%] File Downloaded !\n",
            "\n",
            "[%] Downloading Image #12 from https://www.pharmanatur.com/Mycologie/Pachyella babingtonii 4.jpg\n",
            "[!] Issue getting: https://www.pharmanatur.com/Mycologie/Pachyella babingtonii 4.jpg\n",
            "[!] Error:: URL can't contain control characters. '/Mycologie/Pachyella babingtonii 4.jpg' (found at least ' ')\n",
            "[%] Downloading Image #12 from https://www.researchgate.net/profile/Oscar_Requejo/publication/323808636/figure/fig2/AS:631581244944414@1527592111317/Adelphella-babingtonii-LOU-Fungi-19770.png\n",
            "[!] Issue getting: https://www.researchgate.net/profile/Oscar_Requejo/publication/323808636/figure/fig2/AS:631581244944414@1527592111317/Adelphella-babingtonii-LOU-Fungi-19770.png\n",
            "[!] Error:: HTTP Error 403: Forbidden\n",
            "[%] Downloading Image #12 from https://www.fungipedia.org/media/kunena/attachments/62/Adelphellababingtonii_3.jpg\n",
            "[%] File Downloaded !\n",
            "\n",
            "[%] Downloading Image #13 from https://www.fungipedia.org/media/kunena/attachments/62/Adelphellababingtonii_2.jpg\n",
            "[%] File Downloaded !\n",
            "\n",
            "[%] Downloading Image #14 from https://www.pharmanatur.com/Mycologie/Pachyella babingtonii 7.jpg\n",
            "[!] Issue getting: https://www.pharmanatur.com/Mycologie/Pachyella babingtonii 7.jpg\n",
            "[!] Error:: URL can't contain control characters. '/Mycologie/Pachyella babingtonii 7.jpg' (found at least ' ')\n",
            "[%] Downloading Image #14 from https://www.fungipedia.org/images/miniaturas/adelphella_babingtonii1.jpg\n",
            "[%] File Downloaded !\n",
            "\n",
            "[%] Downloading Image #15 from https://live.staticflickr.com/410/18574351689_3d891e1f71_z.jpg\n",
            "[%] File Downloaded !\n",
            "\n",
            "[%] Downloading Image #16 from http://manatarka.org/files/2020/03/Adelphellababingtonii6.jpg\n",
            "[%] File Downloaded !\n",
            "\n",
            "\n",
            "\n",
            "[!!]Indexing page: 2\n",
            "\n",
            "[%] Indexed 35 Images on Page 2.\n",
            "\n",
            "===============================================\n",
            "\n",
            "[%] Downloading Image #17 from https://mykoweb.com/CAF/photos/large/Adelphella_babingtoni_%20mgw-01.jpg\n",
            "[%] File Downloaded !\n",
            "\n",
            "[%] Downloading Image #18 from https://www.ilgiardinocommestibile.it/wp-content/uploads/2020/09/adelphella-babingtonii.jpg\n",
            "[%] File Downloaded !\n",
            "\n",
            "[%] Downloading Image #19 from https://www.fungipedia.org/images/galerias/adelphella_babingtonii/adelphella_babingtonii3.jpg\n",
            "[%] File Downloaded !\n",
            "\n",
            "[%] Downloading Image #20 from http://chawantake.sakura.ne.jp/image/Adelphella_babingtoniiL.jpg\n",
            "[%] File Downloaded !\n",
            "\n",
            "\n",
            "\n",
            "[%] Done. Downloaded 20 images.\n",
            "\n",
            "===============================================\n",
            "\n",
            "\n",
            "\n",
            "[!!]Indexing page: 1\n",
            "\n",
            "[%] Indexed 20 Images on Page 1.\n",
            "\n",
            "===============================================\n",
            "\n",
            "[%] Downloading Image #1 from https://upload.wikimedia.org/wikipedia/commons/thumb/4/40/Pieczarka_polowa_vongrzanka.JPG/1200px-Pieczarka_polowa_vongrzanka.JPG\n",
            "[%] File Downloaded !\n",
            "\n",
            "[%] Downloading Image #2 from https://upload.wikimedia.org/wikipedia/commons/thumb/5/58/2008-08-Agaricus-Stuttgartx7.JPG/1200px-2008-08-Agaricus-Stuttgartx7.JPG\n",
            "[%] File Downloaded !\n",
            "\n",
            "[%] Downloading Image #3 from https://i.pinimg.com/originals/eb/e1/01/ebe101c62d7677686778efd6dabcfc16.jpg\n",
            "[%] File Downloaded !\n",
            "\n",
            "[%] Downloading Image #4 from https://www.mykoweb.com/CAF/photos/large/Agaricus_fissuratus_fs-11.jpg\n",
            "[%] File Downloaded !\n",
            "\n",
            "[%] Downloading Image #5 from https://funfungi.files.wordpress.com/2014/09/20140915_162305.jpg\n",
            "[%] File Downloaded !\n",
            "\n",
            "[%] Downloading Image #6 from http://www.discoverlife.org/IM/I_MWS/1063/640/Agaricus_arvensis,I_MWS106368.jpg\n",
            "[!] Issue getting: http://www.discoverlife.org/IM/I_MWS/1063/640/Agaricus_arvensis,I_MWS106368.jpg\n",
            "[!] Error:: <urlopen error [SSL: CERTIFICATE_VERIFY_FAILED] certificate verify failed (_ssl.c:852)>\n",
            "[%] Downloading Image #6 from https://funfungi.files.wordpress.com/2014/08/0243f-2014-05-242b13-49-35.jpg\n",
            "[%] File Downloaded !\n",
            "\n",
            "[%] Downloading Image #7 from https://files.shroomery.org/files/15-51/057072153-DSC_4826.jpg\n",
            "[%] File Downloaded !\n",
            "\n",
            "[%] Downloading Image #8 from http://steve.rogueleaf.com/wp-content/uploads/2010/10/20101028031025_img-0136.jpg\n",
            "[%] File Downloaded !\n",
            "\n",
            "[%] Downloading Image #9 from https://upload.wikimedia.org/wikipedia/commons/thumb/8/8b/2008-08-Agaricus-Stuttgart.JPG/1200px-2008-08-Agaricus-Stuttgart.JPG\n",
            "[%] File Downloaded !\n",
            "\n",
            "[%] Downloading Image #10 from http://asergeev.com/p/xl-2017-2118-23/saint_petersburg_russia-horse_mushrooms_agaricus_arvensis_lawn.jpg\n",
            "[%] File Downloaded !\n",
            "\n",
            "[%] Downloading Image #11 from https://ultimate-mushroom.com/uploads/posts/2020-10/1601544861_agaricus-arvensis-4.jpg\n",
            "[%] File Downloaded !\n",
            "\n",
            "[%] Downloading Image #12 from http://www.mykoweb.com/CAF/photos/large/Agaricus_fissuratus(fs-08).jpg\n",
            "[%] File Downloaded !\n",
            "\n",
            "[%] Downloading Image #13 from http://3.bp.blogspot.com/-ujfz6DFOPHs/T73A4aeqIlI/AAAAAAAAFPA/z2nY4AdaaAg/s1600/Agaricus%2Barvensis.jpg\n",
            "[%] File Downloaded !\n",
            "\n",
            "[%] Downloading Image #14 from http://www.mykoweb.com/CAF/photos/large/Agaricus_fissuratus_fs-09.jpg\n",
            "[%] File Downloaded !\n",
            "\n",
            "[%] Downloading Image #15 from http://www.mykoweb.com/CAF/photos/large/Agaricus_fissuratus(fs-07).jpg\n",
            "[%] File Downloaded !\n",
            "\n",
            "[%] Downloading Image #16 from https://i.ytimg.com/vi/5C4uABTDrS8/maxresdefault.jpg\n",
            "[%] File Downloaded !\n",
            "\n",
            "[%] Downloading Image #17 from http://www.mykoweb.com/CAF/photos/large/Agaricus_fissuratus_fs-12.jpg\n",
            "[%] File Downloaded !\n",
            "\n",
            "[%] Downloading Image #18 from http://natures-restaurant-online.com/Agaricus_arvensis_Schaeff.jpg\n",
            "[%] File Downloaded !\n",
            "\n",
            "[%] Downloading Image #19 from https://www.first-nature.com/fungi/images/agaricaceae/agaricus-arvensis1.jpg\n",
            "[%] File Downloaded !\n",
            "\n",
            "\n",
            "\n",
            "[!!]Indexing page: 2\n",
            "\n",
            "[%] Indexed 35 Images on Page 2.\n",
            "\n",
            "===============================================\n",
            "\n",
            "[%] Downloading Image #20 from https://upload.wikimedia.org/wikipedia/commons/thumb/4/40/Pieczarka_polowa_vongrzanka.JPG/1200px-Pieczarka_polowa_vongrzanka.JPG\n",
            "[%] File Downloaded !\n",
            "\n",
            "\n",
            "\n",
            "[%] Done. Downloaded 20 images.\n",
            "\n",
            "===============================================\n",
            "\n",
            "\n",
            "\n",
            "[!!]Indexing page: 1\n",
            "\n",
            "[%] Indexed 20 Images on Page 1.\n",
            "\n",
            "===============================================\n",
            "\n",
            "[%] Downloading Image #1 from https://upload.wikimedia.org/wikipedia/commons/thumb/3/3a/Agaricus_campestris.jpg/1200px-Agaricus_campestris.jpg\n",
            "[%] File Downloaded !\n",
            "\n",
            "[%] Downloading Image #2 from https://healing-mushrooms.net/wp-content/uploads/2020/02/Agaricus-campestris.jpg\n",
            "[%] File Downloaded !\n",
            "\n",
            "[%] Downloading Image #3 from http://natures-restaurant-online.com/1280px-2010-08-07_Agaricus_campestris.jpg\n",
            "[%] File Downloaded !\n",
            "\n",
            "[%] Downloading Image #4 from http://www.mykoweb.com/CAF/photos/large/Agaricus_campestris(fs-03).jpg\n",
            "[%] File Downloaded !\n",
            "\n",
            "[%] Downloading Image #5 from http://www.mykoweb.com/CAF/photos/large/Agaricus_campestris(db-02).jpg\n",
            "[%] File Downloaded !\n",
            "\n",
            "[%] Downloading Image #6 from http://www.texasmushrooms.org/asergeev/pictures/archives/2018/2264/jpeg/09b.jpg\n",
            "[%] File Downloaded !\n",
            "\n",
            "[%] Downloading Image #7 from http://www.mitchellplainfarm.com/blog/wp-content/uploads/2011/10/Agaricus-campestris-var-squamulosus-31.jpg\n",
            "[%] File Downloaded !\n",
            "\n",
            "[%] Downloading Image #8 from https://lynnjones11.files.wordpress.com/2011/08/agaricus-1.jpg\n",
            "[%] File Downloaded !\n",
            "\n",
            "[%] Downloading Image #9 from http://warehouse1.indicia.org.uk/upload/p16dqo83dv12k0n7gecv147oihck.jpg\n",
            "[%] File Downloaded !\n",
            "\n",
            "[%] Downloading Image #10 from http://2.bp.blogspot.com/-nXnJjlF71cQ/UpOZI65TiII/AAAAAAAAH0s/MMUj139XV3w/s1600/Agaricus+campestris+28-10-2013+11-29-18.JPG\n",
            "[%] File Downloaded !\n",
            "\n",
            "[%] Downloading Image #11 from https://classconnection.s3.amazonaws.com/552/flashcards/36552/jpg/2010-08-07_agaricus_campestris_cropped1336349301390.jpg\n",
            "[%] File Downloaded !\n",
            "\n",
            "[%] Downloading Image #12 from https://www.first-nature.com/fungi/images/agaricaceae/agaricus-campestris1.jpg\n",
            "[%] File Downloaded !\n",
            "\n",
            "[%] Downloading Image #13 from https://upload.wikimedia.org/wikipedia/commons/9/95/2012-02-13_Agaricus_campestris_L_199587.jpg\n",
            "[%] File Downloaded !\n",
            "\n",
            "[%] Downloading Image #14 from http://www.mykoweb.com/CAF/photos/large/Agaricus_campestris(fs-06).jpg\n",
            "[%] File Downloaded !\n",
            "\n",
            "[%] Downloading Image #15 from http://www.mykoweb.com/CAF/photos/Agaricus_campestris(fs-05).jpg\n",
            "[%] File Downloaded !\n",
            "\n",
            "[%] Downloading Image #16 from https://ohiomushroomsociety.files.wordpress.com/2015/12/agaricus-campestris-thomassampliner-201512.jpg\n",
            "[%] File Downloaded !\n",
            "\n",
            "[%] Downloading Image #17 from http://4.bp.blogspot.com/-Kijan4GkGAI/TfrFKb6qFaI/AAAAAAAABn8/-8oSS2F87zw/s1600/champignonnnnn.jpg\n",
            "[%] File Downloaded !\n",
            "\n",
            "[%] Downloading Image #18 from https://sporesmouldsandfungi.files.wordpress.com/2015/04/014-2015-04-28.jpg\n",
            "[%] File Downloaded !\n",
            "\n",
            "[%] Downloading Image #19 from https://i.ytimg.com/vi/m3O20w3y02U/hqdefault.jpg\n",
            "[%] File Downloaded !\n",
            "\n",
            "[%] Downloading Image #20 from https://www.wildfooduk.com/wp-content/uploads/2018/01/Field-10.jpg\n",
            "[%] File Downloaded !\n",
            "\n",
            "\n",
            "\n",
            "[!!]Indexing page: 1\n",
            "\n",
            "[%] Indexed 20 Images on Page 1.\n",
            "\n",
            "===============================================\n",
            "\n",
            "[%] Downloading Image #1 from http://gribi.net.ua/wp-content/uploads/2017/02/Agaricus-litoralis.jpg\n",
            "[%] File Downloaded !\n",
            "\n",
            "[%] Downloading Image #2 from https://www.ilgiardinocommestibile.it/wp-content/uploads/2020/09/agaricus-litoralis-780x470.jpg\n",
            "[%] File Downloaded !\n",
            "\n",
            "[%] Downloading Image #3 from https://www.funghiitaliani.it/uploads/monthly_12_2009/post-127-1261248984.jpg\n",
            "[%] File Downloaded !\n",
            "\n",
            "[%] Downloading Image #4 from http://3.bp.blogspot.com/-WjZ34oMUvwU/UnlgT_YFgjI/AAAAAAAAHUw/-zTTZ45G-VM/s1600/Agaricus+Maskae+05-11-2013+13-32-03.JPG\n",
            "[%] File Downloaded !\n",
            "\n",
            "[%] Downloading Image #5 from https://www.funghiitaliani.it/uploads/monthly_12_2009/post-3093-1261050378.jpg\n",
            "[%] File Downloaded !\n",
            "\n",
            "[%] Downloading Image #6 from https://www.funghiitaliani.it/uploads/monthly_12_2009/post-2286-1261212505.jpg\n",
            "[%] File Downloaded !\n",
            "\n",
            "[%] Downloading Image #7 from http://www.fvlmedia.dk/gallery/var/albums/Agaricus/Agaricus-litoralis---kyst-champignon/Agaricus_litoralis.jpg?m=1318463912\n",
            "[%] File Downloaded !\n",
            "\n",
            "[%] Downloading Image #8 from http://www.mycoleron.fr/photos%20champignons/agaricus%20litoralis%20gd02%20r.jpg\n",
            "[%] File Downloaded !\n",
            "\n",
            "[%] Downloading Image #9 from https://4.bp.blogspot.com/-mm5XL--mV4Y/WFZ81QE35zI/AAAAAAABCoc/LMDycN_644EPxQifOqxi5OXniLLYEG8AQCPcB/s1600/Agaricus%2Blitoralis.jpg\n",
            "[%] File Downloaded !\n",
            "\n",
            "[%] Downloading Image #10 from http://www.stridvall.se/fungi/albums/Agaricus/F30A7180.sized.jpg\n",
            "[%] File Downloaded !\n",
            "\n",
            "[%] Downloading Image #11 from http://www.biopix.com/photos/jcs-agaricus-litoralis-64366.jpg\n",
            "[%] File Downloaded !\n",
            "\n",
            "[%] Downloading Image #12 from http://www.champi-myco.fr/Agaricus_litoralis_MJ-120617-_01.jpg\n",
            "[%] File Downloaded !\n",
            "\n",
            "[%] Downloading Image #13 from https://www.asturnatura.com/photo/_files/photogallery/b1cca03151cb078b220237b54518fd14.jpg\n",
            "[%] File Downloaded !\n",
            "\n",
            "[%] Downloading Image #14 from https://i.ytimg.com/vi/bXo1YP3ON2A/maxresdefault.jpg\n",
            "[%] File Downloaded !\n",
            "\n",
            "[%] Downloading Image #15 from https://micologica-barakaldo.org/wp-content/uploads/2018/05/Agaricus-litoralis_20160505_1627.jpg\n",
            "[%] File Downloaded !\n",
            "\n",
            "[%] Downloading Image #16 from http://2.bp.blogspot.com/-RkABnIQJdgc/VChqLzbcO7I/AAAAAAAAJ-s/k6mt2UfTkMw/s1600/DSC_0001-003.JPG\n",
            "[%] File Downloaded !\n",
            "\n",
            "[%] Downloading Image #17 from http://manatarka.org/files/2019/05/Agaricuslitoralis6a.jpg\n",
            "[%] File Downloaded !\n",
            "\n",
            "[%] Downloading Image #18 from http://www.funghi-bormio.it/Immagini/Imm_Schede/Prati_pascoli/Agaricus_litoralis%20g.jpg\n",
            "[%] File Downloaded !\n",
            "\n",
            "[%] Downloading Image #19 from https://www.funghiitaliani.it/uploads/monthly_06_2014/post-12947-0-51865200-1403104593.jpg\n",
            "[%] File Downloaded !\n",
            "\n",
            "[%] Downloading Image #20 from http://www.ambmuggia.it/forum/uploads/post-3-1131975835.jpg\n",
            "[%] File Downloaded !\n",
            "\n",
            "\n",
            "\n",
            "[!!]Indexing page: 1\n",
            "\n",
            "[%] Indexed 20 Images on Page 1.\n",
            "\n",
            "===============================================\n",
            "\n",
            "[%] Downloading Image #1 from http://upload.wikimedia.org/wikipedia/commons/4/47/Agaricus_sylvaticus_G7.JPG\n",
            "[%] File Downloaded !\n",
            "\n",
            "[%] Downloading Image #2 from http://www.mushrooms.su/asergeev/pictures/archives/2016/1886/jpeg/09b.jpg\n",
            "[%] File Downloaded !\n",
            "\n",
            "[%] Downloading Image #3 from http://www.stridvall.se/fungi/albums/Agaricus/AAAA3248.jpg\n",
            "[%] File Downloaded !\n",
            "\n",
            "[%] Downloading Image #4 from http://www.fungikingdom.net/_Media/agaricus-sylvaticus01078_med_hr.jpeg\n",
            "[%] File Downloaded !\n",
            "\n",
            "[%] Downloading Image #5 from http://www.stridvall.se/fungi/albums/Agaricus/NIKB2743.sized.jpg\n",
            "[%] File Downloaded !\n",
            "\n",
            "[%] Downloading Image #6 from http://i1.treknature.com/photos/14710/1-1-1-1-dsc_0062-001.jpg\n",
            "[%] File Downloaded !\n",
            "\n",
            "[%] Downloading Image #7 from http://davidmoore.org.uk/Assets/Mostly_Mycology/Richard_Clarke/fungiphoto/photo_large/Agaricus_sylvaticus_Blushing_Wood_Mushroom.jpg\n",
            "[%] File Downloaded !\n",
            "\n",
            "[%] Downloading Image #8 from https://www.first-nature.com/fungi/images/agaricaceae/agaricus-sylvaticus1.jpg\n",
            "[%] File Downloaded !\n",
            "\n",
            "[%] Downloading Image #9 from http://www.velutipes.com/natural/agaricus_sylvaticus.jpg\n",
            "[%] File Downloaded !\n",
            "\n",
            "[%] Downloading Image #10 from http://svampguiden.com/assets/img/sg_img/sg_artbilder/agaricus_silvaticus_01.jpg\n",
            "[%] File Downloaded !\n",
            "\n",
            "[%] Downloading Image #11 from https://www.mycodb.fr/photos/Agaricus_sylvaticus_2006_jg_1.jpg\n",
            "[%] File Downloaded !\n",
            "\n",
            "[%] Downloading Image #12 from https://live.staticflickr.com/7027/6566091509_ea2e6304bb_b.jpg\n",
            "[Error]Invalid image, not saving https://live.staticflickr.com/7027/6566091509_ea2e6304bb_b.jpg\n",
            "\n",
            "[!] Issue getting: https://live.staticflickr.com/7027/6566091509_ea2e6304bb_b.jpg\n",
            "[!] Error:: No active exception to reraise\n",
            "[%] Downloading Image #12 from http://www.stridvall.se/fungi/albums/Agaricus/F30A2109.jpg\n",
            "[%] File Downloaded !\n",
            "\n",
            "[%] Downloading Image #13 from https://i.ytimg.com/vi/P2GPByPtJYQ/maxresdefault.jpg\n",
            "[%] File Downloaded !\n",
            "\n",
            "[%] Downloading Image #14 from https://i1.treknature.com/photos/20831/agaraugusakgl4.jpg\n",
            "[%] File Downloaded !\n",
            "\n",
            "[%] Downloading Image #15 from http://www.mycoleron.fr/photos champignons/agaricus sylvaticus jg01 r.jpg\n",
            "[!] Issue getting: http://www.mycoleron.fr/photos champignons/agaricus sylvaticus jg01 r.jpg\n",
            "[!] Error:: URL can't contain control characters. '/photos champignons/agaricus sylvaticus jg01 r.jpg' (found at least ' ')\n",
            "[%] Downloading Image #15 from http://fungi.biodiversity-georgia.net/wp-content/uploads/2017/03/Agaricus-silvaticus-1.jpg\n",
            "[%] File Downloaded !\n",
            "\n",
            "[%] Downloading Image #16 from https://i.pinimg.com/736x/8f/08/fa/8f08fa92b208f29261771d322304be2a.jpg\n",
            "[%] File Downloaded !\n",
            "\n",
            "[%] Downloading Image #17 from https://www.myko.cz/myko/public/images/myko/0066/2017/0066-2017-0092-0001p.jpg\n",
            "[%] File Downloaded !\n",
            "\n",
            "[%] Downloading Image #18 from https://i.ytimg.com/vi/mIWOVeB4EJg/hqdefault.jpg\n",
            "[%] File Downloaded !\n",
            "\n",
            "\n",
            "\n",
            "[!!]Indexing page: 2\n",
            "\n",
            "[%] Indexed 35 Images on Page 2.\n",
            "\n",
            "===============================================\n",
            "\n",
            "[%] Downloading Image #19 from http://upload.wikimedia.org/wikipedia/commons/4/47/Agaricus_sylvaticus_G7.JPG\n",
            "[%] File Downloaded !\n",
            "\n",
            "[%] Downloading Image #20 from http://www.mushrooms.su/asergeev/pictures/archives/2016/1886/jpeg/09b.jpg\n",
            "[%] File Downloaded !\n",
            "\n",
            "\n",
            "\n",
            "[%] Done. Downloaded 20 images.\n",
            "\n",
            "===============================================\n",
            "\n",
            "\n",
            "\n",
            "[!!]Indexing page: 1\n",
            "\n",
            "[%] Indexed 20 Images on Page 1.\n",
            "\n",
            "===============================================\n",
            "\n",
            "[%] Downloading Image #1 from http://www.mykoweb.com/CAF/photos/large/Agaricus_sylvicola%28fs-04%29.jpg\n",
            "[%] File Downloaded !\n",
            "\n",
            "[%] Downloading Image #2 from http://www.mykoweb.com/CAF/photos/large/Agaricus_sylvicola%28fs-02%29.jpg\n",
            "[%] File Downloaded !\n",
            "\n",
            "[%] Downloading Image #3 from https://www.mykoweb.com/CAF/photos/large/Agaricus_sylvicola(mgw-01).jpg\n",
            "[%] File Downloaded !\n",
            "\n",
            "[%] Downloading Image #4 from https://upload.wikimedia.org/wikipedia/commons/a/ab/Agaricus_sylvicola_G4_(1).JPG\n",
            "[%] File Downloaded !\n",
            "\n",
            "[%] Downloading Image #5 from http://www.mykoweb.com/CAF/photos/large/Agaricus_sylvicola%28fs-01%29.jpg\n",
            "[%] File Downloaded !\n",
            "\n",
            "[%] Downloading Image #6 from https://andriigryganskyi.files.wordpress.com/2012/09/p1170051.jpg\n",
            "[%] File Downloaded !\n",
            "\n",
            "[%] Downloading Image #7 from http://www.texasmushrooms.org/asergeev/pictures/archives/2017/2200/jpeg/10b.jpg\n",
            "[%] File Downloaded !\n",
            "\n",
            "[%] Downloading Image #8 from http://www.mushrooms.su/asergeev/pictures/archives/2016/1886/jpeg/07b.jpg\n",
            "[%] File Downloaded !\n",
            "\n",
            "[%] Downloading Image #9 from http://www.mushrooms.su/asergeev/pictures/archives/2017/2151/jpeg/12b.jpg\n",
            "[%] File Downloaded !\n",
            "\n",
            "[%] Downloading Image #10 from http://www.mykoweb.com/CAF/photos/Agaricus_sylvicola(db-01).jpg\n",
            "[%] File Downloaded !\n",
            "\n",
            "[%] Downloading Image #11 from https://www.first-nature.com/fungi/images/agaricaceae/agaricus-sylvicola1.jpg\n",
            "[%] File Downloaded !\n",
            "\n",
            "[%] Downloading Image #12 from https://www.first-nature.com/fungi/images/agaricaceae/agaricus-sylvicola5.jpg\n",
            "[%] File Downloaded !\n",
            "\n",
            "[%] Downloading Image #13 from http://idata.over-blog.com/0/04/43/94/Photos-environnement-Cote-Azur/100_6655_agaricus-sylvicola.jpg\n",
            "[%] File Downloaded !\n",
            "\n",
            "[%] Downloading Image #14 from http://www.texasmushrooms.org/asergeev/pictures/archives/2017/2189/jpeg/26b.jpg\n",
            "[%] File Downloaded !\n",
            "\n",
            "[%] Downloading Image #15 from http://www.mushrooms.su/asergeev/pictures/archives/2017/2148/jpeg/26b.jpg\n",
            "[%] File Downloaded !\n",
            "\n",
            "[%] Downloading Image #16 from https://www.first-nature.com/fungi/images/agaricaceae/agaricus-sylvicola6.jpg\n",
            "[%] File Downloaded !\n",
            "\n",
            "[%] Downloading Image #17 from https://www.francini-mycologie.fr/LA_PAGE_DU_DEBUTANT/Agaricus_sylvicola_2.jpg\n",
            "[%] File Downloaded !\n",
            "\n",
            "[%] Downloading Image #18 from http://www.hlasek.com/foto/agaricus_sylvicola_ai8784.jpg\n",
            "[%] File Downloaded !\n",
            "\n",
            "[%] Downloading Image #19 from http://www.velutipes.com/natural/agaricus_sylvicola1.jpg\n",
            "[%] File Downloaded !\n",
            "\n",
            "[%] Downloading Image #20 from http://www.leifgoodwin.co.uk/Fungi/0_Frame%2021%20Agaricus%20silvaticus.jpg\n",
            "[%] File Downloaded !\n",
            "\n",
            "\n",
            "\n",
            "[!!]Indexing page: 1\n",
            "\n",
            "[%] Indexed 20 Images on Page 1.\n",
            "\n",
            "===============================================\n",
            "\n",
            "[%] Downloading Image #1 from https://i.pinimg.com/originals/a7/14/ef/a714ef0ba23454ab58541507040c2d49.jpg\n",
            "[%] File Downloaded !\n",
            "\n",
            "[%] Downloading Image #2 from http://www.first-nature.com/fungi/images/agaricaceae/agaricus-urinascens1.jpg\n",
            "[%] File Downloaded !\n",
            "\n",
            "[%] Downloading Image #3 from http://warehouse1.indicia.org.uk/upload/p16f1dobu464mmbv13u1fmu1dgf5.jpg\n",
            "[%] File Downloaded !\n",
            "\n",
            "[%] Downloading Image #4 from https://1.bp.blogspot.com/-YW_6LGsjuPs/VQnDvcDwskI/AAAAAAAADb0/PlEQ0Xahtl0/s1600/Agaricus%2BurinascensR2541a.jpg\n",
            "[%] File Downloaded !\n",
            "\n",
            "[%] Downloading Image #5 from http://www.biopix.com/photos/jcs-agaricus-urinascens-21760.jpg\n",
            "[%] File Downloaded !\n",
            "\n",
            "[%] Downloading Image #6 from https://www.featurepics.com/StockImage/20090912/mushroom-agaricus-urinascens--stock-image-1321235.jpg\n",
            "[%] File Downloaded !\n",
            "\n",
            "[%] Downloading Image #7 from http://www.first-nature.com/fungi/images/agaricaceae/agaricus-urinascens4.jpg\n",
            "[%] File Downloaded !\n",
            "\n",
            "[%] Downloading Image #8 from https://www.fungipedia.org/images/galerias/agaricus_urinascens/agaricus_urinascens3.jpg\n",
            "[%] File Downloaded !\n",
            "\n",
            "[%] Downloading Image #9 from https://upload.wikimedia.org/wikipedia/commons/thumb/8/80/Agaricus-urinascens-Dordogne_01.JPG/1200px-Agaricus-urinascens-Dordogne_01.JPG\n",
            "[%] File Downloaded !\n",
            "\n",
            "[%] Downloading Image #10 from https://pt.fungipedia.org/images/galerias/agaricus_urinascens/agaricus_urinascens2.jpg\n",
            "[%] File Downloaded !\n",
            "\n",
            "[%] Downloading Image #11 from http://www.pharmanatur.com/Mycologie/Agaricus urinascens 5.jpg\n",
            "[!] Issue getting: http://www.pharmanatur.com/Mycologie/Agaricus urinascens 5.jpg\n",
            "[!] Error:: URL can't contain control characters. '/Mycologie/Agaricus urinascens 5.jpg' (found at least ' ')\n",
            "[%] Downloading Image #11 from http://www.mycodb.fr/photos/Agaricus_urinascens_2004_jg_1.jpg\n",
            "[%] File Downloaded !\n",
            "\n",
            "[%] Downloading Image #12 from https://c1.staticflickr.com/7/6181/6033005111_57b2644004_b.jpg\n",
            "[%] File Downloaded !\n",
            "\n",
            "[%] Downloading Image #13 from http://www.pharmanatur.com/Mycologie/Agaricus urinascens 3.jpg\n",
            "[!] Issue getting: http://www.pharmanatur.com/Mycologie/Agaricus urinascens 3.jpg\n",
            "[!] Error:: URL can't contain control characters. '/Mycologie/Agaricus urinascens 3.jpg' (found at least ' ')\n",
            "[%] Downloading Image #13 from http://www.first-nature.com/fungi/images/agaricaceae/agaricus-urinascens2.jpg\n",
            "[%] File Downloaded !\n",
            "\n",
            "[%] Downloading Image #14 from http://www.leifgoodwin.co.uk/Fungi/0__DSC4620%20Agaricus%20urinascens%20var%20excellens%20AffinityPhoto.jpg\n",
            "[%] File Downloaded !\n",
            "\n",
            "[%] Downloading Image #15 from http://www.mycoleron.fr/photos champignons/agaricus urinascens jg 02 r.jpg\n",
            "[!] Issue getting: http://www.mycoleron.fr/photos champignons/agaricus urinascens jg 02 r.jpg\n",
            "[!] Error:: URL can't contain control characters. '/photos champignons/agaricus urinascens jg 02 r.jpg' (found at least ' ')\n",
            "[%] Downloading Image #15 from https://i0.wp.com/www.mushroomdiary.co.uk/wp-content/uploads/2016/05/macro-mushroom.jpg\n",
            "[%] File Downloaded !\n",
            "\n",
            "[%] Downloading Image #16 from https://www.asturnatura.com/photo/_files/photogallery/c9e5228d9fa43ed271fd108725a47307.jpg\n",
            "[%] File Downloaded !\n",
            "\n",
            "[%] Downloading Image #17 from https://www.naturamediterraneo.com/Public/data1/eagli/2005918181757_19-09-05 urinascens1.jpg\n",
            "[!] Issue getting: https://www.naturamediterraneo.com/Public/data1/eagli/2005918181757_19-09-05 urinascens1.jpg\n",
            "[!] Error:: URL can't contain control characters. '/Public/data1/eagli/2005918181757_19-09-05 urinascens1.jpg' (found at least ' ')\n",
            "\n",
            "\n",
            "[!!]Indexing page: 2\n",
            "\n",
            "[%] Indexed 35 Images on Page 2.\n",
            "\n",
            "===============================================\n",
            "\n",
            "[%] Downloading Image #17 from https://i.pinimg.com/originals/a7/14/ef/a714ef0ba23454ab58541507040c2d49.jpg\n",
            "[%] File Downloaded !\n",
            "\n",
            "[%] Downloading Image #18 from http://www.first-nature.com/fungi/images/agaricaceae/agaricus-urinascens1.jpg\n",
            "[%] File Downloaded !\n",
            "\n",
            "[%] Downloading Image #19 from http://warehouse1.indicia.org.uk/upload/p16f1dobu464mmbv13u1fmu1dgf5.jpg\n",
            "[%] File Downloaded !\n",
            "\n",
            "[%] Downloading Image #20 from https://1.bp.blogspot.com/-YW_6LGsjuPs/VQnDvcDwskI/AAAAAAAADb0/PlEQ0Xahtl0/s1600/Agaricus%2BurinascensR2541a.jpg\n",
            "[%] File Downloaded !\n",
            "\n",
            "\n",
            "\n",
            "[%] Done. Downloaded 20 images.\n",
            "\n",
            "===============================================\n",
            "\n",
            "\n",
            "\n",
            "[!!]Indexing page: 1\n",
            "\n",
            "[%] Indexed 20 Images on Page 1.\n",
            "\n",
            "===============================================\n",
            "\n",
            "[%] Downloading Image #1 from https://upload.wikimedia.org/wikipedia/commons/0/08/Agaricus_xanthodermus_section.jpg\n",
            "[%] File Downloaded !\n",
            "\n",
            "[%] Downloading Image #2 from http://warehouse1.indicia.org.uk/upload/o_1a56sijra1mtb2d21fle4ap3s4d.jpg\n",
            "[%] File Downloaded !\n",
            "\n",
            "[%] Downloading Image #3 from http://steve.rogueleaf.com/wp-content/uploads/2010/10/20101029004918_img-0245.jpg\n",
            "[%] File Downloaded !\n",
            "\n",
            "[%] Downloading Image #4 from http://www.mushroomexpert.com/images/kuo6/agaricus_xanthodermus_03.jpg\n",
            "[%] File Downloaded !\n",
            "\n",
            "[%] Downloading Image #5 from http://warehouse1.indicia.org.uk/upload/p16fm2drcb1q3d1jrlvab74m11gr5.jpg\n",
            "[%] File Downloaded !\n",
            "\n",
            "[%] Downloading Image #6 from http://www.mykoweb.com/CAF/photos/large/Agaricus_xanthodermus_fs-09.jpg\n",
            "[%] File Downloaded !\n",
            "\n",
            "[%] Downloading Image #7 from https://upload.wikimedia.org/wikipedia/commons/thumb/0/00/2010-11-13_Agaricus_xanthodermus_Genev_120348_crop.jpg/1200px-2010-11-13_Agaricus_xanthodermus_Genev_120348_crop.jpg\n",
            "[%] File Downloaded !\n",
            "\n",
            "[%] Downloading Image #8 from http://www.mykoweb.com/CAF/photos/large/Agaricus_xanthodermus_fs-11.jpg\n",
            "[%] File Downloaded !\n",
            "\n",
            "[%] Downloading Image #9 from http://www.mushroomexpert.com/images/kuo6/agaricus_xanthodermus_01.jpg\n",
            "[%] File Downloaded !\n",
            "\n",
            "[%] Downloading Image #10 from http://www.mykoweb.com/CAF/photos/large/Agaricus_xanthodermus_mgw-04.jpg\n",
            "[%] File Downloaded !\n",
            "\n",
            "[%] Downloading Image #11 from http://www.mushroomexpert.com/images/kuo6/agaricus_xanthodermus_02.jpg\n",
            "[%] File Downloaded !\n",
            "\n",
            "[%] Downloading Image #12 from http://www.mykoweb.com/CAF/photos/large/Agaricus_xanthodermus_fs-12.jpg\n",
            "[%] File Downloaded !\n",
            "\n",
            "[%] Downloading Image #13 from http://www.mykoweb.com/CAF/photos/Agaricus_xanthodermus_fs-10.jpg\n",
            "[%] File Downloaded !\n",
            "\n",
            "[%] Downloading Image #14 from http://www.mykoweb.com/CAF/photos/large/Agaricus_xanthodermus(mgw-02).jpg\n",
            "[%] File Downloaded !\n",
            "\n",
            "[%] Downloading Image #15 from http://upload.wikimedia.org/wikipedia/commons/e/e2/2011-10-13_Agaricus_xanthodermus_Genev_181971.jpg\n",
            "[%] File Downloaded !\n",
            "\n",
            "[%] Downloading Image #16 from http://upload.wikimedia.org/wikipedia/commons/a/a5/2012-04-19_Agaricus_xanthodermus_Genev_213787.jpg\n",
            "[%] File Downloaded !\n",
            "\n",
            "[%] Downloading Image #17 from http://www.mykoweb.com/CAF/photos/large/Agaricus_xanthodermus(mgw-01).jpg\n",
            "[%] File Downloaded !\n",
            "\n",
            "[%] Downloading Image #18 from http://qldfungi.org.au/wp-content/uploads/2013/05/agaricus_xanthodermus_PL_1024.jpg\n",
            "[%] File Downloaded !\n",
            "\n",
            "[%] Downloading Image #19 from http://nathistoc.bio.uci.edu/Fungi/Agaraicus xanthodermus6.gif\n",
            "[!] Issue getting: http://nathistoc.bio.uci.edu/Fungi/Agaraicus xanthodermus6.gif\n",
            "[!] Error:: URL can't contain control characters. '/Fungi/Agaraicus xanthodermus6.gif' (found at least ' ')\n",
            "[%] Downloading Image #19 from http://nathistoc.bio.uci.edu/Fungi/Agaricus xanthodermus/Agaricus xanthodermus.jpg\n",
            "[!] Issue getting: http://nathistoc.bio.uci.edu/Fungi/Agaricus xanthodermus/Agaricus xanthodermus.jpg\n",
            "[!] Error:: URL can't contain control characters. '/Fungi/Agaricus xanthodermus/Agaricus xanthodermus.jpg' (found at least ' ')\n",
            "\n",
            "\n",
            "[!!]Indexing page: 2\n",
            "\n",
            "[%] Indexed 35 Images on Page 2.\n",
            "\n",
            "===============================================\n",
            "\n",
            "[%] Downloading Image #19 from https://upload.wikimedia.org/wikipedia/commons/0/08/Agaricus_xanthodermus_section.jpg\n",
            "[%] File Downloaded !\n",
            "\n",
            "[%] Downloading Image #20 from http://warehouse1.indicia.org.uk/upload/o_1a56sijra1mtb2d21fle4ap3s4d.jpg\n",
            "[%] File Downloaded !\n",
            "\n",
            "\n",
            "\n",
            "[%] Done. Downloaded 20 images.\n",
            "\n",
            "===============================================\n",
            "\n",
            "\n",
            "\n",
            "[!!]Indexing page: 1\n",
            "\n",
            "[%] Indexed 20 Images on Page 1.\n",
            "\n",
            "===============================================\n",
            "\n",
            "[%] Downloading Image #1 from http://www.mushrooms.su/asergeev/pictures/archives/2017/2066/jpeg/32b.jpg\n",
            "[%] File Downloaded !\n",
            "\n",
            "[%] Downloading Image #2 from https://upload.wikimedia.org/wikipedia/commons/thumb/e/e5/Agrocybe_praecox_20120415wa.JPG/1200px-Agrocybe_praecox_20120415wa.JPG\n",
            "[Error]Invalid image, not saving https://upload.wikimedia.org/wikipedia/commons/thumb/e/e5/Agrocybe_praecox_20120415wa.JPG/1200px-Agrocybe_praecox_20120415wa.JPG\n",
            "\n",
            "[!] Issue getting: https://upload.wikimedia.org/wikipedia/commons/thumb/e/e5/Agrocybe_praecox_20120415wa.JPG/1200px-Agrocybe_praecox_20120415wa.JPG\n",
            "[!] Error:: No active exception to reraise\n",
            "[%] Downloading Image #2 from http://www.mushrooms.su/asergeev/pictures/archives/2017/2066/jpeg/29b.jpg\n",
            "[%] File Downloaded !\n",
            "\n",
            "[%] Downloading Image #3 from http://www.mushrooms.su/asergeev/pictures/archives/2017/2066/jpeg/02b.jpg\n",
            "[%] File Downloaded !\n",
            "\n",
            "[%] Downloading Image #4 from http://www.mykoweb.com/CAF/photos/large/Agrocybe_praecox_fs-05.jpg\n",
            "[%] File Downloaded !\n",
            "\n",
            "[%] Downloading Image #5 from http://www.mykoweb.com/CAF/photos/Agrocybe_praecox_fs-04.jpg\n",
            "[%] File Downloaded !\n",
            "\n",
            "[%] Downloading Image #6 from https://upload.wikimedia.org/wikipedia/commons/thumb/0/0f/2011-05-17_Agrocybe_praecox_%28Pers.%29_Fayod_146356_crop.jpg/1200px-2011-05-17_Agrocybe_praecox_%28Pers.%29_Fayod_146356_crop.jpg\n",
            "[%] File Downloaded !\n",
            "\n",
            "[%] Downloading Image #7 from https://letsdeliquesce.files.wordpress.com/2009/12/img_24831.jpg\n",
            "[%] File Downloaded !\n",
            "\n",
            "[%] Downloading Image #8 from http://www.mykoweb.com/CAF/photos/large/Agrocybe_praecox_fs-08.jpg\n",
            "[%] File Downloaded !\n",
            "\n",
            "[%] Downloading Image #9 from http://www.mykoweb.com/CAF/photos/large/Agrocybe_praecox_fs-07.jpg\n",
            "[%] File Downloaded !\n",
            "\n",
            "[%] Downloading Image #10 from http://www.mushrooms.su/asergeev/pictures/archives/2017/2066/jpeg/33b.jpg\n",
            "[%] File Downloaded !\n",
            "\n",
            "[%] Downloading Image #11 from http://www.mykoweb.com/CAF/photos/large/Agrocybe_praecox_fs-09.jpg\n",
            "[%] File Downloaded !\n",
            "\n",
            "[%] Downloading Image #12 from https://www.first-nature.com/fungi/images/strophariaceae/agrocybe-praecox1.jpg\n",
            "[%] File Downloaded !\n",
            "\n",
            "[%] Downloading Image #13 from https://www.mushroomexpert.com/images/kuo/agrocybe_praecox_01big.jpg\n",
            "[%] File Downloaded !\n",
            "\n",
            "[%] Downloading Image #14 from http://www.nifg.org.uk/wp-content/uploads/2019/02/Agrocybe_praecox2.jpg\n",
            "[%] File Downloaded !\n",
            "\n",
            "[%] Downloading Image #15 from https://upload.wikimedia.org/wikipedia/commons/thumb/7/76/Agrocybe_praecox.jpg/1200px-Agrocybe_praecox.jpg\n",
            "[%] File Downloaded !\n",
            "\n",
            "[%] Downloading Image #16 from http://www.mushroomexpert.com/images/kuo2/agrocybe_praecox_04.jpg\n",
            "[%] File Downloaded !\n",
            "\n",
            "[%] Downloading Image #17 from http://www.scmycoflora.org/genera/agrocybe/images/Agrocybe-praecox_1.jpg\n",
            "[%] File Downloaded !\n",
            "\n",
            "[%] Downloading Image #18 from http://www.mushroomexpert.com/images/kaminski/kaminski_agrocybe_praecox_02.jpg\n",
            "[%] File Downloaded !\n",
            "\n",
            "[%] Downloading Image #19 from https://upload.wikimedia.org/wikipedia/commons/0/0e/Agrocybe_praecox_20120415wb.JPG\n",
            "[%] File Downloaded !\n",
            "\n",
            "\n",
            "\n",
            "[!!]Indexing page: 2\n",
            "\n",
            "[%] Indexed 35 Images on Page 2.\n",
            "\n",
            "===============================================\n",
            "\n",
            "[%] Downloading Image #20 from https://upload.wikimedia.org/wikipedia/commons/thumb/e/e5/Agrocybe_praecox_20120415wa.JPG/1200px-Agrocybe_praecox_20120415wa.JPG\n",
            "[Error]Invalid image, not saving https://upload.wikimedia.org/wikipedia/commons/thumb/e/e5/Agrocybe_praecox_20120415wa.JPG/1200px-Agrocybe_praecox_20120415wa.JPG\n",
            "\n",
            "[!] Issue getting: https://upload.wikimedia.org/wikipedia/commons/thumb/e/e5/Agrocybe_praecox_20120415wa.JPG/1200px-Agrocybe_praecox_20120415wa.JPG\n",
            "[!] Error:: No active exception to reraise\n",
            "[%] Downloading Image #20 from http://www.mushrooms.su/asergeev/pictures/archives/2017/2066/jpeg/32b.jpg\n",
            "[%] File Downloaded !\n",
            "\n",
            "\n",
            "\n",
            "[%] Done. Downloaded 20 images.\n",
            "\n",
            "===============================================\n",
            "\n",
            "\n",
            "I'm done\n"
          ],
          "name": "stdout"
        }
      ]
    },
    {
      "cell_type": "code",
      "metadata": {
        "colab": {
          "base_uri": "https://localhost:8080/"
        },
        "id": "UWAS3c0ndK5C",
        "outputId": "00f3a389-a10a-468e-a4be-5796b1ccf29e"
      },
      "source": [
        "contenido = os.listdir('dataset')\n",
        "contenido=sorted(contenido)\n",
        "contenido"
      ],
      "execution_count": 14,
      "outputs": [
        {
          "output_type": "execute_result",
          "data": {
            "text/plain": [
              "['Abortiporus biennis',\n",
              " 'Adelphella babingtonii',\n",
              " 'Agaricus arvensis',\n",
              " 'Agaricus campestris',\n",
              " 'Agaricus litoralis',\n",
              " 'Agaricus sylvaticus',\n",
              " 'Agaricus sylvicola',\n",
              " 'Agaricus urinascens',\n",
              " 'Agaricus xanthodermus',\n",
              " 'Agrocybe praecox']"
            ]
          },
          "metadata": {
            "tags": []
          },
          "execution_count": 14
        }
      ]
    },
    {
      "cell_type": "code",
      "metadata": {
        "colab": {
          "base_uri": "https://localhost:8080/"
        },
        "id": "PePEB48udK7V",
        "outputId": "5b2d14c1-4f91-4025-c45c-0cfb18fefef3"
      },
      "source": [
        "comprobar_longitudes_carpetas(contenido)"
      ],
      "execution_count": 15,
      "outputs": [
        {
          "output_type": "stream",
          "text": [
            "Abortiporus biennis 20\n",
            "Adelphella babingtonii 21\n",
            "Agaricus arvensis 24\n",
            "Agaricus campestris 21\n",
            "Agaricus litoralis 22\n",
            "Agaricus sylvaticus 23\n",
            "Agaricus sylvicola 21\n",
            "Agaricus urinascens 21\n",
            "Agaricus xanthodermus 20\n",
            "Agrocybe praecox 21\n"
          ],
          "name": "stdout"
        }
      ]
    },
    {
      "cell_type": "code",
      "metadata": {
        "colab": {
          "base_uri": "https://localhost:8080/",
          "height": 217,
          "referenced_widgets": [
            "40b4f0edaf9b416db03d665af798afc8",
            "5b7f275d40d34b1cbbc990637e23a2ba",
            "fe1449db652248ad845d26d8d9c59092",
            "56e98f64b76b41fcbe8ff2e229624215",
            "6754d65cb2d64445afb4e26ffcd66049",
            "3033ab4ee27f48018eb09c16061b1442",
            "69b303e88e5d4b4baa91802d169d2c0c",
            "4a6857fd86194a89aa29967d5097c995",
            "6762d6de889c4e38a4473f809f8c8caf",
            "153ca4fbb474405ea54d87e3064a6720",
            "cd97256579cd45498a9ec88890d94d0a",
            "47cedaf002244b1599d6a8c444f121c8",
            "8df59f6f9140472bb0e38a0dfb2c6154",
            "eabd92fbee6845328a8a77c6185f1fc4",
            "f94c9f3f44bc46efb250ee9cb05ef96e",
            "c2fd03781bd7411dae4081d0ff2a751c",
            "0ce71ffc517d46feaded6e4482b42502",
            "8cd60032c81443c69d61a350cae62b09",
            "f25f24b619c240e7b1f9596867a9cc71",
            "5063e891d7b243c88e743341d4a06c61",
            "b06d05a8b0584c80b12b3cfb6beb61a1",
            "06bb4bcb38dd4ad6a89178fdb4f3da59",
            "caeb9dfc3b374a6e87bdc231ad6a8057",
            "5e52c2ccce6a4ffba972afa913e6ce0b"
          ]
        },
        "id": "Sbv6A89ldK9f",
        "outputId": "d91044c7-fcbb-4348-9dd2-10897728557d"
      },
      "source": [
        "standarize_photos(contenido)"
      ],
      "execution_count": 16,
      "outputs": [
        {
          "output_type": "stream",
          "text": [
            "renombrando...\n"
          ],
          "name": "stdout"
        },
        {
          "output_type": "display_data",
          "data": {
            "application/vnd.jupyter.widget-view+json": {
              "model_id": "40b4f0edaf9b416db03d665af798afc8",
              "version_minor": 0,
              "version_major": 2
            },
            "text/plain": [
              "HBox(children=(FloatProgress(value=0.0, max=10.0), HTML(value='')))"
            ]
          },
          "metadata": {
            "tags": []
          }
        },
        {
          "output_type": "stream",
          "text": [
            "\n",
            "homogeneizando tamaño fotos...\n"
          ],
          "name": "stdout"
        },
        {
          "output_type": "display_data",
          "data": {
            "application/vnd.jupyter.widget-view+json": {
              "model_id": "6762d6de889c4e38a4473f809f8c8caf",
              "version_minor": 0,
              "version_major": 2
            },
            "text/plain": [
              "HBox(children=(FloatProgress(value=0.0, max=10.0), HTML(value='')))"
            ]
          },
          "metadata": {
            "tags": []
          }
        },
        {
          "output_type": "stream",
          "text": [
            "\n",
            "estandarizando pixels...\n"
          ],
          "name": "stdout"
        },
        {
          "output_type": "display_data",
          "data": {
            "application/vnd.jupyter.widget-view+json": {
              "model_id": "0ce71ffc517d46feaded6e4482b42502",
              "version_minor": 0,
              "version_major": 2
            },
            "text/plain": [
              "HBox(children=(FloatProgress(value=0.0, max=10.0), HTML(value='')))"
            ]
          },
          "metadata": {
            "tags": []
          }
        },
        {
          "output_type": "stream",
          "text": [
            "\n"
          ],
          "name": "stdout"
        }
      ]
    },
    {
      "cell_type": "code",
      "metadata": {
        "colab": {
          "base_uri": "https://localhost:8080/"
        },
        "id": "rUi0XeIHdK__",
        "outputId": "74bf19e6-fdde-440c-ed22-1787b1d8faf8"
      },
      "source": [
        "train_images=np.array(lista)\n",
        "train_images.shape"
      ],
      "execution_count": 17,
      "outputs": [
        {
          "output_type": "execute_result",
          "data": {
            "text/plain": [
              "(200, 200, 200, 3)"
            ]
          },
          "metadata": {
            "tags": []
          },
          "execution_count": 17
        }
      ]
    },
    {
      "cell_type": "code",
      "metadata": {
        "colab": {
          "base_uri": "https://localhost:8080/",
          "height": 66,
          "referenced_widgets": [
            "188e0aaaed0a4e26ba9a905fe9218104",
            "18f87841983d40d4bcefd62708150553",
            "5b590fd4ad34457aab4554278215da21",
            "8707c37259b843978ef65e1250c5aa51",
            "9a2dcbe80ff54a49bcea1f110266de0e",
            "cdc5adbbf8f7459295785abf6a00e379",
            "5410976682fd45548845af76b7567865",
            "a526bc688d5d4f1384c3332b04957793"
          ]
        },
        "id": "stlp7T-MdLCQ",
        "outputId": "5c4fd8be-7c7b-49a0-fc7b-5d45c371799e"
      },
      "source": [
        "lista_categories=[]\n",
        "for folder in tqdm(contenido):\n",
        "    for i in range(20):\n",
        "        lista_categories.append(folder)\n",
        "        \n",
        "train_labels=np.array(lista_categories)"
      ],
      "execution_count": 18,
      "outputs": [
        {
          "output_type": "display_data",
          "data": {
            "application/vnd.jupyter.widget-view+json": {
              "model_id": "188e0aaaed0a4e26ba9a905fe9218104",
              "version_minor": 0,
              "version_major": 2
            },
            "text/plain": [
              "HBox(children=(FloatProgress(value=0.0, max=10.0), HTML(value='')))"
            ]
          },
          "metadata": {
            "tags": []
          }
        },
        {
          "output_type": "stream",
          "text": [
            "\n"
          ],
          "name": "stdout"
        }
      ]
    },
    {
      "cell_type": "code",
      "metadata": {
        "colab": {
          "base_uri": "https://localhost:8080/"
        },
        "id": "WKVW0Wzbwtia",
        "outputId": "24726e0f-5a07-47e5-dfa2-592367e61103"
      },
      "source": [
        "train_labels"
      ],
      "execution_count": 19,
      "outputs": [
        {
          "output_type": "execute_result",
          "data": {
            "text/plain": [
              "array(['Abortiporus biennis', 'Abortiporus biennis',\n",
              "       'Abortiporus biennis', 'Abortiporus biennis',\n",
              "       'Abortiporus biennis', 'Abortiporus biennis',\n",
              "       'Abortiporus biennis', 'Abortiporus biennis',\n",
              "       'Abortiporus biennis', 'Abortiporus biennis',\n",
              "       'Abortiporus biennis', 'Abortiporus biennis',\n",
              "       'Abortiporus biennis', 'Abortiporus biennis',\n",
              "       'Abortiporus biennis', 'Abortiporus biennis',\n",
              "       'Abortiporus biennis', 'Abortiporus biennis',\n",
              "       'Abortiporus biennis', 'Abortiporus biennis',\n",
              "       'Adelphella babingtonii', 'Adelphella babingtonii',\n",
              "       'Adelphella babingtonii', 'Adelphella babingtonii',\n",
              "       'Adelphella babingtonii', 'Adelphella babingtonii',\n",
              "       'Adelphella babingtonii', 'Adelphella babingtonii',\n",
              "       'Adelphella babingtonii', 'Adelphella babingtonii',\n",
              "       'Adelphella babingtonii', 'Adelphella babingtonii',\n",
              "       'Adelphella babingtonii', 'Adelphella babingtonii',\n",
              "       'Adelphella babingtonii', 'Adelphella babingtonii',\n",
              "       'Adelphella babingtonii', 'Adelphella babingtonii',\n",
              "       'Adelphella babingtonii', 'Adelphella babingtonii',\n",
              "       'Agaricus arvensis', 'Agaricus arvensis', 'Agaricus arvensis',\n",
              "       'Agaricus arvensis', 'Agaricus arvensis', 'Agaricus arvensis',\n",
              "       'Agaricus arvensis', 'Agaricus arvensis', 'Agaricus arvensis',\n",
              "       'Agaricus arvensis', 'Agaricus arvensis', 'Agaricus arvensis',\n",
              "       'Agaricus arvensis', 'Agaricus arvensis', 'Agaricus arvensis',\n",
              "       'Agaricus arvensis', 'Agaricus arvensis', 'Agaricus arvensis',\n",
              "       'Agaricus arvensis', 'Agaricus arvensis', 'Agaricus campestris',\n",
              "       'Agaricus campestris', 'Agaricus campestris',\n",
              "       'Agaricus campestris', 'Agaricus campestris',\n",
              "       'Agaricus campestris', 'Agaricus campestris',\n",
              "       'Agaricus campestris', 'Agaricus campestris',\n",
              "       'Agaricus campestris', 'Agaricus campestris',\n",
              "       'Agaricus campestris', 'Agaricus campestris',\n",
              "       'Agaricus campestris', 'Agaricus campestris',\n",
              "       'Agaricus campestris', 'Agaricus campestris',\n",
              "       'Agaricus campestris', 'Agaricus campestris',\n",
              "       'Agaricus campestris', 'Agaricus litoralis', 'Agaricus litoralis',\n",
              "       'Agaricus litoralis', 'Agaricus litoralis', 'Agaricus litoralis',\n",
              "       'Agaricus litoralis', 'Agaricus litoralis', 'Agaricus litoralis',\n",
              "       'Agaricus litoralis', 'Agaricus litoralis', 'Agaricus litoralis',\n",
              "       'Agaricus litoralis', 'Agaricus litoralis', 'Agaricus litoralis',\n",
              "       'Agaricus litoralis', 'Agaricus litoralis', 'Agaricus litoralis',\n",
              "       'Agaricus litoralis', 'Agaricus litoralis', 'Agaricus litoralis',\n",
              "       'Agaricus sylvaticus', 'Agaricus sylvaticus',\n",
              "       'Agaricus sylvaticus', 'Agaricus sylvaticus',\n",
              "       'Agaricus sylvaticus', 'Agaricus sylvaticus',\n",
              "       'Agaricus sylvaticus', 'Agaricus sylvaticus',\n",
              "       'Agaricus sylvaticus', 'Agaricus sylvaticus',\n",
              "       'Agaricus sylvaticus', 'Agaricus sylvaticus',\n",
              "       'Agaricus sylvaticus', 'Agaricus sylvaticus',\n",
              "       'Agaricus sylvaticus', 'Agaricus sylvaticus',\n",
              "       'Agaricus sylvaticus', 'Agaricus sylvaticus',\n",
              "       'Agaricus sylvaticus', 'Agaricus sylvaticus', 'Agaricus sylvicola',\n",
              "       'Agaricus sylvicola', 'Agaricus sylvicola', 'Agaricus sylvicola',\n",
              "       'Agaricus sylvicola', 'Agaricus sylvicola', 'Agaricus sylvicola',\n",
              "       'Agaricus sylvicola', 'Agaricus sylvicola', 'Agaricus sylvicola',\n",
              "       'Agaricus sylvicola', 'Agaricus sylvicola', 'Agaricus sylvicola',\n",
              "       'Agaricus sylvicola', 'Agaricus sylvicola', 'Agaricus sylvicola',\n",
              "       'Agaricus sylvicola', 'Agaricus sylvicola', 'Agaricus sylvicola',\n",
              "       'Agaricus sylvicola', 'Agaricus urinascens', 'Agaricus urinascens',\n",
              "       'Agaricus urinascens', 'Agaricus urinascens',\n",
              "       'Agaricus urinascens', 'Agaricus urinascens',\n",
              "       'Agaricus urinascens', 'Agaricus urinascens',\n",
              "       'Agaricus urinascens', 'Agaricus urinascens',\n",
              "       'Agaricus urinascens', 'Agaricus urinascens',\n",
              "       'Agaricus urinascens', 'Agaricus urinascens',\n",
              "       'Agaricus urinascens', 'Agaricus urinascens',\n",
              "       'Agaricus urinascens', 'Agaricus urinascens',\n",
              "       'Agaricus urinascens', 'Agaricus urinascens',\n",
              "       'Agaricus xanthodermus', 'Agaricus xanthodermus',\n",
              "       'Agaricus xanthodermus', 'Agaricus xanthodermus',\n",
              "       'Agaricus xanthodermus', 'Agaricus xanthodermus',\n",
              "       'Agaricus xanthodermus', 'Agaricus xanthodermus',\n",
              "       'Agaricus xanthodermus', 'Agaricus xanthodermus',\n",
              "       'Agaricus xanthodermus', 'Agaricus xanthodermus',\n",
              "       'Agaricus xanthodermus', 'Agaricus xanthodermus',\n",
              "       'Agaricus xanthodermus', 'Agaricus xanthodermus',\n",
              "       'Agaricus xanthodermus', 'Agaricus xanthodermus',\n",
              "       'Agaricus xanthodermus', 'Agaricus xanthodermus',\n",
              "       'Agrocybe praecox', 'Agrocybe praecox', 'Agrocybe praecox',\n",
              "       'Agrocybe praecox', 'Agrocybe praecox', 'Agrocybe praecox',\n",
              "       'Agrocybe praecox', 'Agrocybe praecox', 'Agrocybe praecox',\n",
              "       'Agrocybe praecox', 'Agrocybe praecox', 'Agrocybe praecox',\n",
              "       'Agrocybe praecox', 'Agrocybe praecox', 'Agrocybe praecox',\n",
              "       'Agrocybe praecox', 'Agrocybe praecox', 'Agrocybe praecox',\n",
              "       'Agrocybe praecox', 'Agrocybe praecox'], dtype='<U22')"
            ]
          },
          "metadata": {
            "tags": []
          },
          "execution_count": 19
        }
      ]
    },
    {
      "cell_type": "code",
      "metadata": {
        "id": "XPxMhO34xYtX"
      },
      "source": [
        ""
      ],
      "execution_count": 19,
      "outputs": []
    },
    {
      "cell_type": "code",
      "metadata": {
        "id": "JAfDLGjMwN5o"
      },
      "source": [
        "test_labels=[]\n",
        "for element in range(0,len(train_labels),20):\n",
        "  test_labels.append(train_labels[element])\n",
        "  test_labels.append(train_labels[element+1])"
      ],
      "execution_count": 20,
      "outputs": []
    },
    {
      "cell_type": "code",
      "metadata": {
        "id": "NNcsMkzhyURC"
      },
      "source": [
        "test_images=[]\n",
        "for element in range(0,len(train_images),20):\n",
        "  test_images.append(train_images[element])\n",
        "  test_images.append(train_images[element+1])"
      ],
      "execution_count": 21,
      "outputs": []
    },
    {
      "cell_type": "code",
      "metadata": {
        "colab": {
          "base_uri": "https://localhost:8080/"
        },
        "id": "HwYiSxvv3cSB",
        "outputId": "e06561b0-d81a-4e3d-beea-5cdcb6cbb6f2"
      },
      "source": [
        "len(train_images)"
      ],
      "execution_count": 22,
      "outputs": [
        {
          "output_type": "execute_result",
          "data": {
            "text/plain": [
              "200"
            ]
          },
          "metadata": {
            "tags": []
          },
          "execution_count": 22
        }
      ]
    },
    {
      "cell_type": "code",
      "metadata": {
        "colab": {
          "base_uri": "https://localhost:8080/",
          "height": 219
        },
        "id": "5StqppvM2ZfU",
        "outputId": "b8d4a2c4-32e8-4607-ec80-c3ccb2a59719"
      },
      "source": [
        "train_images_list=list(train_images)\n",
        "for element in range(0,len(train_images),20):\n",
        "  train_images_list.remove(train_images[element])\n",
        "  train_images_list.remove(train_images[element+1])"
      ],
      "execution_count": 24,
      "outputs": [
        {
          "output_type": "error",
          "ename": "ValueError",
          "evalue": "ignored",
          "traceback": [
            "\u001b[0;31m---------------------------------------------------------------------------\u001b[0m",
            "\u001b[0;31mValueError\u001b[0m                                Traceback (most recent call last)",
            "\u001b[0;32m<ipython-input-24-5d9391580fb8>\u001b[0m in \u001b[0;36m<module>\u001b[0;34m()\u001b[0m\n\u001b[1;32m      1\u001b[0m \u001b[0mtrain_images_list\u001b[0m\u001b[0;34m=\u001b[0m\u001b[0mlist\u001b[0m\u001b[0;34m(\u001b[0m\u001b[0mtrain_images\u001b[0m\u001b[0;34m)\u001b[0m\u001b[0;34m\u001b[0m\u001b[0;34m\u001b[0m\u001b[0m\n\u001b[1;32m      2\u001b[0m \u001b[0;32mfor\u001b[0m \u001b[0melement\u001b[0m \u001b[0;32min\u001b[0m \u001b[0mrange\u001b[0m\u001b[0;34m(\u001b[0m\u001b[0;36m0\u001b[0m\u001b[0;34m,\u001b[0m\u001b[0mlen\u001b[0m\u001b[0;34m(\u001b[0m\u001b[0mtrain_images\u001b[0m\u001b[0;34m)\u001b[0m\u001b[0;34m,\u001b[0m\u001b[0;36m20\u001b[0m\u001b[0;34m)\u001b[0m\u001b[0;34m:\u001b[0m\u001b[0;34m\u001b[0m\u001b[0;34m\u001b[0m\u001b[0m\n\u001b[0;32m----> 3\u001b[0;31m   \u001b[0mtrain_images_list\u001b[0m\u001b[0;34m.\u001b[0m\u001b[0mremove\u001b[0m\u001b[0;34m(\u001b[0m\u001b[0mtrain_images\u001b[0m\u001b[0;34m[\u001b[0m\u001b[0melement\u001b[0m\u001b[0;34m]\u001b[0m\u001b[0;34m)\u001b[0m\u001b[0;34m\u001b[0m\u001b[0;34m\u001b[0m\u001b[0m\n\u001b[0m\u001b[1;32m      4\u001b[0m   \u001b[0mtrain_images_list\u001b[0m\u001b[0;34m.\u001b[0m\u001b[0mremove\u001b[0m\u001b[0;34m(\u001b[0m\u001b[0mtrain_images\u001b[0m\u001b[0;34m[\u001b[0m\u001b[0melement\u001b[0m\u001b[0;34m+\u001b[0m\u001b[0;36m1\u001b[0m\u001b[0;34m]\u001b[0m\u001b[0;34m)\u001b[0m\u001b[0;34m\u001b[0m\u001b[0;34m\u001b[0m\u001b[0m\n",
            "\u001b[0;31mValueError\u001b[0m: The truth value of an array with more than one element is ambiguous. Use a.any() or a.all()"
          ]
        }
      ]
    },
    {
      "cell_type": "code",
      "metadata": {
        "id": "HAutDfa52uOT"
      },
      "source": [
        "train_labels_list=list(train_labels)\n",
        "for element in range(0,len(train_labels),20):\n",
        "  train_labels_list.remove(train_labels[element])\n",
        "  train_labels_list.remove(train_labels[element+1])"
      ],
      "execution_count": null,
      "outputs": []
    },
    {
      "cell_type": "code",
      "metadata": {
        "id": "SoALJtXY3s0N"
      },
      "source": [
        "hasta aqui"
      ],
      "execution_count": null,
      "outputs": []
    },
    {
      "cell_type": "code",
      "metadata": {
        "id": "8Y3yw38Xdat2"
      },
      "source": [
        "plot_mushroom_image(39,train_images,train_labels)"
      ],
      "execution_count": null,
      "outputs": []
    },
    {
      "cell_type": "code",
      "metadata": {
        "id": "RQU9jVmxgyec"
      },
      "source": [
        "train_labels.shape\n",
        "#cambiar formato nombres para que funcionen"
      ],
      "execution_count": null,
      "outputs": []
    },
    {
      "cell_type": "code",
      "metadata": {
        "id": "xDHBAqLyjeEx"
      },
      "source": [
        "type(np.unique(train_labels))"
      ],
      "execution_count": null,
      "outputs": []
    },
    {
      "cell_type": "code",
      "metadata": {
        "id": "61SnnFcDl3Au"
      },
      "source": [
        ""
      ],
      "execution_count": null,
      "outputs": []
    },
    {
      "cell_type": "code",
      "metadata": {
        "id": "uo8xHoDSiVI3"
      },
      "source": [
        "l1 = list(range(10))\n",
        "l2 = list(np.unique(train_labels))\n",
        "d = dict(zip(l1,l2))\n",
        "#create a dictionary to use one hot encoder"
      ],
      "execution_count": null,
      "outputs": []
    },
    {
      "cell_type": "code",
      "metadata": {
        "id": "T0tUzraljwpk"
      },
      "source": [
        "d"
      ],
      "execution_count": null,
      "outputs": []
    },
    {
      "cell_type": "code",
      "metadata": {
        "id": "exRVBCC3j5e_"
      },
      "source": [
        "train_labels_nums = sorted(list(d.keys())*20)"
      ],
      "execution_count": null,
      "outputs": []
    },
    {
      "cell_type": "code",
      "metadata": {
        "id": "ETJutFw8l9iN"
      },
      "source": [
        "len(train_labels_nums)"
      ],
      "execution_count": null,
      "outputs": []
    },
    {
      "cell_type": "markdown",
      "metadata": {
        "id": "hRKWdcqXfYnW"
      },
      "source": [
        "Transform to one hot encoder the 10 classes we hace for now"
      ]
    },
    {
      "cell_type": "code",
      "metadata": {
        "id": "yWfJeYxGdaww"
      },
      "source": [
        "#transformamos a onehot nuestros targets \n",
        "onehot_train=to_categorical(train_labels_nums,num_classes=10)\n",
        "onehot_train.shape"
      ],
      "execution_count": null,
      "outputs": []
    },
    {
      "cell_type": "markdown",
      "metadata": {
        "id": "9Xkp9-YokkT_"
      },
      "source": [
        "Vamos a crear nuestra primera red neuronal"
      ]
    },
    {
      "cell_type": "code",
      "metadata": {
        "id": "oXXK6hKXgt7l"
      },
      "source": [
        "def build():\n",
        "  m = models.Sequential()\n",
        "\n",
        "#le decimos el input para que el output \n",
        "\n",
        "  l0 = layers.Flatten(input_shape=(200,200,3))\n",
        "  m.add(l0)\n",
        "\n",
        "  l1 = layers.Dense(units=50, activation = 'relu')\n",
        "  m.add(l1)\n",
        "\n",
        "  l2 = layers.Dense(units=25, activation = 'relu')\n",
        "  m.add(l2)\n",
        "\n",
        "  l3 = layers.Dense(units=15, activation = 'relu')\n",
        "  m.add(l3)\n",
        "\n",
        "  l4 = layers.Dense(units=10, activation = 'softmax')\n",
        "  m.add(l4)\n",
        "\n",
        "  \n",
        "#ponemos none, ya no hace falta relu al ser una , decir que por defecto ya seria none.\n",
        "\n",
        "#numero random el 3 por ejemoplo que es el numero de neuronas a la salida\n",
        "\n",
        "  m.summary()\n",
        "\n",
        "  return m"
      ],
      "execution_count": null,
      "outputs": []
    },
    {
      "cell_type": "code",
      "metadata": {
        "id": "vdgKuZYak59X"
      },
      "source": [
        "m=build()"
      ],
      "execution_count": null,
      "outputs": []
    },
    {
      "cell_type": "code",
      "metadata": {
        "id": "-Yk153KAk-r2"
      },
      "source": [
        "m.compile(optimizer=optimizers.Adam(),loss=losses.categorical_crossentropy,metrics=[metrics.categorical_accuracy])"
      ],
      "execution_count": null,
      "outputs": []
    },
    {
      "cell_type": "code",
      "metadata": {
        "id": "0tbwtE-blZLu"
      },
      "source": [
        "train_images.shape"
      ],
      "execution_count": null,
      "outputs": []
    },
    {
      "cell_type": "code",
      "metadata": {
        "id": "57j2rShyle47"
      },
      "source": [
        "onehot_train.shape"
      ],
      "execution_count": null,
      "outputs": []
    },
    {
      "cell_type": "code",
      "metadata": {
        "id": "PHe5GulblLPH"
      },
      "source": [
        " h = m.fit (train_images,onehot_train,batch_size= 5,epochs=30,validation_split=0.1)"
      ],
      "execution_count": null,
      "outputs": []
    },
    {
      "cell_type": "code",
      "metadata": {
        "id": "EpRFkGy-mfR1"
      },
      "source": [
        ""
      ],
      "execution_count": null,
      "outputs": []
    }
  ]
}