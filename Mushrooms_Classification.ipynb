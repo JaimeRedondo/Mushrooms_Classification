{
  "nbformat": 4,
  "nbformat_minor": 0,
  "metadata": {
    "colab": {
      "name": "Mushrooms_Classification.ipynb",
      "provenance": [],
      "collapsed_sections": [],
      "authorship_tag": "ABX9TyOlpVav/O0z4PXH0EjdDjPW",
      "include_colab_link": true
    },
    "kernelspec": {
      "name": "python3",
      "display_name": "Python 3"
    },
    "widgets": {
      "application/vnd.jupyter.widget-state+json": {
        "d11f138467e04dd98fd4b6e9fd31ee59": {
          "model_module": "@jupyter-widgets/controls",
          "model_name": "HBoxModel",
          "state": {
            "_view_name": "HBoxView",
            "_dom_classes": [],
            "_model_name": "HBoxModel",
            "_view_module": "@jupyter-widgets/controls",
            "_model_module_version": "1.5.0",
            "_view_count": null,
            "_view_module_version": "1.5.0",
            "box_style": "",
            "layout": "IPY_MODEL_e7bce37655244163a72c8c48beda30ec",
            "_model_module": "@jupyter-widgets/controls",
            "children": [
              "IPY_MODEL_ae682d336b7a4fb1ac41655583bd4a3c",
              "IPY_MODEL_d1fe446b97b444289136c5dc52cf8e60"
            ]
          }
        },
        "e7bce37655244163a72c8c48beda30ec": {
          "model_module": "@jupyter-widgets/base",
          "model_name": "LayoutModel",
          "state": {
            "_view_name": "LayoutView",
            "grid_template_rows": null,
            "right": null,
            "justify_content": null,
            "_view_module": "@jupyter-widgets/base",
            "overflow": null,
            "_model_module_version": "1.2.0",
            "_view_count": null,
            "flex_flow": null,
            "width": null,
            "min_width": null,
            "border": null,
            "align_items": null,
            "bottom": null,
            "_model_module": "@jupyter-widgets/base",
            "top": null,
            "grid_column": null,
            "overflow_y": null,
            "overflow_x": null,
            "grid_auto_flow": null,
            "grid_area": null,
            "grid_template_columns": null,
            "flex": null,
            "_model_name": "LayoutModel",
            "justify_items": null,
            "grid_row": null,
            "max_height": null,
            "align_content": null,
            "visibility": null,
            "align_self": null,
            "height": null,
            "min_height": null,
            "padding": null,
            "grid_auto_rows": null,
            "grid_gap": null,
            "max_width": null,
            "order": null,
            "_view_module_version": "1.2.0",
            "grid_template_areas": null,
            "object_position": null,
            "object_fit": null,
            "grid_auto_columns": null,
            "margin": null,
            "display": null,
            "left": null
          }
        },
        "ae682d336b7a4fb1ac41655583bd4a3c": {
          "model_module": "@jupyter-widgets/controls",
          "model_name": "FloatProgressModel",
          "state": {
            "_view_name": "ProgressView",
            "style": "IPY_MODEL_5023d821ae9f4e8abec2372da6a72050",
            "_dom_classes": [],
            "description": "100%",
            "_model_name": "FloatProgressModel",
            "bar_style": "success",
            "max": 10,
            "_view_module": "@jupyter-widgets/controls",
            "_model_module_version": "1.5.0",
            "value": 10,
            "_view_count": null,
            "_view_module_version": "1.5.0",
            "orientation": "horizontal",
            "min": 0,
            "description_tooltip": null,
            "_model_module": "@jupyter-widgets/controls",
            "layout": "IPY_MODEL_49827430940e4844b26ac6821a4b0287"
          }
        },
        "d1fe446b97b444289136c5dc52cf8e60": {
          "model_module": "@jupyter-widgets/controls",
          "model_name": "HTMLModel",
          "state": {
            "_view_name": "HTMLView",
            "style": "IPY_MODEL_0152a52586ea4c3cbaf551a0b090e71b",
            "_dom_classes": [],
            "description": "",
            "_model_name": "HTMLModel",
            "placeholder": "​",
            "_view_module": "@jupyter-widgets/controls",
            "_model_module_version": "1.5.0",
            "value": " 10/10 [32:41&lt;00:00, 196.15s/it]",
            "_view_count": null,
            "_view_module_version": "1.5.0",
            "description_tooltip": null,
            "_model_module": "@jupyter-widgets/controls",
            "layout": "IPY_MODEL_57306a3b0aae4bfa909159fa3645e18a"
          }
        },
        "5023d821ae9f4e8abec2372da6a72050": {
          "model_module": "@jupyter-widgets/controls",
          "model_name": "ProgressStyleModel",
          "state": {
            "_view_name": "StyleView",
            "_model_name": "ProgressStyleModel",
            "description_width": "initial",
            "_view_module": "@jupyter-widgets/base",
            "_model_module_version": "1.5.0",
            "_view_count": null,
            "_view_module_version": "1.2.0",
            "bar_color": null,
            "_model_module": "@jupyter-widgets/controls"
          }
        },
        "49827430940e4844b26ac6821a4b0287": {
          "model_module": "@jupyter-widgets/base",
          "model_name": "LayoutModel",
          "state": {
            "_view_name": "LayoutView",
            "grid_template_rows": null,
            "right": null,
            "justify_content": null,
            "_view_module": "@jupyter-widgets/base",
            "overflow": null,
            "_model_module_version": "1.2.0",
            "_view_count": null,
            "flex_flow": null,
            "width": null,
            "min_width": null,
            "border": null,
            "align_items": null,
            "bottom": null,
            "_model_module": "@jupyter-widgets/base",
            "top": null,
            "grid_column": null,
            "overflow_y": null,
            "overflow_x": null,
            "grid_auto_flow": null,
            "grid_area": null,
            "grid_template_columns": null,
            "flex": null,
            "_model_name": "LayoutModel",
            "justify_items": null,
            "grid_row": null,
            "max_height": null,
            "align_content": null,
            "visibility": null,
            "align_self": null,
            "height": null,
            "min_height": null,
            "padding": null,
            "grid_auto_rows": null,
            "grid_gap": null,
            "max_width": null,
            "order": null,
            "_view_module_version": "1.2.0",
            "grid_template_areas": null,
            "object_position": null,
            "object_fit": null,
            "grid_auto_columns": null,
            "margin": null,
            "display": null,
            "left": null
          }
        },
        "0152a52586ea4c3cbaf551a0b090e71b": {
          "model_module": "@jupyter-widgets/controls",
          "model_name": "DescriptionStyleModel",
          "state": {
            "_view_name": "StyleView",
            "_model_name": "DescriptionStyleModel",
            "description_width": "",
            "_view_module": "@jupyter-widgets/base",
            "_model_module_version": "1.5.0",
            "_view_count": null,
            "_view_module_version": "1.2.0",
            "_model_module": "@jupyter-widgets/controls"
          }
        },
        "57306a3b0aae4bfa909159fa3645e18a": {
          "model_module": "@jupyter-widgets/base",
          "model_name": "LayoutModel",
          "state": {
            "_view_name": "LayoutView",
            "grid_template_rows": null,
            "right": null,
            "justify_content": null,
            "_view_module": "@jupyter-widgets/base",
            "overflow": null,
            "_model_module_version": "1.2.0",
            "_view_count": null,
            "flex_flow": null,
            "width": null,
            "min_width": null,
            "border": null,
            "align_items": null,
            "bottom": null,
            "_model_module": "@jupyter-widgets/base",
            "top": null,
            "grid_column": null,
            "overflow_y": null,
            "overflow_x": null,
            "grid_auto_flow": null,
            "grid_area": null,
            "grid_template_columns": null,
            "flex": null,
            "_model_name": "LayoutModel",
            "justify_items": null,
            "grid_row": null,
            "max_height": null,
            "align_content": null,
            "visibility": null,
            "align_self": null,
            "height": null,
            "min_height": null,
            "padding": null,
            "grid_auto_rows": null,
            "grid_gap": null,
            "max_width": null,
            "order": null,
            "_view_module_version": "1.2.0",
            "grid_template_areas": null,
            "object_position": null,
            "object_fit": null,
            "grid_auto_columns": null,
            "margin": null,
            "display": null,
            "left": null
          }
        },
        "39997096b3704481bea97875d214a6cb": {
          "model_module": "@jupyter-widgets/controls",
          "model_name": "HBoxModel",
          "state": {
            "_view_name": "HBoxView",
            "_dom_classes": [],
            "_model_name": "HBoxModel",
            "_view_module": "@jupyter-widgets/controls",
            "_model_module_version": "1.5.0",
            "_view_count": null,
            "_view_module_version": "1.5.0",
            "box_style": "",
            "layout": "IPY_MODEL_3ee6c1341bdf4d20abbf7f2cc0d966d0",
            "_model_module": "@jupyter-widgets/controls",
            "children": [
              "IPY_MODEL_a9915fe317484821be597f0e3f449e5c",
              "IPY_MODEL_a5a1ef631e3847a396812fbd9b9d88b7"
            ]
          }
        },
        "3ee6c1341bdf4d20abbf7f2cc0d966d0": {
          "model_module": "@jupyter-widgets/base",
          "model_name": "LayoutModel",
          "state": {
            "_view_name": "LayoutView",
            "grid_template_rows": null,
            "right": null,
            "justify_content": null,
            "_view_module": "@jupyter-widgets/base",
            "overflow": null,
            "_model_module_version": "1.2.0",
            "_view_count": null,
            "flex_flow": null,
            "width": null,
            "min_width": null,
            "border": null,
            "align_items": null,
            "bottom": null,
            "_model_module": "@jupyter-widgets/base",
            "top": null,
            "grid_column": null,
            "overflow_y": null,
            "overflow_x": null,
            "grid_auto_flow": null,
            "grid_area": null,
            "grid_template_columns": null,
            "flex": null,
            "_model_name": "LayoutModel",
            "justify_items": null,
            "grid_row": null,
            "max_height": null,
            "align_content": null,
            "visibility": null,
            "align_self": null,
            "height": null,
            "min_height": null,
            "padding": null,
            "grid_auto_rows": null,
            "grid_gap": null,
            "max_width": null,
            "order": null,
            "_view_module_version": "1.2.0",
            "grid_template_areas": null,
            "object_position": null,
            "object_fit": null,
            "grid_auto_columns": null,
            "margin": null,
            "display": null,
            "left": null
          }
        },
        "a9915fe317484821be597f0e3f449e5c": {
          "model_module": "@jupyter-widgets/controls",
          "model_name": "FloatProgressModel",
          "state": {
            "_view_name": "ProgressView",
            "style": "IPY_MODEL_d31ddc492add467ca779850ec7351798",
            "_dom_classes": [],
            "description": "100%",
            "_model_name": "FloatProgressModel",
            "bar_style": "success",
            "max": 10,
            "_view_module": "@jupyter-widgets/controls",
            "_model_module_version": "1.5.0",
            "value": 10,
            "_view_count": null,
            "_view_module_version": "1.5.0",
            "orientation": "horizontal",
            "min": 0,
            "description_tooltip": null,
            "_model_module": "@jupyter-widgets/controls",
            "layout": "IPY_MODEL_748fc08f970c46c98b604bfa2f95b97c"
          }
        },
        "a5a1ef631e3847a396812fbd9b9d88b7": {
          "model_module": "@jupyter-widgets/controls",
          "model_name": "HTMLModel",
          "state": {
            "_view_name": "HTMLView",
            "style": "IPY_MODEL_ce4fe3d3c800496abf6159b8898de073",
            "_dom_classes": [],
            "description": "",
            "_model_name": "HTMLModel",
            "placeholder": "​",
            "_view_module": "@jupyter-widgets/controls",
            "_model_module_version": "1.5.0",
            "value": " 10/10 [00:00&lt;00:00, 94.57it/s]",
            "_view_count": null,
            "_view_module_version": "1.5.0",
            "description_tooltip": null,
            "_model_module": "@jupyter-widgets/controls",
            "layout": "IPY_MODEL_1e6cdd56715e4d6b8985343fabe89a83"
          }
        },
        "d31ddc492add467ca779850ec7351798": {
          "model_module": "@jupyter-widgets/controls",
          "model_name": "ProgressStyleModel",
          "state": {
            "_view_name": "StyleView",
            "_model_name": "ProgressStyleModel",
            "description_width": "initial",
            "_view_module": "@jupyter-widgets/base",
            "_model_module_version": "1.5.0",
            "_view_count": null,
            "_view_module_version": "1.2.0",
            "bar_color": null,
            "_model_module": "@jupyter-widgets/controls"
          }
        },
        "748fc08f970c46c98b604bfa2f95b97c": {
          "model_module": "@jupyter-widgets/base",
          "model_name": "LayoutModel",
          "state": {
            "_view_name": "LayoutView",
            "grid_template_rows": null,
            "right": null,
            "justify_content": null,
            "_view_module": "@jupyter-widgets/base",
            "overflow": null,
            "_model_module_version": "1.2.0",
            "_view_count": null,
            "flex_flow": null,
            "width": null,
            "min_width": null,
            "border": null,
            "align_items": null,
            "bottom": null,
            "_model_module": "@jupyter-widgets/base",
            "top": null,
            "grid_column": null,
            "overflow_y": null,
            "overflow_x": null,
            "grid_auto_flow": null,
            "grid_area": null,
            "grid_template_columns": null,
            "flex": null,
            "_model_name": "LayoutModel",
            "justify_items": null,
            "grid_row": null,
            "max_height": null,
            "align_content": null,
            "visibility": null,
            "align_self": null,
            "height": null,
            "min_height": null,
            "padding": null,
            "grid_auto_rows": null,
            "grid_gap": null,
            "max_width": null,
            "order": null,
            "_view_module_version": "1.2.0",
            "grid_template_areas": null,
            "object_position": null,
            "object_fit": null,
            "grid_auto_columns": null,
            "margin": null,
            "display": null,
            "left": null
          }
        },
        "ce4fe3d3c800496abf6159b8898de073": {
          "model_module": "@jupyter-widgets/controls",
          "model_name": "DescriptionStyleModel",
          "state": {
            "_view_name": "StyleView",
            "_model_name": "DescriptionStyleModel",
            "description_width": "",
            "_view_module": "@jupyter-widgets/base",
            "_model_module_version": "1.5.0",
            "_view_count": null,
            "_view_module_version": "1.2.0",
            "_model_module": "@jupyter-widgets/controls"
          }
        },
        "1e6cdd56715e4d6b8985343fabe89a83": {
          "model_module": "@jupyter-widgets/base",
          "model_name": "LayoutModel",
          "state": {
            "_view_name": "LayoutView",
            "grid_template_rows": null,
            "right": null,
            "justify_content": null,
            "_view_module": "@jupyter-widgets/base",
            "overflow": null,
            "_model_module_version": "1.2.0",
            "_view_count": null,
            "flex_flow": null,
            "width": null,
            "min_width": null,
            "border": null,
            "align_items": null,
            "bottom": null,
            "_model_module": "@jupyter-widgets/base",
            "top": null,
            "grid_column": null,
            "overflow_y": null,
            "overflow_x": null,
            "grid_auto_flow": null,
            "grid_area": null,
            "grid_template_columns": null,
            "flex": null,
            "_model_name": "LayoutModel",
            "justify_items": null,
            "grid_row": null,
            "max_height": null,
            "align_content": null,
            "visibility": null,
            "align_self": null,
            "height": null,
            "min_height": null,
            "padding": null,
            "grid_auto_rows": null,
            "grid_gap": null,
            "max_width": null,
            "order": null,
            "_view_module_version": "1.2.0",
            "grid_template_areas": null,
            "object_position": null,
            "object_fit": null,
            "grid_auto_columns": null,
            "margin": null,
            "display": null,
            "left": null
          }
        },
        "c09af82859164232ab21874e92833125": {
          "model_module": "@jupyter-widgets/controls",
          "model_name": "HBoxModel",
          "state": {
            "_view_name": "HBoxView",
            "_dom_classes": [],
            "_model_name": "HBoxModel",
            "_view_module": "@jupyter-widgets/controls",
            "_model_module_version": "1.5.0",
            "_view_count": null,
            "_view_module_version": "1.5.0",
            "box_style": "",
            "layout": "IPY_MODEL_33b7071e668c421d88cc4456f3685edc",
            "_model_module": "@jupyter-widgets/controls",
            "children": [
              "IPY_MODEL_1b4701e7a7d2459da3fd6f29a8b580d7",
              "IPY_MODEL_948e2c1d3e114158a217fcbaf8148f56"
            ]
          }
        },
        "33b7071e668c421d88cc4456f3685edc": {
          "model_module": "@jupyter-widgets/base",
          "model_name": "LayoutModel",
          "state": {
            "_view_name": "LayoutView",
            "grid_template_rows": null,
            "right": null,
            "justify_content": null,
            "_view_module": "@jupyter-widgets/base",
            "overflow": null,
            "_model_module_version": "1.2.0",
            "_view_count": null,
            "flex_flow": null,
            "width": null,
            "min_width": null,
            "border": null,
            "align_items": null,
            "bottom": null,
            "_model_module": "@jupyter-widgets/base",
            "top": null,
            "grid_column": null,
            "overflow_y": null,
            "overflow_x": null,
            "grid_auto_flow": null,
            "grid_area": null,
            "grid_template_columns": null,
            "flex": null,
            "_model_name": "LayoutModel",
            "justify_items": null,
            "grid_row": null,
            "max_height": null,
            "align_content": null,
            "visibility": null,
            "align_self": null,
            "height": null,
            "min_height": null,
            "padding": null,
            "grid_auto_rows": null,
            "grid_gap": null,
            "max_width": null,
            "order": null,
            "_view_module_version": "1.2.0",
            "grid_template_areas": null,
            "object_position": null,
            "object_fit": null,
            "grid_auto_columns": null,
            "margin": null,
            "display": null,
            "left": null
          }
        },
        "1b4701e7a7d2459da3fd6f29a8b580d7": {
          "model_module": "@jupyter-widgets/controls",
          "model_name": "FloatProgressModel",
          "state": {
            "_view_name": "ProgressView",
            "style": "IPY_MODEL_7a5afd4ddeea41dc8639c7b969f9cb54",
            "_dom_classes": [],
            "description": "100%",
            "_model_name": "FloatProgressModel",
            "bar_style": "success",
            "max": 10,
            "_view_module": "@jupyter-widgets/controls",
            "_model_module_version": "1.5.0",
            "value": 10,
            "_view_count": null,
            "_view_module_version": "1.5.0",
            "orientation": "horizontal",
            "min": 0,
            "description_tooltip": null,
            "_model_module": "@jupyter-widgets/controls",
            "layout": "IPY_MODEL_becb5461101e4f70b9cb60c602933fb0"
          }
        },
        "948e2c1d3e114158a217fcbaf8148f56": {
          "model_module": "@jupyter-widgets/controls",
          "model_name": "HTMLModel",
          "state": {
            "_view_name": "HTMLView",
            "style": "IPY_MODEL_4e789d4595c84d66983a912b281ac9b6",
            "_dom_classes": [],
            "description": "",
            "_model_name": "HTMLModel",
            "placeholder": "​",
            "_view_module": "@jupyter-widgets/controls",
            "_model_module_version": "1.5.0",
            "value": " 10/10 [30:30&lt;00:00, 183.08s/it]",
            "_view_count": null,
            "_view_module_version": "1.5.0",
            "description_tooltip": null,
            "_model_module": "@jupyter-widgets/controls",
            "layout": "IPY_MODEL_d6374164f7f94245a934b62467a8c045"
          }
        },
        "7a5afd4ddeea41dc8639c7b969f9cb54": {
          "model_module": "@jupyter-widgets/controls",
          "model_name": "ProgressStyleModel",
          "state": {
            "_view_name": "StyleView",
            "_model_name": "ProgressStyleModel",
            "description_width": "initial",
            "_view_module": "@jupyter-widgets/base",
            "_model_module_version": "1.5.0",
            "_view_count": null,
            "_view_module_version": "1.2.0",
            "bar_color": null,
            "_model_module": "@jupyter-widgets/controls"
          }
        },
        "becb5461101e4f70b9cb60c602933fb0": {
          "model_module": "@jupyter-widgets/base",
          "model_name": "LayoutModel",
          "state": {
            "_view_name": "LayoutView",
            "grid_template_rows": null,
            "right": null,
            "justify_content": null,
            "_view_module": "@jupyter-widgets/base",
            "overflow": null,
            "_model_module_version": "1.2.0",
            "_view_count": null,
            "flex_flow": null,
            "width": null,
            "min_width": null,
            "border": null,
            "align_items": null,
            "bottom": null,
            "_model_module": "@jupyter-widgets/base",
            "top": null,
            "grid_column": null,
            "overflow_y": null,
            "overflow_x": null,
            "grid_auto_flow": null,
            "grid_area": null,
            "grid_template_columns": null,
            "flex": null,
            "_model_name": "LayoutModel",
            "justify_items": null,
            "grid_row": null,
            "max_height": null,
            "align_content": null,
            "visibility": null,
            "align_self": null,
            "height": null,
            "min_height": null,
            "padding": null,
            "grid_auto_rows": null,
            "grid_gap": null,
            "max_width": null,
            "order": null,
            "_view_module_version": "1.2.0",
            "grid_template_areas": null,
            "object_position": null,
            "object_fit": null,
            "grid_auto_columns": null,
            "margin": null,
            "display": null,
            "left": null
          }
        },
        "4e789d4595c84d66983a912b281ac9b6": {
          "model_module": "@jupyter-widgets/controls",
          "model_name": "DescriptionStyleModel",
          "state": {
            "_view_name": "StyleView",
            "_model_name": "DescriptionStyleModel",
            "description_width": "",
            "_view_module": "@jupyter-widgets/base",
            "_model_module_version": "1.5.0",
            "_view_count": null,
            "_view_module_version": "1.2.0",
            "_model_module": "@jupyter-widgets/controls"
          }
        },
        "d6374164f7f94245a934b62467a8c045": {
          "model_module": "@jupyter-widgets/base",
          "model_name": "LayoutModel",
          "state": {
            "_view_name": "LayoutView",
            "grid_template_rows": null,
            "right": null,
            "justify_content": null,
            "_view_module": "@jupyter-widgets/base",
            "overflow": null,
            "_model_module_version": "1.2.0",
            "_view_count": null,
            "flex_flow": null,
            "width": null,
            "min_width": null,
            "border": null,
            "align_items": null,
            "bottom": null,
            "_model_module": "@jupyter-widgets/base",
            "top": null,
            "grid_column": null,
            "overflow_y": null,
            "overflow_x": null,
            "grid_auto_flow": null,
            "grid_area": null,
            "grid_template_columns": null,
            "flex": null,
            "_model_name": "LayoutModel",
            "justify_items": null,
            "grid_row": null,
            "max_height": null,
            "align_content": null,
            "visibility": null,
            "align_self": null,
            "height": null,
            "min_height": null,
            "padding": null,
            "grid_auto_rows": null,
            "grid_gap": null,
            "max_width": null,
            "order": null,
            "_view_module_version": "1.2.0",
            "grid_template_areas": null,
            "object_position": null,
            "object_fit": null,
            "grid_auto_columns": null,
            "margin": null,
            "display": null,
            "left": null
          }
        },
        "18cbe2798f2d449fbbff3081fd409cdf": {
          "model_module": "@jupyter-widgets/controls",
          "model_name": "HBoxModel",
          "state": {
            "_view_name": "HBoxView",
            "_dom_classes": [],
            "_model_name": "HBoxModel",
            "_view_module": "@jupyter-widgets/controls",
            "_model_module_version": "1.5.0",
            "_view_count": null,
            "_view_module_version": "1.5.0",
            "box_style": "",
            "layout": "IPY_MODEL_a25a040ba8d8472d8669f451130b246f",
            "_model_module": "@jupyter-widgets/controls",
            "children": [
              "IPY_MODEL_1327babfe71146aeb5415bfe78e6571d",
              "IPY_MODEL_e4d8ac733697419080d472e7518e56dd"
            ]
          }
        },
        "a25a040ba8d8472d8669f451130b246f": {
          "model_module": "@jupyter-widgets/base",
          "model_name": "LayoutModel",
          "state": {
            "_view_name": "LayoutView",
            "grid_template_rows": null,
            "right": null,
            "justify_content": null,
            "_view_module": "@jupyter-widgets/base",
            "overflow": null,
            "_model_module_version": "1.2.0",
            "_view_count": null,
            "flex_flow": null,
            "width": null,
            "min_width": null,
            "border": null,
            "align_items": null,
            "bottom": null,
            "_model_module": "@jupyter-widgets/base",
            "top": null,
            "grid_column": null,
            "overflow_y": null,
            "overflow_x": null,
            "grid_auto_flow": null,
            "grid_area": null,
            "grid_template_columns": null,
            "flex": null,
            "_model_name": "LayoutModel",
            "justify_items": null,
            "grid_row": null,
            "max_height": null,
            "align_content": null,
            "visibility": null,
            "align_self": null,
            "height": null,
            "min_height": null,
            "padding": null,
            "grid_auto_rows": null,
            "grid_gap": null,
            "max_width": null,
            "order": null,
            "_view_module_version": "1.2.0",
            "grid_template_areas": null,
            "object_position": null,
            "object_fit": null,
            "grid_auto_columns": null,
            "margin": null,
            "display": null,
            "left": null
          }
        },
        "1327babfe71146aeb5415bfe78e6571d": {
          "model_module": "@jupyter-widgets/controls",
          "model_name": "FloatProgressModel",
          "state": {
            "_view_name": "ProgressView",
            "style": "IPY_MODEL_39d295200dec48b0afe6cf4357a3e5ce",
            "_dom_classes": [],
            "description": "100%",
            "_model_name": "FloatProgressModel",
            "bar_style": "success",
            "max": 10,
            "_view_module": "@jupyter-widgets/controls",
            "_model_module_version": "1.5.0",
            "value": 10,
            "_view_count": null,
            "_view_module_version": "1.5.0",
            "orientation": "horizontal",
            "min": 0,
            "description_tooltip": null,
            "_model_module": "@jupyter-widgets/controls",
            "layout": "IPY_MODEL_8c4c1f213de044ed926b38f1cfd26086"
          }
        },
        "e4d8ac733697419080d472e7518e56dd": {
          "model_module": "@jupyter-widgets/controls",
          "model_name": "HTMLModel",
          "state": {
            "_view_name": "HTMLView",
            "style": "IPY_MODEL_1fc1e045e9724c379c0458b1fc8ce558",
            "_dom_classes": [],
            "description": "",
            "_model_name": "HTMLModel",
            "placeholder": "​",
            "_view_module": "@jupyter-widgets/controls",
            "_model_module_version": "1.5.0",
            "value": " 10/10 [00:44&lt;00:00,  4.48s/it]",
            "_view_count": null,
            "_view_module_version": "1.5.0",
            "description_tooltip": null,
            "_model_module": "@jupyter-widgets/controls",
            "layout": "IPY_MODEL_9c733de0c4b2459faf2da240000f0150"
          }
        },
        "39d295200dec48b0afe6cf4357a3e5ce": {
          "model_module": "@jupyter-widgets/controls",
          "model_name": "ProgressStyleModel",
          "state": {
            "_view_name": "StyleView",
            "_model_name": "ProgressStyleModel",
            "description_width": "initial",
            "_view_module": "@jupyter-widgets/base",
            "_model_module_version": "1.5.0",
            "_view_count": null,
            "_view_module_version": "1.2.0",
            "bar_color": null,
            "_model_module": "@jupyter-widgets/controls"
          }
        },
        "8c4c1f213de044ed926b38f1cfd26086": {
          "model_module": "@jupyter-widgets/base",
          "model_name": "LayoutModel",
          "state": {
            "_view_name": "LayoutView",
            "grid_template_rows": null,
            "right": null,
            "justify_content": null,
            "_view_module": "@jupyter-widgets/base",
            "overflow": null,
            "_model_module_version": "1.2.0",
            "_view_count": null,
            "flex_flow": null,
            "width": null,
            "min_width": null,
            "border": null,
            "align_items": null,
            "bottom": null,
            "_model_module": "@jupyter-widgets/base",
            "top": null,
            "grid_column": null,
            "overflow_y": null,
            "overflow_x": null,
            "grid_auto_flow": null,
            "grid_area": null,
            "grid_template_columns": null,
            "flex": null,
            "_model_name": "LayoutModel",
            "justify_items": null,
            "grid_row": null,
            "max_height": null,
            "align_content": null,
            "visibility": null,
            "align_self": null,
            "height": null,
            "min_height": null,
            "padding": null,
            "grid_auto_rows": null,
            "grid_gap": null,
            "max_width": null,
            "order": null,
            "_view_module_version": "1.2.0",
            "grid_template_areas": null,
            "object_position": null,
            "object_fit": null,
            "grid_auto_columns": null,
            "margin": null,
            "display": null,
            "left": null
          }
        },
        "1fc1e045e9724c379c0458b1fc8ce558": {
          "model_module": "@jupyter-widgets/controls",
          "model_name": "DescriptionStyleModel",
          "state": {
            "_view_name": "StyleView",
            "_model_name": "DescriptionStyleModel",
            "description_width": "",
            "_view_module": "@jupyter-widgets/base",
            "_model_module_version": "1.5.0",
            "_view_count": null,
            "_view_module_version": "1.2.0",
            "_model_module": "@jupyter-widgets/controls"
          }
        },
        "9c733de0c4b2459faf2da240000f0150": {
          "model_module": "@jupyter-widgets/base",
          "model_name": "LayoutModel",
          "state": {
            "_view_name": "LayoutView",
            "grid_template_rows": null,
            "right": null,
            "justify_content": null,
            "_view_module": "@jupyter-widgets/base",
            "overflow": null,
            "_model_module_version": "1.2.0",
            "_view_count": null,
            "flex_flow": null,
            "width": null,
            "min_width": null,
            "border": null,
            "align_items": null,
            "bottom": null,
            "_model_module": "@jupyter-widgets/base",
            "top": null,
            "grid_column": null,
            "overflow_y": null,
            "overflow_x": null,
            "grid_auto_flow": null,
            "grid_area": null,
            "grid_template_columns": null,
            "flex": null,
            "_model_name": "LayoutModel",
            "justify_items": null,
            "grid_row": null,
            "max_height": null,
            "align_content": null,
            "visibility": null,
            "align_self": null,
            "height": null,
            "min_height": null,
            "padding": null,
            "grid_auto_rows": null,
            "grid_gap": null,
            "max_width": null,
            "order": null,
            "_view_module_version": "1.2.0",
            "grid_template_areas": null,
            "object_position": null,
            "object_fit": null,
            "grid_auto_columns": null,
            "margin": null,
            "display": null,
            "left": null
          }
        },
        "4d93802665ad42868c31f88159e76db5": {
          "model_module": "@jupyter-widgets/controls",
          "model_name": "HBoxModel",
          "state": {
            "_view_name": "HBoxView",
            "_dom_classes": [],
            "_model_name": "HBoxModel",
            "_view_module": "@jupyter-widgets/controls",
            "_model_module_version": "1.5.0",
            "_view_count": null,
            "_view_module_version": "1.5.0",
            "box_style": "",
            "layout": "IPY_MODEL_e8649adb2613482ab64747cf3a87763f",
            "_model_module": "@jupyter-widgets/controls",
            "children": [
              "IPY_MODEL_57134d8fbcdf499e9064e18627735250",
              "IPY_MODEL_ceceeb5741f34d248a088454141b8bb7"
            ]
          }
        },
        "e8649adb2613482ab64747cf3a87763f": {
          "model_module": "@jupyter-widgets/base",
          "model_name": "LayoutModel",
          "state": {
            "_view_name": "LayoutView",
            "grid_template_rows": null,
            "right": null,
            "justify_content": null,
            "_view_module": "@jupyter-widgets/base",
            "overflow": null,
            "_model_module_version": "1.2.0",
            "_view_count": null,
            "flex_flow": null,
            "width": null,
            "min_width": null,
            "border": null,
            "align_items": null,
            "bottom": null,
            "_model_module": "@jupyter-widgets/base",
            "top": null,
            "grid_column": null,
            "overflow_y": null,
            "overflow_x": null,
            "grid_auto_flow": null,
            "grid_area": null,
            "grid_template_columns": null,
            "flex": null,
            "_model_name": "LayoutModel",
            "justify_items": null,
            "grid_row": null,
            "max_height": null,
            "align_content": null,
            "visibility": null,
            "align_self": null,
            "height": null,
            "min_height": null,
            "padding": null,
            "grid_auto_rows": null,
            "grid_gap": null,
            "max_width": null,
            "order": null,
            "_view_module_version": "1.2.0",
            "grid_template_areas": null,
            "object_position": null,
            "object_fit": null,
            "grid_auto_columns": null,
            "margin": null,
            "display": null,
            "left": null
          }
        },
        "57134d8fbcdf499e9064e18627735250": {
          "model_module": "@jupyter-widgets/controls",
          "model_name": "FloatProgressModel",
          "state": {
            "_view_name": "ProgressView",
            "style": "IPY_MODEL_6754045be6ef4452b631d2b7611bdc13",
            "_dom_classes": [],
            "description": "100%",
            "_model_name": "FloatProgressModel",
            "bar_style": "success",
            "max": 10,
            "_view_module": "@jupyter-widgets/controls",
            "_model_module_version": "1.5.0",
            "value": 10,
            "_view_count": null,
            "_view_module_version": "1.5.0",
            "orientation": "horizontal",
            "min": 0,
            "description_tooltip": null,
            "_model_module": "@jupyter-widgets/controls",
            "layout": "IPY_MODEL_511a63444cc14170a5f7045dafc46729"
          }
        },
        "ceceeb5741f34d248a088454141b8bb7": {
          "model_module": "@jupyter-widgets/controls",
          "model_name": "HTMLModel",
          "state": {
            "_view_name": "HTMLView",
            "style": "IPY_MODEL_1c4e476ce5ad4c9c9a1f08d55c0412a0",
            "_dom_classes": [],
            "description": "",
            "_model_name": "HTMLModel",
            "placeholder": "​",
            "_view_module": "@jupyter-widgets/controls",
            "_model_module_version": "1.5.0",
            "value": " 10/10 [00:03&lt;00:00,  3.14it/s]",
            "_view_count": null,
            "_view_module_version": "1.5.0",
            "description_tooltip": null,
            "_model_module": "@jupyter-widgets/controls",
            "layout": "IPY_MODEL_e9728e5bb4294f139b52787fa26f7f0c"
          }
        },
        "6754045be6ef4452b631d2b7611bdc13": {
          "model_module": "@jupyter-widgets/controls",
          "model_name": "ProgressStyleModel",
          "state": {
            "_view_name": "StyleView",
            "_model_name": "ProgressStyleModel",
            "description_width": "initial",
            "_view_module": "@jupyter-widgets/base",
            "_model_module_version": "1.5.0",
            "_view_count": null,
            "_view_module_version": "1.2.0",
            "bar_color": null,
            "_model_module": "@jupyter-widgets/controls"
          }
        },
        "511a63444cc14170a5f7045dafc46729": {
          "model_module": "@jupyter-widgets/base",
          "model_name": "LayoutModel",
          "state": {
            "_view_name": "LayoutView",
            "grid_template_rows": null,
            "right": null,
            "justify_content": null,
            "_view_module": "@jupyter-widgets/base",
            "overflow": null,
            "_model_module_version": "1.2.0",
            "_view_count": null,
            "flex_flow": null,
            "width": null,
            "min_width": null,
            "border": null,
            "align_items": null,
            "bottom": null,
            "_model_module": "@jupyter-widgets/base",
            "top": null,
            "grid_column": null,
            "overflow_y": null,
            "overflow_x": null,
            "grid_auto_flow": null,
            "grid_area": null,
            "grid_template_columns": null,
            "flex": null,
            "_model_name": "LayoutModel",
            "justify_items": null,
            "grid_row": null,
            "max_height": null,
            "align_content": null,
            "visibility": null,
            "align_self": null,
            "height": null,
            "min_height": null,
            "padding": null,
            "grid_auto_rows": null,
            "grid_gap": null,
            "max_width": null,
            "order": null,
            "_view_module_version": "1.2.0",
            "grid_template_areas": null,
            "object_position": null,
            "object_fit": null,
            "grid_auto_columns": null,
            "margin": null,
            "display": null,
            "left": null
          }
        },
        "1c4e476ce5ad4c9c9a1f08d55c0412a0": {
          "model_module": "@jupyter-widgets/controls",
          "model_name": "DescriptionStyleModel",
          "state": {
            "_view_name": "StyleView",
            "_model_name": "DescriptionStyleModel",
            "description_width": "",
            "_view_module": "@jupyter-widgets/base",
            "_model_module_version": "1.5.0",
            "_view_count": null,
            "_view_module_version": "1.2.0",
            "_model_module": "@jupyter-widgets/controls"
          }
        },
        "e9728e5bb4294f139b52787fa26f7f0c": {
          "model_module": "@jupyter-widgets/base",
          "model_name": "LayoutModel",
          "state": {
            "_view_name": "LayoutView",
            "grid_template_rows": null,
            "right": null,
            "justify_content": null,
            "_view_module": "@jupyter-widgets/base",
            "overflow": null,
            "_model_module_version": "1.2.0",
            "_view_count": null,
            "flex_flow": null,
            "width": null,
            "min_width": null,
            "border": null,
            "align_items": null,
            "bottom": null,
            "_model_module": "@jupyter-widgets/base",
            "top": null,
            "grid_column": null,
            "overflow_y": null,
            "overflow_x": null,
            "grid_auto_flow": null,
            "grid_area": null,
            "grid_template_columns": null,
            "flex": null,
            "_model_name": "LayoutModel",
            "justify_items": null,
            "grid_row": null,
            "max_height": null,
            "align_content": null,
            "visibility": null,
            "align_self": null,
            "height": null,
            "min_height": null,
            "padding": null,
            "grid_auto_rows": null,
            "grid_gap": null,
            "max_width": null,
            "order": null,
            "_view_module_version": "1.2.0",
            "grid_template_areas": null,
            "object_position": null,
            "object_fit": null,
            "grid_auto_columns": null,
            "margin": null,
            "display": null,
            "left": null
          }
        }
      }
    }
  },
  "cells": [
    {
      "cell_type": "markdown",
      "metadata": {
        "id": "view-in-github",
        "colab_type": "text"
      },
      "source": [
        "<a href=\"https://colab.research.google.com/github/JaimeRedondo/Mushrooms_Classification/blob/master/Mushrooms_Classification.ipynb\" target=\"_parent\"><img src=\"https://colab.research.google.com/assets/colab-badge.svg\" alt=\"Open In Colab\"/></a>"
      ]
    },
    {
      "cell_type": "code",
      "metadata": {
        "colab": {
          "base_uri": "https://localhost:8080/"
        },
        "id": "vz6dxutvauCY",
        "outputId": "80d79363-f9b7-4669-8bff-eba9248c22e1"
      },
      "source": [
        "#We can search images from Bing, better option because it works.\n",
        "! pip install bing-image-downloader\n",
        "! pip install opencv-python\n",
        "#instalo open cv\n",
        "from matplotlib import image\n",
        "from matplotlib import pyplot\n",
        "from skimage import io\n",
        "import cv2\n",
        "import os\n",
        "! pip install tensorflow\n",
        "\n",
        "import tensorflow as tf\n",
        "#Packages\n",
        "#--Web scraping packages\n",
        "from bs4 import BeautifulSoup\n",
        "import requests\n",
        "#Pandas/numpy for data manipulation\n",
        "import pandas as pd\n",
        "import numpy as np\n",
        "from urllib.request import urlopen\n",
        "from bing_image_downloader import downloader\n",
        "from tqdm.notebook import tqdm\n",
        "from time import sleep \n",
        "\n",
        "#import libraries I want.\n",
        "from tensorflow.keras import optimizers\n",
        "from tensorflow.keras import losses\n",
        "from tensorflow.keras import metrics\n",
        "from tensorflow.keras.utils import to_categorical\n",
        "from tensorflow.keras import models\n",
        "from tensorflow.keras import layers\n",
        "from tensorflow.keras import Input\n",
        "\n",
        "%pylab inline\n",
        "plt.style.use('seaborn-talk')"
      ],
      "execution_count": 1,
      "outputs": [
        {
          "output_type": "stream",
          "text": [
            "Collecting bing-image-downloader\n",
            "  Downloading https://files.pythonhosted.org/packages/0d/bf/537a61030b84ae4cd5022d5c7b014fd9bc3ce7c02358919153a6658a61d3/bing_image_downloader-1.0.4-py3-none-any.whl\n",
            "Installing collected packages: bing-image-downloader\n",
            "Successfully installed bing-image-downloader-1.0.4\n",
            "Requirement already satisfied: opencv-python in /usr/local/lib/python3.6/dist-packages (4.1.2.30)\n",
            "Requirement already satisfied: numpy>=1.11.3 in /usr/local/lib/python3.6/dist-packages (from opencv-python) (1.19.5)\n",
            "Requirement already satisfied: tensorflow in /usr/local/lib/python3.6/dist-packages (2.4.0)\n",
            "Requirement already satisfied: numpy~=1.19.2 in /usr/local/lib/python3.6/dist-packages (from tensorflow) (1.19.5)\n",
            "Requirement already satisfied: absl-py~=0.10 in /usr/local/lib/python3.6/dist-packages (from tensorflow) (0.10.0)\n",
            "Requirement already satisfied: termcolor~=1.1.0 in /usr/local/lib/python3.6/dist-packages (from tensorflow) (1.1.0)\n",
            "Requirement already satisfied: tensorboard~=2.4 in /usr/local/lib/python3.6/dist-packages (from tensorflow) (2.4.0)\n",
            "Requirement already satisfied: flatbuffers~=1.12.0 in /usr/local/lib/python3.6/dist-packages (from tensorflow) (1.12)\n",
            "Requirement already satisfied: wrapt~=1.12.1 in /usr/local/lib/python3.6/dist-packages (from tensorflow) (1.12.1)\n",
            "Requirement already satisfied: typing-extensions~=3.7.4 in /usr/local/lib/python3.6/dist-packages (from tensorflow) (3.7.4.3)\n",
            "Requirement already satisfied: astunparse~=1.6.3 in /usr/local/lib/python3.6/dist-packages (from tensorflow) (1.6.3)\n",
            "Requirement already satisfied: gast==0.3.3 in /usr/local/lib/python3.6/dist-packages (from tensorflow) (0.3.3)\n",
            "Requirement already satisfied: six~=1.15.0 in /usr/local/lib/python3.6/dist-packages (from tensorflow) (1.15.0)\n",
            "Requirement already satisfied: grpcio~=1.32.0 in /usr/local/lib/python3.6/dist-packages (from tensorflow) (1.32.0)\n",
            "Requirement already satisfied: tensorflow-estimator<2.5.0,>=2.4.0rc0 in /usr/local/lib/python3.6/dist-packages (from tensorflow) (2.4.0)\n",
            "Requirement already satisfied: h5py~=2.10.0 in /usr/local/lib/python3.6/dist-packages (from tensorflow) (2.10.0)\n",
            "Requirement already satisfied: opt-einsum~=3.3.0 in /usr/local/lib/python3.6/dist-packages (from tensorflow) (3.3.0)\n",
            "Requirement already satisfied: google-pasta~=0.2 in /usr/local/lib/python3.6/dist-packages (from tensorflow) (0.2.0)\n",
            "Requirement already satisfied: wheel~=0.35 in /usr/local/lib/python3.6/dist-packages (from tensorflow) (0.36.2)\n",
            "Requirement already satisfied: protobuf>=3.9.2 in /usr/local/lib/python3.6/dist-packages (from tensorflow) (3.12.4)\n",
            "Requirement already satisfied: keras-preprocessing~=1.1.2 in /usr/local/lib/python3.6/dist-packages (from tensorflow) (1.1.2)\n",
            "Requirement already satisfied: google-auth<2,>=1.6.3 in /usr/local/lib/python3.6/dist-packages (from tensorboard~=2.4->tensorflow) (1.17.2)\n",
            "Requirement already satisfied: tensorboard-plugin-wit>=1.6.0 in /usr/local/lib/python3.6/dist-packages (from tensorboard~=2.4->tensorflow) (1.7.0)\n",
            "Requirement already satisfied: werkzeug>=0.11.15 in /usr/local/lib/python3.6/dist-packages (from tensorboard~=2.4->tensorflow) (1.0.1)\n",
            "Requirement already satisfied: requests<3,>=2.21.0 in /usr/local/lib/python3.6/dist-packages (from tensorboard~=2.4->tensorflow) (2.23.0)\n",
            "Requirement already satisfied: markdown>=2.6.8 in /usr/local/lib/python3.6/dist-packages (from tensorboard~=2.4->tensorflow) (3.3.3)\n",
            "Requirement already satisfied: setuptools>=41.0.0 in /usr/local/lib/python3.6/dist-packages (from tensorboard~=2.4->tensorflow) (51.3.3)\n",
            "Requirement already satisfied: google-auth-oauthlib<0.5,>=0.4.1 in /usr/local/lib/python3.6/dist-packages (from tensorboard~=2.4->tensorflow) (0.4.2)\n",
            "Requirement already satisfied: cachetools<5.0,>=2.0.0 in /usr/local/lib/python3.6/dist-packages (from google-auth<2,>=1.6.3->tensorboard~=2.4->tensorflow) (4.2.0)\n",
            "Requirement already satisfied: pyasn1-modules>=0.2.1 in /usr/local/lib/python3.6/dist-packages (from google-auth<2,>=1.6.3->tensorboard~=2.4->tensorflow) (0.2.8)\n",
            "Requirement already satisfied: rsa<5,>=3.1.4; python_version >= \"3\" in /usr/local/lib/python3.6/dist-packages (from google-auth<2,>=1.6.3->tensorboard~=2.4->tensorflow) (4.6)\n",
            "Requirement already satisfied: urllib3!=1.25.0,!=1.25.1,<1.26,>=1.21.1 in /usr/local/lib/python3.6/dist-packages (from requests<3,>=2.21.0->tensorboard~=2.4->tensorflow) (1.24.3)\n",
            "Requirement already satisfied: certifi>=2017.4.17 in /usr/local/lib/python3.6/dist-packages (from requests<3,>=2.21.0->tensorboard~=2.4->tensorflow) (2020.12.5)\n",
            "Requirement already satisfied: chardet<4,>=3.0.2 in /usr/local/lib/python3.6/dist-packages (from requests<3,>=2.21.0->tensorboard~=2.4->tensorflow) (3.0.4)\n",
            "Requirement already satisfied: idna<3,>=2.5 in /usr/local/lib/python3.6/dist-packages (from requests<3,>=2.21.0->tensorboard~=2.4->tensorflow) (2.10)\n",
            "Requirement already satisfied: importlib-metadata; python_version < \"3.8\" in /usr/local/lib/python3.6/dist-packages (from markdown>=2.6.8->tensorboard~=2.4->tensorflow) (3.3.0)\n",
            "Requirement already satisfied: requests-oauthlib>=0.7.0 in /usr/local/lib/python3.6/dist-packages (from google-auth-oauthlib<0.5,>=0.4.1->tensorboard~=2.4->tensorflow) (1.3.0)\n",
            "Requirement already satisfied: pyasn1<0.5.0,>=0.4.6 in /usr/local/lib/python3.6/dist-packages (from pyasn1-modules>=0.2.1->google-auth<2,>=1.6.3->tensorboard~=2.4->tensorflow) (0.4.8)\n",
            "Requirement already satisfied: zipp>=0.5 in /usr/local/lib/python3.6/dist-packages (from importlib-metadata; python_version < \"3.8\"->markdown>=2.6.8->tensorboard~=2.4->tensorflow) (3.4.0)\n",
            "Requirement already satisfied: oauthlib>=3.0.0 in /usr/local/lib/python3.6/dist-packages (from requests-oauthlib>=0.7.0->google-auth-oauthlib<0.5,>=0.4.1->tensorboard~=2.4->tensorflow) (3.1.0)\n",
            "Populating the interactive namespace from numpy and matplotlib\n"
          ],
          "name": "stdout"
        }
      ]
    },
    {
      "cell_type": "markdown",
      "metadata": {
        "id": "6YlGuovebGvf"
      },
      "source": [
        "# Define Functions"
      ]
    },
    {
      "cell_type": "markdown",
      "metadata": {
        "id": "IRi-WmojbdU_"
      },
      "source": [
        "Web Scraping to have enough mushrooms types."
      ]
    },
    {
      "cell_type": "code",
      "metadata": {
        "id": "x3d_01ofbZeS"
      },
      "source": [
        "def scraping_mushrooms():    \n",
        "    clean_titles_all=pd.DataFrame()\n",
        "    titles=['Final']\n",
        "    url = 'https://www.fungipedia.org/hongos.html?start=0'\n",
        "\n",
        "    while 'Final' in list(titles):\n",
        "        html = urlopen(url)\n",
        "        soup = BeautifulSoup(html, 'lxml')\n",
        "    \n",
        "    ## getting the web titles\n",
        "        titles=[]\n",
        "        all_links = soup.find_all(\"a\")\n",
        "        for link in all_links:\n",
        "            titles.append(link.get(\"title\"))\n",
        "        \n",
        "        titles=pd.Series(titles).apply(str)\n",
        "    \n",
        "        titles=titles[titles!='None']\n",
        "    \n",
        "        titles_df=titles.reset_index()\n",
        "    \n",
        "        for phrase in titles_df[0]:\n",
        "            if phrase =='Catálogo de Setas y Hongos':\n",
        "                numero=int((titles_df[titles_df[0]==phrase]['index']))\n",
        "            else:\n",
        "                continue\n",
        "            \n",
        "        titles=titles[titles.index > numero]\n",
        "    \n",
        "        clean_titles=titles[titles.str.len()>6][:-1]\n",
        "    \n",
        "        clean_titles=clean_titles.to_frame()\n",
        "    \n",
        "        siguiente = '='+str(int(url.split('=')[1])+20)\n",
        "    \n",
        "        url = url.split('=')[0] + siguiente\n",
        "    \n",
        "        clean_titles_all = clean_titles_all.append(clean_titles)\n",
        "    \n",
        "    clean_titles_all=clean_titles_all.reset_index()\n",
        "\n",
        "    del clean_titles_all['index']\n",
        "\n",
        "    lista_setas = clean_titles_all[0]\n",
        "\n",
        "    lista_setas=list(lista_setas)\n",
        "    \n",
        "    return lista_setas\n"
      ],
      "execution_count": 2,
      "outputs": []
    },
    {
      "cell_type": "markdown",
      "metadata": {
        "id": "Ct6hNe9VcNIU"
      },
      "source": [
        "Download Images From an Internet Browser (Bing)"
      ]
    },
    {
      "cell_type": "code",
      "metadata": {
        "id": "tTdr6mmpcMLx"
      },
      "source": [
        "#keep 1 photo of ecah mushroom,##write a list of things in the input of searcher:\n",
        "def searcher_downloader(lista):\n",
        "    for seta in tqdm(lista):\n",
        "        try:\n",
        "            downloader.download(seta, limit=20,  output_dir='dataset', \n",
        "            adult_filter_off=True, force_replace=False, timeout=60)\n",
        "        except:\n",
        "            print(\"esta no puedo\")\n",
        "    print(\"I'm done\")"
      ],
      "execution_count": 3,
      "outputs": []
    },
    {
      "cell_type": "markdown",
      "metadata": {
        "id": "OvYPCx_AcXIy"
      },
      "source": [
        "Standarize the images downloaded"
      ]
    },
    {
      "cell_type": "code",
      "metadata": {
        "id": "THnbjrC2cGuq"
      },
      "source": [
        "#estandarizamos nombres de fotos\n",
        "def standarize_names(directory):\n",
        "    for folder in tqdm(directory):\n",
        "        directorio = os.listdir('dataset/'+folder)\n",
        "        for image in directorio:     \n",
        "            if image.split('.')[1] == 'jpg':\n",
        "                continue\n",
        "            else:\n",
        "                image_new=image.split('.')[0] + '.jpg'\n",
        "                os.rename('dataset/'+folder+'/'+image, 'dataset/'+folder+'/'+image_new)"
      ],
      "execution_count": 4,
      "outputs": []
    },
    {
      "cell_type": "code",
      "metadata": {
        "id": "dUA60EsMcdfz"
      },
      "source": [
        "#resize all images shape in 200x200 and print what photos are not available\n",
        "def resize_photos(directory):\n",
        "    for folder in tqdm(directory):\n",
        "        for numero in range(20):\n",
        "            try:\n",
        "                route = \"dataset/\" + folder +'/Image_'+ str(numero+1) + '.jpg'\n",
        "                data_picture = io.imread(route)\n",
        "                data_picture = cv2.resize(data_picture, (200, 200))\n",
        "                # save the images\n",
        "                cv2.imwrite(route,data_picture)\n",
        "            except:  \n",
        "                print(\"imagen \"+str(numero+1)+' de la seta '+folder+' no está disponible')"
      ],
      "execution_count": 5,
      "outputs": []
    },
    {
      "cell_type": "code",
      "metadata": {
        "id": "_9YK6V0rcfxG"
      },
      "source": [
        "#standarize 0_255 pixels to 0 - 1.\n",
        "lista=[]\n",
        "def standarize_pixels(directory):\n",
        "    for folder in tqdm(directory):\n",
        "        for numero in range(20):\n",
        "            try:\n",
        "                route = \"dataset/\" + folder +'/Image_'+ str(numero+1) + '.jpg'\n",
        "                image_rgb=io.imread(route)/255.0\n",
        "                lista.append(image_rgb)\n",
        "            except:\n",
        "                print(folder+str(numero+1))"
      ],
      "execution_count": 6,
      "outputs": []
    },
    {
      "cell_type": "code",
      "metadata": {
        "id": "J5Qbupk3c5nv"
      },
      "source": [
        "def standarize_photos(directory):\n",
        "    print(\"renombrando...\")\n",
        "    standarize_names(directory)\n",
        "    print(\"homogeneizando tamaño fotos...\")\n",
        "    resize_photos(directory)\n",
        "    print(\"estandarizando pixels...\")\n",
        "    standarize_pixels(directory)"
      ],
      "execution_count": 7,
      "outputs": []
    },
    {
      "cell_type": "code",
      "metadata": {
        "id": "d8h0G2Kbc7px"
      },
      "source": [
        "def comprobar_longitudes_carpetas(directorio):\n",
        "    for folder in directorio:\n",
        "        print(folder + ' '+str(len(os.listdir(\"dataset/\" + folder))))"
      ],
      "execution_count": 8,
      "outputs": []
    },
    {
      "cell_type": "code",
      "metadata": {
        "id": "5NN3vxsvc-Nk"
      },
      "source": [
        "def plot_mushroom_image(N, imgs, labels):\n",
        "    print(labels[N])\n",
        "    plt.imshow(imgs[N,], cmap=plt.cm.binary)\n",
        "    plt.grid(True)"
      ],
      "execution_count": 9,
      "outputs": []
    },
    {
      "cell_type": "markdown",
      "metadata": {
        "id": "59p_-UwxdCx2"
      },
      "source": [
        "### Apply the def functions"
      ]
    },
    {
      "cell_type": "code",
      "metadata": {
        "id": "Smt0JB4GdAAY"
      },
      "source": [
        "lista_setas=scraping_mushrooms()"
      ],
      "execution_count": 10,
      "outputs": []
    },
    {
      "cell_type": "code",
      "metadata": {
        "id": "L9TEtx6xdF3m"
      },
      "source": [
        "lista_setas_2=lista_setas[0:10]\n",
        "#primero lo hare con unm muestra"
      ],
      "execution_count": 11,
      "outputs": []
    },
    {
      "cell_type": "code",
      "metadata": {
        "colab": {
          "base_uri": "https://localhost:8080/"
        },
        "id": "0j5nIrhXdJAv",
        "outputId": "c529daec-82f2-42d9-dc38-097912948c8b"
      },
      "source": [
        "lista_setas_2"
      ],
      "execution_count": 12,
      "outputs": [
        {
          "output_type": "execute_result",
          "data": {
            "text/plain": [
              "['Abortiporus biennis',\n",
              " 'Adelphella babingtonii',\n",
              " 'Agaricus arvensis',\n",
              " 'Agaricus campestris',\n",
              " 'Agaricus litoralis',\n",
              " 'Agaricus sylvaticus',\n",
              " 'Agaricus sylvicola',\n",
              " 'Agaricus urinascens',\n",
              " 'Agaricus xanthodermus',\n",
              " 'Agrocybe praecox']"
            ]
          },
          "metadata": {
            "tags": []
          },
          "execution_count": 12
        }
      ]
    },
    {
      "cell_type": "code",
      "metadata": {
        "colab": {
          "base_uri": "https://localhost:8080/",
          "height": 1000,
          "referenced_widgets": [
            "d11f138467e04dd98fd4b6e9fd31ee59",
            "e7bce37655244163a72c8c48beda30ec",
            "ae682d336b7a4fb1ac41655583bd4a3c",
            "d1fe446b97b444289136c5dc52cf8e60",
            "5023d821ae9f4e8abec2372da6a72050",
            "49827430940e4844b26ac6821a4b0287",
            "0152a52586ea4c3cbaf551a0b090e71b",
            "57306a3b0aae4bfa909159fa3645e18a"
          ]
        },
        "id": "v4nFJPozdK2w",
        "outputId": "3f805534-8462-4f41-d2fb-9d5bfa871591"
      },
      "source": [
        "searcher_downloader(lista_setas_2)"
      ],
      "execution_count": 14,
      "outputs": [
        {
          "output_type": "display_data",
          "data": {
            "application/vnd.jupyter.widget-view+json": {
              "model_id": "d11f138467e04dd98fd4b6e9fd31ee59",
              "version_minor": 0,
              "version_major": 2
            },
            "text/plain": [
              "HBox(children=(FloatProgress(value=0.0, max=10.0), HTML(value='')))"
            ]
          },
          "metadata": {
            "tags": []
          }
        },
        {
          "output_type": "stream",
          "text": [
            "\n",
            "\n",
            "[!!]Indexing page: 1\n",
            "\n",
            "[%] Indexed 20 Images on Page 1.\n",
            "\n",
            "===============================================\n",
            "\n",
            "[%] Downloading Image #1 from https://upload.wikimedia.org/wikipedia/commons/2/25/Abortiporus_biennis_197275.jpg\n",
            "[%] File Downloaded !\n",
            "\n",
            "[%] Downloading Image #2 from https://genome.jgi.doe.gov/public/Abobi1/03.JPG;jsessionid=BA3393281A93E12E8F769D49DDEF7D04\n",
            "[%] File Downloaded !\n",
            "\n",
            "[%] Downloading Image #3 from https://upload.wikimedia.org/wikipedia/commons/6/6e/Abortiporus_biennis_179245.jpg\n",
            "[%] File Downloaded !\n",
            "\n",
            "[%] Downloading Image #4 from https://i.pinimg.com/originals/d5/1b/4e/d51b4e4665005a5545ec757f5d25edda.jpg\n",
            "[%] File Downloaded !\n",
            "\n",
            "[%] Downloading Image #5 from http://calphotos.berkeley.edu/imgs/512x768/0000_0000/1109/0479.jpeg\n",
            "[%] File Downloaded !\n",
            "\n",
            "[%] Downloading Image #6 from https://objects.liquidweb.services/images/201612/richard_orr_29822080860_ea30c0a691_b.jpg\n",
            "[%] File Downloaded !\n",
            "\n",
            "[%] Downloading Image #7 from https://wpamushroomclub.org/wp-content/uploads/2019/08/Abortiporus-biennis.-By-Erin-Nihiser.jpg\n",
            "[%] File Downloaded !\n",
            "\n",
            "[%] Downloading Image #8 from https://upload.wikimedia.org/wikipedia/commons/thumb/4/46/Abortiporus_biennis_161023wa.jpg/1200px-Abortiporus_biennis_161023wa.jpg\n",
            "[Error]Invalid image, not saving https://upload.wikimedia.org/wikipedia/commons/thumb/4/46/Abortiporus_biennis_161023wa.jpg/1200px-Abortiporus_biennis_161023wa.jpg\n",
            "\n",
            "[!] Issue getting: https://upload.wikimedia.org/wikipedia/commons/thumb/4/46/Abortiporus_biennis_161023wa.jpg/1200px-Abortiporus_biennis_161023wa.jpg\n",
            "[!] Error:: No active exception to reraise\n",
            "[%] Downloading Image #8 from https://www.first-nature.com/fungi/images/meruliaceae/abortiporus-biennis5.jpg\n",
            "[%] File Downloaded !\n",
            "\n",
            "[%] Downloading Image #9 from http://amatafoto.it/images/abortiporus-biennis--1-.jpg\n",
            "[%] File Downloaded !\n",
            "\n",
            "[%] Downloading Image #10 from https://i.pinimg.com/originals/99/d4/39/99d43955630b0f3706fae9b6f18f3196.jpg\n",
            "[%] File Downloaded !\n",
            "\n",
            "[%] Downloading Image #11 from http://mycoweb2.narod.ru/Submitted/BVN/Abortiporus_biennis_2_BVN_2016.jpg\n",
            "[%] File Downloaded !\n",
            "\n",
            "[%] Downloading Image #12 from https://mycodb.fr/photos/Abortiporus_biennis_1987_dr_1.jpg\n",
            "[%] File Downloaded !\n",
            "\n",
            "[%] Downloading Image #13 from https://image.jimcdn.com/app/cms/image/transf/dimension=1920x400:format=jpg/path/s47ee48b580287011/image/i38cbf359d22d37c2/version/1493055980/image.jpg\n",
            "[%] File Downloaded !\n",
            "\n",
            "[%] Downloading Image #14 from https://upload.wikimedia.org/wikipedia/commons/6/6d/Abortiporus_biennis_184698.jpg\n",
            "[%] File Downloaded !\n",
            "\n",
            "[%] Downloading Image #15 from https://www.asturnatura.com/photo/_files/photogallery/fdec632b380fe675f4943c886c2dd070.jpg\n",
            "[%] File Downloaded !\n",
            "\n",
            "[%] Downloading Image #16 from http://www.mushroomexpert.com/images/kuo2/abortiporus_biennis_01.jpg\n",
            "[%] File Downloaded !\n",
            "\n",
            "[%] Downloading Image #17 from http://warehouse1.indicia.org.uk/upload/p16f1d5bv21msg1g93jl512se53i2.jpg\n",
            "[%] File Downloaded !\n",
            "\n",
            "[%] Downloading Image #18 from http://i1.treknature.com/photos/14710/labyrint.jpg\n",
            "[%] File Downloaded !\n",
            "\n",
            "[%] Downloading Image #19 from http://lh3.ggpht.com/-lx5D5w9KUP4/Uh846biqZiI/AAAAAAAAA7o/8TztqxNafck/Abortiporus_biennis2_thumb%25255B2%25255D.jpg?imgmax=800\n",
            "[%] File Downloaded !\n",
            "\n",
            "\n",
            "\n",
            "[!!]Indexing page: 2\n",
            "\n",
            "[%] Indexed 35 Images on Page 2.\n",
            "\n",
            "===============================================\n",
            "\n",
            "[%] Downloading Image #20 from https://upload.wikimedia.org/wikipedia/commons/2/25/Abortiporus_biennis_197275.jpg\n",
            "[%] File Downloaded !\n",
            "\n",
            "\n",
            "\n",
            "[%] Done. Downloaded 20 images.\n",
            "\n",
            "===============================================\n",
            "\n",
            "\n",
            "\n",
            "[!!]Indexing page: 1\n",
            "\n",
            "[%] Indexed 20 Images on Page 1.\n",
            "\n",
            "===============================================\n",
            "\n",
            "[%] Downloading Image #1 from http://www.mykoweb.com/CAF/photos/Adelphella_babingtoni_ mgw-01.jpg\n",
            "[!] Issue getting: http://www.mykoweb.com/CAF/photos/Adelphella_babingtoni_ mgw-01.jpg\n",
            "[!] Error:: URL can't contain control characters. '/CAF/photos/Adelphella_babingtoni_ mgw-01.jpg' (found at least ' ')\n",
            "[%] Downloading Image #1 from https://www.ilgiardinocommestibile.it/wp-content/uploads/2020/09/adelphella-babingtonii.jpg\n",
            "[%] File Downloaded !\n",
            "\n",
            "[%] Downloading Image #2 from https://www.fungipedia.org/images/galerias/adelphella_babingtonii/adelphella_babingtonii3.jpg\n",
            "[%] File Downloaded !\n",
            "\n",
            "[%] Downloading Image #3 from http://chawantake.sakura.ne.jp/image/Adelphella_babingtoniiL.jpg\n",
            "[%] File Downloaded !\n",
            "\n",
            "[%] Downloading Image #4 from http://manatarka.org/files/2015/08/Adelphellababingtonii1.jpg\n",
            "[%] File Downloaded !\n",
            "\n",
            "[%] Downloading Image #5 from https://www.mycodb.fr/photos/Adelphella_babingtonii_2007_jd_1.jpg\n",
            "[%] File Downloaded !\n",
            "\n",
            "[%] Downloading Image #6 from http://manatarka.org/files/2015/08/Adelphellababingtonii2.jpg\n",
            "[%] File Downloaded !\n",
            "\n",
            "[%] Downloading Image #7 from http://www.centrodeestudiosmicologicosasturianos.org/wp-content/uploads/2020/05/Adelphella-babingtonii.-Tineo-31-V-2006-madera-de-planifolio-300x199.jpg\n",
            "[%] File Downloaded !\n",
            "\n",
            "[%] Downloading Image #8 from http://pagan-cancan.by/species/Adelphella_babingtonii/img/Adelphella_babingtonii_DAY_05_Jun_2016_2.jpg\n",
            "[%] File Downloaded !\n",
            "\n",
            "[%] Downloading Image #9 from https://www.mycodb.fr/photos/Adelphella_babingtonii_2016_ym_1.jpg\n",
            "[%] File Downloaded !\n",
            "\n",
            "[%] Downloading Image #10 from https://www.fungipedia.org/images/galerias/adelphella_babingtonii/adelphella_babingtonii6.jpg\n",
            "[%] File Downloaded !\n",
            "\n",
            "[%] Downloading Image #11 from http://www.smbla.fr/medias/album/adelphella-babingtonii-3.JPG?fx=r_400_400\n",
            "[%] File Downloaded !\n",
            "\n",
            "[%] Downloading Image #12 from https://www.pharmanatur.com/Mycologie/Pachyella babingtonii 4.jpg\n",
            "[!] Issue getting: https://www.pharmanatur.com/Mycologie/Pachyella babingtonii 4.jpg\n",
            "[!] Error:: URL can't contain control characters. '/Mycologie/Pachyella babingtonii 4.jpg' (found at least ' ')\n",
            "[%] Downloading Image #12 from https://www.researchgate.net/profile/Oscar_Requejo/publication/323808636/figure/fig2/AS:631581244944414@1527592111317/Adelphella-babingtonii-LOU-Fungi-19770.png\n",
            "[%] File Downloaded !\n",
            "\n",
            "[%] Downloading Image #13 from https://www.fungipedia.org/media/kunena/attachments/62/Adelphellababingtonii_3.jpg\n",
            "[%] File Downloaded !\n",
            "\n",
            "[%] Downloading Image #14 from https://www.fungipedia.org/media/kunena/attachments/62/Adelphellababingtonii_2.jpg\n",
            "[%] File Downloaded !\n",
            "\n",
            "[%] Downloading Image #15 from https://www.pharmanatur.com/Mycologie/Pachyella babingtonii 7.jpg\n",
            "[!] Issue getting: https://www.pharmanatur.com/Mycologie/Pachyella babingtonii 7.jpg\n",
            "[!] Error:: URL can't contain control characters. '/Mycologie/Pachyella babingtonii 7.jpg' (found at least ' ')\n",
            "[%] Downloading Image #15 from https://www.fungipedia.org/images/miniaturas/adelphella_babingtonii1.jpg\n",
            "[%] File Downloaded !\n",
            "\n",
            "[%] Downloading Image #16 from https://live.staticflickr.com/410/18574351689_3d891e1f71_z.jpg\n",
            "[%] File Downloaded !\n",
            "\n",
            "[%] Downloading Image #17 from http://manatarka.org/files/2020/03/Adelphellababingtonii6.jpg\n",
            "[%] File Downloaded !\n",
            "\n",
            "\n",
            "\n",
            "[!!]Indexing page: 2\n",
            "\n",
            "[%] Indexed 35 Images on Page 2.\n",
            "\n",
            "===============================================\n",
            "\n",
            "[%] Downloading Image #18 from http://www.mykoweb.com/CAF/photos/Adelphella_babingtoni_ mgw-01.jpg\n",
            "[!] Issue getting: http://www.mykoweb.com/CAF/photos/Adelphella_babingtoni_ mgw-01.jpg\n",
            "[!] Error:: URL can't contain control characters. '/CAF/photos/Adelphella_babingtoni_ mgw-01.jpg' (found at least ' ')\n",
            "[%] Downloading Image #18 from https://www.ilgiardinocommestibile.it/wp-content/uploads/2020/09/adelphella-babingtonii.jpg\n",
            "[%] File Downloaded !\n",
            "\n",
            "[%] Downloading Image #19 from https://www.fungipedia.org/images/galerias/adelphella_babingtonii/adelphella_babingtonii3.jpg\n",
            "[%] File Downloaded !\n",
            "\n",
            "[%] Downloading Image #20 from http://chawantake.sakura.ne.jp/image/Adelphella_babingtoniiL.jpg\n",
            "[%] File Downloaded !\n",
            "\n",
            "\n",
            "\n",
            "[%] Done. Downloaded 20 images.\n",
            "\n",
            "===============================================\n",
            "\n",
            "\n",
            "\n",
            "[!!]Indexing page: 1\n",
            "\n",
            "[%] Indexed 20 Images on Page 1.\n",
            "\n",
            "===============================================\n",
            "\n",
            "[%] Downloading Image #1 from https://upload.wikimedia.org/wikipedia/commons/thumb/4/40/Pieczarka_polowa_vongrzanka.JPG/1200px-Pieczarka_polowa_vongrzanka.JPG\n",
            "[%] File Downloaded !\n",
            "\n",
            "[%] Downloading Image #2 from https://upload.wikimedia.org/wikipedia/commons/thumb/5/58/2008-08-Agaricus-Stuttgartx7.JPG/1200px-2008-08-Agaricus-Stuttgartx7.JPG\n",
            "[%] File Downloaded !\n",
            "\n",
            "[%] Downloading Image #3 from https://i.pinimg.com/originals/eb/e1/01/ebe101c62d7677686778efd6dabcfc16.jpg\n",
            "[%] File Downloaded !\n",
            "\n",
            "[%] Downloading Image #4 from https://www.mykoweb.com/CAF/photos/large/Agaricus_fissuratus_fs-11.jpg\n",
            "[%] File Downloaded !\n",
            "\n",
            "[%] Downloading Image #5 from http://www.discoverlife.org/IM/I_MWS/1063/640/Agaricus_arvensis,I_MWS106368.jpg\n",
            "[!] Issue getting: http://www.discoverlife.org/IM/I_MWS/1063/640/Agaricus_arvensis,I_MWS106368.jpg\n",
            "[!] Error:: <urlopen error [SSL: CERTIFICATE_VERIFY_FAILED] certificate verify failed (_ssl.c:852)>\n",
            "[%] Downloading Image #5 from https://funfungi.files.wordpress.com/2014/09/20140915_162305.jpg\n",
            "[%] File Downloaded !\n",
            "\n",
            "[%] Downloading Image #6 from https://files.shroomery.org/files/15-51/057072153-DSC_4826.jpg\n",
            "[%] File Downloaded !\n",
            "\n",
            "[%] Downloading Image #7 from https://funfungi.files.wordpress.com/2014/08/0243f-2014-05-242b13-49-35.jpg\n",
            "[%] File Downloaded !\n",
            "\n",
            "[%] Downloading Image #8 from http://steve.rogueleaf.com/wp-content/uploads/2010/10/20101028031025_img-0136.jpg\n",
            "[%] File Downloaded !\n",
            "\n",
            "[%] Downloading Image #9 from https://upload.wikimedia.org/wikipedia/commons/thumb/8/8b/2008-08-Agaricus-Stuttgart.JPG/1200px-2008-08-Agaricus-Stuttgart.JPG\n",
            "[%] File Downloaded !\n",
            "\n",
            "[%] Downloading Image #10 from http://asergeev.com/p/xl-2017-2118-23/saint_petersburg_russia-horse_mushrooms_agaricus_arvensis_lawn.jpg\n",
            "[%] File Downloaded !\n",
            "\n",
            "[%] Downloading Image #11 from https://ultimate-mushroom.com/uploads/posts/2020-10/1601544861_agaricus-arvensis-4.jpg\n",
            "[%] File Downloaded !\n",
            "\n",
            "[%] Downloading Image #12 from http://www.mykoweb.com/CAF/photos/large/Agaricus_fissuratus(fs-08).jpg\n",
            "[%] File Downloaded !\n",
            "\n",
            "[%] Downloading Image #13 from http://3.bp.blogspot.com/-ujfz6DFOPHs/T73A4aeqIlI/AAAAAAAAFPA/z2nY4AdaaAg/s1600/Agaricus%2Barvensis.jpg\n",
            "[%] File Downloaded !\n",
            "\n",
            "[%] Downloading Image #14 from http://www.mykoweb.com/CAF/photos/large/Agaricus_fissuratus_fs-09.jpg\n",
            "[%] File Downloaded !\n",
            "\n",
            "[%] Downloading Image #15 from http://www.mykoweb.com/CAF/photos/large/Agaricus_fissuratus(fs-07).jpg\n",
            "[%] File Downloaded !\n",
            "\n",
            "[%] Downloading Image #16 from https://i.ytimg.com/vi/5C4uABTDrS8/maxresdefault.jpg\n",
            "[%] File Downloaded !\n",
            "\n",
            "[%] Downloading Image #17 from http://www.mykoweb.com/CAF/photos/large/Agaricus_fissuratus_fs-12.jpg\n",
            "[%] File Downloaded !\n",
            "\n",
            "[%] Downloading Image #18 from https://www.first-nature.com/fungi/images/agaricaceae/agaricus-arvensis1.jpg\n",
            "[%] File Downloaded !\n",
            "\n",
            "[%] Downloading Image #19 from http://natures-restaurant-online.com/Agaricus_arvensis_Schaeff.jpg\n",
            "[%] File Downloaded !\n",
            "\n",
            "\n",
            "\n",
            "[!!]Indexing page: 2\n",
            "\n",
            "[%] Indexed 35 Images on Page 2.\n",
            "\n",
            "===============================================\n",
            "\n",
            "[%] Downloading Image #20 from https://upload.wikimedia.org/wikipedia/commons/thumb/4/40/Pieczarka_polowa_vongrzanka.JPG/1200px-Pieczarka_polowa_vongrzanka.JPG\n",
            "[%] File Downloaded !\n",
            "\n",
            "\n",
            "\n",
            "[%] Done. Downloaded 20 images.\n",
            "\n",
            "===============================================\n",
            "\n",
            "\n",
            "\n",
            "[!!]Indexing page: 1\n",
            "\n",
            "[%] Indexed 20 Images on Page 1.\n",
            "\n",
            "===============================================\n",
            "\n",
            "[%] Downloading Image #1 from https://upload.wikimedia.org/wikipedia/commons/thumb/3/3a/Agaricus_campestris.jpg/1200px-Agaricus_campestris.jpg\n",
            "[%] File Downloaded !\n",
            "\n",
            "[%] Downloading Image #2 from https://healing-mushrooms.net/wp-content/uploads/2020/02/Agaricus-campestris.jpg\n",
            "[%] File Downloaded !\n",
            "\n",
            "[%] Downloading Image #3 from http://natures-restaurant-online.com/1280px-2010-08-07_Agaricus_campestris.jpg\n",
            "[%] File Downloaded !\n",
            "\n",
            "[%] Downloading Image #4 from http://www.mykoweb.com/CAF/photos/large/Agaricus_campestris(fs-03).jpg\n",
            "[%] File Downloaded !\n",
            "\n",
            "[%] Downloading Image #5 from http://www.mitchellplainfarm.com/blog/wp-content/uploads/2011/10/Agaricus-campestris-var-squamulosus-31.jpg\n",
            "[%] File Downloaded !\n",
            "\n",
            "[%] Downloading Image #6 from https://lynnjones11.files.wordpress.com/2011/08/agaricus-1.jpg\n",
            "[%] File Downloaded !\n",
            "\n",
            "[%] Downloading Image #7 from http://www.texasmushrooms.org/asergeev/pictures/archives/2018/2264/jpeg/09b.jpg\n",
            "[%] File Downloaded !\n",
            "\n",
            "[%] Downloading Image #8 from http://warehouse1.indicia.org.uk/upload/p16dqo83dv12k0n7gecv147oihck.jpg\n",
            "[%] File Downloaded !\n",
            "\n",
            "[%] Downloading Image #9 from http://www.mykoweb.com/CAF/photos/large/Agaricus_campestris(db-02).jpg\n",
            "[%] File Downloaded !\n",
            "\n",
            "[%] Downloading Image #10 from https://i.ytimg.com/vi/m3O20w3y02U/hqdefault.jpg\n",
            "[%] File Downloaded !\n",
            "\n",
            "[%] Downloading Image #11 from https://classconnection.s3.amazonaws.com/552/flashcards/36552/jpg/2010-08-07_agaricus_campestris_cropped1336349301390.jpg\n",
            "[%] File Downloaded !\n",
            "\n",
            "[%] Downloading Image #12 from https://www.first-nature.com/fungi/images/agaricaceae/agaricus-campestris1.jpg\n",
            "[%] File Downloaded !\n",
            "\n",
            "[%] Downloading Image #13 from https://www.wildfooduk.com/wp-content/uploads/2018/01/Field-10.jpg\n",
            "[%] File Downloaded !\n",
            "\n",
            "[%] Downloading Image #14 from https://upload.wikimedia.org/wikipedia/commons/9/95/2012-02-13_Agaricus_campestris_L_199587.jpg\n",
            "[%] File Downloaded !\n",
            "\n",
            "[%] Downloading Image #15 from https://ohiomushroomsociety.files.wordpress.com/2015/12/agaricus-campestris-thomassampliner-201512.jpg\n",
            "[%] File Downloaded !\n",
            "\n",
            "[%] Downloading Image #16 from http://2.bp.blogspot.com/-nXnJjlF71cQ/UpOZI65TiII/AAAAAAAAH0s/MMUj139XV3w/s1600/Agaricus+campestris+28-10-2013+11-29-18.JPG\n",
            "[%] File Downloaded !\n",
            "\n",
            "[%] Downloading Image #17 from http://4.bp.blogspot.com/-Kijan4GkGAI/TfrFKb6qFaI/AAAAAAAABn8/-8oSS2F87zw/s1600/champignonnnnn.jpg\n",
            "[%] File Downloaded !\n",
            "\n",
            "[%] Downloading Image #18 from https://ohiomushroomsociety.files.wordpress.com/2014/07/agaricus-campestris_am.jpg\n",
            "[%] File Downloaded !\n",
            "\n",
            "[%] Downloading Image #19 from http://2.bp.blogspot.com/-WgxIEu99XSs/TtIJQ0C9FDI/AAAAAAAAB30/9QtbkWFvt-s/s1600/Mushroom_14.jpg\n",
            "[%] File Downloaded !\n",
            "\n",
            "[%] Downloading Image #20 from https://sporesmouldsandfungi.files.wordpress.com/2015/04/014-2015-04-28.jpg\n",
            "[%] File Downloaded !\n",
            "\n",
            "\n",
            "\n",
            "[!!]Indexing page: 1\n",
            "\n",
            "[%] Indexed 20 Images on Page 1.\n",
            "\n",
            "===============================================\n",
            "\n",
            "[%] Downloading Image #1 from http://gribi.net.ua/wp-content/uploads/2017/02/Agaricus-litoralis.jpg\n",
            "[%] File Downloaded !\n",
            "\n",
            "[%] Downloading Image #2 from https://www.ilgiardinocommestibile.it/wp-content/uploads/2020/09/agaricus-litoralis-780x470.jpg\n",
            "[%] File Downloaded !\n",
            "\n",
            "[%] Downloading Image #3 from https://www.funghiitaliani.it/uploads/monthly_12_2009/post-127-1261248984.jpg\n",
            "[%] File Downloaded !\n",
            "\n",
            "[%] Downloading Image #4 from http://3.bp.blogspot.com/-WjZ34oMUvwU/UnlgT_YFgjI/AAAAAAAAHUw/-zTTZ45G-VM/s1600/Agaricus+Maskae+05-11-2013+13-32-03.JPG\n",
            "[%] File Downloaded !\n",
            "\n",
            "[%] Downloading Image #5 from https://www.funghiitaliani.it/uploads/monthly_12_2009/post-3093-1261050378.jpg\n",
            "[%] File Downloaded !\n",
            "\n",
            "[%] Downloading Image #6 from https://www.funghiitaliani.it/uploads/monthly_12_2009/post-2286-1261212505.jpg\n",
            "[%] File Downloaded !\n",
            "\n",
            "[%] Downloading Image #7 from http://www.fvlmedia.dk/gallery/var/albums/Agaricus/Agaricus-litoralis---kyst-champignon/Agaricus_litoralis.jpg?m=1318463912\n",
            "[%] File Downloaded !\n",
            "\n",
            "[%] Downloading Image #8 from http://www.mycoleron.fr/photos%20champignons/agaricus%20litoralis%20gd02%20r.jpg\n",
            "[%] File Downloaded !\n",
            "\n",
            "[%] Downloading Image #9 from https://4.bp.blogspot.com/-mm5XL--mV4Y/WFZ81QE35zI/AAAAAAABCoc/LMDycN_644EPxQifOqxi5OXniLLYEG8AQCPcB/s1600/Agaricus%2Blitoralis.jpg\n",
            "[%] File Downloaded !\n",
            "\n",
            "[%] Downloading Image #10 from http://www.stridvall.se/fungi/albums/Agaricus/F30A7180.sized.jpg\n",
            "[%] File Downloaded !\n",
            "\n",
            "[%] Downloading Image #11 from http://www.biopix.com/photos/jcs-agaricus-litoralis-64366.jpg\n",
            "[%] File Downloaded !\n",
            "\n",
            "[%] Downloading Image #12 from http://www.champi-myco.fr/Agaricus_litoralis_MJ-120617-_01.jpg\n",
            "[%] File Downloaded !\n",
            "\n",
            "[%] Downloading Image #13 from https://www.asturnatura.com/photo/_files/photogallery/b1cca03151cb078b220237b54518fd14.jpg\n",
            "[%] File Downloaded !\n",
            "\n",
            "[%] Downloading Image #14 from https://i.ytimg.com/vi/bXo1YP3ON2A/maxresdefault.jpg\n",
            "[%] File Downloaded !\n",
            "\n",
            "[%] Downloading Image #15 from https://micologica-barakaldo.org/wp-content/uploads/2018/05/Agaricus-litoralis_20160505_1627.jpg\n",
            "[%] File Downloaded !\n",
            "\n",
            "[%] Downloading Image #16 from http://2.bp.blogspot.com/-RkABnIQJdgc/VChqLzbcO7I/AAAAAAAAJ-s/k6mt2UfTkMw/s1600/DSC_0001-003.JPG\n",
            "[%] File Downloaded !\n",
            "\n",
            "[%] Downloading Image #17 from http://manatarka.org/files/2019/05/Agaricuslitoralis6a.jpg\n",
            "[%] File Downloaded !\n",
            "\n",
            "[%] Downloading Image #18 from http://www.funghi-bormio.it/Immagini/Imm_Schede/Prati_pascoli/Agaricus_litoralis%20g.jpg\n",
            "[%] File Downloaded !\n",
            "\n",
            "[%] Downloading Image #19 from https://www.funghiitaliani.it/uploads/monthly_06_2014/post-12947-0-51865200-1403104593.jpg\n",
            "[%] File Downloaded !\n",
            "\n",
            "[%] Downloading Image #20 from http://www.ambmuggia.it/forum/uploads/post-3-1131975835.jpg\n",
            "[%] File Downloaded !\n",
            "\n",
            "\n",
            "\n",
            "[!!]Indexing page: 1\n",
            "\n",
            "[%] Indexed 20 Images on Page 1.\n",
            "\n",
            "===============================================\n",
            "\n",
            "[%] Downloading Image #1 from http://upload.wikimedia.org/wikipedia/commons/4/47/Agaricus_sylvaticus_G7.JPG\n",
            "[%] File Downloaded !\n",
            "\n",
            "[%] Downloading Image #2 from http://www.mushrooms.su/asergeev/pictures/archives/2016/1886/jpeg/09b.jpg\n",
            "[%] File Downloaded !\n",
            "\n",
            "[%] Downloading Image #3 from http://www.stridvall.se/fungi/albums/Agaricus/AAAA3248.jpg\n",
            "[%] File Downloaded !\n",
            "\n",
            "[%] Downloading Image #4 from http://www.fungikingdom.net/_Media/agaricus-sylvaticus01078_med_hr.jpeg\n",
            "[%] File Downloaded !\n",
            "\n",
            "[%] Downloading Image #5 from http://www.stridvall.se/fungi/albums/Agaricus/NIKB2743.sized.jpg\n",
            "[%] File Downloaded !\n",
            "\n",
            "[%] Downloading Image #6 from http://i1.treknature.com/photos/14710/1-1-1-1-dsc_0062-001.jpg\n",
            "[%] File Downloaded !\n",
            "\n",
            "[%] Downloading Image #7 from http://davidmoore.org.uk/Assets/Mostly_Mycology/Richard_Clarke/fungiphoto/photo_large/Agaricus_sylvaticus_Blushing_Wood_Mushroom.jpg\n",
            "[%] File Downloaded !\n",
            "\n",
            "[%] Downloading Image #8 from http://www.velutipes.com/natural/agaricus_sylvaticus.jpg\n",
            "[%] File Downloaded !\n",
            "\n",
            "[%] Downloading Image #9 from https://www.mycodb.fr/photos/Agaricus_sylvaticus_2006_jg_1.jpg\n",
            "[%] File Downloaded !\n",
            "\n",
            "[%] Downloading Image #10 from https://www.first-nature.com/fungi/images/agaricaceae/agaricus-sylvaticus1.jpg\n",
            "[%] File Downloaded !\n",
            "\n",
            "[%] Downloading Image #11 from http://svampguiden.com/assets/img/sg_img/sg_artbilder/agaricus_silvaticus_01.jpg\n",
            "[%] File Downloaded !\n",
            "\n",
            "[%] Downloading Image #12 from https://live.staticflickr.com/7027/6566091509_ea2e6304bb_b.jpg\n",
            "[Error]Invalid image, not saving https://live.staticflickr.com/7027/6566091509_ea2e6304bb_b.jpg\n",
            "\n",
            "[!] Issue getting: https://live.staticflickr.com/7027/6566091509_ea2e6304bb_b.jpg\n",
            "[!] Error:: No active exception to reraise\n",
            "[%] Downloading Image #12 from http://www.stridvall.se/fungi/albums/Agaricus/F30A2109.jpg\n",
            "[%] File Downloaded !\n",
            "\n",
            "[%] Downloading Image #13 from https://i.ytimg.com/vi/P2GPByPtJYQ/maxresdefault.jpg\n",
            "[%] File Downloaded !\n",
            "\n",
            "[%] Downloading Image #14 from https://i1.treknature.com/photos/20831/agaraugusakgl4.jpg\n",
            "[%] File Downloaded !\n",
            "\n",
            "[%] Downloading Image #15 from http://www.mycoleron.fr/photos champignons/agaricus sylvaticus jg01 r.jpg\n",
            "[!] Issue getting: http://www.mycoleron.fr/photos champignons/agaricus sylvaticus jg01 r.jpg\n",
            "[!] Error:: URL can't contain control characters. '/photos champignons/agaricus sylvaticus jg01 r.jpg' (found at least ' ')\n",
            "[%] Downloading Image #15 from http://fungi.biodiversity-georgia.net/wp-content/uploads/2017/03/Agaricus-silvaticus-1.jpg\n",
            "[%] File Downloaded !\n",
            "\n",
            "[%] Downloading Image #16 from https://i.pinimg.com/736x/8f/08/fa/8f08fa92b208f29261771d322304be2a.jpg\n",
            "[%] File Downloaded !\n",
            "\n",
            "[%] Downloading Image #17 from https://www.myko.cz/myko/public/images/myko/0066/2017/0066-2017-0092-0001p.jpg\n",
            "[%] File Downloaded !\n",
            "\n",
            "[%] Downloading Image #18 from https://i.ytimg.com/vi/mIWOVeB4EJg/hqdefault.jpg\n",
            "[%] File Downloaded !\n",
            "\n",
            "\n",
            "\n",
            "[!!]Indexing page: 2\n",
            "\n",
            "[%] Indexed 35 Images on Page 2.\n",
            "\n",
            "===============================================\n",
            "\n",
            "[%] Downloading Image #19 from http://upload.wikimedia.org/wikipedia/commons/4/47/Agaricus_sylvaticus_G7.JPG\n",
            "[%] File Downloaded !\n",
            "\n",
            "[%] Downloading Image #20 from http://www.mushrooms.su/asergeev/pictures/archives/2016/1886/jpeg/09b.jpg\n",
            "[%] File Downloaded !\n",
            "\n",
            "\n",
            "\n",
            "[%] Done. Downloaded 20 images.\n",
            "\n",
            "===============================================\n",
            "\n",
            "\n",
            "\n",
            "[!!]Indexing page: 1\n",
            "\n",
            "[%] Indexed 20 Images on Page 1.\n",
            "\n",
            "===============================================\n",
            "\n",
            "[%] Downloading Image #1 from https://www.mykoweb.com/CAF/photos/large/Agaricus_sylvicola(fs-04).jpg\n",
            "[%] File Downloaded !\n",
            "\n",
            "[%] Downloading Image #2 from http://www.mykoweb.com/CAF/photos/large/Agaricus_sylvicola%28fs-02%29.jpg\n",
            "[%] File Downloaded !\n",
            "\n",
            "[%] Downloading Image #3 from https://www.mykoweb.com/CAF/photos/large/Agaricus_sylvicola(mgw-01).jpg\n",
            "[%] File Downloaded !\n",
            "\n",
            "[%] Downloading Image #4 from https://upload.wikimedia.org/wikipedia/commons/a/ab/Agaricus_sylvicola_G4_(1).JPG\n",
            "[%] File Downloaded !\n",
            "\n",
            "[%] Downloading Image #5 from http://www.mykoweb.com/CAF/photos/large/Agaricus_sylvicola%28fs-01%29.jpg\n",
            "[%] File Downloaded !\n",
            "\n",
            "[%] Downloading Image #6 from https://andriigryganskyi.files.wordpress.com/2012/09/p1170051.jpg\n",
            "[%] File Downloaded !\n",
            "\n",
            "[%] Downloading Image #7 from http://www.texasmushrooms.org/asergeev/pictures/archives/2017/2200/jpeg/10b.jpg\n",
            "[%] File Downloaded !\n",
            "\n",
            "[%] Downloading Image #8 from http://www.mushrooms.su/asergeev/pictures/archives/2016/1886/jpeg/07b.jpg\n",
            "[%] File Downloaded !\n",
            "\n",
            "[%] Downloading Image #9 from http://www.mykoweb.com/CAF/photos/Agaricus_sylvicola(db-01).jpg\n",
            "[%] File Downloaded !\n",
            "\n",
            "[%] Downloading Image #10 from http://www.mushrooms.su/asergeev/pictures/archives/2017/2151/jpeg/12b.jpg\n",
            "[%] File Downloaded !\n",
            "\n",
            "[%] Downloading Image #11 from https://www.first-nature.com/fungi/images/agaricaceae/agaricus-sylvicola1.jpg\n",
            "[%] File Downloaded !\n",
            "\n",
            "[%] Downloading Image #12 from https://www.first-nature.com/fungi/images/agaricaceae/agaricus-sylvicola5.jpg\n",
            "[%] File Downloaded !\n",
            "\n",
            "[%] Downloading Image #13 from http://www.texasmushrooms.org/asergeev/pictures/archives/2017/2189/jpeg/26b.jpg\n",
            "[%] File Downloaded !\n",
            "\n",
            "[%] Downloading Image #14 from http://idata.over-blog.com/0/04/43/94/Photos-environnement-Cote-Azur/100_6655_agaricus-sylvicola.jpg\n",
            "[%] File Downloaded !\n",
            "\n",
            "[%] Downloading Image #15 from http://www.mushrooms.su/asergeev/pictures/archives/2017/2148/jpeg/26b.jpg\n",
            "[%] File Downloaded !\n",
            "\n",
            "[%] Downloading Image #16 from https://www.first-nature.com/fungi/images/agaricaceae/agaricus-sylvicola6.jpg\n",
            "[%] File Downloaded !\n",
            "\n",
            "[%] Downloading Image #17 from https://www.francini-mycologie.fr/LA_PAGE_DU_DEBUTANT/Agaricus_sylvicola_2.jpg\n",
            "[%] File Downloaded !\n",
            "\n",
            "[%] Downloading Image #18 from http://www.hlasek.com/foto/agaricus_sylvicola_ai8784.jpg\n",
            "[%] File Downloaded !\n",
            "\n",
            "[%] Downloading Image #19 from http://www.velutipes.com/natural/agaricus_sylvicola1.jpg\n",
            "[%] File Downloaded !\n",
            "\n",
            "[%] Downloading Image #20 from http://www.leifgoodwin.co.uk/Fungi/0_Frame 21 Agaricus silvaticus.jpg\n",
            "[!] Issue getting: http://www.leifgoodwin.co.uk/Fungi/0_Frame 21 Agaricus silvaticus.jpg\n",
            "[!] Error:: URL can't contain control characters. '/Fungi/0_Frame 21 Agaricus silvaticus.jpg' (found at least ' ')\n",
            "\n",
            "\n",
            "[!!]Indexing page: 2\n",
            "\n",
            "[%] Indexed 35 Images on Page 2.\n",
            "\n",
            "===============================================\n",
            "\n",
            "[%] Downloading Image #20 from https://www.mykoweb.com/CAF/photos/large/Agaricus_sylvicola(fs-04).jpg\n",
            "[%] File Downloaded !\n",
            "\n",
            "\n",
            "\n",
            "[%] Done. Downloaded 20 images.\n",
            "\n",
            "===============================================\n",
            "\n",
            "\n",
            "\n",
            "[!!]Indexing page: 1\n",
            "\n",
            "[%] Indexed 20 Images on Page 1.\n",
            "\n",
            "===============================================\n",
            "\n",
            "[%] Downloading Image #1 from https://i.pinimg.com/originals/a7/14/ef/a714ef0ba23454ab58541507040c2d49.jpg\n",
            "[%] File Downloaded !\n",
            "\n",
            "[%] Downloading Image #2 from http://www.first-nature.com/fungi/images/agaricaceae/agaricus-urinascens1.jpg\n",
            "[%] File Downloaded !\n",
            "\n",
            "[%] Downloading Image #3 from http://warehouse1.indicia.org.uk/upload/p16f1dobu464mmbv13u1fmu1dgf5.jpg\n",
            "[%] File Downloaded !\n",
            "\n",
            "[%] Downloading Image #4 from https://1.bp.blogspot.com/-YW_6LGsjuPs/VQnDvcDwskI/AAAAAAAADb0/PlEQ0Xahtl0/s1600/Agaricus%2BurinascensR2541a.jpg\n",
            "[%] File Downloaded !\n",
            "\n",
            "[%] Downloading Image #5 from http://www.biopix.com/photos/jcs-agaricus-urinascens-21760.jpg\n",
            "[%] File Downloaded !\n",
            "\n",
            "[%] Downloading Image #6 from https://www.featurepics.com/StockImage/20090912/mushroom-agaricus-urinascens--stock-image-1321235.jpg\n",
            "[%] File Downloaded !\n",
            "\n",
            "[%] Downloading Image #7 from https://www.fungipedia.org/images/galerias/agaricus_urinascens/agaricus_urinascens3.jpg\n",
            "[%] File Downloaded !\n",
            "\n",
            "[%] Downloading Image #8 from http://www.first-nature.com/fungi/images/agaricaceae/agaricus-urinascens4.jpg\n",
            "[%] File Downloaded !\n",
            "\n",
            "[%] Downloading Image #9 from https://upload.wikimedia.org/wikipedia/commons/thumb/8/80/Agaricus-urinascens-Dordogne_01.JPG/1200px-Agaricus-urinascens-Dordogne_01.JPG\n",
            "[%] File Downloaded !\n",
            "\n",
            "[%] Downloading Image #10 from http://www.pharmanatur.com/Mycologie/Agaricus urinascens 5.jpg\n",
            "[!] Issue getting: http://www.pharmanatur.com/Mycologie/Agaricus urinascens 5.jpg\n",
            "[!] Error:: URL can't contain control characters. '/Mycologie/Agaricus urinascens 5.jpg' (found at least ' ')\n",
            "[%] Downloading Image #10 from https://c1.staticflickr.com/7/6181/6033005111_57b2644004_b.jpg\n",
            "[%] File Downloaded !\n",
            "\n",
            "[%] Downloading Image #11 from http://www.mycodb.fr/photos/Agaricus_urinascens_2004_jg_1.jpg\n",
            "[%] File Downloaded !\n",
            "\n",
            "[%] Downloading Image #12 from http://www.pharmanatur.com/Mycologie/Agaricus urinascens 3.jpg\n",
            "[!] Issue getting: http://www.pharmanatur.com/Mycologie/Agaricus urinascens 3.jpg\n",
            "[!] Error:: URL can't contain control characters. '/Mycologie/Agaricus urinascens 3.jpg' (found at least ' ')\n",
            "[%] Downloading Image #12 from http://www.first-nature.com/fungi/images/agaricaceae/agaricus-urinascens2.jpg\n",
            "[%] File Downloaded !\n",
            "\n",
            "[%] Downloading Image #13 from https://pt.fungipedia.org/images/galerias/agaricus_urinascens/agaricus_urinascens2.jpg\n",
            "[%] File Downloaded !\n",
            "\n",
            "[%] Downloading Image #14 from http://www.mycoleron.fr/photos champignons/agaricus urinascens jg 02 r.jpg\n",
            "[!] Issue getting: http://www.mycoleron.fr/photos champignons/agaricus urinascens jg 02 r.jpg\n",
            "[!] Error:: URL can't contain control characters. '/photos champignons/agaricus urinascens jg 02 r.jpg' (found at least ' ')\n",
            "[%] Downloading Image #14 from https://i0.wp.com/www.mushroomdiary.co.uk/wp-content/uploads/2016/05/macro-mushroom.jpg\n",
            "[%] File Downloaded !\n",
            "\n",
            "[%] Downloading Image #15 from https://www.asturnatura.com/photo/_files/photogallery/c9e5228d9fa43ed271fd108725a47307.jpg\n",
            "[%] File Downloaded !\n",
            "\n",
            "[%] Downloading Image #16 from https://www.naturamediterraneo.com/Public/data1/eagli/2005918181757_19-09-05 urinascens1.jpg\n",
            "[!] Issue getting: https://www.naturamediterraneo.com/Public/data1/eagli/2005918181757_19-09-05 urinascens1.jpg\n",
            "[!] Error:: URL can't contain control characters. '/Public/data1/eagli/2005918181757_19-09-05 urinascens1.jpg' (found at least ' ')\n",
            "[%] Downloading Image #16 from http://tintling.com/pilzbuch/pilzbilder/Agaricus_urinascens.jpg\n",
            "[%] File Downloaded !\n",
            "\n",
            "\n",
            "\n",
            "[!!]Indexing page: 2\n",
            "\n",
            "[%] Indexed 35 Images on Page 2.\n",
            "\n",
            "===============================================\n",
            "\n",
            "[%] Downloading Image #17 from https://i.pinimg.com/originals/a7/14/ef/a714ef0ba23454ab58541507040c2d49.jpg\n",
            "[%] File Downloaded !\n",
            "\n",
            "[%] Downloading Image #18 from http://www.first-nature.com/fungi/images/agaricaceae/agaricus-urinascens1.jpg\n",
            "[%] File Downloaded !\n",
            "\n",
            "[%] Downloading Image #19 from http://warehouse1.indicia.org.uk/upload/p16f1dobu464mmbv13u1fmu1dgf5.jpg\n",
            "[%] File Downloaded !\n",
            "\n",
            "[%] Downloading Image #20 from https://1.bp.blogspot.com/-YW_6LGsjuPs/VQnDvcDwskI/AAAAAAAADb0/PlEQ0Xahtl0/s1600/Agaricus%2BurinascensR2541a.jpg\n",
            "[%] File Downloaded !\n",
            "\n",
            "\n",
            "\n",
            "[%] Done. Downloaded 20 images.\n",
            "\n",
            "===============================================\n",
            "\n",
            "\n",
            "\n",
            "[!!]Indexing page: 1\n",
            "\n",
            "[%] Indexed 20 Images on Page 1.\n",
            "\n",
            "===============================================\n",
            "\n",
            "[%] Downloading Image #1 from https://upload.wikimedia.org/wikipedia/commons/0/08/Agaricus_xanthodermus_section.jpg\n",
            "[%] File Downloaded !\n",
            "\n",
            "[%] Downloading Image #2 from http://warehouse1.indicia.org.uk/upload/o_1a56sijra1mtb2d21fle4ap3s4d.jpg\n",
            "[%] File Downloaded !\n",
            "\n",
            "[%] Downloading Image #3 from http://steve.rogueleaf.com/wp-content/uploads/2010/10/20101029004918_img-0245.jpg\n",
            "[%] File Downloaded !\n",
            "\n",
            "[%] Downloading Image #4 from http://www.mushroomexpert.com/images/kuo6/agaricus_xanthodermus_03.jpg\n",
            "[%] File Downloaded !\n",
            "\n",
            "[%] Downloading Image #5 from http://warehouse1.indicia.org.uk/upload/p16fm2drcb1q3d1jrlvab74m11gr5.jpg\n",
            "[%] File Downloaded !\n",
            "\n",
            "[%] Downloading Image #6 from https://upload.wikimedia.org/wikipedia/commons/thumb/0/00/2010-11-13_Agaricus_xanthodermus_Genev_120348_crop.jpg/1200px-2010-11-13_Agaricus_xanthodermus_Genev_120348_crop.jpg\n",
            "[%] File Downloaded !\n",
            "\n",
            "[%] Downloading Image #7 from http://www.mykoweb.com/CAF/photos/large/Agaricus_xanthodermus_fs-09.jpg\n",
            "[%] File Downloaded !\n",
            "\n",
            "[%] Downloading Image #8 from http://www.mykoweb.com/CAF/photos/large/Agaricus_xanthodermus_fs-11.jpg\n",
            "[%] File Downloaded !\n",
            "\n",
            "[%] Downloading Image #9 from http://www.mushroomexpert.com/images/kuo6/agaricus_xanthodermus_01.jpg\n",
            "[%] File Downloaded !\n",
            "\n",
            "[%] Downloading Image #10 from http://www.mykoweb.com/CAF/photos/large/Agaricus_xanthodermus_mgw-04.jpg\n",
            "[%] File Downloaded !\n",
            "\n",
            "[%] Downloading Image #11 from http://www.mushroomexpert.com/images/kuo6/agaricus_xanthodermus_02.jpg\n",
            "[%] File Downloaded !\n",
            "\n",
            "[%] Downloading Image #12 from http://www.mykoweb.com/CAF/photos/large/Agaricus_xanthodermus_fs-12.jpg\n",
            "[%] File Downloaded !\n",
            "\n",
            "[%] Downloading Image #13 from http://www.mykoweb.com/CAF/photos/Agaricus_xanthodermus_fs-10.jpg\n",
            "[%] File Downloaded !\n",
            "\n",
            "[%] Downloading Image #14 from http://upload.wikimedia.org/wikipedia/commons/e/e2/2011-10-13_Agaricus_xanthodermus_Genev_181971.jpg\n",
            "[%] File Downloaded !\n",
            "\n",
            "[%] Downloading Image #15 from http://www.mykoweb.com/CAF/photos/large/Agaricus_xanthodermus(mgw-02).jpg\n",
            "[%] File Downloaded !\n",
            "\n",
            "[%] Downloading Image #16 from http://www.mykoweb.com/CAF/photos/large/Agaricus_xanthodermus(mgw-01).jpg\n",
            "[%] File Downloaded !\n",
            "\n",
            "[%] Downloading Image #17 from http://upload.wikimedia.org/wikipedia/commons/a/a5/2012-04-19_Agaricus_xanthodermus_Genev_213787.jpg\n",
            "[%] File Downloaded !\n",
            "\n",
            "[%] Downloading Image #18 from http://qldfungi.org.au/wp-content/uploads/2013/05/agaricus_xanthodermus_PL_1024.jpg\n",
            "[%] File Downloaded !\n",
            "\n",
            "[%] Downloading Image #19 from http://nathistoc.bio.uci.edu/Fungi/Agaraicus xanthodermus6.gif\n",
            "[!] Issue getting: http://nathistoc.bio.uci.edu/Fungi/Agaraicus xanthodermus6.gif\n",
            "[!] Error:: URL can't contain control characters. '/Fungi/Agaraicus xanthodermus6.gif' (found at least ' ')\n",
            "[%] Downloading Image #19 from http://nathistoc.bio.uci.edu/Fungi/Agaricus xanthodermus/Agaricus xanthodermus.jpg\n",
            "[!] Issue getting: http://nathistoc.bio.uci.edu/Fungi/Agaricus xanthodermus/Agaricus xanthodermus.jpg\n",
            "[!] Error:: URL can't contain control characters. '/Fungi/Agaricus xanthodermus/Agaricus xanthodermus.jpg' (found at least ' ')\n",
            "\n",
            "\n",
            "[!!]Indexing page: 2\n",
            "\n",
            "[%] Indexed 35 Images on Page 2.\n",
            "\n",
            "===============================================\n",
            "\n",
            "[%] Downloading Image #19 from https://upload.wikimedia.org/wikipedia/commons/0/08/Agaricus_xanthodermus_section.jpg\n",
            "[%] File Downloaded !\n",
            "\n",
            "[%] Downloading Image #20 from http://warehouse1.indicia.org.uk/upload/o_1a56sijra1mtb2d21fle4ap3s4d.jpg\n",
            "[%] File Downloaded !\n",
            "\n",
            "\n",
            "\n",
            "[%] Done. Downloaded 20 images.\n",
            "\n",
            "===============================================\n",
            "\n",
            "\n",
            "\n",
            "[!!]Indexing page: 1\n",
            "\n",
            "[%] Indexed 20 Images on Page 1.\n",
            "\n",
            "===============================================\n",
            "\n",
            "[%] Downloading Image #1 from http://www.mushrooms.su/asergeev/pictures/archives/2017/2066/jpeg/32b.jpg\n",
            "[%] File Downloaded !\n",
            "\n",
            "[%] Downloading Image #2 from https://upload.wikimedia.org/wikipedia/commons/thumb/e/e5/Agrocybe_praecox_20120415wa.JPG/1200px-Agrocybe_praecox_20120415wa.JPG\n",
            "[Error]Invalid image, not saving https://upload.wikimedia.org/wikipedia/commons/thumb/e/e5/Agrocybe_praecox_20120415wa.JPG/1200px-Agrocybe_praecox_20120415wa.JPG\n",
            "\n",
            "[!] Issue getting: https://upload.wikimedia.org/wikipedia/commons/thumb/e/e5/Agrocybe_praecox_20120415wa.JPG/1200px-Agrocybe_praecox_20120415wa.JPG\n",
            "[!] Error:: No active exception to reraise\n",
            "[%] Downloading Image #2 from http://www.mushrooms.su/asergeev/pictures/archives/2017/2066/jpeg/29b.jpg\n",
            "[%] File Downloaded !\n",
            "\n",
            "[%] Downloading Image #3 from http://www.mushrooms.su/asergeev/pictures/archives/2017/2066/jpeg/02b.jpg\n",
            "[%] File Downloaded !\n",
            "\n",
            "[%] Downloading Image #4 from http://www.mykoweb.com/CAF/photos/large/Agrocybe_praecox_fs-05.jpg\n",
            "[%] File Downloaded !\n",
            "\n",
            "[%] Downloading Image #5 from http://www.mykoweb.com/CAF/photos/Agrocybe_praecox_fs-04.jpg\n",
            "[%] File Downloaded !\n",
            "\n",
            "[%] Downloading Image #6 from https://upload.wikimedia.org/wikipedia/commons/thumb/0/0f/2011-05-17_Agrocybe_praecox_%28Pers.%29_Fayod_146356_crop.jpg/1200px-2011-05-17_Agrocybe_praecox_%28Pers.%29_Fayod_146356_crop.jpg\n",
            "[%] File Downloaded !\n",
            "\n",
            "[%] Downloading Image #7 from http://www.mykoweb.com/CAF/photos/large/Agrocybe_praecox_fs-07.jpg\n",
            "[%] File Downloaded !\n",
            "\n",
            "[%] Downloading Image #8 from https://letsdeliquesce.files.wordpress.com/2009/12/img_24831.jpg\n",
            "[%] File Downloaded !\n",
            "\n",
            "[%] Downloading Image #9 from http://www.mykoweb.com/CAF/photos/large/Agrocybe_praecox_fs-08.jpg\n",
            "[%] File Downloaded !\n",
            "\n",
            "[%] Downloading Image #10 from http://www.mushrooms.su/asergeev/pictures/archives/2017/2066/jpeg/33b.jpg\n",
            "[%] File Downloaded !\n",
            "\n",
            "[%] Downloading Image #11 from http://www.mykoweb.com/CAF/photos/large/Agrocybe_praecox_fs-09.jpg\n",
            "[%] File Downloaded !\n",
            "\n",
            "[%] Downloading Image #12 from https://www.first-nature.com/fungi/images/strophariaceae/agrocybe-praecox1.jpg\n",
            "[%] File Downloaded !\n",
            "\n",
            "[%] Downloading Image #13 from https://www.mushroomexpert.com/images/kuo/agrocybe_praecox_01big.jpg\n",
            "[%] File Downloaded !\n",
            "\n",
            "[%] Downloading Image #14 from http://www.nifg.org.uk/wp-content/uploads/2019/02/Agrocybe_praecox2.jpg\n",
            "[%] File Downloaded !\n",
            "\n",
            "[%] Downloading Image #15 from https://upload.wikimedia.org/wikipedia/commons/thumb/7/76/Agrocybe_praecox.jpg/1200px-Agrocybe_praecox.jpg\n",
            "[%] File Downloaded !\n",
            "\n",
            "[%] Downloading Image #16 from http://www.mushroomexpert.com/images/kuo2/agrocybe_praecox_04.jpg\n",
            "[%] File Downloaded !\n",
            "\n",
            "[%] Downloading Image #17 from http://www.scmycoflora.org/genera/agrocybe/images/Agrocybe-praecox_1.jpg\n",
            "[%] File Downloaded !\n",
            "\n",
            "[%] Downloading Image #18 from http://www.mushroomexpert.com/images/kaminski/kaminski_agrocybe_praecox_02.jpg\n",
            "[%] File Downloaded !\n",
            "\n",
            "[%] Downloading Image #19 from https://upload.wikimedia.org/wikipedia/commons/0/0e/Agrocybe_praecox_20120415wb.JPG\n",
            "[%] File Downloaded !\n",
            "\n",
            "\n",
            "\n",
            "[!!]Indexing page: 2\n",
            "\n",
            "[%] Indexed 35 Images on Page 2.\n",
            "\n",
            "===============================================\n",
            "\n",
            "[%] Downloading Image #20 from https://upload.wikimedia.org/wikipedia/commons/thumb/e/e5/Agrocybe_praecox_20120415wa.JPG/1200px-Agrocybe_praecox_20120415wa.JPG\n",
            "[Error]Invalid image, not saving https://upload.wikimedia.org/wikipedia/commons/thumb/e/e5/Agrocybe_praecox_20120415wa.JPG/1200px-Agrocybe_praecox_20120415wa.JPG\n",
            "\n",
            "[!] Issue getting: https://upload.wikimedia.org/wikipedia/commons/thumb/e/e5/Agrocybe_praecox_20120415wa.JPG/1200px-Agrocybe_praecox_20120415wa.JPG\n",
            "[!] Error:: No active exception to reraise\n",
            "[%] Downloading Image #20 from http://www.mushrooms.su/asergeev/pictures/archives/2017/2066/jpeg/32b.jpg\n",
            "[%] File Downloaded !\n",
            "\n",
            "\n",
            "\n",
            "[%] Done. Downloaded 20 images.\n",
            "\n",
            "===============================================\n",
            "\n",
            "\n",
            "I'm done\n"
          ],
          "name": "stdout"
        }
      ]
    },
    {
      "cell_type": "code",
      "metadata": {
        "colab": {
          "base_uri": "https://localhost:8080/"
        },
        "id": "UWAS3c0ndK5C",
        "outputId": "a0cf4ec7-6344-4290-f6ae-9c6c93c766f8"
      },
      "source": [
        "contenido = os.listdir('dataset')\n",
        "contenido=sorted(contenido)\n",
        "contenido"
      ],
      "execution_count": 15,
      "outputs": [
        {
          "output_type": "execute_result",
          "data": {
            "text/plain": [
              "['Abortiporus biennis',\n",
              " 'Adelphella babingtonii',\n",
              " 'Agaricus arvensis',\n",
              " 'Agaricus campestris',\n",
              " 'Agaricus litoralis',\n",
              " 'Agaricus sylvaticus',\n",
              " 'Agaricus sylvicola',\n",
              " 'Agaricus urinascens',\n",
              " 'Agaricus xanthodermus',\n",
              " 'Agrocybe praecox']"
            ]
          },
          "metadata": {
            "tags": []
          },
          "execution_count": 15
        }
      ]
    },
    {
      "cell_type": "code",
      "metadata": {
        "colab": {
          "base_uri": "https://localhost:8080/"
        },
        "id": "PePEB48udK7V",
        "outputId": "8f6f3c50-6b4d-4141-a1f7-d3ac0b123382"
      },
      "source": [
        "comprobar_longitudes_carpetas(contenido)"
      ],
      "execution_count": 16,
      "outputs": [
        {
          "output_type": "stream",
          "text": [
            "Abortiporus biennis 20\n",
            "Adelphella babingtonii 20\n",
            "Agaricus arvensis 20\n",
            "Agaricus campestris 20\n",
            "Agaricus litoralis 20\n",
            "Agaricus sylvaticus 20\n",
            "Agaricus sylvicola 20\n",
            "Agaricus urinascens 20\n",
            "Agaricus xanthodermus 20\n",
            "Agrocybe praecox 20\n"
          ],
          "name": "stdout"
        }
      ]
    },
    {
      "cell_type": "code",
      "metadata": {
        "colab": {
          "base_uri": "https://localhost:8080/",
          "height": 217,
          "referenced_widgets": [
            "39997096b3704481bea97875d214a6cb",
            "3ee6c1341bdf4d20abbf7f2cc0d966d0",
            "a9915fe317484821be597f0e3f449e5c",
            "a5a1ef631e3847a396812fbd9b9d88b7",
            "d31ddc492add467ca779850ec7351798",
            "748fc08f970c46c98b604bfa2f95b97c",
            "ce4fe3d3c800496abf6159b8898de073",
            "1e6cdd56715e4d6b8985343fabe89a83",
            "c09af82859164232ab21874e92833125",
            "33b7071e668c421d88cc4456f3685edc",
            "1b4701e7a7d2459da3fd6f29a8b580d7",
            "948e2c1d3e114158a217fcbaf8148f56",
            "7a5afd4ddeea41dc8639c7b969f9cb54",
            "becb5461101e4f70b9cb60c602933fb0",
            "4e789d4595c84d66983a912b281ac9b6",
            "d6374164f7f94245a934b62467a8c045",
            "18cbe2798f2d449fbbff3081fd409cdf",
            "a25a040ba8d8472d8669f451130b246f",
            "1327babfe71146aeb5415bfe78e6571d",
            "e4d8ac733697419080d472e7518e56dd",
            "39d295200dec48b0afe6cf4357a3e5ce",
            "8c4c1f213de044ed926b38f1cfd26086",
            "1fc1e045e9724c379c0458b1fc8ce558",
            "9c733de0c4b2459faf2da240000f0150"
          ]
        },
        "id": "Sbv6A89ldK9f",
        "outputId": "02e7e7f9-4e29-47a3-bbc0-048f866a4d8c"
      },
      "source": [
        "standarize_photos(contenido)"
      ],
      "execution_count": 17,
      "outputs": [
        {
          "output_type": "stream",
          "text": [
            "renombrando...\n"
          ],
          "name": "stdout"
        },
        {
          "output_type": "display_data",
          "data": {
            "application/vnd.jupyter.widget-view+json": {
              "model_id": "39997096b3704481bea97875d214a6cb",
              "version_minor": 0,
              "version_major": 2
            },
            "text/plain": [
              "HBox(children=(FloatProgress(value=0.0, max=10.0), HTML(value='')))"
            ]
          },
          "metadata": {
            "tags": []
          }
        },
        {
          "output_type": "stream",
          "text": [
            "\n",
            "homogeneizando tamaño fotos...\n"
          ],
          "name": "stdout"
        },
        {
          "output_type": "display_data",
          "data": {
            "application/vnd.jupyter.widget-view+json": {
              "model_id": "c09af82859164232ab21874e92833125",
              "version_minor": 0,
              "version_major": 2
            },
            "text/plain": [
              "HBox(children=(FloatProgress(value=0.0, max=10.0), HTML(value='')))"
            ]
          },
          "metadata": {
            "tags": []
          }
        },
        {
          "output_type": "stream",
          "text": [
            "\n",
            "estandarizando pixels...\n"
          ],
          "name": "stdout"
        },
        {
          "output_type": "display_data",
          "data": {
            "application/vnd.jupyter.widget-view+json": {
              "model_id": "18cbe2798f2d449fbbff3081fd409cdf",
              "version_minor": 0,
              "version_major": 2
            },
            "text/plain": [
              "HBox(children=(FloatProgress(value=0.0, max=10.0), HTML(value='')))"
            ]
          },
          "metadata": {
            "tags": []
          }
        },
        {
          "output_type": "stream",
          "text": [
            "\n"
          ],
          "name": "stdout"
        }
      ]
    },
    {
      "cell_type": "code",
      "metadata": {
        "colab": {
          "base_uri": "https://localhost:8080/"
        },
        "id": "rUi0XeIHdK__",
        "outputId": "2234540c-5d23-4597-fe9c-6646383723b4"
      },
      "source": [
        "train_images=np.array(lista)\n",
        "train_images.shape"
      ],
      "execution_count": 148,
      "outputs": [
        {
          "output_type": "execute_result",
          "data": {
            "text/plain": [
              "(200, 200, 200, 3)"
            ]
          },
          "metadata": {
            "tags": []
          },
          "execution_count": 148
        }
      ]
    },
    {
      "cell_type": "code",
      "metadata": {
        "colab": {
          "base_uri": "https://localhost:8080/",
          "height": 66,
          "referenced_widgets": [
            "4d93802665ad42868c31f88159e76db5",
            "e8649adb2613482ab64747cf3a87763f",
            "57134d8fbcdf499e9064e18627735250",
            "ceceeb5741f34d248a088454141b8bb7",
            "6754045be6ef4452b631d2b7611bdc13",
            "511a63444cc14170a5f7045dafc46729",
            "1c4e476ce5ad4c9c9a1f08d55c0412a0",
            "e9728e5bb4294f139b52787fa26f7f0c"
          ]
        },
        "id": "stlp7T-MdLCQ",
        "outputId": "c48a85f1-d9ac-4eb4-96e0-ed48e168b67a"
      },
      "source": [
        "lista_categories=[]\n",
        "for folder in tqdm(contenido):\n",
        "    for i in range(20):\n",
        "        lista_categories.append(folder)\n",
        "        \n",
        "train_labels=np.array(lista_categories)"
      ],
      "execution_count": 149,
      "outputs": [
        {
          "output_type": "display_data",
          "data": {
            "application/vnd.jupyter.widget-view+json": {
              "model_id": "4d93802665ad42868c31f88159e76db5",
              "version_minor": 0,
              "version_major": 2
            },
            "text/plain": [
              "HBox(children=(FloatProgress(value=0.0, max=10.0), HTML(value='')))"
            ]
          },
          "metadata": {
            "tags": []
          }
        },
        {
          "output_type": "stream",
          "text": [
            "\n"
          ],
          "name": "stdout"
        }
      ]
    },
    {
      "cell_type": "code",
      "metadata": {
        "colab": {
          "base_uri": "https://localhost:8080/"
        },
        "id": "WKVW0Wzbwtia",
        "outputId": "ccfd75c0-4969-48bf-f7cc-95bd97aac14c"
      },
      "source": [
        "len(train_labels)"
      ],
      "execution_count": 150,
      "outputs": [
        {
          "output_type": "execute_result",
          "data": {
            "text/plain": [
              "200"
            ]
          },
          "metadata": {
            "tags": []
          },
          "execution_count": 150
        }
      ]
    },
    {
      "cell_type": "code",
      "metadata": {
        "id": "JAfDLGjMwN5o"
      },
      "source": [
        "test_labels=[]\n",
        "for element in range(0,len(train_labels),20):\n",
        "  test_labels.append(train_labels[element])\n",
        "  test_labels.append(train_labels[element+1])"
      ],
      "execution_count": 151,
      "outputs": []
    },
    {
      "cell_type": "code",
      "metadata": {
        "id": "NNcsMkzhyURC"
      },
      "source": [
        "test_images=[]\n",
        "for element in range(0,len(train_images),20):\n",
        "  test_images.append(train_images[element])\n",
        "  test_images.append(train_images[element+1])"
      ],
      "execution_count": 152,
      "outputs": []
    },
    {
      "cell_type": "code",
      "metadata": {
        "colab": {
          "base_uri": "https://localhost:8080/"
        },
        "id": "HwYiSxvv3cSB",
        "outputId": "ca5f8b35-140d-40ea-d281-c58f2ac3ddab"
      },
      "source": [
        "len(train_images)"
      ],
      "execution_count": 153,
      "outputs": [
        {
          "output_type": "execute_result",
          "data": {
            "text/plain": [
              "200"
            ]
          },
          "metadata": {
            "tags": []
          },
          "execution_count": 153
        }
      ]
    },
    {
      "cell_type": "code",
      "metadata": {
        "colab": {
          "base_uri": "https://localhost:8080/"
        },
        "id": "R2CwzMaourym",
        "outputId": "ccff0c4e-6d04-4e58-9fb8-52cc8d4f6036"
      },
      "source": [
        "len(train_labels)"
      ],
      "execution_count": 154,
      "outputs": [
        {
          "output_type": "execute_result",
          "data": {
            "text/plain": [
              "200"
            ]
          },
          "metadata": {
            "tags": []
          },
          "execution_count": 154
        }
      ]
    },
    {
      "cell_type": "code",
      "metadata": {
        "colab": {
          "base_uri": "https://localhost:8080/"
        },
        "id": "5AXtzY2Yu3H6",
        "outputId": "4c6fd96e-d492-46ea-c2b5-16daa8d39453"
      },
      "source": [
        "test_labels"
      ],
      "execution_count": 155,
      "outputs": [
        {
          "output_type": "execute_result",
          "data": {
            "text/plain": [
              "['Abortiporus biennis',\n",
              " 'Abortiporus biennis',\n",
              " 'Adelphella babingtonii',\n",
              " 'Adelphella babingtonii',\n",
              " 'Agaricus arvensis',\n",
              " 'Agaricus arvensis',\n",
              " 'Agaricus campestris',\n",
              " 'Agaricus campestris',\n",
              " 'Agaricus litoralis',\n",
              " 'Agaricus litoralis',\n",
              " 'Agaricus sylvaticus',\n",
              " 'Agaricus sylvaticus',\n",
              " 'Agaricus sylvicola',\n",
              " 'Agaricus sylvicola',\n",
              " 'Agaricus urinascens',\n",
              " 'Agaricus urinascens',\n",
              " 'Agaricus xanthodermus',\n",
              " 'Agaricus xanthodermus',\n",
              " 'Agrocybe praecox',\n",
              " 'Agrocybe praecox']"
            ]
          },
          "metadata": {
            "tags": []
          },
          "execution_count": 155
        }
      ]
    },
    {
      "cell_type": "code",
      "metadata": {
        "id": "XsX-dIZKvBlU"
      },
      "source": [
        "train_images, train_labels=list(train_images),list(train_labels)"
      ],
      "execution_count": 156,
      "outputs": []
    },
    {
      "cell_type": "code",
      "metadata": {
        "colab": {
          "base_uri": "https://localhost:8080/"
        },
        "id": "DwL2o2vUvFAU",
        "outputId": "79ae4fa9-8807-4395-d57c-64e8c18df752"
      },
      "source": [
        "lista_nueva_images=[]\n",
        "for element in range(0,len(train_images),20):\n",
        "  lista_partida = train_images[element:element+20]\n",
        "  lista_partida = lista_partida[2:]\n",
        "  lista_nueva_images.append(lista_partida)\n",
        "\n",
        "lista_nueva_images = [item for lista in lista_nueva_images for item in lista]\n",
        "\n",
        "len(lista_nueva_images)"
      ],
      "execution_count": 157,
      "outputs": [
        {
          "output_type": "execute_result",
          "data": {
            "text/plain": [
              "180"
            ]
          },
          "metadata": {
            "tags": []
          },
          "execution_count": 157
        }
      ]
    },
    {
      "cell_type": "code",
      "metadata": {
        "colab": {
          "base_uri": "https://localhost:8080/"
        },
        "id": "KljNhHa67g20",
        "outputId": "14782ed9-4846-4572-eb5e-e11700d0d2d7"
      },
      "source": [
        "lista_nueva_labels=[]\n",
        "for element in range(0,len(train_labels),20):\n",
        "  lista_partida = train_labels[element:element+20]\n",
        "  lista_partida = lista_partida[2:]\n",
        "  lista_nueva_labels.append(lista_partida)\n",
        "\n",
        "lista_nueva_labels = [item for lista in lista_nueva_labels for item in lista]\n",
        "\n",
        "len(lista_nueva_labels)"
      ],
      "execution_count": 158,
      "outputs": [
        {
          "output_type": "execute_result",
          "data": {
            "text/plain": [
              "180"
            ]
          },
          "metadata": {
            "tags": []
          },
          "execution_count": 158
        }
      ]
    },
    {
      "cell_type": "code",
      "metadata": {
        "id": "iB21HGRY8BIP"
      },
      "source": [
        "#transformamos otra vez a arrays los datos de train y de test\n",
        "\n",
        "train_images, train_labels, test_images, test_labels = np.array(lista_nueva_images), np.array (lista_nueva_labels), np.array(test_images), np.array(test_labels)"
      ],
      "execution_count": 159,
      "outputs": []
    },
    {
      "cell_type": "code",
      "metadata": {
        "colab": {
          "base_uri": "https://localhost:8080/"
        },
        "id": "CbmnI5eB87Kv",
        "outputId": "9dddb2d5-0820-4caa-a0e2-6ece6e17cf6a"
      },
      "source": [
        "test_images.shape"
      ],
      "execution_count": 162,
      "outputs": [
        {
          "output_type": "execute_result",
          "data": {
            "text/plain": [
              "(20, 200, 200, 3)"
            ]
          },
          "metadata": {
            "tags": []
          },
          "execution_count": 162
        }
      ]
    },
    {
      "cell_type": "code",
      "metadata": {
        "id": "8Y3yw38Xdat2",
        "colab": {
          "base_uri": "https://localhost:8080/",
          "height": 295
        },
        "outputId": "fa14c497-5af4-43f0-83e9-d9ca7f89a6b1"
      },
      "source": [
        "plot_mushroom_image(39,train_images,train_labels)"
      ],
      "execution_count": 163,
      "outputs": [
        {
          "output_type": "stream",
          "text": [
            "Agaricus arvensis\n"
          ],
          "name": "stdout"
        },
        {
          "output_type": "display_data",
          "data": {
            "image/png": "[encoded data removed]",
            "text/plain": [
              "<Figure size 432x288 with 1 Axes>"
            ]
          },
          "metadata": {
            "tags": [],
            "needs_background": "light"
          }
        }
      ]
    },
    {
      "cell_type": "code",
      "metadata": {
        "id": "RQU9jVmxgyec",
        "colab": {
          "base_uri": "https://localhost:8080/"
        },
        "outputId": "c7ab9d80-0cd5-4962-f48d-760aae768f89"
      },
      "source": [
        "train_labels.shape\n",
        "#cambiar formato nombres para que funcionen"
      ],
      "execution_count": 164,
      "outputs": [
        {
          "output_type": "execute_result",
          "data": {
            "text/plain": [
              "(180,)"
            ]
          },
          "metadata": {
            "tags": []
          },
          "execution_count": 164
        }
      ]
    },
    {
      "cell_type": "code",
      "metadata": {
        "id": "xDHBAqLyjeEx",
        "colab": {
          "base_uri": "https://localhost:8080/"
        },
        "outputId": "cda7dc27-04de-4eae-9618-846d6e6a353c"
      },
      "source": [
        "np.unique(train_labels)"
      ],
      "execution_count": 166,
      "outputs": [
        {
          "output_type": "execute_result",
          "data": {
            "text/plain": [
              "array(['Abortiporus biennis', 'Adelphella babingtonii',\n",
              "       'Agaricus arvensis', 'Agaricus campestris', 'Agaricus litoralis',\n",
              "       'Agaricus sylvaticus', 'Agaricus sylvicola', 'Agaricus urinascens',\n",
              "       'Agaricus xanthodermus', 'Agrocybe praecox'], dtype='<U22')"
            ]
          },
          "metadata": {
            "tags": []
          },
          "execution_count": 166
        }
      ]
    },
    {
      "cell_type": "code",
      "metadata": {
        "id": "uo8xHoDSiVI3"
      },
      "source": [
        "l1 = list(range(10))\n",
        "l2 = list(np.unique(train_labels))\n",
        "d = dict(zip(l1,l2))\n",
        "#create a dictionary to use one hot encoder"
      ],
      "execution_count": 167,
      "outputs": []
    },
    {
      "cell_type": "code",
      "metadata": {
        "id": "T0tUzraljwpk",
        "colab": {
          "base_uri": "https://localhost:8080/"
        },
        "outputId": "9022d698-347a-4bb8-ae1b-47a6862c1a9c"
      },
      "source": [
        "d"
      ],
      "execution_count": 168,
      "outputs": [
        {
          "output_type": "execute_result",
          "data": {
            "text/plain": [
              "{0: 'Abortiporus biennis',\n",
              " 1: 'Adelphella babingtonii',\n",
              " 2: 'Agaricus arvensis',\n",
              " 3: 'Agaricus campestris',\n",
              " 4: 'Agaricus litoralis',\n",
              " 5: 'Agaricus sylvaticus',\n",
              " 6: 'Agaricus sylvicola',\n",
              " 7: 'Agaricus urinascens',\n",
              " 8: 'Agaricus xanthodermus',\n",
              " 9: 'Agrocybe praecox'}"
            ]
          },
          "metadata": {
            "tags": []
          },
          "execution_count": 168
        }
      ]
    },
    {
      "cell_type": "code",
      "metadata": {
        "id": "exRVBCC3j5e_"
      },
      "source": [
        "train_labels_nums = sorted(list(d.keys())*20)\n",
        "\n",
        "test_labels_nums = sorted(list(d.keys())*2)"
      ],
      "execution_count": 173,
      "outputs": []
    },
    {
      "cell_type": "code",
      "metadata": {
        "id": "ETJutFw8l9iN",
        "colab": {
          "base_uri": "https://localhost:8080/"
        },
        "outputId": "c11358ce-c17e-4a98-ea15-c56d74cb28d3"
      },
      "source": [
        "len(test_labels_nums), len(train_labels_nums)"
      ],
      "execution_count": 176,
      "outputs": [
        {
          "output_type": "execute_result",
          "data": {
            "text/plain": [
              "(20, 200)"
            ]
          },
          "metadata": {
            "tags": []
          },
          "execution_count": 176
        }
      ]
    },
    {
      "cell_type": "markdown",
      "metadata": {
        "id": "hRKWdcqXfYnW"
      },
      "source": [
        "Transform to one hot encoder the 10 classes we hace for now"
      ]
    },
    {
      "cell_type": "code",
      "metadata": {
        "id": "yWfJeYxGdaww",
        "colab": {
          "base_uri": "https://localhost:8080/"
        },
        "outputId": "203deeb0-c7b0-4240-d04e-5c2067ce7c71"
      },
      "source": [
        "#transformamos a onehot nuestros targets \n",
        "onehot_train=to_categorical(train_labels_nums,num_classes=10)\n",
        "\n",
        "\n",
        "onehot_test=to_categorical(test_labels_nums,num_classes=10)\n",
        "\n",
        "onehot_train.shape,onehot_test.shape"
      ],
      "execution_count": 177,
      "outputs": [
        {
          "output_type": "execute_result",
          "data": {
            "text/plain": [
              "((200, 10), (20, 10))"
            ]
          },
          "metadata": {
            "tags": []
          },
          "execution_count": 177
        }
      ]
    },
    {
      "cell_type": "markdown",
      "metadata": {
        "id": "9Xkp9-YokkT_"
      },
      "source": [
        "Vamos a crear nuestra primera red neuronal"
      ]
    },
    {
      "cell_type": "code",
      "metadata": {
        "id": "oXXK6hKXgt7l"
      },
      "source": [
        "def build():\n",
        "  m = models.Sequential()\n",
        "\n",
        "#le decimos el input para que el output \n",
        "\n",
        "  l0 = layers.Flatten(input_shape=(200,200,3))\n",
        "  m.add(l0)\n",
        "\n",
        "  l1 = layers.Dense(units=50, activation = 'relu')\n",
        "  m.add(l1)\n",
        "\n",
        "  l2 = layers.Dense(units=25, activation = 'relu')\n",
        "  m.add(l2)\n",
        "\n",
        "  l3 = layers.Dense(units=15, activation = 'relu')\n",
        "  m.add(l3)\n",
        "\n",
        "  l4 = layers.Dense(units=10, activation = 'softmax')\n",
        "  m.add(l4)\n",
        "\n",
        "  \n",
        "#ponemos none, ya no hace falta relu al ser una , decir que por defecto ya seria none.\n",
        "\n",
        "#numero random el 3 por ejemoplo que es el numero de neuronas a la salida\n",
        "\n",
        "  m.summary()\n",
        "\n",
        "  return m"
      ],
      "execution_count": 178,
      "outputs": []
    },
    {
      "cell_type": "code",
      "metadata": {
        "id": "vdgKuZYak59X",
        "colab": {
          "base_uri": "https://localhost:8080/"
        },
        "outputId": "fd039933-bb23-40d4-a674-f1dd56642891"
      },
      "source": [
        "m=build()"
      ],
      "execution_count": 179,
      "outputs": [
        {
          "output_type": "stream",
          "text": [
            "Model: \"sequential\"\n",
            "_________________________________________________________________\n",
            "Layer (type)                 Output Shape              Param #   \n",
            "=================================================================\n",
            "flatten (Flatten)            (None, 120000)            0         \n",
            "_________________________________________________________________\n",
            "dense (Dense)                (None, 50)                6000050   \n",
            "_________________________________________________________________\n",
            "dense_1 (Dense)              (None, 25)                1275      \n",
            "_________________________________________________________________\n",
            "dense_2 (Dense)              (None, 15)                390       \n",
            "_________________________________________________________________\n",
            "dense_3 (Dense)              (None, 10)                160       \n",
            "=================================================================\n",
            "Total params: 6,001,875\n",
            "Trainable params: 6,001,875\n",
            "Non-trainable params: 0\n",
            "_________________________________________________________________\n"
          ],
          "name": "stdout"
        }
      ]
    },
    {
      "cell_type": "code",
      "metadata": {
        "id": "-Yk153KAk-r2"
      },
      "source": [
        "m.compile(optimizer=optimizers.Adam(),loss=losses.categorical_crossentropy,metrics=[metrics.categorical_accuracy])"
      ],
      "execution_count": 180,
      "outputs": []
    },
    {
      "cell_type": "code",
      "metadata": {
        "id": "0tbwtE-blZLu",
        "colab": {
          "base_uri": "https://localhost:8080/"
        },
        "outputId": "0a4c16ed-7085-4801-c7b8-c8b69107597c"
      },
      "source": [
        "train_images.shape"
      ],
      "execution_count": 181,
      "outputs": [
        {
          "output_type": "execute_result",
          "data": {
            "text/plain": [
              "(180, 200, 200, 3)"
            ]
          },
          "metadata": {
            "tags": []
          },
          "execution_count": 181
        }
      ]
    },
    {
      "cell_type": "code",
      "metadata": {
        "id": "57j2rShyle47",
        "colab": {
          "base_uri": "https://localhost:8080/"
        },
        "outputId": "1bdf8a1f-fcce-4a5f-83cc-6f9f9a591acb"
      },
      "source": [
        "onehot_train.shape"
      ],
      "execution_count": 182,
      "outputs": [
        {
          "output_type": "execute_result",
          "data": {
            "text/plain": [
              "(200, 10)"
            ]
          },
          "metadata": {
            "tags": []
          },
          "execution_count": 182
        }
      ]
    },
    {
      "cell_type": "code",
      "metadata": {
        "id": "PHe5GulblLPH",
        "colab": {
          "base_uri": "https://localhost:8080/"
        },
        "outputId": "fcfae4cc-cb37-4cac-df25-9ad6faebe628"
      },
      "source": [
        " h = m.fit (train_images,onehot_train,batch_size= 5,epochs=30,validation_split=0.1)"
      ],
      "execution_count": 183,
      "outputs": [
        {
          "output_type": "stream",
          "text": [
            "Epoch 1/30\n",
            "33/33 [==============================] - 2s 38ms/step - loss: 13.6486 - categorical_accuracy: 0.1734 - val_loss: 11.2676 - val_categorical_accuracy: 0.0000e+00\n",
            "Epoch 2/30\n",
            "33/33 [==============================] - 1s 30ms/step - loss: 2.4248 - categorical_accuracy: 0.1277 - val_loss: 3.1544 - val_categorical_accuracy: 0.0000e+00\n",
            "Epoch 3/30\n",
            "33/33 [==============================] - 1s 30ms/step - loss: 2.2444 - categorical_accuracy: 0.1244 - val_loss: 3.6414 - val_categorical_accuracy: 0.0000e+00\n",
            "Epoch 4/30\n",
            "33/33 [==============================] - 1s 30ms/step - loss: 2.1212 - categorical_accuracy: 0.1395 - val_loss: 3.1558 - val_categorical_accuracy: 0.0000e+00\n",
            "Epoch 5/30\n",
            "33/33 [==============================] - 1s 30ms/step - loss: 2.1279 - categorical_accuracy: 0.2302 - val_loss: 4.0488 - val_categorical_accuracy: 0.0000e+00\n",
            "Epoch 6/30\n",
            "33/33 [==============================] - 1s 30ms/step - loss: 2.0658 - categorical_accuracy: 0.1656 - val_loss: 3.6388 - val_categorical_accuracy: 0.0000e+00\n",
            "Epoch 7/30\n",
            "33/33 [==============================] - 1s 31ms/step - loss: 2.0869 - categorical_accuracy: 0.1376 - val_loss: 4.0599 - val_categorical_accuracy: 0.0000e+00\n",
            "Epoch 8/30\n",
            "33/33 [==============================] - 1s 31ms/step - loss: 2.0647 - categorical_accuracy: 0.1899 - val_loss: 3.7410 - val_categorical_accuracy: 0.0000e+00\n",
            "Epoch 9/30\n",
            "33/33 [==============================] - 1s 30ms/step - loss: 2.0472 - categorical_accuracy: 0.1380 - val_loss: 3.9141 - val_categorical_accuracy: 0.0000e+00\n",
            "Epoch 10/30\n",
            "33/33 [==============================] - 1s 30ms/step - loss: 2.0245 - categorical_accuracy: 0.1521 - val_loss: 4.5598 - val_categorical_accuracy: 0.0000e+00\n",
            "Epoch 11/30\n",
            "33/33 [==============================] - 1s 34ms/step - loss: 2.0004 - categorical_accuracy: 0.2507 - val_loss: 6.3502 - val_categorical_accuracy: 0.0000e+00\n",
            "Epoch 12/30\n",
            "33/33 [==============================] - 1s 30ms/step - loss: 2.0364 - categorical_accuracy: 0.1807 - val_loss: 4.8400 - val_categorical_accuracy: 0.0000e+00\n",
            "Epoch 13/30\n",
            "33/33 [==============================] - 1s 30ms/step - loss: 1.9983 - categorical_accuracy: 0.2588 - val_loss: 5.8135 - val_categorical_accuracy: 0.0000e+00\n",
            "Epoch 14/30\n",
            "33/33 [==============================] - 1s 30ms/step - loss: 1.9909 - categorical_accuracy: 0.2153 - val_loss: 5.8777 - val_categorical_accuracy: 0.0000e+00\n",
            "Epoch 15/30\n",
            "33/33 [==============================] - 1s 30ms/step - loss: 1.9246 - categorical_accuracy: 0.2440 - val_loss: 5.9875 - val_categorical_accuracy: 0.0000e+00\n",
            "Epoch 16/30\n",
            "33/33 [==============================] - 1s 30ms/step - loss: 1.9749 - categorical_accuracy: 0.2558 - val_loss: 5.3739 - val_categorical_accuracy: 0.0000e+00\n",
            "Epoch 17/30\n",
            "33/33 [==============================] - 1s 31ms/step - loss: 1.9314 - categorical_accuracy: 0.2483 - val_loss: 7.4457 - val_categorical_accuracy: 0.0000e+00\n",
            "Epoch 18/30\n",
            "33/33 [==============================] - 1s 30ms/step - loss: 1.9348 - categorical_accuracy: 0.2067 - val_loss: 11.0472 - val_categorical_accuracy: 0.0000e+00\n",
            "Epoch 19/30\n",
            "33/33 [==============================] - 1s 30ms/step - loss: 1.9243 - categorical_accuracy: 0.2092 - val_loss: 6.9479 - val_categorical_accuracy: 0.0000e+00\n",
            "Epoch 20/30\n",
            "33/33 [==============================] - 1s 31ms/step - loss: 1.8650 - categorical_accuracy: 0.2521 - val_loss: 6.4555 - val_categorical_accuracy: 0.0000e+00\n",
            "Epoch 21/30\n",
            "33/33 [==============================] - 1s 31ms/step - loss: 1.8662 - categorical_accuracy: 0.2466 - val_loss: 5.6674 - val_categorical_accuracy: 0.0000e+00\n",
            "Epoch 22/30\n",
            "33/33 [==============================] - 1s 31ms/step - loss: 1.8254 - categorical_accuracy: 0.2062 - val_loss: 6.4946 - val_categorical_accuracy: 0.0000e+00\n",
            "Epoch 23/30\n",
            "33/33 [==============================] - 1s 31ms/step - loss: 1.7820 - categorical_accuracy: 0.2073 - val_loss: 7.0286 - val_categorical_accuracy: 0.0000e+00\n",
            "Epoch 24/30\n",
            "33/33 [==============================] - 1s 31ms/step - loss: 1.7614 - categorical_accuracy: 0.2883 - val_loss: 8.2906 - val_categorical_accuracy: 0.0000e+00\n",
            "Epoch 25/30\n",
            "33/33 [==============================] - 1s 30ms/step - loss: 1.7718 - categorical_accuracy: 0.2701 - val_loss: 8.8863 - val_categorical_accuracy: 0.0000e+00\n",
            "Epoch 26/30\n",
            "33/33 [==============================] - 1s 31ms/step - loss: 1.7424 - categorical_accuracy: 0.3120 - val_loss: 6.2478 - val_categorical_accuracy: 0.0000e+00\n",
            "Epoch 27/30\n",
            "33/33 [==============================] - 1s 32ms/step - loss: 1.6678 - categorical_accuracy: 0.3351 - val_loss: 11.6293 - val_categorical_accuracy: 0.0000e+00\n",
            "Epoch 28/30\n",
            "33/33 [==============================] - 1s 30ms/step - loss: 1.7151 - categorical_accuracy: 0.2363 - val_loss: 10.2190 - val_categorical_accuracy: 0.0000e+00\n",
            "Epoch 29/30\n",
            "33/33 [==============================] - 1s 31ms/step - loss: 1.6878 - categorical_accuracy: 0.2306 - val_loss: 6.5514 - val_categorical_accuracy: 0.0000e+00\n",
            "Epoch 30/30\n",
            "33/33 [==============================] - 1s 30ms/step - loss: 1.6611 - categorical_accuracy: 0.2509 - val_loss: 6.4284 - val_categorical_accuracy: 0.0000e+00\n"
          ],
          "name": "stdout"
        }
      ]
    },
    {
      "cell_type": "code",
      "metadata": {
        "id": "EpRFkGy-mfR1",
        "colab": {
          "base_uri": "https://localhost:8080/"
        },
        "outputId": "63be32eb-7c50-4f42-f4e2-1c725d5918cd"
      },
      "source": [
        "m.evaluate(test_images,onehot_test)"
      ],
      "execution_count": 185,
      "outputs": [
        {
          "output_type": "stream",
          "text": [
            "1/1 [==============================] - 0s 26ms/step - loss: 2.7683 - categorical_accuracy: 0.2500\n"
          ],
          "name": "stdout"
        },
        {
          "output_type": "execute_result",
          "data": {
            "text/plain": [
              "[2.768315553665161, 0.25]"
            ]
          },
          "metadata": {
            "tags": []
          },
          "execution_count": 185
        }
      ]
    },
    {
      "cell_type": "code",
      "metadata": {
        "id": "UWfb_eClAKYl"
      },
      "source": [
        ""
      ],
      "execution_count": null,
      "outputs": []
    }
  ]
}