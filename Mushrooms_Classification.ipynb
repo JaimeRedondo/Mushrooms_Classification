{
  "nbformat": 4,
  "nbformat_minor": 0,
  "metadata": {
    "accelerator": "GPU",
    "colab": {
      "name": "Mushrooms_Classification.ipynb",
      "provenance": [],
      "collapsed_sections": [],
      "authorship_tag": "ABX9TyOVLWrkyp1onw9Y46KdoPKY",
      "include_colab_link": true
    },
    "kernelspec": {
      "display_name": "Python 3",
      "name": "python3"
    },
    "widgets": {
      "application/vnd.jupyter.widget-state+json": {
        "d813bf674b1e400c92ef4d08c4748661": {
          "model_module": "@jupyter-widgets/controls",
          "model_name": "HBoxModel",
          "state": {
            "_view_name": "HBoxView",
            "_dom_classes": [],
            "_model_name": "HBoxModel",
            "_view_module": "@jupyter-widgets/controls",
            "_model_module_version": "1.5.0",
            "_view_count": null,
            "_view_module_version": "1.5.0",
            "box_style": "",
            "layout": "IPY_MODEL_a5f759922e1940a38513e4c2953d90d1",
            "_model_module": "@jupyter-widgets/controls",
            "children": [
              "IPY_MODEL_2f8cecb2f8e84b92b4572a9a99b4ea2f",
              "IPY_MODEL_a3cefe15e8444e1c9fddbf550bc15c9c"
            ]
          }
        },
        "a5f759922e1940a38513e4c2953d90d1": {
          "model_module": "@jupyter-widgets/base",
          "model_name": "LayoutModel",
          "state": {
            "_view_name": "LayoutView",
            "grid_template_rows": null,
            "right": null,
            "justify_content": null,
            "_view_module": "@jupyter-widgets/base",
            "overflow": null,
            "_model_module_version": "1.2.0",
            "_view_count": null,
            "flex_flow": null,
            "width": null,
            "min_width": null,
            "border": null,
            "align_items": null,
            "bottom": null,
            "_model_module": "@jupyter-widgets/base",
            "top": null,
            "grid_column": null,
            "overflow_y": null,
            "overflow_x": null,
            "grid_auto_flow": null,
            "grid_area": null,
            "grid_template_columns": null,
            "flex": null,
            "_model_name": "LayoutModel",
            "justify_items": null,
            "grid_row": null,
            "max_height": null,
            "align_content": null,
            "visibility": null,
            "align_self": null,
            "height": null,
            "min_height": null,
            "padding": null,
            "grid_auto_rows": null,
            "grid_gap": null,
            "max_width": null,
            "order": null,
            "_view_module_version": "1.2.0",
            "grid_template_areas": null,
            "object_position": null,
            "object_fit": null,
            "grid_auto_columns": null,
            "margin": null,
            "display": null,
            "left": null
          }
        },
        "2f8cecb2f8e84b92b4572a9a99b4ea2f": {
          "model_module": "@jupyter-widgets/controls",
          "model_name": "FloatProgressModel",
          "state": {
            "_view_name": "ProgressView",
            "style": "IPY_MODEL_5e565e17e648430c931af426bbcda530",
            "_dom_classes": [],
            "description": "100%",
            "_model_name": "FloatProgressModel",
            "bar_style": "success",
            "max": 49,
            "_view_module": "@jupyter-widgets/controls",
            "_model_module_version": "1.5.0",
            "value": 49,
            "_view_count": null,
            "_view_module_version": "1.5.0",
            "orientation": "horizontal",
            "min": 0,
            "description_tooltip": null,
            "_model_module": "@jupyter-widgets/controls",
            "layout": "IPY_MODEL_9b5381eb6c9a43cc83294051bcd1ba10"
          }
        },
        "a3cefe15e8444e1c9fddbf550bc15c9c": {
          "model_module": "@jupyter-widgets/controls",
          "model_name": "HTMLModel",
          "state": {
            "_view_name": "HTMLView",
            "style": "IPY_MODEL_753e93a713f94a9b9adae6eea207ba12",
            "_dom_classes": [],
            "description": "",
            "_model_name": "HTMLModel",
            "placeholder": "​",
            "_view_module": "@jupyter-widgets/controls",
            "_model_module_version": "1.5.0",
            "value": " 49/49 [06:57&lt;00:00,  8.53s/it]",
            "_view_count": null,
            "_view_module_version": "1.5.0",
            "description_tooltip": null,
            "_model_module": "@jupyter-widgets/controls",
            "layout": "IPY_MODEL_ca839fd203c84e9da04225d98ce93d33"
          }
        },
        "5e565e17e648430c931af426bbcda530": {
          "model_module": "@jupyter-widgets/controls",
          "model_name": "ProgressStyleModel",
          "state": {
            "_view_name": "StyleView",
            "_model_name": "ProgressStyleModel",
            "description_width": "initial",
            "_view_module": "@jupyter-widgets/base",
            "_model_module_version": "1.5.0",
            "_view_count": null,
            "_view_module_version": "1.2.0",
            "bar_color": null,
            "_model_module": "@jupyter-widgets/controls"
          }
        },
        "9b5381eb6c9a43cc83294051bcd1ba10": {
          "model_module": "@jupyter-widgets/base",
          "model_name": "LayoutModel",
          "state": {
            "_view_name": "LayoutView",
            "grid_template_rows": null,
            "right": null,
            "justify_content": null,
            "_view_module": "@jupyter-widgets/base",
            "overflow": null,
            "_model_module_version": "1.2.0",
            "_view_count": null,
            "flex_flow": null,
            "width": null,
            "min_width": null,
            "border": null,
            "align_items": null,
            "bottom": null,
            "_model_module": "@jupyter-widgets/base",
            "top": null,
            "grid_column": null,
            "overflow_y": null,
            "overflow_x": null,
            "grid_auto_flow": null,
            "grid_area": null,
            "grid_template_columns": null,
            "flex": null,
            "_model_name": "LayoutModel",
            "justify_items": null,
            "grid_row": null,
            "max_height": null,
            "align_content": null,
            "visibility": null,
            "align_self": null,
            "height": null,
            "min_height": null,
            "padding": null,
            "grid_auto_rows": null,
            "grid_gap": null,
            "max_width": null,
            "order": null,
            "_view_module_version": "1.2.0",
            "grid_template_areas": null,
            "object_position": null,
            "object_fit": null,
            "grid_auto_columns": null,
            "margin": null,
            "display": null,
            "left": null
          }
        },
        "753e93a713f94a9b9adae6eea207ba12": {
          "model_module": "@jupyter-widgets/controls",
          "model_name": "DescriptionStyleModel",
          "state": {
            "_view_name": "StyleView",
            "_model_name": "DescriptionStyleModel",
            "description_width": "",
            "_view_module": "@jupyter-widgets/base",
            "_model_module_version": "1.5.0",
            "_view_count": null,
            "_view_module_version": "1.2.0",
            "_model_module": "@jupyter-widgets/controls"
          }
        },
        "ca839fd203c84e9da04225d98ce93d33": {
          "model_module": "@jupyter-widgets/base",
          "model_name": "LayoutModel",
          "state": {
            "_view_name": "LayoutView",
            "grid_template_rows": null,
            "right": null,
            "justify_content": null,
            "_view_module": "@jupyter-widgets/base",
            "overflow": null,
            "_model_module_version": "1.2.0",
            "_view_count": null,
            "flex_flow": null,
            "width": null,
            "min_width": null,
            "border": null,
            "align_items": null,
            "bottom": null,
            "_model_module": "@jupyter-widgets/base",
            "top": null,
            "grid_column": null,
            "overflow_y": null,
            "overflow_x": null,
            "grid_auto_flow": null,
            "grid_area": null,
            "grid_template_columns": null,
            "flex": null,
            "_model_name": "LayoutModel",
            "justify_items": null,
            "grid_row": null,
            "max_height": null,
            "align_content": null,
            "visibility": null,
            "align_self": null,
            "height": null,
            "min_height": null,
            "padding": null,
            "grid_auto_rows": null,
            "grid_gap": null,
            "max_width": null,
            "order": null,
            "_view_module_version": "1.2.0",
            "grid_template_areas": null,
            "object_position": null,
            "object_fit": null,
            "grid_auto_columns": null,
            "margin": null,
            "display": null,
            "left": null
          }
        },
        "81dbba48671d4094b44863b3029a3ea1": {
          "model_module": "@jupyter-widgets/controls",
          "model_name": "HBoxModel",
          "state": {
            "_view_name": "HBoxView",
            "_dom_classes": [],
            "_model_name": "HBoxModel",
            "_view_module": "@jupyter-widgets/controls",
            "_model_module_version": "1.5.0",
            "_view_count": null,
            "_view_module_version": "1.5.0",
            "box_style": "",
            "layout": "IPY_MODEL_a9cdc5f706c049a7a0253cf2b717574e",
            "_model_module": "@jupyter-widgets/controls",
            "children": [
              "IPY_MODEL_19b18c78e1ea458299af130adbf50743",
              "IPY_MODEL_53bdc40c30524e078b7e1158aaadaec0"
            ]
          }
        },
        "a9cdc5f706c049a7a0253cf2b717574e": {
          "model_module": "@jupyter-widgets/base",
          "model_name": "LayoutModel",
          "state": {
            "_view_name": "LayoutView",
            "grid_template_rows": null,
            "right": null,
            "justify_content": null,
            "_view_module": "@jupyter-widgets/base",
            "overflow": null,
            "_model_module_version": "1.2.0",
            "_view_count": null,
            "flex_flow": null,
            "width": null,
            "min_width": null,
            "border": null,
            "align_items": null,
            "bottom": null,
            "_model_module": "@jupyter-widgets/base",
            "top": null,
            "grid_column": null,
            "overflow_y": null,
            "overflow_x": null,
            "grid_auto_flow": null,
            "grid_area": null,
            "grid_template_columns": null,
            "flex": null,
            "_model_name": "LayoutModel",
            "justify_items": null,
            "grid_row": null,
            "max_height": null,
            "align_content": null,
            "visibility": null,
            "align_self": null,
            "height": null,
            "min_height": null,
            "padding": null,
            "grid_auto_rows": null,
            "grid_gap": null,
            "max_width": null,
            "order": null,
            "_view_module_version": "1.2.0",
            "grid_template_areas": null,
            "object_position": null,
            "object_fit": null,
            "grid_auto_columns": null,
            "margin": null,
            "display": null,
            "left": null
          }
        },
        "19b18c78e1ea458299af130adbf50743": {
          "model_module": "@jupyter-widgets/controls",
          "model_name": "FloatProgressModel",
          "state": {
            "_view_name": "ProgressView",
            "style": "IPY_MODEL_13a06f00bf0046109cb009b0b2747d09",
            "_dom_classes": [],
            "description": "100%",
            "_model_name": "FloatProgressModel",
            "bar_style": "success",
            "max": 51,
            "_view_module": "@jupyter-widgets/controls",
            "_model_module_version": "1.5.0",
            "value": 51,
            "_view_count": null,
            "_view_module_version": "1.5.0",
            "orientation": "horizontal",
            "min": 0,
            "description_tooltip": null,
            "_model_module": "@jupyter-widgets/controls",
            "layout": "IPY_MODEL_c555b247ab64431ba18536f58ecd20c2"
          }
        },
        "53bdc40c30524e078b7e1158aaadaec0": {
          "model_module": "@jupyter-widgets/controls",
          "model_name": "HTMLModel",
          "state": {
            "_view_name": "HTMLView",
            "style": "IPY_MODEL_44fdce5343d444f8a2ec945640e866ea",
            "_dom_classes": [],
            "description": "",
            "_model_name": "HTMLModel",
            "placeholder": "​",
            "_view_module": "@jupyter-widgets/controls",
            "_model_module_version": "1.5.0",
            "value": " 51/51 [00:17&lt;00:00,  2.85it/s]",
            "_view_count": null,
            "_view_module_version": "1.5.0",
            "description_tooltip": null,
            "_model_module": "@jupyter-widgets/controls",
            "layout": "IPY_MODEL_4faf44c6a99041aca95b13afc545db59"
          }
        },
        "13a06f00bf0046109cb009b0b2747d09": {
          "model_module": "@jupyter-widgets/controls",
          "model_name": "ProgressStyleModel",
          "state": {
            "_view_name": "StyleView",
            "_model_name": "ProgressStyleModel",
            "description_width": "initial",
            "_view_module": "@jupyter-widgets/base",
            "_model_module_version": "1.5.0",
            "_view_count": null,
            "_view_module_version": "1.2.0",
            "bar_color": null,
            "_model_module": "@jupyter-widgets/controls"
          }
        },
        "c555b247ab64431ba18536f58ecd20c2": {
          "model_module": "@jupyter-widgets/base",
          "model_name": "LayoutModel",
          "state": {
            "_view_name": "LayoutView",
            "grid_template_rows": null,
            "right": null,
            "justify_content": null,
            "_view_module": "@jupyter-widgets/base",
            "overflow": null,
            "_model_module_version": "1.2.0",
            "_view_count": null,
            "flex_flow": null,
            "width": null,
            "min_width": null,
            "border": null,
            "align_items": null,
            "bottom": null,
            "_model_module": "@jupyter-widgets/base",
            "top": null,
            "grid_column": null,
            "overflow_y": null,
            "overflow_x": null,
            "grid_auto_flow": null,
            "grid_area": null,
            "grid_template_columns": null,
            "flex": null,
            "_model_name": "LayoutModel",
            "justify_items": null,
            "grid_row": null,
            "max_height": null,
            "align_content": null,
            "visibility": null,
            "align_self": null,
            "height": null,
            "min_height": null,
            "padding": null,
            "grid_auto_rows": null,
            "grid_gap": null,
            "max_width": null,
            "order": null,
            "_view_module_version": "1.2.0",
            "grid_template_areas": null,
            "object_position": null,
            "object_fit": null,
            "grid_auto_columns": null,
            "margin": null,
            "display": null,
            "left": null
          }
        },
        "44fdce5343d444f8a2ec945640e866ea": {
          "model_module": "@jupyter-widgets/controls",
          "model_name": "DescriptionStyleModel",
          "state": {
            "_view_name": "StyleView",
            "_model_name": "DescriptionStyleModel",
            "description_width": "",
            "_view_module": "@jupyter-widgets/base",
            "_model_module_version": "1.5.0",
            "_view_count": null,
            "_view_module_version": "1.2.0",
            "_model_module": "@jupyter-widgets/controls"
          }
        },
        "4faf44c6a99041aca95b13afc545db59": {
          "model_module": "@jupyter-widgets/base",
          "model_name": "LayoutModel",
          "state": {
            "_view_name": "LayoutView",
            "grid_template_rows": null,
            "right": null,
            "justify_content": null,
            "_view_module": "@jupyter-widgets/base",
            "overflow": null,
            "_model_module_version": "1.2.0",
            "_view_count": null,
            "flex_flow": null,
            "width": null,
            "min_width": null,
            "border": null,
            "align_items": null,
            "bottom": null,
            "_model_module": "@jupyter-widgets/base",
            "top": null,
            "grid_column": null,
            "overflow_y": null,
            "overflow_x": null,
            "grid_auto_flow": null,
            "grid_area": null,
            "grid_template_columns": null,
            "flex": null,
            "_model_name": "LayoutModel",
            "justify_items": null,
            "grid_row": null,
            "max_height": null,
            "align_content": null,
            "visibility": null,
            "align_self": null,
            "height": null,
            "min_height": null,
            "padding": null,
            "grid_auto_rows": null,
            "grid_gap": null,
            "max_width": null,
            "order": null,
            "_view_module_version": "1.2.0",
            "grid_template_areas": null,
            "object_position": null,
            "object_fit": null,
            "grid_auto_columns": null,
            "margin": null,
            "display": null,
            "left": null
          }
        },
        "3459b459e91a4f2fa00cf5bbecc11ec5": {
          "model_module": "@jupyter-widgets/controls",
          "model_name": "HBoxModel",
          "state": {
            "_view_name": "HBoxView",
            "_dom_classes": [],
            "_model_name": "HBoxModel",
            "_view_module": "@jupyter-widgets/controls",
            "_model_module_version": "1.5.0",
            "_view_count": null,
            "_view_module_version": "1.5.0",
            "box_style": "",
            "layout": "IPY_MODEL_0cc025ea673c4c77814a0fd539374d8c",
            "_model_module": "@jupyter-widgets/controls",
            "children": [
              "IPY_MODEL_09f3f4e1f994436fb2fd08d1f031ad4d",
              "IPY_MODEL_5bbb1b8945754abd81e41164f0afd363"
            ]
          }
        },
        "0cc025ea673c4c77814a0fd539374d8c": {
          "model_module": "@jupyter-widgets/base",
          "model_name": "LayoutModel",
          "state": {
            "_view_name": "LayoutView",
            "grid_template_rows": null,
            "right": null,
            "justify_content": null,
            "_view_module": "@jupyter-widgets/base",
            "overflow": null,
            "_model_module_version": "1.2.0",
            "_view_count": null,
            "flex_flow": null,
            "width": null,
            "min_width": null,
            "border": null,
            "align_items": null,
            "bottom": null,
            "_model_module": "@jupyter-widgets/base",
            "top": null,
            "grid_column": null,
            "overflow_y": null,
            "overflow_x": null,
            "grid_auto_flow": null,
            "grid_area": null,
            "grid_template_columns": null,
            "flex": null,
            "_model_name": "LayoutModel",
            "justify_items": null,
            "grid_row": null,
            "max_height": null,
            "align_content": null,
            "visibility": null,
            "align_self": null,
            "height": null,
            "min_height": null,
            "padding": null,
            "grid_auto_rows": null,
            "grid_gap": null,
            "max_width": null,
            "order": null,
            "_view_module_version": "1.2.0",
            "grid_template_areas": null,
            "object_position": null,
            "object_fit": null,
            "grid_auto_columns": null,
            "margin": null,
            "display": null,
            "left": null
          }
        },
        "09f3f4e1f994436fb2fd08d1f031ad4d": {
          "model_module": "@jupyter-widgets/controls",
          "model_name": "FloatProgressModel",
          "state": {
            "_view_name": "ProgressView",
            "style": "IPY_MODEL_ef07827f7e5c44f783476b269028b2c9",
            "_dom_classes": [],
            "description": "100%",
            "_model_name": "FloatProgressModel",
            "bar_style": "success",
            "max": 48,
            "_view_module": "@jupyter-widgets/controls",
            "_model_module_version": "1.5.0",
            "value": 48,
            "_view_count": null,
            "_view_module_version": "1.5.0",
            "orientation": "horizontal",
            "min": 0,
            "description_tooltip": null,
            "_model_module": "@jupyter-widgets/controls",
            "layout": "IPY_MODEL_401461e87c11462982d1c2375ab847a7"
          }
        },
        "5bbb1b8945754abd81e41164f0afd363": {
          "model_module": "@jupyter-widgets/controls",
          "model_name": "HTMLModel",
          "state": {
            "_view_name": "HTMLView",
            "style": "IPY_MODEL_f6c418e8521b4345b16dd92db99ebcdc",
            "_dom_classes": [],
            "description": "",
            "_model_name": "HTMLModel",
            "placeholder": "​",
            "_view_module": "@jupyter-widgets/controls",
            "_model_module_version": "1.5.0",
            "value": " 48/48 [00:01&lt;00:00, 34.24it/s]",
            "_view_count": null,
            "_view_module_version": "1.5.0",
            "description_tooltip": null,
            "_model_module": "@jupyter-widgets/controls",
            "layout": "IPY_MODEL_b9b7831f79f94ddd84ca5fcf32511661"
          }
        },
        "ef07827f7e5c44f783476b269028b2c9": {
          "model_module": "@jupyter-widgets/controls",
          "model_name": "ProgressStyleModel",
          "state": {
            "_view_name": "StyleView",
            "_model_name": "ProgressStyleModel",
            "description_width": "initial",
            "_view_module": "@jupyter-widgets/base",
            "_model_module_version": "1.5.0",
            "_view_count": null,
            "_view_module_version": "1.2.0",
            "bar_color": null,
            "_model_module": "@jupyter-widgets/controls"
          }
        },
        "401461e87c11462982d1c2375ab847a7": {
          "model_module": "@jupyter-widgets/base",
          "model_name": "LayoutModel",
          "state": {
            "_view_name": "LayoutView",
            "grid_template_rows": null,
            "right": null,
            "justify_content": null,
            "_view_module": "@jupyter-widgets/base",
            "overflow": null,
            "_model_module_version": "1.2.0",
            "_view_count": null,
            "flex_flow": null,
            "width": null,
            "min_width": null,
            "border": null,
            "align_items": null,
            "bottom": null,
            "_model_module": "@jupyter-widgets/base",
            "top": null,
            "grid_column": null,
            "overflow_y": null,
            "overflow_x": null,
            "grid_auto_flow": null,
            "grid_area": null,
            "grid_template_columns": null,
            "flex": null,
            "_model_name": "LayoutModel",
            "justify_items": null,
            "grid_row": null,
            "max_height": null,
            "align_content": null,
            "visibility": null,
            "align_self": null,
            "height": null,
            "min_height": null,
            "padding": null,
            "grid_auto_rows": null,
            "grid_gap": null,
            "max_width": null,
            "order": null,
            "_view_module_version": "1.2.0",
            "grid_template_areas": null,
            "object_position": null,
            "object_fit": null,
            "grid_auto_columns": null,
            "margin": null,
            "display": null,
            "left": null
          }
        },
        "f6c418e8521b4345b16dd92db99ebcdc": {
          "model_module": "@jupyter-widgets/controls",
          "model_name": "DescriptionStyleModel",
          "state": {
            "_view_name": "StyleView",
            "_model_name": "DescriptionStyleModel",
            "description_width": "",
            "_view_module": "@jupyter-widgets/base",
            "_model_module_version": "1.5.0",
            "_view_count": null,
            "_view_module_version": "1.2.0",
            "_model_module": "@jupyter-widgets/controls"
          }
        },
        "b9b7831f79f94ddd84ca5fcf32511661": {
          "model_module": "@jupyter-widgets/base",
          "model_name": "LayoutModel",
          "state": {
            "_view_name": "LayoutView",
            "grid_template_rows": null,
            "right": null,
            "justify_content": null,
            "_view_module": "@jupyter-widgets/base",
            "overflow": null,
            "_model_module_version": "1.2.0",
            "_view_count": null,
            "flex_flow": null,
            "width": null,
            "min_width": null,
            "border": null,
            "align_items": null,
            "bottom": null,
            "_model_module": "@jupyter-widgets/base",
            "top": null,
            "grid_column": null,
            "overflow_y": null,
            "overflow_x": null,
            "grid_auto_flow": null,
            "grid_area": null,
            "grid_template_columns": null,
            "flex": null,
            "_model_name": "LayoutModel",
            "justify_items": null,
            "grid_row": null,
            "max_height": null,
            "align_content": null,
            "visibility": null,
            "align_self": null,
            "height": null,
            "min_height": null,
            "padding": null,
            "grid_auto_rows": null,
            "grid_gap": null,
            "max_width": null,
            "order": null,
            "_view_module_version": "1.2.0",
            "grid_template_areas": null,
            "object_position": null,
            "object_fit": null,
            "grid_auto_columns": null,
            "margin": null,
            "display": null,
            "left": null
          }
        },
        "4e0466cb06de424b85a324f0f67f40ab": {
          "model_module": "@jupyter-widgets/controls",
          "model_name": "HBoxModel",
          "state": {
            "_view_name": "HBoxView",
            "_dom_classes": [],
            "_model_name": "HBoxModel",
            "_view_module": "@jupyter-widgets/controls",
            "_model_module_version": "1.5.0",
            "_view_count": null,
            "_view_module_version": "1.5.0",
            "box_style": "",
            "layout": "IPY_MODEL_00aa1fd3f2404307ab7dbb49db6c8262",
            "_model_module": "@jupyter-widgets/controls",
            "children": [
              "IPY_MODEL_8acd3d835d174921bf98af6b35780614",
              "IPY_MODEL_d4437417ed15471cbbef1c29e6f0a622"
            ]
          }
        },
        "00aa1fd3f2404307ab7dbb49db6c8262": {
          "model_module": "@jupyter-widgets/base",
          "model_name": "LayoutModel",
          "state": {
            "_view_name": "LayoutView",
            "grid_template_rows": null,
            "right": null,
            "justify_content": null,
            "_view_module": "@jupyter-widgets/base",
            "overflow": null,
            "_model_module_version": "1.2.0",
            "_view_count": null,
            "flex_flow": null,
            "width": null,
            "min_width": null,
            "border": null,
            "align_items": null,
            "bottom": null,
            "_model_module": "@jupyter-widgets/base",
            "top": null,
            "grid_column": null,
            "overflow_y": null,
            "overflow_x": null,
            "grid_auto_flow": null,
            "grid_area": null,
            "grid_template_columns": null,
            "flex": null,
            "_model_name": "LayoutModel",
            "justify_items": null,
            "grid_row": null,
            "max_height": null,
            "align_content": null,
            "visibility": null,
            "align_self": null,
            "height": null,
            "min_height": null,
            "padding": null,
            "grid_auto_rows": null,
            "grid_gap": null,
            "max_width": null,
            "order": null,
            "_view_module_version": "1.2.0",
            "grid_template_areas": null,
            "object_position": null,
            "object_fit": null,
            "grid_auto_columns": null,
            "margin": null,
            "display": null,
            "left": null
          }
        },
        "8acd3d835d174921bf98af6b35780614": {
          "model_module": "@jupyter-widgets/controls",
          "model_name": "FloatProgressModel",
          "state": {
            "_view_name": "ProgressView",
            "style": "IPY_MODEL_4788f364c0fd4c4eb04334d6291f81a9",
            "_dom_classes": [],
            "description": "100%",
            "_model_name": "FloatProgressModel",
            "bar_style": "success",
            "max": 48,
            "_view_module": "@jupyter-widgets/controls",
            "_model_module_version": "1.5.0",
            "value": 48,
            "_view_count": null,
            "_view_module_version": "1.5.0",
            "orientation": "horizontal",
            "min": 0,
            "description_tooltip": null,
            "_model_module": "@jupyter-widgets/controls",
            "layout": "IPY_MODEL_b12d4ff07f1a4347b92c85e8b1fd300e"
          }
        },
        "d4437417ed15471cbbef1c29e6f0a622": {
          "model_module": "@jupyter-widgets/controls",
          "model_name": "HTMLModel",
          "state": {
            "_view_name": "HTMLView",
            "style": "IPY_MODEL_b3ebc6d4cfd14aa8891f32535bf2fe39",
            "_dom_classes": [],
            "description": "",
            "_model_name": "HTMLModel",
            "placeholder": "​",
            "_view_module": "@jupyter-widgets/controls",
            "_model_module_version": "1.5.0",
            "value": " 48/48 [00:00&lt;00:00, 84.23it/s]",
            "_view_count": null,
            "_view_module_version": "1.5.0",
            "description_tooltip": null,
            "_model_module": "@jupyter-widgets/controls",
            "layout": "IPY_MODEL_618f0d8238b5404584f151feb675d0c7"
          }
        },
        "4788f364c0fd4c4eb04334d6291f81a9": {
          "model_module": "@jupyter-widgets/controls",
          "model_name": "ProgressStyleModel",
          "state": {
            "_view_name": "StyleView",
            "_model_name": "ProgressStyleModel",
            "description_width": "initial",
            "_view_module": "@jupyter-widgets/base",
            "_model_module_version": "1.5.0",
            "_view_count": null,
            "_view_module_version": "1.2.0",
            "bar_color": null,
            "_model_module": "@jupyter-widgets/controls"
          }
        },
        "b12d4ff07f1a4347b92c85e8b1fd300e": {
          "model_module": "@jupyter-widgets/base",
          "model_name": "LayoutModel",
          "state": {
            "_view_name": "LayoutView",
            "grid_template_rows": null,
            "right": null,
            "justify_content": null,
            "_view_module": "@jupyter-widgets/base",
            "overflow": null,
            "_model_module_version": "1.2.0",
            "_view_count": null,
            "flex_flow": null,
            "width": null,
            "min_width": null,
            "border": null,
            "align_items": null,
            "bottom": null,
            "_model_module": "@jupyter-widgets/base",
            "top": null,
            "grid_column": null,
            "overflow_y": null,
            "overflow_x": null,
            "grid_auto_flow": null,
            "grid_area": null,
            "grid_template_columns": null,
            "flex": null,
            "_model_name": "LayoutModel",
            "justify_items": null,
            "grid_row": null,
            "max_height": null,
            "align_content": null,
            "visibility": null,
            "align_self": null,
            "height": null,
            "min_height": null,
            "padding": null,
            "grid_auto_rows": null,
            "grid_gap": null,
            "max_width": null,
            "order": null,
            "_view_module_version": "1.2.0",
            "grid_template_areas": null,
            "object_position": null,
            "object_fit": null,
            "grid_auto_columns": null,
            "margin": null,
            "display": null,
            "left": null
          }
        },
        "b3ebc6d4cfd14aa8891f32535bf2fe39": {
          "model_module": "@jupyter-widgets/controls",
          "model_name": "DescriptionStyleModel",
          "state": {
            "_view_name": "StyleView",
            "_model_name": "DescriptionStyleModel",
            "description_width": "",
            "_view_module": "@jupyter-widgets/base",
            "_model_module_version": "1.5.0",
            "_view_count": null,
            "_view_module_version": "1.2.0",
            "_model_module": "@jupyter-widgets/controls"
          }
        },
        "618f0d8238b5404584f151feb675d0c7": {
          "model_module": "@jupyter-widgets/base",
          "model_name": "LayoutModel",
          "state": {
            "_view_name": "LayoutView",
            "grid_template_rows": null,
            "right": null,
            "justify_content": null,
            "_view_module": "@jupyter-widgets/base",
            "overflow": null,
            "_model_module_version": "1.2.0",
            "_view_count": null,
            "flex_flow": null,
            "width": null,
            "min_width": null,
            "border": null,
            "align_items": null,
            "bottom": null,
            "_model_module": "@jupyter-widgets/base",
            "top": null,
            "grid_column": null,
            "overflow_y": null,
            "overflow_x": null,
            "grid_auto_flow": null,
            "grid_area": null,
            "grid_template_columns": null,
            "flex": null,
            "_model_name": "LayoutModel",
            "justify_items": null,
            "grid_row": null,
            "max_height": null,
            "align_content": null,
            "visibility": null,
            "align_self": null,
            "height": null,
            "min_height": null,
            "padding": null,
            "grid_auto_rows": null,
            "grid_gap": null,
            "max_width": null,
            "order": null,
            "_view_module_version": "1.2.0",
            "grid_template_areas": null,
            "object_position": null,
            "object_fit": null,
            "grid_auto_columns": null,
            "margin": null,
            "display": null,
            "left": null
          }
        },
        "a9bc3aaf28df49f8bfed4a036198053e": {
          "model_module": "@jupyter-widgets/controls",
          "model_name": "HBoxModel",
          "state": {
            "_view_name": "HBoxView",
            "_dom_classes": [],
            "_model_name": "HBoxModel",
            "_view_module": "@jupyter-widgets/controls",
            "_model_module_version": "1.5.0",
            "_view_count": null,
            "_view_module_version": "1.5.0",
            "box_style": "",
            "layout": "IPY_MODEL_c651567142cc4ed2804ac171651db915",
            "_model_module": "@jupyter-widgets/controls",
            "children": [
              "IPY_MODEL_fdb560390d3a4d1b8053f646f5fdd64f",
              "IPY_MODEL_0439f6adee114fe18d7a988befcfcd9a"
            ]
          }
        },
        "c651567142cc4ed2804ac171651db915": {
          "model_module": "@jupyter-widgets/base",
          "model_name": "LayoutModel",
          "state": {
            "_view_name": "LayoutView",
            "grid_template_rows": null,
            "right": null,
            "justify_content": null,
            "_view_module": "@jupyter-widgets/base",
            "overflow": null,
            "_model_module_version": "1.2.0",
            "_view_count": null,
            "flex_flow": null,
            "width": null,
            "min_width": null,
            "border": null,
            "align_items": null,
            "bottom": null,
            "_model_module": "@jupyter-widgets/base",
            "top": null,
            "grid_column": null,
            "overflow_y": null,
            "overflow_x": null,
            "grid_auto_flow": null,
            "grid_area": null,
            "grid_template_columns": null,
            "flex": null,
            "_model_name": "LayoutModel",
            "justify_items": null,
            "grid_row": null,
            "max_height": null,
            "align_content": null,
            "visibility": null,
            "align_self": null,
            "height": null,
            "min_height": null,
            "padding": null,
            "grid_auto_rows": null,
            "grid_gap": null,
            "max_width": null,
            "order": null,
            "_view_module_version": "1.2.0",
            "grid_template_areas": null,
            "object_position": null,
            "object_fit": null,
            "grid_auto_columns": null,
            "margin": null,
            "display": null,
            "left": null
          }
        },
        "fdb560390d3a4d1b8053f646f5fdd64f": {
          "model_module": "@jupyter-widgets/controls",
          "model_name": "FloatProgressModel",
          "state": {
            "_view_name": "ProgressView",
            "style": "IPY_MODEL_47f26fb7336a4f71a1d0901af9726e90",
            "_dom_classes": [],
            "description": "100%",
            "_model_name": "FloatProgressModel",
            "bar_style": "success",
            "max": 48,
            "_view_module": "@jupyter-widgets/controls",
            "_model_module_version": "1.5.0",
            "value": 48,
            "_view_count": null,
            "_view_module_version": "1.5.0",
            "orientation": "horizontal",
            "min": 0,
            "description_tooltip": null,
            "_model_module": "@jupyter-widgets/controls",
            "layout": "IPY_MODEL_a205a64ce2aa43ae8f124a78c1a76c3b"
          }
        },
        "0439f6adee114fe18d7a988befcfcd9a": {
          "model_module": "@jupyter-widgets/controls",
          "model_name": "HTMLModel",
          "state": {
            "_view_name": "HTMLView",
            "style": "IPY_MODEL_6809f7e968d842389ebdb873a0dff9e5",
            "_dom_classes": [],
            "description": "",
            "_model_name": "HTMLModel",
            "placeholder": "​",
            "_view_module": "@jupyter-widgets/controls",
            "_model_module_version": "1.5.0",
            "value": " 48/48 [01:13&lt;00:00,  1.53s/it]",
            "_view_count": null,
            "_view_module_version": "1.5.0",
            "description_tooltip": null,
            "_model_module": "@jupyter-widgets/controls",
            "layout": "IPY_MODEL_464fff5406a14dc2accb477a564deaaf"
          }
        },
        "47f26fb7336a4f71a1d0901af9726e90": {
          "model_module": "@jupyter-widgets/controls",
          "model_name": "ProgressStyleModel",
          "state": {
            "_view_name": "StyleView",
            "_model_name": "ProgressStyleModel",
            "description_width": "initial",
            "_view_module": "@jupyter-widgets/base",
            "_model_module_version": "1.5.0",
            "_view_count": null,
            "_view_module_version": "1.2.0",
            "bar_color": null,
            "_model_module": "@jupyter-widgets/controls"
          }
        },
        "a205a64ce2aa43ae8f124a78c1a76c3b": {
          "model_module": "@jupyter-widgets/base",
          "model_name": "LayoutModel",
          "state": {
            "_view_name": "LayoutView",
            "grid_template_rows": null,
            "right": null,
            "justify_content": null,
            "_view_module": "@jupyter-widgets/base",
            "overflow": null,
            "_model_module_version": "1.2.0",
            "_view_count": null,
            "flex_flow": null,
            "width": null,
            "min_width": null,
            "border": null,
            "align_items": null,
            "bottom": null,
            "_model_module": "@jupyter-widgets/base",
            "top": null,
            "grid_column": null,
            "overflow_y": null,
            "overflow_x": null,
            "grid_auto_flow": null,
            "grid_area": null,
            "grid_template_columns": null,
            "flex": null,
            "_model_name": "LayoutModel",
            "justify_items": null,
            "grid_row": null,
            "max_height": null,
            "align_content": null,
            "visibility": null,
            "align_self": null,
            "height": null,
            "min_height": null,
            "padding": null,
            "grid_auto_rows": null,
            "grid_gap": null,
            "max_width": null,
            "order": null,
            "_view_module_version": "1.2.0",
            "grid_template_areas": null,
            "object_position": null,
            "object_fit": null,
            "grid_auto_columns": null,
            "margin": null,
            "display": null,
            "left": null
          }
        },
        "6809f7e968d842389ebdb873a0dff9e5": {
          "model_module": "@jupyter-widgets/controls",
          "model_name": "DescriptionStyleModel",
          "state": {
            "_view_name": "StyleView",
            "_model_name": "DescriptionStyleModel",
            "description_width": "",
            "_view_module": "@jupyter-widgets/base",
            "_model_module_version": "1.5.0",
            "_view_count": null,
            "_view_module_version": "1.2.0",
            "_model_module": "@jupyter-widgets/controls"
          }
        },
        "464fff5406a14dc2accb477a564deaaf": {
          "model_module": "@jupyter-widgets/base",
          "model_name": "LayoutModel",
          "state": {
            "_view_name": "LayoutView",
            "grid_template_rows": null,
            "right": null,
            "justify_content": null,
            "_view_module": "@jupyter-widgets/base",
            "overflow": null,
            "_model_module_version": "1.2.0",
            "_view_count": null,
            "flex_flow": null,
            "width": null,
            "min_width": null,
            "border": null,
            "align_items": null,
            "bottom": null,
            "_model_module": "@jupyter-widgets/base",
            "top": null,
            "grid_column": null,
            "overflow_y": null,
            "overflow_x": null,
            "grid_auto_flow": null,
            "grid_area": null,
            "grid_template_columns": null,
            "flex": null,
            "_model_name": "LayoutModel",
            "justify_items": null,
            "grid_row": null,
            "max_height": null,
            "align_content": null,
            "visibility": null,
            "align_self": null,
            "height": null,
            "min_height": null,
            "padding": null,
            "grid_auto_rows": null,
            "grid_gap": null,
            "max_width": null,
            "order": null,
            "_view_module_version": "1.2.0",
            "grid_template_areas": null,
            "object_position": null,
            "object_fit": null,
            "grid_auto_columns": null,
            "margin": null,
            "display": null,
            "left": null
          }
        }
      }
    }
  },
  "cells": [
    {
      "cell_type": "markdown",
      "metadata": {
        "id": "view-in-github",
        "colab_type": "text"
      },
      "source": [
        "<a href=\"https://colab.research.google.com/github/JaimeRedondo/Mushrooms_Classification/blob/master/Mushrooms_Classification.ipynb\" target=\"_parent\"><img src=\"https://colab.research.google.com/assets/colab-badge.svg\" alt=\"Open In Colab\"/></a>"
      ]
    },
    {
      "cell_type": "markdown",
      "metadata": {
        "id": "KEqnwo-vV2nq"
      },
      "source": [
        "## Libraries Import"
      ]
    },
    {
      "cell_type": "code",
      "metadata": {
        "colab": {
          "base_uri": "https://localhost:8080/"
        },
        "id": "vz6dxutvauCY",
        "outputId": "2cb15590-556e-44ab-d8d1-19805672534a"
      },
      "source": [
        "### If the first time you have an error, try to restart runtime and run again.\n",
        "\n",
        "### Working with images\n",
        "! pip install opencv-python\n",
        "from matplotlib import image\n",
        "from matplotlib import pyplot\n",
        "from skimage import io\n",
        "import cv2\n",
        "import os\n",
        "import skimage\n",
        "from skimage import data, io, filters, transform\n",
        "\n",
        "### Web scraping packages\n",
        "from bs4 import BeautifulSoup\n",
        "import requests\n",
        "import itertools\n",
        "from urllib.request import Request, urlopen\n",
        "import urllib.request\n",
        "\n",
        "### Pandas/numpy for data manipulation\n",
        "import pandas as pd\n",
        "import numpy as np\n",
        "from urllib.request import urlopen\n",
        "\n",
        "### Progress bar\n",
        "from tqdm.notebook import tqdm\n",
        "from time import sleep \n",
        "\n",
        "### Visualize data\n",
        "%pylab inline\n",
        "plt.style.use('seaborn-talk')\n",
        "import matplotlib.pyplot as plt\n",
        "import matplotlib.image as mpimg\n",
        "import seaborn as sns\n",
        "%matplotlib inline\n",
        "\n",
        "### Deep learning libraries\n",
        "from tensorflow.keras import optimizers\n",
        "from tensorflow.keras import losses\n",
        "from tensorflow.keras import metrics\n",
        "from tensorflow.keras.utils import to_categorical\n",
        "from tensorflow.keras import models\n",
        "from tensorflow.keras import layers\n",
        "from tensorflow.keras import Input\n",
        "import tensorflow as tf\n",
        "from sklearn.metrics import confusion_matrix\n",
        "import itertools\n",
        "from keras.utils.np_utils import to_categorical\n",
        "from keras.models import Sequential\n",
        "from keras.layers import Dense, Dropout, Flatten, Conv2D, MaxPool2D\n",
        "from keras.optimizers import RMSprop\n",
        "from keras.preprocessing.image import ImageDataGenerator\n",
        "from keras.callbacks import ReduceLROnPlateau\n",
        "from sklearn.preprocessing import OneHotEncoder\n",
        "from sklearn.preprocessing import LabelEncoder\n",
        "from keras.models import load_model\n",
        "\n",
        "### Random\n",
        "import random \n",
        "\n",
        "### Streamlit Web App\n",
        "! pip install streamlit\n",
        "! pip install pyngrok\n",
        "from pyngrok import ngrok\n",
        "import streamlit as st\n",
        "\n",
        "\n"
      ],
      "execution_count": 1,
      "outputs": [
        {
          "output_type": "stream",
          "text": [
            "Requirement already satisfied: opencv-python in /usr/local/lib/python3.7/dist-packages (4.1.2.30)\n",
            "Requirement already satisfied: numpy>=1.14.5 in /usr/local/lib/python3.7/dist-packages (from opencv-python) (1.19.5)\n",
            "Populating the interactive namespace from numpy and matplotlib\n",
            "Requirement already satisfied: streamlit in /usr/local/lib/python3.7/dist-packages (0.81.1)\n",
            "Requirement already satisfied: gitpython in /usr/local/lib/python3.7/dist-packages (from streamlit) (3.1.14)\n",
            "Requirement already satisfied: toml in /usr/local/lib/python3.7/dist-packages (from streamlit) (0.10.2)\n",
            "Requirement already satisfied: packaging in /usr/local/lib/python3.7/dist-packages (from streamlit) (20.9)\n",
            "Requirement already satisfied: pydeck>=0.1.dev5 in /usr/local/lib/python3.7/dist-packages (from streamlit) (0.6.2)\n",
            "Requirement already satisfied: cachetools>=4.0 in /usr/local/lib/python3.7/dist-packages (from streamlit) (4.2.1)\n",
            "Requirement already satisfied: pandas>=0.21.0 in /usr/local/lib/python3.7/dist-packages (from streamlit) (1.1.5)\n",
            "Requirement already satisfied: watchdog; platform_system != \"Darwin\" in /usr/local/lib/python3.7/dist-packages (from streamlit) (2.1.0)\n",
            "Requirement already satisfied: numpy in /usr/local/lib/python3.7/dist-packages (from streamlit) (1.19.5)\n",
            "Requirement already satisfied: requests in /usr/local/lib/python3.7/dist-packages (from streamlit) (2.23.0)\n",
            "Requirement already satisfied: pyarrow; python_version < \"3.9\" in /usr/local/lib/python3.7/dist-packages (from streamlit) (3.0.0)\n",
            "Requirement already satisfied: tornado>=5.0 in /usr/local/lib/python3.7/dist-packages (from streamlit) (5.1.1)\n",
            "Requirement already satisfied: click>=7.0 in /usr/local/lib/python3.7/dist-packages (from streamlit) (7.1.2)\n",
            "Requirement already satisfied: astor in /usr/local/lib/python3.7/dist-packages (from streamlit) (0.8.1)\n",
            "Requirement already satisfied: base58 in /usr/local/lib/python3.7/dist-packages (from streamlit) (2.1.0)\n",
            "Requirement already satisfied: pillow>=6.2.0 in /usr/local/lib/python3.7/dist-packages (from streamlit) (7.1.2)\n",
            "Requirement already satisfied: validators in /usr/local/lib/python3.7/dist-packages (from streamlit) (0.18.2)\n",
            "Requirement already satisfied: protobuf!=3.11,>=3.6.0 in /usr/local/lib/python3.7/dist-packages (from streamlit) (3.12.4)\n",
            "Requirement already satisfied: altair>=3.2.0 in /usr/local/lib/python3.7/dist-packages (from streamlit) (4.1.0)\n",
            "Requirement already satisfied: python-dateutil in /usr/local/lib/python3.7/dist-packages (from streamlit) (2.8.1)\n",
            "Requirement already satisfied: tzlocal in /usr/local/lib/python3.7/dist-packages (from streamlit) (1.5.1)\n",
            "Requirement already satisfied: blinker in /usr/local/lib/python3.7/dist-packages (from streamlit) (1.4)\n",
            "Requirement already satisfied: gitdb<5,>=4.0.1 in /usr/local/lib/python3.7/dist-packages (from gitpython->streamlit) (4.0.7)\n",
            "Requirement already satisfied: pyparsing>=2.0.2 in /usr/local/lib/python3.7/dist-packages (from packaging->streamlit) (2.4.7)\n",
            "Requirement already satisfied: jinja2>=2.10.1 in /usr/local/lib/python3.7/dist-packages (from pydeck>=0.1.dev5->streamlit) (2.11.3)\n",
            "Requirement already satisfied: ipykernel>=5.1.2; python_version >= \"3.4\" in /usr/local/lib/python3.7/dist-packages (from pydeck>=0.1.dev5->streamlit) (5.5.4)\n",
            "Requirement already satisfied: ipywidgets>=7.0.0 in /usr/local/lib/python3.7/dist-packages (from pydeck>=0.1.dev5->streamlit) (7.6.3)\n",
            "Requirement already satisfied: traitlets>=4.3.2 in /usr/local/lib/python3.7/dist-packages (from pydeck>=0.1.dev5->streamlit) (5.0.5)\n",
            "Requirement already satisfied: pytz>=2017.2 in /usr/local/lib/python3.7/dist-packages (from pandas>=0.21.0->streamlit) (2018.9)\n",
            "Requirement already satisfied: idna<3,>=2.5 in /usr/local/lib/python3.7/dist-packages (from requests->streamlit) (2.10)\n",
            "Requirement already satisfied: certifi>=2017.4.17 in /usr/local/lib/python3.7/dist-packages (from requests->streamlit) (2020.12.5)\n",
            "Requirement already satisfied: urllib3!=1.25.0,!=1.25.1,<1.26,>=1.21.1 in /usr/local/lib/python3.7/dist-packages (from requests->streamlit) (1.24.3)\n",
            "Requirement already satisfied: chardet<4,>=3.0.2 in /usr/local/lib/python3.7/dist-packages (from requests->streamlit) (3.0.4)\n",
            "Requirement already satisfied: six>=1.4.0 in /usr/local/lib/python3.7/dist-packages (from validators->streamlit) (1.15.0)\n",
            "Requirement already satisfied: decorator>=3.4.0 in /usr/local/lib/python3.7/dist-packages (from validators->streamlit) (4.4.2)\n",
            "Requirement already satisfied: setuptools in /usr/local/lib/python3.7/dist-packages (from protobuf!=3.11,>=3.6.0->streamlit) (56.1.0)\n",
            "Requirement already satisfied: toolz in /usr/local/lib/python3.7/dist-packages (from altair>=3.2.0->streamlit) (0.11.1)\n",
            "Requirement already satisfied: entrypoints in /usr/local/lib/python3.7/dist-packages (from altair>=3.2.0->streamlit) (0.3)\n",
            "Requirement already satisfied: jsonschema in /usr/local/lib/python3.7/dist-packages (from altair>=3.2.0->streamlit) (2.6.0)\n",
            "Requirement already satisfied: smmap<5,>=3.0.1 in /usr/local/lib/python3.7/dist-packages (from gitdb<5,>=4.0.1->gitpython->streamlit) (4.0.0)\n",
            "Requirement already satisfied: MarkupSafe>=0.23 in /usr/local/lib/python3.7/dist-packages (from jinja2>=2.10.1->pydeck>=0.1.dev5->streamlit) (1.1.1)\n",
            "Requirement already satisfied: ipython>=5.0.0 in /usr/local/lib/python3.7/dist-packages (from ipykernel>=5.1.2; python_version >= \"3.4\"->pydeck>=0.1.dev5->streamlit) (5.5.0)\n",
            "Requirement already satisfied: jupyter-client in /usr/local/lib/python3.7/dist-packages (from ipykernel>=5.1.2; python_version >= \"3.4\"->pydeck>=0.1.dev5->streamlit) (5.3.5)\n",
            "Requirement already satisfied: widgetsnbextension~=3.5.0 in /usr/local/lib/python3.7/dist-packages (from ipywidgets>=7.0.0->pydeck>=0.1.dev5->streamlit) (3.5.1)\n",
            "Requirement already satisfied: jupyterlab-widgets>=1.0.0; python_version >= \"3.6\" in /usr/local/lib/python3.7/dist-packages (from ipywidgets>=7.0.0->pydeck>=0.1.dev5->streamlit) (1.0.0)\n",
            "Requirement already satisfied: nbformat>=4.2.0 in /usr/local/lib/python3.7/dist-packages (from ipywidgets>=7.0.0->pydeck>=0.1.dev5->streamlit) (5.1.3)\n",
            "Requirement already satisfied: ipython-genutils in /usr/local/lib/python3.7/dist-packages (from traitlets>=4.3.2->pydeck>=0.1.dev5->streamlit) (0.2.0)\n",
            "Requirement already satisfied: pexpect; sys_platform != \"win32\" in /usr/local/lib/python3.7/dist-packages (from ipython>=5.0.0->ipykernel>=5.1.2; python_version >= \"3.4\"->pydeck>=0.1.dev5->streamlit) (4.8.0)\n",
            "Requirement already satisfied: simplegeneric>0.8 in /usr/local/lib/python3.7/dist-packages (from ipython>=5.0.0->ipykernel>=5.1.2; python_version >= \"3.4\"->pydeck>=0.1.dev5->streamlit) (0.8.1)\n",
            "Requirement already satisfied: pickleshare in /usr/local/lib/python3.7/dist-packages (from ipython>=5.0.0->ipykernel>=5.1.2; python_version >= \"3.4\"->pydeck>=0.1.dev5->streamlit) (0.7.5)\n",
            "Requirement already satisfied: pygments in /usr/local/lib/python3.7/dist-packages (from ipython>=5.0.0->ipykernel>=5.1.2; python_version >= \"3.4\"->pydeck>=0.1.dev5->streamlit) (2.6.1)\n",
            "Requirement already satisfied: prompt-toolkit<2.0.0,>=1.0.4 in /usr/local/lib/python3.7/dist-packages (from ipython>=5.0.0->ipykernel>=5.1.2; python_version >= \"3.4\"->pydeck>=0.1.dev5->streamlit) (1.0.18)\n",
            "Requirement already satisfied: jupyter-core>=4.6.0 in /usr/local/lib/python3.7/dist-packages (from jupyter-client->ipykernel>=5.1.2; python_version >= \"3.4\"->pydeck>=0.1.dev5->streamlit) (4.7.1)\n",
            "Requirement already satisfied: pyzmq>=13 in /usr/local/lib/python3.7/dist-packages (from jupyter-client->ipykernel>=5.1.2; python_version >= \"3.4\"->pydeck>=0.1.dev5->streamlit) (22.0.3)\n",
            "Requirement already satisfied: notebook>=4.4.1 in /usr/local/lib/python3.7/dist-packages (from widgetsnbextension~=3.5.0->ipywidgets>=7.0.0->pydeck>=0.1.dev5->streamlit) (5.3.1)\n",
            "Requirement already satisfied: ptyprocess>=0.5 in /usr/local/lib/python3.7/dist-packages (from pexpect; sys_platform != \"win32\"->ipython>=5.0.0->ipykernel>=5.1.2; python_version >= \"3.4\"->pydeck>=0.1.dev5->streamlit) (0.7.0)\n",
            "Requirement already satisfied: wcwidth in /usr/local/lib/python3.7/dist-packages (from prompt-toolkit<2.0.0,>=1.0.4->ipython>=5.0.0->ipykernel>=5.1.2; python_version >= \"3.4\"->pydeck>=0.1.dev5->streamlit) (0.2.5)\n",
            "Requirement already satisfied: terminado>=0.8.1 in /usr/local/lib/python3.7/dist-packages (from notebook>=4.4.1->widgetsnbextension~=3.5.0->ipywidgets>=7.0.0->pydeck>=0.1.dev5->streamlit) (0.9.4)\n",
            "Requirement already satisfied: Send2Trash in /usr/local/lib/python3.7/dist-packages (from notebook>=4.4.1->widgetsnbextension~=3.5.0->ipywidgets>=7.0.0->pydeck>=0.1.dev5->streamlit) (1.5.0)\n",
            "Requirement already satisfied: nbconvert in /usr/local/lib/python3.7/dist-packages (from notebook>=4.4.1->widgetsnbextension~=3.5.0->ipywidgets>=7.0.0->pydeck>=0.1.dev5->streamlit) (5.6.1)\n",
            "Requirement already satisfied: testpath in /usr/local/lib/python3.7/dist-packages (from nbconvert->notebook>=4.4.1->widgetsnbextension~=3.5.0->ipywidgets>=7.0.0->pydeck>=0.1.dev5->streamlit) (0.4.4)\n",
            "Requirement already satisfied: defusedxml in /usr/local/lib/python3.7/dist-packages (from nbconvert->notebook>=4.4.1->widgetsnbextension~=3.5.0->ipywidgets>=7.0.0->pydeck>=0.1.dev5->streamlit) (0.7.1)\n",
            "Requirement already satisfied: bleach in /usr/local/lib/python3.7/dist-packages (from nbconvert->notebook>=4.4.1->widgetsnbextension~=3.5.0->ipywidgets>=7.0.0->pydeck>=0.1.dev5->streamlit) (3.3.0)\n",
            "Requirement already satisfied: mistune<2,>=0.8.1 in /usr/local/lib/python3.7/dist-packages (from nbconvert->notebook>=4.4.1->widgetsnbextension~=3.5.0->ipywidgets>=7.0.0->pydeck>=0.1.dev5->streamlit) (0.8.4)\n",
            "Requirement already satisfied: pandocfilters>=1.4.1 in /usr/local/lib/python3.7/dist-packages (from nbconvert->notebook>=4.4.1->widgetsnbextension~=3.5.0->ipywidgets>=7.0.0->pydeck>=0.1.dev5->streamlit) (1.4.3)\n",
            "Requirement already satisfied: webencodings in /usr/local/lib/python3.7/dist-packages (from bleach->nbconvert->notebook>=4.4.1->widgetsnbextension~=3.5.0->ipywidgets>=7.0.0->pydeck>=0.1.dev5->streamlit) (0.5.1)\n",
            "Requirement already satisfied: pyngrok in /usr/local/lib/python3.7/dist-packages (5.0.5)\n",
            "Requirement already satisfied: PyYAML in /usr/local/lib/python3.7/dist-packages (from pyngrok) (3.13)\n"
          ],
          "name": "stdout"
        }
      ]
    },
    {
      "cell_type": "markdown",
      "metadata": {
        "id": "m2gO0JrFIG8J"
      },
      "source": [
        "## Getting the data"
      ]
    },
    {
      "cell_type": "code",
      "metadata": {
        "colab": {
          "resources": {
            "http://localhost:8080/nbextensions/google.colab/files.js": {
              "data": "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",
              "ok": true,
              "headers": [
                [
                  "content-type",
                  "application/javascript"
                ]
              ],
              "status": 200,
              "status_text": "OK"
            }
          },
          "base_uri": "https://localhost:8080/",
          "height": 367,
          "referenced_widgets": [
            "d813bf674b1e400c92ef4d08c4748661",
            "a5f759922e1940a38513e4c2953d90d1",
            "2f8cecb2f8e84b92b4572a9a99b4ea2f",
            "a3cefe15e8444e1c9fddbf550bc15c9c",
            "5e565e17e648430c931af426bbcda530",
            "9b5381eb6c9a43cc83294051bcd1ba10",
            "753e93a713f94a9b9adae6eea207ba12",
            "ca839fd203c84e9da04225d98ce93d33"
          ]
        },
        "id": "nCvoxlJF38dW",
        "outputId": "e8f6d70b-9306-408f-d96a-4e5b069ec47b"
      },
      "source": [
        "### If you want to scrape mushrooms since the beginning, first of all put the script Scraping_Mushrooms.ipynb in this script , you will have the opportunity\n",
        "### in the next cell, upload scraping mushrooms to this sesion, after this the script will run and you are going to need to give the parameters you want for \n",
        "### the search.\n",
        "\n",
        "### If you don´t want to scrape mushrooms, you have the data I used in the repo, you will need only to choose the option Use_data and you will get the data\n",
        "\n",
        "print(\"Do you want to scrape your own mushrooms or use the data existing?, put Scrape_mushrooms or Use_data\")\n",
        "\n",
        "def scrape_mushrooms(option=input()):\n",
        "  \n",
        "  if option == 'Scrape_mushrooms':\n",
        "    from google.colab import files\n",
        "    uploaded = files.upload()\n",
        "    %run Scraping_Mushrooms.ipynb\n",
        "    return None\n",
        "\n",
        "  elif option == 'Use_data':\n",
        "    print('Get the data existing and put it in this directory, later read it')\n",
        "    print('if you prefer to put in other route you only need to change the main route to after read the data')\n",
        "    from google.colab import drive\n",
        "    drive.mount('/content/gdrive')\n",
        "\n",
        "    path_output_1 = '/content/gdrive/MyDrive/Mushrooms_Classification_Guadalajara'\n",
        "    ########### Change to the path you save your data!!!!!!!! ##############\n",
        "\n",
        "    return path_output_1\n",
        "\n",
        "  else:\n",
        "    print('The option must be Scrape_mushrooms or Use_data, please, try again:')\n",
        "    return scrape_mushrooms(option=input())\n",
        "\n",
        "main_route = scrape_mushrooms()\n",
        "\n",
        "if main_route == None:\n",
        "  main_route = path_output\n",
        "else:\n",
        "  main_route = scrape_mushrooms()"
      ],
      "execution_count": 4,
      "outputs": [
        {
          "output_type": "stream",
          "text": [
            "Do you want to scrape your own mushrooms or use the data existing?, put Scrape_mushrooms or Use_data\n",
            "Scrape_mushrooms\n"
          ],
          "name": "stdout"
        },
        {
          "output_type": "display_data",
          "data": {
            "text/html": [
              "\n",
              "     <input type=\"file\" id=\"files-0c7f8874-6639-4b50-8f9f-0e2b4313b1fb\" name=\"files[]\" multiple disabled\n",
              "        style=\"border:none\" />\n",
              "     <output id=\"result-0c7f8874-6639-4b50-8f9f-0e2b4313b1fb\">\n",
              "      Upload widget is only available when the cell has been executed in the\n",
              "      current browser session. Please rerun this cell to enable.\n",
              "      </output>\n",
              "      <script src=\"/nbextensions/google.colab/files.js\"></script> "
            ],
            "text/plain": [
              "<IPython.core.display.HTML object>"
            ]
          },
          "metadata": {
            "tags": []
          }
        },
        {
          "output_type": "stream",
          "text": [
            "Saving Scraping_Mushrooms.ipynb to Scraping_Mushrooms.ipynb\n",
            "Requirement already satisfied: opencv-python in /usr/local/lib/python3.7/dist-packages (4.1.2.30)\n",
            "Requirement already satisfied: numpy>=1.14.5 in /usr/local/lib/python3.7/dist-packages (from opencv-python) (1.19.5)\n",
            "Populating the interactive namespace from numpy and matplotlib\n",
            "Choose between All the regions or only Guadalajara Mushrooms\n",
            "Guadalajara\n",
            "You choose Guadalajara Mushrooms\n",
            "Where do you want to save the photos?, example: /home/dsc/FP_Mushrooms/Mushrooms_Classification_Guadalajara\n",
            "If you want your current path write 'Default'\n",
            "Default\n",
            "How many images per mushroom do you want? minimum 20, give a number multiple of 20 (20,40,60...)\n",
            "20\n"
          ],
          "name": "stdout"
        },
        {
          "output_type": "display_data",
          "data": {
            "application/vnd.jupyter.widget-view+json": {
              "model_id": "d813bf674b1e400c92ef4d08c4748661",
              "version_minor": 0,
              "version_major": 2
            },
            "text/plain": [
              "HBox(children=(FloatProgress(value=0.0, max=49.0), HTML(value='')))"
            ]
          },
          "metadata": {
            "tags": []
          }
        },
        {
          "output_type": "stream",
          "text": [
            "Lactarius controversus folder already created\n",
            "\n"
          ],
          "name": "stdout"
        }
      ]
    },
    {
      "cell_type": "markdown",
      "metadata": {
        "id": "LPcNroEVsd7F"
      },
      "source": [
        "## Getting the list with the mushrooms names (the folders names)."
      ]
    },
    {
      "cell_type": "code",
      "metadata": {
        "colab": {
          "base_uri": "https://localhost:8080/",
          "height": 66,
          "referenced_widgets": [
            "81dbba48671d4094b44863b3029a3ea1",
            "a9cdc5f706c049a7a0253cf2b717574e",
            "19b18c78e1ea458299af130adbf50743",
            "53bdc40c30524e078b7e1158aaadaec0",
            "13a06f00bf0046109cb009b0b2747d09",
            "c555b247ab64431ba18536f58ecd20c2",
            "44fdce5343d444f8a2ec945640e866ea",
            "4faf44c6a99041aca95b13afc545db59"
          ]
        },
        "id": "Xh4E5MBCs-U2",
        "outputId": "536d0fea-55e3-4f3c-9c29-261ab9886080"
      },
      "source": [
        "### defining the main route (depends on what did you choose before).\n",
        "### with the data you have already choose\n",
        "\n",
        "mushrooms_directory=[]\n",
        "for folder in tqdm(os.listdir(main_route)):\n",
        "    if '.' in folder:\n",
        "        pass\n",
        "    else:\n",
        "        mushrooms_directory.append(folder)\n",
        "        \n",
        "mushrooms_directory=sorted(mushrooms_directory)\n",
        "\n",
        "### Now you have a directory named mushrooms_directory that is a list of the mushroom names\n",
        "\n",
        "### Delete the names in the mushrooms_directory list that are not mushroom names\n",
        "\n",
        "if 'sample_data' in mushrooms_directory:\n",
        "  mushrooms_directory.remove(\"sample_data\") \n",
        "\n",
        "if 'gdrive' in mushrooms_directory:\n",
        "  mushrooms_directory.remove(\"gdrive\") \n",
        "\n",
        "if 'ngrok' in mushrooms_directory:\n",
        "  mushrooms_directory.remove(\"ngrok\") \n",
        "\n",
        "### Getting the number of photos per mushroom we have, we did this to have the maximum length because in some mushrooms can be problems, so\n",
        "### we won´t have all the images for that mushroom, so now with this maximum length we have the number of images should be per mushroom\n",
        "\n",
        "lengths=[]\n",
        "for name in mushrooms_directory:\n",
        "  lengths.append(len(os.listdir(main_route +'/'+ name +'/')))\n",
        "\n",
        "number_of_photos = max(lengths)"
      ],
      "execution_count": 5,
      "outputs": [
        {
          "output_type": "display_data",
          "data": {
            "application/vnd.jupyter.widget-view+json": {
              "model_id": "81dbba48671d4094b44863b3029a3ea1",
              "version_minor": 0,
              "version_major": 2
            },
            "text/plain": [
              "HBox(children=(FloatProgress(value=0.0, max=51.0), HTML(value='')))"
            ]
          },
          "metadata": {
            "tags": []
          }
        },
        {
          "output_type": "stream",
          "text": [
            "\n"
          ],
          "name": "stdout"
        }
      ]
    },
    {
      "cell_type": "markdown",
      "metadata": {
        "id": "2U56_5cMsxNi"
      },
      "source": [
        "## Pipeline with the process per image (Resize, Data Augmentation, Staandarize pixels)"
      ]
    },
    {
      "cell_type": "code",
      "metadata": {
        "id": "Ln1J9f_Xoodn"
      },
      "source": [
        "### Resize each image shape in 28x28 and print what photos are not available\n",
        "\n",
        "def resize_photos(directory,main_route,size_photo,number_of_photos):\n",
        "    for folder in tqdm(directory):\n",
        "        for numero in range(number_of_photos):\n",
        "            try:\n",
        "                route = main_route +'/'+ folder +'/'+ str(numero) + '.jpg'\n",
        "                data_picture = io.imread(route)\n",
        "                data_picture = cv2.resize(data_picture, size_photo)\n",
        "                # save the images\n",
        "                cv2.imwrite(route,data_picture)\n",
        "            except:  \n",
        "                print(\"Image number \"+str(numero)+' of mushroom '+folder+' is not available')\n",
        "\n",
        "### Standarize 0 - 255 pixels to 0 - 1 and do Data Augmentation to increase the dataset\n",
        "\n",
        "lista=[]\n",
        "lista1=[]\n",
        "def standarize_pixels_and_augmentation(directory,main_route,size_photo,number_of_photos):\n",
        "    for folder in tqdm(directory):\n",
        "        for numero in range(number_of_photos):\n",
        "            try:\n",
        "                route = main_route +'/'+folder +'/'+ str(numero) + '.jpg'\n",
        "                image_rgb=io.imread(route)/255.0\n",
        "\n",
        "                ############### DATA AUGMENTATION ###############\n",
        "\n",
        "                ### Mirror with vertical line on right\n",
        "                flip_1 = np.fliplr(image_rgb)\n",
        "\n",
        "                ### rotation of 90, 180 and 270 grades\n",
        "                rot_90 = tf.image.rot90(image_rgb, k=1)\n",
        "                rot_180 = tf.image.rot90(image_rgb, k=2)\n",
        "                rot_270 = tf.image.rot90(image_rgb, k=3)\n",
        "\n",
        "                ### Crop the images, can be any size of crop we choose\n",
        "                height, width = image_rgb.shape[0:2]\n",
        "                startRow = int(height*.15)\n",
        "                startCol = int(width*.15)\n",
        "                endRow = int(height*.85)\n",
        "                endCol = int(width*.85)\n",
        "                croppedImage = image_rgb[startRow:endRow, startCol:endCol]\n",
        "                croppedImage = cv2.resize(croppedImage,size_photo)\n",
        "\n",
        "                ### Adding contrast\n",
        "                contrast_img = cv2.addWeighted(image_rgb, 1.5, np.zeros(image_rgb.shape, image_rgb.dtype), 0, 0)\n",
        "\n",
        "                ### 50% blur by taking the median of the pixels\n",
        "                blur_image = cv2.medianBlur(image_rgb,1)\n",
        "\n",
        "                ### Add to dataset\n",
        "                lista.append(image_rgb)\n",
        "                lista.append(flip_1)\n",
        "                lista.append(rot_90)\n",
        "                lista.append(rot_180)\n",
        "                lista.append(rot_270)\n",
        "                lista.append(croppedImage)\n",
        "                lista.append(contrast_img)\n",
        "                lista.append(blur_image)\n",
        "                lista1.append(folder)\n",
        "                lista1.append(folder)\n",
        "                lista1.append(folder)\n",
        "                lista1.append(folder)\n",
        "                lista1.append(folder)\n",
        "                lista1.append(folder)\n",
        "                lista1.append(folder)\n",
        "                lista1.append(folder)            \n",
        "\n",
        "            except:\n",
        "              print(\"there are some problems with one of the mushrooms...\")\n",
        "\n",
        "### Group the functions in other function\n",
        "\n",
        "def standarize_photos(directory,main_route,size_photo,number_of_photos):\n",
        "    print(\"reshaping pictures...\")\n",
        "    resize_photos(directory,main_route,size_photo,number_of_photos)\n",
        "    resize_photos(directory,main_route,size_photo,number_of_photos)\n",
        "    print(\"Normalizing pixels...\")\n",
        "    standarize_pixels_and_augmentation(directory,main_route,size_photo,number_of_photos) "
      ],
      "execution_count": 14,
      "outputs": []
    },
    {
      "cell_type": "markdown",
      "metadata": {
        "id": "Dx-wFgxrk8od"
      },
      "source": [
        "## Giving params to the function defined\n"
      ]
    },
    {
      "cell_type": "code",
      "metadata": {
        "colab": {
          "base_uri": "https://localhost:8080/",
          "height": 217,
          "referenced_widgets": [
            "3459b459e91a4f2fa00cf5bbecc11ec5",
            "0cc025ea673c4c77814a0fd539374d8c",
            "09f3f4e1f994436fb2fd08d1f031ad4d",
            "5bbb1b8945754abd81e41164f0afd363",
            "ef07827f7e5c44f783476b269028b2c9",
            "401461e87c11462982d1c2375ab847a7",
            "f6c418e8521b4345b16dd92db99ebcdc",
            "b9b7831f79f94ddd84ca5fcf32511661",
            "4e0466cb06de424b85a324f0f67f40ab",
            "00aa1fd3f2404307ab7dbb49db6c8262",
            "8acd3d835d174921bf98af6b35780614",
            "d4437417ed15471cbbef1c29e6f0a622",
            "4788f364c0fd4c4eb04334d6291f81a9",
            "b12d4ff07f1a4347b92c85e8b1fd300e",
            "b3ebc6d4cfd14aa8891f32535bf2fe39",
            "618f0d8238b5404584f151feb675d0c7",
            "a9bc3aaf28df49f8bfed4a036198053e",
            "c651567142cc4ed2804ac171651db915",
            "fdb560390d3a4d1b8053f646f5fdd64f",
            "0439f6adee114fe18d7a988befcfcd9a",
            "47f26fb7336a4f71a1d0901af9726e90",
            "a205a64ce2aa43ae8f124a78c1a76c3b",
            "6809f7e968d842389ebdb873a0dff9e5",
            "464fff5406a14dc2accb477a564deaaf"
          ]
        },
        "id": "3Hr4dafxohyo",
        "outputId": "f53c6a99-0eb8-42a6-f116-1b53f61a1eec"
      },
      "source": [
        "### Parameters for the function defined before, the main_route and number_of_photos were defined before.\n",
        "\n",
        "directory = mushrooms_directory\n",
        "size_photo = (28,28)\n",
        "\n",
        "### Applying the group function we defined\n",
        "\n",
        "standarize_photos(directory,main_route,size_photo,number_of_photos)"
      ],
      "execution_count": 15,
      "outputs": [
        {
          "output_type": "stream",
          "text": [
            "reshaping pictures...\n"
          ],
          "name": "stdout"
        },
        {
          "output_type": "display_data",
          "data": {
            "application/vnd.jupyter.widget-view+json": {
              "model_id": "3459b459e91a4f2fa00cf5bbecc11ec5",
              "version_minor": 0,
              "version_major": 2
            },
            "text/plain": [
              "HBox(children=(FloatProgress(value=0.0, max=48.0), HTML(value='')))"
            ]
          },
          "metadata": {
            "tags": []
          }
        },
        {
          "output_type": "stream",
          "text": [
            "\n"
          ],
          "name": "stdout"
        },
        {
          "output_type": "display_data",
          "data": {
            "application/vnd.jupyter.widget-view+json": {
              "model_id": "4e0466cb06de424b85a324f0f67f40ab",
              "version_minor": 0,
              "version_major": 2
            },
            "text/plain": [
              "HBox(children=(FloatProgress(value=0.0, max=48.0), HTML(value='')))"
            ]
          },
          "metadata": {
            "tags": []
          }
        },
        {
          "output_type": "stream",
          "text": [
            "\n",
            "Normalizing pixels...\n"
          ],
          "name": "stdout"
        },
        {
          "output_type": "display_data",
          "data": {
            "application/vnd.jupyter.widget-view+json": {
              "model_id": "a9bc3aaf28df49f8bfed4a036198053e",
              "version_minor": 0,
              "version_major": 2
            },
            "text/plain": [
              "HBox(children=(FloatProgress(value=0.0, max=48.0), HTML(value='')))"
            ]
          },
          "metadata": {
            "tags": []
          }
        },
        {
          "output_type": "stream",
          "text": [
            "there are some problems with one of the mushrooms...\n",
            "\n"
          ],
          "name": "stdout"
        }
      ]
    },
    {
      "cell_type": "markdown",
      "metadata": {
        "id": "pn6CpUGDthuT"
      },
      "source": [
        "## Train, validation and tests datasets of images and labels"
      ]
    },
    {
      "cell_type": "code",
      "metadata": {
        "id": "IKoDme0Zf4N4"
      },
      "source": [
        "### Images and labels datasets\n",
        "\n",
        "images = np.array(lista)\n",
        "labels = np.array(lista1)\n",
        "\n",
        "### Splitting the test and train data\n",
        "\n",
        "randomizado = np.array(range(0,len(images)))\n",
        "enteros_aleatorios = randint(0,len(images),int(len(images)*0.10))\n",
        "\n",
        "mask = pd.Series(randomizado).isin(enteros_aleatorios)\n",
        "\n",
        "test_images = images[mask]\n",
        "test_labels = labels[mask]\n",
        "trainval_images = images[~mask]\n",
        "trainval_labels = labels[~mask]\n",
        "\n",
        "### Splitting the train data in train and validation\n",
        "\n",
        "randomizado1 = np.array(range(0,len(trainval_images)))\n",
        "enteros_aleatorios1 = randint(0,len(trainval_images),int(len(trainval_images)*0.10))\n",
        "\n",
        "mask1 = pd.Series(randomizado1).isin(enteros_aleatorios1)\n",
        "\n",
        "validation_images = trainval_images[mask1]\n",
        "validation_labels = trainval_labels[mask1]\n",
        "train_images = trainval_images[~mask1]\n",
        "train_labels = trainval_labels[~mask1]"
      ],
      "execution_count": 16,
      "outputs": []
    },
    {
      "cell_type": "markdown",
      "metadata": {
        "id": "hRKWdcqXfYnW"
      },
      "source": [
        "## One Hot Encoding"
      ]
    },
    {
      "cell_type": "code",
      "metadata": {
        "id": "SGr13NUYdu7T"
      },
      "source": [
        "### One Hot Encoding for train, test and validation\n",
        "\n",
        "ohetrain = OneHotEncoder(sparse = False)\n",
        "le = LabelEncoder()\n",
        "OneHotTrain = ohetrain.fit_transform(le.fit_transform(train_labels).reshape(-1, 1))\n",
        "\n",
        "ohetest = OneHotEncoder(sparse = False)\n",
        "le = LabelEncoder()\n",
        "OneHotTest = ohetest.fit_transform(le.fit_transform(test_labels).reshape(-1, 1))\n",
        "\n",
        "oheval = OneHotEncoder(sparse = False)\n",
        "le = LabelEncoder()\n",
        "OneHotVal = oheval.fit_transform(le.fit_transform(validation_labels).reshape(-1, 1))"
      ],
      "execution_count": 21,
      "outputs": []
    },
    {
      "cell_type": "markdown",
      "metadata": {
        "id": "gPoo0Ru5BPFI"
      },
      "source": [
        "\n",
        "\n",
        "Plotting function to see test and validation accuracy\n"
      ]
    },
    {
      "cell_type": "code",
      "metadata": {
        "id": "W__YZ3HnBNdb"
      },
      "source": [
        "#To plot test,train,and validation accuracy metrics.\n",
        "\n",
        "def plot_metric(history, metric):\n",
        "    history_dict = history.history\n",
        "    values = history_dict[metric]\n",
        "    if 'val_' + metric in history_dict.keys():  \n",
        "        val_values = history_dict['val_' + metric]\n",
        "\n",
        "    epochs = range(1, len(values) + 1)\n",
        "\n",
        "    if 'val_' + metric in history_dict.keys():  \n",
        "        plt.plot(epochs, val_values, label='Validation')\n",
        "    plt.semilogy(epochs, values, label='Training')\n",
        "\n",
        "    if 'val_' + metric in history_dict.keys():  \n",
        "        plt.title('Training and validation %s' % metric)\n",
        "    else:\n",
        "        plt.title('Training %s' % metric)\n",
        "    plt.xlabel('Epochs')\n",
        "    plt.ylabel(metric.capitalize())\n",
        "    plt.legend()\n",
        "    plt.grid()\n",
        "\n",
        "    plt.show()  \n",
        "\n",
        "\n",
        "#to see mushrooms when I want\n",
        "def plot_mushroom_image(N, imgs, labels):\n",
        "    print(labels[N])\n",
        "    plt.imshow(imgs[N,], cmap=plt.cm.binary)\n",
        "    plt.grid(True)"
      ],
      "execution_count": 18,
      "outputs": []
    },
    {
      "cell_type": "code",
      "metadata": {
        "colab": {
          "base_uri": "https://localhost:8080/",
          "height": 462
        },
        "id": "8Y3yw38Xdat2",
        "outputId": "254fa998-33fe-4a11-c251-95a6390cf3e3"
      },
      "source": [
        "plot_mushroom_image(939,train_images,train_labels)"
      ],
      "execution_count": 19,
      "outputs": [
        {
          "output_type": "stream",
          "text": [
            "Amanita muscaria\n"
          ],
          "name": "stdout"
        },
        {
          "output_type": "display_data",
          "data": {
            "image/png": "[encoded data removed]",
            "text/plain": [
              "<Figure size 748.8x514.8 with 1 Axes>"
            ]
          },
          "metadata": {
            "tags": [],
            "needs_background": "light"
          }
        }
      ]
    },
    {
      "cell_type": "markdown",
      "metadata": {
        "id": "ILbqg2DfuA_f"
      },
      "source": [
        "### Dictionary with the labels and numbers for each label"
      ]
    },
    {
      "cell_type": "code",
      "metadata": {
        "id": "uo8xHoDSiVI3"
      },
      "source": [
        "l1 = list(range(48))\n",
        "l2 = list(np.unique(labels))\n",
        "d = dict(zip(l1,l2))"
      ],
      "execution_count": 20,
      "outputs": []
    },
    {
      "cell_type": "markdown",
      "metadata": {
        "id": "XOC9nYAylNuM"
      },
      "source": [
        "## CNN (Convolutional Neural Network)"
      ]
    },
    {
      "cell_type": "code",
      "metadata": {
        "id": "8eTFwKMjsalO"
      },
      "source": [
        "### We defined the parameters to use in the neural network, INIT_LR: the learning rate to apply SGD (Stochastic Gradient Descent), epochs, batch size\n",
        "### and nClasses (How many classes are).\n",
        "\n",
        "INIT_LR = 1e-3\n",
        "epochs = 200\n",
        "batch_size = 32\n",
        "nClasses = 48\n",
        "\n",
        "### Define the model with layers, ending with a softmax because we have multiple classes.\n",
        "\n",
        "def cnn_model():\n",
        "  model = Sequential()\n",
        "\n",
        "  model.add(Conv2D(filters = 16, kernel_size = (5,5),padding = 'Same', \n",
        "                 activation ='relu', input_shape = (28,28,3)))\n",
        "  model.add(Conv2D(filters = 32, kernel_size = (5,5),padding = 'Same', \n",
        "                 activation ='relu'))\n",
        "  model.add(MaxPool2D(pool_size=(3,3)))\n",
        "  model.add(Dropout(0.25))\n",
        "\n",
        "  model.add(Conv2D(filters = 32, kernel_size = (3,3),padding = 'Same', \n",
        "                 activation ='relu'))\n",
        "  model.add(MaxPool2D(pool_size=(3,3)))\n",
        "  model.add(Dropout(0.25))\n",
        "\n",
        "  \n",
        "  model.add(Flatten())\n",
        "\n",
        "  model.add(Dense(200, activation='relu'))\n",
        "  model.add(Dense(100, activation='relu'))\n",
        "  model.add(Dense(nClasses, activation='softmax'))\n",
        "\n",
        "  ### Resume of the model\n",
        "  \n",
        "  model.summary()\n",
        "\n",
        "  return model\n",
        "  \n",
        "  model = cnn_model()"
      ],
      "execution_count": 22,
      "outputs": []
    },
    {
      "cell_type": "code",
      "metadata": {
        "id": "h1XwFrcttJ5z"
      },
      "source": [
        "### Adam optimizer\n",
        "\n",
        "model.compile(loss=losses.categorical_crossentropy, optimizer=optimizers.Adam(),metrics=['categorical_accuracy'])"
      ],
      "execution_count": null,
      "outputs": []
    },
    {
      "cell_type": "code",
      "metadata": {
        "id": "CgpZhaBx8LJX"
      },
      "source": [
        "#### SGD Optimizer\n",
        "\n",
        "model.compile(optimizer=optimizers.SGD(lr=0.01),loss=losses.categorical_crossentropy,metrics=[metrics.categorical_accuracy])"
      ],
      "execution_count": 24,
      "outputs": []
    },
    {
      "cell_type": "code",
      "metadata": {
        "colab": {
          "base_uri": "https://localhost:8080/"
        },
        "id": "Oigv6Aj-thzF",
        "outputId": "314a6324-1f7e-41b5-e60d-b002bd255f72"
      },
      "source": [
        "### Train the model\n",
        "\n",
        "h = model.fit(train_images,OneHotTrain, batch_size=batch_size,epochs=epochs,verbose=1,validation_data=(validation_images,OneHotVal))\n"
      ],
      "execution_count": 25,
      "outputs": [
        {
          "output_type": "stream",
          "text": [
            "Epoch 1/200\n",
            "197/197 [==============================] - 34s 6ms/step - loss: 3.8733 - categorical_accuracy: 0.0238 - val_loss: 3.8712 - val_categorical_accuracy: 0.0230\n",
            "Epoch 2/200\n",
            "197/197 [==============================] - 1s 4ms/step - loss: 3.8709 - categorical_accuracy: 0.0257 - val_loss: 3.8696 - val_categorical_accuracy: 0.0230\n",
            "Epoch 3/200\n",
            "197/197 [==============================] - 1s 4ms/step - loss: 3.8685 - categorical_accuracy: 0.0215 - val_loss: 3.8689 - val_categorical_accuracy: 0.0168\n",
            "Epoch 4/200\n",
            "197/197 [==============================] - 1s 4ms/step - loss: 3.8669 - categorical_accuracy: 0.0253 - val_loss: 3.8689 - val_categorical_accuracy: 0.0230\n",
            "Epoch 5/200\n",
            "197/197 [==============================] - 1s 4ms/step - loss: 3.8648 - categorical_accuracy: 0.0276 - val_loss: 3.8656 - val_categorical_accuracy: 0.0214\n",
            "Epoch 6/200\n",
            "197/197 [==============================] - 1s 4ms/step - loss: 3.8624 - categorical_accuracy: 0.0237 - val_loss: 3.8617 - val_categorical_accuracy: 0.0337\n",
            "Epoch 7/200\n",
            "197/197 [==============================] - 1s 4ms/step - loss: 3.8565 - categorical_accuracy: 0.0314 - val_loss: 3.8549 - val_categorical_accuracy: 0.0383\n",
            "Epoch 8/200\n",
            "197/197 [==============================] - 1s 4ms/step - loss: 3.8411 - categorical_accuracy: 0.0361 - val_loss: 3.8288 - val_categorical_accuracy: 0.0413\n",
            "Epoch 9/200\n",
            "197/197 [==============================] - 1s 4ms/step - loss: 3.7958 - categorical_accuracy: 0.0472 - val_loss: 3.7568 - val_categorical_accuracy: 0.0429\n",
            "Epoch 10/200\n",
            "197/197 [==============================] - 1s 4ms/step - loss: 3.6986 - categorical_accuracy: 0.0527 - val_loss: 3.6537 - val_categorical_accuracy: 0.0490\n",
            "Epoch 11/200\n",
            "197/197 [==============================] - 1s 4ms/step - loss: 3.6229 - categorical_accuracy: 0.0599 - val_loss: 3.5897 - val_categorical_accuracy: 0.0444\n",
            "Epoch 12/200\n",
            "197/197 [==============================] - 1s 4ms/step - loss: 3.5677 - categorical_accuracy: 0.0593 - val_loss: 3.5155 - val_categorical_accuracy: 0.0628\n",
            "Epoch 13/200\n",
            "197/197 [==============================] - 1s 4ms/step - loss: 3.5101 - categorical_accuracy: 0.0707 - val_loss: 3.4949 - val_categorical_accuracy: 0.0704\n",
            "Epoch 14/200\n",
            "197/197 [==============================] - 1s 4ms/step - loss: 3.4653 - categorical_accuracy: 0.0810 - val_loss: 3.4344 - val_categorical_accuracy: 0.0858\n",
            "Epoch 15/200\n",
            "197/197 [==============================] - 1s 4ms/step - loss: 3.4144 - categorical_accuracy: 0.1010 - val_loss: 3.3491 - val_categorical_accuracy: 0.0873\n",
            "Epoch 16/200\n",
            "197/197 [==============================] - 1s 4ms/step - loss: 3.3653 - categorical_accuracy: 0.0956 - val_loss: 3.3527 - val_categorical_accuracy: 0.1011\n",
            "Epoch 17/200\n",
            "197/197 [==============================] - 1s 4ms/step - loss: 3.3208 - categorical_accuracy: 0.1009 - val_loss: 3.4093 - val_categorical_accuracy: 0.1087\n",
            "Epoch 18/200\n",
            "197/197 [==============================] - 1s 4ms/step - loss: 3.2756 - categorical_accuracy: 0.1054 - val_loss: 3.2538 - val_categorical_accuracy: 0.1087\n",
            "Epoch 19/200\n",
            "197/197 [==============================] - 1s 4ms/step - loss: 3.2300 - categorical_accuracy: 0.1212 - val_loss: 3.2003 - val_categorical_accuracy: 0.1103\n",
            "Epoch 20/200\n",
            "197/197 [==============================] - 1s 4ms/step - loss: 3.1857 - categorical_accuracy: 0.1284 - val_loss: 3.2387 - val_categorical_accuracy: 0.1087\n",
            "Epoch 21/200\n",
            "197/197 [==============================] - 1s 4ms/step - loss: 3.1655 - categorical_accuracy: 0.1283 - val_loss: 3.1355 - val_categorical_accuracy: 0.1394\n",
            "Epoch 22/200\n",
            "197/197 [==============================] - 1s 4ms/step - loss: 3.1082 - categorical_accuracy: 0.1494 - val_loss: 3.0840 - val_categorical_accuracy: 0.1378\n",
            "Epoch 23/200\n",
            "197/197 [==============================] - 1s 4ms/step - loss: 3.0640 - categorical_accuracy: 0.1667 - val_loss: 3.0750 - val_categorical_accuracy: 0.1485\n",
            "Epoch 24/200\n",
            "197/197 [==============================] - 1s 4ms/step - loss: 3.0356 - categorical_accuracy: 0.1647 - val_loss: 3.0503 - val_categorical_accuracy: 0.1577\n",
            "Epoch 25/200\n",
            "197/197 [==============================] - 1s 4ms/step - loss: 2.9970 - categorical_accuracy: 0.1624 - val_loss: 3.0226 - val_categorical_accuracy: 0.1577\n",
            "Epoch 26/200\n",
            "197/197 [==============================] - 1s 4ms/step - loss: 2.9718 - categorical_accuracy: 0.1756 - val_loss: 3.0007 - val_categorical_accuracy: 0.1516\n",
            "Epoch 27/200\n",
            "197/197 [==============================] - 1s 4ms/step - loss: 2.9411 - categorical_accuracy: 0.1792 - val_loss: 3.0225 - val_categorical_accuracy: 0.1730\n",
            "Epoch 28/200\n",
            "197/197 [==============================] - 1s 4ms/step - loss: 2.8926 - categorical_accuracy: 0.1980 - val_loss: 2.9768 - val_categorical_accuracy: 0.1792\n",
            "Epoch 29/200\n",
            "197/197 [==============================] - 1s 4ms/step - loss: 2.8630 - categorical_accuracy: 0.2068 - val_loss: 2.9284 - val_categorical_accuracy: 0.1868\n",
            "Epoch 30/200\n",
            "197/197 [==============================] - 1s 4ms/step - loss: 2.8432 - categorical_accuracy: 0.1934 - val_loss: 2.9046 - val_categorical_accuracy: 0.1776\n",
            "Epoch 31/200\n",
            "197/197 [==============================] - 1s 4ms/step - loss: 2.8088 - categorical_accuracy: 0.2188 - val_loss: 2.8340 - val_categorical_accuracy: 0.2113\n",
            "Epoch 32/200\n",
            "197/197 [==============================] - 1s 4ms/step - loss: 2.7922 - categorical_accuracy: 0.2219 - val_loss: 2.9360 - val_categorical_accuracy: 0.1730\n",
            "Epoch 33/200\n",
            "197/197 [==============================] - 1s 4ms/step - loss: 2.7702 - categorical_accuracy: 0.2205 - val_loss: 2.8586 - val_categorical_accuracy: 0.2067\n",
            "Epoch 34/200\n",
            "197/197 [==============================] - 1s 4ms/step - loss: 2.6824 - categorical_accuracy: 0.2378 - val_loss: 2.7877 - val_categorical_accuracy: 0.1960\n",
            "Epoch 35/200\n",
            "197/197 [==============================] - 1s 4ms/step - loss: 2.6912 - categorical_accuracy: 0.2433 - val_loss: 2.7636 - val_categorical_accuracy: 0.2205\n",
            "Epoch 36/200\n",
            "197/197 [==============================] - 1s 4ms/step - loss: 2.6371 - categorical_accuracy: 0.2433 - val_loss: 2.6900 - val_categorical_accuracy: 0.2297\n",
            "Epoch 37/200\n",
            "197/197 [==============================] - 1s 4ms/step - loss: 2.6105 - categorical_accuracy: 0.2600 - val_loss: 2.7050 - val_categorical_accuracy: 0.2557\n",
            "Epoch 38/200\n",
            "197/197 [==============================] - 1s 4ms/step - loss: 2.5489 - categorical_accuracy: 0.2767 - val_loss: 2.6805 - val_categorical_accuracy: 0.2205\n",
            "Epoch 39/200\n",
            "197/197 [==============================] - 1s 4ms/step - loss: 2.5469 - categorical_accuracy: 0.2704 - val_loss: 2.6708 - val_categorical_accuracy: 0.2588\n",
            "Epoch 40/200\n",
            "197/197 [==============================] - 1s 4ms/step - loss: 2.5153 - categorical_accuracy: 0.2803 - val_loss: 2.6383 - val_categorical_accuracy: 0.2466\n",
            "Epoch 41/200\n",
            "197/197 [==============================] - 1s 4ms/step - loss: 2.4513 - categorical_accuracy: 0.2962 - val_loss: 2.6334 - val_categorical_accuracy: 0.2450\n",
            "Epoch 42/200\n",
            "197/197 [==============================] - 1s 4ms/step - loss: 2.4274 - categorical_accuracy: 0.3147 - val_loss: 2.5397 - val_categorical_accuracy: 0.2741\n",
            "Epoch 43/200\n",
            "197/197 [==============================] - 1s 4ms/step - loss: 2.4199 - categorical_accuracy: 0.3003 - val_loss: 2.5132 - val_categorical_accuracy: 0.2833\n",
            "Epoch 44/200\n",
            "197/197 [==============================] - 1s 4ms/step - loss: 2.3969 - categorical_accuracy: 0.3133 - val_loss: 2.4866 - val_categorical_accuracy: 0.2726\n",
            "Epoch 45/200\n",
            "197/197 [==============================] - 1s 4ms/step - loss: 2.3418 - categorical_accuracy: 0.3321 - val_loss: 2.5411 - val_categorical_accuracy: 0.2894\n",
            "Epoch 46/200\n",
            "197/197 [==============================] - 1s 4ms/step - loss: 2.3237 - categorical_accuracy: 0.3301 - val_loss: 2.4314 - val_categorical_accuracy: 0.2956\n",
            "Epoch 47/200\n",
            "197/197 [==============================] - 1s 4ms/step - loss: 2.2688 - categorical_accuracy: 0.3414 - val_loss: 2.3961 - val_categorical_accuracy: 0.3093\n",
            "Epoch 48/200\n",
            "197/197 [==============================] - 1s 4ms/step - loss: 2.2901 - categorical_accuracy: 0.3376 - val_loss: 2.3568 - val_categorical_accuracy: 0.3231\n",
            "Epoch 49/200\n",
            "197/197 [==============================] - 1s 4ms/step - loss: 2.2487 - categorical_accuracy: 0.3429 - val_loss: 2.3950 - val_categorical_accuracy: 0.3185\n",
            "Epoch 50/200\n",
            "197/197 [==============================] - 1s 4ms/step - loss: 2.2069 - categorical_accuracy: 0.3552 - val_loss: 2.3326 - val_categorical_accuracy: 0.3415\n",
            "Epoch 51/200\n",
            "197/197 [==============================] - 1s 4ms/step - loss: 2.1504 - categorical_accuracy: 0.3723 - val_loss: 2.4687 - val_categorical_accuracy: 0.3063\n",
            "Epoch 52/200\n",
            "197/197 [==============================] - 1s 4ms/step - loss: 2.1648 - categorical_accuracy: 0.3706 - val_loss: 2.3827 - val_categorical_accuracy: 0.3017\n",
            "Epoch 53/200\n",
            "197/197 [==============================] - 1s 4ms/step - loss: 2.0889 - categorical_accuracy: 0.3944 - val_loss: 2.2676 - val_categorical_accuracy: 0.3538\n",
            "Epoch 54/200\n",
            "197/197 [==============================] - 1s 4ms/step - loss: 2.0886 - categorical_accuracy: 0.3942 - val_loss: 2.2713 - val_categorical_accuracy: 0.3292\n",
            "Epoch 55/200\n",
            "197/197 [==============================] - 1s 4ms/step - loss: 2.0912 - categorical_accuracy: 0.3852 - val_loss: 2.2683 - val_categorical_accuracy: 0.3553\n",
            "Epoch 56/200\n",
            "197/197 [==============================] - 1s 4ms/step - loss: 2.0451 - categorical_accuracy: 0.4051 - val_loss: 2.2105 - val_categorical_accuracy: 0.3507\n",
            "Epoch 57/200\n",
            "197/197 [==============================] - 1s 4ms/step - loss: 2.0144 - categorical_accuracy: 0.4223 - val_loss: 2.2801 - val_categorical_accuracy: 0.3430\n",
            "Epoch 58/200\n",
            "197/197 [==============================] - 1s 4ms/step - loss: 1.9827 - categorical_accuracy: 0.4105 - val_loss: 2.1449 - val_categorical_accuracy: 0.3767\n",
            "Epoch 59/200\n",
            "197/197 [==============================] - 1s 4ms/step - loss: 1.9447 - categorical_accuracy: 0.4266 - val_loss: 2.1474 - val_categorical_accuracy: 0.3844\n",
            "Epoch 60/200\n",
            "197/197 [==============================] - 1s 4ms/step - loss: 1.9234 - categorical_accuracy: 0.4341 - val_loss: 2.0926 - val_categorical_accuracy: 0.4058\n",
            "Epoch 61/200\n",
            "197/197 [==============================] - 1s 4ms/step - loss: 1.9129 - categorical_accuracy: 0.4252 - val_loss: 2.0805 - val_categorical_accuracy: 0.3982\n",
            "Epoch 62/200\n",
            "197/197 [==============================] - 1s 4ms/step - loss: 1.8801 - categorical_accuracy: 0.4350 - val_loss: 2.1015 - val_categorical_accuracy: 0.3583\n",
            "Epoch 63/200\n",
            "197/197 [==============================] - 1s 4ms/step - loss: 1.8489 - categorical_accuracy: 0.4519 - val_loss: 2.2260 - val_categorical_accuracy: 0.3583\n",
            "Epoch 64/200\n",
            "197/197 [==============================] - 1s 4ms/step - loss: 1.8585 - categorical_accuracy: 0.4503 - val_loss: 2.0858 - val_categorical_accuracy: 0.3936\n",
            "Epoch 65/200\n",
            "197/197 [==============================] - 1s 4ms/step - loss: 1.7899 - categorical_accuracy: 0.4698 - val_loss: 2.1305 - val_categorical_accuracy: 0.3629\n",
            "Epoch 66/200\n",
            "197/197 [==============================] - 1s 4ms/step - loss: 1.7636 - categorical_accuracy: 0.4643 - val_loss: 2.0347 - val_categorical_accuracy: 0.3920\n",
            "Epoch 67/200\n",
            "197/197 [==============================] - 1s 4ms/step - loss: 1.7631 - categorical_accuracy: 0.4768 - val_loss: 1.9668 - val_categorical_accuracy: 0.4273\n",
            "Epoch 68/200\n",
            "197/197 [==============================] - 1s 4ms/step - loss: 1.7128 - categorical_accuracy: 0.4834 - val_loss: 2.0167 - val_categorical_accuracy: 0.4012\n",
            "Epoch 69/200\n",
            "197/197 [==============================] - 1s 4ms/step - loss: 1.6925 - categorical_accuracy: 0.4817 - val_loss: 1.9034 - val_categorical_accuracy: 0.4380\n",
            "Epoch 70/200\n",
            "197/197 [==============================] - 1s 4ms/step - loss: 1.6691 - categorical_accuracy: 0.5076 - val_loss: 1.9285 - val_categorical_accuracy: 0.4349\n",
            "Epoch 71/200\n",
            "197/197 [==============================] - 1s 4ms/step - loss: 1.6482 - categorical_accuracy: 0.5024 - val_loss: 2.0094 - val_categorical_accuracy: 0.4119\n",
            "Epoch 72/200\n",
            "197/197 [==============================] - 1s 4ms/step - loss: 1.6295 - categorical_accuracy: 0.5208 - val_loss: 1.8593 - val_categorical_accuracy: 0.4747\n",
            "Epoch 73/200\n",
            "197/197 [==============================] - 1s 4ms/step - loss: 1.6096 - categorical_accuracy: 0.5046 - val_loss: 1.8913 - val_categorical_accuracy: 0.4609\n",
            "Epoch 74/200\n",
            "197/197 [==============================] - 1s 4ms/step - loss: 1.5902 - categorical_accuracy: 0.5110 - val_loss: 1.8492 - val_categorical_accuracy: 0.4717\n",
            "Epoch 75/200\n",
            "197/197 [==============================] - 1s 4ms/step - loss: 1.5807 - categorical_accuracy: 0.5324 - val_loss: 1.8016 - val_categorical_accuracy: 0.4870\n",
            "Epoch 76/200\n",
            "197/197 [==============================] - 1s 4ms/step - loss: 1.5728 - categorical_accuracy: 0.5195 - val_loss: 1.8135 - val_categorical_accuracy: 0.4564\n",
            "Epoch 77/200\n",
            "197/197 [==============================] - 1s 4ms/step - loss: 1.5139 - categorical_accuracy: 0.5306 - val_loss: 1.7574 - val_categorical_accuracy: 0.5054\n",
            "Epoch 78/200\n",
            "197/197 [==============================] - 1s 4ms/step - loss: 1.5192 - categorical_accuracy: 0.5381 - val_loss: 1.8573 - val_categorical_accuracy: 0.4655\n",
            "Epoch 79/200\n",
            "197/197 [==============================] - 1s 4ms/step - loss: 1.4605 - categorical_accuracy: 0.5443 - val_loss: 1.7397 - val_categorical_accuracy: 0.4885\n",
            "Epoch 80/200\n",
            "197/197 [==============================] - 1s 4ms/step - loss: 1.4263 - categorical_accuracy: 0.5749 - val_loss: 1.9026 - val_categorical_accuracy: 0.4671\n",
            "Epoch 81/200\n",
            "197/197 [==============================] - 1s 4ms/step - loss: 1.4725 - categorical_accuracy: 0.5522 - val_loss: 1.7535 - val_categorical_accuracy: 0.4977\n",
            "Epoch 82/200\n",
            "197/197 [==============================] - 1s 4ms/step - loss: 1.3867 - categorical_accuracy: 0.5742 - val_loss: 1.7837 - val_categorical_accuracy: 0.4931\n",
            "Epoch 83/200\n",
            "197/197 [==============================] - 1s 4ms/step - loss: 1.4213 - categorical_accuracy: 0.5655 - val_loss: 2.3976 - val_categorical_accuracy: 0.3507\n",
            "Epoch 84/200\n",
            "197/197 [==============================] - 1s 4ms/step - loss: 1.3808 - categorical_accuracy: 0.5755 - val_loss: 1.7067 - val_categorical_accuracy: 0.5115\n",
            "Epoch 85/200\n",
            "197/197 [==============================] - 1s 4ms/step - loss: 1.3818 - categorical_accuracy: 0.5790 - val_loss: 1.6790 - val_categorical_accuracy: 0.5314\n",
            "Epoch 86/200\n",
            "197/197 [==============================] - 1s 4ms/step - loss: 1.3267 - categorical_accuracy: 0.6018 - val_loss: 1.7052 - val_categorical_accuracy: 0.5329\n",
            "Epoch 87/200\n",
            "197/197 [==============================] - 1s 4ms/step - loss: 1.3508 - categorical_accuracy: 0.5979 - val_loss: 1.6887 - val_categorical_accuracy: 0.5436\n",
            "Epoch 88/200\n",
            "197/197 [==============================] - 1s 4ms/step - loss: 1.3180 - categorical_accuracy: 0.5959 - val_loss: 1.6606 - val_categorical_accuracy: 0.5421\n",
            "Epoch 89/200\n",
            "197/197 [==============================] - 1s 4ms/step - loss: 1.3095 - categorical_accuracy: 0.6103 - val_loss: 1.6132 - val_categorical_accuracy: 0.5237\n",
            "Epoch 90/200\n",
            "197/197 [==============================] - 1s 4ms/step - loss: 1.2683 - categorical_accuracy: 0.6114 - val_loss: 1.5766 - val_categorical_accuracy: 0.5467\n",
            "Epoch 91/200\n",
            "197/197 [==============================] - 1s 4ms/step - loss: 1.2515 - categorical_accuracy: 0.6100 - val_loss: 1.6871 - val_categorical_accuracy: 0.5421\n",
            "Epoch 92/200\n",
            "197/197 [==============================] - 1s 4ms/step - loss: 1.2319 - categorical_accuracy: 0.6150 - val_loss: 1.5690 - val_categorical_accuracy: 0.5329\n",
            "Epoch 93/200\n",
            "197/197 [==============================] - 1s 4ms/step - loss: 1.1770 - categorical_accuracy: 0.6397 - val_loss: 1.5268 - val_categorical_accuracy: 0.5590\n",
            "Epoch 94/200\n",
            "197/197 [==============================] - 1s 4ms/step - loss: 1.2097 - categorical_accuracy: 0.6313 - val_loss: 1.7544 - val_categorical_accuracy: 0.4900\n",
            "Epoch 95/200\n",
            "197/197 [==============================] - 1s 4ms/step - loss: 1.2136 - categorical_accuracy: 0.6180 - val_loss: 1.6445 - val_categorical_accuracy: 0.5528\n",
            "Epoch 96/200\n",
            "197/197 [==============================] - 1s 4ms/step - loss: 1.1558 - categorical_accuracy: 0.6405 - val_loss: 1.5668 - val_categorical_accuracy: 0.5528\n",
            "Epoch 97/200\n",
            "197/197 [==============================] - 1s 4ms/step - loss: 1.1591 - categorical_accuracy: 0.6427 - val_loss: 1.6469 - val_categorical_accuracy: 0.5467\n",
            "Epoch 98/200\n",
            "197/197 [==============================] - 1s 4ms/step - loss: 1.1128 - categorical_accuracy: 0.6411 - val_loss: 1.5862 - val_categorical_accuracy: 0.5452\n",
            "Epoch 99/200\n",
            "197/197 [==============================] - 1s 4ms/step - loss: 1.1160 - categorical_accuracy: 0.6562 - val_loss: 1.5499 - val_categorical_accuracy: 0.5391\n",
            "Epoch 100/200\n",
            "197/197 [==============================] - 1s 4ms/step - loss: 1.1140 - categorical_accuracy: 0.6550 - val_loss: 1.5479 - val_categorical_accuracy: 0.5636\n",
            "Epoch 101/200\n",
            "197/197 [==============================] - 1s 4ms/step - loss: 1.0368 - categorical_accuracy: 0.6672 - val_loss: 1.6479 - val_categorical_accuracy: 0.5559\n",
            "Epoch 102/200\n",
            "197/197 [==============================] - 1s 4ms/step - loss: 1.0921 - categorical_accuracy: 0.6487 - val_loss: 1.4622 - val_categorical_accuracy: 0.5773\n",
            "Epoch 103/200\n",
            "197/197 [==============================] - 1s 4ms/step - loss: 1.0599 - categorical_accuracy: 0.6653 - val_loss: 1.5959 - val_categorical_accuracy: 0.5391\n",
            "Epoch 104/200\n",
            "197/197 [==============================] - 1s 4ms/step - loss: 1.0468 - categorical_accuracy: 0.6784 - val_loss: 1.4964 - val_categorical_accuracy: 0.5850\n",
            "Epoch 105/200\n",
            "197/197 [==============================] - 1s 4ms/step - loss: 0.9696 - categorical_accuracy: 0.6975 - val_loss: 1.6596 - val_categorical_accuracy: 0.5421\n",
            "Epoch 106/200\n",
            "197/197 [==============================] - 1s 4ms/step - loss: 1.0543 - categorical_accuracy: 0.6682 - val_loss: 1.6083 - val_categorical_accuracy: 0.5712\n",
            "Epoch 107/200\n",
            "197/197 [==============================] - 1s 4ms/step - loss: 0.9981 - categorical_accuracy: 0.6833 - val_loss: 1.4122 - val_categorical_accuracy: 0.6110\n",
            "Epoch 108/200\n",
            "197/197 [==============================] - 1s 4ms/step - loss: 1.0166 - categorical_accuracy: 0.6770 - val_loss: 1.5188 - val_categorical_accuracy: 0.6018\n",
            "Epoch 109/200\n",
            "197/197 [==============================] - 1s 4ms/step - loss: 0.9870 - categorical_accuracy: 0.6916 - val_loss: 1.4759 - val_categorical_accuracy: 0.5926\n",
            "Epoch 110/200\n",
            "197/197 [==============================] - 1s 4ms/step - loss: 0.9700 - categorical_accuracy: 0.6904 - val_loss: 1.3880 - val_categorical_accuracy: 0.6049\n",
            "Epoch 111/200\n",
            "197/197 [==============================] - 1s 4ms/step - loss: 0.9593 - categorical_accuracy: 0.6889 - val_loss: 1.4881 - val_categorical_accuracy: 0.6003\n",
            "Epoch 112/200\n",
            "197/197 [==============================] - 1s 4ms/step - loss: 0.9239 - categorical_accuracy: 0.7162 - val_loss: 1.4426 - val_categorical_accuracy: 0.5819\n",
            "Epoch 113/200\n",
            "197/197 [==============================] - 1s 4ms/step - loss: 0.9469 - categorical_accuracy: 0.7007 - val_loss: 1.3948 - val_categorical_accuracy: 0.6064\n",
            "Epoch 114/200\n",
            "197/197 [==============================] - 1s 4ms/step - loss: 0.9201 - categorical_accuracy: 0.7139 - val_loss: 1.4188 - val_categorical_accuracy: 0.6126\n",
            "Epoch 115/200\n",
            "197/197 [==============================] - 1s 4ms/step - loss: 0.8884 - categorical_accuracy: 0.7162 - val_loss: 1.3850 - val_categorical_accuracy: 0.6110\n",
            "Epoch 116/200\n",
            "197/197 [==============================] - 1s 4ms/step - loss: 0.9159 - categorical_accuracy: 0.7032 - val_loss: 1.4622 - val_categorical_accuracy: 0.6034\n",
            "Epoch 117/200\n",
            "197/197 [==============================] - 1s 4ms/step - loss: 0.8722 - categorical_accuracy: 0.7206 - val_loss: 1.7466 - val_categorical_accuracy: 0.5375\n",
            "Epoch 118/200\n",
            "197/197 [==============================] - 1s 4ms/step - loss: 0.8836 - categorical_accuracy: 0.7176 - val_loss: 1.6250 - val_categorical_accuracy: 0.5482\n",
            "Epoch 119/200\n",
            "197/197 [==============================] - 1s 4ms/step - loss: 0.8438 - categorical_accuracy: 0.7334 - val_loss: 1.4444 - val_categorical_accuracy: 0.6110\n",
            "Epoch 120/200\n",
            "197/197 [==============================] - 1s 4ms/step - loss: 0.8344 - categorical_accuracy: 0.7441 - val_loss: 1.3811 - val_categorical_accuracy: 0.6202\n",
            "Epoch 121/200\n",
            "197/197 [==============================] - 1s 4ms/step - loss: 0.8231 - categorical_accuracy: 0.7430 - val_loss: 1.4089 - val_categorical_accuracy: 0.6263\n",
            "Epoch 122/200\n",
            "197/197 [==============================] - 1s 4ms/step - loss: 0.8003 - categorical_accuracy: 0.7406 - val_loss: 1.5691 - val_categorical_accuracy: 0.6110\n",
            "Epoch 123/200\n",
            "197/197 [==============================] - 1s 4ms/step - loss: 0.8387 - categorical_accuracy: 0.7340 - val_loss: 1.4620 - val_categorical_accuracy: 0.6172\n",
            "Epoch 124/200\n",
            "197/197 [==============================] - 1s 4ms/step - loss: 0.8221 - categorical_accuracy: 0.7382 - val_loss: 1.3964 - val_categorical_accuracy: 0.6095\n",
            "Epoch 125/200\n",
            "197/197 [==============================] - 1s 4ms/step - loss: 0.7621 - categorical_accuracy: 0.7539 - val_loss: 1.3924 - val_categorical_accuracy: 0.6217\n",
            "Epoch 126/200\n",
            "197/197 [==============================] - 1s 4ms/step - loss: 0.7886 - categorical_accuracy: 0.7486 - val_loss: 1.3948 - val_categorical_accuracy: 0.6095\n",
            "Epoch 127/200\n",
            "197/197 [==============================] - 1s 4ms/step - loss: 0.7492 - categorical_accuracy: 0.7563 - val_loss: 1.4192 - val_categorical_accuracy: 0.6080\n",
            "Epoch 128/200\n",
            "197/197 [==============================] - 1s 4ms/step - loss: 0.7835 - categorical_accuracy: 0.7460 - val_loss: 1.4569 - val_categorical_accuracy: 0.6141\n",
            "Epoch 129/200\n",
            "197/197 [==============================] - 1s 4ms/step - loss: 0.7723 - categorical_accuracy: 0.7455 - val_loss: 1.5294 - val_categorical_accuracy: 0.5972\n",
            "Epoch 130/200\n",
            "197/197 [==============================] - 1s 4ms/step - loss: 0.7542 - categorical_accuracy: 0.7589 - val_loss: 1.3488 - val_categorical_accuracy: 0.6355\n",
            "Epoch 131/200\n",
            "197/197 [==============================] - 1s 4ms/step - loss: 0.7576 - categorical_accuracy: 0.7583 - val_loss: 1.4875 - val_categorical_accuracy: 0.5957\n",
            "Epoch 132/200\n",
            "197/197 [==============================] - 1s 4ms/step - loss: 0.7522 - categorical_accuracy: 0.7480 - val_loss: 1.4185 - val_categorical_accuracy: 0.6263\n",
            "Epoch 133/200\n",
            "197/197 [==============================] - 1s 4ms/step - loss: 0.7315 - categorical_accuracy: 0.7653 - val_loss: 1.3881 - val_categorical_accuracy: 0.6172\n",
            "Epoch 134/200\n",
            "197/197 [==============================] - 1s 4ms/step - loss: 0.7359 - categorical_accuracy: 0.7603 - val_loss: 1.4282 - val_categorical_accuracy: 0.6248\n",
            "Epoch 135/200\n",
            "197/197 [==============================] - 1s 4ms/step - loss: 0.6787 - categorical_accuracy: 0.7795 - val_loss: 1.5550 - val_categorical_accuracy: 0.5942\n",
            "Epoch 136/200\n",
            "197/197 [==============================] - 1s 4ms/step - loss: 0.7034 - categorical_accuracy: 0.7642 - val_loss: 1.5618 - val_categorical_accuracy: 0.5911\n",
            "Epoch 137/200\n",
            "197/197 [==============================] - 1s 4ms/step - loss: 0.6733 - categorical_accuracy: 0.7866 - val_loss: 1.3563 - val_categorical_accuracy: 0.6417\n",
            "Epoch 138/200\n",
            "197/197 [==============================] - 1s 4ms/step - loss: 0.6753 - categorical_accuracy: 0.7796 - val_loss: 1.5864 - val_categorical_accuracy: 0.5835\n",
            "Epoch 139/200\n",
            "197/197 [==============================] - 1s 4ms/step - loss: 0.7104 - categorical_accuracy: 0.7687 - val_loss: 1.3960 - val_categorical_accuracy: 0.6279\n",
            "Epoch 140/200\n",
            "197/197 [==============================] - 1s 4ms/step - loss: 0.6861 - categorical_accuracy: 0.7814 - val_loss: 1.3491 - val_categorical_accuracy: 0.6585\n",
            "Epoch 141/200\n",
            "197/197 [==============================] - 1s 4ms/step - loss: 0.6552 - categorical_accuracy: 0.7857 - val_loss: 1.4734 - val_categorical_accuracy: 0.6263\n",
            "Epoch 142/200\n",
            "197/197 [==============================] - 1s 4ms/step - loss: 0.6798 - categorical_accuracy: 0.7823 - val_loss: 1.4006 - val_categorical_accuracy: 0.6355\n",
            "Epoch 143/200\n",
            "197/197 [==============================] - 1s 4ms/step - loss: 0.6580 - categorical_accuracy: 0.7862 - val_loss: 1.4391 - val_categorical_accuracy: 0.6355\n",
            "Epoch 144/200\n",
            "197/197 [==============================] - 1s 4ms/step - loss: 0.6347 - categorical_accuracy: 0.7875 - val_loss: 1.4899 - val_categorical_accuracy: 0.5926\n",
            "Epoch 145/200\n",
            "197/197 [==============================] - 1s 4ms/step - loss: 0.6257 - categorical_accuracy: 0.7845 - val_loss: 1.3133 - val_categorical_accuracy: 0.6417\n",
            "Epoch 146/200\n",
            "197/197 [==============================] - 1s 4ms/step - loss: 0.6267 - categorical_accuracy: 0.7992 - val_loss: 1.3674 - val_categorical_accuracy: 0.6493\n",
            "Epoch 147/200\n",
            "197/197 [==============================] - 1s 4ms/step - loss: 0.6258 - categorical_accuracy: 0.7970 - val_loss: 1.3451 - val_categorical_accuracy: 0.6462\n",
            "Epoch 148/200\n",
            "197/197 [==============================] - 1s 4ms/step - loss: 0.6367 - categorical_accuracy: 0.7917 - val_loss: 1.3892 - val_categorical_accuracy: 0.6386\n",
            "Epoch 149/200\n",
            "197/197 [==============================] - 1s 4ms/step - loss: 0.6172 - categorical_accuracy: 0.7950 - val_loss: 1.3387 - val_categorical_accuracy: 0.6631\n",
            "Epoch 150/200\n",
            "197/197 [==============================] - 1s 4ms/step - loss: 0.5778 - categorical_accuracy: 0.8198 - val_loss: 1.3851 - val_categorical_accuracy: 0.6371\n",
            "Epoch 151/200\n",
            "197/197 [==============================] - 1s 4ms/step - loss: 0.6240 - categorical_accuracy: 0.8026 - val_loss: 1.5520 - val_categorical_accuracy: 0.6202\n",
            "Epoch 152/200\n",
            "197/197 [==============================] - 1s 4ms/step - loss: 0.6058 - categorical_accuracy: 0.8083 - val_loss: 1.2816 - val_categorical_accuracy: 0.6753\n",
            "Epoch 153/200\n",
            "197/197 [==============================] - 1s 4ms/step - loss: 0.5405 - categorical_accuracy: 0.8213 - val_loss: 1.6045 - val_categorical_accuracy: 0.6095\n",
            "Epoch 154/200\n",
            "197/197 [==============================] - 1s 4ms/step - loss: 0.5973 - categorical_accuracy: 0.8035 - val_loss: 1.3463 - val_categorical_accuracy: 0.6432\n",
            "Epoch 155/200\n",
            "197/197 [==============================] - 1s 4ms/step - loss: 0.5640 - categorical_accuracy: 0.8144 - val_loss: 1.3176 - val_categorical_accuracy: 0.6646\n",
            "Epoch 156/200\n",
            "197/197 [==============================] - 1s 4ms/step - loss: 0.6027 - categorical_accuracy: 0.8051 - val_loss: 1.3435 - val_categorical_accuracy: 0.6508\n",
            "Epoch 157/200\n",
            "197/197 [==============================] - 1s 4ms/step - loss: 0.5445 - categorical_accuracy: 0.8216 - val_loss: 1.3680 - val_categorical_accuracy: 0.6279\n",
            "Epoch 158/200\n",
            "197/197 [==============================] - 1s 4ms/step - loss: 0.5885 - categorical_accuracy: 0.8021 - val_loss: 1.2884 - val_categorical_accuracy: 0.6692\n",
            "Epoch 159/200\n",
            "197/197 [==============================] - 1s 4ms/step - loss: 0.5596 - categorical_accuracy: 0.8238 - val_loss: 1.3616 - val_categorical_accuracy: 0.6554\n",
            "Epoch 160/200\n",
            "197/197 [==============================] - 1s 4ms/step - loss: 0.5590 - categorical_accuracy: 0.8174 - val_loss: 1.3343 - val_categorical_accuracy: 0.6692\n",
            "Epoch 161/200\n",
            "197/197 [==============================] - 1s 4ms/step - loss: 0.5217 - categorical_accuracy: 0.8270 - val_loss: 1.2702 - val_categorical_accuracy: 0.6692\n",
            "Epoch 162/200\n",
            "197/197 [==============================] - 1s 4ms/step - loss: 0.5468 - categorical_accuracy: 0.8227 - val_loss: 1.4103 - val_categorical_accuracy: 0.6309\n",
            "Epoch 163/200\n",
            "197/197 [==============================] - 1s 4ms/step - loss: 0.5131 - categorical_accuracy: 0.8282 - val_loss: 1.3613 - val_categorical_accuracy: 0.6677\n",
            "Epoch 164/200\n",
            "197/197 [==============================] - 1s 4ms/step - loss: 0.5137 - categorical_accuracy: 0.8272 - val_loss: 1.3146 - val_categorical_accuracy: 0.6417\n",
            "Epoch 165/200\n",
            "197/197 [==============================] - 1s 4ms/step - loss: 0.5204 - categorical_accuracy: 0.8279 - val_loss: 1.2845 - val_categorical_accuracy: 0.6646\n",
            "Epoch 166/200\n",
            "197/197 [==============================] - 1s 4ms/step - loss: 0.5141 - categorical_accuracy: 0.8324 - val_loss: 1.3774 - val_categorical_accuracy: 0.6401\n",
            "Epoch 167/200\n",
            "197/197 [==============================] - 1s 4ms/step - loss: 0.5498 - categorical_accuracy: 0.8124 - val_loss: 1.3694 - val_categorical_accuracy: 0.6600\n",
            "Epoch 168/200\n",
            "197/197 [==============================] - 1s 4ms/step - loss: 0.4949 - categorical_accuracy: 0.8346 - val_loss: 1.3103 - val_categorical_accuracy: 0.6493\n",
            "Epoch 169/200\n",
            "197/197 [==============================] - 1s 4ms/step - loss: 0.4744 - categorical_accuracy: 0.8503 - val_loss: 1.4349 - val_categorical_accuracy: 0.6309\n",
            "Epoch 170/200\n",
            "197/197 [==============================] - 1s 4ms/step - loss: 0.5096 - categorical_accuracy: 0.8307 - val_loss: 1.3315 - val_categorical_accuracy: 0.6616\n",
            "Epoch 171/200\n",
            "197/197 [==============================] - 1s 4ms/step - loss: 0.4895 - categorical_accuracy: 0.8405 - val_loss: 1.3721 - val_categorical_accuracy: 0.6662\n",
            "Epoch 172/200\n",
            "197/197 [==============================] - 1s 4ms/step - loss: 0.4752 - categorical_accuracy: 0.8397 - val_loss: 1.5904 - val_categorical_accuracy: 0.6141\n",
            "Epoch 173/200\n",
            "197/197 [==============================] - 1s 4ms/step - loss: 0.5209 - categorical_accuracy: 0.8325 - val_loss: 1.5842 - val_categorical_accuracy: 0.5835\n",
            "Epoch 174/200\n",
            "197/197 [==============================] - 1s 4ms/step - loss: 0.4862 - categorical_accuracy: 0.8411 - val_loss: 1.4150 - val_categorical_accuracy: 0.6600\n",
            "Epoch 175/200\n",
            "197/197 [==============================] - 1s 4ms/step - loss: 0.4597 - categorical_accuracy: 0.8501 - val_loss: 1.5505 - val_categorical_accuracy: 0.6340\n",
            "Epoch 176/200\n",
            "197/197 [==============================] - 1s 4ms/step - loss: 0.4553 - categorical_accuracy: 0.8477 - val_loss: 1.7153 - val_categorical_accuracy: 0.5835\n",
            "Epoch 177/200\n",
            "197/197 [==============================] - 1s 4ms/step - loss: 0.4776 - categorical_accuracy: 0.8483 - val_loss: 1.3285 - val_categorical_accuracy: 0.6738\n",
            "Epoch 178/200\n",
            "197/197 [==============================] - 1s 4ms/step - loss: 0.4686 - categorical_accuracy: 0.8435 - val_loss: 1.3478 - val_categorical_accuracy: 0.6570\n",
            "Epoch 179/200\n",
            "197/197 [==============================] - 1s 4ms/step - loss: 0.4650 - categorical_accuracy: 0.8493 - val_loss: 1.5349 - val_categorical_accuracy: 0.6355\n",
            "Epoch 180/200\n",
            "197/197 [==============================] - 1s 4ms/step - loss: 0.4755 - categorical_accuracy: 0.8438 - val_loss: 1.4210 - val_categorical_accuracy: 0.6646\n",
            "Epoch 181/200\n",
            "197/197 [==============================] - 1s 4ms/step - loss: 0.4476 - categorical_accuracy: 0.8484 - val_loss: 1.3955 - val_categorical_accuracy: 0.6585\n",
            "Epoch 182/200\n",
            "197/197 [==============================] - 1s 4ms/step - loss: 0.4416 - categorical_accuracy: 0.8568 - val_loss: 1.4593 - val_categorical_accuracy: 0.6340\n",
            "Epoch 183/200\n",
            "197/197 [==============================] - 1s 4ms/step - loss: 0.4375 - categorical_accuracy: 0.8560 - val_loss: 1.4228 - val_categorical_accuracy: 0.6508\n",
            "Epoch 184/200\n",
            "197/197 [==============================] - 1s 4ms/step - loss: 0.4320 - categorical_accuracy: 0.8634 - val_loss: 1.4127 - val_categorical_accuracy: 0.6447\n",
            "Epoch 185/200\n",
            "197/197 [==============================] - 1s 4ms/step - loss: 0.4309 - categorical_accuracy: 0.8567 - val_loss: 1.6238 - val_categorical_accuracy: 0.6386\n",
            "Epoch 186/200\n",
            "197/197 [==============================] - 1s 4ms/step - loss: 0.4522 - categorical_accuracy: 0.8563 - val_loss: 1.3912 - val_categorical_accuracy: 0.6539\n",
            "Epoch 187/200\n",
            "197/197 [==============================] - 1s 4ms/step - loss: 0.4664 - categorical_accuracy: 0.8434 - val_loss: 1.4759 - val_categorical_accuracy: 0.6386\n",
            "Epoch 188/200\n",
            "197/197 [==============================] - 1s 4ms/step - loss: 0.4034 - categorical_accuracy: 0.8668 - val_loss: 1.3616 - val_categorical_accuracy: 0.6708\n",
            "Epoch 189/200\n",
            "197/197 [==============================] - 1s 4ms/step - loss: 0.4328 - categorical_accuracy: 0.8539 - val_loss: 1.3958 - val_categorical_accuracy: 0.6631\n",
            "Epoch 190/200\n",
            "197/197 [==============================] - 1s 4ms/step - loss: 0.4194 - categorical_accuracy: 0.8587 - val_loss: 1.3172 - val_categorical_accuracy: 0.6677\n",
            "Epoch 191/200\n",
            "197/197 [==============================] - 1s 4ms/step - loss: 0.4329 - categorical_accuracy: 0.8564 - val_loss: 1.3263 - val_categorical_accuracy: 0.6677\n",
            "Epoch 192/200\n",
            "197/197 [==============================] - 1s 4ms/step - loss: 0.4064 - categorical_accuracy: 0.8620 - val_loss: 1.4682 - val_categorical_accuracy: 0.6524\n",
            "Epoch 193/200\n",
            "197/197 [==============================] - 1s 4ms/step - loss: 0.4430 - categorical_accuracy: 0.8485 - val_loss: 1.3473 - val_categorical_accuracy: 0.6708\n",
            "Epoch 194/200\n",
            "197/197 [==============================] - 1s 4ms/step - loss: 0.4203 - categorical_accuracy: 0.8619 - val_loss: 1.4644 - val_categorical_accuracy: 0.6554\n",
            "Epoch 195/200\n",
            "197/197 [==============================] - 1s 4ms/step - loss: 0.4102 - categorical_accuracy: 0.8575 - val_loss: 1.3542 - val_categorical_accuracy: 0.6677\n",
            "Epoch 196/200\n",
            "197/197 [==============================] - 1s 4ms/step - loss: 0.4026 - categorical_accuracy: 0.8651 - val_loss: 1.3364 - val_categorical_accuracy: 0.6508\n",
            "Epoch 197/200\n",
            "197/197 [==============================] - 1s 4ms/step - loss: 0.3898 - categorical_accuracy: 0.8732 - val_loss: 1.5031 - val_categorical_accuracy: 0.6478\n",
            "Epoch 198/200\n",
            "197/197 [==============================] - 1s 4ms/step - loss: 0.3963 - categorical_accuracy: 0.8703 - val_loss: 1.3709 - val_categorical_accuracy: 0.6493\n",
            "Epoch 199/200\n",
            "197/197 [==============================] - 1s 4ms/step - loss: 0.4022 - categorical_accuracy: 0.8721 - val_loss: 1.4016 - val_categorical_accuracy: 0.6876\n",
            "Epoch 200/200\n",
            "197/197 [==============================] - 1s 4ms/step - loss: 0.3755 - categorical_accuracy: 0.8743 - val_loss: 1.4137 - val_categorical_accuracy: 0.6585\n"
          ],
          "name": "stdout"
        }
      ]
    },
    {
      "cell_type": "markdown",
      "metadata": {
        "id": "QmgOQTUHla7s"
      },
      "source": [
        "### Evaluate model"
      ]
    },
    {
      "cell_type": "code",
      "metadata": {
        "colab": {
          "base_uri": "https://localhost:8080/",
          "height": 945
        },
        "id": "h5Je_tJf_-vG",
        "outputId": "526abad5-61b3-41da-e6c2-a19fb1fa4912"
      },
      "source": [
        "### Graphics to see the possible overfitting during training\n",
        "\n",
        "plot_metric(h,'loss')\n",
        "plot_metric(h,'categorical_accuracy')"
      ],
      "execution_count": 26,
      "outputs": [
        {
          "output_type": "display_data",
          "data": {
            "image/png": "[encoded data removed]",
            "text/plain": [
              "<Figure size 748.8x514.8 with 1 Axes>"
            ]
          },
          "metadata": {
            "tags": [],
            "needs_background": "light"
          }
        },
        {
          "output_type": "display_data",
          "data": {
            "image/png": "[encoded data removed]",
            "text/plain": [
              "<Figure size 748.8x514.8 with 1 Axes>"
            ]
          },
          "metadata": {
            "tags": [],
            "needs_background": "light"
          }
        }
      ]
    },
    {
      "cell_type": "code",
      "metadata": {
        "colab": {
          "base_uri": "https://localhost:8080/"
        },
        "id": "EpRFkGy-mfR1",
        "outputId": "159994f9-d86d-4142-8333-e493387ff0d4"
      },
      "source": [
        "### Evaluate the accuracy of model. \n",
        "\n",
        "model.evaluate(test_images,OneHotTest)"
      ],
      "execution_count": 28,
      "outputs": [
        {
          "output_type": "stream",
          "text": [
            "23/23 [==============================] - 0s 5ms/step - loss: 1.1120 - categorical_accuracy: 0.6919\n"
          ],
          "name": "stdout"
        },
        {
          "output_type": "execute_result",
          "data": {
            "text/plain": [
              "[1.1120202541351318, 0.691884458065033]"
            ]
          },
          "metadata": {
            "tags": []
          },
          "execution_count": 28
        }
      ]
    },
    {
      "cell_type": "markdown",
      "metadata": {
        "id": "VerxmCnyEqW1"
      },
      "source": [
        "## Save objects to keep and load in the Streamlit App"
      ]
    },
    {
      "cell_type": "code",
      "metadata": {
        "id": "_NjePVrjqMfx"
      },
      "source": [
        "### Save the model \n",
        "model.save(\"model_mushrooms_SGD.h5\")\n",
        "\n",
        "### Save the mushroom labels list\n",
        "pd.Series(l2).to_csv('mushrooms_labels.csv',sep='|')"
      ],
      "execution_count": 29,
      "outputs": []
    },
    {
      "cell_type": "markdown",
      "metadata": {
        "id": "XTGE36V5lhyC"
      },
      "source": [
        "## Doing predictions"
      ]
    },
    {
      "cell_type": "code",
      "metadata": {
        "colab": {
          "base_uri": "https://localhost:8080/"
        },
        "id": "UWfb_eClAKYl",
        "outputId": "31d9010e-85ca-40cb-e9f9-fd93f6a9c25b"
      },
      "source": [
        "### Doing random predictions, this time for mushroom in the position 189 in test_images\n",
        "\n",
        "y_pred = model.predict_proba(test_images)\n",
        "df = pd.DataFrame(y_pred[189], columns = ['probabilities'])\n",
        "df['labels']=l2\n",
        "df_sort = df.sort_values('probabilities',ascending = False)[0:3]\n",
        "df_sort=df_sort.reset_index(drop=True)\n",
        "df_sort"
      ],
      "execution_count": 31,
      "outputs": [
        {
          "output_type": "stream",
          "text": [
            "/usr/local/lib/python3.7/dist-packages/tensorflow/python/keras/engine/sequential.py:425: UserWarning: `model.predict_proba()` is deprecated and will be removed after 2021-01-01. Please use `model.predict()` instead.\n",
            "  warnings.warn('`model.predict_proba()` is deprecated and '\n"
          ],
          "name": "stderr"
        }
      ]
    },
    {
      "cell_type": "markdown",
      "metadata": {
        "id": "aAY31WWibLqp"
      },
      "source": [
        "# Streamlit"
      ]
    },
    {
      "cell_type": "markdown",
      "metadata": {
        "id": "lrhLEPToXHvE"
      },
      "source": [
        "## Installing Ngrok for Streamlit"
      ]
    },
    {
      "cell_type": "code",
      "metadata": {
        "colab": {
          "resources": {
            "http://localhost:8080/nbextensions/google.colab/files.js": {
              "data": "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",
              "ok": true,
              "headers": [
                [
                  "content-type",
                  "application/javascript"
                ]
              ],
              "status": 200,
              "status_text": "OK"
            }
          },
          "base_uri": "https://localhost:8080/",
          "height": 75
        },
        "id": "6aUPZ-eCXYb3",
        "outputId": "7d17a199-47f3-4334-a887-b456dd0edd08"
      },
      "source": [
        "from google.colab import files\n",
        "uploaded = files.upload()"
      ],
      "execution_count": 40,
      "outputs": [
        {
          "output_type": "display_data",
          "data": {
            "text/html": [
              "\n",
              "     <input type=\"file\" id=\"files-34250eb9-e943-4ef7-b090-595e85274792\" name=\"files[]\" multiple disabled\n",
              "        style=\"border:none\" />\n",
              "     <output id=\"result-34250eb9-e943-4ef7-b090-595e85274792\">\n",
              "      Upload widget is only available when the cell has been executed in the\n",
              "      current browser session. Please rerun this cell to enable.\n",
              "      </output>\n",
              "      <script src=\"/nbextensions/google.colab/files.js\"></script> "
            ],
            "text/plain": [
              "<IPython.core.display.HTML object>"
            ]
          },
          "metadata": {
            "tags": []
          }
        },
        {
          "output_type": "stream",
          "text": [
            "Saving ngrok-stable-linux-amd64.zip to ngrok-stable-linux-amd64.zip\n"
          ],
          "name": "stdout"
        }
      ]
    },
    {
      "cell_type": "code",
      "metadata": {
        "colab": {
          "base_uri": "https://localhost:8080/"
        },
        "id": "nJlbFJxPXFjx",
        "outputId": "f805751a-66a9-47af-90b2-8bb6dd0946a2"
      },
      "source": [
        "!unzip /content/ngrok-stable-linux-amd64.zip"
      ],
      "execution_count": 41,
      "outputs": [
        {
          "output_type": "stream",
          "text": [
            "Archive:  /content/ngrok-stable-linux-amd64.zip\n",
            "  inflating: ngrok                   \n"
          ],
          "name": "stdout"
        }
      ]
    },
    {
      "cell_type": "code",
      "metadata": {
        "colab": {
          "base_uri": "https://localhost:8080/"
        },
        "id": "UEz8jsyPXFtK",
        "outputId": "5090bead-a254-4fd6-bcc8-7ca8a9f46e09"
      },
      "source": [
        "!ngrok authtoken 1s4dWx40WEPgxZOREhcu4JZc5JL_79bCSDk2c3hVJ38GTc2zz"
      ],
      "execution_count": 42,
      "outputs": [
        {
          "output_type": "stream",
          "text": [
            "Authtoken saved to configuration file: /root/.ngrok2/ngrok.yml\n"
          ],
          "name": "stdout"
        }
      ]
    },
    {
      "cell_type": "code",
      "metadata": {
        "colab": {
          "base_uri": "https://localhost:8080/"
        },
        "id": "Y_RPyKWAauOA",
        "outputId": "928db9ca-deda-459a-c0fe-9d94be09a778"
      },
      "source": [
        "public_url = ngrok.connect(port = '80')"
      ],
      "execution_count": 43,
      "outputs": [
        {
          "output_type": "stream",
          "text": [
            "2021-05-08 20:24:33.365 INFO    pyngrok.ngrok: Opening tunnel named: http-80-11cc3838-8de3-4c44-87c3-26d18a3b0b1b\n",
            "2021-05-08 20:24:33.431 INFO    pyngrok.process.ngrok: t=2021-05-08T20:24:33+0000 lvl=info msg=\"no configuration paths supplied\"\n",
            "2021-05-08 20:24:33.433 INFO    pyngrok.process.ngrok: t=2021-05-08T20:24:33+0000 lvl=info msg=\"using configuration at default config path\" path=/root/.ngrok2/ngrok.yml\n",
            "2021-05-08 20:24:33.435 INFO    pyngrok.process.ngrok: t=2021-05-08T20:24:33+0000 lvl=info msg=\"open config file\" path=/root/.ngrok2/ngrok.yml err=nil\n",
            "2021-05-08 20:24:33.444 INFO    pyngrok.process.ngrok: t=2021-05-08T20:24:33+0000 lvl=info msg=\"starting web service\" obj=web addr=127.0.0.1:4040\n",
            "2021-05-08 20:24:33.515 INFO    pyngrok.process.ngrok: t=2021-05-08T20:24:33+0000 lvl=info msg=\"tunnel session started\" obj=tunnels.session\n",
            "2021-05-08 20:24:33.518 INFO    pyngrok.process.ngrok: t=2021-05-08T20:24:33+0000 lvl=info msg=\"client session established\" obj=csess id=cafb0f2f9f85\n",
            "2021-05-08 20:24:33.527 INFO    pyngrok.process.ngrok: t=2021-05-08T20:24:33+0000 lvl=info msg=start pg=/api/tunnels id=2ba316a770ccc981\n",
            "2021-05-08 20:24:33.529 INFO    pyngrok.process.ngrok: t=2021-05-08T20:24:33+0000 lvl=info msg=end pg=/api/tunnels id=2ba316a770ccc981 status=200 dur=298.311µs\n",
            "2021-05-08 20:24:33.532 INFO    pyngrok.process.ngrok: t=2021-05-08T20:24:33+0000 lvl=info msg=start pg=/api/tunnels id=84d2087268da7d66\n",
            "2021-05-08 20:24:33.536 INFO    pyngrok.process.ngrok: t=2021-05-08T20:24:33+0000 lvl=info msg=end pg=/api/tunnels id=84d2087268da7d66 status=200 dur=83.25µs\n",
            "2021-05-08 20:24:33.540 INFO    pyngrok.process.ngrok: t=2021-05-08T20:24:33+0000 lvl=info msg=start pg=/api/tunnels id=beb724e9fde810eb\n",
            "2021-05-08 20:24:33.568 INFO    pyngrok.process.ngrok: t=2021-05-08T20:24:33+0000 lvl=info msg=\"started tunnel\" obj=tunnels name=\"http-80-11cc3838-8de3-4c44-87c3-26d18a3b0b1b (http)\" addr=http://localhost:80 url=http://50f5eb01c8b5.ngrok.io\n",
            "2021-05-08 20:24:33.570 INFO    pyngrok.process.ngrok: t=2021-05-08T20:24:33+0000 lvl=info msg=\"started tunnel\" obj=tunnels name=http-80-11cc3838-8de3-4c44-87c3-26d18a3b0b1b addr=http://localhost:80 url=https://50f5eb01c8b5.ngrok.io\n",
            "2021-05-08 20:24:33.573 INFO    pyngrok.process.ngrok: t=2021-05-08T20:24:33+0000 lvl=info msg=end pg=/api/tunnels id=beb724e9fde810eb status=201 dur=41.264191ms\n",
            "2021-05-08 20:24:33.577 INFO    pyngrok.process.ngrok: t=2021-05-08T20:24:33+0000 lvl=info msg=start pg=\"/api/tunnels/http-80-11cc3838-8de3-4c44-87c3-26d18a3b0b1b (http)\" id=cb5c70435cab0e22\n",
            "2021-05-08 20:24:33.579 INFO    pyngrok.process.ngrok: t=2021-05-08T20:24:33+0000 lvl=info msg=end pg=\"/api/tunnels/http-80-11cc3838-8de3-4c44-87c3-26d18a3b0b1b (http)\" id=cb5c70435cab0e22 status=200 dur=125.879µs\n"
          ],
          "name": "stderr"
        }
      ]
    },
    {
      "cell_type": "code",
      "metadata": {
        "id": "OtsDFxOGKgjD"
      },
      "source": [
        "number_of_photos = pd.read_csv('number_of_photos.csv')\n",
        "number_of_photos = number_of_photos['0'][0]"
      ],
      "execution_count": 44,
      "outputs": []
    },
    {
      "cell_type": "code",
      "metadata": {
        "id": "6jtFnsCjQy4l"
      },
      "source": [
        "lista_enteros = range(0,number_of_photos)\n",
        "random_photos = random.sample(lista_enteros, 5)"
      ],
      "execution_count": 45,
      "outputs": []
    },
    {
      "cell_type": "code",
      "metadata": {
        "colab": {
          "base_uri": "https://localhost:8080/"
        },
        "id": "sZxVmmxyctd0",
        "outputId": "c132d6f2-0368-48d9-c1f8-b1f6e6ed3764"
      },
      "source": [
        "%%writefile app.py\n",
        "\n",
        "import streamlit as st\n",
        "import altair as alt\n",
        "import pandas as pd\n",
        "import matplotlib.pyplot as plt\n",
        "#working with images\n",
        "from matplotlib import image\n",
        "from matplotlib import pyplot\n",
        "from skimage import io\n",
        "import cv2\n",
        "import os\n",
        "import skimage\n",
        "from skimage import data, io, filters, transform\n",
        "import numpy as np\n",
        "\n",
        "##load model\n",
        "from keras.models import load_model\n",
        "\n",
        "#import deep learning libraries\n",
        "from tensorflow.keras import optimizers\n",
        "from tensorflow.keras import losses\n",
        "from tensorflow.keras import metrics\n",
        "from tensorflow.keras.utils import to_categorical\n",
        "from tensorflow.keras import models\n",
        "from tensorflow.keras import layers\n",
        "from tensorflow.keras import Input\n",
        "import tensorflow as tf\n",
        "\n",
        "#for choose the random pictures\n",
        "import random \n",
        "\n",
        "#--Web scraping packages\n",
        "from bs4 import BeautifulSoup\n",
        "import requests\n",
        "import itertools\n",
        "from urllib.request import Request, urlopen\n",
        "import urllib.request\n",
        "\n",
        "st.title('Mushrooms Classification')\n",
        "st.subheader('App to know what mushroom is your picture')\n",
        "\n",
        "st.markdown(\"Hello everybody and welcome to this interactive website on **mushrooms classification**.\")\n",
        "st.markdown(\"This work consists on classifying different types of mushrooms from images, using the famous convolutional neural networks (CNN) as a method.\")\n",
        "st.markdown(\"Put a mushroom and get the probability that it is a type of mushroom among the different species studied, and you will also get the 3 most likely mushrooms it is.\")\n",
        "st.markdown(\"Please, put a picture of your choice\")\n",
        "\n",
        "#load the model saved before.\n",
        "\n",
        "model = load_model('model_mushrooms_SGD.h5')\n",
        "\n",
        "## read the msuhrooms labels csv\n",
        "\n",
        "l2 = pd.read_csv('mushrooms_labels.csv',sep='|')\n",
        "l2 = l2['0'].to_list()\n",
        "try:\n",
        "  picture = st.file_uploader('picture',type='jpg')\n",
        "  st.image(picture)\n",
        "  image_rgb=io.imread(picture)/255.0\n",
        "  data_picture = cv2.resize(image_rgb, (28, 28))\n",
        "  pictures = np.array([data_picture])\n",
        "  pred_photos = model.predict_proba(pictures)\n",
        "  df = pd.DataFrame(pred_photos[0], columns = ['probabilities'])\n",
        "  df['labels']=l2\n",
        "  df_sort = df.sort_values('probabilities',ascending = False)[0:3]\n",
        "  #fig = plt.bar(df_sort['labels'],df_sort['probabilities'])\n",
        "  X=df_sort['probabilities']\n",
        "  Y=df_sort['labels'] \n",
        "\n",
        "  fig = plt.figure(figsize=(12, 8))\n",
        "\n",
        "  plt.bar(range(len(X)), X)\n",
        "  plt.xticks(np.arange(len(X)), Y)\n",
        "  plt.ylabel('probability')\n",
        "  ax = X.plot(kind='bar')\n",
        "  ax.set_xticklabels(Y)\n",
        "  rects = ax.patches\n",
        "\n",
        "  for rect, label in zip(rects, X):\n",
        "      height = rect.get_height()\n",
        "      ax.text(rect.get_x() + rect.get_width() / 10, height+0.01, label,\n",
        "              ha='left', va='bottom')\n",
        "\n",
        "  st.pyplot(fig)\n",
        "\n",
        "  probability = str(round(df_sort['probabilities'][:-2]*100,2).reset_index()['probabilities'][0])\n",
        "  label = df_sort['labels'][:-2].reset_index()['labels'][0]\n",
        "\n",
        "  text = f\"Your choice has **{probability} %** to be **{label}** mushroom\"\n",
        "  st.markdown(text)\n",
        "  st.markdown(\"Here, you have other different pictures of this mushroom\")\n",
        "  \n",
        "  url = 'https://www.google.com/search?q='+label+'&tbm=isch&hl=es&sa=X&ved=2ahUKEwjw_M7z2NfuAhUMpRoKHbPQAokQgowBegQIARAX&biw=1905&bih=852'\n",
        "\n",
        "  response = requests.get(url)\n",
        "\n",
        "  soup = BeautifulSoup(response.content,'html.parser')\n",
        "\n",
        "  images = soup.find_all(\"img\")\n",
        "            \n",
        "  images = images[1::]\n",
        "\n",
        "  random_photos = random.sample(images, 8)\n",
        "\n",
        "  urls_list = []\n",
        "\n",
        "  for image in random_photos:\n",
        "\n",
        "    image_src = image['src']\n",
        "\n",
        "    urls_list.append(image_src)\n",
        "\n",
        "  st.image(urls_list)\n",
        "\n",
        "except:\n",
        "  pass"
      ],
      "execution_count": 86,
      "outputs": [
        {
          "output_type": "stream",
          "text": [
            "Overwriting app.py\n"
          ],
          "name": "stdout"
        }
      ]
    },
    {
      "cell_type": "code",
      "metadata": {
        "id": "0fKkD_qTiTjo"
      },
      "source": [
        "!streamlit run --server.port 80 app.py&>/dev/null&"
      ],
      "execution_count": 47,
      "outputs": []
    },
    {
      "cell_type": "code",
      "metadata": {
        "colab": {
          "base_uri": "https://localhost:8080/"
        },
        "id": "R6OiYm_4p8IF",
        "outputId": "11b1d672-5768-4035-eef0-4704b1326bfa"
      },
      "source": [
        "public_url"
      ],
      "execution_count": 48,
      "outputs": [
        {
          "output_type": "execute_result",
          "data": {
            "text/plain": [
              "<NgrokTunnel: \"http://50f5eb01c8b5.ngrok.io\" -> \"http://localhost:80\">"
            ]
          },
          "metadata": {
            "tags": []
          },
          "execution_count": 48
        }
      ]
    },
    {
      "cell_type": "code",
      "metadata": {
        "id": "lYAgXnLFSzLA"
      },
      "source": [
        "#### vamos a comprobar con una imagen aletaria que cojo de google.\n",
        "\n",
        "import numpy as np\n",
        "from google.colab import files\n",
        "\n",
        "uploaded=files.upload()\n",
        "\n"
      ],
      "execution_count": null,
      "outputs": []
    },
    {
      "cell_type": "code",
      "metadata": {
        "id": "Cuvaqm4CU4EB"
      },
      "source": [
        "#route ='/content/istockphoto-1015452220-612x612.jpg'\n",
        "#route1 = '/content/images.jpeg'\n",
        "#route2 = '/content/images.jpeg'\n",
        "#route3 = '/content/maxresdefault.jpg'\n",
        "route4 = '/content/Amanita_phalloides.jpg'\n",
        "#route5 = '/content/unnamed.jpg'\n",
        "#image_rgb=io.imread(route)/255.0\n",
        "#image_rgb1=io.imread(route1)/255.0\n",
        "#image_rgb2=io.imread(route2)/255.0\n",
        "#image_rgb3=io.imread(route3)/255.0\n",
        "image_rgb4=io.imread(route4)/255.0\n",
        "#image_rgb5=io.imread(route5)/255.0"
      ],
      "execution_count": null,
      "outputs": []
    },
    {
      "cell_type": "code",
      "metadata": {
        "id": "X4_FMEg6Wqll"
      },
      "source": [
        "#data_picture = cv2.resize(image_rgb, (28, 28))\n",
        "#data_picture1 = cv2.resize(image_rgb1, (28, 28))\n",
        "#data_picture2 = cv2.resize(image_rgb2, (28, 28))\n",
        "#data_picture3 = cv2.resize(image_rgb3, (28, 28))\n",
        "data_picture4 = cv2.resize(image_rgb4, (28, 28))\n",
        "#data_picture5 = cv2.resize(image_rgb5, (28, 28))"
      ],
      "execution_count": null,
      "outputs": []
    },
    {
      "cell_type": "markdown",
      "metadata": {
        "id": "CNeDum7uX7HC"
      },
      "source": [
        ""
      ]
    },
    {
      "cell_type": "code",
      "metadata": {
        "id": "dnNZcerKTpFl"
      },
      "source": [
        ""
      ],
      "execution_count": null,
      "outputs": []
    },
    {
      "cell_type": "code",
      "metadata": {
        "id": "sL3cvlulXQRn"
      },
      "source": [
        "pictures = np.array([data_picture4])"
      ],
      "execution_count": null,
      "outputs": []
    },
    {
      "cell_type": "code",
      "metadata": {
        "id": "ILUJFQCgWPPo"
      },
      "source": [
        "# predecimos la clase\n",
        "\n",
        "pred_photos = model.predict_proba(pictures)"
      ],
      "execution_count": null,
      "outputs": []
    },
    {
      "cell_type": "code",
      "metadata": {
        "id": "ev68LPKpZzc2"
      },
      "source": [
        "df = pd.DataFrame(pred_photos[0], columns = ['probabilities'])\n",
        "df['labels']=l2\n",
        "df_sort = df.sort_values('probabilities',ascending = False)[0:3]\n",
        "plt.bar(df_sort['labels'],df_sort['probabilities'])\n",
        "df_sort"
      ],
      "execution_count": null,
      "outputs": []
    },
    {
      "cell_type": "markdown",
      "metadata": {
        "id": "PvPA6ilIlnDa"
      },
      "source": [
        "### Evaluating the test data"
      ]
    },
    {
      "cell_type": "code",
      "metadata": {
        "id": "EptHuyVEhi0k"
      },
      "source": [
        "target_names"
      ],
      "execution_count": null,
      "outputs": []
    },
    {
      "cell_type": "code",
      "metadata": {
        "id": "5sBW92Ed8vzW"
      },
      "source": [
        "predictions"
      ],
      "execution_count": null,
      "outputs": []
    },
    {
      "cell_type": "code",
      "metadata": {
        "id": "D4Yi-3jyfCKj"
      },
      "source": [
        "from sklearn.metrics import confusion_matrix\n",
        "\n",
        "\n",
        "cm=confusion_matrix(test_labels, predictions, labels=target_names)"
      ],
      "execution_count": null,
      "outputs": []
    },
    {
      "cell_type": "code",
      "metadata": {
        "id": "7Zd6J5j6inqc"
      },
      "source": [
        "sns.heatmap(cm,annot=True,cmap=\"YlGnBu\")"
      ],
      "execution_count": null,
      "outputs": []
    },
    {
      "cell_type": "code",
      "metadata": {
        "id": "USJFpBGEp7LJ"
      },
      "source": [
        ""
      ],
      "execution_count": null,
      "outputs": []
    }
  ]
}