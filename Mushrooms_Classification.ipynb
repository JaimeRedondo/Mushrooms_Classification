{
  "nbformat": 4,
  "nbformat_minor": 0,
  "metadata": {
    "accelerator": "GPU",
    "colab": {
      "name": "Mushrooms_Classification.ipynb",
      "provenance": [],
      "collapsed_sections": [],
      "toc_visible": true,
      "authorship_tag": "ABX9TyOysyXaJTRxSTIT/bsI86eH",
      "include_colab_link": true
    },
    "kernelspec": {
      "display_name": "Python 3",
      "name": "python3"
    },
    "widgets": {
      "application/vnd.jupyter.widget-state+json": {
        "5c6499aea1cc4976bf5f3c8a71b92f64": {
          "model_module": "@jupyter-widgets/controls",
          "model_name": "HBoxModel",
          "state": {
            "_view_name": "HBoxView",
            "_dom_classes": [],
            "_model_name": "HBoxModel",
            "_view_module": "@jupyter-widgets/controls",
            "_model_module_version": "1.5.0",
            "_view_count": null,
            "_view_module_version": "1.5.0",
            "box_style": "",
            "layout": "IPY_MODEL_d386f7c9fb4a4941b4f7ce77e4088d77",
            "_model_module": "@jupyter-widgets/controls",
            "children": [
              "IPY_MODEL_4fb9fabf25d244a888947868a3a82b4e",
              "IPY_MODEL_d367a3028a1d4bd5baa2a83b4f095b76"
            ]
          }
        },
        "d386f7c9fb4a4941b4f7ce77e4088d77": {
          "model_module": "@jupyter-widgets/base",
          "model_name": "LayoutModel",
          "state": {
            "_view_name": "LayoutView",
            "grid_template_rows": null,
            "right": null,
            "justify_content": null,
            "_view_module": "@jupyter-widgets/base",
            "overflow": null,
            "_model_module_version": "1.2.0",
            "_view_count": null,
            "flex_flow": null,
            "width": null,
            "min_width": null,
            "border": null,
            "align_items": null,
            "bottom": null,
            "_model_module": "@jupyter-widgets/base",
            "top": null,
            "grid_column": null,
            "overflow_y": null,
            "overflow_x": null,
            "grid_auto_flow": null,
            "grid_area": null,
            "grid_template_columns": null,
            "flex": null,
            "_model_name": "LayoutModel",
            "justify_items": null,
            "grid_row": null,
            "max_height": null,
            "align_content": null,
            "visibility": null,
            "align_self": null,
            "height": null,
            "min_height": null,
            "padding": null,
            "grid_auto_rows": null,
            "grid_gap": null,
            "max_width": null,
            "order": null,
            "_view_module_version": "1.2.0",
            "grid_template_areas": null,
            "object_position": null,
            "object_fit": null,
            "grid_auto_columns": null,
            "margin": null,
            "display": null,
            "left": null
          }
        },
        "4fb9fabf25d244a888947868a3a82b4e": {
          "model_module": "@jupyter-widgets/controls",
          "model_name": "FloatProgressModel",
          "state": {
            "_view_name": "ProgressView",
            "style": "IPY_MODEL_2e0d5716f87446bd947eab64392dbd8c",
            "_dom_classes": [],
            "description": "100%",
            "_model_name": "FloatProgressModel",
            "bar_style": "success",
            "max": 53,
            "_view_module": "@jupyter-widgets/controls",
            "_model_module_version": "1.5.0",
            "value": 53,
            "_view_count": null,
            "_view_module_version": "1.5.0",
            "orientation": "horizontal",
            "min": 0,
            "description_tooltip": null,
            "_model_module": "@jupyter-widgets/controls",
            "layout": "IPY_MODEL_132131d9ac9648ab8730ceb482134ef8"
          }
        },
        "d367a3028a1d4bd5baa2a83b4f095b76": {
          "model_module": "@jupyter-widgets/controls",
          "model_name": "HTMLModel",
          "state": {
            "_view_name": "HTMLView",
            "style": "IPY_MODEL_32f0e4f5831941abbf564ca4df9a6d5d",
            "_dom_classes": [],
            "description": "",
            "_model_name": "HTMLModel",
            "placeholder": "​",
            "_view_module": "@jupyter-widgets/controls",
            "_model_module_version": "1.5.0",
            "value": " 53/53 [00:00&lt;00:00, 920.98it/s]",
            "_view_count": null,
            "_view_module_version": "1.5.0",
            "description_tooltip": null,
            "_model_module": "@jupyter-widgets/controls",
            "layout": "IPY_MODEL_b3678b9ec7c2474ab181bf94d44dc4f2"
          }
        },
        "2e0d5716f87446bd947eab64392dbd8c": {
          "model_module": "@jupyter-widgets/controls",
          "model_name": "ProgressStyleModel",
          "state": {
            "_view_name": "StyleView",
            "_model_name": "ProgressStyleModel",
            "description_width": "initial",
            "_view_module": "@jupyter-widgets/base",
            "_model_module_version": "1.5.0",
            "_view_count": null,
            "_view_module_version": "1.2.0",
            "bar_color": null,
            "_model_module": "@jupyter-widgets/controls"
          }
        },
        "132131d9ac9648ab8730ceb482134ef8": {
          "model_module": "@jupyter-widgets/base",
          "model_name": "LayoutModel",
          "state": {
            "_view_name": "LayoutView",
            "grid_template_rows": null,
            "right": null,
            "justify_content": null,
            "_view_module": "@jupyter-widgets/base",
            "overflow": null,
            "_model_module_version": "1.2.0",
            "_view_count": null,
            "flex_flow": null,
            "width": null,
            "min_width": null,
            "border": null,
            "align_items": null,
            "bottom": null,
            "_model_module": "@jupyter-widgets/base",
            "top": null,
            "grid_column": null,
            "overflow_y": null,
            "overflow_x": null,
            "grid_auto_flow": null,
            "grid_area": null,
            "grid_template_columns": null,
            "flex": null,
            "_model_name": "LayoutModel",
            "justify_items": null,
            "grid_row": null,
            "max_height": null,
            "align_content": null,
            "visibility": null,
            "align_self": null,
            "height": null,
            "min_height": null,
            "padding": null,
            "grid_auto_rows": null,
            "grid_gap": null,
            "max_width": null,
            "order": null,
            "_view_module_version": "1.2.0",
            "grid_template_areas": null,
            "object_position": null,
            "object_fit": null,
            "grid_auto_columns": null,
            "margin": null,
            "display": null,
            "left": null
          }
        },
        "32f0e4f5831941abbf564ca4df9a6d5d": {
          "model_module": "@jupyter-widgets/controls",
          "model_name": "DescriptionStyleModel",
          "state": {
            "_view_name": "StyleView",
            "_model_name": "DescriptionStyleModel",
            "description_width": "",
            "_view_module": "@jupyter-widgets/base",
            "_model_module_version": "1.5.0",
            "_view_count": null,
            "_view_module_version": "1.2.0",
            "_model_module": "@jupyter-widgets/controls"
          }
        },
        "b3678b9ec7c2474ab181bf94d44dc4f2": {
          "model_module": "@jupyter-widgets/base",
          "model_name": "LayoutModel",
          "state": {
            "_view_name": "LayoutView",
            "grid_template_rows": null,
            "right": null,
            "justify_content": null,
            "_view_module": "@jupyter-widgets/base",
            "overflow": null,
            "_model_module_version": "1.2.0",
            "_view_count": null,
            "flex_flow": null,
            "width": null,
            "min_width": null,
            "border": null,
            "align_items": null,
            "bottom": null,
            "_model_module": "@jupyter-widgets/base",
            "top": null,
            "grid_column": null,
            "overflow_y": null,
            "overflow_x": null,
            "grid_auto_flow": null,
            "grid_area": null,
            "grid_template_columns": null,
            "flex": null,
            "_model_name": "LayoutModel",
            "justify_items": null,
            "grid_row": null,
            "max_height": null,
            "align_content": null,
            "visibility": null,
            "align_self": null,
            "height": null,
            "min_height": null,
            "padding": null,
            "grid_auto_rows": null,
            "grid_gap": null,
            "max_width": null,
            "order": null,
            "_view_module_version": "1.2.0",
            "grid_template_areas": null,
            "object_position": null,
            "object_fit": null,
            "grid_auto_columns": null,
            "margin": null,
            "display": null,
            "left": null
          }
        },
        "f884faa73d0d439389a3799097fce81d": {
          "model_module": "@jupyter-widgets/controls",
          "model_name": "HBoxModel",
          "state": {
            "_view_name": "HBoxView",
            "_dom_classes": [],
            "_model_name": "HBoxModel",
            "_view_module": "@jupyter-widgets/controls",
            "_model_module_version": "1.5.0",
            "_view_count": null,
            "_view_module_version": "1.5.0",
            "box_style": "",
            "layout": "IPY_MODEL_963dbb1e53fc46c5a920a84ec758c174",
            "_model_module": "@jupyter-widgets/controls",
            "children": [
              "IPY_MODEL_b737bd5aa0af434ab9828974de913dd9",
              "IPY_MODEL_94bb50566e9d4af5892c61cf6158795e"
            ]
          }
        },
        "963dbb1e53fc46c5a920a84ec758c174": {
          "model_module": "@jupyter-widgets/base",
          "model_name": "LayoutModel",
          "state": {
            "_view_name": "LayoutView",
            "grid_template_rows": null,
            "right": null,
            "justify_content": null,
            "_view_module": "@jupyter-widgets/base",
            "overflow": null,
            "_model_module_version": "1.2.0",
            "_view_count": null,
            "flex_flow": null,
            "width": null,
            "min_width": null,
            "border": null,
            "align_items": null,
            "bottom": null,
            "_model_module": "@jupyter-widgets/base",
            "top": null,
            "grid_column": null,
            "overflow_y": null,
            "overflow_x": null,
            "grid_auto_flow": null,
            "grid_area": null,
            "grid_template_columns": null,
            "flex": null,
            "_model_name": "LayoutModel",
            "justify_items": null,
            "grid_row": null,
            "max_height": null,
            "align_content": null,
            "visibility": null,
            "align_self": null,
            "height": null,
            "min_height": null,
            "padding": null,
            "grid_auto_rows": null,
            "grid_gap": null,
            "max_width": null,
            "order": null,
            "_view_module_version": "1.2.0",
            "grid_template_areas": null,
            "object_position": null,
            "object_fit": null,
            "grid_auto_columns": null,
            "margin": null,
            "display": null,
            "left": null
          }
        },
        "b737bd5aa0af434ab9828974de913dd9": {
          "model_module": "@jupyter-widgets/controls",
          "model_name": "FloatProgressModel",
          "state": {
            "_view_name": "ProgressView",
            "style": "IPY_MODEL_1253b2f222aa40bea5610bdd6e4bf5a4",
            "_dom_classes": [],
            "description": "100%",
            "_model_name": "FloatProgressModel",
            "bar_style": "success",
            "max": 48,
            "_view_module": "@jupyter-widgets/controls",
            "_model_module_version": "1.5.0",
            "value": 48,
            "_view_count": null,
            "_view_module_version": "1.5.0",
            "orientation": "horizontal",
            "min": 0,
            "description_tooltip": null,
            "_model_module": "@jupyter-widgets/controls",
            "layout": "IPY_MODEL_7e8cd45486f34c74b21ff9903dc9a1ee"
          }
        },
        "94bb50566e9d4af5892c61cf6158795e": {
          "model_module": "@jupyter-widgets/controls",
          "model_name": "HTMLModel",
          "state": {
            "_view_name": "HTMLView",
            "style": "IPY_MODEL_a63df7e96f02457e8eaf2f1317771f94",
            "_dom_classes": [],
            "description": "",
            "_model_name": "HTMLModel",
            "placeholder": "​",
            "_view_module": "@jupyter-widgets/controls",
            "_model_module_version": "1.5.0",
            "value": " 48/48 [54:57&lt;00:00, 68.70s/it]",
            "_view_count": null,
            "_view_module_version": "1.5.0",
            "description_tooltip": null,
            "_model_module": "@jupyter-widgets/controls",
            "layout": "IPY_MODEL_90e63718ee85420fbbf75b2e3b814237"
          }
        },
        "1253b2f222aa40bea5610bdd6e4bf5a4": {
          "model_module": "@jupyter-widgets/controls",
          "model_name": "ProgressStyleModel",
          "state": {
            "_view_name": "StyleView",
            "_model_name": "ProgressStyleModel",
            "description_width": "initial",
            "_view_module": "@jupyter-widgets/base",
            "_model_module_version": "1.5.0",
            "_view_count": null,
            "_view_module_version": "1.2.0",
            "bar_color": null,
            "_model_module": "@jupyter-widgets/controls"
          }
        },
        "7e8cd45486f34c74b21ff9903dc9a1ee": {
          "model_module": "@jupyter-widgets/base",
          "model_name": "LayoutModel",
          "state": {
            "_view_name": "LayoutView",
            "grid_template_rows": null,
            "right": null,
            "justify_content": null,
            "_view_module": "@jupyter-widgets/base",
            "overflow": null,
            "_model_module_version": "1.2.0",
            "_view_count": null,
            "flex_flow": null,
            "width": null,
            "min_width": null,
            "border": null,
            "align_items": null,
            "bottom": null,
            "_model_module": "@jupyter-widgets/base",
            "top": null,
            "grid_column": null,
            "overflow_y": null,
            "overflow_x": null,
            "grid_auto_flow": null,
            "grid_area": null,
            "grid_template_columns": null,
            "flex": null,
            "_model_name": "LayoutModel",
            "justify_items": null,
            "grid_row": null,
            "max_height": null,
            "align_content": null,
            "visibility": null,
            "align_self": null,
            "height": null,
            "min_height": null,
            "padding": null,
            "grid_auto_rows": null,
            "grid_gap": null,
            "max_width": null,
            "order": null,
            "_view_module_version": "1.2.0",
            "grid_template_areas": null,
            "object_position": null,
            "object_fit": null,
            "grid_auto_columns": null,
            "margin": null,
            "display": null,
            "left": null
          }
        },
        "a63df7e96f02457e8eaf2f1317771f94": {
          "model_module": "@jupyter-widgets/controls",
          "model_name": "DescriptionStyleModel",
          "state": {
            "_view_name": "StyleView",
            "_model_name": "DescriptionStyleModel",
            "description_width": "",
            "_view_module": "@jupyter-widgets/base",
            "_model_module_version": "1.5.0",
            "_view_count": null,
            "_view_module_version": "1.2.0",
            "_model_module": "@jupyter-widgets/controls"
          }
        },
        "90e63718ee85420fbbf75b2e3b814237": {
          "model_module": "@jupyter-widgets/base",
          "model_name": "LayoutModel",
          "state": {
            "_view_name": "LayoutView",
            "grid_template_rows": null,
            "right": null,
            "justify_content": null,
            "_view_module": "@jupyter-widgets/base",
            "overflow": null,
            "_model_module_version": "1.2.0",
            "_view_count": null,
            "flex_flow": null,
            "width": null,
            "min_width": null,
            "border": null,
            "align_items": null,
            "bottom": null,
            "_model_module": "@jupyter-widgets/base",
            "top": null,
            "grid_column": null,
            "overflow_y": null,
            "overflow_x": null,
            "grid_auto_flow": null,
            "grid_area": null,
            "grid_template_columns": null,
            "flex": null,
            "_model_name": "LayoutModel",
            "justify_items": null,
            "grid_row": null,
            "max_height": null,
            "align_content": null,
            "visibility": null,
            "align_self": null,
            "height": null,
            "min_height": null,
            "padding": null,
            "grid_auto_rows": null,
            "grid_gap": null,
            "max_width": null,
            "order": null,
            "_view_module_version": "1.2.0",
            "grid_template_areas": null,
            "object_position": null,
            "object_fit": null,
            "grid_auto_columns": null,
            "margin": null,
            "display": null,
            "left": null
          }
        },
        "489de30fa39d487b9c637bbda47753be": {
          "model_module": "@jupyter-widgets/controls",
          "model_name": "HBoxModel",
          "state": {
            "_view_name": "HBoxView",
            "_dom_classes": [],
            "_model_name": "HBoxModel",
            "_view_module": "@jupyter-widgets/controls",
            "_model_module_version": "1.5.0",
            "_view_count": null,
            "_view_module_version": "1.5.0",
            "box_style": "",
            "layout": "IPY_MODEL_b322697ca18941baaf4403b900abb99a",
            "_model_module": "@jupyter-widgets/controls",
            "children": [
              "IPY_MODEL_25a18e04e1de4a1cb70fd67579f42ff5",
              "IPY_MODEL_d6ba4cfa2a5641b1a3e0b3d3d0b19ed3"
            ]
          }
        },
        "b322697ca18941baaf4403b900abb99a": {
          "model_module": "@jupyter-widgets/base",
          "model_name": "LayoutModel",
          "state": {
            "_view_name": "LayoutView",
            "grid_template_rows": null,
            "right": null,
            "justify_content": null,
            "_view_module": "@jupyter-widgets/base",
            "overflow": null,
            "_model_module_version": "1.2.0",
            "_view_count": null,
            "flex_flow": null,
            "width": null,
            "min_width": null,
            "border": null,
            "align_items": null,
            "bottom": null,
            "_model_module": "@jupyter-widgets/base",
            "top": null,
            "grid_column": null,
            "overflow_y": null,
            "overflow_x": null,
            "grid_auto_flow": null,
            "grid_area": null,
            "grid_template_columns": null,
            "flex": null,
            "_model_name": "LayoutModel",
            "justify_items": null,
            "grid_row": null,
            "max_height": null,
            "align_content": null,
            "visibility": null,
            "align_self": null,
            "height": null,
            "min_height": null,
            "padding": null,
            "grid_auto_rows": null,
            "grid_gap": null,
            "max_width": null,
            "order": null,
            "_view_module_version": "1.2.0",
            "grid_template_areas": null,
            "object_position": null,
            "object_fit": null,
            "grid_auto_columns": null,
            "margin": null,
            "display": null,
            "left": null
          }
        },
        "25a18e04e1de4a1cb70fd67579f42ff5": {
          "model_module": "@jupyter-widgets/controls",
          "model_name": "FloatProgressModel",
          "state": {
            "_view_name": "ProgressView",
            "style": "IPY_MODEL_b530155777254bcd86af470dcefae918",
            "_dom_classes": [],
            "description": "100%",
            "_model_name": "FloatProgressModel",
            "bar_style": "success",
            "max": 48,
            "_view_module": "@jupyter-widgets/controls",
            "_model_module_version": "1.5.0",
            "value": 48,
            "_view_count": null,
            "_view_module_version": "1.5.0",
            "orientation": "horizontal",
            "min": 0,
            "description_tooltip": null,
            "_model_module": "@jupyter-widgets/controls",
            "layout": "IPY_MODEL_5099c64b37914ba8ad96eef7c94532ec"
          }
        },
        "d6ba4cfa2a5641b1a3e0b3d3d0b19ed3": {
          "model_module": "@jupyter-widgets/controls",
          "model_name": "HTMLModel",
          "state": {
            "_view_name": "HTMLView",
            "style": "IPY_MODEL_ece39bde98db42c3a65cbbe4fb51f780",
            "_dom_classes": [],
            "description": "",
            "_model_name": "HTMLModel",
            "placeholder": "​",
            "_view_module": "@jupyter-widgets/controls",
            "_model_module_version": "1.5.0",
            "value": " 48/48 [00:44&lt;00:00,  1.08it/s]",
            "_view_count": null,
            "_view_module_version": "1.5.0",
            "description_tooltip": null,
            "_model_module": "@jupyter-widgets/controls",
            "layout": "IPY_MODEL_e53dd5141ebf4539b8de55960ab112b0"
          }
        },
        "b530155777254bcd86af470dcefae918": {
          "model_module": "@jupyter-widgets/controls",
          "model_name": "ProgressStyleModel",
          "state": {
            "_view_name": "StyleView",
            "_model_name": "ProgressStyleModel",
            "description_width": "initial",
            "_view_module": "@jupyter-widgets/base",
            "_model_module_version": "1.5.0",
            "_view_count": null,
            "_view_module_version": "1.2.0",
            "bar_color": null,
            "_model_module": "@jupyter-widgets/controls"
          }
        },
        "5099c64b37914ba8ad96eef7c94532ec": {
          "model_module": "@jupyter-widgets/base",
          "model_name": "LayoutModel",
          "state": {
            "_view_name": "LayoutView",
            "grid_template_rows": null,
            "right": null,
            "justify_content": null,
            "_view_module": "@jupyter-widgets/base",
            "overflow": null,
            "_model_module_version": "1.2.0",
            "_view_count": null,
            "flex_flow": null,
            "width": null,
            "min_width": null,
            "border": null,
            "align_items": null,
            "bottom": null,
            "_model_module": "@jupyter-widgets/base",
            "top": null,
            "grid_column": null,
            "overflow_y": null,
            "overflow_x": null,
            "grid_auto_flow": null,
            "grid_area": null,
            "grid_template_columns": null,
            "flex": null,
            "_model_name": "LayoutModel",
            "justify_items": null,
            "grid_row": null,
            "max_height": null,
            "align_content": null,
            "visibility": null,
            "align_self": null,
            "height": null,
            "min_height": null,
            "padding": null,
            "grid_auto_rows": null,
            "grid_gap": null,
            "max_width": null,
            "order": null,
            "_view_module_version": "1.2.0",
            "grid_template_areas": null,
            "object_position": null,
            "object_fit": null,
            "grid_auto_columns": null,
            "margin": null,
            "display": null,
            "left": null
          }
        },
        "ece39bde98db42c3a65cbbe4fb51f780": {
          "model_module": "@jupyter-widgets/controls",
          "model_name": "DescriptionStyleModel",
          "state": {
            "_view_name": "StyleView",
            "_model_name": "DescriptionStyleModel",
            "description_width": "",
            "_view_module": "@jupyter-widgets/base",
            "_model_module_version": "1.5.0",
            "_view_count": null,
            "_view_module_version": "1.2.0",
            "_model_module": "@jupyter-widgets/controls"
          }
        },
        "e53dd5141ebf4539b8de55960ab112b0": {
          "model_module": "@jupyter-widgets/base",
          "model_name": "LayoutModel",
          "state": {
            "_view_name": "LayoutView",
            "grid_template_rows": null,
            "right": null,
            "justify_content": null,
            "_view_module": "@jupyter-widgets/base",
            "overflow": null,
            "_model_module_version": "1.2.0",
            "_view_count": null,
            "flex_flow": null,
            "width": null,
            "min_width": null,
            "border": null,
            "align_items": null,
            "bottom": null,
            "_model_module": "@jupyter-widgets/base",
            "top": null,
            "grid_column": null,
            "overflow_y": null,
            "overflow_x": null,
            "grid_auto_flow": null,
            "grid_area": null,
            "grid_template_columns": null,
            "flex": null,
            "_model_name": "LayoutModel",
            "justify_items": null,
            "grid_row": null,
            "max_height": null,
            "align_content": null,
            "visibility": null,
            "align_self": null,
            "height": null,
            "min_height": null,
            "padding": null,
            "grid_auto_rows": null,
            "grid_gap": null,
            "max_width": null,
            "order": null,
            "_view_module_version": "1.2.0",
            "grid_template_areas": null,
            "object_position": null,
            "object_fit": null,
            "grid_auto_columns": null,
            "margin": null,
            "display": null,
            "left": null
          }
        }
      }
    }
  },
  "cells": [
    {
      "cell_type": "markdown",
      "metadata": {
        "id": "view-in-github",
        "colab_type": "text"
      },
      "source": [
        "<a href=\"https://colab.research.google.com/github/JaimeRedondo/Mushrooms_Classification/blob/master/Mushrooms_Classification.ipynb\" target=\"_parent\"><img src=\"https://colab.research.google.com/assets/colab-badge.svg\" alt=\"Open In Colab\"/></a>"
      ]
    },
    {
      "cell_type": "markdown",
      "metadata": {
        "id": "KEqnwo-vV2nq"
      },
      "source": [
        "# Libraries Import"
      ]
    },
    {
      "cell_type": "code",
      "metadata": {
        "colab": {
          "base_uri": "https://localhost:8080/"
        },
        "id": "vz6dxutvauCY",
        "outputId": "92a9acb5-2720-493a-baaf-94dc32d05d5d"
      },
      "source": [
        "#working with images\n",
        "! pip install opencv-python\n",
        "from matplotlib import image\n",
        "from matplotlib import pyplot\n",
        "from skimage import io\n",
        "import cv2\n",
        "import os\n",
        "import skimage\n",
        "from skimage import data, io, filters, transform\n",
        "\n",
        "#--Web scraping packages\n",
        "from bs4 import BeautifulSoup\n",
        "import requests\n",
        "import itertools\n",
        "from urllib.request import Request, urlopen\n",
        "import urllib.request\n",
        "\n",
        "#Pandas/numpy for data manipulation\n",
        "import pandas as pd\n",
        "import numpy as np\n",
        "from urllib.request import urlopen\n",
        "\n",
        "#barrita de progreso\n",
        "from tqdm.notebook import tqdm\n",
        "from time import sleep \n",
        "\n",
        "#Visualize data\n",
        "%pylab inline\n",
        "plt.style.use('seaborn-talk')\n",
        "\n",
        "#import deep learning libraries\n",
        "from tensorflow.keras import optimizers\n",
        "from tensorflow.keras import losses\n",
        "from tensorflow.keras import metrics\n",
        "from tensorflow.keras.utils import to_categorical\n",
        "from tensorflow.keras import models\n",
        "from tensorflow.keras import layers\n",
        "from tensorflow.keras import Input\n",
        "import tensorflow as tf\n",
        "\n",
        "import matplotlib.pyplot as plt\n",
        "import matplotlib.image as mpimg\n",
        "import seaborn as sns\n",
        "%matplotlib inline\n",
        "\n",
        "from sklearn.model_selection import train_test_split\n",
        "from sklearn.metrics import confusion_matrix\n",
        "import itertools\n",
        "\n",
        "from keras.utils.np_utils import to_categorical # convert to one-hot-encoding\n",
        "from keras.models import Sequential\n",
        "from keras.layers import Dense, Dropout, Flatten, Conv2D, MaxPool2D\n",
        "from keras.optimizers import RMSprop\n",
        "from keras.preprocessing.image import ImageDataGenerator\n",
        "from keras.callbacks import ReduceLROnPlateau\n",
        "\n"
      ],
      "execution_count": null,
      "outputs": [
        {
          "output_type": "stream",
          "text": [
            "Requirement already satisfied: opencv-python in /usr/local/lib/python3.7/dist-packages (4.1.2.30)\n",
            "Requirement already satisfied: numpy>=1.14.5 in /usr/local/lib/python3.7/dist-packages (from opencv-python) (1.19.5)\n",
            "Populating the interactive namespace from numpy and matplotlib\n"
          ],
          "name": "stdout"
        }
      ]
    },
    {
      "cell_type": "markdown",
      "metadata": {
        "id": "GzNurLg0sRf8"
      },
      "source": [
        "# Passing images to Drive to use in google colaboratory"
      ]
    },
    {
      "cell_type": "code",
      "metadata": {
        "id": "IIFuc4SycnAg",
        "colab": {
          "base_uri": "https://localhost:8080/"
        },
        "outputId": "f3f59b8d-ad9d-4e9f-a57c-c696cf42fc61"
      },
      "source": [
        "##Mounting our google colaboratory \n",
        "\n",
        "from google.colab import drive\n",
        "\n",
        "drive.mount('/content/drive')"
      ],
      "execution_count": null,
      "outputs": [
        {
          "output_type": "stream",
          "text": [
            "Drive already mounted at /content/drive; to attempt to forcibly remount, call drive.mount(\"/content/drive\", force_remount=True).\n"
          ],
          "name": "stdout"
        }
      ]
    },
    {
      "cell_type": "markdown",
      "metadata": {
        "id": "6YlGuovebGvf"
      },
      "source": [
        "# Define Functions"
      ]
    },
    {
      "cell_type": "markdown",
      "metadata": {
        "id": "gPoo0Ru5BPFI"
      },
      "source": [
        "\n",
        "\n",
        "Plotting function to see test and validation accuracy\n"
      ]
    },
    {
      "cell_type": "code",
      "metadata": {
        "id": "W__YZ3HnBNdb"
      },
      "source": [
        "#To plot test,train,and validation accuracy metrics.\n",
        "\n",
        "def plot_metric(history, metric):\n",
        "    history_dict = history.history\n",
        "    values = history_dict[metric]\n",
        "    if 'val_' + metric in history_dict.keys():  \n",
        "        val_values = history_dict['val_' + metric]\n",
        "\n",
        "    epochs = range(1, len(values) + 1)\n",
        "\n",
        "    if 'val_' + metric in history_dict.keys():  \n",
        "        plt.plot(epochs, val_values, label='Validation')\n",
        "    plt.semilogy(epochs, values, label='Training')\n",
        "\n",
        "    if 'val_' + metric in history_dict.keys():  \n",
        "        plt.title('Training and validation %s' % metric)\n",
        "    else:\n",
        "        plt.title('Training %s' % metric)\n",
        "    plt.xlabel('Epochs')\n",
        "    plt.ylabel(metric.capitalize())\n",
        "    plt.legend()\n",
        "    plt.grid()\n",
        "\n",
        "    plt.show()  \n",
        "\n",
        "\n",
        "#to see mushrooms when I want\n",
        "def plot_mushroom_image(N, imgs, labels):\n",
        "    print(labels[N])\n",
        "    plt.imshow(imgs[N,], cmap=plt.cm.binary)\n",
        "    plt.grid(True)"
      ],
      "execution_count": null,
      "outputs": []
    },
    {
      "cell_type": "markdown",
      "metadata": {
        "id": "LPcNroEVsd7F"
      },
      "source": [
        "## List with the mushrooms names (the folders names)"
      ]
    },
    {
      "cell_type": "code",
      "metadata": {
        "colab": {
          "base_uri": "https://localhost:8080/",
          "height": 66,
          "referenced_widgets": [
            "5c6499aea1cc4976bf5f3c8a71b92f64",
            "d386f7c9fb4a4941b4f7ce77e4088d77",
            "4fb9fabf25d244a888947868a3a82b4e",
            "d367a3028a1d4bd5baa2a83b4f095b76",
            "2e0d5716f87446bd947eab64392dbd8c",
            "132131d9ac9648ab8730ceb482134ef8",
            "32f0e4f5831941abbf564ca4df9a6d5d",
            "b3678b9ec7c2474ab181bf94d44dc4f2"
          ]
        },
        "id": "Xh4E5MBCs-U2",
        "outputId": "ea3e82fc-fb28-467e-a863-4ccbc3931260"
      },
      "source": [
        "## defining the main route (Guadalajara Mushrooms) in our drive , before we uploaded this folder.\n",
        "## mushrooms directories --> the mushrooms names\n",
        "\n",
        "main_route = '/content/drive/MyDrive/Mushrooms_Classification_Guadalajara'\n",
        "\n",
        "mushrooms_directory=[]\n",
        "for folder in tqdm(os.listdir(main_route)):\n",
        "    if '.' in folder:\n",
        "        pass\n",
        "    else:\n",
        "        mushrooms_directory.append(folder)\n",
        "        \n",
        "mushrooms_directory=sorted(mushrooms_directory)"
      ],
      "execution_count": null,
      "outputs": [
        {
          "output_type": "display_data",
          "data": {
            "application/vnd.jupyter.widget-view+json": {
              "model_id": "5c6499aea1cc4976bf5f3c8a71b92f64",
              "version_minor": 0,
              "version_major": 2
            },
            "text/plain": [
              "HBox(children=(FloatProgress(value=0.0, max=53.0), HTML(value='')))"
            ]
          },
          "metadata": {
            "tags": []
          }
        },
        {
          "output_type": "stream",
          "text": [
            "\n"
          ],
          "name": "stdout"
        }
      ]
    },
    {
      "cell_type": "markdown",
      "metadata": {
        "id": "2U56_5cMsxNi"
      },
      "source": [
        "## Pipeline with the process of each image for each mushroom"
      ]
    },
    {
      "cell_type": "code",
      "metadata": {
        "id": "Ln1J9f_Xoodn"
      },
      "source": [
        "#resize all images shape in 28x28 and print what photos are not available\n",
        "def resize_photos(directory,main_route,size_photo,number_of_photos):\n",
        "    \n",
        "    for folder in tqdm(directory):\n",
        "        for numero in range(number_of_photos):\n",
        "            try:\n",
        "                route = main_route + folder +'/'+ str(numero) + '.jpg'\n",
        "                data_picture = io.imread(route)\n",
        "                data_picture = cv2.resize(data_picture, size_photo)\n",
        "                # save the images\n",
        "                cv2.imwrite(route,data_picture)\n",
        "            except:  \n",
        "                print(\"Image number \"+str(numero)+' of mushroom '+folder+' is not available')\n",
        "\n",
        "#standarize 0_255 pixels to 0 - 1.\n",
        "lista=[]\n",
        "lista1=[]\n",
        "def standarize_pixels_and_augmentation(directory,main_route,size_photo,number_of_photos):\n",
        "    for folder in tqdm(directory):\n",
        "        for numero in range(number_of_photos):\n",
        "            try:\n",
        "                route = main_route +folder +'/'+ str(numero) + '.jpg'\n",
        "                image_rgb=io.imread(route)/255.0\n",
        "\n",
        "                ##DATA AUGMENTATION##\n",
        "\n",
        "                flip_1 = np.fliplr(image_rgb)\n",
        "                #mirror with vertical line on right\n",
        "\n",
        "\n",
        "                rot_90 = tf.image.rot90(image_rgb, k=1)\n",
        "                rot_180 = tf.image.rot90(image_rgb, k=2)\n",
        "                rot_270 = tf.image.rot90(image_rgb, k=3)\n",
        "                #rotation of 90, 180 and 270 grades\n",
        "\n",
        "                #now we are going to crop the imgs, can be whatever siza of crop we want\n",
        "                height, width = image_rgb.shape[0:2]\n",
        "\n",
        "                startRow = int(height*.15)\n",
        "\n",
        "                startCol = int(width*.15)\n",
        "\n",
        "                endRow = int(height*.85)\n",
        "\n",
        "                endCol = int(width*.85)\n",
        "\n",
        "                croppedImage = image_rgb[startRow:endRow, startCol:endCol]\n",
        "\n",
        "                croppedImage = cv2.resize(croppedImage,size_photo)\n",
        "\n",
        "                #now we are going to add contrast\n",
        "\n",
        "                contrast_img = cv2.addWeighted(image_rgb, 1.5, np.zeros(image_rgb.shape, image_rgb.dtype), 0, 0)\n",
        "\n",
        "                #desenfoque del 50% cogiendo la mediana de los pixeles\n",
        "                blur_image = cv2.medianBlur(image_rgb,1)\n",
        "\n",
        "                #add to list\n",
        "\n",
        "                lista.append(image_rgb)\n",
        "                lista.append(flip_1)\n",
        "                lista.append(rot_90)\n",
        "                lista.append(rot_180)\n",
        "                lista.append(rot_270)\n",
        "                lista.append(croppedImage)\n",
        "                lista.append(contrast_img)\n",
        "                lista.append(blur_image)\n",
        "                lista1.append(folder)\n",
        "                lista1.append(folder)\n",
        "                lista1.append(folder)\n",
        "                lista1.append(folder)\n",
        "                lista1.append(folder)\n",
        "                lista1.append(folder)\n",
        "                lista1.append(folder)\n",
        "                lista1.append(folder)            \n",
        "\n",
        "\n",
        "def standarize_photos(directory,main_route,size_photo,number_of_photos):\n",
        "    print(\"reshaping pictures...\")\n",
        "    resize_photos(directory,main_route,size_photo,number_of_photos)\n",
        "    print(\"Normalizing pixels...\")\n",
        "    standarize_pixels_and_augmentation(directory,main_route,size_photo,number_of_photos)  "
      ],
      "execution_count": null,
      "outputs": []
    },
    {
      "cell_type": "markdown",
      "metadata": {
        "id": "Dx-wFgxrk8od"
      },
      "source": [
        "## Giving params to the function defined\n"
      ]
    },
    {
      "cell_type": "code",
      "metadata": {
        "colab": {
          "base_uri": "https://localhost:8080/",
          "height": 1000,
          "referenced_widgets": [
            "f884faa73d0d439389a3799097fce81d",
            "963dbb1e53fc46c5a920a84ec758c174",
            "b737bd5aa0af434ab9828974de913dd9",
            "94bb50566e9d4af5892c61cf6158795e",
            "1253b2f222aa40bea5610bdd6e4bf5a4",
            "7e8cd45486f34c74b21ff9903dc9a1ee",
            "a63df7e96f02457e8eaf2f1317771f94",
            "90e63718ee85420fbbf75b2e3b814237",
            "489de30fa39d487b9c637bbda47753be",
            "b322697ca18941baaf4403b900abb99a",
            "25a18e04e1de4a1cb70fd67579f42ff5",
            "d6ba4cfa2a5641b1a3e0b3d3d0b19ed3",
            "b530155777254bcd86af470dcefae918",
            "5099c64b37914ba8ad96eef7c94532ec",
            "ece39bde98db42c3a65cbbe4fb51f780",
            "e53dd5141ebf4539b8de55960ab112b0"
          ]
        },
        "id": "3Hr4dafxohyo",
        "outputId": "d348834a-fb21-44d8-8834-1bc1599f41b7"
      },
      "source": [
        "## params for the function defined before\n",
        "\n",
        "directory = mushrooms_directory\n",
        "main_route = '/content/drive/MyDrive/Mushrooms_Classification_Guadalajara/'\n",
        "size_photo = (28,28)\n",
        "number_of_photos = 150\n",
        "\n",
        "standarize_photos(directory,main_route,size_photo,number_of_photos)"
      ],
      "execution_count": null,
      "outputs": [
        {
          "output_type": "stream",
          "text": [
            "reshaping pictures...\n"
          ],
          "name": "stdout"
        },
        {
          "output_type": "display_data",
          "data": {
            "application/vnd.jupyter.widget-view+json": {
              "model_id": "f884faa73d0d439389a3799097fce81d",
              "version_minor": 0,
              "version_major": 2
            },
            "text/plain": [
              "HBox(children=(FloatProgress(value=0.0, max=48.0), HTML(value='')))"
            ]
          },
          "metadata": {
            "tags": []
          }
        },
        {
          "output_type": "stream",
          "text": [
            "imagen 100 de la seta Cratarellus cornucopioide no está disponible\n",
            "imagen 101 de la seta Cratarellus cornucopioide no está disponible\n",
            "imagen 102 de la seta Cratarellus cornucopioide no está disponible\n",
            "imagen 103 de la seta Cratarellus cornucopioide no está disponible\n",
            "imagen 104 de la seta Cratarellus cornucopioide no está disponible\n",
            "imagen 105 de la seta Cratarellus cornucopioide no está disponible\n",
            "imagen 106 de la seta Cratarellus cornucopioide no está disponible\n",
            "imagen 107 de la seta Cratarellus cornucopioide no está disponible\n",
            "imagen 108 de la seta Cratarellus cornucopioide no está disponible\n",
            "imagen 109 de la seta Cratarellus cornucopioide no está disponible\n",
            "imagen 110 de la seta Cratarellus cornucopioide no está disponible\n",
            "imagen 111 de la seta Cratarellus cornucopioide no está disponible\n",
            "imagen 112 de la seta Cratarellus cornucopioide no está disponible\n",
            "imagen 113 de la seta Cratarellus cornucopioide no está disponible\n",
            "imagen 114 de la seta Cratarellus cornucopioide no está disponible\n",
            "imagen 115 de la seta Cratarellus cornucopioide no está disponible\n",
            "imagen 116 de la seta Cratarellus cornucopioide no está disponible\n",
            "imagen 117 de la seta Cratarellus cornucopioide no está disponible\n",
            "imagen 118 de la seta Cratarellus cornucopioide no está disponible\n",
            "imagen 119 de la seta Cratarellus cornucopioide no está disponible\n",
            "imagen 120 de la seta Cratarellus cornucopioide no está disponible\n",
            "imagen 121 de la seta Cratarellus cornucopioide no está disponible\n",
            "imagen 122 de la seta Cratarellus cornucopioide no está disponible\n",
            "imagen 123 de la seta Cratarellus cornucopioide no está disponible\n",
            "imagen 124 de la seta Cratarellus cornucopioide no está disponible\n",
            "imagen 125 de la seta Cratarellus cornucopioide no está disponible\n",
            "imagen 126 de la seta Cratarellus cornucopioide no está disponible\n",
            "imagen 127 de la seta Cratarellus cornucopioide no está disponible\n",
            "imagen 128 de la seta Cratarellus cornucopioide no está disponible\n",
            "imagen 129 de la seta Cratarellus cornucopioide no está disponible\n",
            "imagen 130 de la seta Cratarellus cornucopioide no está disponible\n",
            "imagen 131 de la seta Cratarellus cornucopioide no está disponible\n",
            "imagen 132 de la seta Cratarellus cornucopioide no está disponible\n",
            "imagen 133 de la seta Cratarellus cornucopioide no está disponible\n",
            "imagen 134 de la seta Cratarellus cornucopioide no está disponible\n",
            "imagen 135 de la seta Cratarellus cornucopioide no está disponible\n",
            "imagen 136 de la seta Cratarellus cornucopioide no está disponible\n",
            "imagen 137 de la seta Cratarellus cornucopioide no está disponible\n",
            "imagen 138 de la seta Cratarellus cornucopioide no está disponible\n",
            "imagen 139 de la seta Cratarellus cornucopioide no está disponible\n",
            "imagen 140 de la seta Cratarellus cornucopioide no está disponible\n",
            "imagen 141 de la seta Cratarellus cornucopioide no está disponible\n",
            "imagen 142 de la seta Cratarellus cornucopioide no está disponible\n",
            "imagen 143 de la seta Cratarellus cornucopioide no está disponible\n",
            "imagen 144 de la seta Cratarellus cornucopioide no está disponible\n",
            "imagen 145 de la seta Cratarellus cornucopioide no está disponible\n",
            "imagen 146 de la seta Cratarellus cornucopioide no está disponible\n",
            "imagen 147 de la seta Cratarellus cornucopioide no está disponible\n",
            "imagen 148 de la seta Cratarellus cornucopioide no está disponible\n",
            "imagen 149 de la seta Cratarellus cornucopioide no está disponible\n",
            "imagen 38 de la seta Russula chloroides no está disponible\n",
            "imagen 39 de la seta Russula chloroides no está disponible\n",
            "imagen 40 de la seta Russula chloroides no está disponible\n",
            "imagen 41 de la seta Russula chloroides no está disponible\n",
            "imagen 42 de la seta Russula chloroides no está disponible\n",
            "imagen 43 de la seta Russula chloroides no está disponible\n",
            "imagen 44 de la seta Russula chloroides no está disponible\n",
            "imagen 45 de la seta Russula chloroides no está disponible\n",
            "imagen 46 de la seta Russula chloroides no está disponible\n",
            "imagen 47 de la seta Russula chloroides no está disponible\n",
            "imagen 48 de la seta Russula chloroides no está disponible\n",
            "imagen 49 de la seta Russula chloroides no está disponible\n",
            "imagen 50 de la seta Russula chloroides no está disponible\n",
            "imagen 51 de la seta Russula chloroides no está disponible\n",
            "imagen 52 de la seta Russula chloroides no está disponible\n",
            "imagen 53 de la seta Russula chloroides no está disponible\n",
            "imagen 54 de la seta Russula chloroides no está disponible\n",
            "imagen 55 de la seta Russula chloroides no está disponible\n",
            "imagen 56 de la seta Russula chloroides no está disponible\n",
            "imagen 57 de la seta Russula chloroides no está disponible\n",
            "imagen 58 de la seta Russula chloroides no está disponible\n",
            "imagen 59 de la seta Russula chloroides no está disponible\n",
            "imagen 60 de la seta Russula chloroides no está disponible\n",
            "imagen 61 de la seta Russula chloroides no está disponible\n",
            "imagen 62 de la seta Russula chloroides no está disponible\n",
            "imagen 63 de la seta Russula chloroides no está disponible\n",
            "imagen 64 de la seta Russula chloroides no está disponible\n",
            "imagen 65 de la seta Russula chloroides no está disponible\n",
            "imagen 66 de la seta Russula chloroides no está disponible\n",
            "imagen 67 de la seta Russula chloroides no está disponible\n",
            "imagen 68 de la seta Russula chloroides no está disponible\n",
            "imagen 69 de la seta Russula chloroides no está disponible\n",
            "imagen 70 de la seta Russula chloroides no está disponible\n",
            "imagen 71 de la seta Russula chloroides no está disponible\n",
            "imagen 72 de la seta Russula chloroides no está disponible\n",
            "imagen 73 de la seta Russula chloroides no está disponible\n",
            "imagen 74 de la seta Russula chloroides no está disponible\n",
            "imagen 75 de la seta Russula chloroides no está disponible\n",
            "imagen 76 de la seta Russula chloroides no está disponible\n",
            "imagen 77 de la seta Russula chloroides no está disponible\n",
            "imagen 78 de la seta Russula chloroides no está disponible\n",
            "imagen 79 de la seta Russula chloroides no está disponible\n",
            "imagen 80 de la seta Russula chloroides no está disponible\n",
            "imagen 81 de la seta Russula chloroides no está disponible\n",
            "imagen 82 de la seta Russula chloroides no está disponible\n",
            "imagen 83 de la seta Russula chloroides no está disponible\n",
            "imagen 84 de la seta Russula chloroides no está disponible\n",
            "imagen 85 de la seta Russula chloroides no está disponible\n",
            "imagen 86 de la seta Russula chloroides no está disponible\n",
            "imagen 87 de la seta Russula chloroides no está disponible\n",
            "imagen 88 de la seta Russula chloroides no está disponible\n",
            "imagen 89 de la seta Russula chloroides no está disponible\n",
            "imagen 90 de la seta Russula chloroides no está disponible\n",
            "imagen 91 de la seta Russula chloroides no está disponible\n",
            "imagen 92 de la seta Russula chloroides no está disponible\n",
            "imagen 93 de la seta Russula chloroides no está disponible\n",
            "imagen 94 de la seta Russula chloroides no está disponible\n",
            "imagen 95 de la seta Russula chloroides no está disponible\n",
            "imagen 96 de la seta Russula chloroides no está disponible\n",
            "imagen 97 de la seta Russula chloroides no está disponible\n",
            "imagen 98 de la seta Russula chloroides no está disponible\n",
            "imagen 99 de la seta Russula chloroides no está disponible\n",
            "imagen 100 de la seta Russula chloroides no está disponible\n",
            "imagen 101 de la seta Russula chloroides no está disponible\n",
            "imagen 102 de la seta Russula chloroides no está disponible\n",
            "imagen 103 de la seta Russula chloroides no está disponible\n",
            "imagen 104 de la seta Russula chloroides no está disponible\n",
            "imagen 105 de la seta Russula chloroides no está disponible\n",
            "imagen 106 de la seta Russula chloroides no está disponible\n",
            "imagen 107 de la seta Russula chloroides no está disponible\n",
            "imagen 108 de la seta Russula chloroides no está disponible\n",
            "imagen 109 de la seta Russula chloroides no está disponible\n",
            "imagen 110 de la seta Russula chloroides no está disponible\n",
            "imagen 111 de la seta Russula chloroides no está disponible\n",
            "imagen 112 de la seta Russula chloroides no está disponible\n",
            "imagen 113 de la seta Russula chloroides no está disponible\n",
            "imagen 114 de la seta Russula chloroides no está disponible\n",
            "imagen 115 de la seta Russula chloroides no está disponible\n",
            "imagen 116 de la seta Russula chloroides no está disponible\n",
            "imagen 117 de la seta Russula chloroides no está disponible\n",
            "imagen 118 de la seta Russula chloroides no está disponible\n",
            "imagen 119 de la seta Russula chloroides no está disponible\n",
            "imagen 120 de la seta Russula chloroides no está disponible\n",
            "imagen 121 de la seta Russula chloroides no está disponible\n",
            "imagen 122 de la seta Russula chloroides no está disponible\n",
            "imagen 123 de la seta Russula chloroides no está disponible\n",
            "imagen 124 de la seta Russula chloroides no está disponible\n",
            "imagen 125 de la seta Russula chloroides no está disponible\n",
            "imagen 126 de la seta Russula chloroides no está disponible\n",
            "imagen 127 de la seta Russula chloroides no está disponible\n",
            "imagen 128 de la seta Russula chloroides no está disponible\n",
            "imagen 129 de la seta Russula chloroides no está disponible\n",
            "imagen 130 de la seta Russula chloroides no está disponible\n",
            "imagen 131 de la seta Russula chloroides no está disponible\n",
            "imagen 132 de la seta Russula chloroides no está disponible\n",
            "imagen 133 de la seta Russula chloroides no está disponible\n",
            "imagen 134 de la seta Russula chloroides no está disponible\n",
            "imagen 135 de la seta Russula chloroides no está disponible\n",
            "imagen 136 de la seta Russula chloroides no está disponible\n",
            "imagen 137 de la seta Russula chloroides no está disponible\n",
            "imagen 138 de la seta Russula chloroides no está disponible\n",
            "imagen 139 de la seta Russula chloroides no está disponible\n",
            "imagen 140 de la seta Russula chloroides no está disponible\n",
            "imagen 141 de la seta Russula chloroides no está disponible\n",
            "imagen 142 de la seta Russula chloroides no está disponible\n",
            "imagen 143 de la seta Russula chloroides no está disponible\n",
            "imagen 144 de la seta Russula chloroides no está disponible\n",
            "imagen 145 de la seta Russula chloroides no está disponible\n",
            "imagen 146 de la seta Russula chloroides no está disponible\n",
            "imagen 147 de la seta Russula chloroides no está disponible\n",
            "imagen 148 de la seta Russula chloroides no está disponible\n",
            "imagen 149 de la seta Russula chloroides no está disponible\n",
            "\n",
            "Normalizing pixels...\n"
          ],
          "name": "stdout"
        },
        {
          "output_type": "display_data",
          "data": {
            "application/vnd.jupyter.widget-view+json": {
              "model_id": "489de30fa39d487b9c637bbda47753be",
              "version_minor": 0,
              "version_major": 2
            },
            "text/plain": [
              "HBox(children=(FloatProgress(value=0.0, max=48.0), HTML(value='')))"
            ]
          },
          "metadata": {
            "tags": []
          }
        },
        {
          "output_type": "stream",
          "text": [
            "Agaricus campestris131\n",
            "Agaricus sylvaticus123\n",
            "Agaricus sylvaticus125\n",
            "Agaricus sylvaticus128\n",
            "Amanita muscaria72\n",
            "Boletus satanas107\n",
            "Cratarellus cornucopioide81\n",
            "Cratarellus cornucopioide100\n",
            "Cratarellus cornucopioide101\n",
            "Cratarellus cornucopioide102\n",
            "Cratarellus cornucopioide103\n",
            "Cratarellus cornucopioide104\n",
            "Cratarellus cornucopioide105\n",
            "Cratarellus cornucopioide106\n",
            "Cratarellus cornucopioide107\n",
            "Cratarellus cornucopioide108\n",
            "Cratarellus cornucopioide109\n",
            "Cratarellus cornucopioide110\n",
            "Cratarellus cornucopioide111\n",
            "Cratarellus cornucopioide112\n",
            "Cratarellus cornucopioide113\n",
            "Cratarellus cornucopioide114\n",
            "Cratarellus cornucopioide115\n",
            "Cratarellus cornucopioide116\n",
            "Cratarellus cornucopioide117\n",
            "Cratarellus cornucopioide118\n",
            "Cratarellus cornucopioide119\n",
            "Cratarellus cornucopioide120\n",
            "Cratarellus cornucopioide121\n",
            "Cratarellus cornucopioide122\n",
            "Cratarellus cornucopioide123\n",
            "Cratarellus cornucopioide124\n",
            "Cratarellus cornucopioide125\n",
            "Cratarellus cornucopioide126\n",
            "Cratarellus cornucopioide127\n",
            "Cratarellus cornucopioide128\n",
            "Cratarellus cornucopioide129\n",
            "Cratarellus cornucopioide130\n",
            "Cratarellus cornucopioide131\n",
            "Cratarellus cornucopioide132\n",
            "Cratarellus cornucopioide133\n",
            "Cratarellus cornucopioide134\n",
            "Cratarellus cornucopioide135\n",
            "Cratarellus cornucopioide136\n",
            "Cratarellus cornucopioide137\n",
            "Cratarellus cornucopioide138\n",
            "Cratarellus cornucopioide139\n",
            "Cratarellus cornucopioide140\n",
            "Cratarellus cornucopioide141\n",
            "Cratarellus cornucopioide142\n",
            "Cratarellus cornucopioide143\n",
            "Cratarellus cornucopioide144\n",
            "Cratarellus cornucopioide145\n",
            "Cratarellus cornucopioide146\n",
            "Cratarellus cornucopioide147\n",
            "Cratarellus cornucopioide148\n",
            "Cratarellus cornucopioide149\n",
            "Lactarius rufus126\n",
            "Morchella elata91\n",
            "Russula chloroides38\n",
            "Russula chloroides39\n",
            "Russula chloroides40\n",
            "Russula chloroides41\n",
            "Russula chloroides42\n",
            "Russula chloroides43\n",
            "Russula chloroides44\n",
            "Russula chloroides45\n",
            "Russula chloroides46\n",
            "Russula chloroides47\n",
            "Russula chloroides48\n",
            "Russula chloroides49\n",
            "Russula chloroides50\n",
            "Russula chloroides51\n",
            "Russula chloroides52\n",
            "Russula chloroides53\n",
            "Russula chloroides54\n",
            "Russula chloroides55\n",
            "Russula chloroides56\n",
            "Russula chloroides57\n",
            "Russula chloroides58\n",
            "Russula chloroides59\n",
            "Russula chloroides60\n",
            "Russula chloroides61\n",
            "Russula chloroides62\n",
            "Russula chloroides63\n",
            "Russula chloroides64\n",
            "Russula chloroides65\n",
            "Russula chloroides66\n",
            "Russula chloroides67\n",
            "Russula chloroides68\n",
            "Russula chloroides69\n",
            "Russula chloroides70\n",
            "Russula chloroides71\n",
            "Russula chloroides72\n",
            "Russula chloroides73\n",
            "Russula chloroides74\n",
            "Russula chloroides75\n",
            "Russula chloroides76\n",
            "Russula chloroides77\n",
            "Russula chloroides78\n",
            "Russula chloroides79\n",
            "Russula chloroides80\n",
            "Russula chloroides81\n",
            "Russula chloroides82\n",
            "Russula chloroides83\n",
            "Russula chloroides84\n",
            "Russula chloroides85\n",
            "Russula chloroides86\n",
            "Russula chloroides87\n",
            "Russula chloroides88\n",
            "Russula chloroides89\n",
            "Russula chloroides90\n",
            "Russula chloroides91\n",
            "Russula chloroides92\n",
            "Russula chloroides93\n",
            "Russula chloroides94\n",
            "Russula chloroides95\n",
            "Russula chloroides96\n",
            "Russula chloroides97\n",
            "Russula chloroides98\n",
            "Russula chloroides99\n",
            "Russula chloroides100\n",
            "Russula chloroides101\n",
            "Russula chloroides102\n",
            "Russula chloroides103\n",
            "Russula chloroides104\n",
            "Russula chloroides105\n",
            "Russula chloroides106\n",
            "Russula chloroides107\n",
            "Russula chloroides108\n",
            "Russula chloroides109\n",
            "Russula chloroides110\n",
            "Russula chloroides111\n",
            "Russula chloroides112\n",
            "Russula chloroides113\n",
            "Russula chloroides114\n",
            "Russula chloroides115\n",
            "Russula chloroides116\n",
            "Russula chloroides117\n",
            "Russula chloroides118\n",
            "Russula chloroides119\n",
            "Russula chloroides120\n",
            "Russula chloroides121\n",
            "Russula chloroides122\n",
            "Russula chloroides123\n",
            "Russula chloroides124\n",
            "Russula chloroides125\n",
            "Russula chloroides126\n",
            "Russula chloroides127\n",
            "Russula chloroides128\n",
            "Russula chloroides129\n",
            "Russula chloroides130\n",
            "Russula chloroides131\n",
            "Russula chloroides132\n",
            "Russula chloroides133\n",
            "Russula chloroides134\n",
            "Russula chloroides135\n",
            "Russula chloroides136\n",
            "Russula chloroides137\n",
            "Russula chloroides138\n",
            "Russula chloroides139\n",
            "Russula chloroides140\n",
            "Russula chloroides141\n",
            "Russula chloroides142\n",
            "Russula chloroides143\n",
            "Russula chloroides144\n",
            "Russula chloroides145\n",
            "Russula chloroides146\n",
            "Russula chloroides147\n",
            "Russula chloroides148\n",
            "Russula chloroides149\n",
            "Terfecia leptoderma37\n",
            "Tuber brumale52\n",
            "Tuber brumale112\n",
            "\n"
          ],
          "name": "stdout"
        }
      ]
    },
    {
      "cell_type": "markdown",
      "metadata": {
        "id": "pn6CpUGDthuT"
      },
      "source": [
        "## Creating the images and labels datasets"
      ]
    },
    {
      "cell_type": "code",
      "metadata": {
        "id": "IKoDme0Zf4N4"
      },
      "source": [
        "images = np.array(lista)\n",
        "\n",
        "labels = np.array(lista1)"
      ],
      "execution_count": null,
      "outputs": []
    },
    {
      "cell_type": "markdown",
      "metadata": {
        "id": "XfUsQhdwtn8T"
      },
      "source": [
        "### Creating the train, validation and tests datasets of images and labels"
      ]
    },
    {
      "cell_type": "code",
      "metadata": {
        "id": "MBiMuk3h03Wj"
      },
      "source": [
        "# creamos lista para coger el conjunto de test\n",
        "\n",
        "import random \n",
        "\n",
        "randomizado = np.array(range(0,len(images)))\n",
        "enteros_aleatorios = randint(0,len(images),int(len(images)*0.10))"
      ],
      "execution_count": null,
      "outputs": []
    },
    {
      "cell_type": "code",
      "metadata": {
        "id": "vWYz3H33GfwZ"
      },
      "source": [
        "mask = pd.Series(randomizado).isin(enteros_aleatorios)"
      ],
      "execution_count": null,
      "outputs": []
    },
    {
      "cell_type": "code",
      "metadata": {
        "id": "DAvPATvwDDHx"
      },
      "source": [
        "test_images = images[mask]\n",
        "test_labels = labels[mask]\n",
        "trainval_images = images[~mask]\n",
        "trainval_labels = labels[~mask]"
      ],
      "execution_count": null,
      "outputs": []
    },
    {
      "cell_type": "code",
      "metadata": {
        "id": "xuLInjV5apJH"
      },
      "source": [
        "### y ahora saco validation\n",
        "\n",
        "randomizado1 = np.array(range(0,len(trainval_images)))\n",
        "enteros_aleatorios1 = randint(0,len(trainval_images),int(len(trainval_images)*0.10))\n",
        "\n",
        "mask1 = pd.Series(randomizado1).isin(enteros_aleatorios1)\n",
        "\n",
        "validation_images = trainval_images[mask1]\n",
        "validation_labels = trainval_labels[mask1]\n",
        "train_images = trainval_images[~mask1]\n",
        "train_labels = trainval_labels[~mask1]"
      ],
      "execution_count": null,
      "outputs": []
    },
    {
      "cell_type": "code",
      "metadata": {
        "id": "8Y3yw38Xdat2",
        "colab": {
          "base_uri": "https://localhost:8080/",
          "height": 292
        },
        "outputId": "aa60fc5d-3463-41d8-ce1b-9daa6e08074b"
      },
      "source": [
        "plot_mushroom_image(5040,train_images,train_labels)"
      ],
      "execution_count": null,
      "outputs": [
        {
          "output_type": "stream",
          "text": [
            "Amanita citrina\n"
          ],
          "name": "stdout"
        },
        {
          "output_type": "display_data",
          "data": {
            "image/png": "[encoded data removed]",
            "text/plain": [
              "<Figure size 432x288 with 1 Axes>"
            ]
          },
          "metadata": {
            "tags": [],
            "needs_background": "light"
          }
        }
      ]
    },
    {
      "cell_type": "markdown",
      "metadata": {
        "id": "ILbqg2DfuA_f"
      },
      "source": [
        "### Creating a dictionary with the labels and numbers for each label"
      ]
    },
    {
      "cell_type": "code",
      "metadata": {
        "id": "c6WM2gQGczy0"
      },
      "source": [
        "l2 = list(np.unique(labels))"
      ],
      "execution_count": null,
      "outputs": []
    },
    {
      "cell_type": "code",
      "metadata": {
        "id": "uo8xHoDSiVI3"
      },
      "source": [
        "l1 = list(range(48))\n",
        "l2 = list(np.unique(labels))\n",
        "d = dict(zip(l1,l2))\n",
        "#create a dictionary to use one hot encoder"
      ],
      "execution_count": null,
      "outputs": []
    },
    {
      "cell_type": "markdown",
      "metadata": {
        "id": "hRKWdcqXfYnW"
      },
      "source": [
        "Transform to one hot encoder the 48 classes "
      ]
    },
    {
      "cell_type": "code",
      "metadata": {
        "id": "SGr13NUYdu7T"
      },
      "source": [
        "from sklearn.preprocessing import OneHotEncoder\n",
        "from sklearn.preprocessing import LabelEncoder"
      ],
      "execution_count": null,
      "outputs": []
    },
    {
      "cell_type": "code",
      "metadata": {
        "id": "nIXt7r__l8hY"
      },
      "source": [
        "ohetrain = OneHotEncoder(sparse = False)\n",
        "le = LabelEncoder()\n",
        "OneHotTrain = ohetrain.fit_transform(le.fit_transform(train_labels).reshape(-1, 1))"
      ],
      "execution_count": null,
      "outputs": []
    },
    {
      "cell_type": "code",
      "metadata": {
        "id": "zlC648lNeNmq"
      },
      "source": [
        "ohetest = OneHotEncoder(sparse = False)\n",
        "le = LabelEncoder()\n",
        "OneHotTest = ohetest.fit_transform(le.fit_transform(test_labels).reshape(-1, 1))"
      ],
      "execution_count": null,
      "outputs": []
    },
    {
      "cell_type": "code",
      "metadata": {
        "id": "cgih4fwadfgO"
      },
      "source": [
        "oheval = OneHotEncoder(sparse = False)\n",
        "le = LabelEncoder()\n",
        "OneHotVal = oheval.fit_transform(le.fit_transform(validation_labels).reshape(-1, 1))"
      ],
      "execution_count": null,
      "outputs": []
    },
    {
      "cell_type": "code",
      "metadata": {
        "id": "yWfJeYxGdaww",
        "colab": {
          "base_uri": "https://localhost:8080/"
        },
        "outputId": "73154264-fd15-4c06-bee4-8bcfc704ff82"
      },
      "source": [
        "#transformamos a onehot nuestros targets \n",
        "\n",
        "OneHotTrain.shape,OneHotTest.shape,OneHotVal.shape"
      ],
      "execution_count": null,
      "outputs": [
        {
          "output_type": "execute_result",
          "data": {
            "text/plain": [
              "((45997, 48), (5351, 48), (4860, 48))"
            ]
          },
          "metadata": {
            "tags": []
          },
          "execution_count": 27
        }
      ]
    },
    {
      "cell_type": "code",
      "metadata": {
        "id": "p8E8N2-k8vle"
      },
      "source": [
        ""
      ],
      "execution_count": null,
      "outputs": []
    },
    {
      "cell_type": "markdown",
      "metadata": {
        "id": "XOC9nYAylNuM"
      },
      "source": [
        "# Applying CNN (Convolutional Neural Network)"
      ]
    },
    {
      "cell_type": "markdown",
      "metadata": {
        "id": "9Xkp9-YokkT_"
      },
      "source": [
        "## Creating our first convolutional neural network\n",
        "\n"
      ]
    },
    {
      "cell_type": "markdown",
      "metadata": {
        "id": "UzMIs1Uluhlh"
      },
      "source": [
        "### with stochastic gradient descent"
      ]
    },
    {
      "cell_type": "code",
      "metadata": {
        "id": "8eTFwKMjsalO"
      },
      "source": [
        "INIT_LR = 1e-3\n",
        "epochs = 100\n",
        "batch_size = 32\n",
        "nClasses = 48\n",
        "\n",
        "def cnn_model():\n",
        "  model = Sequential()\n",
        "\n",
        "  model.add(Conv2D(filters = 16, kernel_size = (5,5),padding = 'Same', \n",
        "                 activation ='relu', input_shape = (28,28,3)))\n",
        "  model.add(Conv2D(filters = 32, kernel_size = (5,5),padding = 'Same', \n",
        "                 activation ='relu'))\n",
        "  model.add(MaxPool2D(pool_size=(3,3)))\n",
        "  model.add(Dropout(0.25))\n",
        "\n",
        "  model.add(Conv2D(filters = 32, kernel_size = (3,3),padding = 'Same', \n",
        "                 activation ='relu'))\n",
        "  model.add(MaxPool2D(pool_size=(3,3)))\n",
        "  #model.add(Dropout(0.25))\n",
        "\n",
        "  \n",
        "  model.add(Flatten())\n",
        "\n",
        "  model.add(Dense(200, activation='relu'))\n",
        "  model.add(Dense(100, activation='relu'))\n",
        "  model.add(Dense(nClasses, activation='softmax'))\n",
        "  \n",
        "  model.summary()\n",
        "\n",
        "  return model\n",
        "  \n",
        "  "
      ],
      "execution_count": null,
      "outputs": []
    },
    {
      "cell_type": "code",
      "metadata": {
        "colab": {
          "base_uri": "https://localhost:8080/"
        },
        "id": "IN3BKjviub2N",
        "outputId": "a5907ea0-c9e2-4436-9406-6487f3ceebf6"
      },
      "source": [
        "model = cnn_model()"
      ],
      "execution_count": null,
      "outputs": [
        {
          "output_type": "stream",
          "text": [
            "Model: \"sequential\"\n",
            "_________________________________________________________________\n",
            "Layer (type)                 Output Shape              Param #   \n",
            "=================================================================\n",
            "conv2d (Conv2D)              (None, 28, 28, 16)        1216      \n",
            "_________________________________________________________________\n",
            "conv2d_1 (Conv2D)            (None, 28, 28, 32)        12832     \n",
            "_________________________________________________________________\n",
            "max_pooling2d (MaxPooling2D) (None, 9, 9, 32)          0         \n",
            "_________________________________________________________________\n",
            "dropout (Dropout)            (None, 9, 9, 32)          0         \n",
            "_________________________________________________________________\n",
            "conv2d_2 (Conv2D)            (None, 9, 9, 32)          9248      \n",
            "_________________________________________________________________\n",
            "max_pooling2d_1 (MaxPooling2 (None, 3, 3, 32)          0         \n",
            "_________________________________________________________________\n",
            "flatten (Flatten)            (None, 288)               0         \n",
            "_________________________________________________________________\n",
            "dense (Dense)                (None, 200)               57800     \n",
            "_________________________________________________________________\n",
            "dense_1 (Dense)              (None, 100)               20100     \n",
            "_________________________________________________________________\n",
            "dense_2 (Dense)              (None, 48)                4848      \n",
            "=================================================================\n",
            "Total params: 106,044\n",
            "Trainable params: 106,044\n",
            "Non-trainable params: 0\n",
            "_________________________________________________________________\n"
          ],
          "name": "stdout"
        }
      ]
    },
    {
      "cell_type": "code",
      "metadata": {
        "id": "h1XwFrcttJ5z"
      },
      "source": [
        "## we choose the Adam optimizer\n",
        "\n",
        "model.compile(loss=losses.categorical_crossentropy, optimizer=optimizers.Adam(),metrics=['categorical_accuracy'])"
      ],
      "execution_count": null,
      "outputs": []
    },
    {
      "cell_type": "code",
      "metadata": {
        "id": "Oigv6Aj-thzF",
        "colab": {
          "base_uri": "https://localhost:8080/"
        },
        "outputId": "fdfa5b9c-2457-4e21-878f-30a8bda19d21"
      },
      "source": [
        "h = model.fit(train_images,OneHotTrain, batch_size=batch_size,epochs=epochs,verbose=1,validation_data=(validation_images,OneHotVal))\n"
      ],
      "execution_count": null,
      "outputs": [
        {
          "output_type": "stream",
          "text": [
            "Epoch 1/100\n",
            "1438/1438 [==============================] - 38s 4ms/step - loss: 3.7171 - categorical_accuracy: 0.0454 - val_loss: 3.3613 - val_categorical_accuracy: 0.1121\n",
            "Epoch 2/100\n",
            "1438/1438 [==============================] - 5s 4ms/step - loss: 3.2679 - categorical_accuracy: 0.1270 - val_loss: 3.1153 - val_categorical_accuracy: 0.1623\n",
            "Epoch 3/100\n",
            "1438/1438 [==============================] - 5s 4ms/step - loss: 3.0558 - categorical_accuracy: 0.1783 - val_loss: 2.9767 - val_categorical_accuracy: 0.1907\n",
            "Epoch 4/100\n",
            "1438/1438 [==============================] - 5s 4ms/step - loss: 2.8802 - categorical_accuracy: 0.2177 - val_loss: 2.8420 - val_categorical_accuracy: 0.2183\n",
            "Epoch 5/100\n",
            "1438/1438 [==============================] - 5s 4ms/step - loss: 2.7069 - categorical_accuracy: 0.2549 - val_loss: 2.6696 - val_categorical_accuracy: 0.2628\n",
            "Epoch 6/100\n",
            "1438/1438 [==============================] - 5s 4ms/step - loss: 2.5801 - categorical_accuracy: 0.2839 - val_loss: 2.5980 - val_categorical_accuracy: 0.2856\n",
            "Epoch 7/100\n",
            "1438/1438 [==============================] - 5s 4ms/step - loss: 2.4859 - categorical_accuracy: 0.3023 - val_loss: 2.5520 - val_categorical_accuracy: 0.2901\n",
            "Epoch 8/100\n",
            "1438/1438 [==============================] - 5s 4ms/step - loss: 2.3901 - categorical_accuracy: 0.3261 - val_loss: 2.4543 - val_categorical_accuracy: 0.3185\n",
            "Epoch 9/100\n",
            "1438/1438 [==============================] - 5s 4ms/step - loss: 2.3117 - categorical_accuracy: 0.3417 - val_loss: 2.4746 - val_categorical_accuracy: 0.3082\n",
            "Epoch 10/100\n",
            "1438/1438 [==============================] - 5s 4ms/step - loss: 2.2455 - categorical_accuracy: 0.3611 - val_loss: 2.3969 - val_categorical_accuracy: 0.3282\n",
            "Epoch 11/100\n",
            "1438/1438 [==============================] - 5s 4ms/step - loss: 2.1566 - categorical_accuracy: 0.3765 - val_loss: 2.3433 - val_categorical_accuracy: 0.3529\n",
            "Epoch 12/100\n",
            "1438/1438 [==============================] - 5s 4ms/step - loss: 2.1173 - categorical_accuracy: 0.3867 - val_loss: 2.2762 - val_categorical_accuracy: 0.3667\n",
            "Epoch 13/100\n",
            "1438/1438 [==============================] - 5s 4ms/step - loss: 2.0338 - categorical_accuracy: 0.4081 - val_loss: 2.2801 - val_categorical_accuracy: 0.3681\n",
            "Epoch 14/100\n",
            "1438/1438 [==============================] - 5s 4ms/step - loss: 2.0080 - categorical_accuracy: 0.4154 - val_loss: 2.2698 - val_categorical_accuracy: 0.3605\n",
            "Epoch 15/100\n",
            "1438/1438 [==============================] - 5s 4ms/step - loss: 1.9799 - categorical_accuracy: 0.4237 - val_loss: 2.2663 - val_categorical_accuracy: 0.3700\n",
            "Epoch 16/100\n",
            "1438/1438 [==============================] - 5s 4ms/step - loss: 1.9353 - categorical_accuracy: 0.4358 - val_loss: 2.2403 - val_categorical_accuracy: 0.3860\n",
            "Epoch 17/100\n",
            "1438/1438 [==============================] - 5s 4ms/step - loss: 1.8863 - categorical_accuracy: 0.4494 - val_loss: 2.2133 - val_categorical_accuracy: 0.3860\n",
            "Epoch 18/100\n",
            "1438/1438 [==============================] - 5s 4ms/step - loss: 1.8565 - categorical_accuracy: 0.4533 - val_loss: 2.1928 - val_categorical_accuracy: 0.3870\n",
            "Epoch 19/100\n",
            "1438/1438 [==============================] - 5s 4ms/step - loss: 1.8147 - categorical_accuracy: 0.4682 - val_loss: 2.1804 - val_categorical_accuracy: 0.3926\n",
            "Epoch 20/100\n",
            "1438/1438 [==============================] - 5s 4ms/step - loss: 1.7950 - categorical_accuracy: 0.4717 - val_loss: 2.2231 - val_categorical_accuracy: 0.3846\n",
            "Epoch 21/100\n",
            "1438/1438 [==============================] - 5s 4ms/step - loss: 1.7828 - categorical_accuracy: 0.4742 - val_loss: 2.2107 - val_categorical_accuracy: 0.3957\n",
            "Epoch 22/100\n",
            "1438/1438 [==============================] - 5s 4ms/step - loss: 1.7313 - categorical_accuracy: 0.4863 - val_loss: 2.1161 - val_categorical_accuracy: 0.4138\n",
            "Epoch 23/100\n",
            "1438/1438 [==============================] - 5s 4ms/step - loss: 1.7127 - categorical_accuracy: 0.4921 - val_loss: 2.1536 - val_categorical_accuracy: 0.4074\n",
            "Epoch 24/100\n",
            "1438/1438 [==============================] - 5s 4ms/step - loss: 1.7137 - categorical_accuracy: 0.4920 - val_loss: 2.1794 - val_categorical_accuracy: 0.3998\n",
            "Epoch 25/100\n",
            "1438/1438 [==============================] - 5s 4ms/step - loss: 1.6746 - categorical_accuracy: 0.5033 - val_loss: 2.1151 - val_categorical_accuracy: 0.4267\n",
            "Epoch 26/100\n",
            "1438/1438 [==============================] - 5s 4ms/step - loss: 1.6573 - categorical_accuracy: 0.5043 - val_loss: 2.0998 - val_categorical_accuracy: 0.4243\n",
            "Epoch 27/100\n",
            "1438/1438 [==============================] - 5s 4ms/step - loss: 1.6336 - categorical_accuracy: 0.5120 - val_loss: 2.1285 - val_categorical_accuracy: 0.4189\n",
            "Epoch 28/100\n",
            "1438/1438 [==============================] - 5s 4ms/step - loss: 1.6069 - categorical_accuracy: 0.5194 - val_loss: 2.3442 - val_categorical_accuracy: 0.3770\n",
            "Epoch 29/100\n",
            "1438/1438 [==============================] - 5s 4ms/step - loss: 1.6100 - categorical_accuracy: 0.5167 - val_loss: 2.2874 - val_categorical_accuracy: 0.3975\n",
            "Epoch 30/100\n",
            "1438/1438 [==============================] - 5s 4ms/step - loss: 1.5900 - categorical_accuracy: 0.5241 - val_loss: 2.0752 - val_categorical_accuracy: 0.4356\n",
            "Epoch 31/100\n",
            "1438/1438 [==============================] - 5s 4ms/step - loss: 1.5693 - categorical_accuracy: 0.5335 - val_loss: 2.2276 - val_categorical_accuracy: 0.4037\n",
            "Epoch 32/100\n",
            "1438/1438 [==============================] - 5s 4ms/step - loss: 1.5590 - categorical_accuracy: 0.5346 - val_loss: 2.0590 - val_categorical_accuracy: 0.4403\n",
            "Epoch 33/100\n",
            "1438/1438 [==============================] - 5s 4ms/step - loss: 1.5432 - categorical_accuracy: 0.5386 - val_loss: 2.1190 - val_categorical_accuracy: 0.4364\n",
            "Epoch 34/100\n",
            "1438/1438 [==============================] - 5s 4ms/step - loss: 1.5517 - categorical_accuracy: 0.5350 - val_loss: 2.0889 - val_categorical_accuracy: 0.4377\n",
            "Epoch 35/100\n",
            "1438/1438 [==============================] - 5s 4ms/step - loss: 1.4983 - categorical_accuracy: 0.5527 - val_loss: 2.1854 - val_categorical_accuracy: 0.4191\n",
            "Epoch 36/100\n",
            "1438/1438 [==============================] - 5s 4ms/step - loss: 1.5115 - categorical_accuracy: 0.5487 - val_loss: 2.0644 - val_categorical_accuracy: 0.4490\n",
            "Epoch 37/100\n",
            "1438/1438 [==============================] - 5s 4ms/step - loss: 1.4894 - categorical_accuracy: 0.5513 - val_loss: 2.1517 - val_categorical_accuracy: 0.4370\n",
            "Epoch 38/100\n",
            "1438/1438 [==============================] - 5s 4ms/step - loss: 1.5011 - categorical_accuracy: 0.5475 - val_loss: 2.1126 - val_categorical_accuracy: 0.4372\n",
            "Epoch 39/100\n",
            "1438/1438 [==============================] - 5s 4ms/step - loss: 1.4660 - categorical_accuracy: 0.5607 - val_loss: 2.1244 - val_categorical_accuracy: 0.4444\n",
            "Epoch 40/100\n",
            "1438/1438 [==============================] - 5s 4ms/step - loss: 1.4646 - categorical_accuracy: 0.5572 - val_loss: 2.0717 - val_categorical_accuracy: 0.4475\n",
            "Epoch 41/100\n",
            "1438/1438 [==============================] - 5s 4ms/step - loss: 1.4904 - categorical_accuracy: 0.5548 - val_loss: 2.0618 - val_categorical_accuracy: 0.4582\n",
            "Epoch 42/100\n",
            "1438/1438 [==============================] - 5s 4ms/step - loss: 1.4451 - categorical_accuracy: 0.5611 - val_loss: 2.0303 - val_categorical_accuracy: 0.4527\n",
            "Epoch 43/100\n",
            "1438/1438 [==============================] - 5s 4ms/step - loss: 1.4163 - categorical_accuracy: 0.5724 - val_loss: 1.9951 - val_categorical_accuracy: 0.4656\n",
            "Epoch 44/100\n",
            "1438/1438 [==============================] - 5s 4ms/step - loss: 1.4009 - categorical_accuracy: 0.5802 - val_loss: 2.0316 - val_categorical_accuracy: 0.4687\n",
            "Epoch 45/100\n",
            "1438/1438 [==============================] - 5s 4ms/step - loss: 1.4184 - categorical_accuracy: 0.5680 - val_loss: 2.0924 - val_categorical_accuracy: 0.4547\n",
            "Epoch 46/100\n",
            "1438/1438 [==============================] - 5s 4ms/step - loss: 1.4069 - categorical_accuracy: 0.5797 - val_loss: 2.0107 - val_categorical_accuracy: 0.4685\n",
            "Epoch 47/100\n",
            "1438/1438 [==============================] - 5s 4ms/step - loss: 1.4012 - categorical_accuracy: 0.5794 - val_loss: 2.1214 - val_categorical_accuracy: 0.4527\n",
            "Epoch 48/100\n",
            "1438/1438 [==============================] - 5s 4ms/step - loss: 1.3919 - categorical_accuracy: 0.5807 - val_loss: 2.0048 - val_categorical_accuracy: 0.4714\n",
            "Epoch 49/100\n",
            "1438/1438 [==============================] - 5s 4ms/step - loss: 1.3864 - categorical_accuracy: 0.5820 - val_loss: 2.0249 - val_categorical_accuracy: 0.4675\n",
            "Epoch 50/100\n",
            "1438/1438 [==============================] - 5s 4ms/step - loss: 1.3678 - categorical_accuracy: 0.5856 - val_loss: 2.0231 - val_categorical_accuracy: 0.4634\n",
            "Epoch 51/100\n",
            "1438/1438 [==============================] - 5s 4ms/step - loss: 1.3800 - categorical_accuracy: 0.5843 - val_loss: 2.0259 - val_categorical_accuracy: 0.4636\n",
            "Epoch 52/100\n",
            "1438/1438 [==============================] - 5s 4ms/step - loss: 1.3523 - categorical_accuracy: 0.5877 - val_loss: 1.9923 - val_categorical_accuracy: 0.4733\n",
            "Epoch 53/100\n",
            "1438/1438 [==============================] - 5s 4ms/step - loss: 1.3529 - categorical_accuracy: 0.5895 - val_loss: 2.0978 - val_categorical_accuracy: 0.4601\n",
            "Epoch 54/100\n",
            "1438/1438 [==============================] - 5s 4ms/step - loss: 1.3596 - categorical_accuracy: 0.5869 - val_loss: 2.0063 - val_categorical_accuracy: 0.4751\n",
            "Epoch 55/100\n",
            "1438/1438 [==============================] - 5s 4ms/step - loss: 1.3416 - categorical_accuracy: 0.5926 - val_loss: 2.0446 - val_categorical_accuracy: 0.4718\n",
            "Epoch 56/100\n",
            "1438/1438 [==============================] - 5s 4ms/step - loss: 1.3285 - categorical_accuracy: 0.5986 - val_loss: 2.0405 - val_categorical_accuracy: 0.4693\n",
            "Epoch 57/100\n",
            "1438/1438 [==============================] - 5s 4ms/step - loss: 1.3250 - categorical_accuracy: 0.5939 - val_loss: 1.9773 - val_categorical_accuracy: 0.4790\n",
            "Epoch 58/100\n",
            "1438/1438 [==============================] - 5s 4ms/step - loss: 1.3034 - categorical_accuracy: 0.6032 - val_loss: 2.1078 - val_categorical_accuracy: 0.4494\n",
            "Epoch 59/100\n",
            "1438/1438 [==============================] - 5s 4ms/step - loss: 1.3150 - categorical_accuracy: 0.6025 - val_loss: 2.0623 - val_categorical_accuracy: 0.4745\n",
            "Epoch 60/100\n",
            "1438/1438 [==============================] - 5s 4ms/step - loss: 1.3023 - categorical_accuracy: 0.6069 - val_loss: 2.1167 - val_categorical_accuracy: 0.4605\n",
            "Epoch 61/100\n",
            "1438/1438 [==============================] - 5s 4ms/step - loss: 1.2951 - categorical_accuracy: 0.6048 - val_loss: 2.0566 - val_categorical_accuracy: 0.4735\n",
            "Epoch 62/100\n",
            "1438/1438 [==============================] - 5s 4ms/step - loss: 1.3094 - categorical_accuracy: 0.6027 - val_loss: 2.0090 - val_categorical_accuracy: 0.4786\n",
            "Epoch 63/100\n",
            "1438/1438 [==============================] - 5s 4ms/step - loss: 1.2957 - categorical_accuracy: 0.6081 - val_loss: 1.9893 - val_categorical_accuracy: 0.4817\n",
            "Epoch 64/100\n",
            "1438/1438 [==============================] - 5s 4ms/step - loss: 1.2966 - categorical_accuracy: 0.6093 - val_loss: 1.9913 - val_categorical_accuracy: 0.4903\n",
            "Epoch 65/100\n",
            "1438/1438 [==============================] - 5s 4ms/step - loss: 1.2963 - categorical_accuracy: 0.6050 - val_loss: 2.0983 - val_categorical_accuracy: 0.4730\n",
            "Epoch 66/100\n",
            "1438/1438 [==============================] - 5s 4ms/step - loss: 1.2882 - categorical_accuracy: 0.6100 - val_loss: 2.0517 - val_categorical_accuracy: 0.4735\n",
            "Epoch 67/100\n",
            "1438/1438 [==============================] - 5s 4ms/step - loss: 1.2907 - categorical_accuracy: 0.6051 - val_loss: 2.0736 - val_categorical_accuracy: 0.4675\n",
            "Epoch 68/100\n",
            "1438/1438 [==============================] - 5s 4ms/step - loss: 1.2627 - categorical_accuracy: 0.6189 - val_loss: 2.0602 - val_categorical_accuracy: 0.4704\n",
            "Epoch 69/100\n",
            "1438/1438 [==============================] - 5s 4ms/step - loss: 1.2629 - categorical_accuracy: 0.6161 - val_loss: 2.0522 - val_categorical_accuracy: 0.4772\n",
            "Epoch 70/100\n",
            "1438/1438 [==============================] - 5s 4ms/step - loss: 1.2659 - categorical_accuracy: 0.6113 - val_loss: 2.0925 - val_categorical_accuracy: 0.4693\n",
            "Epoch 71/100\n",
            "1438/1438 [==============================] - 5s 4ms/step - loss: 1.2899 - categorical_accuracy: 0.6070 - val_loss: 2.0433 - val_categorical_accuracy: 0.4815\n",
            "Epoch 72/100\n",
            "1438/1438 [==============================] - 5s 4ms/step - loss: 1.2379 - categorical_accuracy: 0.6212 - val_loss: 2.0535 - val_categorical_accuracy: 0.4815\n",
            "Epoch 73/100\n",
            "1438/1438 [==============================] - 5s 4ms/step - loss: 1.2519 - categorical_accuracy: 0.6195 - val_loss: 2.0441 - val_categorical_accuracy: 0.4856\n",
            "Epoch 74/100\n",
            "1438/1438 [==============================] - 5s 4ms/step - loss: 1.2610 - categorical_accuracy: 0.6170 - val_loss: 2.0960 - val_categorical_accuracy: 0.4735\n",
            "Epoch 75/100\n",
            "1438/1438 [==============================] - 5s 4ms/step - loss: 1.2177 - categorical_accuracy: 0.6280 - val_loss: 2.0195 - val_categorical_accuracy: 0.4874\n",
            "Epoch 76/100\n",
            "1438/1438 [==============================] - 5s 4ms/step - loss: 1.2335 - categorical_accuracy: 0.6211 - val_loss: 2.1227 - val_categorical_accuracy: 0.4535\n",
            "Epoch 77/100\n",
            "1438/1438 [==============================] - 5s 4ms/step - loss: 1.2332 - categorical_accuracy: 0.6268 - val_loss: 2.0593 - val_categorical_accuracy: 0.4786\n",
            "Epoch 78/100\n",
            "1438/1438 [==============================] - 5s 4ms/step - loss: 1.2123 - categorical_accuracy: 0.6307 - val_loss: 2.0767 - val_categorical_accuracy: 0.4685\n",
            "Epoch 79/100\n",
            "1438/1438 [==============================] - 5s 4ms/step - loss: 1.2253 - categorical_accuracy: 0.6268 - val_loss: 2.0608 - val_categorical_accuracy: 0.4780\n",
            "Epoch 80/100\n",
            "1438/1438 [==============================] - 6s 4ms/step - loss: 1.2406 - categorical_accuracy: 0.6210 - val_loss: 1.9942 - val_categorical_accuracy: 0.4973\n",
            "Epoch 81/100\n",
            "1438/1438 [==============================] - 5s 4ms/step - loss: 1.2116 - categorical_accuracy: 0.6276 - val_loss: 2.0177 - val_categorical_accuracy: 0.4856\n",
            "Epoch 82/100\n",
            "1438/1438 [==============================] - 5s 4ms/step - loss: 1.2048 - categorical_accuracy: 0.6303 - val_loss: 2.0045 - val_categorical_accuracy: 0.4967\n",
            "Epoch 83/100\n",
            "1438/1438 [==============================] - 5s 4ms/step - loss: 1.2171 - categorical_accuracy: 0.6311 - val_loss: 2.0613 - val_categorical_accuracy: 0.4823\n",
            "Epoch 84/100\n",
            "1438/1438 [==============================] - 5s 4ms/step - loss: 1.2073 - categorical_accuracy: 0.6274 - val_loss: 2.0683 - val_categorical_accuracy: 0.4792\n",
            "Epoch 85/100\n",
            "1438/1438 [==============================] - 5s 4ms/step - loss: 1.2104 - categorical_accuracy: 0.6266 - val_loss: 2.0620 - val_categorical_accuracy: 0.4835\n",
            "Epoch 86/100\n",
            "1438/1438 [==============================] - 6s 4ms/step - loss: 1.2109 - categorical_accuracy: 0.6281 - val_loss: 2.0481 - val_categorical_accuracy: 0.4856\n",
            "Epoch 87/100\n",
            "1438/1438 [==============================] - 5s 4ms/step - loss: 1.2044 - categorical_accuracy: 0.6319 - val_loss: 2.0452 - val_categorical_accuracy: 0.4901\n",
            "Epoch 88/100\n",
            "1438/1438 [==============================] - 5s 4ms/step - loss: 1.1972 - categorical_accuracy: 0.6327 - val_loss: 2.0476 - val_categorical_accuracy: 0.4879\n",
            "Epoch 89/100\n",
            "1438/1438 [==============================] - 5s 4ms/step - loss: 1.1948 - categorical_accuracy: 0.6332 - val_loss: 2.1149 - val_categorical_accuracy: 0.4823\n",
            "Epoch 90/100\n",
            "1438/1438 [==============================] - 5s 4ms/step - loss: 1.1921 - categorical_accuracy: 0.6335 - val_loss: 2.0219 - val_categorical_accuracy: 0.4969\n",
            "Epoch 91/100\n",
            "1438/1438 [==============================] - 5s 4ms/step - loss: 1.1906 - categorical_accuracy: 0.6377 - val_loss: 2.0355 - val_categorical_accuracy: 0.4912\n",
            "Epoch 92/100\n",
            "1438/1438 [==============================] - 5s 4ms/step - loss: 1.1884 - categorical_accuracy: 0.6371 - val_loss: 2.1223 - val_categorical_accuracy: 0.4642\n",
            "Epoch 93/100\n",
            "1438/1438 [==============================] - 6s 4ms/step - loss: 1.1888 - categorical_accuracy: 0.6374 - val_loss: 2.1950 - val_categorical_accuracy: 0.4652\n",
            "Epoch 94/100\n",
            "1438/1438 [==============================] - 6s 4ms/step - loss: 1.1599 - categorical_accuracy: 0.6440 - val_loss: 2.0530 - val_categorical_accuracy: 0.4885\n",
            "Epoch 95/100\n",
            "1438/1438 [==============================] - 6s 4ms/step - loss: 1.1704 - categorical_accuracy: 0.6404 - val_loss: 2.0791 - val_categorical_accuracy: 0.4831\n",
            "Epoch 96/100\n",
            "1438/1438 [==============================] - 6s 4ms/step - loss: 1.1914 - categorical_accuracy: 0.6365 - val_loss: 2.0583 - val_categorical_accuracy: 0.4914\n",
            "Epoch 97/100\n",
            "1438/1438 [==============================] - 6s 4ms/step - loss: 1.1618 - categorical_accuracy: 0.6459 - val_loss: 2.1133 - val_categorical_accuracy: 0.4819\n",
            "Epoch 98/100\n",
            "1438/1438 [==============================] - 6s 4ms/step - loss: 1.1843 - categorical_accuracy: 0.6375 - val_loss: 2.0724 - val_categorical_accuracy: 0.4877\n",
            "Epoch 99/100\n",
            "1438/1438 [==============================] - 6s 4ms/step - loss: 1.1776 - categorical_accuracy: 0.6396 - val_loss: 2.0650 - val_categorical_accuracy: 0.4928\n",
            "Epoch 100/100\n",
            "1438/1438 [==============================] - 5s 4ms/step - loss: 1.1580 - categorical_accuracy: 0.6435 - val_loss: 2.0539 - val_categorical_accuracy: 0.4850\n"
          ],
          "name": "stdout"
        }
      ]
    },
    {
      "cell_type": "markdown",
      "metadata": {
        "id": "WoKgCTg2vG3N"
      },
      "source": [
        "### Other convolutional neural network..."
      ]
    },
    {
      "cell_type": "code",
      "metadata": {
        "id": "3si9lLeb7hZE"
      },
      "source": [
        "def build():  \n",
        "  model = Sequential()\n",
        "\n",
        "  model.add(Conv2D(filters = 16, kernel_size = (5,5),padding = 'Same', \n",
        "                 activation ='relu', input_shape = (28,28,3)))\n",
        "  model.add(Conv2D(filters = 32, kernel_size = (5,5),padding = 'Same', \n",
        "                 activation ='relu'))\n",
        "  model.add(MaxPool2D(pool_size=(3,3)))\n",
        "  model.add(Dropout(0.25))\n",
        "\n",
        "\n",
        "  model.add(Conv2D(filters = 32, kernel_size = (3,3),padding = 'Same', \n",
        "                 activation ='relu'))\n",
        "  #model.add(Conv2D(filters = 32, kernel_size = (3,3),padding = 'Same', \n",
        "                 #activation ='relu'))\n",
        "  model.add(MaxPool2D(pool_size=(2,2), strides=(2,2)))\n",
        "  model.add(Dropout(0.25))\n",
        "\n",
        "\n",
        "  model.add(Flatten())\n",
        "  #model.add(Dense(1000, activation = \"relu\"))\n",
        "  #model.add(Dropout(0.5))\n",
        "  model.add(Dense(300, activation = \"relu\"))\n",
        "  model.add(Dense(48, activation = \"softmax\"))\n",
        "\n",
        "  model.summary()\n",
        "\n",
        "  return model"
      ],
      "execution_count": null,
      "outputs": []
    },
    {
      "cell_type": "markdown",
      "metadata": {
        "id": "9eTVmohvvMfk"
      },
      "source": [
        "### and other..."
      ]
    },
    {
      "cell_type": "code",
      "metadata": {
        "id": "rMIrPaVMlb0y"
      },
      "source": [
        "#### otro modelo para Guada\n",
        "\n",
        "def build():  \n",
        "  model = Sequential()\n",
        "\n",
        "  model.add(Conv2D(filters = 16, kernel_size = (5,5),padding = 'Same', \n",
        "                  activation ='relu', input_shape = (28,28,3)))\n",
        "\n",
        "  model.add(Conv2D(filters = 32, kernel_size = (3,3),padding = 'Same', \n",
        "                  activation ='relu'))\n",
        "  model.add(MaxPool2D(pool_size=(2,2)))\n",
        "\n",
        "  model.add(Dropout(0.25))\n",
        "\n",
        "\n",
        "  model.add(Conv2D(filters = 64, kernel_size = (3,3),padding = 'Same', \n",
        "                  activation ='relu'))\n",
        "  \n",
        "  model.add(Conv2D(filters = 64, kernel_size = (3,3),padding = 'Same', \n",
        "                  activation ='relu'))\n",
        "  model.add(MaxPool2D(pool_size=(2,2), strides=(2,2)))\n",
        "  model.add(Dropout(0.15))\n",
        "\n",
        "\n",
        "  model.add(Flatten())\n",
        "  model.add(Dense(200, activation = \"relu\"))\n",
        "  #model.add(Dropout(0.5))\n",
        "\n",
        "  model.add(Dense(100, activation = \"relu\"))\n",
        "\n",
        "  #model.add(Dense(75, activation = \"relu\"))\n",
        "\n",
        "  model.add(Dense(48, activation = \"softmax\"))\n",
        "\n",
        "  model.summary()\n",
        "\n",
        "  return model"
      ],
      "execution_count": null,
      "outputs": []
    },
    {
      "cell_type": "code",
      "metadata": {
        "id": "vdgKuZYak59X",
        "colab": {
          "base_uri": "https://localhost:8080/"
        },
        "outputId": "72f97a2c-743d-451b-917d-301aa1b50603"
      },
      "source": [
        "model=build()"
      ],
      "execution_count": null,
      "outputs": [
        {
          "output_type": "stream",
          "text": [
            "Model: \"sequential_1\"\n",
            "_________________________________________________________________\n",
            "Layer (type)                 Output Shape              Param #   \n",
            "=================================================================\n",
            "conv2d_4 (Conv2D)            (None, 28, 28, 16)        1216      \n",
            "_________________________________________________________________\n",
            "conv2d_5 (Conv2D)            (None, 28, 28, 32)        12832     \n",
            "_________________________________________________________________\n",
            "max_pooling2d_2 (MaxPooling2 (None, 9, 9, 32)          0         \n",
            "_________________________________________________________________\n",
            "dropout_2 (Dropout)          (None, 9, 9, 32)          0         \n",
            "_________________________________________________________________\n",
            "conv2d_6 (Conv2D)            (None, 9, 9, 32)          9248      \n",
            "_________________________________________________________________\n",
            "max_pooling2d_3 (MaxPooling2 (None, 4, 4, 32)          0         \n",
            "_________________________________________________________________\n",
            "dropout_3 (Dropout)          (None, 4, 4, 32)          0         \n",
            "_________________________________________________________________\n",
            "flatten_1 (Flatten)          (None, 512)               0         \n",
            "_________________________________________________________________\n",
            "dense_3 (Dense)              (None, 300)               153900    \n",
            "_________________________________________________________________\n",
            "dense_4 (Dense)              (None, 48)                14448     \n",
            "=================================================================\n",
            "Total params: 191,644\n",
            "Trainable params: 191,644\n",
            "Non-trainable params: 0\n",
            "_________________________________________________________________\n"
          ],
          "name": "stdout"
        }
      ]
    },
    {
      "cell_type": "markdown",
      "metadata": {
        "id": "Y0BpKAQpvRe4"
      },
      "source": [
        "### two possible optimizers also..."
      ]
    },
    {
      "cell_type": "code",
      "metadata": {
        "id": "SWwFMSbEmC8J"
      },
      "source": [
        "#### 2 optimizadores a ver cual funciona mejor"
      ],
      "execution_count": null,
      "outputs": []
    },
    {
      "cell_type": "code",
      "metadata": {
        "id": "-Yk153KAk-r2"
      },
      "source": [
        "model.compile(optimizer=optimizers.Adam(),loss=losses.categorical_crossentropy,metrics=[metrics.categorical_accuracy])"
      ],
      "execution_count": null,
      "outputs": []
    },
    {
      "cell_type": "code",
      "metadata": {
        "id": "CgpZhaBx8LJX"
      },
      "source": [
        "#### probamos con sgd\n",
        "\n",
        "model.compile(optimizer=optimizers.SGD(lr=0.01),loss=losses.categorical_crossentropy,metrics=[metrics.categorical_accuracy])"
      ],
      "execution_count": null,
      "outputs": []
    },
    {
      "cell_type": "markdown",
      "metadata": {
        "id": "PNK1FvrFdZfP"
      },
      "source": [
        "y vamos con el modelo"
      ]
    },
    {
      "cell_type": "code",
      "metadata": {
        "id": "PHe5GulblLPH",
        "colab": {
          "base_uri": "https://localhost:8080/"
        },
        "outputId": "0a7b3483-7cb9-4e05-c367-c97bce0cfb65"
      },
      "source": [
        " h = model.fit (train_images,OneHotTrain,batch_size= 32,epochs=50,validation_data=(validation_images,OneHotVal))"
      ],
      "execution_count": null,
      "outputs": [
        {
          "output_type": "stream",
          "text": [
            "Epoch 1/50\n",
            "970/970 [==============================] - 5s 4ms/step - loss: 3.4897 - categorical_accuracy: 0.0755 - val_loss: 2.9802 - val_categorical_accuracy: 0.1652\n",
            "Epoch 2/50\n",
            "970/970 [==============================] - 4s 4ms/step - loss: 2.8764 - categorical_accuracy: 0.1931 - val_loss: 2.7202 - val_categorical_accuracy: 0.2448\n",
            "Epoch 3/50\n",
            "970/970 [==============================] - 4s 4ms/step - loss: 2.6176 - categorical_accuracy: 0.2567 - val_loss: 2.4632 - val_categorical_accuracy: 0.3039\n",
            "Epoch 4/50\n",
            "970/970 [==============================] - 4s 4ms/step - loss: 2.4281 - categorical_accuracy: 0.3052 - val_loss: 2.3668 - val_categorical_accuracy: 0.3252\n",
            "Epoch 5/50\n",
            "970/970 [==============================] - 4s 4ms/step - loss: 2.2528 - categorical_accuracy: 0.3463 - val_loss: 2.2083 - val_categorical_accuracy: 0.3687\n",
            "Epoch 6/50\n",
            "970/970 [==============================] - 4s 4ms/step - loss: 2.1312 - categorical_accuracy: 0.3786 - val_loss: 2.1218 - val_categorical_accuracy: 0.3943\n",
            "Epoch 7/50\n",
            "970/970 [==============================] - 4s 4ms/step - loss: 2.0113 - categorical_accuracy: 0.4082 - val_loss: 2.0609 - val_categorical_accuracy: 0.4081\n",
            "Epoch 8/50\n",
            "970/970 [==============================] - 4s 4ms/step - loss: 1.9129 - categorical_accuracy: 0.4318 - val_loss: 2.0481 - val_categorical_accuracy: 0.4100\n",
            "Epoch 9/50\n",
            "970/970 [==============================] - 4s 4ms/step - loss: 1.8112 - categorical_accuracy: 0.4626 - val_loss: 1.9070 - val_categorical_accuracy: 0.4501\n",
            "Epoch 10/50\n",
            "970/970 [==============================] - 4s 4ms/step - loss: 1.7379 - categorical_accuracy: 0.4817 - val_loss: 1.8844 - val_categorical_accuracy: 0.4535\n",
            "Epoch 11/50\n",
            "970/970 [==============================] - 4s 4ms/step - loss: 1.6710 - categorical_accuracy: 0.4968 - val_loss: 1.8441 - val_categorical_accuracy: 0.4667\n",
            "Epoch 12/50\n",
            "970/970 [==============================] - 4s 4ms/step - loss: 1.6056 - categorical_accuracy: 0.5125 - val_loss: 1.8019 - val_categorical_accuracy: 0.4852\n",
            "Epoch 13/50\n",
            "970/970 [==============================] - 4s 4ms/step - loss: 1.5479 - categorical_accuracy: 0.5299 - val_loss: 1.7449 - val_categorical_accuracy: 0.5025\n",
            "Epoch 14/50\n",
            "970/970 [==============================] - 4s 4ms/step - loss: 1.4986 - categorical_accuracy: 0.5402 - val_loss: 1.7897 - val_categorical_accuracy: 0.4852\n",
            "Epoch 15/50\n",
            "970/970 [==============================] - 4s 4ms/step - loss: 1.4704 - categorical_accuracy: 0.5495 - val_loss: 1.7364 - val_categorical_accuracy: 0.5120\n",
            "Epoch 16/50\n",
            "970/970 [==============================] - 4s 4ms/step - loss: 1.4250 - categorical_accuracy: 0.5671 - val_loss: 1.6957 - val_categorical_accuracy: 0.5191\n",
            "Epoch 17/50\n",
            "970/970 [==============================] - 4s 4ms/step - loss: 1.3783 - categorical_accuracy: 0.5821 - val_loss: 1.6908 - val_categorical_accuracy: 0.5358\n",
            "Epoch 18/50\n",
            "970/970 [==============================] - 4s 4ms/step - loss: 1.3558 - categorical_accuracy: 0.5856 - val_loss: 1.7080 - val_categorical_accuracy: 0.5299\n",
            "Epoch 19/50\n",
            "970/970 [==============================] - 4s 5ms/step - loss: 1.3477 - categorical_accuracy: 0.5903 - val_loss: 1.7127 - val_categorical_accuracy: 0.5219\n",
            "Epoch 20/50\n",
            "970/970 [==============================] - 4s 4ms/step - loss: 1.3255 - categorical_accuracy: 0.5965 - val_loss: 1.7040 - val_categorical_accuracy: 0.5293\n",
            "Epoch 21/50\n",
            "970/970 [==============================] - 4s 4ms/step - loss: 1.2776 - categorical_accuracy: 0.6035 - val_loss: 1.6513 - val_categorical_accuracy: 0.5398\n",
            "Epoch 22/50\n",
            "970/970 [==============================] - 4s 4ms/step - loss: 1.2621 - categorical_accuracy: 0.6119 - val_loss: 1.6325 - val_categorical_accuracy: 0.5413\n",
            "Epoch 23/50\n",
            "970/970 [==============================] - 4s 4ms/step - loss: 1.2301 - categorical_accuracy: 0.6223 - val_loss: 1.6741 - val_categorical_accuracy: 0.5367\n",
            "Epoch 24/50\n",
            "970/970 [==============================] - 4s 4ms/step - loss: 1.2062 - categorical_accuracy: 0.6275 - val_loss: 1.6626 - val_categorical_accuracy: 0.5361\n",
            "Epoch 25/50\n",
            "970/970 [==============================] - 4s 4ms/step - loss: 1.2183 - categorical_accuracy: 0.6220 - val_loss: 1.6248 - val_categorical_accuracy: 0.5552\n",
            "Epoch 26/50\n",
            "970/970 [==============================] - 4s 4ms/step - loss: 1.1806 - categorical_accuracy: 0.6316 - val_loss: 1.6222 - val_categorical_accuracy: 0.5518\n",
            "Epoch 27/50\n",
            "970/970 [==============================] - 4s 4ms/step - loss: 1.1604 - categorical_accuracy: 0.6359 - val_loss: 1.6388 - val_categorical_accuracy: 0.5472\n",
            "Epoch 28/50\n",
            "970/970 [==============================] - 4s 4ms/step - loss: 1.1487 - categorical_accuracy: 0.6439 - val_loss: 1.6108 - val_categorical_accuracy: 0.5552\n",
            "Epoch 29/50\n",
            "970/970 [==============================] - 4s 4ms/step - loss: 1.0982 - categorical_accuracy: 0.6557 - val_loss: 1.6281 - val_categorical_accuracy: 0.5576\n",
            "Epoch 30/50\n",
            "970/970 [==============================] - 4s 4ms/step - loss: 1.1163 - categorical_accuracy: 0.6540 - val_loss: 1.6554 - val_categorical_accuracy: 0.5518\n",
            "Epoch 31/50\n",
            "970/970 [==============================] - 4s 4ms/step - loss: 1.1173 - categorical_accuracy: 0.6489 - val_loss: 1.5993 - val_categorical_accuracy: 0.5626\n",
            "Epoch 32/50\n",
            "970/970 [==============================] - 4s 4ms/step - loss: 1.0882 - categorical_accuracy: 0.6604 - val_loss: 1.6201 - val_categorical_accuracy: 0.5552\n",
            "Epoch 33/50\n",
            "970/970 [==============================] - 4s 4ms/step - loss: 1.0639 - categorical_accuracy: 0.6667 - val_loss: 1.6300 - val_categorical_accuracy: 0.5539\n",
            "Epoch 34/50\n",
            "970/970 [==============================] - 4s 4ms/step - loss: 1.0763 - categorical_accuracy: 0.6648 - val_loss: 1.6703 - val_categorical_accuracy: 0.5469\n",
            "Epoch 35/50\n",
            "970/970 [==============================] - 4s 4ms/step - loss: 1.0756 - categorical_accuracy: 0.6665 - val_loss: 1.6213 - val_categorical_accuracy: 0.5657\n",
            "Epoch 36/50\n",
            "970/970 [==============================] - 4s 4ms/step - loss: 1.0611 - categorical_accuracy: 0.6618 - val_loss: 1.5956 - val_categorical_accuracy: 0.5654\n",
            "Epoch 37/50\n",
            "970/970 [==============================] - 4s 4ms/step - loss: 1.0423 - categorical_accuracy: 0.6770 - val_loss: 1.6077 - val_categorical_accuracy: 0.5718\n",
            "Epoch 38/50\n",
            "970/970 [==============================] - 4s 4ms/step - loss: 1.0505 - categorical_accuracy: 0.6695 - val_loss: 1.6025 - val_categorical_accuracy: 0.5691\n",
            "Epoch 39/50\n",
            "970/970 [==============================] - 4s 4ms/step - loss: 1.0109 - categorical_accuracy: 0.6836 - val_loss: 1.6315 - val_categorical_accuracy: 0.5595\n",
            "Epoch 40/50\n",
            "970/970 [==============================] - 4s 4ms/step - loss: 1.0195 - categorical_accuracy: 0.6825 - val_loss: 1.6849 - val_categorical_accuracy: 0.5493\n",
            "Epoch 41/50\n",
            "970/970 [==============================] - 4s 4ms/step - loss: 1.0050 - categorical_accuracy: 0.6822 - val_loss: 1.6689 - val_categorical_accuracy: 0.5592\n",
            "Epoch 42/50\n",
            "970/970 [==============================] - 4s 4ms/step - loss: 1.0143 - categorical_accuracy: 0.6797 - val_loss: 1.6532 - val_categorical_accuracy: 0.5644\n",
            "Epoch 43/50\n",
            "970/970 [==============================] - 4s 4ms/step - loss: 1.0072 - categorical_accuracy: 0.6812 - val_loss: 1.6076 - val_categorical_accuracy: 0.5684\n",
            "Epoch 44/50\n",
            "970/970 [==============================] - 4s 4ms/step - loss: 0.9781 - categorical_accuracy: 0.6891 - val_loss: 1.7122 - val_categorical_accuracy: 0.5490\n",
            "Epoch 45/50\n",
            "970/970 [==============================] - 4s 4ms/step - loss: 0.9743 - categorical_accuracy: 0.6923 - val_loss: 1.6584 - val_categorical_accuracy: 0.5650\n",
            "Epoch 46/50\n",
            "970/970 [==============================] - 4s 4ms/step - loss: 0.9785 - categorical_accuracy: 0.6913 - val_loss: 1.5929 - val_categorical_accuracy: 0.5678\n",
            "Epoch 47/50\n",
            "970/970 [==============================] - 4s 4ms/step - loss: 0.9647 - categorical_accuracy: 0.6925 - val_loss: 1.6465 - val_categorical_accuracy: 0.5610\n",
            "Epoch 48/50\n",
            "970/970 [==============================] - 4s 4ms/step - loss: 0.9617 - categorical_accuracy: 0.6965 - val_loss: 1.6440 - val_categorical_accuracy: 0.5697\n",
            "Epoch 49/50\n",
            "970/970 [==============================] - 4s 4ms/step - loss: 0.9605 - categorical_accuracy: 0.6955 - val_loss: 1.6111 - val_categorical_accuracy: 0.5746\n",
            "Epoch 50/50\n",
            "970/970 [==============================] - 4s 4ms/step - loss: 0.9644 - categorical_accuracy: 0.6955 - val_loss: 1.6250 - val_categorical_accuracy: 0.5721\n"
          ],
          "name": "stdout"
        }
      ]
    },
    {
      "cell_type": "markdown",
      "metadata": {
        "id": "QmgOQTUHla7s"
      },
      "source": [
        "### Evaluating the model"
      ]
    },
    {
      "cell_type": "code",
      "metadata": {
        "id": "h5Je_tJf_-vG",
        "colab": {
          "base_uri": "https://localhost:8080/",
          "height": 599
        },
        "outputId": "d22db22a-a134-428c-c782-30d824f096a5"
      },
      "source": [
        "plot_metric(h,'loss')\n",
        "plot_metric(h,'categorical_accuracy')"
      ],
      "execution_count": null,
      "outputs": [
        {
          "output_type": "display_data",
          "data": {
            "image/png": "[encoded data removed]",
            "text/plain": [
              "<Figure size 432x288 with 1 Axes>"
            ]
          },
          "metadata": {
            "tags": [],
            "needs_background": "light"
          }
        },
        {
          "output_type": "error",
          "ename": "KeyError",
          "evalue": "ignored",
          "traceback": [
            "\u001b[0;31m---------------------------------------------------------------------------\u001b[0m",
            "\u001b[0;31mKeyError\u001b[0m                                  Traceback (most recent call last)",
            "\u001b[0;32m<ipython-input-46-0fbc4f2f2fd8>\u001b[0m in \u001b[0;36m<module>\u001b[0;34m()\u001b[0m\n\u001b[1;32m      1\u001b[0m \u001b[0mplot_metric\u001b[0m\u001b[0;34m(\u001b[0m\u001b[0mh\u001b[0m\u001b[0;34m,\u001b[0m\u001b[0;34m'loss'\u001b[0m\u001b[0;34m)\u001b[0m\u001b[0;34m\u001b[0m\u001b[0;34m\u001b[0m\u001b[0m\n\u001b[0;32m----> 2\u001b[0;31m \u001b[0mplot_metric\u001b[0m\u001b[0;34m(\u001b[0m\u001b[0mh\u001b[0m\u001b[0;34m,\u001b[0m\u001b[0;34m'categorical_accuracy'\u001b[0m\u001b[0;34m)\u001b[0m\u001b[0;34m\u001b[0m\u001b[0;34m\u001b[0m\u001b[0m\n\u001b[0m",
            "\u001b[0;32m<ipython-input-3-7f0a7cb14097>\u001b[0m in \u001b[0;36mplot_metric\u001b[0;34m(history, metric)\u001b[0m\n\u001b[1;32m      3\u001b[0m \u001b[0;32mdef\u001b[0m \u001b[0mplot_metric\u001b[0m\u001b[0;34m(\u001b[0m\u001b[0mhistory\u001b[0m\u001b[0;34m,\u001b[0m \u001b[0mmetric\u001b[0m\u001b[0;34m)\u001b[0m\u001b[0;34m:\u001b[0m\u001b[0;34m\u001b[0m\u001b[0;34m\u001b[0m\u001b[0m\n\u001b[1;32m      4\u001b[0m     \u001b[0mhistory_dict\u001b[0m \u001b[0;34m=\u001b[0m \u001b[0mhistory\u001b[0m\u001b[0;34m.\u001b[0m\u001b[0mhistory\u001b[0m\u001b[0;34m\u001b[0m\u001b[0;34m\u001b[0m\u001b[0m\n\u001b[0;32m----> 5\u001b[0;31m     \u001b[0mvalues\u001b[0m \u001b[0;34m=\u001b[0m \u001b[0mhistory_dict\u001b[0m\u001b[0;34m[\u001b[0m\u001b[0mmetric\u001b[0m\u001b[0;34m]\u001b[0m\u001b[0;34m\u001b[0m\u001b[0;34m\u001b[0m\u001b[0m\n\u001b[0m\u001b[1;32m      6\u001b[0m     \u001b[0;32mif\u001b[0m \u001b[0;34m'val_'\u001b[0m \u001b[0;34m+\u001b[0m \u001b[0mmetric\u001b[0m \u001b[0;32min\u001b[0m \u001b[0mhistory_dict\u001b[0m\u001b[0;34m.\u001b[0m\u001b[0mkeys\u001b[0m\u001b[0;34m(\u001b[0m\u001b[0;34m)\u001b[0m\u001b[0;34m:\u001b[0m\u001b[0;34m\u001b[0m\u001b[0;34m\u001b[0m\u001b[0m\n\u001b[1;32m      7\u001b[0m         \u001b[0mval_values\u001b[0m \u001b[0;34m=\u001b[0m \u001b[0mhistory_dict\u001b[0m\u001b[0;34m[\u001b[0m\u001b[0;34m'val_'\u001b[0m \u001b[0;34m+\u001b[0m \u001b[0mmetric\u001b[0m\u001b[0;34m]\u001b[0m\u001b[0;34m\u001b[0m\u001b[0;34m\u001b[0m\u001b[0m\n",
            "\u001b[0;31mKeyError\u001b[0m: 'categorical_accuracy'"
          ]
        }
      ]
    },
    {
      "cell_type": "code",
      "metadata": {
        "id": "qho0IEV4g4I9",
        "colab": {
          "base_uri": "https://localhost:8080/",
          "height": 292
        },
        "outputId": "9cd1c93e-f14b-4503-9c78-fbb3361d734b"
      },
      "source": [
        "plot_mushroom_image(560,test_images,test_labels)"
      ],
      "execution_count": null,
      "outputs": [
        {
          "output_type": "stream",
          "text": [
            "Amanita muscaria\n"
          ],
          "name": "stdout"
        },
        {
          "output_type": "display_data",
          "data": {
            "image/png": "[encoded data removed]",
            "text/plain": [
              "<Figure size 432x288 with 1 Axes>"
            ]
          },
          "metadata": {
            "tags": [],
            "needs_background": "light"
          }
        }
      ]
    },
    {
      "cell_type": "code",
      "metadata": {
        "id": "EpRFkGy-mfR1",
        "colab": {
          "base_uri": "https://localhost:8080/"
        },
        "outputId": "f0a13fae-21fb-441f-a7fa-6e89fe79d9d7"
      },
      "source": [
        "model.evaluate(test_images,OneHotTest)"
      ],
      "execution_count": null,
      "outputs": [
        {
          "output_type": "stream",
          "text": [
            "112/112 [==============================] - 1s 5ms/step - loss: 1.6582 - accuracy: 0.5977\n"
          ],
          "name": "stdout"
        },
        {
          "output_type": "execute_result",
          "data": {
            "text/plain": [
              "[1.6582069396972656, 0.5977107882499695]"
            ]
          },
          "metadata": {
            "tags": []
          },
          "execution_count": 48
        }
      ]
    },
    {
      "cell_type": "code",
      "metadata": {
        "id": "_NjePVrjqMfx"
      },
      "source": [
        "## evaluate if the mushrooms are between the 3 first\n",
        "\n",
        "ohetest = OneHotEncoder(sparse = False)\n",
        "le = LabelEncoder()\n",
        "OneHotTest = ohetest.fit_transform(le.fit_transform(test_labels).reshape(-1, 1))"
      ],
      "execution_count": null,
      "outputs": []
    },
    {
      "cell_type": "markdown",
      "metadata": {
        "id": "XTGE36V5lhyC"
      },
      "source": [
        "### Doing predictions"
      ]
    },
    {
      "cell_type": "code",
      "metadata": {
        "id": "UWfb_eClAKYl",
        "colab": {
          "base_uri": "https://localhost:8080/"
        },
        "outputId": "becd4c9b-c762-42c2-a567-64894db98d7c"
      },
      "source": [
        "y_pred = model.predict_proba(test_images)\n"
      ],
      "execution_count": null,
      "outputs": [
        {
          "output_type": "stream",
          "text": [
            "/usr/local/lib/python3.7/dist-packages/tensorflow/python/keras/engine/sequential.py:425: UserWarning: `model.predict_proba()` is deprecated and will be removed after 2021-01-01. Please use `model.predict()` instead.\n",
            "  warnings.warn('`model.predict_proba()` is deprecated and '\n"
          ],
          "name": "stderr"
        }
      ]
    },
    {
      "cell_type": "code",
      "metadata": {
        "colab": {
          "base_uri": "https://localhost:8080/"
        },
        "id": "yXSEs16XuXu0",
        "outputId": "e1566e14-5e17-4d0a-c4cf-cdb4683275f8"
      },
      "source": [
        "test_labels"
      ],
      "execution_count": null,
      "outputs": [
        {
          "output_type": "execute_result",
          "data": {
            "text/plain": [
              "array(['Agaricus arvensis', 'Agaricus arvensis', 'Agaricus arvensis', ...,\n",
              "       'Tuber melanosporum', 'Tuber melanosporum', 'Tuber melanosporum'],\n",
              "      dtype='<U25')"
            ]
          },
          "metadata": {
            "tags": []
          },
          "execution_count": 72
        }
      ]
    },
    {
      "cell_type": "code",
      "metadata": {
        "id": "0sMOmNSiubxC"
      },
      "source": [
        "df = pd.DataFrame(y_pred[0], columns = ['probabilities'])"
      ],
      "execution_count": null,
      "outputs": []
    },
    {
      "cell_type": "code",
      "metadata": {
        "id": "63YD8F_0vv_E"
      },
      "source": [
        "df['labels']=l2"
      ],
      "execution_count": null,
      "outputs": []
    },
    {
      "cell_type": "code",
      "metadata": {
        "id": "e-xfBmk2w_Xr"
      },
      "source": [
        "df_sort = df.sort_values('probabilities',ascending = False)[0:3]"
      ],
      "execution_count": null,
      "outputs": []
    },
    {
      "cell_type": "code",
      "metadata": {
        "colab": {
          "base_uri": "https://localhost:8080/",
          "height": 143
        },
        "id": "_zKMSfSnxRZY",
        "outputId": "2901f200-792d-42ca-9834-ea24e5230abb"
      },
      "source": [
        "df_sort"
      ],
      "execution_count": null,
      "outputs": [
        {
          "output_type": "execute_result",
          "data": {
            "text/html": [
              "<div>\n",
              "<style scoped>\n",
              "    .dataframe tbody tr th:only-of-type {\n",
              "        vertical-align: middle;\n",
              "    }\n",
              "\n",
              "    .dataframe tbody tr th {\n",
              "        vertical-align: top;\n",
              "    }\n",
              "\n",
              "    .dataframe thead th {\n",
              "        text-align: right;\n",
              "    }\n",
              "</style>\n",
              "<table border=\"1\" class=\"dataframe\">\n",
              "  <thead>\n",
              "    <tr style=\"text-align: right;\">\n",
              "      <th></th>\n",
              "      <th>probabilities</th>\n",
              "      <th>labels</th>\n",
              "    </tr>\n",
              "  </thead>\n",
              "  <tbody>\n",
              "    <tr>\n",
              "      <th>0</th>\n",
              "      <td>0.503070</td>\n",
              "      <td>Agaricus arvensis</td>\n",
              "    </tr>\n",
              "    <tr>\n",
              "      <th>29</th>\n",
              "      <td>0.266939</td>\n",
              "      <td>Macrolepiota procera</td>\n",
              "    </tr>\n",
              "    <tr>\n",
              "      <th>2</th>\n",
              "      <td>0.119569</td>\n",
              "      <td>Agaricus campestris</td>\n",
              "    </tr>\n",
              "  </tbody>\n",
              "</table>\n",
              "</div>"
            ],
            "text/plain": [
              "    probabilities                labels\n",
              "0        0.503070     Agaricus arvensis\n",
              "29       0.266939  Macrolepiota procera\n",
              "2        0.119569   Agaricus campestris"
            ]
          },
          "metadata": {
            "tags": []
          },
          "execution_count": 88
        }
      ]
    },
    {
      "cell_type": "code",
      "metadata": {
        "colab": {
          "base_uri": "https://localhost:8080/"
        },
        "id": "UkUWEr0bZkP4",
        "outputId": "12120f3a-b33f-4c2d-9a8a-d7f360c7eaff"
      },
      "source": [
        "type(test_images)"
      ],
      "execution_count": null,
      "outputs": [
        {
          "output_type": "execute_result",
          "data": {
            "text/plain": [
              "numpy.ndarray"
            ]
          },
          "metadata": {
            "tags": []
          },
          "execution_count": 67
        }
      ]
    },
    {
      "cell_type": "code",
      "metadata": {
        "id": "rC_ouIJHzw60"
      },
      "source": [
        "test_labels\n",
        "target_names = pd.Series(test_labels).drop_duplicates()"
      ],
      "execution_count": null,
      "outputs": []
    },
    {
      "cell_type": "code",
      "metadata": {
        "id": "ps2JoX3Awu1P",
        "colab": {
          "base_uri": "https://localhost:8080/"
        },
        "outputId": "b1631998-6c14-4dbd-b090-bcae9f5d38af"
      },
      "source": [
        "d.keys()"
      ],
      "execution_count": null,
      "outputs": [
        {
          "output_type": "execute_result",
          "data": {
            "text/plain": [
              "dict_keys([0, 1, 2, 3, 4, 5, 6, 7, 8, 9, 10, 11, 12, 13, 14, 15, 16, 17, 18, 19, 20, 21, 22, 23, 24, 25, 26, 27, 28, 29, 30, 31, 32, 33, 34, 35, 36, 37, 38, 39, 40, 41, 42, 43, 44, 45, 46, 47])"
            ]
          },
          "metadata": {
            "tags": []
          },
          "execution_count": 51
        }
      ]
    },
    {
      "cell_type": "code",
      "metadata": {
        "id": "bEPJkWglwyMh"
      },
      "source": [
        "\n",
        "\n",
        "predictions=[]\n",
        "for i in y_pred:\n",
        "  predictions.append(d.get(i))"
      ],
      "execution_count": null,
      "outputs": []
    },
    {
      "cell_type": "code",
      "metadata": {
        "id": "Pd6G9Srhx2eD",
        "colab": {
          "base_uri": "https://localhost:8080/"
        },
        "outputId": "accc5375-3c43-4ffa-ac38-fc18cfee8bd4"
      },
      "source": [
        "predictions"
      ],
      "execution_count": null,
      "outputs": [
        {
          "output_type": "execute_result",
          "data": {
            "text/plain": [
              "['Agaricus arvensis',\n",
              " 'Russula vesca',\n",
              " 'Russula vesca',\n",
              " 'Clitocybe odora',\n",
              " 'Amanita curtipes',\n",
              " 'Agaricus arvensis',\n",
              " 'Clitocybe odora',\n",
              " 'Agaricus sylvaticus',\n",
              " 'Agaricus campestris',\n",
              " 'Agaricus arvensis',\n",
              " 'Agaricus bitorquis',\n",
              " 'Agaricus bitorquis',\n",
              " 'Macrolepiota procera',\n",
              " 'Agaricus campestris',\n",
              " 'Agaricus campestris',\n",
              " 'Agaricus campestris',\n",
              " 'Macrolepiota mastoidea',\n",
              " 'Agaricus arvensis',\n",
              " 'Agaricus arvensis',\n",
              " 'Agaricus arvensis',\n",
              " 'Russula cyanoxantha',\n",
              " 'Clitocybe gibba',\n",
              " 'Agaricus arvensis',\n",
              " 'Agaricus campestris',\n",
              " 'Agaricus arvensis',\n",
              " 'Agaricus arvensis',\n",
              " 'Agaricus arvensis',\n",
              " 'Clitocybe odora',\n",
              " 'Clitocybe odora',\n",
              " 'Clitocybe odora',\n",
              " 'Agaricus arvensis',\n",
              " 'Agaricus arvensis',\n",
              " 'Agaricus arvensis',\n",
              " 'Agaricus sylvaticus',\n",
              " 'Agaricus arvensis',\n",
              " 'Agaricus arvensis',\n",
              " 'Agaricus arvensis',\n",
              " 'Agaricus arvensis',\n",
              " 'Tuber aestivum',\n",
              " 'Agaricus arvensis',\n",
              " 'Agaricus arvensis',\n",
              " 'Agaricus arvensis',\n",
              " 'Agaricus campestris',\n",
              " 'Agaricus campestris',\n",
              " 'Lactarius controversus',\n",
              " 'Agaricus arvensis',\n",
              " 'Agaricus arvensis',\n",
              " 'Agaricus arvensis',\n",
              " 'Agaricus arvensis',\n",
              " 'Agaricus arvensis',\n",
              " 'Agaricus arvensis',\n",
              " 'Agaricus arvensis',\n",
              " 'Agaricus arvensis',\n",
              " 'Agaricus arvensis',\n",
              " 'Agaricus arvensis',\n",
              " 'Amanita citrina',\n",
              " 'Amanita citrina',\n",
              " 'Agaricus arvensis',\n",
              " 'Agaricus arvensis',\n",
              " 'Macrolepiota mastoidea',\n",
              " 'Amanita citrina',\n",
              " 'Amanita citrina',\n",
              " 'Clitocybe odora',\n",
              " 'Agaricus arvensis',\n",
              " 'Agaricus campestris',\n",
              " 'Agaricus arvensis',\n",
              " 'Russula chloroides',\n",
              " 'Agaricus arvensis',\n",
              " 'Agaricus arvensis',\n",
              " 'Agaricus arvensis',\n",
              " 'Amanita curtipes',\n",
              " 'Agaricus sylvaticus',\n",
              " 'Russula chloroides',\n",
              " 'Agaricus bitorquis',\n",
              " 'Lepista nuda',\n",
              " 'Agaricus bitorquis',\n",
              " 'Agaricus bitorquis',\n",
              " 'Agaricus sylvaticus',\n",
              " 'Agaricus bitorquis',\n",
              " 'Agaricus bitorquis',\n",
              " 'Russula cyanoxantha',\n",
              " 'Boletus satanas',\n",
              " 'Agaricus bitorquis',\n",
              " 'Agaricus bitorquis',\n",
              " 'Agaricus bitorquis',\n",
              " 'Agaricus bitorquis',\n",
              " 'Amanita curtipes',\n",
              " 'Agaricus bitorquis',\n",
              " 'Agaricus bitorquis',\n",
              " 'Macrolepiota mastoidea',\n",
              " 'Agaricus bitorquis',\n",
              " 'Amanita curtipes',\n",
              " 'Agaricus bitorquis',\n",
              " 'Russula cyanoxantha',\n",
              " 'Macrolepiota mastoidea',\n",
              " 'Marasmius oreades',\n",
              " 'Amanita curtipes',\n",
              " 'Russula cyanoxantha',\n",
              " 'Agaricus bitorquis',\n",
              " 'Macrolepiota procera',\n",
              " 'Agaricus bitorquis',\n",
              " 'Clitocybe gibba',\n",
              " 'Agaricus bitorquis',\n",
              " 'Agaricus bitorquis',\n",
              " 'Tuber aestivum',\n",
              " 'Agaricus bitorquis',\n",
              " 'Boletus aestivalis',\n",
              " 'Agaricus bitorquis',\n",
              " 'Agaricus bitorquis',\n",
              " 'Agaricus bitorquis',\n",
              " 'Agaricus sylvaticus',\n",
              " 'Agaricus bitorquis',\n",
              " 'Macrolepiota mastoidea',\n",
              " 'Agaricus bitorquis',\n",
              " 'Agaricus arvensis',\n",
              " 'Amanita citrina',\n",
              " 'Russula chloroides',\n",
              " 'Amanita citrina',\n",
              " 'Agaricus sylvaticus',\n",
              " 'Boletus satanas',\n",
              " 'Suillus luteus',\n",
              " 'Agaricus bitorquis',\n",
              " 'Agaricus bitorquis',\n",
              " 'Agaricus bitorquis',\n",
              " 'Agaricus arvensis',\n",
              " 'Agaricus bitorquis',\n",
              " 'Amanita citrina',\n",
              " 'Macrolepiota procera',\n",
              " 'Agaricus bitorquis',\n",
              " 'Agaricus bitorquis',\n",
              " 'Pleurotus eryngii',\n",
              " 'Amanita citrina',\n",
              " 'Morchella elata',\n",
              " 'Agaricus bitorquis',\n",
              " 'Agaricus bitorquis',\n",
              " 'Macrolepiota procera',\n",
              " 'Agaricus bitorquis',\n",
              " 'Agaricus bitorquis',\n",
              " 'Agaricus bitorquis',\n",
              " 'Agaricus bitorquis',\n",
              " 'Agaricus bitorquis',\n",
              " 'Agaricus bitorquis',\n",
              " 'Agaricus bitorquis',\n",
              " 'Agaricus bitorquis',\n",
              " 'Agaricus bitorquis',\n",
              " 'Agaricus bitorquis',\n",
              " 'Boletus aestivalis',\n",
              " 'Clitocybe odora',\n",
              " 'Agaricus bitorquis',\n",
              " 'Agaricus arvensis',\n",
              " 'Agaricus campestris',\n",
              " 'Agaricus campestris',\n",
              " 'Agaricus campestris',\n",
              " 'Agaricus campestris',\n",
              " 'Agaricus campestris',\n",
              " 'Agaricus campestris',\n",
              " 'Agaricus arvensis',\n",
              " 'Agaricus campestris',\n",
              " 'Agaricus campestris',\n",
              " 'Agaricus campestris',\n",
              " 'Agaricus campestris',\n",
              " 'Tricholoma columbetta',\n",
              " 'Agaricus campestris',\n",
              " 'Russula vesca',\n",
              " 'Agaricus campestris',\n",
              " 'Agaricus campestris',\n",
              " 'Agaricus campestris',\n",
              " 'Agaricus arvensis',\n",
              " 'Macrolepiota mastoidea',\n",
              " 'Agaricus campestris',\n",
              " 'Agaricus campestris',\n",
              " 'Agaricus campestris',\n",
              " 'Amanita citrina',\n",
              " 'Agaricus campestris',\n",
              " 'Lactarius sanguifluus',\n",
              " 'Agaricus sylvaticus',\n",
              " 'Agaricus campestris',\n",
              " 'Agaricus campestris',\n",
              " 'Agaricus campestris',\n",
              " 'Agaricus campestris',\n",
              " 'Agaricus campestris',\n",
              " 'Agaricus arvensis',\n",
              " 'Agaricus campestris',\n",
              " 'Agaricus arvensis',\n",
              " 'Agaricus campestris',\n",
              " 'Agaricus campestris',\n",
              " 'Agaricus campestris',\n",
              " 'Agaricus campestris',\n",
              " 'Agaricus sylvaticus',\n",
              " 'Agaricus campestris',\n",
              " 'Agaricus campestris',\n",
              " 'Agaricus arvensis',\n",
              " 'Agaricus campestris',\n",
              " 'Cratarellus cornucopioide',\n",
              " 'Agaricus campestris',\n",
              " 'Agaricus campestris',\n",
              " 'Agaricus campestris',\n",
              " 'Macrolepiota procera',\n",
              " 'Agaricus campestris',\n",
              " 'Agaricus campestris',\n",
              " 'Agaricus campestris',\n",
              " 'Russula vesca',\n",
              " 'Russula vesca',\n",
              " 'Russula vesca',\n",
              " 'Agaricus campestris',\n",
              " 'Russula vesca',\n",
              " 'Macrolepiota procera',\n",
              " 'Agaricus campestris',\n",
              " 'Agaricus campestris',\n",
              " 'Agaricus campestris',\n",
              " 'Amanita citrina',\n",
              " 'Agaricus campestris',\n",
              " 'Agaricus campestris',\n",
              " 'Lactarius controversus',\n",
              " 'Agaricus campestris',\n",
              " 'Agaricus campestris',\n",
              " 'Clitocybe gibba',\n",
              " 'Clitocybe odora',\n",
              " 'Lepista nuda',\n",
              " 'Russula cyanoxantha',\n",
              " 'Agaricus sylvaticus',\n",
              " 'Agaricus bitorquis',\n",
              " 'Pleurotus eryngii',\n",
              " 'Macrolepiota procera',\n",
              " 'Agaricus sylvaticus',\n",
              " 'Boletus aestivalis',\n",
              " 'Clitocybe gibba',\n",
              " 'Boletus aestivalis',\n",
              " 'Agaricus sylvaticus',\n",
              " 'Agaricus sylvaticus',\n",
              " 'Russula cyanoxantha',\n",
              " 'Agaricus sylvaticus',\n",
              " 'Boletus aereus',\n",
              " 'Boletus aereus',\n",
              " 'Russula vesca',\n",
              " 'Agaricus campestris',\n",
              " 'Lepista nuda',\n",
              " 'Clitocybe gibba',\n",
              " 'Agaricus sylvaticus',\n",
              " 'Amanita citrina',\n",
              " 'Agaricus sylvaticus',\n",
              " 'Agaricus sylvaticus',\n",
              " 'Lactarius sanguifluus',\n",
              " 'Agaricus sylvaticus',\n",
              " 'Agaricus sylvaticus',\n",
              " 'Boletus aereus',\n",
              " 'Agaricus sylvaticus',\n",
              " 'Agaricus sylvaticus',\n",
              " 'Agaricus sylvaticus',\n",
              " 'Russula vesca',\n",
              " 'Clitocybe gibba',\n",
              " 'Agaricus sylvaticus',\n",
              " 'Lactarius sanguifluus',\n",
              " 'Agaricus sylvaticus',\n",
              " 'Agaricus sylvaticus',\n",
              " 'Clitocybe gibba',\n",
              " 'Macrolepiota procera',\n",
              " 'Amanita pantherina',\n",
              " 'Clitocybe gibba',\n",
              " 'Agaricus bitorquis',\n",
              " 'Macrolepiota procera',\n",
              " 'Russula cyanoxantha',\n",
              " 'Pleurotus eryngii',\n",
              " 'Clitocybe gibba',\n",
              " 'Agaricus sylvaticus',\n",
              " 'Boletus satanas',\n",
              " 'Agaricus bitorquis',\n",
              " 'Agaricus sylvaticus',\n",
              " 'Agaricus sylvaticus',\n",
              " 'Agaricus campestris',\n",
              " 'Pleurotus eryngii',\n",
              " 'Amanita pantherina',\n",
              " 'Agaricus campestris',\n",
              " 'Macrolepiota mastoidea',\n",
              " 'Amanita pantherina',\n",
              " 'Lepista nuda',\n",
              " 'Macrolepiota mastoidea',\n",
              " 'Agaricus arvensis',\n",
              " 'Agaricus sylvaticus',\n",
              " 'Boletus luridus',\n",
              " 'Agaricus sylvaticus',\n",
              " 'Agaricus sylvaticus',\n",
              " 'Agaricus sylvaticus',\n",
              " 'Agaricus sylvaticus',\n",
              " 'Agaricus sylvaticus',\n",
              " 'Agaricus sylvaticus',\n",
              " 'Agaricus sylvaticus',\n",
              " 'Agaricus arvensis',\n",
              " 'Amanita pantherina',\n",
              " 'Agaricus sylvaticus',\n",
              " 'Agaricus sylvaticus',\n",
              " 'Amanita curtipes',\n",
              " 'Agaricus bitorquis',\n",
              " 'Amanita citrina',\n",
              " 'Agaricus sylvaticus',\n",
              " 'Macrolepiota procera',\n",
              " 'Amanita caesarea',\n",
              " 'Amanita caesarea',\n",
              " 'Amanita caesarea',\n",
              " 'Amanita caesarea',\n",
              " 'Amanita caesarea',\n",
              " 'Amanita caesarea',\n",
              " 'Amanita caesarea',\n",
              " 'Amanita caesarea',\n",
              " 'Amanita caesarea',\n",
              " 'Boletus erythropus',\n",
              " 'Amanita caesarea',\n",
              " 'Amanita caesarea',\n",
              " 'Amanita caesarea',\n",
              " 'Amanita caesarea',\n",
              " 'Amanita caesarea',\n",
              " 'Amanita caesarea',\n",
              " 'Amanita caesarea',\n",
              " 'Cantharellus cibarius',\n",
              " 'Amanita caesarea',\n",
              " 'Amanita caesarea',\n",
              " 'Amanita caesarea',\n",
              " 'Amanita caesarea',\n",
              " 'Amanita caesarea',\n",
              " 'Boletus satanas',\n",
              " 'Boletus satanas',\n",
              " 'Amanita caesarea',\n",
              " 'Amanita caesarea',\n",
              " 'Amanita muscaria',\n",
              " 'Amanita muscaria',\n",
              " 'Boletus aestivalis',\n",
              " 'Boletus erythropus',\n",
              " 'Boletus erythropus',\n",
              " 'Boletus erythropus',\n",
              " 'Amanita caesarea',\n",
              " 'Boletus edulis',\n",
              " 'Russula vesca',\n",
              " 'Amanita muscaria',\n",
              " 'Amanita caesarea',\n",
              " 'Boletus luridus',\n",
              " 'Boletus luridus',\n",
              " 'Cratarellus lutescens',\n",
              " 'Amanita caesarea',\n",
              " 'Amanita caesarea',\n",
              " 'Amanita caesarea',\n",
              " 'Amanita caesarea',\n",
              " 'Amanita caesarea',\n",
              " 'Cratarellus lutescens',\n",
              " 'Amanita caesarea',\n",
              " 'Amanita caesarea',\n",
              " 'Amanita caesarea',\n",
              " 'Amanita caesarea',\n",
              " 'Amanita caesarea',\n",
              " 'Amanita caesarea',\n",
              " 'Amanita caesarea',\n",
              " 'Boletus erythropus',\n",
              " 'Amanita caesarea',\n",
              " 'Amanita phalloides',\n",
              " 'Amanita pantherina',\n",
              " 'Lactarius rufus',\n",
              " 'Cantharellus cibarius',\n",
              " 'Amanita citrina',\n",
              " 'Amanita citrina',\n",
              " 'Amanita citrina',\n",
              " 'Clitocybe odora',\n",
              " 'Amanita citrina',\n",
              " 'Amanita citrina',\n",
              " 'Amanita citrina',\n",
              " 'Amanita citrina',\n",
              " 'Clitocybe odora',\n",
              " 'Amanita citrina',\n",
              " 'Amanita citrina',\n",
              " 'Amanita citrina',\n",
              " 'Amanita citrina',\n",
              " 'Amanita citrina',\n",
              " 'Agaricus arvensis',\n",
              " 'Amanita citrina',\n",
              " 'Amanita citrina',\n",
              " 'Agaricus campestris',\n",
              " 'Boletus luridus',\n",
              " 'Amanita phalloides',\n",
              " 'Amanita citrina',\n",
              " 'Amanita citrina',\n",
              " 'Amanita citrina',\n",
              " 'Amanita citrina',\n",
              " 'Macrolepiota mastoidea',\n",
              " 'Amanita citrina',\n",
              " 'Agaricus campestris',\n",
              " 'Agaricus arvensis',\n",
              " 'Sparasis crispa',\n",
              " 'Amanita citrina',\n",
              " 'Amanita citrina',\n",
              " 'Amanita citrina',\n",
              " 'Amanita citrina',\n",
              " 'Amanita citrina',\n",
              " 'Amanita citrina',\n",
              " 'Amanita citrina',\n",
              " 'Amanita citrina',\n",
              " 'Amanita citrina',\n",
              " 'Amanita citrina',\n",
              " 'Amanita citrina',\n",
              " 'Amanita citrina',\n",
              " 'Amanita citrina',\n",
              " 'Amanita citrina',\n",
              " 'Amanita phalloides',\n",
              " 'Amanita citrina',\n",
              " 'Macrolepiota procera',\n",
              " 'Russula vesca',\n",
              " 'Amanita citrina',\n",
              " 'Agaricus arvensis',\n",
              " 'Amanita citrina',\n",
              " 'Amanita citrina',\n",
              " 'Boletus aestivalis',\n",
              " 'Amanita citrina',\n",
              " 'Tricholoma columbetta',\n",
              " 'Macrolepiota procera',\n",
              " 'Amanita citrina',\n",
              " 'Amanita citrina',\n",
              " 'Agaricus sylvaticus',\n",
              " 'Amanita citrina',\n",
              " 'Amanita citrina',\n",
              " 'Amanita muscaria',\n",
              " 'Amanita citrina',\n",
              " 'Agaricus arvensis',\n",
              " 'Amanita citrina',\n",
              " 'Agaricus arvensis',\n",
              " 'Clitocybe gibba',\n",
              " 'Amanita citrina',\n",
              " 'Amanita curtipes',\n",
              " 'Amanita pantherina',\n",
              " 'Agaricus arvensis',\n",
              " 'Amanita citrina',\n",
              " 'Amanita citrina',\n",
              " 'Agaricus arvensis',\n",
              " 'Pleurotus ostreatus',\n",
              " 'Russula vesca',\n",
              " 'Russula vesca',\n",
              " 'Amanita curtipes',\n",
              " 'Russula cyanoxantha',\n",
              " 'Amanita curtipes',\n",
              " 'Amanita curtipes',\n",
              " 'Lactarius controversus',\n",
              " 'Amanita curtipes',\n",
              " 'Amanita curtipes',\n",
              " 'Agaricus campestris',\n",
              " 'Amanita curtipes',\n",
              " 'Amanita citrina',\n",
              " 'Amanita curtipes',\n",
              " 'Amanita curtipes',\n",
              " 'Lepista nuda',\n",
              " 'Lactarius controversus',\n",
              " 'Amanita curtipes',\n",
              " 'Amanita curtipes',\n",
              " 'Agaricus arvensis',\n",
              " 'Amanita curtipes',\n",
              " 'Tuber aestivum',\n",
              " 'Amanita curtipes',\n",
              " 'Agaricus arvensis',\n",
              " 'Amanita citrina',\n",
              " 'Amanita curtipes',\n",
              " 'Boletus edulis',\n",
              " 'Amanita curtipes',\n",
              " 'Amanita citrina',\n",
              " 'Amanita curtipes',\n",
              " 'Russula chloroides',\n",
              " 'Pleurotus ostreatus',\n",
              " 'Amanita curtipes',\n",
              " 'Amanita curtipes',\n",
              " 'Amanita curtipes',\n",
              " 'Amanita curtipes',\n",
              " 'Marasmius oreades',\n",
              " 'Agaricus sylvaticus',\n",
              " 'Amanita pantherina',\n",
              " 'Russula chloroides',\n",
              " 'Amanita curtipes',\n",
              " 'Sparasis crispa',\n",
              " 'Amanita curtipes',\n",
              " 'Amanita curtipes',\n",
              " 'Amanita curtipes',\n",
              " 'Amanita curtipes',\n",
              " 'Amanita curtipes',\n",
              " 'Amanita curtipes',\n",
              " 'Amanita curtipes',\n",
              " 'Lactarius rufus',\n",
              " 'Agaricus arvensis',\n",
              " 'Lepista nuda',\n",
              " 'Macrolepiota mastoidea',\n",
              " 'Russula chloroides',\n",
              " 'Amanita curtipes',\n",
              " 'Amanita curtipes',\n",
              " 'Amanita curtipes',\n",
              " 'Amanita curtipes',\n",
              " 'Agaricus bitorquis',\n",
              " 'Amanita curtipes',\n",
              " 'Boletus pinophilus',\n",
              " 'Amanita curtipes',\n",
              " 'Amanita curtipes',\n",
              " 'Amanita curtipes',\n",
              " 'Agaricus campestris',\n",
              " 'Amanita curtipes',\n",
              " 'Amanita curtipes',\n",
              " 'Boletus aereus',\n",
              " 'Lactarius rufus',\n",
              " 'Lactarius rufus',\n",
              " 'Tricholoma columbetta',\n",
              " 'Amanita curtipes',\n",
              " 'Amanita curtipes',\n",
              " 'Marasmius oreades',\n",
              " 'Amanita curtipes',\n",
              " 'Amanita curtipes',\n",
              " 'Lactarius controversus',\n",
              " 'Amanita phalloides',\n",
              " 'Amanita muscaria',\n",
              " 'Amanita muscaria',\n",
              " 'Amanita muscaria',\n",
              " 'Amanita caesarea',\n",
              " 'Amanita caesarea',\n",
              " 'Amanita caesarea',\n",
              " 'Boletus erythropus',\n",
              " 'Amanita muscaria',\n",
              " 'Amanita muscaria',\n",
              " 'Amanita muscaria',\n",
              " 'Amanita muscaria',\n",
              " 'Amanita muscaria',\n",
              " 'Boletus satanas',\n",
              " 'Amanita muscaria',\n",
              " 'Amanita muscaria',\n",
              " 'Amanita muscaria',\n",
              " 'Amanita muscaria',\n",
              " 'Boletus satanas',\n",
              " 'Amanita muscaria',\n",
              " 'Amanita muscaria',\n",
              " 'Amanita muscaria',\n",
              " 'Amanita muscaria',\n",
              " 'Amanita muscaria',\n",
              " 'Amanita muscaria',\n",
              " 'Boletus erythropus',\n",
              " 'Boletus satanas',\n",
              " 'Amanita muscaria',\n",
              " 'Amanita muscaria',\n",
              " 'Amanita muscaria',\n",
              " 'Amanita muscaria',\n",
              " 'Amanita muscaria',\n",
              " 'Amanita muscaria',\n",
              " 'Amanita muscaria',\n",
              " 'Amanita muscaria',\n",
              " 'Amanita muscaria',\n",
              " 'Amanita muscaria',\n",
              " 'Amanita muscaria',\n",
              " 'Amanita muscaria',\n",
              " 'Boletus erythropus',\n",
              " 'Terfecia leptoderma',\n",
              " 'Boletus erythropus',\n",
              " 'Boletus edulis',\n",
              " 'Boletus aereus',\n",
              " 'Amanita muscaria',\n",
              " 'Boletus pinophilus',\n",
              " 'Amanita muscaria',\n",
              " 'Amanita muscaria',\n",
              " 'Amanita curtipes',\n",
              " 'Amanita curtipes',\n",
              " 'Amanita muscaria',\n",
              " 'Amanita muscaria',\n",
              " 'Amanita muscaria',\n",
              " 'Amanita muscaria',\n",
              " 'Amanita muscaria',\n",
              " 'Clitocybe gibba',\n",
              " 'Amanita muscaria',\n",
              " 'Ganoderma lucidum',\n",
              " 'Ganoderma lucidum',\n",
              " 'Amanita caesarea',\n",
              " 'Amanita muscaria',\n",
              " 'Amanita muscaria',\n",
              " 'Amanita muscaria',\n",
              " 'Russula vesca',\n",
              " 'Amanita muscaria',\n",
              " 'Amanita muscaria',\n",
              " 'Amanita muscaria',\n",
              " 'Amanita muscaria',\n",
              " 'Amanita muscaria',\n",
              " 'Amanita muscaria',\n",
              " 'Amanita muscaria',\n",
              " 'Russula vesca',\n",
              " 'Amanita muscaria',\n",
              " 'Amanita muscaria',\n",
              " 'Amanita muscaria',\n",
              " 'Amanita muscaria',\n",
              " 'Amanita muscaria',\n",
              " 'Amanita muscaria',\n",
              " 'Amanita muscaria',\n",
              " 'Amanita muscaria',\n",
              " 'Amanita muscaria',\n",
              " 'Pleurotus eryngii',\n",
              " 'Amanita pantherina',\n",
              " 'Amanita phalloides',\n",
              " 'Amanita pantherina',\n",
              " 'Amanita pantherina',\n",
              " 'Boletus satanas',\n",
              " 'Amanita pantherina',\n",
              " 'Boletus aestivalis',\n",
              " 'Amanita pantherina',\n",
              " 'Amanita pantherina',\n",
              " 'Russula cyanoxantha',\n",
              " 'Amanita pantherina',\n",
              " 'Amanita pantherina',\n",
              " 'Russula vesca',\n",
              " 'Amanita pantherina',\n",
              " 'Amanita phalloides',\n",
              " 'Macrolepiota mastoidea',\n",
              " 'Amanita pantherina',\n",
              " 'Agaricus sylvaticus',\n",
              " 'Lepista nuda',\n",
              " 'Amanita pantherina',\n",
              " 'Amanita pantherina',\n",
              " 'Amanita pantherina',\n",
              " 'Amanita muscaria',\n",
              " 'Amanita pantherina',\n",
              " 'Boletus aestivalis',\n",
              " 'Russula cyanoxantha',\n",
              " 'Amanita muscaria',\n",
              " 'Macrolepiota procera',\n",
              " 'Amanita citrina',\n",
              " 'Amanita pantherina',\n",
              " 'Amanita pantherina',\n",
              " 'Macrolepiota procera',\n",
              " 'Agaricus sylvaticus',\n",
              " 'Macrolepiota mastoidea',\n",
              " 'Amanita pantherina',\n",
              " 'Amanita pantherina',\n",
              " 'Amanita pantherina',\n",
              " 'Amanita pantherina',\n",
              " 'Macrolepiota mastoidea',\n",
              " 'Amanita pantherina',\n",
              " 'Amanita pantherina',\n",
              " 'Macrolepiota mastoidea',\n",
              " 'Amanita pantherina',\n",
              " 'Lactarius rufus',\n",
              " 'Amanita pantherina',\n",
              " 'Amanita pantherina',\n",
              " 'Amanita pantherina',\n",
              " 'Amanita pantherina',\n",
              " 'Amanita pantherina',\n",
              " 'Amanita pantherina',\n",
              " 'Amanita pantherina',\n",
              " 'Amanita pantherina',\n",
              " 'Amanita pantherina',\n",
              " 'Amanita pantherina',\n",
              " 'Amanita pantherina',\n",
              " 'Amanita pantherina',\n",
              " 'Amanita phalloides',\n",
              " 'Amanita pantherina',\n",
              " 'Amanita pantherina',\n",
              " 'Amanita pantherina',\n",
              " 'Amanita pantherina',\n",
              " 'Amanita pantherina',\n",
              " 'Amanita pantherina',\n",
              " 'Amanita pantherina',\n",
              " 'Amanita citrina',\n",
              " 'Amanita pantherina',\n",
              " 'Amanita phalloides',\n",
              " 'Amanita pantherina',\n",
              " 'Amanita pantherina',\n",
              " 'Amanita phalloides',\n",
              " 'Suillus luteus',\n",
              " 'Amanita phalloides',\n",
              " 'Amanita citrina',\n",
              " 'Amanita pantherina',\n",
              " 'Amanita citrina',\n",
              " 'Amanita phalloides',\n",
              " 'Amanita pantherina',\n",
              " 'Amanita citrina',\n",
              " 'Amanita phalloides',\n",
              " 'Amanita phalloides',\n",
              " 'Amanita citrina',\n",
              " 'Cratarellus lutescens',\n",
              " 'Amanita phalloides',\n",
              " 'Amanita pantherina',\n",
              " 'Tricholoma equestre',\n",
              " 'Amanita phalloides',\n",
              " 'Amanita phalloides',\n",
              " 'Amanita phalloides',\n",
              " 'Amanita phalloides',\n",
              " 'Boletus luridus',\n",
              " 'Amanita citrina',\n",
              " 'Amanita citrina',\n",
              " 'Amanita phalloides',\n",
              " 'Amanita phalloides',\n",
              " 'Amanita phalloides',\n",
              " 'Agaricus arvensis',\n",
              " 'Boletus edulis',\n",
              " 'Amanita phalloides',\n",
              " 'Macrolepiota mastoidea',\n",
              " 'Amanita phalloides',\n",
              " 'Amanita phalloides',\n",
              " 'Amanita citrina',\n",
              " 'Amanita phalloides',\n",
              " 'Macrolepiota procera',\n",
              " 'Amanita phalloides',\n",
              " 'Amanita phalloides',\n",
              " 'Marasmius oreades',\n",
              " 'Macrolepiota mastoidea',\n",
              " 'Amanita phalloides',\n",
              " 'Amanita citrina',\n",
              " 'Amanita phalloides',\n",
              " 'Macrolepiota procera',\n",
              " 'Amanita phalloides',\n",
              " 'Amanita phalloides',\n",
              " 'Amanita phalloides',\n",
              " 'Cantharellus cibarius',\n",
              " 'Amanita phalloides',\n",
              " 'Amanita phalloides',\n",
              " 'Amanita phalloides',\n",
              " 'Amanita phalloides',\n",
              " 'Amanita curtipes',\n",
              " 'Amanita phalloides',\n",
              " 'Amanita phalloides',\n",
              " 'Amanita phalloides',\n",
              " 'Amanita phalloides',\n",
              " 'Amanita phalloides',\n",
              " 'Tricholoma columbetta',\n",
              " 'Agaricus arvensis',\n",
              " 'Amanita citrina',\n",
              " 'Amanita citrina',\n",
              " 'Amanita phalloides',\n",
              " 'Amanita phalloides',\n",
              " 'Amanita phalloides',\n",
              " 'Macrolepiota mastoidea',\n",
              " 'Amanita citrina',\n",
              " 'Amanita phalloides',\n",
              " 'Pleurotus ostreatus',\n",
              " 'Amanita phalloides',\n",
              " 'Amanita phalloides',\n",
              " 'Boletus aereus',\n",
              " 'Boletus aereus',\n",
              " 'Boletus aereus',\n",
              " 'Boletus aereus',\n",
              " 'Boletus aereus',\n",
              " 'Boletus aereus',\n",
              " 'Boletus aereus',\n",
              " 'Boletus luridus',\n",
              " 'Boletus aereus',\n",
              " 'Boletus aereus',\n",
              " 'Sparasis crispa',\n",
              " 'Boletus aereus',\n",
              " 'Boletus aereus',\n",
              " 'Boletus aereus',\n",
              " 'Boletus aereus',\n",
              " 'Amanita citrina',\n",
              " 'Boletus pinophilus',\n",
              " 'Boletus aereus',\n",
              " 'Clitocybe gibba',\n",
              " 'Boletus aereus',\n",
              " 'Boletus edulis',\n",
              " 'Boletus aereus',\n",
              " 'Boletus aereus',\n",
              " 'Boletus erythropus',\n",
              " 'Boletus aereus',\n",
              " 'Boletus aereus',\n",
              " 'Boletus aereus',\n",
              " 'Boletus aereus',\n",
              " 'Boletus aereus',\n",
              " 'Boletus aereus',\n",
              " 'Boletus edulis',\n",
              " 'Boletus edulis',\n",
              " 'Boletus edulis',\n",
              " 'Boletus edulis',\n",
              " 'Boletus aereus',\n",
              " 'Boletus erythropus',\n",
              " 'Boletus aereus',\n",
              " 'Boletus edulis',\n",
              " 'Boletus pinophilus',\n",
              " 'Boletus aestivalis',\n",
              " 'Agaricus sylvaticus',\n",
              " 'Agaricus arvensis',\n",
              " 'Boletus edulis',\n",
              " 'Boletus aereus',\n",
              " 'Boletus aereus',\n",
              " 'Boletus edulis',\n",
              " 'Boletus aereus',\n",
              " 'Lactarius sanguifluus',\n",
              " 'Boletus aereus',\n",
              " 'Boletus aereus',\n",
              " 'Lactarius rufus',\n",
              " 'Boletus aereus',\n",
              " 'Amanita pantherina',\n",
              " 'Amanita pantherina',\n",
              " 'Amanita pantherina',\n",
              " 'Amanita caesarea',\n",
              " 'Boletus aereus',\n",
              " 'Boletus aereus',\n",
              " 'Amanita muscaria',\n",
              " 'Boletus aereus',\n",
              " 'Boletus edulis',\n",
              " 'Morchella esculenta',\n",
              " 'Boletus aereus',\n",
              " 'Boletus aereus',\n",
              " 'Agaricus arvensis',\n",
              " 'Boletus edulis',\n",
              " 'Clitocybe gibba',\n",
              " 'Boletus pinophilus',\n",
              " 'Morchella vulgaris',\n",
              " 'Boletus erythropus',\n",
              " 'Boletus aereus',\n",
              " 'Boletus aereus',\n",
              " 'Boletus aestivalis',\n",
              " 'Boletus aestivalis',\n",
              " 'Morchella vulgaris',\n",
              " 'Sparasis crispa',\n",
              " 'Boletus aestivalis',\n",
              " 'Marasmius oreades',\n",
              " 'Boletus edulis',\n",
              " 'Lactarius deliciosus',\n",
              " 'Boletus edulis',\n",
              " 'Boletus edulis',\n",
              " 'Boletus edulis',\n",
              " 'Boletus aereus',\n",
              " 'Boletus aestivalis',\n",
              " 'Boletus aestivalis',\n",
              " 'Pleurotus eryngii',\n",
              " 'Boletus aestivalis',\n",
              " 'Boletus aereus',\n",
              " 'Clitocybe odora',\n",
              " 'Amanita pantherina',\n",
              " 'Macrolepiota procera',\n",
              " 'Pleurotus ostreatus',\n",
              " 'Boletus aestivalis',\n",
              " 'Boletus aestivalis',\n",
              " 'Boletus aestivalis',\n",
              " 'Boletus aestivalis',\n",
              " 'Morchella vulgaris',\n",
              " 'Boletus aestivalis',\n",
              " 'Boletus aestivalis',\n",
              " 'Boletus aestivalis',\n",
              " 'Boletus aestivalis',\n",
              " 'Clitocybe gibba',\n",
              " 'Morchella elata',\n",
              " 'Boletus aestivalis',\n",
              " 'Boletus aestivalis',\n",
              " 'Boletus aestivalis',\n",
              " 'Boletus aestivalis',\n",
              " 'Boletus aestivalis',\n",
              " 'Macrolepiota procera',\n",
              " 'Boletus pinophilus',\n",
              " 'Boletus aestivalis',\n",
              " 'Boletus aestivalis',\n",
              " 'Boletus aestivalis',\n",
              " 'Boletus aestivalis',\n",
              " 'Boletus aestivalis',\n",
              " 'Boletus erythropus',\n",
              " 'Lactarius deliciosus',\n",
              " 'Russula vesca',\n",
              " 'Boletus aestivalis',\n",
              " 'Boletus aestivalis',\n",
              " 'Boletus pinophilus',\n",
              " 'Amanita pantherina',\n",
              " 'Boletus aestivalis',\n",
              " 'Boletus aestivalis',\n",
              " 'Boletus aestivalis',\n",
              " 'Boletus aestivalis',\n",
              " 'Morchella vulgaris',\n",
              " 'Boletus aestivalis',\n",
              " 'Boletus aestivalis',\n",
              " 'Agaricus arvensis',\n",
              " 'Morchella vulgaris',\n",
              " 'Clitocybe gibba',\n",
              " 'Morchella elata',\n",
              " 'Boletus aestivalis',\n",
              " 'Amanita citrina',\n",
              " 'Amanita phalloides',\n",
              " 'Boletus aestivalis',\n",
              " 'Boletus aereus',\n",
              " 'Boletus aestivalis',\n",
              " 'Boletus aestivalis',\n",
              " 'Lactarius sanguifluus',\n",
              " 'Boletus aestivalis',\n",
              " 'Boletus edulis',\n",
              " 'Boletus aereus',\n",
              " 'Boletus aestivalis',\n",
              " 'Macrolepiota procera',\n",
              " 'Boletus aestivalis',\n",
              " 'Macrolepiota procera',\n",
              " 'Boletus aestivalis',\n",
              " 'Boletus aestivalis',\n",
              " 'Lactarius rufus',\n",
              " 'Boletus aereus',\n",
              " 'Boletus aereus',\n",
              " 'Boletus edulis',\n",
              " 'Boletus aereus',\n",
              " 'Boletus aereus',\n",
              " 'Boletus aereus',\n",
              " 'Boletus edulis',\n",
              " 'Boletus edulis',\n",
              " 'Boletus aereus',\n",
              " 'Boletus aereus',\n",
              " 'Russula cyanoxantha',\n",
              " 'Boletus edulis',\n",
              " 'Boletus edulis',\n",
              " 'Boletus edulis',\n",
              " 'Boletus edulis',\n",
              " 'Boletus pinophilus',\n",
              " 'Boletus edulis',\n",
              " 'Russula cyanoxantha',\n",
              " 'Boletus edulis',\n",
              " 'Boletus edulis',\n",
              " 'Amanita phalloides',\n",
              " 'Boletus edulis',\n",
              " 'Amanita phalloides',\n",
              " 'Boletus edulis',\n",
              " 'Boletus aereus',\n",
              " 'Boletus aereus',\n",
              " 'Boletus aereus',\n",
              " 'Boletus aereus',\n",
              " 'Boletus edulis',\n",
              " 'Sparasis crispa',\n",
              " 'Lactarius sanguifluus',\n",
              " 'Boletus edulis',\n",
              " 'Boletus aereus',\n",
              " 'Boletus aereus',\n",
              " 'Boletus pinophilus',\n",
              " 'Boletus pinophilus',\n",
              " 'Lactarius rufus',\n",
              " 'Lactarius sanguifluus',\n",
              " 'Boletus aereus',\n",
              " 'Clitocybe gibba',\n",
              " 'Macrolepiota procera',\n",
              " 'Agaricus bitorquis',\n",
              " 'Boletus edulis',\n",
              " 'Boletus aestivalis',\n",
              " 'Boletus edulis',\n",
              " 'Agaricus arvensis',\n",
              " 'Clitocybe gibba',\n",
              " 'Boletus aestivalis',\n",
              " 'Boletus edulis',\n",
              " 'Boletus aestivalis',\n",
              " 'Boletus aestivalis',\n",
              " 'Boletus edulis',\n",
              " 'Boletus edulis',\n",
              " 'Boletus edulis',\n",
              " 'Pleurotus eryngii',\n",
              " 'Boletus satanas',\n",
              " 'Boletus edulis',\n",
              " 'Boletus edulis',\n",
              " 'Boletus edulis',\n",
              " 'Boletus edulis',\n",
              " 'Boletus satanas',\n",
              " 'Amanita caesarea',\n",
              " 'Boletus edulis',\n",
              " 'Boletus edulis',\n",
              " 'Boletus edulis',\n",
              " 'Russula vesca',\n",
              " 'Boletus aereus',\n",
              " 'Boletus aereus',\n",
              " 'Boletus aereus',\n",
              " 'Boletus edulis',\n",
              " 'Boletus edulis',\n",
              " 'Amanita phalloides',\n",
              " 'Boletus edulis',\n",
              " 'Clitocybe odora',\n",
              " 'Boletus erythropus',\n",
              " 'Boletus pinophilus',\n",
              " 'Boletus erythropus',\n",
              " 'Boletus erythropus',\n",
              " 'Boletus erythropus',\n",
              " 'Boletus erythropus',\n",
              " 'Boletus luridus',\n",
              " 'Boletus erythropus',\n",
              " 'Boletus erythropus',\n",
              " 'Boletus erythropus',\n",
              " 'Boletus satanas',\n",
              " 'Boletus erythropus',\n",
              " 'Boletus luridus',\n",
              " 'Boletus erythropus',\n",
              " 'Boletus erythropus',\n",
              " 'Boletus erythropus',\n",
              " 'Amanita muscaria',\n",
              " 'Boletus erythropus',\n",
              " 'Boletus erythropus',\n",
              " 'Amanita caesarea',\n",
              " 'Boletus erythropus',\n",
              " 'Boletus erythropus',\n",
              " 'Lactarius rufus',\n",
              " 'Boletus erythropus',\n",
              " 'Boletus erythropus',\n",
              " 'Boletus aereus',\n",
              " 'Boletus aereus',\n",
              " 'Boletus erythropus',\n",
              " 'Amanita phalloides',\n",
              " 'Boletus edulis',\n",
              " 'Boletus pinophilus',\n",
              " 'Boletus erythropus',\n",
              " 'Boletus erythropus',\n",
              " 'Boletus erythropus',\n",
              " 'Boletus erythropus',\n",
              " 'Boletus erythropus',\n",
              " 'Boletus erythropus',\n",
              " 'Boletus erythropus',\n",
              " 'Lactarius rufus',\n",
              " 'Lactarius sanguifluus',\n",
              " 'Boletus erythropus',\n",
              " 'Boletus aereus',\n",
              " 'Boletus erythropus',\n",
              " 'Russula vesca',\n",
              " 'Boletus erythropus',\n",
              " 'Boletus erythropus',\n",
              " 'Boletus aereus',\n",
              " ...]"
            ]
          },
          "metadata": {
            "tags": []
          },
          "execution_count": 53
        }
      ]
    },
    {
      "cell_type": "code",
      "metadata": {
        "id": "rheWFsiDiYEF",
        "colab": {
          "base_uri": "https://localhost:8080/"
        },
        "outputId": "98d36f2e-c64f-4c3e-e42f-594c8fa25db6"
      },
      "source": [
        "test_labels"
      ],
      "execution_count": null,
      "outputs": [
        {
          "output_type": "execute_result",
          "data": {
            "text/plain": [
              "array(['Agaricus arvensis', 'Agaricus arvensis', 'Agaricus arvensis', ...,\n",
              "       'Tuber melanosporum', 'Tuber melanosporum', 'Tuber melanosporum'],\n",
              "      dtype='<U25')"
            ]
          },
          "metadata": {
            "tags": []
          },
          "execution_count": 54
        }
      ]
    },
    {
      "cell_type": "code",
      "metadata": {
        "colab": {
          "resources": {
            "http://localhost:8080/nbextensions/google.colab/files.js": {
              "data": "Ly8gQ29weXJpZ2h0IDIwMTcgR29vZ2xlIExMQwovLwovLyBMaWNlbnNlZCB1bmRlciB0aGUgQXBhY2hlIExpY2Vuc2UsIFZlcnNpb24gMi4wICh0aGUgIkxpY2Vuc2UiKTsKLy8geW91IG1heSBub3QgdXNlIHRoaXMgZmlsZSBleGNlcHQgaW4gY29tcGxpYW5jZSB3aXRoIHRoZSBMaWNlbnNlLgovLyBZb3UgbWF5IG9idGFpbiBhIGNvcHkgb2YgdGhlIExpY2Vuc2UgYXQKLy8KLy8gICAgICBodHRwOi8vd3d3LmFwYWNoZS5vcmcvbGljZW5zZXMvTElDRU5TRS0yLjAKLy8KLy8gVW5sZXNzIHJlcXVpcmVkIGJ5IGFwcGxpY2FibGUgbGF3IG9yIGFncmVlZCB0byBpbiB3cml0aW5nLCBzb2Z0d2FyZQovLyBkaXN0cmlidXRlZCB1bmRlciB0aGUgTGljZW5zZSBpcyBkaXN0cmlidXRlZCBvbiBhbiAiQVMgSVMiIEJBU0lTLAovLyBXSVRIT1VUIFdBUlJBTlRJRVMgT1IgQ09ORElUSU9OUyBPRiBBTlkgS0lORCwgZWl0aGVyIGV4cHJlc3Mgb3IgaW1wbGllZC4KLy8gU2VlIHRoZSBMaWNlbnNlIGZvciB0aGUgc3BlY2lmaWMgbGFuZ3VhZ2UgZ292ZXJuaW5nIHBlcm1pc3Npb25zIGFuZAovLyBsaW1pdGF0aW9ucyB1bmRlciB0aGUgTGljZW5zZS4KCi8qKgogKiBAZmlsZW92ZXJ2aWV3IEhlbHBlcnMgZm9yIGdvb2dsZS5jb2xhYiBQeXRob24gbW9kdWxlLgogKi8KKGZ1bmN0aW9uKHNjb3BlKSB7CmZ1bmN0aW9uIHNwYW4odGV4dCwgc3R5bGVBdHRyaWJ1dGVzID0ge30pIHsKICBjb25zdCBlbGVtZW50ID0gZG9jdW1lbnQuY3JlYXRlRWxlbWVudCgnc3BhbicpOwogIGVsZW1lbnQudGV4dENvbnRlbnQgPSB0ZXh0OwogIGZvciAoY29uc3Qga2V5IG9mIE9iamVjdC5rZXlzKHN0eWxlQXR0cmlidXRlcykpIHsKICAgIGVsZW1lbnQuc3R5bGVba2V5XSA9IHN0eWxlQXR0cmlidXRlc1trZXldOwogIH0KICByZXR1cm4gZWxlbWVudDsKfQoKLy8gTWF4IG51bWJlciBvZiBieXRlcyB3aGljaCB3aWxsIGJlIHVwbG9hZGVkIGF0IGEgdGltZS4KY29uc3QgTUFYX1BBWUxPQURfU0laRSA9IDEwMCAqIDEwMjQ7CgpmdW5jdGlvbiBfdXBsb2FkRmlsZXMoaW5wdXRJZCwgb3V0cHV0SWQpIHsKICBjb25zdCBzdGVwcyA9IHVwbG9hZEZpbGVzU3RlcChpbnB1dElkLCBvdXRwdXRJZCk7CiAgY29uc3Qgb3V0cHV0RWxlbWVudCA9IGRvY3VtZW50LmdldEVsZW1lbnRCeUlkKG91dHB1dElkKTsKICAvLyBDYWNoZSBzdGVwcyBvbiB0aGUgb3V0cHV0RWxlbWVudCB0byBtYWtlIGl0IGF2YWlsYWJsZSBmb3IgdGhlIG5leHQgY2FsbAogIC8vIHRvIHVwbG9hZEZpbGVzQ29udGludWUgZnJvbSBQeXRob24uCiAgb3V0cHV0RWxlbWVudC5zdGVwcyA9IHN0ZXBzOwoKICByZXR1cm4gX3VwbG9hZEZpbGVzQ29udGludWUob3V0cHV0SWQpOwp9CgovLyBUaGlzIGlzIHJvdWdobHkgYW4gYXN5bmMgZ2VuZXJhdG9yIChub3Qgc3VwcG9ydGVkIGluIHRoZSBicm93c2VyIHlldCksCi8vIHdoZXJlIHRoZXJlIGFyZSBtdWx0aXBsZSBhc3luY2hyb25vdXMgc3RlcHMgYW5kIHRoZSBQeXRob24gc2lkZSBpcyBnb2luZwovLyB0byBwb2xsIGZvciBjb21wbGV0aW9uIG9mIGVhY2ggc3RlcC4KLy8gVGhpcyB1c2VzIGEgUHJvbWlzZSB0byBibG9jayB0aGUgcHl0aG9uIHNpZGUgb24gY29tcGxldGlvbiBvZiBlYWNoIHN0ZXAsCi8vIHRoZW4gcGFzc2VzIHRoZSByZXN1bHQgb2YgdGhlIHByZXZpb3VzIHN0ZXAgYXMgdGhlIGlucHV0IHRvIHRoZSBuZXh0IHN0ZXAuCmZ1bmN0aW9uIF91cGxvYWRGaWxlc0NvbnRpbnVlKG91dHB1dElkKSB7CiAgY29uc3Qgb3V0cHV0RWxlbWVudCA9IGRvY3VtZW50LmdldEVsZW1lbnRCeUlkKG91dHB1dElkKTsKICBjb25zdCBzdGVwcyA9IG91dHB1dEVsZW1lbnQuc3RlcHM7CgogIGNvbnN0IG5leHQgPSBzdGVwcy5uZXh0KG91dHB1dEVsZW1lbnQubGFzdFByb21pc2VWYWx1ZSk7CiAgcmV0dXJuIFByb21pc2UucmVzb2x2ZShuZXh0LnZhbHVlLnByb21pc2UpLnRoZW4oKHZhbHVlKSA9PiB7CiAgICAvLyBDYWNoZSB0aGUgbGFzdCBwcm9taXNlIHZhbHVlIHRvIG1ha2UgaXQgYXZhaWxhYmxlIHRvIHRoZSBuZXh0CiAgICAvLyBzdGVwIG9mIHRoZSBnZW5lcmF0b3IuCiAgICBvdXRwdXRFbGVtZW50Lmxhc3RQcm9taXNlVmFsdWUgPSB2YWx1ZTsKICAgIHJldHVybiBuZXh0LnZhbHVlLnJlc3BvbnNlOwogIH0pOwp9CgovKioKICogR2VuZXJhdG9yIGZ1bmN0aW9uIHdoaWNoIGlzIGNhbGxlZCBiZXR3ZWVuIGVhY2ggYXN5bmMgc3RlcCBvZiB0aGUgdXBsb2FkCiAqIHByb2Nlc3MuCiAqIEBwYXJhbSB7c3RyaW5nfSBpbnB1dElkIEVsZW1lbnQgSUQgb2YgdGhlIGlucHV0IGZpbGUgcGlja2VyIGVsZW1lbnQuCiAqIEBwYXJhbSB7c3RyaW5nfSBvdXRwdXRJZCBFbGVtZW50IElEIG9mIHRoZSBvdXRwdXQgZGlzcGxheS4KICogQHJldHVybiB7IUl0ZXJhYmxlPCFPYmplY3Q+fSBJdGVyYWJsZSBvZiBuZXh0IHN0ZXBzLgogKi8KZnVuY3Rpb24qIHVwbG9hZEZpbGVzU3RlcChpbnB1dElkLCBvdXRwdXRJZCkgewogIGNvbnN0IGlucHV0RWxlbWVudCA9IGRvY3VtZW50LmdldEVsZW1lbnRCeUlkKGlucHV0SWQpOwogIGlucHV0RWxlbWVudC5kaXNhYmxlZCA9IGZhbHNlOwoKICBjb25zdCBvdXRwdXRFbGVtZW50ID0gZG9jdW1lbnQuZ2V0RWxlbWVudEJ5SWQob3V0cHV0SWQpOwogIG91dHB1dEVsZW1lbnQuaW5uZXJIVE1MID0gJyc7CgogIGNvbnN0IHBpY2tlZFByb21pc2UgPSBuZXcgUHJvbWlzZSgocmVzb2x2ZSkgPT4gewogICAgaW5wdXRFbGVtZW50LmFkZEV2ZW50TGlzdGVuZXIoJ2NoYW5nZScsIChlKSA9PiB7CiAgICAgIHJlc29sdmUoZS50YXJnZXQuZmlsZXMpOwogICAgfSk7CiAgfSk7CgogIGNvbnN0IGNhbmNlbCA9IGRvY3VtZW50LmNyZWF0ZUVsZW1lbnQoJ2J1dHRvbicpOwogIGlucHV0RWxlbWVudC5wYXJlbnRFbGVtZW50LmFwcGVuZENoaWxkKGNhbmNlbCk7CiAgY2FuY2VsLnRleHRDb250ZW50ID0gJ0NhbmNlbCB1cGxvYWQnOwogIGNvbnN0IGNhbmNlbFByb21pc2UgPSBuZXcgUHJvbWlzZSgocmVzb2x2ZSkgPT4gewogICAgY2FuY2VsLm9uY2xpY2sgPSAoKSA9PiB7CiAgICAgIHJlc29sdmUobnVsbCk7CiAgICB9OwogIH0pOwoKICAvLyBXYWl0IGZvciB0aGUgdXNlciB0byBwaWNrIHRoZSBmaWxlcy4KICBjb25zdCBmaWxlcyA9IHlpZWxkIHsKICAgIHByb21pc2U6IFByb21pc2UucmFjZShbcGlja2VkUHJvbWlzZSwgY2FuY2VsUHJvbWlzZV0pLAogICAgcmVzcG9uc2U6IHsKICAgICAgYWN0aW9uOiAnc3RhcnRpbmcnLAogICAgfQogIH07CgogIGNhbmNlbC5yZW1vdmUoKTsKCiAgLy8gRGlzYWJsZSB0aGUgaW5wdXQgZWxlbWVudCBzaW5jZSBmdXJ0aGVyIHBpY2tzIGFyZSBub3QgYWxsb3dlZC4KICBpbnB1dEVsZW1lbnQuZGlzYWJsZWQgPSB0cnVlOwoKICBpZiAoIWZpbGVzKSB7CiAgICByZXR1cm4gewogICAgICByZXNwb25zZTogewogICAgICAgIGFjdGlvbjogJ2NvbXBsZXRlJywKICAgICAgfQogICAgfTsKICB9CgogIGZvciAoY29uc3QgZmlsZSBvZiBmaWxlcykgewogICAgY29uc3QgbGkgPSBkb2N1bWVudC5jcmVhdGVFbGVtZW50KCdsaScpOwogICAgbGkuYXBwZW5kKHNwYW4oZmlsZS5uYW1lLCB7Zm9udFdlaWdodDogJ2JvbGQnfSkpOwogICAgbGkuYXBwZW5kKHNwYW4oCiAgICAgICAgYCgke2ZpbGUudHlwZSB8fCAnbi9hJ30pIC0gJHtmaWxlLnNpemV9IGJ5dGVzLCBgICsKICAgICAgICBgbGFzdCBtb2RpZmllZDogJHsKICAgICAgICAgICAgZmlsZS5sYXN0TW9kaWZpZWREYXRlID8gZmlsZS5sYXN0TW9kaWZpZWREYXRlLnRvTG9jYWxlRGF0ZVN0cmluZygpIDoKICAgICAgICAgICAgICAgICAgICAgICAgICAgICAgICAgICAgJ24vYSd9IC0gYCkpOwogICAgY29uc3QgcGVyY2VudCA9IHNwYW4oJzAlIGRvbmUnKTsKICAgIGxpLmFwcGVuZENoaWxkKHBlcmNlbnQpOwoKICAgIG91dHB1dEVsZW1lbnQuYXBwZW5kQ2hpbGQobGkpOwoKICAgIGNvbnN0IGZpbGVEYXRhUHJvbWlzZSA9IG5ldyBQcm9taXNlKChyZXNvbHZlKSA9PiB7CiAgICAgIGNvbnN0IHJlYWRlciA9IG5ldyBGaWxlUmVhZGVyKCk7CiAgICAgIHJlYWRlci5vbmxvYWQgPSAoZSkgPT4gewogICAgICAgIHJlc29sdmUoZS50YXJnZXQucmVzdWx0KTsKICAgICAgfTsKICAgICAgcmVhZGVyLnJlYWRBc0FycmF5QnVmZmVyKGZpbGUpOwogICAgfSk7CiAgICAvLyBXYWl0IGZvciB0aGUgZGF0YSB0byBiZSByZWFkeS4KICAgIGxldCBmaWxlRGF0YSA9IHlpZWxkIHsKICAgICAgcHJvbWlzZTogZmlsZURhdGFQcm9taXNlLAogICAgICByZXNwb25zZTogewogICAgICAgIGFjdGlvbjogJ2NvbnRpbnVlJywKICAgICAgfQogICAgfTsKCiAgICAvLyBVc2UgYSBjaHVua2VkIHNlbmRpbmcgdG8gYXZvaWQgbWVzc2FnZSBzaXplIGxpbWl0cy4gU2VlIGIvNjIxMTU2NjAuCiAgICBsZXQgcG9zaXRpb24gPSAwOwogICAgd2hpbGUgKHBvc2l0aW9uIDwgZmlsZURhdGEuYnl0ZUxlbmd0aCkgewogICAgICBjb25zdCBsZW5ndGggPSBNYXRoLm1pbihmaWxlRGF0YS5ieXRlTGVuZ3RoIC0gcG9zaXRpb24sIE1BWF9QQVlMT0FEX1NJWkUpOwogICAgICBjb25zdCBjaHVuayA9IG5ldyBVaW50OEFycmF5KGZpbGVEYXRhLCBwb3NpdGlvbiwgbGVuZ3RoKTsKICAgICAgcG9zaXRpb24gKz0gbGVuZ3RoOwoKICAgICAgY29uc3QgYmFzZTY0ID0gYnRvYShTdHJpbmcuZnJvbUNoYXJDb2RlLmFwcGx5KG51bGwsIGNodW5rKSk7CiAgICAgIHlpZWxkIHsKICAgICAgICByZXNwb25zZTogewogICAgICAgICAgYWN0aW9uOiAnYXBwZW5kJywKICAgICAgICAgIGZpbGU6IGZpbGUubmFtZSwKICAgICAgICAgIGRhdGE6IGJhc2U2NCwKICAgICAgICB9LAogICAgICB9OwogICAgICBwZXJjZW50LnRleHRDb250ZW50ID0KICAgICAgICAgIGAke01hdGgucm91bmQoKHBvc2l0aW9uIC8gZmlsZURhdGEuYnl0ZUxlbmd0aCkgKiAxMDApfSUgZG9uZWA7CiAgICB9CiAgfQoKICAvLyBBbGwgZG9uZS4KICB5aWVsZCB7CiAgICByZXNwb25zZTogewogICAgICBhY3Rpb246ICdjb21wbGV0ZScsCiAgICB9CiAgfTsKfQoKc2NvcGUuZ29vZ2xlID0gc2NvcGUuZ29vZ2xlIHx8IHt9OwpzY29wZS5nb29nbGUuY29sYWIgPSBzY29wZS5nb29nbGUuY29sYWIgfHwge307CnNjb3BlLmdvb2dsZS5jb2xhYi5fZmlsZXMgPSB7CiAgX3VwbG9hZEZpbGVzLAogIF91cGxvYWRGaWxlc0NvbnRpbnVlLAp9Owp9KShzZWxmKTsK",
              "ok": true,
              "headers": [
                [
                  "content-type",
                  "application/javascript"
                ]
              ],
              "status": 200,
              "status_text": "OK"
            }
          },
          "base_uri": "https://localhost:8080/",
          "height": 73
        },
        "id": "lYAgXnLFSzLA",
        "outputId": "c4d9cc45-c69e-4942-9de9-3dad7becb500"
      },
      "source": [
        "#### vamos a comprobar con una imagen aletaria que cojo de google.\n",
        "\n",
        "import numpy as np\n",
        "from google.colab import files\n",
        "\n",
        "uploaded=files.upload()\n",
        "\n"
      ],
      "execution_count": null,
      "outputs": [
        {
          "output_type": "display_data",
          "data": {
            "text/html": [
              "\n",
              "     <input type=\"file\" id=\"files-9976ef51-6798-41b3-8870-2a5625d545ba\" name=\"files[]\" multiple disabled\n",
              "        style=\"border:none\" />\n",
              "     <output id=\"result-9976ef51-6798-41b3-8870-2a5625d545ba\">\n",
              "      Upload widget is only available when the cell has been executed in the\n",
              "      current browser session. Please rerun this cell to enable.\n",
              "      </output>\n",
              "      <script src=\"/nbextensions/google.colab/files.js\"></script> "
            ],
            "text/plain": [
              "<IPython.core.display.HTML object>"
            ]
          },
          "metadata": {
            "tags": []
          }
        },
        {
          "output_type": "stream",
          "text": [
            "Saving unnamed.jpg to unnamed.jpg\n"
          ],
          "name": "stdout"
        }
      ]
    },
    {
      "cell_type": "code",
      "metadata": {
        "id": "Cuvaqm4CU4EB"
      },
      "source": [
        "route ='/content/istockphoto-1015452220-612x612.jpg'\n",
        "route1 = '/content/images.jpeg'\n",
        "route2 = '/content/images.jpeg'\n",
        "route3 = '/content/maxresdefault.jpg'\n",
        "route4 = '/content/Amanita_phalloides.jpg'\n",
        "route5 = '/content/unnamed.jpg'\n",
        "image_rgb=io.imread(route)/255.0\n",
        "image_rgb1=io.imread(route1)/255.0\n",
        "image_rgb2=io.imread(route2)/255.0\n",
        "image_rgb3=io.imread(route3)/255.0\n",
        "image_rgb4=io.imread(route4)/255.0\n",
        "image_rgb5=io.imread(route5)/255.0"
      ],
      "execution_count": null,
      "outputs": []
    },
    {
      "cell_type": "code",
      "metadata": {
        "id": "X4_FMEg6Wqll"
      },
      "source": [
        "data_picture = cv2.resize(image_rgb, (28, 28))\n",
        "data_picture1 = cv2.resize(image_rgb1, (28, 28))\n",
        "data_picture2 = cv2.resize(image_rgb2, (28, 28))\n",
        "data_picture3 = cv2.resize(image_rgb3, (28, 28))\n",
        "data_picture4 = cv2.resize(image_rgb4, (28, 28))\n",
        "data_picture5 = cv2.resize(image_rgb5, (28, 28))"
      ],
      "execution_count": null,
      "outputs": []
    },
    {
      "cell_type": "markdown",
      "metadata": {
        "id": "CNeDum7uX7HC"
      },
      "source": [
        ""
      ]
    },
    {
      "cell_type": "code",
      "metadata": {
        "id": "sL3cvlulXQRn"
      },
      "source": [
        "pictures = np.array([data_picture,data_picture1,data_picture2,data_picture3,data_picture5])"
      ],
      "execution_count": null,
      "outputs": []
    },
    {
      "cell_type": "code",
      "metadata": {
        "colab": {
          "base_uri": "https://localhost:8080/"
        },
        "id": "ILUJFQCgWPPo",
        "outputId": "991b0049-bd8b-4a6e-f6fc-20017f196623"
      },
      "source": [
        "# predecimos la clase\n",
        "\n",
        "pred_photos = model.predict_proba(pictures)"
      ],
      "execution_count": null,
      "outputs": [
        {
          "output_type": "stream",
          "text": [
            "/usr/local/lib/python3.7/dist-packages/tensorflow/python/keras/engine/sequential.py:425: UserWarning: `model.predict_proba()` is deprecated and will be removed after 2021-01-01. Please use `model.predict()` instead.\n",
            "  warnings.warn('`model.predict_proba()` is deprecated and '\n"
          ],
          "name": "stderr"
        }
      ]
    },
    {
      "cell_type": "code",
      "metadata": {
        "id": "nQOs287M0ENP"
      },
      "source": [
        "pred_p"
      ],
      "execution_count": null,
      "outputs": []
    },
    {
      "cell_type": "code",
      "metadata": {
        "colab": {
          "base_uri": "https://localhost:8080/",
          "height": 400
        },
        "id": "ev68LPKpZzc2",
        "outputId": "43b29c51-0b3b-4a20-9e43-015187b455f4"
      },
      "source": [
        "df = pd.DataFrame(pred_photos[4], columns = ['probabilities'])\n",
        "df['labels']=l2\n",
        "df_sort = df.sort_values('probabilities',ascending = False)[0:3]\n",
        "plt.bar(df_sort['labels'],df_sort['probabilities'])\n",
        "df_sort"
      ],
      "execution_count": null,
      "outputs": [
        {
          "output_type": "execute_result",
          "data": {
            "text/html": [
              "<div>\n",
              "<style scoped>\n",
              "    .dataframe tbody tr th:only-of-type {\n",
              "        vertical-align: middle;\n",
              "    }\n",
              "\n",
              "    .dataframe tbody tr th {\n",
              "        vertical-align: top;\n",
              "    }\n",
              "\n",
              "    .dataframe thead th {\n",
              "        text-align: right;\n",
              "    }\n",
              "</style>\n",
              "<table border=\"1\" class=\"dataframe\">\n",
              "  <thead>\n",
              "    <tr style=\"text-align: right;\">\n",
              "      <th></th>\n",
              "      <th>probabilities</th>\n",
              "      <th>labels</th>\n",
              "    </tr>\n",
              "  </thead>\n",
              "  <tbody>\n",
              "    <tr>\n",
              "      <th>15</th>\n",
              "      <td>0.232629</td>\n",
              "      <td>Boletus pinophilus</td>\n",
              "    </tr>\n",
              "    <tr>\n",
              "      <th>2</th>\n",
              "      <td>0.121061</td>\n",
              "      <td>Agaricus campestris</td>\n",
              "    </tr>\n",
              "    <tr>\n",
              "      <th>34</th>\n",
              "      <td>0.100236</td>\n",
              "      <td>Pleurotus eryngii</td>\n",
              "    </tr>\n",
              "  </tbody>\n",
              "</table>\n",
              "</div>"
            ],
            "text/plain": [
              "    probabilities               labels\n",
              "15       0.232629   Boletus pinophilus\n",
              "2        0.121061  Agaricus campestris\n",
              "34       0.100236    Pleurotus eryngii"
            ]
          },
          "metadata": {
            "tags": []
          },
          "execution_count": 113
        },
        {
          "output_type": "display_data",
          "data": {
            "image/png": "[encoded data removed]",
            "text/plain": [
              "<Figure size 432x288 with 1 Axes>"
            ]
          },
          "metadata": {
            "tags": [],
            "needs_background": "light"
          }
        }
      ]
    },
    {
      "cell_type": "code",
      "metadata": {
        "id": "nyqLcmWyZ8Oe"
      },
      "source": [
        "predictions=[]\n",
        "for i in pred_photos:\n",
        "  predictions.append(d.get(i))"
      ],
      "execution_count": null,
      "outputs": []
    },
    {
      "cell_type": "code",
      "metadata": {
        "colab": {
          "base_uri": "https://localhost:8080/"
        },
        "id": "TkFpjqpJaDV0",
        "outputId": "64db5db9-9a19-472a-f392-e48acd41187d"
      },
      "source": [
        "predictions"
      ],
      "execution_count": null,
      "outputs": [
        {
          "output_type": "execute_result",
          "data": {
            "text/plain": [
              "['Amanita muscaria',\n",
              " 'Amanita muscaria',\n",
              " 'Amanita muscaria',\n",
              " 'Agaricus arvensis']"
            ]
          },
          "metadata": {
            "tags": []
          },
          "execution_count": 62
        }
      ]
    },
    {
      "cell_type": "markdown",
      "metadata": {
        "id": "PvPA6ilIlnDa"
      },
      "source": [
        "### Evaluating the test data"
      ]
    },
    {
      "cell_type": "code",
      "metadata": {
        "colab": {
          "base_uri": "https://localhost:8080/"
        },
        "id": "EptHuyVEhi0k",
        "outputId": "c26f9abe-e15e-40cd-b974-424c7a299348"
      },
      "source": [
        "target_names"
      ],
      "execution_count": null,
      "outputs": [
        {
          "output_type": "execute_result",
          "data": {
            "text/plain": [
              "0               Agaricus arvensis\n",
              "74             Agaricus bitorquis\n",
              "130           Agaricus campestris\n",
              "212           Agaricus sylvaticus\n",
              "290              Amanita caesarea\n",
              "361               Amanita citrina\n",
              "434              Amanita curtipes\n",
              "512              Amanita muscaria\n",
              "587            Amanita pantherina\n",
              "663            Amanita phalloides\n",
              "741                Boletus aereus\n",
              "823            Boletus aestivalis\n",
              "892                Boletus edulis\n",
              "964            Boletus erythropus\n",
              "1033              Boletus luridus\n",
              "1107           Boletus pinophilus\n",
              "1170              Boletus satanas\n",
              "1248        Cantharellus cibarius\n",
              "1321              Clitocybe gibba\n",
              "1404              Clitocybe odora\n",
              "1472    Cratarellus cornucopioide\n",
              "1551        Cratarellus lutescens\n",
              "1629            Ganoderma lucidum\n",
              "1710       Lactarius controversus\n",
              "1787         Lactarius deliciosus\n",
              "1873              Lactarius rufus\n",
              "1949        Lactarius sanguifluus\n",
              "2024                 Lepista nuda\n",
              "2095       Macrolepiota mastoidea\n",
              "2171         Macrolepiota procera\n",
              "2237            Marasmius oreades\n",
              "2306              Morchella elata\n",
              "2387          Morchella esculenta\n",
              "2483           Morchella vulgaris\n",
              "2564            Pleurotus eryngii\n",
              "2639          Pleurotus ostreatus\n",
              "2714           Russula chloroides\n",
              "2742          Russula cyanoxantha\n",
              "2817                Russula vesca\n",
              "2894              Sparasis crispa\n",
              "2975               Suillus luteus\n",
              "3057          Terfecia leptoderma\n",
              "3131        Tricholoma columbetta\n",
              "3203          Tricholoma equestre\n",
              "3285       Tricholoma portentosum\n",
              "3363               Tuber aestivum\n",
              "3453                Tuber brumale\n",
              "3527           Tuber melanosporum\n",
              "dtype: object"
            ]
          },
          "metadata": {
            "tags": []
          },
          "execution_count": 88
        }
      ]
    },
    {
      "cell_type": "code",
      "metadata": {
        "colab": {
          "base_uri": "https://localhost:8080/"
        },
        "id": "5sBW92Ed8vzW",
        "outputId": "f31c30a9-d749-41c7-f91f-bc47648d50c0"
      },
      "source": [
        "predictions"
      ],
      "execution_count": null,
      "outputs": [
        {
          "output_type": "execute_result",
          "data": {
            "text/plain": [
              "['Amanita muscaria', 'Amanita muscaria']"
            ]
          },
          "metadata": {
            "tags": []
          },
          "execution_count": 89
        }
      ]
    },
    {
      "cell_type": "code",
      "metadata": {
        "id": "D4Yi-3jyfCKj",
        "colab": {
          "base_uri": "https://localhost:8080/",
          "height": 348
        },
        "outputId": "027f0a3c-d5fb-465d-fda6-dc80018a4eea"
      },
      "source": [
        "from sklearn.metrics import confusion_matrix\n",
        "\n",
        "\n",
        "cm=confusion_matrix(test_labels, predictions, labels=target_names)"
      ],
      "execution_count": null,
      "outputs": [
        {
          "output_type": "error",
          "ename": "ValueError",
          "evalue": "ignored",
          "traceback": [
            "\u001b[0;31m---------------------------------------------------------------------------\u001b[0m",
            "\u001b[0;31mValueError\u001b[0m                                Traceback (most recent call last)",
            "\u001b[0;32m<ipython-input-90-0da080ed6d97>\u001b[0m in \u001b[0;36m<module>\u001b[0;34m()\u001b[0m\n\u001b[1;32m      2\u001b[0m \u001b[0;34m\u001b[0m\u001b[0m\n\u001b[1;32m      3\u001b[0m \u001b[0;34m\u001b[0m\u001b[0m\n\u001b[0;32m----> 4\u001b[0;31m \u001b[0mcm\u001b[0m\u001b[0;34m=\u001b[0m\u001b[0mconfusion_matrix\u001b[0m\u001b[0;34m(\u001b[0m\u001b[0mtest_labels\u001b[0m\u001b[0;34m,\u001b[0m \u001b[0mpredictions\u001b[0m\u001b[0;34m,\u001b[0m \u001b[0mlabels\u001b[0m\u001b[0;34m=\u001b[0m\u001b[0mtarget_names\u001b[0m\u001b[0;34m)\u001b[0m\u001b[0;34m\u001b[0m\u001b[0;34m\u001b[0m\u001b[0m\n\u001b[0m",
            "\u001b[0;32m/usr/local/lib/python3.7/dist-packages/sklearn/metrics/_classification.py\u001b[0m in \u001b[0;36mconfusion_matrix\u001b[0;34m(y_true, y_pred, labels, sample_weight, normalize)\u001b[0m\n\u001b[1;32m    266\u001b[0m \u001b[0;34m\u001b[0m\u001b[0m\n\u001b[1;32m    267\u001b[0m     \"\"\"\n\u001b[0;32m--> 268\u001b[0;31m     \u001b[0my_type\u001b[0m\u001b[0;34m,\u001b[0m \u001b[0my_true\u001b[0m\u001b[0;34m,\u001b[0m \u001b[0my_pred\u001b[0m \u001b[0;34m=\u001b[0m \u001b[0m_check_targets\u001b[0m\u001b[0;34m(\u001b[0m\u001b[0my_true\u001b[0m\u001b[0;34m,\u001b[0m \u001b[0my_pred\u001b[0m\u001b[0;34m)\u001b[0m\u001b[0;34m\u001b[0m\u001b[0;34m\u001b[0m\u001b[0m\n\u001b[0m\u001b[1;32m    269\u001b[0m     \u001b[0;32mif\u001b[0m \u001b[0my_type\u001b[0m \u001b[0;32mnot\u001b[0m \u001b[0;32min\u001b[0m \u001b[0;34m(\u001b[0m\u001b[0;34m\"binary\"\u001b[0m\u001b[0;34m,\u001b[0m \u001b[0;34m\"multiclass\"\u001b[0m\u001b[0;34m)\u001b[0m\u001b[0;34m:\u001b[0m\u001b[0;34m\u001b[0m\u001b[0;34m\u001b[0m\u001b[0m\n\u001b[1;32m    270\u001b[0m         \u001b[0;32mraise\u001b[0m \u001b[0mValueError\u001b[0m\u001b[0;34m(\u001b[0m\u001b[0;34m\"%s is not supported\"\u001b[0m \u001b[0;34m%\u001b[0m \u001b[0my_type\u001b[0m\u001b[0;34m)\u001b[0m\u001b[0;34m\u001b[0m\u001b[0;34m\u001b[0m\u001b[0m\n",
            "\u001b[0;32m/usr/local/lib/python3.7/dist-packages/sklearn/metrics/_classification.py\u001b[0m in \u001b[0;36m_check_targets\u001b[0;34m(y_true, y_pred)\u001b[0m\n\u001b[1;32m     78\u001b[0m     \u001b[0my_pred\u001b[0m \u001b[0;34m:\u001b[0m \u001b[0marray\u001b[0m \u001b[0;32mor\u001b[0m \u001b[0mindicator\u001b[0m \u001b[0mmatrix\u001b[0m\u001b[0;34m\u001b[0m\u001b[0;34m\u001b[0m\u001b[0m\n\u001b[1;32m     79\u001b[0m     \"\"\"\n\u001b[0;32m---> 80\u001b[0;31m     \u001b[0mcheck_consistent_length\u001b[0m\u001b[0;34m(\u001b[0m\u001b[0my_true\u001b[0m\u001b[0;34m,\u001b[0m \u001b[0my_pred\u001b[0m\u001b[0;34m)\u001b[0m\u001b[0;34m\u001b[0m\u001b[0;34m\u001b[0m\u001b[0m\n\u001b[0m\u001b[1;32m     81\u001b[0m     \u001b[0mtype_true\u001b[0m \u001b[0;34m=\u001b[0m \u001b[0mtype_of_target\u001b[0m\u001b[0;34m(\u001b[0m\u001b[0my_true\u001b[0m\u001b[0;34m)\u001b[0m\u001b[0;34m\u001b[0m\u001b[0;34m\u001b[0m\u001b[0m\n\u001b[1;32m     82\u001b[0m     \u001b[0mtype_pred\u001b[0m \u001b[0;34m=\u001b[0m \u001b[0mtype_of_target\u001b[0m\u001b[0;34m(\u001b[0m\u001b[0my_pred\u001b[0m\u001b[0;34m)\u001b[0m\u001b[0;34m\u001b[0m\u001b[0;34m\u001b[0m\u001b[0m\n",
            "\u001b[0;32m/usr/local/lib/python3.7/dist-packages/sklearn/utils/validation.py\u001b[0m in \u001b[0;36mcheck_consistent_length\u001b[0;34m(*arrays)\u001b[0m\n\u001b[1;32m    210\u001b[0m     \u001b[0;32mif\u001b[0m \u001b[0mlen\u001b[0m\u001b[0;34m(\u001b[0m\u001b[0muniques\u001b[0m\u001b[0;34m)\u001b[0m \u001b[0;34m>\u001b[0m \u001b[0;36m1\u001b[0m\u001b[0;34m:\u001b[0m\u001b[0;34m\u001b[0m\u001b[0;34m\u001b[0m\u001b[0m\n\u001b[1;32m    211\u001b[0m         raise ValueError(\"Found input variables with inconsistent numbers of\"\n\u001b[0;32m--> 212\u001b[0;31m                          \" samples: %r\" % [int(l) for l in lengths])\n\u001b[0m\u001b[1;32m    213\u001b[0m \u001b[0;34m\u001b[0m\u001b[0m\n\u001b[1;32m    214\u001b[0m \u001b[0;34m\u001b[0m\u001b[0m\n",
            "\u001b[0;31mValueError\u001b[0m: Found input variables with inconsistent numbers of samples: [3589, 2]"
          ]
        }
      ]
    },
    {
      "cell_type": "code",
      "metadata": {
        "id": "7Zd6J5j6inqc",
        "colab": {
          "base_uri": "https://localhost:8080/",
          "height": 294
        },
        "outputId": "2d0fdefd-3fdf-4875-8713-1b2949481e73"
      },
      "source": [
        "sns.heatmap(cm,annot=True,cmap=\"YlGnBu\")"
      ],
      "execution_count": null,
      "outputs": [
        {
          "output_type": "execute_result",
          "data": {
            "text/plain": [
              "<matplotlib.axes._subplots.AxesSubplot at 0x7f55bde86e50>"
            ]
          },
          "metadata": {
            "tags": []
          },
          "execution_count": 133
        },
        {
          "output_type": "display_data",
          "data": {
            "image/png": "[encoded data removed]",
            "text/plain": [
              "<Figure size 432x288 with 2 Axes>"
            ]
          },
          "metadata": {
            "tags": [],
            "needs_background": "light"
          }
        }
      ]
    },
    {
      "cell_type": "code",
      "metadata": {
        "id": "USJFpBGEp7LJ",
        "colab": {
          "base_uri": "https://localhost:8080/"
        },
        "outputId": "e1796189-a224-48d5-8870-d96965a218e9"
      },
      "source": [
        ""
      ],
      "execution_count": null,
      "outputs": [
        {
          "output_type": "execute_result",
          "data": {
            "text/plain": [
              "28"
            ]
          },
          "metadata": {
            "tags": []
          },
          "execution_count": 80
        }
      ]
    }
  ]
}