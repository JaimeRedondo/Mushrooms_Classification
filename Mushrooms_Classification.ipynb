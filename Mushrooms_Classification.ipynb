{
  "nbformat": 4,
  "nbformat_minor": 0,
  "metadata": {
    "colab": {
      "name": "Mushrooms_Classification.ipynb",
      "provenance": [],
      "authorship_tag": "ABX9TyMhcmV+jJw3pya0Fa+AguWd",
      "include_colab_link": true
    },
    "kernelspec": {
      "name": "python3",
      "display_name": "Python 3"
    },
    "widgets": {
      "application/vnd.jupyter.widget-state+json": {
        "a16452a23e49466cb74570472c1c3602": {
          "model_module": "@jupyter-widgets/controls",
          "model_name": "HBoxModel",
          "state": {
            "_view_name": "HBoxView",
            "_dom_classes": [],
            "_model_name": "HBoxModel",
            "_view_module": "@jupyter-widgets/controls",
            "_model_module_version": "1.5.0",
            "_view_count": null,
            "_view_module_version": "1.5.0",
            "box_style": "",
            "layout": "IPY_MODEL_91cc142b5f8d4e25a0c2e1365b293561",
            "_model_module": "@jupyter-widgets/controls",
            "children": [
              "IPY_MODEL_cec0bc2ac9d6491ab5fb5a930543c0c4",
              "IPY_MODEL_7c89c245e756422a9daf675a45421651"
            ]
          }
        },
        "91cc142b5f8d4e25a0c2e1365b293561": {
          "model_module": "@jupyter-widgets/base",
          "model_name": "LayoutModel",
          "state": {
            "_view_name": "LayoutView",
            "grid_template_rows": null,
            "right": null,
            "justify_content": null,
            "_view_module": "@jupyter-widgets/base",
            "overflow": null,
            "_model_module_version": "1.2.0",
            "_view_count": null,
            "flex_flow": null,
            "width": null,
            "min_width": null,
            "border": null,
            "align_items": null,
            "bottom": null,
            "_model_module": "@jupyter-widgets/base",
            "top": null,
            "grid_column": null,
            "overflow_y": null,
            "overflow_x": null,
            "grid_auto_flow": null,
            "grid_area": null,
            "grid_template_columns": null,
            "flex": null,
            "_model_name": "LayoutModel",
            "justify_items": null,
            "grid_row": null,
            "max_height": null,
            "align_content": null,
            "visibility": null,
            "align_self": null,
            "height": null,
            "min_height": null,
            "padding": null,
            "grid_auto_rows": null,
            "grid_gap": null,
            "max_width": null,
            "order": null,
            "_view_module_version": "1.2.0",
            "grid_template_areas": null,
            "object_position": null,
            "object_fit": null,
            "grid_auto_columns": null,
            "margin": null,
            "display": null,
            "left": null
          }
        },
        "cec0bc2ac9d6491ab5fb5a930543c0c4": {
          "model_module": "@jupyter-widgets/controls",
          "model_name": "FloatProgressModel",
          "state": {
            "_view_name": "ProgressView",
            "style": "IPY_MODEL_c0069276169a41ab9138a8c3fb7328fa",
            "_dom_classes": [],
            "description": "100%",
            "_model_name": "FloatProgressModel",
            "bar_style": "success",
            "max": 10,
            "_view_module": "@jupyter-widgets/controls",
            "_model_module_version": "1.5.0",
            "value": 10,
            "_view_count": null,
            "_view_module_version": "1.5.0",
            "orientation": "horizontal",
            "min": 0,
            "description_tooltip": null,
            "_model_module": "@jupyter-widgets/controls",
            "layout": "IPY_MODEL_bc61f40be2c648ed8b5a3154abe2ceee"
          }
        },
        "7c89c245e756422a9daf675a45421651": {
          "model_module": "@jupyter-widgets/controls",
          "model_name": "HTMLModel",
          "state": {
            "_view_name": "HTMLView",
            "style": "IPY_MODEL_0d43590371bd486b864b49205ce247e5",
            "_dom_classes": [],
            "description": "",
            "_model_name": "HTMLModel",
            "placeholder": "​",
            "_view_module": "@jupyter-widgets/controls",
            "_model_module_version": "1.5.0",
            "value": " 10/10 [06:41&lt;00:00, 40.15s/it]",
            "_view_count": null,
            "_view_module_version": "1.5.0",
            "description_tooltip": null,
            "_model_module": "@jupyter-widgets/controls",
            "layout": "IPY_MODEL_f8096db236f74ebab8243ad440feeebf"
          }
        },
        "c0069276169a41ab9138a8c3fb7328fa": {
          "model_module": "@jupyter-widgets/controls",
          "model_name": "ProgressStyleModel",
          "state": {
            "_view_name": "StyleView",
            "_model_name": "ProgressStyleModel",
            "description_width": "initial",
            "_view_module": "@jupyter-widgets/base",
            "_model_module_version": "1.5.0",
            "_view_count": null,
            "_view_module_version": "1.2.0",
            "bar_color": null,
            "_model_module": "@jupyter-widgets/controls"
          }
        },
        "bc61f40be2c648ed8b5a3154abe2ceee": {
          "model_module": "@jupyter-widgets/base",
          "model_name": "LayoutModel",
          "state": {
            "_view_name": "LayoutView",
            "grid_template_rows": null,
            "right": null,
            "justify_content": null,
            "_view_module": "@jupyter-widgets/base",
            "overflow": null,
            "_model_module_version": "1.2.0",
            "_view_count": null,
            "flex_flow": null,
            "width": null,
            "min_width": null,
            "border": null,
            "align_items": null,
            "bottom": null,
            "_model_module": "@jupyter-widgets/base",
            "top": null,
            "grid_column": null,
            "overflow_y": null,
            "overflow_x": null,
            "grid_auto_flow": null,
            "grid_area": null,
            "grid_template_columns": null,
            "flex": null,
            "_model_name": "LayoutModel",
            "justify_items": null,
            "grid_row": null,
            "max_height": null,
            "align_content": null,
            "visibility": null,
            "align_self": null,
            "height": null,
            "min_height": null,
            "padding": null,
            "grid_auto_rows": null,
            "grid_gap": null,
            "max_width": null,
            "order": null,
            "_view_module_version": "1.2.0",
            "grid_template_areas": null,
            "object_position": null,
            "object_fit": null,
            "grid_auto_columns": null,
            "margin": null,
            "display": null,
            "left": null
          }
        },
        "0d43590371bd486b864b49205ce247e5": {
          "model_module": "@jupyter-widgets/controls",
          "model_name": "DescriptionStyleModel",
          "state": {
            "_view_name": "StyleView",
            "_model_name": "DescriptionStyleModel",
            "description_width": "",
            "_view_module": "@jupyter-widgets/base",
            "_model_module_version": "1.5.0",
            "_view_count": null,
            "_view_module_version": "1.2.0",
            "_model_module": "@jupyter-widgets/controls"
          }
        },
        "f8096db236f74ebab8243ad440feeebf": {
          "model_module": "@jupyter-widgets/base",
          "model_name": "LayoutModel",
          "state": {
            "_view_name": "LayoutView",
            "grid_template_rows": null,
            "right": null,
            "justify_content": null,
            "_view_module": "@jupyter-widgets/base",
            "overflow": null,
            "_model_module_version": "1.2.0",
            "_view_count": null,
            "flex_flow": null,
            "width": null,
            "min_width": null,
            "border": null,
            "align_items": null,
            "bottom": null,
            "_model_module": "@jupyter-widgets/base",
            "top": null,
            "grid_column": null,
            "overflow_y": null,
            "overflow_x": null,
            "grid_auto_flow": null,
            "grid_area": null,
            "grid_template_columns": null,
            "flex": null,
            "_model_name": "LayoutModel",
            "justify_items": null,
            "grid_row": null,
            "max_height": null,
            "align_content": null,
            "visibility": null,
            "align_self": null,
            "height": null,
            "min_height": null,
            "padding": null,
            "grid_auto_rows": null,
            "grid_gap": null,
            "max_width": null,
            "order": null,
            "_view_module_version": "1.2.0",
            "grid_template_areas": null,
            "object_position": null,
            "object_fit": null,
            "grid_auto_columns": null,
            "margin": null,
            "display": null,
            "left": null
          }
        },
        "1420b1bb1e164db49bc0a9445e9897ba": {
          "model_module": "@jupyter-widgets/controls",
          "model_name": "HBoxModel",
          "state": {
            "_view_name": "HBoxView",
            "_dom_classes": [],
            "_model_name": "HBoxModel",
            "_view_module": "@jupyter-widgets/controls",
            "_model_module_version": "1.5.0",
            "_view_count": null,
            "_view_module_version": "1.5.0",
            "box_style": "",
            "layout": "IPY_MODEL_f74ad6715178449d8eb1719883effee8",
            "_model_module": "@jupyter-widgets/controls",
            "children": [
              "IPY_MODEL_83e2dbe666b8451497af5006bcd1a369",
              "IPY_MODEL_86d5901832024fb8913dc72297843489"
            ]
          }
        },
        "f74ad6715178449d8eb1719883effee8": {
          "model_module": "@jupyter-widgets/base",
          "model_name": "LayoutModel",
          "state": {
            "_view_name": "LayoutView",
            "grid_template_rows": null,
            "right": null,
            "justify_content": null,
            "_view_module": "@jupyter-widgets/base",
            "overflow": null,
            "_model_module_version": "1.2.0",
            "_view_count": null,
            "flex_flow": null,
            "width": null,
            "min_width": null,
            "border": null,
            "align_items": null,
            "bottom": null,
            "_model_module": "@jupyter-widgets/base",
            "top": null,
            "grid_column": null,
            "overflow_y": null,
            "overflow_x": null,
            "grid_auto_flow": null,
            "grid_area": null,
            "grid_template_columns": null,
            "flex": null,
            "_model_name": "LayoutModel",
            "justify_items": null,
            "grid_row": null,
            "max_height": null,
            "align_content": null,
            "visibility": null,
            "align_self": null,
            "height": null,
            "min_height": null,
            "padding": null,
            "grid_auto_rows": null,
            "grid_gap": null,
            "max_width": null,
            "order": null,
            "_view_module_version": "1.2.0",
            "grid_template_areas": null,
            "object_position": null,
            "object_fit": null,
            "grid_auto_columns": null,
            "margin": null,
            "display": null,
            "left": null
          }
        },
        "83e2dbe666b8451497af5006bcd1a369": {
          "model_module": "@jupyter-widgets/controls",
          "model_name": "FloatProgressModel",
          "state": {
            "_view_name": "ProgressView",
            "style": "IPY_MODEL_7d8e2b9bc0ee430db179113927e154de",
            "_dom_classes": [],
            "description": "100%",
            "_model_name": "FloatProgressModel",
            "bar_style": "success",
            "max": 10,
            "_view_module": "@jupyter-widgets/controls",
            "_model_module_version": "1.5.0",
            "value": 10,
            "_view_count": null,
            "_view_module_version": "1.5.0",
            "orientation": "horizontal",
            "min": 0,
            "description_tooltip": null,
            "_model_module": "@jupyter-widgets/controls",
            "layout": "IPY_MODEL_fac267c4f2fc4e0e9ba5093e1ccfcc4a"
          }
        },
        "86d5901832024fb8913dc72297843489": {
          "model_module": "@jupyter-widgets/controls",
          "model_name": "HTMLModel",
          "state": {
            "_view_name": "HTMLView",
            "style": "IPY_MODEL_6a49aedfb6554d8589c84249288cb8f3",
            "_dom_classes": [],
            "description": "",
            "_model_name": "HTMLModel",
            "placeholder": "​",
            "_view_module": "@jupyter-widgets/controls",
            "_model_module_version": "1.5.0",
            "value": " 10/10 [00:00&lt;00:00, 93.86it/s]",
            "_view_count": null,
            "_view_module_version": "1.5.0",
            "description_tooltip": null,
            "_model_module": "@jupyter-widgets/controls",
            "layout": "IPY_MODEL_7cad52b54b014613b56787b8117fde05"
          }
        },
        "7d8e2b9bc0ee430db179113927e154de": {
          "model_module": "@jupyter-widgets/controls",
          "model_name": "ProgressStyleModel",
          "state": {
            "_view_name": "StyleView",
            "_model_name": "ProgressStyleModel",
            "description_width": "initial",
            "_view_module": "@jupyter-widgets/base",
            "_model_module_version": "1.5.0",
            "_view_count": null,
            "_view_module_version": "1.2.0",
            "bar_color": null,
            "_model_module": "@jupyter-widgets/controls"
          }
        },
        "fac267c4f2fc4e0e9ba5093e1ccfcc4a": {
          "model_module": "@jupyter-widgets/base",
          "model_name": "LayoutModel",
          "state": {
            "_view_name": "LayoutView",
            "grid_template_rows": null,
            "right": null,
            "justify_content": null,
            "_view_module": "@jupyter-widgets/base",
            "overflow": null,
            "_model_module_version": "1.2.0",
            "_view_count": null,
            "flex_flow": null,
            "width": null,
            "min_width": null,
            "border": null,
            "align_items": null,
            "bottom": null,
            "_model_module": "@jupyter-widgets/base",
            "top": null,
            "grid_column": null,
            "overflow_y": null,
            "overflow_x": null,
            "grid_auto_flow": null,
            "grid_area": null,
            "grid_template_columns": null,
            "flex": null,
            "_model_name": "LayoutModel",
            "justify_items": null,
            "grid_row": null,
            "max_height": null,
            "align_content": null,
            "visibility": null,
            "align_self": null,
            "height": null,
            "min_height": null,
            "padding": null,
            "grid_auto_rows": null,
            "grid_gap": null,
            "max_width": null,
            "order": null,
            "_view_module_version": "1.2.0",
            "grid_template_areas": null,
            "object_position": null,
            "object_fit": null,
            "grid_auto_columns": null,
            "margin": null,
            "display": null,
            "left": null
          }
        },
        "6a49aedfb6554d8589c84249288cb8f3": {
          "model_module": "@jupyter-widgets/controls",
          "model_name": "DescriptionStyleModel",
          "state": {
            "_view_name": "StyleView",
            "_model_name": "DescriptionStyleModel",
            "description_width": "",
            "_view_module": "@jupyter-widgets/base",
            "_model_module_version": "1.5.0",
            "_view_count": null,
            "_view_module_version": "1.2.0",
            "_model_module": "@jupyter-widgets/controls"
          }
        },
        "7cad52b54b014613b56787b8117fde05": {
          "model_module": "@jupyter-widgets/base",
          "model_name": "LayoutModel",
          "state": {
            "_view_name": "LayoutView",
            "grid_template_rows": null,
            "right": null,
            "justify_content": null,
            "_view_module": "@jupyter-widgets/base",
            "overflow": null,
            "_model_module_version": "1.2.0",
            "_view_count": null,
            "flex_flow": null,
            "width": null,
            "min_width": null,
            "border": null,
            "align_items": null,
            "bottom": null,
            "_model_module": "@jupyter-widgets/base",
            "top": null,
            "grid_column": null,
            "overflow_y": null,
            "overflow_x": null,
            "grid_auto_flow": null,
            "grid_area": null,
            "grid_template_columns": null,
            "flex": null,
            "_model_name": "LayoutModel",
            "justify_items": null,
            "grid_row": null,
            "max_height": null,
            "align_content": null,
            "visibility": null,
            "align_self": null,
            "height": null,
            "min_height": null,
            "padding": null,
            "grid_auto_rows": null,
            "grid_gap": null,
            "max_width": null,
            "order": null,
            "_view_module_version": "1.2.0",
            "grid_template_areas": null,
            "object_position": null,
            "object_fit": null,
            "grid_auto_columns": null,
            "margin": null,
            "display": null,
            "left": null
          }
        },
        "437ce0ad19d647ffbafdb5061dce2013": {
          "model_module": "@jupyter-widgets/controls",
          "model_name": "HBoxModel",
          "state": {
            "_view_name": "HBoxView",
            "_dom_classes": [],
            "_model_name": "HBoxModel",
            "_view_module": "@jupyter-widgets/controls",
            "_model_module_version": "1.5.0",
            "_view_count": null,
            "_view_module_version": "1.5.0",
            "box_style": "",
            "layout": "IPY_MODEL_5de50c641ac046688372b844ff373455",
            "_model_module": "@jupyter-widgets/controls",
            "children": [
              "IPY_MODEL_509323793cd443bd9c963c4df7ff3e19",
              "IPY_MODEL_77e38acf4200440496f57376da0e8afe"
            ]
          }
        },
        "5de50c641ac046688372b844ff373455": {
          "model_module": "@jupyter-widgets/base",
          "model_name": "LayoutModel",
          "state": {
            "_view_name": "LayoutView",
            "grid_template_rows": null,
            "right": null,
            "justify_content": null,
            "_view_module": "@jupyter-widgets/base",
            "overflow": null,
            "_model_module_version": "1.2.0",
            "_view_count": null,
            "flex_flow": null,
            "width": null,
            "min_width": null,
            "border": null,
            "align_items": null,
            "bottom": null,
            "_model_module": "@jupyter-widgets/base",
            "top": null,
            "grid_column": null,
            "overflow_y": null,
            "overflow_x": null,
            "grid_auto_flow": null,
            "grid_area": null,
            "grid_template_columns": null,
            "flex": null,
            "_model_name": "LayoutModel",
            "justify_items": null,
            "grid_row": null,
            "max_height": null,
            "align_content": null,
            "visibility": null,
            "align_self": null,
            "height": null,
            "min_height": null,
            "padding": null,
            "grid_auto_rows": null,
            "grid_gap": null,
            "max_width": null,
            "order": null,
            "_view_module_version": "1.2.0",
            "grid_template_areas": null,
            "object_position": null,
            "object_fit": null,
            "grid_auto_columns": null,
            "margin": null,
            "display": null,
            "left": null
          }
        },
        "509323793cd443bd9c963c4df7ff3e19": {
          "model_module": "@jupyter-widgets/controls",
          "model_name": "FloatProgressModel",
          "state": {
            "_view_name": "ProgressView",
            "style": "IPY_MODEL_424ab4db5cc240b3a8992b4d3da1fc0a",
            "_dom_classes": [],
            "description": "100%",
            "_model_name": "FloatProgressModel",
            "bar_style": "success",
            "max": 10,
            "_view_module": "@jupyter-widgets/controls",
            "_model_module_version": "1.5.0",
            "value": 10,
            "_view_count": null,
            "_view_module_version": "1.5.0",
            "orientation": "horizontal",
            "min": 0,
            "description_tooltip": null,
            "_model_module": "@jupyter-widgets/controls",
            "layout": "IPY_MODEL_909d091e718e43d6902e61aa8ebb1f75"
          }
        },
        "77e38acf4200440496f57376da0e8afe": {
          "model_module": "@jupyter-widgets/controls",
          "model_name": "HTMLModel",
          "state": {
            "_view_name": "HTMLView",
            "style": "IPY_MODEL_7ae2a973196144d697d1e1cad00c2209",
            "_dom_classes": [],
            "description": "",
            "_model_name": "HTMLModel",
            "placeholder": "​",
            "_view_module": "@jupyter-widgets/controls",
            "_model_module_version": "1.5.0",
            "value": " 10/10 [22:00&lt;00:00, 132.01s/it]",
            "_view_count": null,
            "_view_module_version": "1.5.0",
            "description_tooltip": null,
            "_model_module": "@jupyter-widgets/controls",
            "layout": "IPY_MODEL_ea9412ed79d24d8a803ed499d31b3fb4"
          }
        },
        "424ab4db5cc240b3a8992b4d3da1fc0a": {
          "model_module": "@jupyter-widgets/controls",
          "model_name": "ProgressStyleModel",
          "state": {
            "_view_name": "StyleView",
            "_model_name": "ProgressStyleModel",
            "description_width": "initial",
            "_view_module": "@jupyter-widgets/base",
            "_model_module_version": "1.5.0",
            "_view_count": null,
            "_view_module_version": "1.2.0",
            "bar_color": null,
            "_model_module": "@jupyter-widgets/controls"
          }
        },
        "909d091e718e43d6902e61aa8ebb1f75": {
          "model_module": "@jupyter-widgets/base",
          "model_name": "LayoutModel",
          "state": {
            "_view_name": "LayoutView",
            "grid_template_rows": null,
            "right": null,
            "justify_content": null,
            "_view_module": "@jupyter-widgets/base",
            "overflow": null,
            "_model_module_version": "1.2.0",
            "_view_count": null,
            "flex_flow": null,
            "width": null,
            "min_width": null,
            "border": null,
            "align_items": null,
            "bottom": null,
            "_model_module": "@jupyter-widgets/base",
            "top": null,
            "grid_column": null,
            "overflow_y": null,
            "overflow_x": null,
            "grid_auto_flow": null,
            "grid_area": null,
            "grid_template_columns": null,
            "flex": null,
            "_model_name": "LayoutModel",
            "justify_items": null,
            "grid_row": null,
            "max_height": null,
            "align_content": null,
            "visibility": null,
            "align_self": null,
            "height": null,
            "min_height": null,
            "padding": null,
            "grid_auto_rows": null,
            "grid_gap": null,
            "max_width": null,
            "order": null,
            "_view_module_version": "1.2.0",
            "grid_template_areas": null,
            "object_position": null,
            "object_fit": null,
            "grid_auto_columns": null,
            "margin": null,
            "display": null,
            "left": null
          }
        },
        "7ae2a973196144d697d1e1cad00c2209": {
          "model_module": "@jupyter-widgets/controls",
          "model_name": "DescriptionStyleModel",
          "state": {
            "_view_name": "StyleView",
            "_model_name": "DescriptionStyleModel",
            "description_width": "",
            "_view_module": "@jupyter-widgets/base",
            "_model_module_version": "1.5.0",
            "_view_count": null,
            "_view_module_version": "1.2.0",
            "_model_module": "@jupyter-widgets/controls"
          }
        },
        "ea9412ed79d24d8a803ed499d31b3fb4": {
          "model_module": "@jupyter-widgets/base",
          "model_name": "LayoutModel",
          "state": {
            "_view_name": "LayoutView",
            "grid_template_rows": null,
            "right": null,
            "justify_content": null,
            "_view_module": "@jupyter-widgets/base",
            "overflow": null,
            "_model_module_version": "1.2.0",
            "_view_count": null,
            "flex_flow": null,
            "width": null,
            "min_width": null,
            "border": null,
            "align_items": null,
            "bottom": null,
            "_model_module": "@jupyter-widgets/base",
            "top": null,
            "grid_column": null,
            "overflow_y": null,
            "overflow_x": null,
            "grid_auto_flow": null,
            "grid_area": null,
            "grid_template_columns": null,
            "flex": null,
            "_model_name": "LayoutModel",
            "justify_items": null,
            "grid_row": null,
            "max_height": null,
            "align_content": null,
            "visibility": null,
            "align_self": null,
            "height": null,
            "min_height": null,
            "padding": null,
            "grid_auto_rows": null,
            "grid_gap": null,
            "max_width": null,
            "order": null,
            "_view_module_version": "1.2.0",
            "grid_template_areas": null,
            "object_position": null,
            "object_fit": null,
            "grid_auto_columns": null,
            "margin": null,
            "display": null,
            "left": null
          }
        },
        "0bbdf5b5d95e40df8518c0143fa21268": {
          "model_module": "@jupyter-widgets/controls",
          "model_name": "HBoxModel",
          "state": {
            "_view_name": "HBoxView",
            "_dom_classes": [],
            "_model_name": "HBoxModel",
            "_view_module": "@jupyter-widgets/controls",
            "_model_module_version": "1.5.0",
            "_view_count": null,
            "_view_module_version": "1.5.0",
            "box_style": "",
            "layout": "IPY_MODEL_227c9ba230d8449cab4af31be047a04c",
            "_model_module": "@jupyter-widgets/controls",
            "children": [
              "IPY_MODEL_bb9ffcc727d54665a9cbd08c3cddcd6f",
              "IPY_MODEL_0f10f0a5fe2d46e5adb8cccb9a3d5b1d"
            ]
          }
        },
        "227c9ba230d8449cab4af31be047a04c": {
          "model_module": "@jupyter-widgets/base",
          "model_name": "LayoutModel",
          "state": {
            "_view_name": "LayoutView",
            "grid_template_rows": null,
            "right": null,
            "justify_content": null,
            "_view_module": "@jupyter-widgets/base",
            "overflow": null,
            "_model_module_version": "1.2.0",
            "_view_count": null,
            "flex_flow": null,
            "width": null,
            "min_width": null,
            "border": null,
            "align_items": null,
            "bottom": null,
            "_model_module": "@jupyter-widgets/base",
            "top": null,
            "grid_column": null,
            "overflow_y": null,
            "overflow_x": null,
            "grid_auto_flow": null,
            "grid_area": null,
            "grid_template_columns": null,
            "flex": null,
            "_model_name": "LayoutModel",
            "justify_items": null,
            "grid_row": null,
            "max_height": null,
            "align_content": null,
            "visibility": null,
            "align_self": null,
            "height": null,
            "min_height": null,
            "padding": null,
            "grid_auto_rows": null,
            "grid_gap": null,
            "max_width": null,
            "order": null,
            "_view_module_version": "1.2.0",
            "grid_template_areas": null,
            "object_position": null,
            "object_fit": null,
            "grid_auto_columns": null,
            "margin": null,
            "display": null,
            "left": null
          }
        },
        "bb9ffcc727d54665a9cbd08c3cddcd6f": {
          "model_module": "@jupyter-widgets/controls",
          "model_name": "FloatProgressModel",
          "state": {
            "_view_name": "ProgressView",
            "style": "IPY_MODEL_04eba6e1e46944c6815b4b9992d10d14",
            "_dom_classes": [],
            "description": "100%",
            "_model_name": "FloatProgressModel",
            "bar_style": "success",
            "max": 10,
            "_view_module": "@jupyter-widgets/controls",
            "_model_module_version": "1.5.0",
            "value": 10,
            "_view_count": null,
            "_view_module_version": "1.5.0",
            "orientation": "horizontal",
            "min": 0,
            "description_tooltip": null,
            "_model_module": "@jupyter-widgets/controls",
            "layout": "IPY_MODEL_ae8b265865354e5e887d9b1b6d026f50"
          }
        },
        "0f10f0a5fe2d46e5adb8cccb9a3d5b1d": {
          "model_module": "@jupyter-widgets/controls",
          "model_name": "HTMLModel",
          "state": {
            "_view_name": "HTMLView",
            "style": "IPY_MODEL_c25636f4ba35490fb1c6a8ff052d2da5",
            "_dom_classes": [],
            "description": "",
            "_model_name": "HTMLModel",
            "placeholder": "​",
            "_view_module": "@jupyter-widgets/controls",
            "_model_module_version": "1.5.0",
            "value": " 10/10 [00:04&lt;00:00,  2.03it/s]",
            "_view_count": null,
            "_view_module_version": "1.5.0",
            "description_tooltip": null,
            "_model_module": "@jupyter-widgets/controls",
            "layout": "IPY_MODEL_676eeea689b8411ab87726049d49c220"
          }
        },
        "04eba6e1e46944c6815b4b9992d10d14": {
          "model_module": "@jupyter-widgets/controls",
          "model_name": "ProgressStyleModel",
          "state": {
            "_view_name": "StyleView",
            "_model_name": "ProgressStyleModel",
            "description_width": "initial",
            "_view_module": "@jupyter-widgets/base",
            "_model_module_version": "1.5.0",
            "_view_count": null,
            "_view_module_version": "1.2.0",
            "bar_color": null,
            "_model_module": "@jupyter-widgets/controls"
          }
        },
        "ae8b265865354e5e887d9b1b6d026f50": {
          "model_module": "@jupyter-widgets/base",
          "model_name": "LayoutModel",
          "state": {
            "_view_name": "LayoutView",
            "grid_template_rows": null,
            "right": null,
            "justify_content": null,
            "_view_module": "@jupyter-widgets/base",
            "overflow": null,
            "_model_module_version": "1.2.0",
            "_view_count": null,
            "flex_flow": null,
            "width": null,
            "min_width": null,
            "border": null,
            "align_items": null,
            "bottom": null,
            "_model_module": "@jupyter-widgets/base",
            "top": null,
            "grid_column": null,
            "overflow_y": null,
            "overflow_x": null,
            "grid_auto_flow": null,
            "grid_area": null,
            "grid_template_columns": null,
            "flex": null,
            "_model_name": "LayoutModel",
            "justify_items": null,
            "grid_row": null,
            "max_height": null,
            "align_content": null,
            "visibility": null,
            "align_self": null,
            "height": null,
            "min_height": null,
            "padding": null,
            "grid_auto_rows": null,
            "grid_gap": null,
            "max_width": null,
            "order": null,
            "_view_module_version": "1.2.0",
            "grid_template_areas": null,
            "object_position": null,
            "object_fit": null,
            "grid_auto_columns": null,
            "margin": null,
            "display": null,
            "left": null
          }
        },
        "c25636f4ba35490fb1c6a8ff052d2da5": {
          "model_module": "@jupyter-widgets/controls",
          "model_name": "DescriptionStyleModel",
          "state": {
            "_view_name": "StyleView",
            "_model_name": "DescriptionStyleModel",
            "description_width": "",
            "_view_module": "@jupyter-widgets/base",
            "_model_module_version": "1.5.0",
            "_view_count": null,
            "_view_module_version": "1.2.0",
            "_model_module": "@jupyter-widgets/controls"
          }
        },
        "676eeea689b8411ab87726049d49c220": {
          "model_module": "@jupyter-widgets/base",
          "model_name": "LayoutModel",
          "state": {
            "_view_name": "LayoutView",
            "grid_template_rows": null,
            "right": null,
            "justify_content": null,
            "_view_module": "@jupyter-widgets/base",
            "overflow": null,
            "_model_module_version": "1.2.0",
            "_view_count": null,
            "flex_flow": null,
            "width": null,
            "min_width": null,
            "border": null,
            "align_items": null,
            "bottom": null,
            "_model_module": "@jupyter-widgets/base",
            "top": null,
            "grid_column": null,
            "overflow_y": null,
            "overflow_x": null,
            "grid_auto_flow": null,
            "grid_area": null,
            "grid_template_columns": null,
            "flex": null,
            "_model_name": "LayoutModel",
            "justify_items": null,
            "grid_row": null,
            "max_height": null,
            "align_content": null,
            "visibility": null,
            "align_self": null,
            "height": null,
            "min_height": null,
            "padding": null,
            "grid_auto_rows": null,
            "grid_gap": null,
            "max_width": null,
            "order": null,
            "_view_module_version": "1.2.0",
            "grid_template_areas": null,
            "object_position": null,
            "object_fit": null,
            "grid_auto_columns": null,
            "margin": null,
            "display": null,
            "left": null
          }
        },
        "b4c7ff5fec0f4553b0448301ef1fd6f8": {
          "model_module": "@jupyter-widgets/controls",
          "model_name": "HBoxModel",
          "state": {
            "_view_name": "HBoxView",
            "_dom_classes": [],
            "_model_name": "HBoxModel",
            "_view_module": "@jupyter-widgets/controls",
            "_model_module_version": "1.5.0",
            "_view_count": null,
            "_view_module_version": "1.5.0",
            "box_style": "",
            "layout": "IPY_MODEL_a7899f0d309348df81d3e4ee2429f1b3",
            "_model_module": "@jupyter-widgets/controls",
            "children": [
              "IPY_MODEL_03335bce8c804682ad27966b875f7584",
              "IPY_MODEL_7a7a86b62a7c44b1816547e5e389a42d"
            ]
          }
        },
        "a7899f0d309348df81d3e4ee2429f1b3": {
          "model_module": "@jupyter-widgets/base",
          "model_name": "LayoutModel",
          "state": {
            "_view_name": "LayoutView",
            "grid_template_rows": null,
            "right": null,
            "justify_content": null,
            "_view_module": "@jupyter-widgets/base",
            "overflow": null,
            "_model_module_version": "1.2.0",
            "_view_count": null,
            "flex_flow": null,
            "width": null,
            "min_width": null,
            "border": null,
            "align_items": null,
            "bottom": null,
            "_model_module": "@jupyter-widgets/base",
            "top": null,
            "grid_column": null,
            "overflow_y": null,
            "overflow_x": null,
            "grid_auto_flow": null,
            "grid_area": null,
            "grid_template_columns": null,
            "flex": null,
            "_model_name": "LayoutModel",
            "justify_items": null,
            "grid_row": null,
            "max_height": null,
            "align_content": null,
            "visibility": null,
            "align_self": null,
            "height": null,
            "min_height": null,
            "padding": null,
            "grid_auto_rows": null,
            "grid_gap": null,
            "max_width": null,
            "order": null,
            "_view_module_version": "1.2.0",
            "grid_template_areas": null,
            "object_position": null,
            "object_fit": null,
            "grid_auto_columns": null,
            "margin": null,
            "display": null,
            "left": null
          }
        },
        "03335bce8c804682ad27966b875f7584": {
          "model_module": "@jupyter-widgets/controls",
          "model_name": "FloatProgressModel",
          "state": {
            "_view_name": "ProgressView",
            "style": "IPY_MODEL_4cc98d21974546e6b24528b3b38a4434",
            "_dom_classes": [],
            "description": "100%",
            "_model_name": "FloatProgressModel",
            "bar_style": "success",
            "max": 10,
            "_view_module": "@jupyter-widgets/controls",
            "_model_module_version": "1.5.0",
            "value": 10,
            "_view_count": null,
            "_view_module_version": "1.5.0",
            "orientation": "horizontal",
            "min": 0,
            "description_tooltip": null,
            "_model_module": "@jupyter-widgets/controls",
            "layout": "IPY_MODEL_824a483104f74b04a0b42ffe8cc87786"
          }
        },
        "7a7a86b62a7c44b1816547e5e389a42d": {
          "model_module": "@jupyter-widgets/controls",
          "model_name": "HTMLModel",
          "state": {
            "_view_name": "HTMLView",
            "style": "IPY_MODEL_eb73d623d19742c5a9df19cfda1b33bf",
            "_dom_classes": [],
            "description": "",
            "_model_name": "HTMLModel",
            "placeholder": "​",
            "_view_module": "@jupyter-widgets/controls",
            "_model_module_version": "1.5.0",
            "value": " 10/10 [00:00&lt;00:00, 22.33it/s]",
            "_view_count": null,
            "_view_module_version": "1.5.0",
            "description_tooltip": null,
            "_model_module": "@jupyter-widgets/controls",
            "layout": "IPY_MODEL_babcba850e3147a78876577d57913d39"
          }
        },
        "4cc98d21974546e6b24528b3b38a4434": {
          "model_module": "@jupyter-widgets/controls",
          "model_name": "ProgressStyleModel",
          "state": {
            "_view_name": "StyleView",
            "_model_name": "ProgressStyleModel",
            "description_width": "initial",
            "_view_module": "@jupyter-widgets/base",
            "_model_module_version": "1.5.0",
            "_view_count": null,
            "_view_module_version": "1.2.0",
            "bar_color": null,
            "_model_module": "@jupyter-widgets/controls"
          }
        },
        "824a483104f74b04a0b42ffe8cc87786": {
          "model_module": "@jupyter-widgets/base",
          "model_name": "LayoutModel",
          "state": {
            "_view_name": "LayoutView",
            "grid_template_rows": null,
            "right": null,
            "justify_content": null,
            "_view_module": "@jupyter-widgets/base",
            "overflow": null,
            "_model_module_version": "1.2.0",
            "_view_count": null,
            "flex_flow": null,
            "width": null,
            "min_width": null,
            "border": null,
            "align_items": null,
            "bottom": null,
            "_model_module": "@jupyter-widgets/base",
            "top": null,
            "grid_column": null,
            "overflow_y": null,
            "overflow_x": null,
            "grid_auto_flow": null,
            "grid_area": null,
            "grid_template_columns": null,
            "flex": null,
            "_model_name": "LayoutModel",
            "justify_items": null,
            "grid_row": null,
            "max_height": null,
            "align_content": null,
            "visibility": null,
            "align_self": null,
            "height": null,
            "min_height": null,
            "padding": null,
            "grid_auto_rows": null,
            "grid_gap": null,
            "max_width": null,
            "order": null,
            "_view_module_version": "1.2.0",
            "grid_template_areas": null,
            "object_position": null,
            "object_fit": null,
            "grid_auto_columns": null,
            "margin": null,
            "display": null,
            "left": null
          }
        },
        "eb73d623d19742c5a9df19cfda1b33bf": {
          "model_module": "@jupyter-widgets/controls",
          "model_name": "DescriptionStyleModel",
          "state": {
            "_view_name": "StyleView",
            "_model_name": "DescriptionStyleModel",
            "description_width": "",
            "_view_module": "@jupyter-widgets/base",
            "_model_module_version": "1.5.0",
            "_view_count": null,
            "_view_module_version": "1.2.0",
            "_model_module": "@jupyter-widgets/controls"
          }
        },
        "babcba850e3147a78876577d57913d39": {
          "model_module": "@jupyter-widgets/base",
          "model_name": "LayoutModel",
          "state": {
            "_view_name": "LayoutView",
            "grid_template_rows": null,
            "right": null,
            "justify_content": null,
            "_view_module": "@jupyter-widgets/base",
            "overflow": null,
            "_model_module_version": "1.2.0",
            "_view_count": null,
            "flex_flow": null,
            "width": null,
            "min_width": null,
            "border": null,
            "align_items": null,
            "bottom": null,
            "_model_module": "@jupyter-widgets/base",
            "top": null,
            "grid_column": null,
            "overflow_y": null,
            "overflow_x": null,
            "grid_auto_flow": null,
            "grid_area": null,
            "grid_template_columns": null,
            "flex": null,
            "_model_name": "LayoutModel",
            "justify_items": null,
            "grid_row": null,
            "max_height": null,
            "align_content": null,
            "visibility": null,
            "align_self": null,
            "height": null,
            "min_height": null,
            "padding": null,
            "grid_auto_rows": null,
            "grid_gap": null,
            "max_width": null,
            "order": null,
            "_view_module_version": "1.2.0",
            "grid_template_areas": null,
            "object_position": null,
            "object_fit": null,
            "grid_auto_columns": null,
            "margin": null,
            "display": null,
            "left": null
          }
        }
      }
    }
  },
  "cells": [
    {
      "cell_type": "markdown",
      "metadata": {
        "id": "view-in-github",
        "colab_type": "text"
      },
      "source": [
        "<a href=\"https://colab.research.google.com/github/JaimeRedondo/Mushrooms_Classification/blob/master/Mushrooms_Classification.ipynb\" target=\"_parent\"><img src=\"https://colab.research.google.com/assets/colab-badge.svg\" alt=\"Open In Colab\"/></a>"
      ]
    },
    {
      "cell_type": "code",
      "metadata": {
        "colab": {
          "base_uri": "https://localhost:8080/"
        },
        "id": "vz6dxutvauCY",
        "outputId": "79e074df-bf92-43e5-fba7-31600cf356e2"
      },
      "source": [
        "#We can search images from Bing, better option because it works.\n",
        "! pip install bing-image-downloader\n",
        "! pip install opencv-python\n",
        "#instalo open cv\n",
        "from matplotlib import image\n",
        "from matplotlib import pyplot\n",
        "from skimage import io\n",
        "import cv2\n",
        "import os\n",
        "! pip install tensorflow\n",
        "\n",
        "import tensorflow as tf\n",
        "#Packages\n",
        "#--Web scraping packages\n",
        "from bs4 import BeautifulSoup\n",
        "import requests\n",
        "#Pandas/numpy for data manipulation\n",
        "import pandas as pd\n",
        "import numpy as np\n",
        "from urllib.request import urlopen\n",
        "from bing_image_downloader import downloader\n",
        "from tqdm.notebook import tqdm\n",
        "from time import sleep \n",
        "\n",
        "#import libraries I want.\n",
        "from tensorflow.keras import optimizers\n",
        "from tensorflow.keras import losses\n",
        "from tensorflow.keras import metrics\n",
        "from tensorflow.keras.utils import to_categorical\n",
        "from tensorflow.keras import models\n",
        "from tensorflow.keras import layers\n",
        "from tensorflow.keras import Input\n",
        "\n",
        "%pylab inline\n",
        "plt.style.use('seaborn-talk')"
      ],
      "execution_count": 1,
      "outputs": [
        {
          "output_type": "stream",
          "text": [
            "Collecting bing-image-downloader\n",
            "  Downloading https://files.pythonhosted.org/packages/0d/bf/537a61030b84ae4cd5022d5c7b014fd9bc3ce7c02358919153a6658a61d3/bing_image_downloader-1.0.4-py3-none-any.whl\n",
            "Installing collected packages: bing-image-downloader\n",
            "Successfully installed bing-image-downloader-1.0.4\n",
            "Requirement already satisfied: opencv-python in /usr/local/lib/python3.6/dist-packages (4.1.2.30)\n",
            "Requirement already satisfied: numpy>=1.11.3 in /usr/local/lib/python3.6/dist-packages (from opencv-python) (1.19.5)\n",
            "Requirement already satisfied: tensorflow in /usr/local/lib/python3.6/dist-packages (2.4.0)\n",
            "Requirement already satisfied: six~=1.15.0 in /usr/local/lib/python3.6/dist-packages (from tensorflow) (1.15.0)\n",
            "Requirement already satisfied: grpcio~=1.32.0 in /usr/local/lib/python3.6/dist-packages (from tensorflow) (1.32.0)\n",
            "Requirement already satisfied: flatbuffers~=1.12.0 in /usr/local/lib/python3.6/dist-packages (from tensorflow) (1.12)\n",
            "Requirement already satisfied: opt-einsum~=3.3.0 in /usr/local/lib/python3.6/dist-packages (from tensorflow) (3.3.0)\n",
            "Requirement already satisfied: keras-preprocessing~=1.1.2 in /usr/local/lib/python3.6/dist-packages (from tensorflow) (1.1.2)\n",
            "Requirement already satisfied: google-pasta~=0.2 in /usr/local/lib/python3.6/dist-packages (from tensorflow) (0.2.0)\n",
            "Requirement already satisfied: wheel~=0.35 in /usr/local/lib/python3.6/dist-packages (from tensorflow) (0.36.2)\n",
            "Requirement already satisfied: h5py~=2.10.0 in /usr/local/lib/python3.6/dist-packages (from tensorflow) (2.10.0)\n",
            "Requirement already satisfied: termcolor~=1.1.0 in /usr/local/lib/python3.6/dist-packages (from tensorflow) (1.1.0)\n",
            "Requirement already satisfied: astunparse~=1.6.3 in /usr/local/lib/python3.6/dist-packages (from tensorflow) (1.6.3)\n",
            "Requirement already satisfied: numpy~=1.19.2 in /usr/local/lib/python3.6/dist-packages (from tensorflow) (1.19.5)\n",
            "Requirement already satisfied: protobuf>=3.9.2 in /usr/local/lib/python3.6/dist-packages (from tensorflow) (3.12.4)\n",
            "Requirement already satisfied: absl-py~=0.10 in /usr/local/lib/python3.6/dist-packages (from tensorflow) (0.10.0)\n",
            "Requirement already satisfied: gast==0.3.3 in /usr/local/lib/python3.6/dist-packages (from tensorflow) (0.3.3)\n",
            "Requirement already satisfied: typing-extensions~=3.7.4 in /usr/local/lib/python3.6/dist-packages (from tensorflow) (3.7.4.3)\n",
            "Requirement already satisfied: wrapt~=1.12.1 in /usr/local/lib/python3.6/dist-packages (from tensorflow) (1.12.1)\n",
            "Requirement already satisfied: tensorboard~=2.4 in /usr/local/lib/python3.6/dist-packages (from tensorflow) (2.4.0)\n",
            "Requirement already satisfied: tensorflow-estimator<2.5.0,>=2.4.0rc0 in /usr/local/lib/python3.6/dist-packages (from tensorflow) (2.4.0)\n",
            "Requirement already satisfied: setuptools in /usr/local/lib/python3.6/dist-packages (from protobuf>=3.9.2->tensorflow) (51.3.3)\n",
            "Requirement already satisfied: markdown>=2.6.8 in /usr/local/lib/python3.6/dist-packages (from tensorboard~=2.4->tensorflow) (3.3.3)\n",
            "Requirement already satisfied: requests<3,>=2.21.0 in /usr/local/lib/python3.6/dist-packages (from tensorboard~=2.4->tensorflow) (2.23.0)\n",
            "Requirement already satisfied: werkzeug>=0.11.15 in /usr/local/lib/python3.6/dist-packages (from tensorboard~=2.4->tensorflow) (1.0.1)\n",
            "Requirement already satisfied: tensorboard-plugin-wit>=1.6.0 in /usr/local/lib/python3.6/dist-packages (from tensorboard~=2.4->tensorflow) (1.7.0)\n",
            "Requirement already satisfied: google-auth<2,>=1.6.3 in /usr/local/lib/python3.6/dist-packages (from tensorboard~=2.4->tensorflow) (1.17.2)\n",
            "Requirement already satisfied: google-auth-oauthlib<0.5,>=0.4.1 in /usr/local/lib/python3.6/dist-packages (from tensorboard~=2.4->tensorflow) (0.4.2)\n",
            "Requirement already satisfied: importlib-metadata; python_version < \"3.8\" in /usr/local/lib/python3.6/dist-packages (from markdown>=2.6.8->tensorboard~=2.4->tensorflow) (3.3.0)\n",
            "Requirement already satisfied: idna<3,>=2.5 in /usr/local/lib/python3.6/dist-packages (from requests<3,>=2.21.0->tensorboard~=2.4->tensorflow) (2.10)\n",
            "Requirement already satisfied: urllib3!=1.25.0,!=1.25.1,<1.26,>=1.21.1 in /usr/local/lib/python3.6/dist-packages (from requests<3,>=2.21.0->tensorboard~=2.4->tensorflow) (1.24.3)\n",
            "Requirement already satisfied: chardet<4,>=3.0.2 in /usr/local/lib/python3.6/dist-packages (from requests<3,>=2.21.0->tensorboard~=2.4->tensorflow) (3.0.4)\n",
            "Requirement already satisfied: certifi>=2017.4.17 in /usr/local/lib/python3.6/dist-packages (from requests<3,>=2.21.0->tensorboard~=2.4->tensorflow) (2020.12.5)\n",
            "Requirement already satisfied: pyasn1-modules>=0.2.1 in /usr/local/lib/python3.6/dist-packages (from google-auth<2,>=1.6.3->tensorboard~=2.4->tensorflow) (0.2.8)\n",
            "Requirement already satisfied: rsa<5,>=3.1.4; python_version >= \"3\" in /usr/local/lib/python3.6/dist-packages (from google-auth<2,>=1.6.3->tensorboard~=2.4->tensorflow) (4.6)\n",
            "Requirement already satisfied: cachetools<5.0,>=2.0.0 in /usr/local/lib/python3.6/dist-packages (from google-auth<2,>=1.6.3->tensorboard~=2.4->tensorflow) (4.2.0)\n",
            "Requirement already satisfied: requests-oauthlib>=0.7.0 in /usr/local/lib/python3.6/dist-packages (from google-auth-oauthlib<0.5,>=0.4.1->tensorboard~=2.4->tensorflow) (1.3.0)\n",
            "Requirement already satisfied: zipp>=0.5 in /usr/local/lib/python3.6/dist-packages (from importlib-metadata; python_version < \"3.8\"->markdown>=2.6.8->tensorboard~=2.4->tensorflow) (3.4.0)\n",
            "Requirement already satisfied: pyasn1<0.5.0,>=0.4.6 in /usr/local/lib/python3.6/dist-packages (from pyasn1-modules>=0.2.1->google-auth<2,>=1.6.3->tensorboard~=2.4->tensorflow) (0.4.8)\n",
            "Requirement already satisfied: oauthlib>=3.0.0 in /usr/local/lib/python3.6/dist-packages (from requests-oauthlib>=0.7.0->google-auth-oauthlib<0.5,>=0.4.1->tensorboard~=2.4->tensorflow) (3.1.0)\n",
            "Populating the interactive namespace from numpy and matplotlib\n"
          ],
          "name": "stdout"
        }
      ]
    },
    {
      "cell_type": "markdown",
      "metadata": {
        "id": "6YlGuovebGvf"
      },
      "source": [
        "# Define Functions"
      ]
    },
    {
      "cell_type": "markdown",
      "metadata": {
        "id": "IRi-WmojbdU_"
      },
      "source": [
        "Web Scraping to have enough mushrooms types."
      ]
    },
    {
      "cell_type": "code",
      "metadata": {
        "id": "x3d_01ofbZeS"
      },
      "source": [
        "def scraping_mushrooms():    \n",
        "    clean_titles_all=pd.DataFrame()\n",
        "    titles=['Final']\n",
        "    url = 'https://www.fungipedia.org/hongos.html?start=0'\n",
        "\n",
        "    while 'Final' in list(titles):\n",
        "        html = urlopen(url)\n",
        "        soup = BeautifulSoup(html, 'lxml')\n",
        "    \n",
        "    ## getting the web titles\n",
        "        titles=[]\n",
        "        all_links = soup.find_all(\"a\")\n",
        "        for link in all_links:\n",
        "            titles.append(link.get(\"title\"))\n",
        "        \n",
        "        titles=pd.Series(titles).apply(str)\n",
        "    \n",
        "        titles=titles[titles!='None']\n",
        "    \n",
        "        titles_df=titles.reset_index()\n",
        "    \n",
        "        for phrase in titles_df[0]:\n",
        "            if phrase =='Catálogo de Setas y Hongos':\n",
        "                numero=int((titles_df[titles_df[0]==phrase]['index']))\n",
        "            else:\n",
        "                continue\n",
        "            \n",
        "        titles=titles[titles.index > numero]\n",
        "    \n",
        "        clean_titles=titles[titles.str.len()>6][:-1]\n",
        "    \n",
        "        clean_titles=clean_titles.to_frame()\n",
        "    \n",
        "        siguiente = '='+str(int(url.split('=')[1])+20)\n",
        "    \n",
        "        url = url.split('=')[0] + siguiente\n",
        "    \n",
        "        clean_titles_all = clean_titles_all.append(clean_titles)\n",
        "    \n",
        "    clean_titles_all=clean_titles_all.reset_index()\n",
        "\n",
        "    del clean_titles_all['index']\n",
        "\n",
        "    lista_setas = clean_titles_all[0]\n",
        "\n",
        "    lista_setas=list(lista_setas)\n",
        "    \n",
        "    return lista_setas\n"
      ],
      "execution_count": 2,
      "outputs": []
    },
    {
      "cell_type": "markdown",
      "metadata": {
        "id": "Ct6hNe9VcNIU"
      },
      "source": [
        "Download Images From an Internet Browser (Bing)"
      ]
    },
    {
      "cell_type": "code",
      "metadata": {
        "id": "tTdr6mmpcMLx"
      },
      "source": [
        "#keep 1 photo of ecah mushroom,##write a list of things in the input of searcher:\n",
        "def searcher_downloader(lista):\n",
        "    for seta in tqdm(lista):\n",
        "        try:\n",
        "            downloader.download(seta, limit=20,  output_dir='dataset', \n",
        "            adult_filter_off=True, force_replace=False, timeout=60)\n",
        "        except:\n",
        "            print(\"esta no puedo\")\n",
        "    print(\"I'm done\")"
      ],
      "execution_count": 3,
      "outputs": []
    },
    {
      "cell_type": "markdown",
      "metadata": {
        "id": "OvYPCx_AcXIy"
      },
      "source": [
        "Standarize the images downloaded"
      ]
    },
    {
      "cell_type": "code",
      "metadata": {
        "id": "THnbjrC2cGuq"
      },
      "source": [
        "#estandarizamos nombres de fotos\n",
        "def standarize_names(directory):\n",
        "    for folder in tqdm(directory):\n",
        "        directorio = os.listdir('dataset/'+folder)\n",
        "        for image in directorio:     \n",
        "            if image.split('.')[1] == 'jpg':\n",
        "                continue\n",
        "            else:\n",
        "                image_new=image.split('.')[0] + '.jpg'\n",
        "                os.rename('dataset/'+folder+'/'+image, 'dataset/'+folder+'/'+image_new)"
      ],
      "execution_count": 4,
      "outputs": []
    },
    {
      "cell_type": "code",
      "metadata": {
        "id": "dUA60EsMcdfz"
      },
      "source": [
        "#resize all images shape in 200x200 and print what photos are not available\n",
        "def resize_photos(directory):\n",
        "    for folder in tqdm(directory):\n",
        "        for numero in range(20):\n",
        "            try:\n",
        "                route = \"dataset/\" + folder +'/Image_'+ str(numero+1) + '.jpg'\n",
        "                data_picture = io.imread(route)\n",
        "                data_picture = cv2.resize(data_picture, (200, 200))\n",
        "                # save the images\n",
        "                cv2.imwrite(route,data_picture)\n",
        "            except:  \n",
        "                print(\"imagen \"+str(numero+1)+' de la seta '+folder+' no está disponible')"
      ],
      "execution_count": 5,
      "outputs": []
    },
    {
      "cell_type": "code",
      "metadata": {
        "id": "_9YK6V0rcfxG"
      },
      "source": [
        "#standarize 0_255 pixels to 0 - 1.\n",
        "lista=[]\n",
        "def standarize_pixels(directory):\n",
        "    for folder in tqdm(directory):\n",
        "        for numero in range(20):\n",
        "            try:\n",
        "                route = \"dataset/\" + folder +'/Image_'+ str(numero+1) + '.jpg'\n",
        "                image_rgb=io.imread(route)/255.0\n",
        "                lista.append(image_rgb)\n",
        "            except:\n",
        "                print(folder+str(numero+1))"
      ],
      "execution_count": 6,
      "outputs": []
    },
    {
      "cell_type": "code",
      "metadata": {
        "id": "J5Qbupk3c5nv"
      },
      "source": [
        "def standarize_photos(directory):\n",
        "    print(\"renombrando...\")\n",
        "    standarize_names(directory)\n",
        "    print(\"homogeneizando tamaño fotos...\")\n",
        "    resize_photos(directory)\n",
        "    print(\"estandarizando pixels...\")\n",
        "    standarize_pixels(directory)"
      ],
      "execution_count": 7,
      "outputs": []
    },
    {
      "cell_type": "code",
      "metadata": {
        "id": "d8h0G2Kbc7px"
      },
      "source": [
        "def comprobar_longitudes_carpetas(directorio):\n",
        "    for folder in directorio:\n",
        "        print(folder + ' '+str(len(os.listdir(\"dataset/\" + folder))))"
      ],
      "execution_count": 8,
      "outputs": []
    },
    {
      "cell_type": "code",
      "metadata": {
        "id": "5NN3vxsvc-Nk"
      },
      "source": [
        "def plot_mushroom_image(N, imgs, labels):\n",
        "    print(labels[N])\n",
        "    plt.imshow(imgs[N,], cmap=plt.cm.binary)\n",
        "    plt.grid(True)"
      ],
      "execution_count": 9,
      "outputs": []
    },
    {
      "cell_type": "markdown",
      "metadata": {
        "id": "59p_-UwxdCx2"
      },
      "source": [
        "### Apply the def functions"
      ]
    },
    {
      "cell_type": "code",
      "metadata": {
        "id": "Smt0JB4GdAAY"
      },
      "source": [
        "lista_setas=scraping_mushrooms()"
      ],
      "execution_count": 10,
      "outputs": []
    },
    {
      "cell_type": "code",
      "metadata": {
        "id": "L9TEtx6xdF3m"
      },
      "source": [
        "lista_setas_2=lista_setas[0:10]\n",
        "#primero lo hare con unm muestra"
      ],
      "execution_count": 11,
      "outputs": []
    },
    {
      "cell_type": "code",
      "metadata": {
        "colab": {
          "base_uri": "https://localhost:8080/"
        },
        "id": "0j5nIrhXdJAv",
        "outputId": "61fabcf0-52b8-423d-d42d-db14ff4762a2"
      },
      "source": [
        "lista_setas_2"
      ],
      "execution_count": 12,
      "outputs": [
        {
          "output_type": "execute_result",
          "data": {
            "text/plain": [
              "['Abortiporus biennis',\n",
              " 'Adelphella babingtonii',\n",
              " 'Agaricus arvensis',\n",
              " 'Agaricus campestris',\n",
              " 'Agaricus litoralis',\n",
              " 'Agaricus sylvaticus',\n",
              " 'Agaricus sylvicola',\n",
              " 'Agaricus urinascens',\n",
              " 'Agaricus xanthodermus',\n",
              " 'Agrocybe praecox']"
            ]
          },
          "metadata": {
            "tags": []
          },
          "execution_count": 12
        }
      ]
    },
    {
      "cell_type": "code",
      "metadata": {
        "colab": {
          "base_uri": "https://localhost:8080/",
          "height": 1000,
          "referenced_widgets": [
            "a16452a23e49466cb74570472c1c3602",
            "91cc142b5f8d4e25a0c2e1365b293561",
            "cec0bc2ac9d6491ab5fb5a930543c0c4",
            "7c89c245e756422a9daf675a45421651",
            "c0069276169a41ab9138a8c3fb7328fa",
            "bc61f40be2c648ed8b5a3154abe2ceee",
            "0d43590371bd486b864b49205ce247e5",
            "f8096db236f74ebab8243ad440feeebf"
          ]
        },
        "id": "v4nFJPozdK2w",
        "outputId": "f14d83f6-a27b-47ef-d56c-d84be431f16c"
      },
      "source": [
        "searcher_downloader(lista_setas_2)"
      ],
      "execution_count": 13,
      "outputs": [
        {
          "output_type": "display_data",
          "data": {
            "application/vnd.jupyter.widget-view+json": {
              "model_id": "a16452a23e49466cb74570472c1c3602",
              "version_minor": 0,
              "version_major": 2
            },
            "text/plain": [
              "HBox(children=(FloatProgress(value=0.0, max=10.0), HTML(value='')))"
            ]
          },
          "metadata": {
            "tags": []
          }
        },
        {
          "output_type": "stream",
          "text": [
            "\n",
            "\n",
            "[!!]Indexing page: 1\n",
            "\n",
            "[%] Indexed 20 Images on Page 1.\n",
            "\n",
            "===============================================\n",
            "\n",
            "[%] Downloading Image #1 from https://upload.wikimedia.org/wikipedia/commons/thumb/2/25/Abortiporus_biennis_197275.jpg/1200px-Abortiporus_biennis_197275.jpg\n",
            "[%] File Downloaded !\n",
            "\n",
            "[%] Downloading Image #2 from https://upload.wikimedia.org/wikipedia/commons/thumb/4/46/Abortiporus_biennis_161023wa.jpg/1200px-Abortiporus_biennis_161023wa.jpg\n",
            "[Error]Invalid image, not saving https://upload.wikimedia.org/wikipedia/commons/thumb/4/46/Abortiporus_biennis_161023wa.jpg/1200px-Abortiporus_biennis_161023wa.jpg\n",
            "\n",
            "[!] Issue getting: https://upload.wikimedia.org/wikipedia/commons/thumb/4/46/Abortiporus_biennis_161023wa.jpg/1200px-Abortiporus_biennis_161023wa.jpg\n",
            "[!] Error:: No active exception to reraise\n",
            "[%] Downloading Image #2 from http://warehouse1.indicia.org.uk/upload/p16f1d5bv21msg1g93jl512se53i2.jpg\n",
            "[%] File Downloaded !\n",
            "\n",
            "[%] Downloading Image #3 from https://upload.wikimedia.org/wikipedia/commons/6/6e/Abortiporus_biennis_179245.jpg\n",
            "[%] File Downloaded !\n",
            "\n",
            "[%] Downloading Image #4 from https://www.first-nature.com/fungi/images/meruliaceae/abortiporus-biennis5.jpg\n",
            "[%] File Downloaded !\n",
            "\n",
            "[%] Downloading Image #5 from http://www.mushroomexpert.com/images/kuo2/abortiporus_biennis_01.jpg\n",
            "[%] File Downloaded !\n",
            "\n",
            "[%] Downloading Image #6 from http://www.mushroomexpert.com/images/kuo2/abortiporus_biennis_06.jpg\n",
            "[%] File Downloaded !\n",
            "\n",
            "[%] Downloading Image #7 from http://amatafoto.it/images/abortiporus-biennis--1-.jpg\n",
            "[%] File Downloaded !\n",
            "\n",
            "[%] Downloading Image #8 from http://www.mykoweb.com/CAF/photos/large/Abortiporus_biennis%28fs-01%29.jpg\n",
            "[%] File Downloaded !\n",
            "\n",
            "[%] Downloading Image #9 from https://images.naturalis.nl/original/134284_ps_18_214.jpg\n",
            "[%] File Downloaded !\n",
            "\n",
            "[%] Downloading Image #10 from https://upload.wikimedia.org/wikipedia/commons/6/6d/Abortiporus_biennis_184698.jpg\n",
            "[%] File Downloaded !\n",
            "\n",
            "[%] Downloading Image #11 from https://www.first-nature.com/fungi/images/meruliaceae/abortiporus-biennis1.jpg\n",
            "[%] File Downloaded !\n",
            "\n",
            "[%] Downloading Image #12 from http://www.mushroomexpert.com/images/kuo2/abortiporus_biennis_04.jpg\n",
            "[%] File Downloaded !\n",
            "\n",
            "[%] Downloading Image #13 from http://www.mykoweb.com/CAF/photos/large/Abortiporus_biennis%28mgw-01%29.jpg\n",
            "[%] File Downloaded !\n",
            "\n",
            "[%] Downloading Image #14 from https://live.staticflickr.com/4302/35478025903_3505c25712_b.jpg\n",
            "[%] File Downloaded !\n",
            "\n",
            "[%] Downloading Image #15 from https://upload.wikimedia.org/wikipedia/commons/0/06/Rötender_Saftwirrling_Abortiporus_biennis_5329.jpg\n",
            "[!] Issue getting: https://upload.wikimedia.org/wikipedia/commons/0/06/Rötender_Saftwirrling_Abortiporus_biennis_5329.jpg\n",
            "[!] Error:: 'ascii' codec can't encode character '\\xf6' in position 29: ordinal not in range(128)\n",
            "[%] Downloading Image #15 from http://mushroomobserver.org/images/1280/651051.jpg\n",
            "[%] File Downloaded !\n",
            "\n",
            "[%] Downloading Image #16 from http://www.mushroomexpert.com/images/kuo2/abortiporus_biennis_03.jpg\n",
            "[%] File Downloaded !\n",
            "\n",
            "[%] Downloading Image #17 from http://www.brc.ac.uk/psl/sites/www.brc.ac.uk.psl/files/upload/DSCN5787.JPG\n",
            "[%] File Downloaded !\n",
            "\n",
            "[%] Downloading Image #18 from http://scmycoflora.org/genera/abortiporus/images/Abortiporus-biennis_1.jpg\n",
            "[%] File Downloaded !\n",
            "\n",
            "\n",
            "\n",
            "[!!]Indexing page: 2\n",
            "\n",
            "[%] Indexed 35 Images on Page 2.\n",
            "\n",
            "===============================================\n",
            "\n",
            "[%] Downloading Image #19 from https://upload.wikimedia.org/wikipedia/commons/thumb/2/25/Abortiporus_biennis_197275.jpg/1200px-Abortiporus_biennis_197275.jpg\n",
            "[%] File Downloaded !\n",
            "\n",
            "[%] Downloading Image #20 from https://upload.wikimedia.org/wikipedia/commons/thumb/4/46/Abortiporus_biennis_161023wa.jpg/1200px-Abortiporus_biennis_161023wa.jpg\n",
            "[Error]Invalid image, not saving https://upload.wikimedia.org/wikipedia/commons/thumb/4/46/Abortiporus_biennis_161023wa.jpg/1200px-Abortiporus_biennis_161023wa.jpg\n",
            "\n",
            "[!] Issue getting: https://upload.wikimedia.org/wikipedia/commons/thumb/4/46/Abortiporus_biennis_161023wa.jpg/1200px-Abortiporus_biennis_161023wa.jpg\n",
            "[!] Error:: No active exception to reraise\n",
            "[%] Downloading Image #20 from http://warehouse1.indicia.org.uk/upload/p16f1d5bv21msg1g93jl512se53i2.jpg\n",
            "[%] File Downloaded !\n",
            "\n",
            "\n",
            "\n",
            "[%] Done. Downloaded 20 images.\n",
            "\n",
            "===============================================\n",
            "\n",
            "\n",
            "\n",
            "[!!]Indexing page: 1\n",
            "\n",
            "[%] Indexed 20 Images on Page 1.\n",
            "\n",
            "===============================================\n",
            "\n",
            "[%] Downloading Image #1 from http://www.mykoweb.com/CAF/photos/Adelphella_babingtoni_ mgw-01.jpg\n",
            "[!] Issue getting: http://www.mykoweb.com/CAF/photos/Adelphella_babingtoni_ mgw-01.jpg\n",
            "[!] Error:: URL can't contain control characters. '/CAF/photos/Adelphella_babingtoni_ mgw-01.jpg' (found at least ' ')\n",
            "[%] Downloading Image #1 from https://www.ilgiardinocommestibile.it/wp-content/uploads/2020/09/adelphella-babingtonii.jpg\n",
            "[%] File Downloaded !\n",
            "\n",
            "[%] Downloading Image #2 from https://www.fungipedia.org/images/galerias/adelphella_babingtonii/adelphella_babingtonii3.jpg\n",
            "[%] File Downloaded !\n",
            "\n",
            "[%] Downloading Image #3 from http://chawantake.sakura.ne.jp/image/Adelphella_babingtoniiL.jpg\n",
            "[%] File Downloaded !\n",
            "\n",
            "[%] Downloading Image #4 from http://manatarka.org/files/2015/08/Adelphellababingtonii1.jpg\n",
            "[%] File Downloaded !\n",
            "\n",
            "[%] Downloading Image #5 from http://manatarka.org/files/2015/08/Adelphellababingtonii2.jpg\n",
            "[%] File Downloaded !\n",
            "\n",
            "[%] Downloading Image #6 from http://www.centrodeestudiosmicologicosasturianos.org/wp-content/uploads/2020/05/Adelphella-babingtonii.-Tineo-31-V-2006-madera-de-planifolio-300x199.jpg\n",
            "[%] File Downloaded !\n",
            "\n",
            "[%] Downloading Image #7 from https://live.staticflickr.com/7364/27553357613_78e42510b3_b.jpg\n",
            "[%] File Downloaded !\n",
            "\n",
            "[%] Downloading Image #8 from http://pagan-cancan.by/species/Adelphella_babingtonii/img/Adelphella_babingtonii_DAY_05_Jun_2016_2.jpg\n",
            "[%] File Downloaded !\n",
            "\n",
            "[%] Downloading Image #9 from https://www.mycodb.fr/photos/Adelphella_babingtonii_2016_ym_1.jpg\n",
            "[%] File Downloaded !\n",
            "\n",
            "[%] Downloading Image #10 from https://www.mycodb.fr/photos/Adelphella_babingtonii_2007_jd_1.jpg\n",
            "[%] File Downloaded !\n",
            "\n",
            "[%] Downloading Image #11 from http://www.smbla.fr/medias/album/adelphella-babingtonii-3.JPG?fx=r_400_400\n",
            "[%] File Downloaded !\n",
            "\n",
            "[%] Downloading Image #12 from https://www.pharmanatur.com/Mycologie/Pachyella babingtonii 4.jpg\n",
            "[!] Issue getting: https://www.pharmanatur.com/Mycologie/Pachyella babingtonii 4.jpg\n",
            "[!] Error:: URL can't contain control characters. '/Mycologie/Pachyella babingtonii 4.jpg' (found at least ' ')\n",
            "[%] Downloading Image #12 from https://www.researchgate.net/profile/Oscar_Requejo/publication/323808636/figure/fig2/AS:631581244944414@1527592111317/Adelphella-babingtonii-LOU-Fungi-19770.png\n",
            "[!] Issue getting: https://www.researchgate.net/profile/Oscar_Requejo/publication/323808636/figure/fig2/AS:631581244944414@1527592111317/Adelphella-babingtonii-LOU-Fungi-19770.png\n",
            "[!] Error:: HTTP Error 403: Forbidden\n",
            "[%] Downloading Image #12 from https://www.fungipedia.org/media/kunena/attachments/62/Adelphellababingtonii_2.jpg\n",
            "[%] File Downloaded !\n",
            "\n",
            "[%] Downloading Image #13 from https://www.fungipedia.org/media/kunena/attachments/62/Adelphellababingtonii_3.jpg\n",
            "[%] File Downloaded !\n",
            "\n",
            "[%] Downloading Image #14 from https://www.pharmanatur.com/Mycologie/Pachyella babingtonii 7.jpg\n",
            "[!] Issue getting: https://www.pharmanatur.com/Mycologie/Pachyella babingtonii 7.jpg\n",
            "[!] Error:: URL can't contain control characters. '/Mycologie/Pachyella babingtonii 7.jpg' (found at least ' ')\n",
            "[%] Downloading Image #14 from https://www.fungipedia.org/images/miniaturas/adelphella_babingtonii1.jpg\n",
            "[%] File Downloaded !\n",
            "\n",
            "[%] Downloading Image #15 from https://live.staticflickr.com/410/18574351689_3d891e1f71_z.jpg\n",
            "[%] File Downloaded !\n",
            "\n",
            "[%] Downloading Image #16 from http://manatarka.org/files/2020/03/Adelphellababingtonii6.jpg\n",
            "[%] File Downloaded !\n",
            "\n",
            "\n",
            "\n",
            "[!!]Indexing page: 2\n",
            "\n",
            "[%] Indexed 35 Images on Page 2.\n",
            "\n",
            "===============================================\n",
            "\n",
            "[%] Downloading Image #17 from http://www.mykoweb.com/CAF/photos/Adelphella_babingtoni_ mgw-01.jpg\n",
            "[!] Issue getting: http://www.mykoweb.com/CAF/photos/Adelphella_babingtoni_ mgw-01.jpg\n",
            "[!] Error:: URL can't contain control characters. '/CAF/photos/Adelphella_babingtoni_ mgw-01.jpg' (found at least ' ')\n",
            "[%] Downloading Image #17 from https://www.ilgiardinocommestibile.it/wp-content/uploads/2020/09/adelphella-babingtonii.jpg\n",
            "[%] File Downloaded !\n",
            "\n",
            "[%] Downloading Image #18 from https://www.fungipedia.org/images/galerias/adelphella_babingtonii/adelphella_babingtonii3.jpg\n",
            "[%] File Downloaded !\n",
            "\n",
            "[%] Downloading Image #19 from http://chawantake.sakura.ne.jp/image/Adelphella_babingtoniiL.jpg\n",
            "[%] File Downloaded !\n",
            "\n",
            "[%] Downloading Image #20 from http://manatarka.org/files/2015/08/Adelphellababingtonii1.jpg\n",
            "[%] File Downloaded !\n",
            "\n",
            "\n",
            "\n",
            "[%] Done. Downloaded 20 images.\n",
            "\n",
            "===============================================\n",
            "\n",
            "\n",
            "\n",
            "[!!]Indexing page: 1\n",
            "\n",
            "[%] Indexed 20 Images on Page 1.\n",
            "\n",
            "===============================================\n",
            "\n",
            "[%] Downloading Image #1 from https://upload.wikimedia.org/wikipedia/commons/thumb/4/40/Pieczarka_polowa_vongrzanka.JPG/1200px-Pieczarka_polowa_vongrzanka.JPG\n",
            "[%] File Downloaded !\n",
            "\n",
            "[%] Downloading Image #2 from https://upload.wikimedia.org/wikipedia/commons/thumb/5/58/2008-08-Agaricus-Stuttgartx7.JPG/1200px-2008-08-Agaricus-Stuttgartx7.JPG\n",
            "[%] File Downloaded !\n",
            "\n",
            "[%] Downloading Image #3 from https://i.pinimg.com/originals/eb/e1/01/ebe101c62d7677686778efd6dabcfc16.jpg\n",
            "[%] File Downloaded !\n",
            "\n",
            "[%] Downloading Image #4 from https://www.mykoweb.com/CAF/photos/large/Agaricus_fissuratus_fs-11.jpg\n",
            "[%] File Downloaded !\n",
            "\n",
            "[%] Downloading Image #5 from http://www.discoverlife.org/IM/I_MWS/1063/640/Agaricus_arvensis,I_MWS106368.jpg\n",
            "[!] Issue getting: http://www.discoverlife.org/IM/I_MWS/1063/640/Agaricus_arvensis,I_MWS106368.jpg\n",
            "[!] Error:: <urlopen error [SSL: CERTIFICATE_VERIFY_FAILED] certificate verify failed (_ssl.c:852)>\n",
            "[%] Downloading Image #5 from https://funfungi.files.wordpress.com/2014/09/20140915_162305.jpg\n",
            "[%] File Downloaded !\n",
            "\n",
            "[%] Downloading Image #6 from https://files.shroomery.org/files/15-51/057072153-DSC_4826.jpg\n",
            "[%] File Downloaded !\n",
            "\n",
            "[%] Downloading Image #7 from https://funfungi.files.wordpress.com/2014/08/0243f-2014-05-242b13-49-35.jpg\n",
            "[%] File Downloaded !\n",
            "\n",
            "[%] Downloading Image #8 from http://steve.rogueleaf.com/wp-content/uploads/2010/10/20101028031025_img-0136.jpg\n",
            "[%] File Downloaded !\n",
            "\n",
            "[%] Downloading Image #9 from https://upload.wikimedia.org/wikipedia/commons/thumb/8/8b/2008-08-Agaricus-Stuttgart.JPG/1200px-2008-08-Agaricus-Stuttgart.JPG\n",
            "[%] File Downloaded !\n",
            "\n",
            "[%] Downloading Image #10 from http://asergeev.com/p/xl-2017-2118-23/saint_petersburg_russia-horse_mushrooms_agaricus_arvensis_lawn.jpg\n",
            "[%] File Downloaded !\n",
            "\n",
            "[%] Downloading Image #11 from https://ultimate-mushroom.com/uploads/posts/2020-10/1601544861_agaricus-arvensis-4.jpg\n",
            "[%] File Downloaded !\n",
            "\n",
            "[%] Downloading Image #12 from http://www.mykoweb.com/CAF/photos/large/Agaricus_fissuratus(fs-08).jpg\n",
            "[%] File Downloaded !\n",
            "\n",
            "[%] Downloading Image #13 from http://3.bp.blogspot.com/-ujfz6DFOPHs/T73A4aeqIlI/AAAAAAAAFPA/z2nY4AdaaAg/s1600/Agaricus%2Barvensis.jpg\n",
            "[%] File Downloaded !\n",
            "\n",
            "[%] Downloading Image #14 from http://www.mykoweb.com/CAF/photos/large/Agaricus_fissuratus_fs-09.jpg\n",
            "[%] File Downloaded !\n",
            "\n",
            "[%] Downloading Image #15 from http://www.mykoweb.com/CAF/photos/large/Agaricus_fissuratus(fs-07).jpg\n",
            "[%] File Downloaded !\n",
            "\n",
            "[%] Downloading Image #16 from https://i.ytimg.com/vi/5C4uABTDrS8/maxresdefault.jpg\n",
            "[%] File Downloaded !\n",
            "\n",
            "[%] Downloading Image #17 from http://www.mykoweb.com/CAF/photos/large/Agaricus_fissuratus_fs-12.jpg\n",
            "[%] File Downloaded !\n",
            "\n",
            "[%] Downloading Image #18 from https://www.first-nature.com/fungi/images/agaricaceae/agaricus-arvensis1.jpg\n",
            "[%] File Downloaded !\n",
            "\n",
            "[%] Downloading Image #19 from http://natures-restaurant-online.com/Agaricus_arvensis_Schaeff.jpg\n",
            "[%] File Downloaded !\n",
            "\n",
            "\n",
            "\n",
            "[!!]Indexing page: 2\n",
            "\n",
            "[%] Indexed 35 Images on Page 2.\n",
            "\n",
            "===============================================\n",
            "\n",
            "[%] Downloading Image #20 from https://upload.wikimedia.org/wikipedia/commons/thumb/4/40/Pieczarka_polowa_vongrzanka.JPG/1200px-Pieczarka_polowa_vongrzanka.JPG\n",
            "[%] File Downloaded !\n",
            "\n",
            "\n",
            "\n",
            "[%] Done. Downloaded 20 images.\n",
            "\n",
            "===============================================\n",
            "\n",
            "\n",
            "\n",
            "[!!]Indexing page: 1\n",
            "\n",
            "[%] Indexed 20 Images on Page 1.\n",
            "\n",
            "===============================================\n",
            "\n",
            "[%] Downloading Image #1 from https://upload.wikimedia.org/wikipedia/commons/thumb/3/3a/Agaricus_campestris.jpg/1200px-Agaricus_campestris.jpg\n",
            "[%] File Downloaded !\n",
            "\n",
            "[%] Downloading Image #2 from https://healing-mushrooms.net/wp-content/uploads/2020/02/Agaricus-campestris.jpg\n",
            "[%] File Downloaded !\n",
            "\n",
            "[%] Downloading Image #3 from http://natures-restaurant-online.com/1280px-2010-08-07_Agaricus_campestris.jpg\n",
            "[%] File Downloaded !\n",
            "\n",
            "[%] Downloading Image #4 from http://www.mykoweb.com/CAF/photos/large/Agaricus_campestris(fs-03).jpg\n",
            "[%] File Downloaded !\n",
            "\n",
            "[%] Downloading Image #5 from http://www.mitchellplainfarm.com/blog/wp-content/uploads/2011/10/Agaricus-campestris-var-squamulosus-31.jpg\n",
            "[%] File Downloaded !\n",
            "\n",
            "[%] Downloading Image #6 from https://lynnjones11.files.wordpress.com/2011/08/agaricus-1.jpg\n",
            "[%] File Downloaded !\n",
            "\n",
            "[%] Downloading Image #7 from http://www.texasmushrooms.org/asergeev/pictures/archives/2018/2264/jpeg/09b.jpg\n",
            "[%] File Downloaded !\n",
            "\n",
            "[%] Downloading Image #8 from http://warehouse1.indicia.org.uk/upload/p16dqo83dv12k0n7gecv147oihck.jpg\n",
            "[%] File Downloaded !\n",
            "\n",
            "[%] Downloading Image #9 from http://www.mykoweb.com/CAF/photos/large/Agaricus_campestris(db-02).jpg\n",
            "[%] File Downloaded !\n",
            "\n",
            "[%] Downloading Image #10 from https://i.ytimg.com/vi/m3O20w3y02U/hqdefault.jpg\n",
            "[%] File Downloaded !\n",
            "\n",
            "[%] Downloading Image #11 from https://classconnection.s3.amazonaws.com/552/flashcards/36552/jpg/2010-08-07_agaricus_campestris_cropped1336349301390.jpg\n",
            "[%] File Downloaded !\n",
            "\n",
            "[%] Downloading Image #12 from https://www.first-nature.com/fungi/images/agaricaceae/agaricus-campestris1.jpg\n",
            "[%] File Downloaded !\n",
            "\n",
            "[%] Downloading Image #13 from https://www.wildfooduk.com/wp-content/uploads/2018/01/Field-10.jpg\n",
            "[%] File Downloaded !\n",
            "\n",
            "[%] Downloading Image #14 from https://upload.wikimedia.org/wikipedia/commons/9/95/2012-02-13_Agaricus_campestris_L_199587.jpg\n",
            "[%] File Downloaded !\n",
            "\n",
            "[%] Downloading Image #15 from https://ohiomushroomsociety.files.wordpress.com/2015/12/agaricus-campestris-thomassampliner-201512.jpg\n",
            "[%] File Downloaded !\n",
            "\n",
            "[%] Downloading Image #16 from http://2.bp.blogspot.com/-nXnJjlF71cQ/UpOZI65TiII/AAAAAAAAH0s/MMUj139XV3w/s1600/Agaricus+campestris+28-10-2013+11-29-18.JPG\n",
            "[%] File Downloaded !\n",
            "\n",
            "[%] Downloading Image #17 from http://4.bp.blogspot.com/-Kijan4GkGAI/TfrFKb6qFaI/AAAAAAAABn8/-8oSS2F87zw/s1600/champignonnnnn.jpg\n",
            "[%] File Downloaded !\n",
            "\n",
            "[%] Downloading Image #18 from https://ohiomushroomsociety.files.wordpress.com/2014/07/agaricus-campestris_am.jpg\n",
            "[%] File Downloaded !\n",
            "\n",
            "[%] Downloading Image #19 from http://2.bp.blogspot.com/-WgxIEu99XSs/TtIJQ0C9FDI/AAAAAAAAB30/9QtbkWFvt-s/s1600/Mushroom_14.jpg\n",
            "[%] File Downloaded !\n",
            "\n",
            "[%] Downloading Image #20 from https://sporesmouldsandfungi.files.wordpress.com/2015/04/014-2015-04-28.jpg\n",
            "[%] File Downloaded !\n",
            "\n",
            "\n",
            "\n",
            "[!!]Indexing page: 1\n",
            "\n",
            "[%] Indexed 20 Images on Page 1.\n",
            "\n",
            "===============================================\n",
            "\n",
            "[%] Downloading Image #1 from http://gribi.net.ua/wp-content/uploads/2017/02/Agaricus-litoralis.jpg\n",
            "[%] File Downloaded !\n",
            "\n",
            "[%] Downloading Image #2 from http://3.bp.blogspot.com/-WjZ34oMUvwU/UnlgT_YFgjI/AAAAAAAAHUw/-zTTZ45G-VM/s1600/Agaricus+Maskae+05-11-2013+13-32-03.JPG\n",
            "[%] File Downloaded !\n",
            "\n",
            "[%] Downloading Image #3 from https://www.funghiitaliani.it/uploads/monthly_12_2009/post-127-1261248984.jpg\n",
            "[%] File Downloaded !\n",
            "\n",
            "[%] Downloading Image #4 from http://www.stridvall.se/fungi/albums/Agaricus/F30A7180.sized.jpg\n",
            "[%] File Downloaded !\n",
            "\n",
            "[%] Downloading Image #5 from http://www.biopix.com/photos/jcs-agaricus-litoralis-64366.jpg\n",
            "[%] File Downloaded !\n",
            "\n",
            "[%] Downloading Image #6 from https://live.staticflickr.com/2596/4090431071_ee72f17e35_b.jpg\n",
            "[%] File Downloaded !\n",
            "\n",
            "[%] Downloading Image #7 from http://2.bp.blogspot.com/-RkABnIQJdgc/VChqLzbcO7I/AAAAAAAAJ-s/k6mt2UfTkMw/s1600/DSC_0001-003.JPG\n",
            "[%] File Downloaded !\n",
            "\n",
            "[%] Downloading Image #8 from https://www.funghiitaliani.it/uploads/monthly_12_2009/post-3093-1261050378.jpg\n",
            "[%] File Downloaded !\n",
            "\n",
            "[%] Downloading Image #9 from http://www.fungipedia.org/images/galerias/agaricus_litoralis/agaricus_litoralis3.jpg\n",
            "[%] File Downloaded !\n",
            "\n",
            "[%] Downloading Image #10 from https://pt.fungipedia.org/images/galerias/agaricus_litoralis/agaricus_litoralis2.jpg\n",
            "[%] File Downloaded !\n",
            "\n",
            "[%] Downloading Image #11 from http://manatarka.org/files/2019/05/Agaricuslitoralis6a.jpg\n",
            "[%] File Downloaded !\n",
            "\n",
            "[%] Downloading Image #12 from https://www.funghiitaliani.it/uploads/monthly_12_2009/post-2286-1261212505.jpg\n",
            "[%] File Downloaded !\n",
            "\n",
            "[%] Downloading Image #13 from http://www.mycoleron.fr/photos champignons/agaricus litoralis jg03 r.jpg\n",
            "[!] Issue getting: http://www.mycoleron.fr/photos champignons/agaricus litoralis jg03 r.jpg\n",
            "[!] Error:: URL can't contain control characters. '/photos champignons/agaricus litoralis jg03 r.jpg' (found at least ' ')\n",
            "[%] Downloading Image #13 from http://www.funghi-bormio.it/Immagini/Imm_Schede/Prati_pascoli/Agaricus_litoralis%20g.jpg\n",
            "[%] File Downloaded !\n",
            "\n",
            "[%] Downloading Image #14 from http://manatarka.org/files/2019/05/Agaricuslitoralis7a.jpg\n",
            "[%] File Downloaded !\n",
            "\n",
            "[%] Downloading Image #15 from https://www.asturnatura.com/photo/_files/photogallery/b1cca03151cb078b220237b54518fd14.jpg\n",
            "[%] File Downloaded !\n",
            "\n",
            "[%] Downloading Image #16 from http://www.fungipedia.org/images/galerias/agaricus_litoralis/agaricus_litoralis1.jpg\n",
            "[%] File Downloaded !\n",
            "\n",
            "[%] Downloading Image #17 from http://manatarka.org/files/2017/02/Agaricuslitoralis1-300x225.jpg\n",
            "[%] File Downloaded !\n",
            "\n",
            "[%] Downloading Image #18 from https://forum.dgfm-ev.de/wcf/attachment/3474-2010-08-07-agaricus-cf-litoralis-1-jpg/\n",
            "[%] File Downloaded !\n",
            "\n",
            "[%] Downloading Image #19 from https://www.funghiitaliani.it/uploads/monthly_06_2014/post-12947-0-44748600-1403104863.jpg\n",
            "[%] File Downloaded !\n",
            "\n",
            "\n",
            "\n",
            "[!!]Indexing page: 2\n",
            "\n",
            "[%] Indexed 35 Images on Page 2.\n",
            "\n",
            "===============================================\n",
            "\n",
            "[%] Downloading Image #20 from http://gribi.net.ua/wp-content/uploads/2017/02/Agaricus-litoralis.jpg\n",
            "[%] File Downloaded !\n",
            "\n",
            "\n",
            "\n",
            "[%] Done. Downloaded 20 images.\n",
            "\n",
            "===============================================\n",
            "\n",
            "\n",
            "\n",
            "[!!]Indexing page: 1\n",
            "\n",
            "[%] Indexed 20 Images on Page 1.\n",
            "\n",
            "===============================================\n",
            "\n",
            "[%] Downloading Image #1 from http://upload.wikimedia.org/wikipedia/commons/4/47/Agaricus_sylvaticus_G7.JPG\n",
            "[%] File Downloaded !\n",
            "\n",
            "[%] Downloading Image #2 from http://www.mushrooms.su/asergeev/pictures/archives/2016/1886/jpeg/09b.jpg\n",
            "[%] File Downloaded !\n",
            "\n",
            "[%] Downloading Image #3 from http://www.stridvall.se/fungi/albums/Agaricus/AAAA3248.jpg\n",
            "[%] File Downloaded !\n",
            "\n",
            "[%] Downloading Image #4 from http://www.fungikingdom.net/_Media/agaricus-sylvaticus01078_med_hr.jpeg\n",
            "[%] File Downloaded !\n",
            "\n",
            "[%] Downloading Image #5 from http://www.stridvall.se/fungi/albums/Agaricus/NIKB2743.sized.jpg\n",
            "[%] File Downloaded !\n",
            "\n",
            "[%] Downloading Image #6 from http://i1.treknature.com/photos/14710/1-1-1-1-dsc_0062-001.jpg\n",
            "[%] File Downloaded !\n",
            "\n",
            "[%] Downloading Image #7 from http://davidmoore.org.uk/Assets/Mostly_Mycology/Richard_Clarke/fungiphoto/photo_large/Agaricus_sylvaticus_Blushing_Wood_Mushroom.jpg\n",
            "[%] File Downloaded !\n",
            "\n",
            "[%] Downloading Image #8 from http://www.velutipes.com/natural/agaricus_sylvaticus.jpg\n",
            "[%] File Downloaded !\n",
            "\n",
            "[%] Downloading Image #9 from https://www.mycodb.fr/photos/Agaricus_sylvaticus_2006_jg_1.jpg\n",
            "[%] File Downloaded !\n",
            "\n",
            "[%] Downloading Image #10 from https://www.first-nature.com/fungi/images/agaricaceae/agaricus-sylvaticus1.jpg\n",
            "[%] File Downloaded !\n",
            "\n",
            "[%] Downloading Image #11 from http://svampguiden.com/assets/img/sg_img/sg_artbilder/agaricus_silvaticus_01.jpg\n",
            "[%] File Downloaded !\n",
            "\n",
            "[%] Downloading Image #12 from https://live.staticflickr.com/7027/6566091509_ea2e6304bb_b.jpg\n",
            "[Error]Invalid image, not saving https://live.staticflickr.com/7027/6566091509_ea2e6304bb_b.jpg\n",
            "\n",
            "[!] Issue getting: https://live.staticflickr.com/7027/6566091509_ea2e6304bb_b.jpg\n",
            "[!] Error:: No active exception to reraise\n",
            "[%] Downloading Image #12 from http://www.stridvall.se/fungi/albums/Agaricus/F30A2109.jpg\n",
            "[%] File Downloaded !\n",
            "\n",
            "[%] Downloading Image #13 from https://i.ytimg.com/vi/P2GPByPtJYQ/maxresdefault.jpg\n",
            "[%] File Downloaded !\n",
            "\n",
            "[%] Downloading Image #14 from https://i1.treknature.com/photos/20831/agaraugusakgl4.jpg\n",
            "[%] File Downloaded !\n",
            "\n",
            "[%] Downloading Image #15 from http://www.mycoleron.fr/photos champignons/agaricus sylvaticus jg01 r.jpg\n",
            "[!] Issue getting: http://www.mycoleron.fr/photos champignons/agaricus sylvaticus jg01 r.jpg\n",
            "[!] Error:: URL can't contain control characters. '/photos champignons/agaricus sylvaticus jg01 r.jpg' (found at least ' ')\n",
            "[%] Downloading Image #15 from http://fungi.biodiversity-georgia.net/wp-content/uploads/2017/03/Agaricus-silvaticus-1.jpg\n",
            "[%] File Downloaded !\n",
            "\n",
            "[%] Downloading Image #16 from https://i.pinimg.com/736x/8f/08/fa/8f08fa92b208f29261771d322304be2a.jpg\n",
            "[%] File Downloaded !\n",
            "\n",
            "[%] Downloading Image #17 from https://www.myko.cz/myko/public/images/myko/0066/2017/0066-2017-0092-0001p.jpg\n",
            "[%] File Downloaded !\n",
            "\n",
            "[%] Downloading Image #18 from https://i.ytimg.com/vi/mIWOVeB4EJg/hqdefault.jpg\n",
            "[%] File Downloaded !\n",
            "\n",
            "\n",
            "\n",
            "[!!]Indexing page: 2\n",
            "\n",
            "[%] Indexed 35 Images on Page 2.\n",
            "\n",
            "===============================================\n",
            "\n",
            "[%] Downloading Image #19 from http://upload.wikimedia.org/wikipedia/commons/4/47/Agaricus_sylvaticus_G7.JPG\n",
            "[%] File Downloaded !\n",
            "\n",
            "[%] Downloading Image #20 from http://www.mushrooms.su/asergeev/pictures/archives/2016/1886/jpeg/09b.jpg\n",
            "[%] File Downloaded !\n",
            "\n",
            "\n",
            "\n",
            "[%] Done. Downloaded 20 images.\n",
            "\n",
            "===============================================\n",
            "\n",
            "\n",
            "\n",
            "[!!]Indexing page: 1\n",
            "\n",
            "[%] Indexed 20 Images on Page 1.\n",
            "\n",
            "===============================================\n",
            "\n",
            "[%] Downloading Image #1 from https://www.mykoweb.com/CAF/photos/large/Agaricus_sylvicola(fs-04).jpg\n",
            "[%] File Downloaded !\n",
            "\n",
            "[%] Downloading Image #2 from http://www.mykoweb.com/CAF/photos/large/Agaricus_sylvicola%28fs-02%29.jpg\n",
            "[%] File Downloaded !\n",
            "\n",
            "[%] Downloading Image #3 from https://www.mykoweb.com/CAF/photos/large/Agaricus_sylvicola(mgw-01).jpg\n",
            "[%] File Downloaded !\n",
            "\n",
            "[%] Downloading Image #4 from https://upload.wikimedia.org/wikipedia/commons/a/ab/Agaricus_sylvicola_G4_(1).JPG\n",
            "[%] File Downloaded !\n",
            "\n",
            "[%] Downloading Image #5 from http://www.mykoweb.com/CAF/photos/large/Agaricus_sylvicola%28fs-01%29.jpg\n",
            "[%] File Downloaded !\n",
            "\n",
            "[%] Downloading Image #6 from https://andriigryganskyi.files.wordpress.com/2012/09/p1170051.jpg\n",
            "[%] File Downloaded !\n",
            "\n",
            "[%] Downloading Image #7 from http://www.texasmushrooms.org/asergeev/pictures/archives/2017/2200/jpeg/10b.jpg\n",
            "[%] File Downloaded !\n",
            "\n",
            "[%] Downloading Image #8 from http://www.mushrooms.su/asergeev/pictures/archives/2016/1886/jpeg/07b.jpg\n",
            "[%] File Downloaded !\n",
            "\n",
            "[%] Downloading Image #9 from http://www.mykoweb.com/CAF/photos/Agaricus_sylvicola(db-01).jpg\n",
            "[%] File Downloaded !\n",
            "\n",
            "[%] Downloading Image #10 from http://www.mushrooms.su/asergeev/pictures/archives/2017/2151/jpeg/12b.jpg\n",
            "[%] File Downloaded !\n",
            "\n",
            "[%] Downloading Image #11 from https://www.first-nature.com/fungi/images/agaricaceae/agaricus-sylvicola1.jpg\n",
            "[%] File Downloaded !\n",
            "\n",
            "[%] Downloading Image #12 from https://www.first-nature.com/fungi/images/agaricaceae/agaricus-sylvicola5.jpg\n",
            "[%] File Downloaded !\n",
            "\n",
            "[%] Downloading Image #13 from http://www.texasmushrooms.org/asergeev/pictures/archives/2017/2189/jpeg/26b.jpg\n",
            "[%] File Downloaded !\n",
            "\n",
            "[%] Downloading Image #14 from http://idata.over-blog.com/0/04/43/94/Photos-environnement-Cote-Azur/100_6655_agaricus-sylvicola.jpg\n",
            "[%] File Downloaded !\n",
            "\n",
            "[%] Downloading Image #15 from http://www.mushrooms.su/asergeev/pictures/archives/2017/2148/jpeg/26b.jpg\n",
            "[%] File Downloaded !\n",
            "\n",
            "[%] Downloading Image #16 from https://www.first-nature.com/fungi/images/agaricaceae/agaricus-sylvicola6.jpg\n",
            "[%] File Downloaded !\n",
            "\n",
            "[%] Downloading Image #17 from https://www.francini-mycologie.fr/LA_PAGE_DU_DEBUTANT/Agaricus_sylvicola_2.jpg\n",
            "[%] File Downloaded !\n",
            "\n",
            "[%] Downloading Image #18 from http://www.hlasek.com/foto/agaricus_sylvicola_ai8784.jpg\n",
            "[%] File Downloaded !\n",
            "\n",
            "[%] Downloading Image #19 from http://www.velutipes.com/natural/agaricus_sylvicola1.jpg\n",
            "[%] File Downloaded !\n",
            "\n",
            "[%] Downloading Image #20 from http://www.leifgoodwin.co.uk/Fungi/0_Frame 21 Agaricus silvaticus.jpg\n",
            "[!] Issue getting: http://www.leifgoodwin.co.uk/Fungi/0_Frame 21 Agaricus silvaticus.jpg\n",
            "[!] Error:: URL can't contain control characters. '/Fungi/0_Frame 21 Agaricus silvaticus.jpg' (found at least ' ')\n",
            "\n",
            "\n",
            "[!!]Indexing page: 2\n",
            "\n",
            "[%] Indexed 35 Images on Page 2.\n",
            "\n",
            "===============================================\n",
            "\n",
            "[%] Downloading Image #20 from https://www.mykoweb.com/CAF/photos/large/Agaricus_sylvicola(fs-04).jpg\n",
            "[%] File Downloaded !\n",
            "\n",
            "\n",
            "\n",
            "[%] Done. Downloaded 20 images.\n",
            "\n",
            "===============================================\n",
            "\n",
            "\n",
            "\n",
            "[!!]Indexing page: 1\n",
            "\n",
            "[%] Indexed 20 Images on Page 1.\n",
            "\n",
            "===============================================\n",
            "\n",
            "[%] Downloading Image #1 from https://c1.staticflickr.com/7/6181/6033005111_57b2644004_b.jpg\n",
            "[%] File Downloaded !\n",
            "\n",
            "[%] Downloading Image #2 from http://www.first-nature.com/fungi/images/agaricaceae/agaricus-urinascens4.jpg\n",
            "[%] File Downloaded !\n",
            "\n",
            "[%] Downloading Image #3 from http://www.first-nature.com/fungi/images/agaricaceae/agaricus-urinascens1.jpg\n",
            "[%] File Downloaded !\n",
            "\n",
            "[%] Downloading Image #4 from https://1.bp.blogspot.com/-YW_6LGsjuPs/VQnDvcDwskI/AAAAAAAADb0/PlEQ0Xahtl0/s1600/Agaricus%2BurinascensR2541a.jpg\n",
            "[%] File Downloaded !\n",
            "\n",
            "[%] Downloading Image #5 from http://champignon38.asso-seyssinet-pariset.fr/wp-content/uploads/2013/09/Agaricus-urinascens2.jpg\n",
            "[%] File Downloaded !\n",
            "\n",
            "[%] Downloading Image #6 from http://www.biopix.com/photos/jcs-agaricus-urinascens-21760.jpg\n",
            "[%] File Downloaded !\n",
            "\n",
            "[%] Downloading Image #7 from http://warehouse1.indicia.org.uk/upload/p16f1dobu464mmbv13u1fmu1dgf5.jpg\n",
            "[%] File Downloaded !\n",
            "\n",
            "[%] Downloading Image #8 from https://i.pinimg.com/originals/a7/14/ef/a714ef0ba23454ab58541507040c2d49.jpg\n",
            "[%] File Downloaded !\n",
            "\n",
            "[%] Downloading Image #9 from https://i0.wp.com/www.mushroomdiary.co.uk/wp-content/uploads/2016/05/macro-mushroom.jpg\n",
            "[%] File Downloaded !\n",
            "\n",
            "[%] Downloading Image #10 from http://www.leifgoodwin.co.uk/Fungi/0__DSC4620%20Agaricus%20urinascens%20var%20excellens%20AffinityPhoto.jpg\n",
            "[%] File Downloaded !\n",
            "\n",
            "[%] Downloading Image #11 from http://www.pharmanatur.com/Mycologie/Agaricus urinascens 5.jpg\n",
            "[!] Issue getting: http://www.pharmanatur.com/Mycologie/Agaricus urinascens 5.jpg\n",
            "[!] Error:: URL can't contain control characters. '/Mycologie/Agaricus urinascens 5.jpg' (found at least ' ')\n",
            "[%] Downloading Image #11 from http://www.mycoleron.fr/photos champignons/agaricus urinascens jg 02 r.jpg\n",
            "[!] Issue getting: http://www.mycoleron.fr/photos champignons/agaricus urinascens jg 02 r.jpg\n",
            "[!] Error:: URL can't contain control characters. '/photos champignons/agaricus urinascens jg 02 r.jpg' (found at least ' ')\n",
            "[%] Downloading Image #11 from https://upload.wikimedia.org/wikipedia/commons/thumb/8/80/Agaricus-urinascens-Dordogne_01.JPG/1200px-Agaricus-urinascens-Dordogne_01.JPG\n",
            "[%] File Downloaded !\n",
            "\n",
            "[%] Downloading Image #12 from https://www.pilzfotopage.de/Agaricales/slides/Agaricus_urinascens.jpg\n",
            "[%] File Downloaded !\n",
            "\n",
            "[%] Downloading Image #13 from https://www.researchgate.net/profile/Cvetomir_Denchev/publication/281625318/figure/download/fig2/AS:669432674283539@1536616595831/Agaricus-urinascens-E-Polemis.jpg\n",
            "[!] Issue getting: https://www.researchgate.net/profile/Cvetomir_Denchev/publication/281625318/figure/download/fig2/AS:669432674283539@1536616595831/Agaricus-urinascens-E-Polemis.jpg\n",
            "[!] Error:: HTTP Error 403: Forbidden\n",
            "[%] Downloading Image #13 from https://www.fungipedia.org/images/galerias/agaricus_urinascens/agaricus_urinascens3.jpg\n",
            "[%] File Downloaded !\n",
            "\n",
            "[%] Downloading Image #14 from https://www.pharmanatur.com/Mycologie/Agaricus urinascens 3.jpg\n",
            "[!] Issue getting: https://www.pharmanatur.com/Mycologie/Agaricus urinascens 3.jpg\n",
            "[!] Error:: URL can't contain control characters. '/Mycologie/Agaricus urinascens 3.jpg' (found at least ' ')\n",
            "[%] Downloading Image #14 from https://a4.pbase.com/o9/08/357108/1/158246770.C2A7DmBm.GrspChamp.jpg\n",
            "[%] File Downloaded !\n",
            "\n",
            "[%] Downloading Image #15 from https://www.asturnatura.com/photo/_files/photogallery/c9e5228d9fa43ed271fd108725a47307.jpg\n",
            "[%] File Downloaded !\n",
            "\n",
            "[%] Downloading Image #16 from http://www.mycoleron.fr/photos%20champignons/agaricus%20urinascens%20gd10%20r.jpg\n",
            "[%] File Downloaded !\n",
            "\n",
            "\n",
            "\n",
            "[!!]Indexing page: 2\n",
            "\n",
            "[%] Indexed 35 Images on Page 2.\n",
            "\n",
            "===============================================\n",
            "\n",
            "[%] Downloading Image #17 from https://i.pinimg.com/originals/a7/14/ef/a714ef0ba23454ab58541507040c2d49.jpg\n",
            "[%] File Downloaded !\n",
            "\n",
            "[%] Downloading Image #18 from http://www.first-nature.com/fungi/images/agaricaceae/agaricus-urinascens1.jpg\n",
            "[%] File Downloaded !\n",
            "\n",
            "[%] Downloading Image #19 from http://warehouse1.indicia.org.uk/upload/p16f1dobu464mmbv13u1fmu1dgf5.jpg\n",
            "[%] File Downloaded !\n",
            "\n",
            "[%] Downloading Image #20 from https://1.bp.blogspot.com/-YW_6LGsjuPs/VQnDvcDwskI/AAAAAAAADb0/PlEQ0Xahtl0/s1600/Agaricus%2BurinascensR2541a.jpg\n",
            "[%] File Downloaded !\n",
            "\n",
            "\n",
            "\n",
            "[%] Done. Downloaded 20 images.\n",
            "\n",
            "===============================================\n",
            "\n",
            "\n",
            "\n",
            "[!!]Indexing page: 1\n",
            "\n",
            "[%] Indexed 20 Images on Page 1.\n",
            "\n",
            "===============================================\n",
            "\n",
            "[%] Downloading Image #1 from https://upload.wikimedia.org/wikipedia/commons/0/08/Agaricus_xanthodermus_section.jpg\n",
            "[%] File Downloaded !\n",
            "\n",
            "[%] Downloading Image #2 from http://warehouse1.indicia.org.uk/upload/o_1a56sijra1mtb2d21fle4ap3s4d.jpg\n",
            "[%] File Downloaded !\n",
            "\n",
            "[%] Downloading Image #3 from http://steve.rogueleaf.com/wp-content/uploads/2010/10/20101029004918_img-0245.jpg\n",
            "[%] File Downloaded !\n",
            "\n",
            "[%] Downloading Image #4 from http://www.mushroomexpert.com/images/kuo6/agaricus_xanthodermus_03.jpg\n",
            "[%] File Downloaded !\n",
            "\n",
            "[%] Downloading Image #5 from http://warehouse1.indicia.org.uk/upload/p16fm2drcb1q3d1jrlvab74m11gr5.jpg\n",
            "[%] File Downloaded !\n",
            "\n",
            "[%] Downloading Image #6 from https://upload.wikimedia.org/wikipedia/commons/thumb/0/00/2010-11-13_Agaricus_xanthodermus_Genev_120348_crop.jpg/1200px-2010-11-13_Agaricus_xanthodermus_Genev_120348_crop.jpg\n",
            "[%] File Downloaded !\n",
            "\n",
            "[%] Downloading Image #7 from http://www.mykoweb.com/CAF/photos/large/Agaricus_xanthodermus_fs-09.jpg\n",
            "[%] File Downloaded !\n",
            "\n",
            "[%] Downloading Image #8 from http://www.mykoweb.com/CAF/photos/large/Agaricus_xanthodermus_fs-11.jpg\n",
            "[%] File Downloaded !\n",
            "\n",
            "[%] Downloading Image #9 from http://www.mushroomexpert.com/images/kuo6/agaricus_xanthodermus_01.jpg\n",
            "[%] File Downloaded !\n",
            "\n",
            "[%] Downloading Image #10 from http://www.mykoweb.com/CAF/photos/large/Agaricus_xanthodermus_mgw-04.jpg\n",
            "[%] File Downloaded !\n",
            "\n",
            "[%] Downloading Image #11 from http://www.mushroomexpert.com/images/kuo6/agaricus_xanthodermus_02.jpg\n",
            "[%] File Downloaded !\n",
            "\n",
            "[%] Downloading Image #12 from http://www.mykoweb.com/CAF/photos/large/Agaricus_xanthodermus_fs-12.jpg\n",
            "[%] File Downloaded !\n",
            "\n",
            "[%] Downloading Image #13 from http://www.mykoweb.com/CAF/photos/Agaricus_xanthodermus_fs-10.jpg\n",
            "[%] File Downloaded !\n",
            "\n",
            "[%] Downloading Image #14 from http://upload.wikimedia.org/wikipedia/commons/e/e2/2011-10-13_Agaricus_xanthodermus_Genev_181971.jpg\n",
            "[%] File Downloaded !\n",
            "\n",
            "[%] Downloading Image #15 from http://www.mykoweb.com/CAF/photos/large/Agaricus_xanthodermus(mgw-02).jpg\n",
            "[%] File Downloaded !\n",
            "\n",
            "[%] Downloading Image #16 from http://www.mykoweb.com/CAF/photos/large/Agaricus_xanthodermus(mgw-01).jpg\n",
            "[%] File Downloaded !\n",
            "\n",
            "[%] Downloading Image #17 from http://upload.wikimedia.org/wikipedia/commons/a/a5/2012-04-19_Agaricus_xanthodermus_Genev_213787.jpg\n",
            "[%] File Downloaded !\n",
            "\n",
            "[%] Downloading Image #18 from http://qldfungi.org.au/wp-content/uploads/2013/05/agaricus_xanthodermus_PL_1024.jpg\n",
            "[%] File Downloaded !\n",
            "\n",
            "[%] Downloading Image #19 from http://nathistoc.bio.uci.edu/Fungi/Agaraicus xanthodermus6.gif\n",
            "[!] Issue getting: http://nathistoc.bio.uci.edu/Fungi/Agaraicus xanthodermus6.gif\n",
            "[!] Error:: URL can't contain control characters. '/Fungi/Agaraicus xanthodermus6.gif' (found at least ' ')\n",
            "[%] Downloading Image #19 from http://nathistoc.bio.uci.edu/Fungi/Agaricus xanthodermus/Agaricus xanthodermus.jpg\n",
            "[!] Issue getting: http://nathistoc.bio.uci.edu/Fungi/Agaricus xanthodermus/Agaricus xanthodermus.jpg\n",
            "[!] Error:: URL can't contain control characters. '/Fungi/Agaricus xanthodermus/Agaricus xanthodermus.jpg' (found at least ' ')\n",
            "\n",
            "\n",
            "[!!]Indexing page: 2\n",
            "\n",
            "[%] Indexed 35 Images on Page 2.\n",
            "\n",
            "===============================================\n",
            "\n",
            "[%] Downloading Image #19 from https://upload.wikimedia.org/wikipedia/commons/0/08/Agaricus_xanthodermus_section.jpg\n",
            "[%] File Downloaded !\n",
            "\n",
            "[%] Downloading Image #20 from http://warehouse1.indicia.org.uk/upload/o_1a56sijra1mtb2d21fle4ap3s4d.jpg\n",
            "[%] File Downloaded !\n",
            "\n",
            "\n",
            "\n",
            "[%] Done. Downloaded 20 images.\n",
            "\n",
            "===============================================\n",
            "\n",
            "\n",
            "\n",
            "[!!]Indexing page: 1\n",
            "\n",
            "[%] Indexed 20 Images on Page 1.\n",
            "\n",
            "===============================================\n",
            "\n",
            "[%] Downloading Image #1 from http://www.mushrooms.su/asergeev/pictures/archives/2017/2066/jpeg/32b.jpg\n",
            "[%] File Downloaded !\n",
            "\n",
            "[%] Downloading Image #2 from https://upload.wikimedia.org/wikipedia/commons/thumb/e/e5/Agrocybe_praecox_20120415wa.JPG/1200px-Agrocybe_praecox_20120415wa.JPG\n",
            "[Error]Invalid image, not saving https://upload.wikimedia.org/wikipedia/commons/thumb/e/e5/Agrocybe_praecox_20120415wa.JPG/1200px-Agrocybe_praecox_20120415wa.JPG\n",
            "\n",
            "[!] Issue getting: https://upload.wikimedia.org/wikipedia/commons/thumb/e/e5/Agrocybe_praecox_20120415wa.JPG/1200px-Agrocybe_praecox_20120415wa.JPG\n",
            "[!] Error:: No active exception to reraise\n",
            "[%] Downloading Image #2 from http://www.mushrooms.su/asergeev/pictures/archives/2017/2066/jpeg/29b.jpg\n",
            "[%] File Downloaded !\n",
            "\n",
            "[%] Downloading Image #3 from http://www.mushrooms.su/asergeev/pictures/archives/2017/2066/jpeg/02b.jpg\n",
            "[%] File Downloaded !\n",
            "\n",
            "[%] Downloading Image #4 from http://www.mykoweb.com/CAF/photos/large/Agrocybe_praecox_fs-05.jpg\n",
            "[%] File Downloaded !\n",
            "\n",
            "[%] Downloading Image #5 from http://www.mykoweb.com/CAF/photos/Agrocybe_praecox_fs-04.jpg\n",
            "[%] File Downloaded !\n",
            "\n",
            "[%] Downloading Image #6 from https://upload.wikimedia.org/wikipedia/commons/thumb/0/0f/2011-05-17_Agrocybe_praecox_%28Pers.%29_Fayod_146356_crop.jpg/1200px-2011-05-17_Agrocybe_praecox_%28Pers.%29_Fayod_146356_crop.jpg\n",
            "[%] File Downloaded !\n",
            "\n",
            "[%] Downloading Image #7 from http://www.mykoweb.com/CAF/photos/large/Agrocybe_praecox_fs-07.jpg\n",
            "[%] File Downloaded !\n",
            "\n",
            "[%] Downloading Image #8 from https://letsdeliquesce.files.wordpress.com/2009/12/img_24831.jpg\n",
            "[%] File Downloaded !\n",
            "\n",
            "[%] Downloading Image #9 from http://www.mykoweb.com/CAF/photos/large/Agrocybe_praecox_fs-08.jpg\n",
            "[%] File Downloaded !\n",
            "\n",
            "[%] Downloading Image #10 from http://www.mushrooms.su/asergeev/pictures/archives/2017/2066/jpeg/33b.jpg\n",
            "[%] File Downloaded !\n",
            "\n",
            "[%] Downloading Image #11 from http://www.mykoweb.com/CAF/photos/large/Agrocybe_praecox_fs-09.jpg\n",
            "[%] File Downloaded !\n",
            "\n",
            "[%] Downloading Image #12 from https://www.first-nature.com/fungi/images/strophariaceae/agrocybe-praecox1.jpg\n",
            "[%] File Downloaded !\n",
            "\n",
            "[%] Downloading Image #13 from https://www.mushroomexpert.com/images/kuo/agrocybe_praecox_01big.jpg\n",
            "[%] File Downloaded !\n",
            "\n",
            "[%] Downloading Image #14 from http://www.nifg.org.uk/wp-content/uploads/2019/02/Agrocybe_praecox2.jpg\n",
            "[%] File Downloaded !\n",
            "\n",
            "[%] Downloading Image #15 from https://upload.wikimedia.org/wikipedia/commons/thumb/7/76/Agrocybe_praecox.jpg/1200px-Agrocybe_praecox.jpg\n",
            "[%] File Downloaded !\n",
            "\n",
            "[%] Downloading Image #16 from http://www.mushroomexpert.com/images/kuo2/agrocybe_praecox_04.jpg\n",
            "[%] File Downloaded !\n",
            "\n",
            "[%] Downloading Image #17 from http://www.scmycoflora.org/genera/agrocybe/images/Agrocybe-praecox_1.jpg\n",
            "[%] File Downloaded !\n",
            "\n",
            "[%] Downloading Image #18 from http://www.mushroomexpert.com/images/kaminski/kaminski_agrocybe_praecox_02.jpg\n",
            "[%] File Downloaded !\n",
            "\n",
            "[%] Downloading Image #19 from https://upload.wikimedia.org/wikipedia/commons/0/0e/Agrocybe_praecox_20120415wb.JPG\n",
            "[%] File Downloaded !\n",
            "\n",
            "\n",
            "\n",
            "[!!]Indexing page: 2\n",
            "\n",
            "[%] Indexed 35 Images on Page 2.\n",
            "\n",
            "===============================================\n",
            "\n",
            "[%] Downloading Image #20 from https://upload.wikimedia.org/wikipedia/commons/thumb/e/e5/Agrocybe_praecox_20120415wa.JPG/1200px-Agrocybe_praecox_20120415wa.JPG\n",
            "[Error]Invalid image, not saving https://upload.wikimedia.org/wikipedia/commons/thumb/e/e5/Agrocybe_praecox_20120415wa.JPG/1200px-Agrocybe_praecox_20120415wa.JPG\n",
            "\n",
            "[!] Issue getting: https://upload.wikimedia.org/wikipedia/commons/thumb/e/e5/Agrocybe_praecox_20120415wa.JPG/1200px-Agrocybe_praecox_20120415wa.JPG\n",
            "[!] Error:: No active exception to reraise\n",
            "[%] Downloading Image #20 from http://www.mushrooms.su/asergeev/pictures/archives/2017/2066/jpeg/32b.jpg\n",
            "[%] File Downloaded !\n",
            "\n",
            "\n",
            "\n",
            "[%] Done. Downloaded 20 images.\n",
            "\n",
            "===============================================\n",
            "\n",
            "\n",
            "I'm done\n"
          ],
          "name": "stdout"
        }
      ]
    },
    {
      "cell_type": "code",
      "metadata": {
        "colab": {
          "base_uri": "https://localhost:8080/"
        },
        "id": "UWAS3c0ndK5C",
        "outputId": "040f101e-d678-4cff-bf79-be33b8f074ab"
      },
      "source": [
        "contenido = os.listdir('dataset')\n",
        "contenido=sorted(contenido)\n",
        "contenido"
      ],
      "execution_count": 14,
      "outputs": [
        {
          "output_type": "execute_result",
          "data": {
            "text/plain": [
              "['Abortiporus biennis',\n",
              " 'Adelphella babingtonii',\n",
              " 'Agaricus arvensis',\n",
              " 'Agaricus campestris',\n",
              " 'Agaricus litoralis',\n",
              " 'Agaricus sylvaticus',\n",
              " 'Agaricus sylvicola',\n",
              " 'Agaricus urinascens',\n",
              " 'Agaricus xanthodermus',\n",
              " 'Agrocybe praecox']"
            ]
          },
          "metadata": {
            "tags": []
          },
          "execution_count": 14
        }
      ]
    },
    {
      "cell_type": "code",
      "metadata": {
        "colab": {
          "base_uri": "https://localhost:8080/"
        },
        "id": "PePEB48udK7V",
        "outputId": "d200f6b3-0e58-4bf5-c48d-861912bf211b"
      },
      "source": [
        "comprobar_longitudes_carpetas(contenido)"
      ],
      "execution_count": 15,
      "outputs": [
        {
          "output_type": "stream",
          "text": [
            "Abortiporus biennis 20\n",
            "Adelphella babingtonii 20\n",
            "Agaricus arvensis 20\n",
            "Agaricus campestris 20\n",
            "Agaricus litoralis 20\n",
            "Agaricus sylvaticus 20\n",
            "Agaricus sylvicola 20\n",
            "Agaricus urinascens 20\n",
            "Agaricus xanthodermus 20\n",
            "Agrocybe praecox 20\n"
          ],
          "name": "stdout"
        }
      ]
    },
    {
      "cell_type": "code",
      "metadata": {
        "colab": {
          "base_uri": "https://localhost:8080/",
          "height": 217,
          "referenced_widgets": [
            "1420b1bb1e164db49bc0a9445e9897ba",
            "f74ad6715178449d8eb1719883effee8",
            "83e2dbe666b8451497af5006bcd1a369",
            "86d5901832024fb8913dc72297843489",
            "7d8e2b9bc0ee430db179113927e154de",
            "fac267c4f2fc4e0e9ba5093e1ccfcc4a",
            "6a49aedfb6554d8589c84249288cb8f3",
            "7cad52b54b014613b56787b8117fde05",
            "437ce0ad19d647ffbafdb5061dce2013",
            "5de50c641ac046688372b844ff373455",
            "509323793cd443bd9c963c4df7ff3e19",
            "77e38acf4200440496f57376da0e8afe",
            "424ab4db5cc240b3a8992b4d3da1fc0a",
            "909d091e718e43d6902e61aa8ebb1f75",
            "7ae2a973196144d697d1e1cad00c2209",
            "ea9412ed79d24d8a803ed499d31b3fb4",
            "0bbdf5b5d95e40df8518c0143fa21268",
            "227c9ba230d8449cab4af31be047a04c",
            "bb9ffcc727d54665a9cbd08c3cddcd6f",
            "0f10f0a5fe2d46e5adb8cccb9a3d5b1d",
            "04eba6e1e46944c6815b4b9992d10d14",
            "ae8b265865354e5e887d9b1b6d026f50",
            "c25636f4ba35490fb1c6a8ff052d2da5",
            "676eeea689b8411ab87726049d49c220"
          ]
        },
        "id": "Sbv6A89ldK9f",
        "outputId": "9103cac9-786f-4c9f-fe7b-a90908c2360a"
      },
      "source": [
        "standarize_photos(contenido)"
      ],
      "execution_count": 16,
      "outputs": [
        {
          "output_type": "stream",
          "text": [
            "renombrando...\n"
          ],
          "name": "stdout"
        },
        {
          "output_type": "display_data",
          "data": {
            "application/vnd.jupyter.widget-view+json": {
              "model_id": "1420b1bb1e164db49bc0a9445e9897ba",
              "version_minor": 0,
              "version_major": 2
            },
            "text/plain": [
              "HBox(children=(FloatProgress(value=0.0, max=10.0), HTML(value='')))"
            ]
          },
          "metadata": {
            "tags": []
          }
        },
        {
          "output_type": "stream",
          "text": [
            "\n",
            "homogeneizando tamaño fotos...\n"
          ],
          "name": "stdout"
        },
        {
          "output_type": "display_data",
          "data": {
            "application/vnd.jupyter.widget-view+json": {
              "model_id": "437ce0ad19d647ffbafdb5061dce2013",
              "version_minor": 0,
              "version_major": 2
            },
            "text/plain": [
              "HBox(children=(FloatProgress(value=0.0, max=10.0), HTML(value='')))"
            ]
          },
          "metadata": {
            "tags": []
          }
        },
        {
          "output_type": "stream",
          "text": [
            "\n",
            "estandarizando pixels...\n"
          ],
          "name": "stdout"
        },
        {
          "output_type": "display_data",
          "data": {
            "application/vnd.jupyter.widget-view+json": {
              "model_id": "0bbdf5b5d95e40df8518c0143fa21268",
              "version_minor": 0,
              "version_major": 2
            },
            "text/plain": [
              "HBox(children=(FloatProgress(value=0.0, max=10.0), HTML(value='')))"
            ]
          },
          "metadata": {
            "tags": []
          }
        },
        {
          "output_type": "stream",
          "text": [
            "\n"
          ],
          "name": "stdout"
        }
      ]
    },
    {
      "cell_type": "code",
      "metadata": {
        "colab": {
          "base_uri": "https://localhost:8080/"
        },
        "id": "rUi0XeIHdK__",
        "outputId": "aac059e4-07f0-4a23-be16-ecb4b58d1516"
      },
      "source": [
        "train_images=np.array(lista)\n",
        "train_images.shape"
      ],
      "execution_count": 17,
      "outputs": [
        {
          "output_type": "execute_result",
          "data": {
            "text/plain": [
              "(200, 200, 200, 3)"
            ]
          },
          "metadata": {
            "tags": []
          },
          "execution_count": 17
        }
      ]
    },
    {
      "cell_type": "code",
      "metadata": {
        "colab": {
          "base_uri": "https://localhost:8080/",
          "height": 66,
          "referenced_widgets": [
            "b4c7ff5fec0f4553b0448301ef1fd6f8",
            "a7899f0d309348df81d3e4ee2429f1b3",
            "03335bce8c804682ad27966b875f7584",
            "7a7a86b62a7c44b1816547e5e389a42d",
            "4cc98d21974546e6b24528b3b38a4434",
            "824a483104f74b04a0b42ffe8cc87786",
            "eb73d623d19742c5a9df19cfda1b33bf",
            "babcba850e3147a78876577d57913d39"
          ]
        },
        "id": "stlp7T-MdLCQ",
        "outputId": "c7e137ce-ab92-4ef1-f2bd-88d8fe2700ca"
      },
      "source": [
        "lista_categories=[]\n",
        "for folder in tqdm(contenido):\n",
        "    for i in range(20):\n",
        "        lista_categories.append(folder)\n",
        "        \n",
        "train_labels=np.array(lista_categories)"
      ],
      "execution_count": 38,
      "outputs": [
        {
          "output_type": "display_data",
          "data": {
            "application/vnd.jupyter.widget-view+json": {
              "model_id": "b4c7ff5fec0f4553b0448301ef1fd6f8",
              "version_minor": 0,
              "version_major": 2
            },
            "text/plain": [
              "HBox(children=(FloatProgress(value=0.0, max=10.0), HTML(value='')))"
            ]
          },
          "metadata": {
            "tags": []
          }
        },
        {
          "output_type": "stream",
          "text": [
            "\n"
          ],
          "name": "stdout"
        }
      ]
    },
    {
      "cell_type": "code",
      "metadata": {
        "colab": {
          "base_uri": "https://localhost:8080/",
          "height": 295
        },
        "id": "8Y3yw38Xdat2",
        "outputId": "2efdf7d1-a7c4-41d9-e95a-6e44d5816c30"
      },
      "source": [
        "plot_mushroom_image(49,train_images,train_labels)"
      ],
      "execution_count": 39,
      "outputs": [
        {
          "output_type": "stream",
          "text": [
            "Agaricus arvensis\n"
          ],
          "name": "stdout"
        },
        {
          "output_type": "display_data",
          "data": {
            "image/png": "[encoded data removed]",
            "text/plain": [
              "<Figure size 432x288 with 1 Axes>"
            ]
          },
          "metadata": {
            "tags": [],
            "needs_background": "light"
          }
        }
      ]
    },
    {
      "cell_type": "code",
      "metadata": {
        "colab": {
          "base_uri": "https://localhost:8080/"
        },
        "id": "RQU9jVmxgyec",
        "outputId": "a07683af-d380-494f-d73d-cb965b6242da"
      },
      "source": [
        "train_labels.shape\n",
        "#cambiar formato nombres para que funcionen"
      ],
      "execution_count": 50,
      "outputs": [
        {
          "output_type": "execute_result",
          "data": {
            "text/plain": [
              "(200,)"
            ]
          },
          "metadata": {
            "tags": []
          },
          "execution_count": 50
        }
      ]
    },
    {
      "cell_type": "code",
      "metadata": {
        "colab": {
          "base_uri": "https://localhost:8080/"
        },
        "id": "xDHBAqLyjeEx",
        "outputId": "72ec8a58-3816-42a2-9e97-7bdb503368aa"
      },
      "source": [
        "type(np.unique(train_labels))"
      ],
      "execution_count": 52,
      "outputs": [
        {
          "output_type": "execute_result",
          "data": {
            "text/plain": [
              "numpy.ndarray"
            ]
          },
          "metadata": {
            "tags": []
          },
          "execution_count": 52
        }
      ]
    },
    {
      "cell_type": "code",
      "metadata": {
        "id": "61SnnFcDl3Au"
      },
      "source": [
        ""
      ],
      "execution_count": null,
      "outputs": []
    },
    {
      "cell_type": "code",
      "metadata": {
        "id": "uo8xHoDSiVI3"
      },
      "source": [
        "l1 = list(range(10))\n",
        "l2 = list(np.unique(train_labels))\n",
        "d = dict(zip(l1,l2))\n",
        "#create a dictionary to use one hot encoder"
      ],
      "execution_count": 53,
      "outputs": []
    },
    {
      "cell_type": "code",
      "metadata": {
        "colab": {
          "base_uri": "https://localhost:8080/"
        },
        "id": "T0tUzraljwpk",
        "outputId": "47bb53ef-c984-4eee-fa5a-31fe09fc0441"
      },
      "source": [
        "d"
      ],
      "execution_count": 55,
      "outputs": [
        {
          "output_type": "execute_result",
          "data": {
            "text/plain": [
              "{0: 'Abortiporus biennis',\n",
              " 1: 'Adelphella babingtonii',\n",
              " 2: 'Agaricus arvensis',\n",
              " 3: 'Agaricus campestris',\n",
              " 4: 'Agaricus litoralis',\n",
              " 5: 'Agaricus sylvaticus',\n",
              " 6: 'Agaricus sylvicola',\n",
              " 7: 'Agaricus urinascens',\n",
              " 8: 'Agaricus xanthodermus',\n",
              " 9: 'Agrocybe praecox'}"
            ]
          },
          "metadata": {
            "tags": []
          },
          "execution_count": 55
        }
      ]
    },
    {
      "cell_type": "code",
      "metadata": {
        "id": "exRVBCC3j5e_"
      },
      "source": [
        "train_labels_nums = sorted(list(d.keys())*20)"
      ],
      "execution_count": 72,
      "outputs": []
    },
    {
      "cell_type": "code",
      "metadata": {
        "colab": {
          "base_uri": "https://localhost:8080/"
        },
        "id": "ETJutFw8l9iN",
        "outputId": "d1ed5195-f5ac-41cc-efa3-53a68930a598"
      },
      "source": [
        "len(train_labels_nums)"
      ],
      "execution_count": 75,
      "outputs": [
        {
          "output_type": "execute_result",
          "data": {
            "text/plain": [
              "200"
            ]
          },
          "metadata": {
            "tags": []
          },
          "execution_count": 75
        }
      ]
    },
    {
      "cell_type": "markdown",
      "metadata": {
        "id": "hRKWdcqXfYnW"
      },
      "source": [
        "Transform to one hot encoder the 10 classes we hace for now"
      ]
    },
    {
      "cell_type": "code",
      "metadata": {
        "colab": {
          "base_uri": "https://localhost:8080/"
        },
        "id": "yWfJeYxGdaww",
        "outputId": "edcac626-62b7-4c9e-b871-3b7bb1c0b029"
      },
      "source": [
        "#transformamos a onehot nuestros targets \n",
        "onehot_train=to_categorical(train_labels_nums,num_classes=10)\n",
        "onehot_train.shape"
      ],
      "execution_count": 76,
      "outputs": [
        {
          "output_type": "execute_result",
          "data": {
            "text/plain": [
              "(200, 10)"
            ]
          },
          "metadata": {
            "tags": []
          },
          "execution_count": 76
        }
      ]
    },
    {
      "cell_type": "markdown",
      "metadata": {
        "id": "9Xkp9-YokkT_"
      },
      "source": [
        "Vamos a crear nuestra primera red neuronal"
      ]
    },
    {
      "cell_type": "code",
      "metadata": {
        "id": "oXXK6hKXgt7l"
      },
      "source": [
        "def build():\n",
        "  m = models.Sequential()\n",
        "\n",
        "#le decimos el input para que el output \n",
        "\n",
        "  l0 = layers.Flatten(input_shape=(200,200,3))\n",
        "  m.add(l0)\n",
        "\n",
        "  l1 = layers.Dense(units=50, activation = 'relu')\n",
        "  m.add(l1)\n",
        "\n",
        "  l2 = layers.Dense(units=25, activation = 'relu')\n",
        "  m.add(l2)\n",
        "\n",
        "  l3 = layers.Dense(units=15, activation = 'relu')\n",
        "  m.add(l3)\n",
        "\n",
        "  l4 = layers.Dense(units=10, activation = 'softmax')\n",
        "  m.add(l4)\n",
        "\n",
        "  \n",
        "#ponemos none, ya no hace falta relu al ser una , decir que por defecto ya seria none.\n",
        "\n",
        "#numero random el 3 por ejemoplo que es el numero de neuronas a la salida\n",
        "\n",
        "  m.summary()\n",
        "\n",
        "  return m"
      ],
      "execution_count": 77,
      "outputs": []
    },
    {
      "cell_type": "code",
      "metadata": {
        "colab": {
          "base_uri": "https://localhost:8080/"
        },
        "id": "vdgKuZYak59X",
        "outputId": "900e2aec-a537-4294-acb8-60045ab08566"
      },
      "source": [
        "m=build()"
      ],
      "execution_count": 78,
      "outputs": [
        {
          "output_type": "stream",
          "text": [
            "Model: \"sequential_2\"\n",
            "_________________________________________________________________\n",
            "Layer (type)                 Output Shape              Param #   \n",
            "=================================================================\n",
            "flatten_2 (Flatten)          (None, 120000)            0         \n",
            "_________________________________________________________________\n",
            "dense_8 (Dense)              (None, 50)                6000050   \n",
            "_________________________________________________________________\n",
            "dense_9 (Dense)              (None, 25)                1275      \n",
            "_________________________________________________________________\n",
            "dense_10 (Dense)             (None, 15)                390       \n",
            "_________________________________________________________________\n",
            "dense_11 (Dense)             (None, 10)                160       \n",
            "=================================================================\n",
            "Total params: 6,001,875\n",
            "Trainable params: 6,001,875\n",
            "Non-trainable params: 0\n",
            "_________________________________________________________________\n"
          ],
          "name": "stdout"
        }
      ]
    },
    {
      "cell_type": "code",
      "metadata": {
        "id": "-Yk153KAk-r2"
      },
      "source": [
        "m.compile(optimizer=optimizers.Adam(),loss=losses.categorical_crossentropy,metrics=[metrics.categorical_accuracy])"
      ],
      "execution_count": 79,
      "outputs": []
    },
    {
      "cell_type": "code",
      "metadata": {
        "colab": {
          "base_uri": "https://localhost:8080/"
        },
        "id": "0tbwtE-blZLu",
        "outputId": "b5765228-6133-4884-d4d7-f05a45975347"
      },
      "source": [
        "train_images.shape"
      ],
      "execution_count": 80,
      "outputs": [
        {
          "output_type": "execute_result",
          "data": {
            "text/plain": [
              "(200, 200, 200, 3)"
            ]
          },
          "metadata": {
            "tags": []
          },
          "execution_count": 80
        }
      ]
    },
    {
      "cell_type": "code",
      "metadata": {
        "colab": {
          "base_uri": "https://localhost:8080/"
        },
        "id": "57j2rShyle47",
        "outputId": "4a6f8e2e-5fdc-4347-d61b-d0d5e2732873"
      },
      "source": [
        "onehot_train.shape"
      ],
      "execution_count": 81,
      "outputs": [
        {
          "output_type": "execute_result",
          "data": {
            "text/plain": [
              "(200, 10)"
            ]
          },
          "metadata": {
            "tags": []
          },
          "execution_count": 81
        }
      ]
    },
    {
      "cell_type": "code",
      "metadata": {
        "colab": {
          "base_uri": "https://localhost:8080/"
        },
        "id": "PHe5GulblLPH",
        "outputId": "54902f00-dbe8-4834-b980-c75cf5c5267b"
      },
      "source": [
        " h = m.fit (train_images,onehot_train,batch_size= 5,epochs=30,validation_split=0.1)"
      ],
      "execution_count": 82,
      "outputs": [
        {
          "output_type": "stream",
          "text": [
            "Epoch 1/30\n",
            "36/36 [==============================] - 2s 37ms/step - loss: 10.8862 - categorical_accuracy: 0.0934 - val_loss: 1.9823 - val_categorical_accuracy: 0.0500\n",
            "Epoch 2/30\n",
            "36/36 [==============================] - 1s 30ms/step - loss: 2.7349 - categorical_accuracy: 0.1238 - val_loss: 2.3230 - val_categorical_accuracy: 0.0000e+00\n",
            "Epoch 3/30\n",
            "36/36 [==============================] - 1s 31ms/step - loss: 2.2513 - categorical_accuracy: 0.1685 - val_loss: 2.6017 - val_categorical_accuracy: 0.0000e+00\n",
            "Epoch 4/30\n",
            "36/36 [==============================] - 1s 31ms/step - loss: 2.2764 - categorical_accuracy: 0.1919 - val_loss: 2.1441 - val_categorical_accuracy: 0.0000e+00\n",
            "Epoch 5/30\n",
            "36/36 [==============================] - 1s 30ms/step - loss: 2.2495 - categorical_accuracy: 0.2189 - val_loss: 2.3489 - val_categorical_accuracy: 0.0000e+00\n",
            "Epoch 6/30\n",
            "36/36 [==============================] - 1s 30ms/step - loss: 2.1931 - categorical_accuracy: 0.1743 - val_loss: 2.4322 - val_categorical_accuracy: 0.0000e+00\n",
            "Epoch 7/30\n",
            "36/36 [==============================] - 1s 30ms/step - loss: 2.2915 - categorical_accuracy: 0.1303 - val_loss: 3.1022 - val_categorical_accuracy: 0.0000e+00\n",
            "Epoch 8/30\n",
            "36/36 [==============================] - 1s 30ms/step - loss: 2.3256 - categorical_accuracy: 0.1177 - val_loss: 2.4522 - val_categorical_accuracy: 0.0000e+00\n",
            "Epoch 9/30\n",
            "36/36 [==============================] - 1s 31ms/step - loss: 2.2532 - categorical_accuracy: 0.1855 - val_loss: 2.4374 - val_categorical_accuracy: 0.0000e+00\n",
            "Epoch 10/30\n",
            "36/36 [==============================] - 1s 31ms/step - loss: 2.1567 - categorical_accuracy: 0.1769 - val_loss: 2.5182 - val_categorical_accuracy: 0.0000e+00\n",
            "Epoch 11/30\n",
            "36/36 [==============================] - 1s 30ms/step - loss: 2.0595 - categorical_accuracy: 0.2427 - val_loss: 2.5624 - val_categorical_accuracy: 0.0000e+00\n",
            "Epoch 12/30\n",
            "36/36 [==============================] - 1s 31ms/step - loss: 2.1859 - categorical_accuracy: 0.2240 - val_loss: 2.5916 - val_categorical_accuracy: 0.0000e+00\n",
            "Epoch 13/30\n",
            "36/36 [==============================] - 1s 31ms/step - loss: 2.0409 - categorical_accuracy: 0.2564 - val_loss: 2.6136 - val_categorical_accuracy: 0.0000e+00\n",
            "Epoch 14/30\n",
            "36/36 [==============================] - 1s 31ms/step - loss: 2.0570 - categorical_accuracy: 0.2543 - val_loss: 2.6470 - val_categorical_accuracy: 0.0000e+00\n",
            "Epoch 15/30\n",
            "36/36 [==============================] - 1s 30ms/step - loss: 2.0816 - categorical_accuracy: 0.1616 - val_loss: 2.6751 - val_categorical_accuracy: 0.0000e+00\n",
            "Epoch 16/30\n",
            "36/36 [==============================] - 1s 30ms/step - loss: 1.9897 - categorical_accuracy: 0.2363 - val_loss: 2.6880 - val_categorical_accuracy: 0.0000e+00\n",
            "Epoch 17/30\n",
            "36/36 [==============================] - 1s 31ms/step - loss: 2.0691 - categorical_accuracy: 0.1888 - val_loss: 2.8262 - val_categorical_accuracy: 0.0000e+00\n",
            "Epoch 18/30\n",
            "36/36 [==============================] - 1s 31ms/step - loss: 1.9594 - categorical_accuracy: 0.3110 - val_loss: 2.7346 - val_categorical_accuracy: 0.0000e+00\n",
            "Epoch 19/30\n",
            "36/36 [==============================] - 1s 30ms/step - loss: 2.2353 - categorical_accuracy: 0.1464 - val_loss: 2.7614 - val_categorical_accuracy: 0.0000e+00\n",
            "Epoch 20/30\n",
            "36/36 [==============================] - 1s 31ms/step - loss: 2.3012 - categorical_accuracy: 0.1538 - val_loss: 2.7420 - val_categorical_accuracy: 0.0000e+00\n",
            "Epoch 21/30\n",
            "36/36 [==============================] - 1s 30ms/step - loss: 2.0170 - categorical_accuracy: 0.1812 - val_loss: 2.7846 - val_categorical_accuracy: 0.0000e+00\n",
            "Epoch 22/30\n",
            "36/36 [==============================] - 1s 31ms/step - loss: 1.9379 - categorical_accuracy: 0.2156 - val_loss: 2.8804 - val_categorical_accuracy: 0.0000e+00\n",
            "Epoch 23/30\n",
            "36/36 [==============================] - 1s 30ms/step - loss: 1.9476 - categorical_accuracy: 0.2144 - val_loss: 2.8570 - val_categorical_accuracy: 0.0000e+00\n",
            "Epoch 24/30\n",
            "36/36 [==============================] - 1s 30ms/step - loss: 2.0760 - categorical_accuracy: 0.1863 - val_loss: 2.8805 - val_categorical_accuracy: 0.0000e+00\n",
            "Epoch 25/30\n",
            "36/36 [==============================] - 1s 30ms/step - loss: 2.2525 - categorical_accuracy: 0.1516 - val_loss: 2.9050 - val_categorical_accuracy: 0.0000e+00\n",
            "Epoch 26/30\n",
            "36/36 [==============================] - 1s 30ms/step - loss: 2.2466 - categorical_accuracy: 0.1117 - val_loss: 2.9297 - val_categorical_accuracy: 0.0000e+00\n",
            "Epoch 27/30\n",
            "36/36 [==============================] - 1s 31ms/step - loss: 2.2466 - categorical_accuracy: 0.1722 - val_loss: 2.9474 - val_categorical_accuracy: 0.0000e+00\n",
            "Epoch 28/30\n",
            "36/36 [==============================] - 1s 32ms/step - loss: 2.0712 - categorical_accuracy: 0.2220 - val_loss: 3.0051 - val_categorical_accuracy: 0.0000e+00\n",
            "Epoch 29/30\n",
            "36/36 [==============================] - 1s 36ms/step - loss: 1.9685 - categorical_accuracy: 0.1786 - val_loss: 2.9946 - val_categorical_accuracy: 0.0000e+00\n",
            "Epoch 30/30\n",
            "36/36 [==============================] - 1s 30ms/step - loss: 2.2862 - categorical_accuracy: 0.0747 - val_loss: 2.9469 - val_categorical_accuracy: 0.0000e+00\n"
          ],
          "name": "stdout"
        }
      ]
    },
    {
      "cell_type": "code",
      "metadata": {
        "id": "EpRFkGy-mfR1"
      },
      "source": [
        ""
      ],
      "execution_count": null,
      "outputs": []
    }
  ]
}