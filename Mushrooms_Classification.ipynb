{
  "nbformat": 4,
  "nbformat_minor": 0,
  "metadata": {
    "accelerator": "GPU",
    "colab": {
      "name": "Mushrooms_Classification.ipynb",
      "provenance": [],
      "collapsed_sections": [
        "KEqnwo-vV2nq",
        "m2gO0JrFIG8J",
        "LPcNroEVsd7F",
        "2U56_5cMsxNi",
        "Dx-wFgxrk8od",
        "pn6CpUGDthuT",
        "gyc5KxDFdhtI",
        "hRKWdcqXfYnW",
        "XOC9nYAylNuM",
        "VerxmCnyEqW1",
        "XTGE36V5lhyC",
        "aAY31WWibLqp",
        "lrhLEPToXHvE",
        "snsxjgH3M6BE"
      ],
      "authorship_tag": "ABX9TyOhm9c+dQGSetkbQ65cY86I",
      "include_colab_link": true
    },
    "kernelspec": {
      "display_name": "Python 3",
      "name": "python3"
    },
    "widgets": {
      "application/vnd.jupyter.widget-state+json": {
        "fb72fe51830b43df832e7e637286251c": {
          "model_module": "@jupyter-widgets/controls",
          "model_name": "HBoxModel",
          "state": {
            "_view_name": "HBoxView",
            "_dom_classes": [],
            "_model_name": "HBoxModel",
            "_view_module": "@jupyter-widgets/controls",
            "_model_module_version": "1.5.0",
            "_view_count": null,
            "_view_module_version": "1.5.0",
            "box_style": "",
            "layout": "IPY_MODEL_7d54f0a2f01b494e83343ad1630122d0",
            "_model_module": "@jupyter-widgets/controls",
            "children": [
              "IPY_MODEL_7d74dd2faacf4e039c312527e96a0312",
              "IPY_MODEL_6b1f8c6884f344d998c73f326e70de5e"
            ]
          }
        },
        "7d54f0a2f01b494e83343ad1630122d0": {
          "model_module": "@jupyter-widgets/base",
          "model_name": "LayoutModel",
          "state": {
            "_view_name": "LayoutView",
            "grid_template_rows": null,
            "right": null,
            "justify_content": null,
            "_view_module": "@jupyter-widgets/base",
            "overflow": null,
            "_model_module_version": "1.2.0",
            "_view_count": null,
            "flex_flow": null,
            "width": null,
            "min_width": null,
            "border": null,
            "align_items": null,
            "bottom": null,
            "_model_module": "@jupyter-widgets/base",
            "top": null,
            "grid_column": null,
            "overflow_y": null,
            "overflow_x": null,
            "grid_auto_flow": null,
            "grid_area": null,
            "grid_template_columns": null,
            "flex": null,
            "_model_name": "LayoutModel",
            "justify_items": null,
            "grid_row": null,
            "max_height": null,
            "align_content": null,
            "visibility": null,
            "align_self": null,
            "height": null,
            "min_height": null,
            "padding": null,
            "grid_auto_rows": null,
            "grid_gap": null,
            "max_width": null,
            "order": null,
            "_view_module_version": "1.2.0",
            "grid_template_areas": null,
            "object_position": null,
            "object_fit": null,
            "grid_auto_columns": null,
            "margin": null,
            "display": null,
            "left": null
          }
        },
        "7d74dd2faacf4e039c312527e96a0312": {
          "model_module": "@jupyter-widgets/controls",
          "model_name": "FloatProgressModel",
          "state": {
            "_view_name": "ProgressView",
            "style": "IPY_MODEL_27c324cdc9f64a26b7ffc957592d762b",
            "_dom_classes": [],
            "description": "100%",
            "_model_name": "FloatProgressModel",
            "bar_style": "success",
            "max": 49,
            "_view_module": "@jupyter-widgets/controls",
            "_model_module_version": "1.5.0",
            "value": 49,
            "_view_count": null,
            "_view_module_version": "1.5.0",
            "orientation": "horizontal",
            "min": 0,
            "description_tooltip": null,
            "_model_module": "@jupyter-widgets/controls",
            "layout": "IPY_MODEL_5b07a5e4ecb54826b5bc57b2adbc2f8e"
          }
        },
        "6b1f8c6884f344d998c73f326e70de5e": {
          "model_module": "@jupyter-widgets/controls",
          "model_name": "HTMLModel",
          "state": {
            "_view_name": "HTMLView",
            "style": "IPY_MODEL_2b995962c34d4921a73abd86551489c8",
            "_dom_classes": [],
            "description": "",
            "_model_name": "HTMLModel",
            "placeholder": "​",
            "_view_module": "@jupyter-widgets/controls",
            "_model_module_version": "1.5.0",
            "value": " 49/49 [03:09&lt;00:00,  3.88s/it]",
            "_view_count": null,
            "_view_module_version": "1.5.0",
            "description_tooltip": null,
            "_model_module": "@jupyter-widgets/controls",
            "layout": "IPY_MODEL_55090431560540ce9f8f08ddcd22c9ca"
          }
        },
        "27c324cdc9f64a26b7ffc957592d762b": {
          "model_module": "@jupyter-widgets/controls",
          "model_name": "ProgressStyleModel",
          "state": {
            "_view_name": "StyleView",
            "_model_name": "ProgressStyleModel",
            "description_width": "initial",
            "_view_module": "@jupyter-widgets/base",
            "_model_module_version": "1.5.0",
            "_view_count": null,
            "_view_module_version": "1.2.0",
            "bar_color": null,
            "_model_module": "@jupyter-widgets/controls"
          }
        },
        "5b07a5e4ecb54826b5bc57b2adbc2f8e": {
          "model_module": "@jupyter-widgets/base",
          "model_name": "LayoutModel",
          "state": {
            "_view_name": "LayoutView",
            "grid_template_rows": null,
            "right": null,
            "justify_content": null,
            "_view_module": "@jupyter-widgets/base",
            "overflow": null,
            "_model_module_version": "1.2.0",
            "_view_count": null,
            "flex_flow": null,
            "width": null,
            "min_width": null,
            "border": null,
            "align_items": null,
            "bottom": null,
            "_model_module": "@jupyter-widgets/base",
            "top": null,
            "grid_column": null,
            "overflow_y": null,
            "overflow_x": null,
            "grid_auto_flow": null,
            "grid_area": null,
            "grid_template_columns": null,
            "flex": null,
            "_model_name": "LayoutModel",
            "justify_items": null,
            "grid_row": null,
            "max_height": null,
            "align_content": null,
            "visibility": null,
            "align_self": null,
            "height": null,
            "min_height": null,
            "padding": null,
            "grid_auto_rows": null,
            "grid_gap": null,
            "max_width": null,
            "order": null,
            "_view_module_version": "1.2.0",
            "grid_template_areas": null,
            "object_position": null,
            "object_fit": null,
            "grid_auto_columns": null,
            "margin": null,
            "display": null,
            "left": null
          }
        },
        "2b995962c34d4921a73abd86551489c8": {
          "model_module": "@jupyter-widgets/controls",
          "model_name": "DescriptionStyleModel",
          "state": {
            "_view_name": "StyleView",
            "_model_name": "DescriptionStyleModel",
            "description_width": "",
            "_view_module": "@jupyter-widgets/base",
            "_model_module_version": "1.5.0",
            "_view_count": null,
            "_view_module_version": "1.2.0",
            "_model_module": "@jupyter-widgets/controls"
          }
        },
        "55090431560540ce9f8f08ddcd22c9ca": {
          "model_module": "@jupyter-widgets/base",
          "model_name": "LayoutModel",
          "state": {
            "_view_name": "LayoutView",
            "grid_template_rows": null,
            "right": null,
            "justify_content": null,
            "_view_module": "@jupyter-widgets/base",
            "overflow": null,
            "_model_module_version": "1.2.0",
            "_view_count": null,
            "flex_flow": null,
            "width": null,
            "min_width": null,
            "border": null,
            "align_items": null,
            "bottom": null,
            "_model_module": "@jupyter-widgets/base",
            "top": null,
            "grid_column": null,
            "overflow_y": null,
            "overflow_x": null,
            "grid_auto_flow": null,
            "grid_area": null,
            "grid_template_columns": null,
            "flex": null,
            "_model_name": "LayoutModel",
            "justify_items": null,
            "grid_row": null,
            "max_height": null,
            "align_content": null,
            "visibility": null,
            "align_self": null,
            "height": null,
            "min_height": null,
            "padding": null,
            "grid_auto_rows": null,
            "grid_gap": null,
            "max_width": null,
            "order": null,
            "_view_module_version": "1.2.0",
            "grid_template_areas": null,
            "object_position": null,
            "object_fit": null,
            "grid_auto_columns": null,
            "margin": null,
            "display": null,
            "left": null
          }
        },
        "d2ce435d301e4a3ea8aef31260cd27c3": {
          "model_module": "@jupyter-widgets/controls",
          "model_name": "HBoxModel",
          "state": {
            "_view_name": "HBoxView",
            "_dom_classes": [],
            "_model_name": "HBoxModel",
            "_view_module": "@jupyter-widgets/controls",
            "_model_module_version": "1.5.0",
            "_view_count": null,
            "_view_module_version": "1.5.0",
            "box_style": "",
            "layout": "IPY_MODEL_9994ae1a7a704d7fafafd2a3bd7bb5ab",
            "_model_module": "@jupyter-widgets/controls",
            "children": [
              "IPY_MODEL_801f93140d364bfc90bc9443467f0811",
              "IPY_MODEL_5146b1ca3852468f9206f5d4b96ee954"
            ]
          }
        },
        "9994ae1a7a704d7fafafd2a3bd7bb5ab": {
          "model_module": "@jupyter-widgets/base",
          "model_name": "LayoutModel",
          "state": {
            "_view_name": "LayoutView",
            "grid_template_rows": null,
            "right": null,
            "justify_content": null,
            "_view_module": "@jupyter-widgets/base",
            "overflow": null,
            "_model_module_version": "1.2.0",
            "_view_count": null,
            "flex_flow": null,
            "width": null,
            "min_width": null,
            "border": null,
            "align_items": null,
            "bottom": null,
            "_model_module": "@jupyter-widgets/base",
            "top": null,
            "grid_column": null,
            "overflow_y": null,
            "overflow_x": null,
            "grid_auto_flow": null,
            "grid_area": null,
            "grid_template_columns": null,
            "flex": null,
            "_model_name": "LayoutModel",
            "justify_items": null,
            "grid_row": null,
            "max_height": null,
            "align_content": null,
            "visibility": null,
            "align_self": null,
            "height": null,
            "min_height": null,
            "padding": null,
            "grid_auto_rows": null,
            "grid_gap": null,
            "max_width": null,
            "order": null,
            "_view_module_version": "1.2.0",
            "grid_template_areas": null,
            "object_position": null,
            "object_fit": null,
            "grid_auto_columns": null,
            "margin": null,
            "display": null,
            "left": null
          }
        },
        "801f93140d364bfc90bc9443467f0811": {
          "model_module": "@jupyter-widgets/controls",
          "model_name": "FloatProgressModel",
          "state": {
            "_view_name": "ProgressView",
            "style": "IPY_MODEL_fea26c0723064179963c770826212279",
            "_dom_classes": [],
            "description": "100%",
            "_model_name": "FloatProgressModel",
            "bar_style": "success",
            "max": 51,
            "_view_module": "@jupyter-widgets/controls",
            "_model_module_version": "1.5.0",
            "value": 51,
            "_view_count": null,
            "_view_module_version": "1.5.0",
            "orientation": "horizontal",
            "min": 0,
            "description_tooltip": null,
            "_model_module": "@jupyter-widgets/controls",
            "layout": "IPY_MODEL_d3f91bebf2b74291bc3c86ea1311ee02"
          }
        },
        "5146b1ca3852468f9206f5d4b96ee954": {
          "model_module": "@jupyter-widgets/controls",
          "model_name": "HTMLModel",
          "state": {
            "_view_name": "HTMLView",
            "style": "IPY_MODEL_0e7f26e90bf648a88b135eebfe61f998",
            "_dom_classes": [],
            "description": "",
            "_model_name": "HTMLModel",
            "placeholder": "​",
            "_view_module": "@jupyter-widgets/controls",
            "_model_module_version": "1.5.0",
            "value": " 51/51 [00:05&lt;00:00,  8.56it/s]",
            "_view_count": null,
            "_view_module_version": "1.5.0",
            "description_tooltip": null,
            "_model_module": "@jupyter-widgets/controls",
            "layout": "IPY_MODEL_78369ee13ed54658ada6e326493575a2"
          }
        },
        "fea26c0723064179963c770826212279": {
          "model_module": "@jupyter-widgets/controls",
          "model_name": "ProgressStyleModel",
          "state": {
            "_view_name": "StyleView",
            "_model_name": "ProgressStyleModel",
            "description_width": "initial",
            "_view_module": "@jupyter-widgets/base",
            "_model_module_version": "1.5.0",
            "_view_count": null,
            "_view_module_version": "1.2.0",
            "bar_color": null,
            "_model_module": "@jupyter-widgets/controls"
          }
        },
        "d3f91bebf2b74291bc3c86ea1311ee02": {
          "model_module": "@jupyter-widgets/base",
          "model_name": "LayoutModel",
          "state": {
            "_view_name": "LayoutView",
            "grid_template_rows": null,
            "right": null,
            "justify_content": null,
            "_view_module": "@jupyter-widgets/base",
            "overflow": null,
            "_model_module_version": "1.2.0",
            "_view_count": null,
            "flex_flow": null,
            "width": null,
            "min_width": null,
            "border": null,
            "align_items": null,
            "bottom": null,
            "_model_module": "@jupyter-widgets/base",
            "top": null,
            "grid_column": null,
            "overflow_y": null,
            "overflow_x": null,
            "grid_auto_flow": null,
            "grid_area": null,
            "grid_template_columns": null,
            "flex": null,
            "_model_name": "LayoutModel",
            "justify_items": null,
            "grid_row": null,
            "max_height": null,
            "align_content": null,
            "visibility": null,
            "align_self": null,
            "height": null,
            "min_height": null,
            "padding": null,
            "grid_auto_rows": null,
            "grid_gap": null,
            "max_width": null,
            "order": null,
            "_view_module_version": "1.2.0",
            "grid_template_areas": null,
            "object_position": null,
            "object_fit": null,
            "grid_auto_columns": null,
            "margin": null,
            "display": null,
            "left": null
          }
        },
        "0e7f26e90bf648a88b135eebfe61f998": {
          "model_module": "@jupyter-widgets/controls",
          "model_name": "DescriptionStyleModel",
          "state": {
            "_view_name": "StyleView",
            "_model_name": "DescriptionStyleModel",
            "description_width": "",
            "_view_module": "@jupyter-widgets/base",
            "_model_module_version": "1.5.0",
            "_view_count": null,
            "_view_module_version": "1.2.0",
            "_model_module": "@jupyter-widgets/controls"
          }
        },
        "78369ee13ed54658ada6e326493575a2": {
          "model_module": "@jupyter-widgets/base",
          "model_name": "LayoutModel",
          "state": {
            "_view_name": "LayoutView",
            "grid_template_rows": null,
            "right": null,
            "justify_content": null,
            "_view_module": "@jupyter-widgets/base",
            "overflow": null,
            "_model_module_version": "1.2.0",
            "_view_count": null,
            "flex_flow": null,
            "width": null,
            "min_width": null,
            "border": null,
            "align_items": null,
            "bottom": null,
            "_model_module": "@jupyter-widgets/base",
            "top": null,
            "grid_column": null,
            "overflow_y": null,
            "overflow_x": null,
            "grid_auto_flow": null,
            "grid_area": null,
            "grid_template_columns": null,
            "flex": null,
            "_model_name": "LayoutModel",
            "justify_items": null,
            "grid_row": null,
            "max_height": null,
            "align_content": null,
            "visibility": null,
            "align_self": null,
            "height": null,
            "min_height": null,
            "padding": null,
            "grid_auto_rows": null,
            "grid_gap": null,
            "max_width": null,
            "order": null,
            "_view_module_version": "1.2.0",
            "grid_template_areas": null,
            "object_position": null,
            "object_fit": null,
            "grid_auto_columns": null,
            "margin": null,
            "display": null,
            "left": null
          }
        },
        "d36b08cdc54a4ecda05e6a4d89f1e5d6": {
          "model_module": "@jupyter-widgets/controls",
          "model_name": "HBoxModel",
          "state": {
            "_view_name": "HBoxView",
            "_dom_classes": [],
            "_model_name": "HBoxModel",
            "_view_module": "@jupyter-widgets/controls",
            "_model_module_version": "1.5.0",
            "_view_count": null,
            "_view_module_version": "1.5.0",
            "box_style": "",
            "layout": "IPY_MODEL_368adab729a54059a49a7d30078c178f",
            "_model_module": "@jupyter-widgets/controls",
            "children": [
              "IPY_MODEL_d88242fac7244508baf159f3e0984d21",
              "IPY_MODEL_b5378deafed34e2a84556e2a077b8867"
            ]
          }
        },
        "368adab729a54059a49a7d30078c178f": {
          "model_module": "@jupyter-widgets/base",
          "model_name": "LayoutModel",
          "state": {
            "_view_name": "LayoutView",
            "grid_template_rows": null,
            "right": null,
            "justify_content": null,
            "_view_module": "@jupyter-widgets/base",
            "overflow": null,
            "_model_module_version": "1.2.0",
            "_view_count": null,
            "flex_flow": null,
            "width": null,
            "min_width": null,
            "border": null,
            "align_items": null,
            "bottom": null,
            "_model_module": "@jupyter-widgets/base",
            "top": null,
            "grid_column": null,
            "overflow_y": null,
            "overflow_x": null,
            "grid_auto_flow": null,
            "grid_area": null,
            "grid_template_columns": null,
            "flex": null,
            "_model_name": "LayoutModel",
            "justify_items": null,
            "grid_row": null,
            "max_height": null,
            "align_content": null,
            "visibility": null,
            "align_self": null,
            "height": null,
            "min_height": null,
            "padding": null,
            "grid_auto_rows": null,
            "grid_gap": null,
            "max_width": null,
            "order": null,
            "_view_module_version": "1.2.0",
            "grid_template_areas": null,
            "object_position": null,
            "object_fit": null,
            "grid_auto_columns": null,
            "margin": null,
            "display": null,
            "left": null
          }
        },
        "d88242fac7244508baf159f3e0984d21": {
          "model_module": "@jupyter-widgets/controls",
          "model_name": "FloatProgressModel",
          "state": {
            "_view_name": "ProgressView",
            "style": "IPY_MODEL_e84e5ee6637f49baa6de7ae72cfe0778",
            "_dom_classes": [],
            "description": "100%",
            "_model_name": "FloatProgressModel",
            "bar_style": "success",
            "max": 48,
            "_view_module": "@jupyter-widgets/controls",
            "_model_module_version": "1.5.0",
            "value": 48,
            "_view_count": null,
            "_view_module_version": "1.5.0",
            "orientation": "horizontal",
            "min": 0,
            "description_tooltip": null,
            "_model_module": "@jupyter-widgets/controls",
            "layout": "IPY_MODEL_11df2746c39a424a9265514853a634ce"
          }
        },
        "b5378deafed34e2a84556e2a077b8867": {
          "model_module": "@jupyter-widgets/controls",
          "model_name": "HTMLModel",
          "state": {
            "_view_name": "HTMLView",
            "style": "IPY_MODEL_97c507ed631f444181fb9b08a08ca282",
            "_dom_classes": [],
            "description": "",
            "_model_name": "HTMLModel",
            "placeholder": "​",
            "_view_module": "@jupyter-widgets/controls",
            "_model_module_version": "1.5.0",
            "value": " 48/48 [00:02&lt;00:00, 22.99it/s]",
            "_view_count": null,
            "_view_module_version": "1.5.0",
            "description_tooltip": null,
            "_model_module": "@jupyter-widgets/controls",
            "layout": "IPY_MODEL_1df75816e69e46c6a64f35f154e7334f"
          }
        },
        "e84e5ee6637f49baa6de7ae72cfe0778": {
          "model_module": "@jupyter-widgets/controls",
          "model_name": "ProgressStyleModel",
          "state": {
            "_view_name": "StyleView",
            "_model_name": "ProgressStyleModel",
            "description_width": "initial",
            "_view_module": "@jupyter-widgets/base",
            "_model_module_version": "1.5.0",
            "_view_count": null,
            "_view_module_version": "1.2.0",
            "bar_color": null,
            "_model_module": "@jupyter-widgets/controls"
          }
        },
        "11df2746c39a424a9265514853a634ce": {
          "model_module": "@jupyter-widgets/base",
          "model_name": "LayoutModel",
          "state": {
            "_view_name": "LayoutView",
            "grid_template_rows": null,
            "right": null,
            "justify_content": null,
            "_view_module": "@jupyter-widgets/base",
            "overflow": null,
            "_model_module_version": "1.2.0",
            "_view_count": null,
            "flex_flow": null,
            "width": null,
            "min_width": null,
            "border": null,
            "align_items": null,
            "bottom": null,
            "_model_module": "@jupyter-widgets/base",
            "top": null,
            "grid_column": null,
            "overflow_y": null,
            "overflow_x": null,
            "grid_auto_flow": null,
            "grid_area": null,
            "grid_template_columns": null,
            "flex": null,
            "_model_name": "LayoutModel",
            "justify_items": null,
            "grid_row": null,
            "max_height": null,
            "align_content": null,
            "visibility": null,
            "align_self": null,
            "height": null,
            "min_height": null,
            "padding": null,
            "grid_auto_rows": null,
            "grid_gap": null,
            "max_width": null,
            "order": null,
            "_view_module_version": "1.2.0",
            "grid_template_areas": null,
            "object_position": null,
            "object_fit": null,
            "grid_auto_columns": null,
            "margin": null,
            "display": null,
            "left": null
          }
        },
        "97c507ed631f444181fb9b08a08ca282": {
          "model_module": "@jupyter-widgets/controls",
          "model_name": "DescriptionStyleModel",
          "state": {
            "_view_name": "StyleView",
            "_model_name": "DescriptionStyleModel",
            "description_width": "",
            "_view_module": "@jupyter-widgets/base",
            "_model_module_version": "1.5.0",
            "_view_count": null,
            "_view_module_version": "1.2.0",
            "_model_module": "@jupyter-widgets/controls"
          }
        },
        "1df75816e69e46c6a64f35f154e7334f": {
          "model_module": "@jupyter-widgets/base",
          "model_name": "LayoutModel",
          "state": {
            "_view_name": "LayoutView",
            "grid_template_rows": null,
            "right": null,
            "justify_content": null,
            "_view_module": "@jupyter-widgets/base",
            "overflow": null,
            "_model_module_version": "1.2.0",
            "_view_count": null,
            "flex_flow": null,
            "width": null,
            "min_width": null,
            "border": null,
            "align_items": null,
            "bottom": null,
            "_model_module": "@jupyter-widgets/base",
            "top": null,
            "grid_column": null,
            "overflow_y": null,
            "overflow_x": null,
            "grid_auto_flow": null,
            "grid_area": null,
            "grid_template_columns": null,
            "flex": null,
            "_model_name": "LayoutModel",
            "justify_items": null,
            "grid_row": null,
            "max_height": null,
            "align_content": null,
            "visibility": null,
            "align_self": null,
            "height": null,
            "min_height": null,
            "padding": null,
            "grid_auto_rows": null,
            "grid_gap": null,
            "max_width": null,
            "order": null,
            "_view_module_version": "1.2.0",
            "grid_template_areas": null,
            "object_position": null,
            "object_fit": null,
            "grid_auto_columns": null,
            "margin": null,
            "display": null,
            "left": null
          }
        },
        "630faf8d345e4dd9944a03616f8d3a72": {
          "model_module": "@jupyter-widgets/controls",
          "model_name": "HBoxModel",
          "state": {
            "_view_name": "HBoxView",
            "_dom_classes": [],
            "_model_name": "HBoxModel",
            "_view_module": "@jupyter-widgets/controls",
            "_model_module_version": "1.5.0",
            "_view_count": null,
            "_view_module_version": "1.5.0",
            "box_style": "",
            "layout": "IPY_MODEL_cbe686f77e6b48fb8c210d50a75c1fab",
            "_model_module": "@jupyter-widgets/controls",
            "children": [
              "IPY_MODEL_47c0df3befba4f9988a6a332b48587b8",
              "IPY_MODEL_8605a5df468d492fb143a20a02b805d3"
            ]
          }
        },
        "cbe686f77e6b48fb8c210d50a75c1fab": {
          "model_module": "@jupyter-widgets/base",
          "model_name": "LayoutModel",
          "state": {
            "_view_name": "LayoutView",
            "grid_template_rows": null,
            "right": null,
            "justify_content": null,
            "_view_module": "@jupyter-widgets/base",
            "overflow": null,
            "_model_module_version": "1.2.0",
            "_view_count": null,
            "flex_flow": null,
            "width": null,
            "min_width": null,
            "border": null,
            "align_items": null,
            "bottom": null,
            "_model_module": "@jupyter-widgets/base",
            "top": null,
            "grid_column": null,
            "overflow_y": null,
            "overflow_x": null,
            "grid_auto_flow": null,
            "grid_area": null,
            "grid_template_columns": null,
            "flex": null,
            "_model_name": "LayoutModel",
            "justify_items": null,
            "grid_row": null,
            "max_height": null,
            "align_content": null,
            "visibility": null,
            "align_self": null,
            "height": null,
            "min_height": null,
            "padding": null,
            "grid_auto_rows": null,
            "grid_gap": null,
            "max_width": null,
            "order": null,
            "_view_module_version": "1.2.0",
            "grid_template_areas": null,
            "object_position": null,
            "object_fit": null,
            "grid_auto_columns": null,
            "margin": null,
            "display": null,
            "left": null
          }
        },
        "47c0df3befba4f9988a6a332b48587b8": {
          "model_module": "@jupyter-widgets/controls",
          "model_name": "FloatProgressModel",
          "state": {
            "_view_name": "ProgressView",
            "style": "IPY_MODEL_4f1c7a00d56d47d58c425a89a780e068",
            "_dom_classes": [],
            "description": "100%",
            "_model_name": "FloatProgressModel",
            "bar_style": "success",
            "max": 48,
            "_view_module": "@jupyter-widgets/controls",
            "_model_module_version": "1.5.0",
            "value": 48,
            "_view_count": null,
            "_view_module_version": "1.5.0",
            "orientation": "horizontal",
            "min": 0,
            "description_tooltip": null,
            "_model_module": "@jupyter-widgets/controls",
            "layout": "IPY_MODEL_ff1ed824039845229e37231a2fce3983"
          }
        },
        "8605a5df468d492fb143a20a02b805d3": {
          "model_module": "@jupyter-widgets/controls",
          "model_name": "HTMLModel",
          "state": {
            "_view_name": "HTMLView",
            "style": "IPY_MODEL_618152282fdd4e46ac13c4d7b2f09390",
            "_dom_classes": [],
            "description": "",
            "_model_name": "HTMLModel",
            "placeholder": "​",
            "_view_module": "@jupyter-widgets/controls",
            "_model_module_version": "1.5.0",
            "value": " 48/48 [01:42&lt;00:00,  2.14s/it]",
            "_view_count": null,
            "_view_module_version": "1.5.0",
            "description_tooltip": null,
            "_model_module": "@jupyter-widgets/controls",
            "layout": "IPY_MODEL_8aaf678113594894a7267a9ee6420ddc"
          }
        },
        "4f1c7a00d56d47d58c425a89a780e068": {
          "model_module": "@jupyter-widgets/controls",
          "model_name": "ProgressStyleModel",
          "state": {
            "_view_name": "StyleView",
            "_model_name": "ProgressStyleModel",
            "description_width": "initial",
            "_view_module": "@jupyter-widgets/base",
            "_model_module_version": "1.5.0",
            "_view_count": null,
            "_view_module_version": "1.2.0",
            "bar_color": null,
            "_model_module": "@jupyter-widgets/controls"
          }
        },
        "ff1ed824039845229e37231a2fce3983": {
          "model_module": "@jupyter-widgets/base",
          "model_name": "LayoutModel",
          "state": {
            "_view_name": "LayoutView",
            "grid_template_rows": null,
            "right": null,
            "justify_content": null,
            "_view_module": "@jupyter-widgets/base",
            "overflow": null,
            "_model_module_version": "1.2.0",
            "_view_count": null,
            "flex_flow": null,
            "width": null,
            "min_width": null,
            "border": null,
            "align_items": null,
            "bottom": null,
            "_model_module": "@jupyter-widgets/base",
            "top": null,
            "grid_column": null,
            "overflow_y": null,
            "overflow_x": null,
            "grid_auto_flow": null,
            "grid_area": null,
            "grid_template_columns": null,
            "flex": null,
            "_model_name": "LayoutModel",
            "justify_items": null,
            "grid_row": null,
            "max_height": null,
            "align_content": null,
            "visibility": null,
            "align_self": null,
            "height": null,
            "min_height": null,
            "padding": null,
            "grid_auto_rows": null,
            "grid_gap": null,
            "max_width": null,
            "order": null,
            "_view_module_version": "1.2.0",
            "grid_template_areas": null,
            "object_position": null,
            "object_fit": null,
            "grid_auto_columns": null,
            "margin": null,
            "display": null,
            "left": null
          }
        },
        "618152282fdd4e46ac13c4d7b2f09390": {
          "model_module": "@jupyter-widgets/controls",
          "model_name": "DescriptionStyleModel",
          "state": {
            "_view_name": "StyleView",
            "_model_name": "DescriptionStyleModel",
            "description_width": "",
            "_view_module": "@jupyter-widgets/base",
            "_model_module_version": "1.5.0",
            "_view_count": null,
            "_view_module_version": "1.2.0",
            "_model_module": "@jupyter-widgets/controls"
          }
        },
        "8aaf678113594894a7267a9ee6420ddc": {
          "model_module": "@jupyter-widgets/base",
          "model_name": "LayoutModel",
          "state": {
            "_view_name": "LayoutView",
            "grid_template_rows": null,
            "right": null,
            "justify_content": null,
            "_view_module": "@jupyter-widgets/base",
            "overflow": null,
            "_model_module_version": "1.2.0",
            "_view_count": null,
            "flex_flow": null,
            "width": null,
            "min_width": null,
            "border": null,
            "align_items": null,
            "bottom": null,
            "_model_module": "@jupyter-widgets/base",
            "top": null,
            "grid_column": null,
            "overflow_y": null,
            "overflow_x": null,
            "grid_auto_flow": null,
            "grid_area": null,
            "grid_template_columns": null,
            "flex": null,
            "_model_name": "LayoutModel",
            "justify_items": null,
            "grid_row": null,
            "max_height": null,
            "align_content": null,
            "visibility": null,
            "align_self": null,
            "height": null,
            "min_height": null,
            "padding": null,
            "grid_auto_rows": null,
            "grid_gap": null,
            "max_width": null,
            "order": null,
            "_view_module_version": "1.2.0",
            "grid_template_areas": null,
            "object_position": null,
            "object_fit": null,
            "grid_auto_columns": null,
            "margin": null,
            "display": null,
            "left": null
          }
        },
        "592ee07daa224bfe821db348bc90a6d1": {
          "model_module": "@jupyter-widgets/controls",
          "model_name": "HBoxModel",
          "state": {
            "_view_name": "HBoxView",
            "_dom_classes": [],
            "_model_name": "HBoxModel",
            "_view_module": "@jupyter-widgets/controls",
            "_model_module_version": "1.5.0",
            "_view_count": null,
            "_view_module_version": "1.5.0",
            "box_style": "",
            "layout": "IPY_MODEL_b25b9bb3d0c14cf481dc398861a36658",
            "_model_module": "@jupyter-widgets/controls",
            "children": [
              "IPY_MODEL_b0a56c9ec92c48d6b9099bc8455b0021",
              "IPY_MODEL_6dd4242ee7394765b8daa9a08674c6ec"
            ]
          }
        },
        "b25b9bb3d0c14cf481dc398861a36658": {
          "model_module": "@jupyter-widgets/base",
          "model_name": "LayoutModel",
          "state": {
            "_view_name": "LayoutView",
            "grid_template_rows": null,
            "right": null,
            "justify_content": null,
            "_view_module": "@jupyter-widgets/base",
            "overflow": null,
            "_model_module_version": "1.2.0",
            "_view_count": null,
            "flex_flow": null,
            "width": null,
            "min_width": null,
            "border": null,
            "align_items": null,
            "bottom": null,
            "_model_module": "@jupyter-widgets/base",
            "top": null,
            "grid_column": null,
            "overflow_y": null,
            "overflow_x": null,
            "grid_auto_flow": null,
            "grid_area": null,
            "grid_template_columns": null,
            "flex": null,
            "_model_name": "LayoutModel",
            "justify_items": null,
            "grid_row": null,
            "max_height": null,
            "align_content": null,
            "visibility": null,
            "align_self": null,
            "height": null,
            "min_height": null,
            "padding": null,
            "grid_auto_rows": null,
            "grid_gap": null,
            "max_width": null,
            "order": null,
            "_view_module_version": "1.2.0",
            "grid_template_areas": null,
            "object_position": null,
            "object_fit": null,
            "grid_auto_columns": null,
            "margin": null,
            "display": null,
            "left": null
          }
        },
        "b0a56c9ec92c48d6b9099bc8455b0021": {
          "model_module": "@jupyter-widgets/controls",
          "model_name": "FloatProgressModel",
          "state": {
            "_view_name": "ProgressView",
            "style": "IPY_MODEL_9593203707d0493b987bf3178cf591cc",
            "_dom_classes": [],
            "description": "100%",
            "_model_name": "FloatProgressModel",
            "bar_style": "success",
            "max": 48,
            "_view_module": "@jupyter-widgets/controls",
            "_model_module_version": "1.5.0",
            "value": 48,
            "_view_count": null,
            "_view_module_version": "1.5.0",
            "orientation": "horizontal",
            "min": 0,
            "description_tooltip": null,
            "_model_module": "@jupyter-widgets/controls",
            "layout": "IPY_MODEL_5d19034f934845b6a801e6d489feecc2"
          }
        },
        "6dd4242ee7394765b8daa9a08674c6ec": {
          "model_module": "@jupyter-widgets/controls",
          "model_name": "HTMLModel",
          "state": {
            "_view_name": "HTMLView",
            "style": "IPY_MODEL_d71da5e8645245d49b5f0ae6c154867f",
            "_dom_classes": [],
            "description": "",
            "_model_name": "HTMLModel",
            "placeholder": "​",
            "_view_module": "@jupyter-widgets/controls",
            "_model_module_version": "1.5.0",
            "value": " 48/48 [01:42&lt;00:00,  2.13s/it]",
            "_view_count": null,
            "_view_module_version": "1.5.0",
            "description_tooltip": null,
            "_model_module": "@jupyter-widgets/controls",
            "layout": "IPY_MODEL_215bb8d2c0f344fea2ac649f1b51b38c"
          }
        },
        "9593203707d0493b987bf3178cf591cc": {
          "model_module": "@jupyter-widgets/controls",
          "model_name": "ProgressStyleModel",
          "state": {
            "_view_name": "StyleView",
            "_model_name": "ProgressStyleModel",
            "description_width": "initial",
            "_view_module": "@jupyter-widgets/base",
            "_model_module_version": "1.5.0",
            "_view_count": null,
            "_view_module_version": "1.2.0",
            "bar_color": null,
            "_model_module": "@jupyter-widgets/controls"
          }
        },
        "5d19034f934845b6a801e6d489feecc2": {
          "model_module": "@jupyter-widgets/base",
          "model_name": "LayoutModel",
          "state": {
            "_view_name": "LayoutView",
            "grid_template_rows": null,
            "right": null,
            "justify_content": null,
            "_view_module": "@jupyter-widgets/base",
            "overflow": null,
            "_model_module_version": "1.2.0",
            "_view_count": null,
            "flex_flow": null,
            "width": null,
            "min_width": null,
            "border": null,
            "align_items": null,
            "bottom": null,
            "_model_module": "@jupyter-widgets/base",
            "top": null,
            "grid_column": null,
            "overflow_y": null,
            "overflow_x": null,
            "grid_auto_flow": null,
            "grid_area": null,
            "grid_template_columns": null,
            "flex": null,
            "_model_name": "LayoutModel",
            "justify_items": null,
            "grid_row": null,
            "max_height": null,
            "align_content": null,
            "visibility": null,
            "align_self": null,
            "height": null,
            "min_height": null,
            "padding": null,
            "grid_auto_rows": null,
            "grid_gap": null,
            "max_width": null,
            "order": null,
            "_view_module_version": "1.2.0",
            "grid_template_areas": null,
            "object_position": null,
            "object_fit": null,
            "grid_auto_columns": null,
            "margin": null,
            "display": null,
            "left": null
          }
        },
        "d71da5e8645245d49b5f0ae6c154867f": {
          "model_module": "@jupyter-widgets/controls",
          "model_name": "DescriptionStyleModel",
          "state": {
            "_view_name": "StyleView",
            "_model_name": "DescriptionStyleModel",
            "description_width": "",
            "_view_module": "@jupyter-widgets/base",
            "_model_module_version": "1.5.0",
            "_view_count": null,
            "_view_module_version": "1.2.0",
            "_model_module": "@jupyter-widgets/controls"
          }
        },
        "215bb8d2c0f344fea2ac649f1b51b38c": {
          "model_module": "@jupyter-widgets/base",
          "model_name": "LayoutModel",
          "state": {
            "_view_name": "LayoutView",
            "grid_template_rows": null,
            "right": null,
            "justify_content": null,
            "_view_module": "@jupyter-widgets/base",
            "overflow": null,
            "_model_module_version": "1.2.0",
            "_view_count": null,
            "flex_flow": null,
            "width": null,
            "min_width": null,
            "border": null,
            "align_items": null,
            "bottom": null,
            "_model_module": "@jupyter-widgets/base",
            "top": null,
            "grid_column": null,
            "overflow_y": null,
            "overflow_x": null,
            "grid_auto_flow": null,
            "grid_area": null,
            "grid_template_columns": null,
            "flex": null,
            "_model_name": "LayoutModel",
            "justify_items": null,
            "grid_row": null,
            "max_height": null,
            "align_content": null,
            "visibility": null,
            "align_self": null,
            "height": null,
            "min_height": null,
            "padding": null,
            "grid_auto_rows": null,
            "grid_gap": null,
            "max_width": null,
            "order": null,
            "_view_module_version": "1.2.0",
            "grid_template_areas": null,
            "object_position": null,
            "object_fit": null,
            "grid_auto_columns": null,
            "margin": null,
            "display": null,
            "left": null
          }
        }
      }
    }
  },
  "cells": [
    {
      "cell_type": "markdown",
      "metadata": {
        "id": "view-in-github",
        "colab_type": "text"
      },
      "source": [
        "<a href=\"https://colab.research.google.com/github/JaimeRedondo/Mushrooms_Classification/blob/master/Mushrooms_Classification.ipynb\" target=\"_parent\"><img src=\"https://colab.research.google.com/assets/colab-badge.svg\" alt=\"Open In Colab\"/></a>"
      ]
    },
    {
      "cell_type": "markdown",
      "metadata": {
        "id": "KEqnwo-vV2nq"
      },
      "source": [
        "## Libraries Import"
      ]
    },
    {
      "cell_type": "code",
      "metadata": {
        "colab": {
          "base_uri": "https://localhost:8080/"
        },
        "id": "vz6dxutvauCY",
        "outputId": "2af1a16d-d008-48e7-ccc4-66e71f869999"
      },
      "source": [
        "### If the first time you have an error, try to restart runtime and run again.\n",
        "\n",
        "### Working with images\n",
        "! pip install opencv-python\n",
        "from matplotlib import image\n",
        "from matplotlib import pyplot\n",
        "from skimage import io\n",
        "import cv2\n",
        "import os\n",
        "import skimage\n",
        "from skimage import data, io, filters, transform\n",
        "\n",
        "### Web scraping packages\n",
        "from bs4 import BeautifulSoup\n",
        "import requests\n",
        "import itertools\n",
        "from urllib.request import Request, urlopen\n",
        "import urllib.request\n",
        "\n",
        "### Pandas/numpy for data manipulation\n",
        "import pandas as pd\n",
        "import numpy as np\n",
        "from urllib.request import urlopen\n",
        "\n",
        "### Progress bar\n",
        "from tqdm.notebook import tqdm\n",
        "from time import sleep \n",
        "\n",
        "### Visualize data\n",
        "%pylab inline\n",
        "plt.style.use('seaborn-talk')\n",
        "import matplotlib.pyplot as plt\n",
        "import matplotlib.image as mpimg\n",
        "import seaborn as sns\n",
        "%matplotlib inline\n",
        "\n",
        "### Deep learning libraries\n",
        "from tensorflow.keras import optimizers\n",
        "from tensorflow.keras import losses\n",
        "from tensorflow.keras import metrics\n",
        "from tensorflow.keras.utils import to_categorical\n",
        "from tensorflow.keras import models\n",
        "from tensorflow.keras import layers\n",
        "from tensorflow.keras import Input\n",
        "import tensorflow as tf\n",
        "from sklearn.metrics import confusion_matrix\n",
        "import itertools\n",
        "from keras.utils.np_utils import to_categorical\n",
        "from keras.models import Sequential\n",
        "from keras.layers import Dense, Dropout, Flatten, Conv2D, MaxPool2D\n",
        "from keras.optimizers import RMSprop\n",
        "from keras.preprocessing.image import ImageDataGenerator\n",
        "from keras.callbacks import ReduceLROnPlateau\n",
        "from sklearn.preprocessing import OneHotEncoder\n",
        "from sklearn.preprocessing import LabelEncoder\n",
        "from keras.models import load_model\n",
        "from sklearn.metrics import confusion_matrix\n",
        "\n",
        "### Random\n",
        "import random \n",
        "\n",
        "### Streamlit Web App\n",
        "! pip install streamlit\n",
        "! pip install pyngrok\n",
        "from pyngrok import ngrok\n",
        "import streamlit as st\n",
        "\n",
        "\n"
      ],
      "execution_count": 1,
      "outputs": [
        {
          "output_type": "stream",
          "text": [
            "Requirement already satisfied: opencv-python in /usr/local/lib/python3.7/dist-packages (4.1.2.30)\n",
            "Requirement already satisfied: numpy>=1.14.5 in /usr/local/lib/python3.7/dist-packages (from opencv-python) (1.19.5)\n",
            "Populating the interactive namespace from numpy and matplotlib\n",
            "Requirement already satisfied: streamlit in /usr/local/lib/python3.7/dist-packages (0.81.1)\n",
            "Requirement already satisfied: python-dateutil in /usr/local/lib/python3.7/dist-packages (from streamlit) (2.8.1)\n",
            "Requirement already satisfied: pydeck>=0.1.dev5 in /usr/local/lib/python3.7/dist-packages (from streamlit) (0.6.2)\n",
            "Requirement already satisfied: numpy in /usr/local/lib/python3.7/dist-packages (from streamlit) (1.19.5)\n",
            "Requirement already satisfied: packaging in /usr/local/lib/python3.7/dist-packages (from streamlit) (20.9)\n",
            "Requirement already satisfied: pandas>=0.21.0 in /usr/local/lib/python3.7/dist-packages (from streamlit) (1.1.5)\n",
            "Requirement already satisfied: pillow>=6.2.0 in /usr/local/lib/python3.7/dist-packages (from streamlit) (7.1.2)\n",
            "Requirement already satisfied: validators in /usr/local/lib/python3.7/dist-packages (from streamlit) (0.18.2)\n",
            "Requirement already satisfied: pyarrow; python_version < \"3.9\" in /usr/local/lib/python3.7/dist-packages (from streamlit) (3.0.0)\n",
            "Requirement already satisfied: gitpython in /usr/local/lib/python3.7/dist-packages (from streamlit) (3.1.14)\n",
            "Requirement already satisfied: toml in /usr/local/lib/python3.7/dist-packages (from streamlit) (0.10.2)\n",
            "Requirement already satisfied: astor in /usr/local/lib/python3.7/dist-packages (from streamlit) (0.8.1)\n",
            "Requirement already satisfied: requests in /usr/local/lib/python3.7/dist-packages (from streamlit) (2.23.0)\n",
            "Requirement already satisfied: cachetools>=4.0 in /usr/local/lib/python3.7/dist-packages (from streamlit) (4.2.1)\n",
            "Requirement already satisfied: altair>=3.2.0 in /usr/local/lib/python3.7/dist-packages (from streamlit) (4.1.0)\n",
            "Requirement already satisfied: blinker in /usr/local/lib/python3.7/dist-packages (from streamlit) (1.4)\n",
            "Requirement already satisfied: protobuf!=3.11,>=3.6.0 in /usr/local/lib/python3.7/dist-packages (from streamlit) (3.12.4)\n",
            "Requirement already satisfied: tornado>=5.0 in /usr/local/lib/python3.7/dist-packages (from streamlit) (5.1.1)\n",
            "Requirement already satisfied: base58 in /usr/local/lib/python3.7/dist-packages (from streamlit) (2.1.0)\n",
            "Requirement already satisfied: watchdog; platform_system != \"Darwin\" in /usr/local/lib/python3.7/dist-packages (from streamlit) (2.1.0)\n",
            "Requirement already satisfied: tzlocal in /usr/local/lib/python3.7/dist-packages (from streamlit) (1.5.1)\n",
            "Requirement already satisfied: click>=7.0 in /usr/local/lib/python3.7/dist-packages (from streamlit) (7.1.2)\n",
            "Requirement already satisfied: six>=1.5 in /usr/local/lib/python3.7/dist-packages (from python-dateutil->streamlit) (1.15.0)\n",
            "Requirement already satisfied: ipykernel>=5.1.2; python_version >= \"3.4\" in /usr/local/lib/python3.7/dist-packages (from pydeck>=0.1.dev5->streamlit) (5.5.4)\n",
            "Requirement already satisfied: ipywidgets>=7.0.0 in /usr/local/lib/python3.7/dist-packages (from pydeck>=0.1.dev5->streamlit) (7.6.3)\n",
            "Requirement already satisfied: traitlets>=4.3.2 in /usr/local/lib/python3.7/dist-packages (from pydeck>=0.1.dev5->streamlit) (5.0.5)\n",
            "Requirement already satisfied: jinja2>=2.10.1 in /usr/local/lib/python3.7/dist-packages (from pydeck>=0.1.dev5->streamlit) (2.11.3)\n",
            "Requirement already satisfied: pyparsing>=2.0.2 in /usr/local/lib/python3.7/dist-packages (from packaging->streamlit) (2.4.7)\n",
            "Requirement already satisfied: pytz>=2017.2 in /usr/local/lib/python3.7/dist-packages (from pandas>=0.21.0->streamlit) (2018.9)\n",
            "Requirement already satisfied: decorator>=3.4.0 in /usr/local/lib/python3.7/dist-packages (from validators->streamlit) (4.4.2)\n",
            "Requirement already satisfied: gitdb<5,>=4.0.1 in /usr/local/lib/python3.7/dist-packages (from gitpython->streamlit) (4.0.7)\n",
            "Requirement already satisfied: urllib3!=1.25.0,!=1.25.1,<1.26,>=1.21.1 in /usr/local/lib/python3.7/dist-packages (from requests->streamlit) (1.24.3)\n",
            "Requirement already satisfied: certifi>=2017.4.17 in /usr/local/lib/python3.7/dist-packages (from requests->streamlit) (2020.12.5)\n",
            "Requirement already satisfied: idna<3,>=2.5 in /usr/local/lib/python3.7/dist-packages (from requests->streamlit) (2.10)\n",
            "Requirement already satisfied: chardet<4,>=3.0.2 in /usr/local/lib/python3.7/dist-packages (from requests->streamlit) (3.0.4)\n",
            "Requirement already satisfied: toolz in /usr/local/lib/python3.7/dist-packages (from altair>=3.2.0->streamlit) (0.11.1)\n",
            "Requirement already satisfied: entrypoints in /usr/local/lib/python3.7/dist-packages (from altair>=3.2.0->streamlit) (0.3)\n",
            "Requirement already satisfied: jsonschema in /usr/local/lib/python3.7/dist-packages (from altair>=3.2.0->streamlit) (2.6.0)\n",
            "Requirement already satisfied: setuptools in /usr/local/lib/python3.7/dist-packages (from protobuf!=3.11,>=3.6.0->streamlit) (56.1.0)\n",
            "Requirement already satisfied: jupyter-client in /usr/local/lib/python3.7/dist-packages (from ipykernel>=5.1.2; python_version >= \"3.4\"->pydeck>=0.1.dev5->streamlit) (5.3.5)\n",
            "Requirement already satisfied: ipython>=5.0.0 in /usr/local/lib/python3.7/dist-packages (from ipykernel>=5.1.2; python_version >= \"3.4\"->pydeck>=0.1.dev5->streamlit) (5.5.0)\n",
            "Requirement already satisfied: widgetsnbextension~=3.5.0 in /usr/local/lib/python3.7/dist-packages (from ipywidgets>=7.0.0->pydeck>=0.1.dev5->streamlit) (3.5.1)\n",
            "Requirement already satisfied: nbformat>=4.2.0 in /usr/local/lib/python3.7/dist-packages (from ipywidgets>=7.0.0->pydeck>=0.1.dev5->streamlit) (5.1.3)\n",
            "Requirement already satisfied: jupyterlab-widgets>=1.0.0; python_version >= \"3.6\" in /usr/local/lib/python3.7/dist-packages (from ipywidgets>=7.0.0->pydeck>=0.1.dev5->streamlit) (1.0.0)\n",
            "Requirement already satisfied: ipython-genutils in /usr/local/lib/python3.7/dist-packages (from traitlets>=4.3.2->pydeck>=0.1.dev5->streamlit) (0.2.0)\n",
            "Requirement already satisfied: MarkupSafe>=0.23 in /usr/local/lib/python3.7/dist-packages (from jinja2>=2.10.1->pydeck>=0.1.dev5->streamlit) (1.1.1)\n",
            "Requirement already satisfied: smmap<5,>=3.0.1 in /usr/local/lib/python3.7/dist-packages (from gitdb<5,>=4.0.1->gitpython->streamlit) (4.0.0)\n",
            "Requirement already satisfied: jupyter-core>=4.6.0 in /usr/local/lib/python3.7/dist-packages (from jupyter-client->ipykernel>=5.1.2; python_version >= \"3.4\"->pydeck>=0.1.dev5->streamlit) (4.7.1)\n",
            "Requirement already satisfied: pyzmq>=13 in /usr/local/lib/python3.7/dist-packages (from jupyter-client->ipykernel>=5.1.2; python_version >= \"3.4\"->pydeck>=0.1.dev5->streamlit) (22.0.3)\n",
            "Requirement already satisfied: pexpect; sys_platform != \"win32\" in /usr/local/lib/python3.7/dist-packages (from ipython>=5.0.0->ipykernel>=5.1.2; python_version >= \"3.4\"->pydeck>=0.1.dev5->streamlit) (4.8.0)\n",
            "Requirement already satisfied: pygments in /usr/local/lib/python3.7/dist-packages (from ipython>=5.0.0->ipykernel>=5.1.2; python_version >= \"3.4\"->pydeck>=0.1.dev5->streamlit) (2.6.1)\n",
            "Requirement already satisfied: prompt-toolkit<2.0.0,>=1.0.4 in /usr/local/lib/python3.7/dist-packages (from ipython>=5.0.0->ipykernel>=5.1.2; python_version >= \"3.4\"->pydeck>=0.1.dev5->streamlit) (1.0.18)\n",
            "Requirement already satisfied: simplegeneric>0.8 in /usr/local/lib/python3.7/dist-packages (from ipython>=5.0.0->ipykernel>=5.1.2; python_version >= \"3.4\"->pydeck>=0.1.dev5->streamlit) (0.8.1)\n",
            "Requirement already satisfied: pickleshare in /usr/local/lib/python3.7/dist-packages (from ipython>=5.0.0->ipykernel>=5.1.2; python_version >= \"3.4\"->pydeck>=0.1.dev5->streamlit) (0.7.5)\n",
            "Requirement already satisfied: notebook>=4.4.1 in /usr/local/lib/python3.7/dist-packages (from widgetsnbextension~=3.5.0->ipywidgets>=7.0.0->pydeck>=0.1.dev5->streamlit) (5.3.1)\n",
            "Requirement already satisfied: ptyprocess>=0.5 in /usr/local/lib/python3.7/dist-packages (from pexpect; sys_platform != \"win32\"->ipython>=5.0.0->ipykernel>=5.1.2; python_version >= \"3.4\"->pydeck>=0.1.dev5->streamlit) (0.7.0)\n",
            "Requirement already satisfied: wcwidth in /usr/local/lib/python3.7/dist-packages (from prompt-toolkit<2.0.0,>=1.0.4->ipython>=5.0.0->ipykernel>=5.1.2; python_version >= \"3.4\"->pydeck>=0.1.dev5->streamlit) (0.2.5)\n",
            "Requirement already satisfied: Send2Trash in /usr/local/lib/python3.7/dist-packages (from notebook>=4.4.1->widgetsnbextension~=3.5.0->ipywidgets>=7.0.0->pydeck>=0.1.dev5->streamlit) (1.5.0)\n",
            "Requirement already satisfied: terminado>=0.8.1 in /usr/local/lib/python3.7/dist-packages (from notebook>=4.4.1->widgetsnbextension~=3.5.0->ipywidgets>=7.0.0->pydeck>=0.1.dev5->streamlit) (0.9.4)\n",
            "Requirement already satisfied: nbconvert in /usr/local/lib/python3.7/dist-packages (from notebook>=4.4.1->widgetsnbextension~=3.5.0->ipywidgets>=7.0.0->pydeck>=0.1.dev5->streamlit) (5.6.1)\n",
            "Requirement already satisfied: bleach in /usr/local/lib/python3.7/dist-packages (from nbconvert->notebook>=4.4.1->widgetsnbextension~=3.5.0->ipywidgets>=7.0.0->pydeck>=0.1.dev5->streamlit) (3.3.0)\n",
            "Requirement already satisfied: defusedxml in /usr/local/lib/python3.7/dist-packages (from nbconvert->notebook>=4.4.1->widgetsnbextension~=3.5.0->ipywidgets>=7.0.0->pydeck>=0.1.dev5->streamlit) (0.7.1)\n",
            "Requirement already satisfied: testpath in /usr/local/lib/python3.7/dist-packages (from nbconvert->notebook>=4.4.1->widgetsnbextension~=3.5.0->ipywidgets>=7.0.0->pydeck>=0.1.dev5->streamlit) (0.4.4)\n",
            "Requirement already satisfied: pandocfilters>=1.4.1 in /usr/local/lib/python3.7/dist-packages (from nbconvert->notebook>=4.4.1->widgetsnbextension~=3.5.0->ipywidgets>=7.0.0->pydeck>=0.1.dev5->streamlit) (1.4.3)\n",
            "Requirement already satisfied: mistune<2,>=0.8.1 in /usr/local/lib/python3.7/dist-packages (from nbconvert->notebook>=4.4.1->widgetsnbextension~=3.5.0->ipywidgets>=7.0.0->pydeck>=0.1.dev5->streamlit) (0.8.4)\n",
            "Requirement already satisfied: webencodings in /usr/local/lib/python3.7/dist-packages (from bleach->nbconvert->notebook>=4.4.1->widgetsnbextension~=3.5.0->ipywidgets>=7.0.0->pydeck>=0.1.dev5->streamlit) (0.5.1)\n",
            "Requirement already satisfied: pyngrok in /usr/local/lib/python3.7/dist-packages (5.0.5)\n",
            "Requirement already satisfied: PyYAML in /usr/local/lib/python3.7/dist-packages (from pyngrok) (3.13)\n"
          ],
          "name": "stdout"
        }
      ]
    },
    {
      "cell_type": "markdown",
      "metadata": {
        "id": "m2gO0JrFIG8J"
      },
      "source": [
        "## Getting the data"
      ]
    },
    {
      "cell_type": "code",
      "metadata": {
        "colab": {
          "resources": {
            "http://localhost:8080/nbextensions/google.colab/files.js": {
              "data": "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",
              "ok": true,
              "headers": [
                [
                  "content-type",
                  "application/javascript"
                ]
              ],
              "status": 200,
              "status_text": "OK"
            }
          },
          "base_uri": "https://localhost:8080/",
          "height": 419,
          "referenced_widgets": [
            "fb72fe51830b43df832e7e637286251c",
            "7d54f0a2f01b494e83343ad1630122d0",
            "7d74dd2faacf4e039c312527e96a0312",
            "6b1f8c6884f344d998c73f326e70de5e",
            "27c324cdc9f64a26b7ffc957592d762b",
            "5b07a5e4ecb54826b5bc57b2adbc2f8e",
            "2b995962c34d4921a73abd86551489c8",
            "55090431560540ce9f8f08ddcd22c9ca"
          ]
        },
        "id": "nCvoxlJF38dW",
        "outputId": "0214cb6e-5096-4db0-9ac1-a418f3c11b7d"
      },
      "source": [
        "### If you want to scrape mushrooms since the beginning, first of all put the script Scraping_Mushrooms.ipynb in this script , you will have the opportunity\n",
        "### in the next cell, upload scraping mushrooms to this sesion, after this the script will run and you are going to need to give the parameters you want for \n",
        "### the search.\n",
        "\n",
        "### If you don´t want to scrape mushrooms, you have the data I used in the repo, you will need only to choose the option Use_data and you will get the data\n",
        "\n",
        "print(\"Do you want to scrape your own mushrooms or use the data existing?, put Scrape_mushrooms or Use_data\")\n",
        "\n",
        "def scrape_mushrooms(option=input()):\n",
        "  \n",
        "  if option == 'Scrape_mushrooms':\n",
        "    from google.colab import files\n",
        "    uploaded = files.upload()\n",
        "    %run Scraping_Mushrooms.ipynb\n",
        "    return None\n",
        "\n",
        "  elif option == 'Use_data':\n",
        "    print('Get the data existing and put it in this directory, later read it')\n",
        "    print('if you prefer to put in other route you only need to change the main route to after read the data')\n",
        "    from google.colab import drive\n",
        "    drive.mount('/content/gdrive')\n",
        "\n",
        "    path_output_1 = '/content/gdrive/MyDrive/Mushrooms_Classification_Guadalajara'\n",
        "    ########### Change to the path you save your data!!!!!!!! ##############\n",
        "\n",
        "    return path_output_1\n",
        "\n",
        "  else:\n",
        "    print('The option must be Scrape_mushrooms or Use_data, please, try again:')\n",
        "    return scrape_mushrooms(option=input())\n",
        "\n",
        "main_route = scrape_mushrooms()\n",
        "\n",
        "if main_route == None:\n",
        "  main_route = path_output\n",
        "else:\n",
        "  main_route = scrape_mushrooms()"
      ],
      "execution_count": 2,
      "outputs": [
        {
          "output_type": "stream",
          "text": [
            "Do you want to scrape your own mushrooms or use the data existing?, put Scrape_mushrooms or Use_data\n",
            "Scrape_mushrooms\n"
          ],
          "name": "stdout"
        },
        {
          "output_type": "display_data",
          "data": {
            "text/html": [
              "\n",
              "     <input type=\"file\" id=\"files-62d79161-51fd-4744-a2b5-5023601a21f3\" name=\"files[]\" multiple disabled\n",
              "        style=\"border:none\" />\n",
              "     <output id=\"result-62d79161-51fd-4744-a2b5-5023601a21f3\">\n",
              "      Upload widget is only available when the cell has been executed in the\n",
              "      current browser session. Please rerun this cell to enable.\n",
              "      </output>\n",
              "      <script src=\"/nbextensions/google.colab/files.js\"></script> "
            ],
            "text/plain": [
              "<IPython.core.display.HTML object>"
            ]
          },
          "metadata": {
            "tags": []
          }
        },
        {
          "output_type": "stream",
          "text": [
            "Saving Scraping_Mushrooms.ipynb to Scraping_Mushrooms.ipynb\n",
            "Requirement already satisfied: opencv-python in /usr/local/lib/python3.7/dist-packages (4.1.2.30)\n",
            "Requirement already satisfied: numpy>=1.14.5 in /usr/local/lib/python3.7/dist-packages (from opencv-python) (1.19.5)\n"
          ],
          "name": "stdout"
        },
        {
          "output_type": "stream",
          "text": [
            "/usr/local/lib/python3.7/dist-packages/IPython/core/magics/pylab.py:161: UserWarning: pylab import has clobbered these variables: ['random']\n",
            "`%matplotlib` prevents importing * from pylab and numpy\n",
            "  \"\\n`%matplotlib` prevents importing * from pylab and numpy\"\n"
          ],
          "name": "stderr"
        },
        {
          "output_type": "stream",
          "text": [
            "Populating the interactive namespace from numpy and matplotlib\n",
            "Choose between All the regions or only Guadalajara Mushrooms\n",
            "Guadalajara\n",
            "You choose Guadalajara Mushrooms\n",
            "Where do you want to save the photos?, example: /home/dsc/FP_Mushrooms/Mushrooms_Classification_Guadalajara\n",
            "If you want your current path write 'Default'\n",
            "Default\n",
            "How many images per mushroom do you want? minimum 20, give a number multiple of 20 (20,40,60...)\n",
            "20\n"
          ],
          "name": "stdout"
        },
        {
          "output_type": "display_data",
          "data": {
            "application/vnd.jupyter.widget-view+json": {
              "model_id": "fb72fe51830b43df832e7e637286251c",
              "version_minor": 0,
              "version_major": 2
            },
            "text/plain": [
              "HBox(children=(FloatProgress(value=0.0, max=49.0), HTML(value='')))"
            ]
          },
          "metadata": {
            "tags": []
          }
        },
        {
          "output_type": "stream",
          "text": [
            "Lactarius controversus folder already created\n",
            "\n"
          ],
          "name": "stdout"
        }
      ]
    },
    {
      "cell_type": "markdown",
      "metadata": {
        "id": "LPcNroEVsd7F"
      },
      "source": [
        "## Getting the list with the mushrooms names (the folders names)."
      ]
    },
    {
      "cell_type": "code",
      "metadata": {
        "colab": {
          "base_uri": "https://localhost:8080/",
          "height": 66,
          "referenced_widgets": [
            "d2ce435d301e4a3ea8aef31260cd27c3",
            "9994ae1a7a704d7fafafd2a3bd7bb5ab",
            "801f93140d364bfc90bc9443467f0811",
            "5146b1ca3852468f9206f5d4b96ee954",
            "fea26c0723064179963c770826212279",
            "d3f91bebf2b74291bc3c86ea1311ee02",
            "0e7f26e90bf648a88b135eebfe61f998",
            "78369ee13ed54658ada6e326493575a2"
          ]
        },
        "id": "Xh4E5MBCs-U2",
        "outputId": "43a17196-eb94-4f4e-8879-d26c3c67b5a0"
      },
      "source": [
        "### defining the main route (depends on what did you choose before).\n",
        "### with the data you have already choose\n",
        "\n",
        "mushrooms_directory=[]\n",
        "for folder in tqdm(os.listdir(main_route)):\n",
        "    if '.' in folder:\n",
        "        pass\n",
        "    else:\n",
        "        mushrooms_directory.append(folder)\n",
        "        \n",
        "mushrooms_directory=sorted(mushrooms_directory)\n",
        "\n",
        "### Now you have a directory named mushrooms_directory that is a list of the mushroom names\n",
        "\n",
        "### Delete the names in the mushrooms_directory list that are not mushroom names\n",
        "\n",
        "if 'sample_data' in mushrooms_directory:\n",
        "  mushrooms_directory.remove(\"sample_data\") \n",
        "\n",
        "if 'gdrive' in mushrooms_directory:\n",
        "  mushrooms_directory.remove(\"gdrive\") \n",
        "\n",
        "if 'ngrok' in mushrooms_directory:\n",
        "  mushrooms_directory.remove(\"ngrok\") \n",
        "\n",
        "### Getting the number of photos per mushroom we have, we did this to have the maximum length because in some mushrooms can be problems, so\n",
        "### we won´t have all the images for that mushroom, so now with this maximum length we have the number of images should be per mushroom\n",
        "\n",
        "lengths=[]\n",
        "for name in mushrooms_directory:\n",
        "  lengths.append(len(os.listdir(main_route +'/'+ name +'/')))\n",
        "\n",
        "number_of_photos = max(lengths)"
      ],
      "execution_count": 3,
      "outputs": [
        {
          "output_type": "display_data",
          "data": {
            "application/vnd.jupyter.widget-view+json": {
              "model_id": "d2ce435d301e4a3ea8aef31260cd27c3",
              "version_minor": 0,
              "version_major": 2
            },
            "text/plain": [
              "HBox(children=(FloatProgress(value=0.0, max=51.0), HTML(value='')))"
            ]
          },
          "metadata": {
            "tags": []
          }
        },
        {
          "output_type": "stream",
          "text": [
            "\n"
          ],
          "name": "stdout"
        }
      ]
    },
    {
      "cell_type": "markdown",
      "metadata": {
        "id": "2U56_5cMsxNi"
      },
      "source": [
        "## Pipeline with the process per image (Resize, Data Augmentation, Staandarize pixels)"
      ]
    },
    {
      "cell_type": "code",
      "metadata": {
        "id": "Ln1J9f_Xoodn"
      },
      "source": [
        "### Resize each image shape in 28x28 and print what photos are not available\n",
        "\n",
        "def resize_photos(directory,main_route,size_photo,number_of_photos):\n",
        "    for folder in tqdm(directory):\n",
        "        for numero in range(number_of_photos):\n",
        "            try:\n",
        "                route = main_route +'/'+ folder +'/'+ str(numero) + '.jpg'\n",
        "                data_picture = io.imread(route)\n",
        "                data_picture = cv2.resize(data_picture, size_photo)\n",
        "                # save the images\n",
        "                cv2.imwrite(route,data_picture)\n",
        "            except:  \n",
        "                print(\"Image number \"+str(numero)+' of mushroom '+folder+' is not available')\n",
        "\n",
        "### Standarize 0 - 255 pixels to 0 - 1 and do Data Augmentation to increase the dataset\n",
        "\n",
        "lista=[]\n",
        "lista1=[]\n",
        "def standarize_pixels_and_augmentation(directory,main_route,size_photo,number_of_photos):\n",
        "    for folder in tqdm(directory):\n",
        "        for numero in range(number_of_photos):\n",
        "            try:\n",
        "                route = main_route +'/'+folder +'/'+ str(numero) + '.jpg'\n",
        "                image_rgb=io.imread(route)/255.0\n",
        "\n",
        "                ############### DATA AUGMENTATION ###############\n",
        "\n",
        "                ### Mirror with vertical line on right\n",
        "                flip_1 = np.fliplr(image_rgb)\n",
        "\n",
        "                ### rotation of 90, 180 and 270 grades\n",
        "                rot_90 = tf.image.rot90(image_rgb, k=1)\n",
        "                rot_180 = tf.image.rot90(image_rgb, k=2)\n",
        "                rot_270 = tf.image.rot90(image_rgb, k=3)\n",
        "\n",
        "                ### Crop the images, can be any size of crop we choose\n",
        "                height, width = image_rgb.shape[0:2]\n",
        "                startRow = int(height*.15)\n",
        "                startCol = int(width*.15)\n",
        "                endRow = int(height*.85)\n",
        "                endCol = int(width*.85)\n",
        "                croppedImage = image_rgb[startRow:endRow, startCol:endCol]\n",
        "                croppedImage = cv2.resize(croppedImage,size_photo)\n",
        "\n",
        "                ### Adding contrast\n",
        "                contrast_img = cv2.addWeighted(image_rgb, 1.5, np.zeros(image_rgb.shape, image_rgb.dtype), 0, 0)\n",
        "\n",
        "                ### 50% blur by taking the median of the pixels\n",
        "                blur_image = cv2.medianBlur(image_rgb,1)\n",
        "\n",
        "                ### Add to dataset\n",
        "                lista.append(image_rgb)\n",
        "                lista.append(flip_1)\n",
        "                lista.append(rot_90)\n",
        "                lista.append(rot_180)\n",
        "                lista.append(rot_270)\n",
        "                lista.append(croppedImage)\n",
        "                lista.append(contrast_img)\n",
        "                lista.append(blur_image)\n",
        "                lista1.append(folder)\n",
        "                lista1.append(folder)\n",
        "                lista1.append(folder)\n",
        "                lista1.append(folder)\n",
        "                lista1.append(folder)\n",
        "                lista1.append(folder)\n",
        "                lista1.append(folder)\n",
        "                lista1.append(folder)            \n",
        "\n",
        "            except:\n",
        "              print(\"there are some problems with one of the mushrooms...\")\n",
        "\n",
        "### Group the functions in other function\n",
        "\n",
        "def standarize_photos(directory,main_route,size_photo,number_of_photos):\n",
        "    print(\"reshaping pictures...\")\n",
        "    resize_photos(directory,main_route,size_photo,number_of_photos)\n",
        "    resize_photos(directory,main_route,size_photo,number_of_photos)\n",
        "    print(\"Normalizing pixels...\")\n",
        "    standarize_pixels_and_augmentation(directory,main_route,size_photo,number_of_photos) "
      ],
      "execution_count": 4,
      "outputs": []
    },
    {
      "cell_type": "markdown",
      "metadata": {
        "id": "Dx-wFgxrk8od"
      },
      "source": [
        "## Give parameters and apply the function defined\n"
      ]
    },
    {
      "cell_type": "code",
      "metadata": {
        "colab": {
          "base_uri": "https://localhost:8080/",
          "height": 217,
          "referenced_widgets": [
            "d36b08cdc54a4ecda05e6a4d89f1e5d6",
            "368adab729a54059a49a7d30078c178f",
            "d88242fac7244508baf159f3e0984d21",
            "b5378deafed34e2a84556e2a077b8867",
            "e84e5ee6637f49baa6de7ae72cfe0778",
            "11df2746c39a424a9265514853a634ce",
            "97c507ed631f444181fb9b08a08ca282",
            "1df75816e69e46c6a64f35f154e7334f",
            "630faf8d345e4dd9944a03616f8d3a72",
            "cbe686f77e6b48fb8c210d50a75c1fab",
            "47c0df3befba4f9988a6a332b48587b8",
            "8605a5df468d492fb143a20a02b805d3",
            "4f1c7a00d56d47d58c425a89a780e068",
            "ff1ed824039845229e37231a2fce3983",
            "618152282fdd4e46ac13c4d7b2f09390",
            "8aaf678113594894a7267a9ee6420ddc",
            "592ee07daa224bfe821db348bc90a6d1",
            "b25b9bb3d0c14cf481dc398861a36658",
            "b0a56c9ec92c48d6b9099bc8455b0021",
            "6dd4242ee7394765b8daa9a08674c6ec",
            "9593203707d0493b987bf3178cf591cc",
            "5d19034f934845b6a801e6d489feecc2",
            "d71da5e8645245d49b5f0ae6c154867f",
            "215bb8d2c0f344fea2ac649f1b51b38c"
          ]
        },
        "id": "3Hr4dafxohyo",
        "outputId": "596a1702-7fbd-4791-e7c6-f5a442873302"
      },
      "source": [
        "### Parameters for the function defined before, the main_route and number_of_photos were defined before.\n",
        "\n",
        "directory = mushrooms_directory\n",
        "size_photo = (28,28)\n",
        "\n",
        "### Applying the group function we defined\n",
        "\n",
        "standarize_photos(directory,main_route,size_photo,number_of_photos)"
      ],
      "execution_count": 5,
      "outputs": [
        {
          "output_type": "stream",
          "text": [
            "reshaping pictures...\n"
          ],
          "name": "stdout"
        },
        {
          "output_type": "display_data",
          "data": {
            "application/vnd.jupyter.widget-view+json": {
              "model_id": "d36b08cdc54a4ecda05e6a4d89f1e5d6",
              "version_minor": 0,
              "version_major": 2
            },
            "text/plain": [
              "HBox(children=(FloatProgress(value=0.0, max=48.0), HTML(value='')))"
            ]
          },
          "metadata": {
            "tags": []
          }
        },
        {
          "output_type": "stream",
          "text": [
            "\n"
          ],
          "name": "stdout"
        },
        {
          "output_type": "display_data",
          "data": {
            "application/vnd.jupyter.widget-view+json": {
              "model_id": "630faf8d345e4dd9944a03616f8d3a72",
              "version_minor": 0,
              "version_major": 2
            },
            "text/plain": [
              "HBox(children=(FloatProgress(value=0.0, max=48.0), HTML(value='')))"
            ]
          },
          "metadata": {
            "tags": []
          }
        },
        {
          "output_type": "stream",
          "text": [
            "\n",
            "Normalizing pixels...\n"
          ],
          "name": "stdout"
        },
        {
          "output_type": "display_data",
          "data": {
            "application/vnd.jupyter.widget-view+json": {
              "model_id": "592ee07daa224bfe821db348bc90a6d1",
              "version_minor": 0,
              "version_major": 2
            },
            "text/plain": [
              "HBox(children=(FloatProgress(value=0.0, max=48.0), HTML(value='')))"
            ]
          },
          "metadata": {
            "tags": []
          }
        },
        {
          "output_type": "stream",
          "text": [
            "there are some problems with one of the mushrooms...\n",
            "\n"
          ],
          "name": "stdout"
        }
      ]
    },
    {
      "cell_type": "markdown",
      "metadata": {
        "id": "pn6CpUGDthuT"
      },
      "source": [
        "## Train, validation and tests datasets of images and labels"
      ]
    },
    {
      "cell_type": "code",
      "metadata": {
        "id": "IKoDme0Zf4N4"
      },
      "source": [
        "### Images and labels datasets\n",
        "\n",
        "images = np.array(lista)\n",
        "labels = np.array(lista1)\n",
        "\n",
        "### Splitting the test and train data\n",
        "\n",
        "randomizado = np.array(range(0,len(images)))\n",
        "enteros_aleatorios = randint(0,len(images),int(len(images)*0.10))\n",
        "\n",
        "mask = pd.Series(randomizado).isin(enteros_aleatorios)\n",
        "\n",
        "test_images = images[mask]\n",
        "test_labels = labels[mask]\n",
        "trainval_images = images[~mask]\n",
        "trainval_labels = labels[~mask]\n",
        "\n",
        "### Splitting the train data in train and validation\n",
        "\n",
        "randomizado1 = np.array(range(0,len(trainval_images)))\n",
        "enteros_aleatorios1 = randint(0,len(trainval_images),int(len(trainval_images)*0.10))\n",
        "\n",
        "mask1 = pd.Series(randomizado1).isin(enteros_aleatorios1)\n",
        "\n",
        "validation_images = trainval_images[mask1]\n",
        "validation_labels = trainval_labels[mask1]\n",
        "train_images = trainval_images[~mask1]\n",
        "train_labels = trainval_labels[~mask1]"
      ],
      "execution_count": 6,
      "outputs": []
    },
    {
      "cell_type": "markdown",
      "metadata": {
        "id": "gyc5KxDFdhtI"
      },
      "source": [
        "## Seeing the dataset images"
      ]
    },
    {
      "cell_type": "code",
      "metadata": {
        "id": "4uWy6y9odMJN"
      },
      "source": [
        "\n",
        "### To see mushrooms when I want\n",
        "def plot_mushroom_image(N, imgs, labels):\n",
        "    print(labels[N])\n",
        "    plt.imshow(imgs[N,], cmap=plt.cm.binary)\n",
        "    plt.grid(True)"
      ],
      "execution_count": 7,
      "outputs": []
    },
    {
      "cell_type": "code",
      "metadata": {
        "colab": {
          "base_uri": "https://localhost:8080/",
          "height": 480
        },
        "id": "8Y3yw38Xdat2",
        "outputId": "c69deb7d-5479-4ad0-b752-5560ddc9383a"
      },
      "source": [
        "### This is the function defined above to see mushrooms I want\n",
        "plot_mushroom_image(939,train_images,train_labels)"
      ],
      "execution_count": 8,
      "outputs": [
        {
          "output_type": "stream",
          "text": [
            "2021-05-09 00:21:36.000 WARNING matplotlib.image: Clipping input data to the valid range for imshow with RGB data ([0..1] for floats or [0..255] for integers).\n"
          ],
          "name": "stderr"
        },
        {
          "output_type": "stream",
          "text": [
            "Amanita muscaria\n"
          ],
          "name": "stdout"
        },
        {
          "output_type": "display_data",
          "data": {
            "image/png": "[encoded data removed]",
            "text/plain": [
              "<Figure size 748.8x514.8 with 1 Axes>"
            ]
          },
          "metadata": {
            "tags": [],
            "needs_background": "light"
          }
        }
      ]
    },
    {
      "cell_type": "markdown",
      "metadata": {
        "id": "hRKWdcqXfYnW"
      },
      "source": [
        "## One Hot Encoding"
      ]
    },
    {
      "cell_type": "code",
      "metadata": {
        "id": "SGr13NUYdu7T"
      },
      "source": [
        "### One Hot Encoding for train, test and validation\n",
        "\n",
        "ohetrain = OneHotEncoder(sparse = False)\n",
        "le = LabelEncoder()\n",
        "OneHotTrain = ohetrain.fit_transform(le.fit_transform(train_labels).reshape(-1, 1))\n",
        "\n",
        "ohetest = OneHotEncoder(sparse = False)\n",
        "le = LabelEncoder()\n",
        "OneHotTest = ohetest.fit_transform(le.fit_transform(test_labels).reshape(-1, 1))\n",
        "\n",
        "oheval = OneHotEncoder(sparse = False)\n",
        "le = LabelEncoder()\n",
        "OneHotVal = oheval.fit_transform(le.fit_transform(validation_labels).reshape(-1, 1))"
      ],
      "execution_count": 9,
      "outputs": []
    },
    {
      "cell_type": "markdown",
      "metadata": {
        "id": "XOC9nYAylNuM"
      },
      "source": [
        "## CNN (Convolutional Neural Network)"
      ]
    },
    {
      "cell_type": "code",
      "metadata": {
        "id": "8eTFwKMjsalO",
        "colab": {
          "base_uri": "https://localhost:8080/"
        },
        "outputId": "b66fd3f2-c82f-4f2b-a5e9-6b58da9df357"
      },
      "source": [
        "### We defined the parameters to use in the neural network, INIT_LR: the learning rate to apply SGD (Stochastic Gradient Descent), epochs, batch size\n",
        "### and nClasses (How many classes are).\n",
        "\n",
        "INIT_LR = 1e-3\n",
        "epochs = 200\n",
        "batch_size = 32\n",
        "nClasses = len(mushrooms_directory)\n",
        "\n",
        "### Define the model with layers, ending with a softmax because we have multiple classes.\n",
        "\n",
        "def cnn_model():\n",
        "  model = Sequential()\n",
        "\n",
        "  model.add(Conv2D(filters = 16, kernel_size = (5,5),padding = 'Same', \n",
        "                 activation ='relu', input_shape = (28,28,3)))\n",
        "  model.add(Conv2D(filters = 32, kernel_size = (5,5),padding = 'Same', \n",
        "                 activation ='relu'))\n",
        "  model.add(MaxPool2D(pool_size=(3,3)))\n",
        "  model.add(Dropout(0.25))\n",
        "\n",
        "  model.add(Conv2D(filters = 32, kernel_size = (3,3),padding = 'Same', \n",
        "                 activation ='relu'))\n",
        "  model.add(MaxPool2D(pool_size=(3,3)))\n",
        "  model.add(Dropout(0.25))\n",
        "\n",
        "  \n",
        "  model.add(Flatten())\n",
        "\n",
        "  model.add(Dense(200, activation='relu'))\n",
        "  model.add(Dense(100, activation='relu'))\n",
        "  model.add(Dense(nClasses, activation='softmax'))\n",
        "\n",
        "  ### Resume of the model\n",
        "  \n",
        "  model.summary()\n",
        "\n",
        "  return model\n",
        "  \n",
        "model = cnn_model()"
      ],
      "execution_count": 14,
      "outputs": [
        {
          "output_type": "stream",
          "text": [
            "Model: \"sequential\"\n",
            "_________________________________________________________________\n",
            "Layer (type)                 Output Shape              Param #   \n",
            "=================================================================\n",
            "conv2d (Conv2D)              (None, 28, 28, 16)        1216      \n",
            "_________________________________________________________________\n",
            "conv2d_1 (Conv2D)            (None, 28, 28, 32)        12832     \n",
            "_________________________________________________________________\n",
            "max_pooling2d (MaxPooling2D) (None, 9, 9, 32)          0         \n",
            "_________________________________________________________________\n",
            "dropout (Dropout)            (None, 9, 9, 32)          0         \n",
            "_________________________________________________________________\n",
            "conv2d_2 (Conv2D)            (None, 9, 9, 32)          9248      \n",
            "_________________________________________________________________\n",
            "max_pooling2d_1 (MaxPooling2 (None, 3, 3, 32)          0         \n",
            "_________________________________________________________________\n",
            "dropout_1 (Dropout)          (None, 3, 3, 32)          0         \n",
            "_________________________________________________________________\n",
            "flatten (Flatten)            (None, 288)               0         \n",
            "_________________________________________________________________\n",
            "dense (Dense)                (None, 200)               57800     \n",
            "_________________________________________________________________\n",
            "dense_1 (Dense)              (None, 100)               20100     \n",
            "_________________________________________________________________\n",
            "dense_2 (Dense)              (None, 48)                4848      \n",
            "=================================================================\n",
            "Total params: 106,044\n",
            "Trainable params: 106,044\n",
            "Non-trainable params: 0\n",
            "_________________________________________________________________\n"
          ],
          "name": "stdout"
        }
      ]
    },
    {
      "cell_type": "code",
      "metadata": {
        "id": "h1XwFrcttJ5z"
      },
      "source": [
        "### Adam optimizer\n",
        "\n",
        "model.compile(loss=losses.categorical_crossentropy, optimizer=optimizers.Adam(),metrics=['categorical_accuracy'])"
      ],
      "execution_count": null,
      "outputs": []
    },
    {
      "cell_type": "code",
      "metadata": {
        "id": "CgpZhaBx8LJX"
      },
      "source": [
        "#### SGD Optimizer\n",
        "\n",
        "model.compile(optimizer=optimizers.SGD(lr=0.01),loss=losses.categorical_crossentropy,metrics=[metrics.categorical_accuracy])"
      ],
      "execution_count": 15,
      "outputs": []
    },
    {
      "cell_type": "code",
      "metadata": {
        "colab": {
          "base_uri": "https://localhost:8080/"
        },
        "id": "Oigv6Aj-thzF",
        "outputId": "cc771b7c-61b2-48cc-9e43-08dcbba92a30"
      },
      "source": [
        "### Train the model\n",
        "\n",
        "h = model.fit(train_images,OneHotTrain, batch_size=batch_size,epochs=epochs,verbose=1,validation_data=(validation_images,OneHotVal))\n"
      ],
      "execution_count": 16,
      "outputs": [
        {
          "output_type": "stream",
          "text": [
            "Epoch 1/200\n",
            "197/197 [==============================] - 34s 6ms/step - loss: 3.8776 - categorical_accuracy: 0.0252 - val_loss: 3.8678 - val_categorical_accuracy: 0.0245\n",
            "Epoch 2/200\n",
            "197/197 [==============================] - 1s 4ms/step - loss: 3.8671 - categorical_accuracy: 0.0256 - val_loss: 3.8671 - val_categorical_accuracy: 0.0230\n",
            "Epoch 3/200\n",
            "197/197 [==============================] - 1s 4ms/step - loss: 3.8659 - categorical_accuracy: 0.0271 - val_loss: 3.8616 - val_categorical_accuracy: 0.0245\n",
            "Epoch 4/200\n",
            "197/197 [==============================] - 1s 4ms/step - loss: 3.8592 - categorical_accuracy: 0.0278 - val_loss: 3.8545 - val_categorical_accuracy: 0.0199\n",
            "Epoch 5/200\n",
            "197/197 [==============================] - 1s 4ms/step - loss: 3.8472 - categorical_accuracy: 0.0300 - val_loss: 3.8394 - val_categorical_accuracy: 0.0291\n",
            "Epoch 6/200\n",
            "197/197 [==============================] - 1s 4ms/step - loss: 3.8297 - categorical_accuracy: 0.0311 - val_loss: 3.8151 - val_categorical_accuracy: 0.0337\n",
            "Epoch 7/200\n",
            "197/197 [==============================] - 1s 4ms/step - loss: 3.7981 - categorical_accuracy: 0.0379 - val_loss: 3.7818 - val_categorical_accuracy: 0.0352\n",
            "Epoch 8/200\n",
            "197/197 [==============================] - 1s 4ms/step - loss: 3.7631 - categorical_accuracy: 0.0457 - val_loss: 3.7628 - val_categorical_accuracy: 0.0521\n",
            "Epoch 9/200\n",
            "197/197 [==============================] - 1s 4ms/step - loss: 3.7345 - categorical_accuracy: 0.0531 - val_loss: 3.7043 - val_categorical_accuracy: 0.0567\n",
            "Epoch 10/200\n",
            "197/197 [==============================] - 1s 4ms/step - loss: 3.6727 - categorical_accuracy: 0.0594 - val_loss: 3.6153 - val_categorical_accuracy: 0.0658\n",
            "Epoch 11/200\n",
            "197/197 [==============================] - 1s 4ms/step - loss: 3.6087 - categorical_accuracy: 0.0613 - val_loss: 3.6001 - val_categorical_accuracy: 0.0674\n",
            "Epoch 12/200\n",
            "197/197 [==============================] - 1s 4ms/step - loss: 3.5226 - categorical_accuracy: 0.0721 - val_loss: 3.4945 - val_categorical_accuracy: 0.0597\n",
            "Epoch 13/200\n",
            "197/197 [==============================] - 1s 4ms/step - loss: 3.4608 - categorical_accuracy: 0.0787 - val_loss: 3.5410 - val_categorical_accuracy: 0.0704\n",
            "Epoch 14/200\n",
            "197/197 [==============================] - 1s 4ms/step - loss: 3.4346 - categorical_accuracy: 0.0879 - val_loss: 3.4020 - val_categorical_accuracy: 0.0858\n",
            "Epoch 15/200\n",
            "197/197 [==============================] - 1s 4ms/step - loss: 3.3826 - categorical_accuracy: 0.0974 - val_loss: 3.3703 - val_categorical_accuracy: 0.0949\n",
            "Epoch 16/200\n",
            "197/197 [==============================] - 1s 4ms/step - loss: 3.3554 - categorical_accuracy: 0.1021 - val_loss: 3.3580 - val_categorical_accuracy: 0.0995\n",
            "Epoch 17/200\n",
            "197/197 [==============================] - 1s 4ms/step - loss: 3.2923 - categorical_accuracy: 0.1099 - val_loss: 3.3531 - val_categorical_accuracy: 0.0965\n",
            "Epoch 18/200\n",
            "197/197 [==============================] - 1s 4ms/step - loss: 3.2983 - categorical_accuracy: 0.1117 - val_loss: 3.2775 - val_categorical_accuracy: 0.1103\n",
            "Epoch 19/200\n",
            "197/197 [==============================] - 1s 4ms/step - loss: 3.2352 - categorical_accuracy: 0.1410 - val_loss: 3.2916 - val_categorical_accuracy: 0.1302\n",
            "Epoch 20/200\n",
            "197/197 [==============================] - 1s 4ms/step - loss: 3.1978 - categorical_accuracy: 0.1395 - val_loss: 3.2129 - val_categorical_accuracy: 0.1118\n",
            "Epoch 21/200\n",
            "197/197 [==============================] - 1s 4ms/step - loss: 3.1586 - categorical_accuracy: 0.1549 - val_loss: 3.1849 - val_categorical_accuracy: 0.1470\n",
            "Epoch 22/200\n",
            "197/197 [==============================] - 1s 4ms/step - loss: 3.1024 - categorical_accuracy: 0.1671 - val_loss: 3.1368 - val_categorical_accuracy: 0.1547\n",
            "Epoch 23/200\n",
            "197/197 [==============================] - 1s 4ms/step - loss: 3.0873 - categorical_accuracy: 0.1634 - val_loss: 3.1346 - val_categorical_accuracy: 0.1317\n",
            "Epoch 24/200\n",
            "197/197 [==============================] - 1s 4ms/step - loss: 3.0656 - categorical_accuracy: 0.1741 - val_loss: 3.1071 - val_categorical_accuracy: 0.1424\n",
            "Epoch 25/200\n",
            "197/197 [==============================] - 1s 4ms/step - loss: 3.0072 - categorical_accuracy: 0.1808 - val_loss: 3.0141 - val_categorical_accuracy: 0.1685\n",
            "Epoch 26/200\n",
            "197/197 [==============================] - 1s 4ms/step - loss: 3.0031 - categorical_accuracy: 0.1814 - val_loss: 3.0039 - val_categorical_accuracy: 0.1608\n",
            "Epoch 27/200\n",
            "197/197 [==============================] - 1s 4ms/step - loss: 2.9508 - categorical_accuracy: 0.1872 - val_loss: 2.9796 - val_categorical_accuracy: 0.1685\n",
            "Epoch 28/200\n",
            "197/197 [==============================] - 1s 4ms/step - loss: 2.9324 - categorical_accuracy: 0.1967 - val_loss: 2.9533 - val_categorical_accuracy: 0.1884\n",
            "Epoch 29/200\n",
            "197/197 [==============================] - 1s 4ms/step - loss: 2.8934 - categorical_accuracy: 0.2089 - val_loss: 3.0007 - val_categorical_accuracy: 0.1746\n",
            "Epoch 30/200\n",
            "197/197 [==============================] - 1s 4ms/step - loss: 2.8502 - categorical_accuracy: 0.2188 - val_loss: 2.9331 - val_categorical_accuracy: 0.1669\n",
            "Epoch 31/200\n",
            "197/197 [==============================] - 1s 4ms/step - loss: 2.8460 - categorical_accuracy: 0.2162 - val_loss: 2.9043 - val_categorical_accuracy: 0.1853\n",
            "Epoch 32/200\n",
            "197/197 [==============================] - 1s 4ms/step - loss: 2.8108 - categorical_accuracy: 0.2236 - val_loss: 2.8402 - val_categorical_accuracy: 0.2037\n",
            "Epoch 33/200\n",
            "197/197 [==============================] - 1s 4ms/step - loss: 2.7657 - categorical_accuracy: 0.2299 - val_loss: 2.7905 - val_categorical_accuracy: 0.2006\n",
            "Epoch 34/200\n",
            "197/197 [==============================] - 1s 4ms/step - loss: 2.7354 - categorical_accuracy: 0.2407 - val_loss: 2.9285 - val_categorical_accuracy: 0.1930\n",
            "Epoch 35/200\n",
            "197/197 [==============================] - 1s 4ms/step - loss: 2.6889 - categorical_accuracy: 0.2455 - val_loss: 2.6930 - val_categorical_accuracy: 0.2358\n",
            "Epoch 36/200\n",
            "197/197 [==============================] - 1s 4ms/step - loss: 2.6472 - categorical_accuracy: 0.2580 - val_loss: 2.7261 - val_categorical_accuracy: 0.2328\n",
            "Epoch 37/200\n",
            "197/197 [==============================] - 1s 4ms/step - loss: 2.5922 - categorical_accuracy: 0.2689 - val_loss: 2.6502 - val_categorical_accuracy: 0.2573\n",
            "Epoch 38/200\n",
            "197/197 [==============================] - 1s 4ms/step - loss: 2.5767 - categorical_accuracy: 0.2751 - val_loss: 2.6463 - val_categorical_accuracy: 0.2266\n",
            "Epoch 39/200\n",
            "197/197 [==============================] - 1s 4ms/step - loss: 2.5272 - categorical_accuracy: 0.2739 - val_loss: 2.5823 - val_categorical_accuracy: 0.2527\n",
            "Epoch 40/200\n",
            "197/197 [==============================] - 1s 4ms/step - loss: 2.5312 - categorical_accuracy: 0.2776 - val_loss: 2.6070 - val_categorical_accuracy: 0.2450\n",
            "Epoch 41/200\n",
            "197/197 [==============================] - 1s 4ms/step - loss: 2.4635 - categorical_accuracy: 0.2957 - val_loss: 2.5451 - val_categorical_accuracy: 0.2711\n",
            "Epoch 42/200\n",
            "197/197 [==============================] - 1s 4ms/step - loss: 2.4398 - categorical_accuracy: 0.2945 - val_loss: 2.5685 - val_categorical_accuracy: 0.2757\n",
            "Epoch 43/200\n",
            "197/197 [==============================] - 1s 4ms/step - loss: 2.4032 - categorical_accuracy: 0.3112 - val_loss: 2.5732 - val_categorical_accuracy: 0.2680\n",
            "Epoch 44/200\n",
            "197/197 [==============================] - 1s 4ms/step - loss: 2.3909 - categorical_accuracy: 0.3195 - val_loss: 2.4471 - val_categorical_accuracy: 0.3047\n",
            "Epoch 45/200\n",
            "197/197 [==============================] - 1s 4ms/step - loss: 2.3344 - categorical_accuracy: 0.3229 - val_loss: 2.4025 - val_categorical_accuracy: 0.3002\n",
            "Epoch 46/200\n",
            "197/197 [==============================] - 1s 4ms/step - loss: 2.3172 - categorical_accuracy: 0.3325 - val_loss: 2.3205 - val_categorical_accuracy: 0.3369\n",
            "Epoch 47/200\n",
            "197/197 [==============================] - 1s 4ms/step - loss: 2.2550 - categorical_accuracy: 0.3465 - val_loss: 2.5162 - val_categorical_accuracy: 0.2772\n",
            "Epoch 48/200\n",
            "197/197 [==============================] - 1s 4ms/step - loss: 2.2687 - categorical_accuracy: 0.3452 - val_loss: 2.3391 - val_categorical_accuracy: 0.3216\n",
            "Epoch 49/200\n",
            "197/197 [==============================] - 1s 4ms/step - loss: 2.2237 - categorical_accuracy: 0.3445 - val_loss: 2.3255 - val_categorical_accuracy: 0.3170\n",
            "Epoch 50/200\n",
            "197/197 [==============================] - 1s 4ms/step - loss: 2.1807 - categorical_accuracy: 0.3644 - val_loss: 2.3159 - val_categorical_accuracy: 0.3201\n",
            "Epoch 51/200\n",
            "197/197 [==============================] - 1s 4ms/step - loss: 2.1921 - categorical_accuracy: 0.3529 - val_loss: 2.2739 - val_categorical_accuracy: 0.3308\n",
            "Epoch 52/200\n",
            "197/197 [==============================] - 1s 4ms/step - loss: 2.1132 - categorical_accuracy: 0.3824 - val_loss: 2.2693 - val_categorical_accuracy: 0.3507\n",
            "Epoch 53/200\n",
            "197/197 [==============================] - 1s 4ms/step - loss: 2.1100 - categorical_accuracy: 0.3802 - val_loss: 2.3893 - val_categorical_accuracy: 0.3155\n",
            "Epoch 54/200\n",
            "197/197 [==============================] - 1s 4ms/step - loss: 2.1047 - categorical_accuracy: 0.3948 - val_loss: 2.1667 - val_categorical_accuracy: 0.3920\n",
            "Epoch 55/200\n",
            "197/197 [==============================] - 1s 4ms/step - loss: 2.0495 - categorical_accuracy: 0.3946 - val_loss: 2.3926 - val_categorical_accuracy: 0.3155\n",
            "Epoch 56/200\n",
            "197/197 [==============================] - 1s 4ms/step - loss: 2.0275 - categorical_accuracy: 0.3943 - val_loss: 2.3936 - val_categorical_accuracy: 0.3032\n",
            "Epoch 57/200\n",
            "197/197 [==============================] - 1s 4ms/step - loss: 2.0004 - categorical_accuracy: 0.4097 - val_loss: 2.1916 - val_categorical_accuracy: 0.3721\n",
            "Epoch 58/200\n",
            "197/197 [==============================] - 1s 4ms/step - loss: 1.9462 - categorical_accuracy: 0.4327 - val_loss: 2.0766 - val_categorical_accuracy: 0.4104\n",
            "Epoch 59/200\n",
            "197/197 [==============================] - 1s 4ms/step - loss: 1.9466 - categorical_accuracy: 0.4272 - val_loss: 2.0620 - val_categorical_accuracy: 0.4012\n",
            "Epoch 60/200\n",
            "197/197 [==============================] - 1s 4ms/step - loss: 1.8846 - categorical_accuracy: 0.4413 - val_loss: 2.0168 - val_categorical_accuracy: 0.4273\n",
            "Epoch 61/200\n",
            "197/197 [==============================] - 1s 4ms/step - loss: 1.9267 - categorical_accuracy: 0.4283 - val_loss: 2.0599 - val_categorical_accuracy: 0.4089\n",
            "Epoch 62/200\n",
            "197/197 [==============================] - 1s 4ms/step - loss: 1.8526 - categorical_accuracy: 0.4405 - val_loss: 2.0440 - val_categorical_accuracy: 0.4119\n",
            "Epoch 63/200\n",
            "197/197 [==============================] - 1s 4ms/step - loss: 1.8153 - categorical_accuracy: 0.4593 - val_loss: 1.8992 - val_categorical_accuracy: 0.4441\n",
            "Epoch 64/200\n",
            "197/197 [==============================] - 1s 4ms/step - loss: 1.7816 - categorical_accuracy: 0.4650 - val_loss: 1.8795 - val_categorical_accuracy: 0.4548\n",
            "Epoch 65/200\n",
            "197/197 [==============================] - 1s 4ms/step - loss: 1.8043 - categorical_accuracy: 0.4536 - val_loss: 1.8935 - val_categorical_accuracy: 0.4564\n",
            "Epoch 66/200\n",
            "197/197 [==============================] - 1s 4ms/step - loss: 1.7345 - categorical_accuracy: 0.4778 - val_loss: 1.9568 - val_categorical_accuracy: 0.4349\n",
            "Epoch 67/200\n",
            "197/197 [==============================] - 1s 4ms/step - loss: 1.7234 - categorical_accuracy: 0.4765 - val_loss: 1.8931 - val_categorical_accuracy: 0.4518\n",
            "Epoch 68/200\n",
            "197/197 [==============================] - 1s 4ms/step - loss: 1.6972 - categorical_accuracy: 0.4976 - val_loss: 1.8786 - val_categorical_accuracy: 0.4594\n",
            "Epoch 69/200\n",
            "197/197 [==============================] - 1s 4ms/step - loss: 1.6700 - categorical_accuracy: 0.4893 - val_loss: 1.8067 - val_categorical_accuracy: 0.4747\n",
            "Epoch 70/200\n",
            "197/197 [==============================] - 1s 4ms/step - loss: 1.6539 - categorical_accuracy: 0.4996 - val_loss: 1.8429 - val_categorical_accuracy: 0.4962\n",
            "Epoch 71/200\n",
            "197/197 [==============================] - 1s 4ms/step - loss: 1.6459 - categorical_accuracy: 0.5039 - val_loss: 1.8059 - val_categorical_accuracy: 0.4763\n",
            "Epoch 72/200\n",
            "197/197 [==============================] - 1s 4ms/step - loss: 1.6041 - categorical_accuracy: 0.5105 - val_loss: 1.9982 - val_categorical_accuracy: 0.4012\n",
            "Epoch 73/200\n",
            "197/197 [==============================] - 1s 4ms/step - loss: 1.5705 - categorical_accuracy: 0.5230 - val_loss: 1.8616 - val_categorical_accuracy: 0.4533\n",
            "Epoch 74/200\n",
            "197/197 [==============================] - 1s 4ms/step - loss: 1.5656 - categorical_accuracy: 0.5314 - val_loss: 1.7262 - val_categorical_accuracy: 0.5054\n",
            "Epoch 75/200\n",
            "197/197 [==============================] - 1s 4ms/step - loss: 1.5619 - categorical_accuracy: 0.5264 - val_loss: 1.6638 - val_categorical_accuracy: 0.5268\n",
            "Epoch 76/200\n",
            "197/197 [==============================] - 1s 4ms/step - loss: 1.4763 - categorical_accuracy: 0.5472 - val_loss: 1.6343 - val_categorical_accuracy: 0.5207\n",
            "Epoch 77/200\n",
            "197/197 [==============================] - 1s 4ms/step - loss: 1.5095 - categorical_accuracy: 0.5325 - val_loss: 1.7311 - val_categorical_accuracy: 0.5008\n",
            "Epoch 78/200\n",
            "197/197 [==============================] - 1s 4ms/step - loss: 1.5027 - categorical_accuracy: 0.5373 - val_loss: 1.7244 - val_categorical_accuracy: 0.5100\n",
            "Epoch 79/200\n",
            "197/197 [==============================] - 1s 4ms/step - loss: 1.4174 - categorical_accuracy: 0.5704 - val_loss: 1.6286 - val_categorical_accuracy: 0.5498\n",
            "Epoch 80/200\n",
            "197/197 [==============================] - 1s 4ms/step - loss: 1.4347 - categorical_accuracy: 0.5639 - val_loss: 1.5919 - val_categorical_accuracy: 0.5513\n",
            "Epoch 81/200\n",
            "197/197 [==============================] - 1s 4ms/step - loss: 1.4095 - categorical_accuracy: 0.5705 - val_loss: 1.6059 - val_categorical_accuracy: 0.5574\n",
            "Epoch 82/200\n",
            "197/197 [==============================] - 1s 4ms/step - loss: 1.3804 - categorical_accuracy: 0.5770 - val_loss: 1.5481 - val_categorical_accuracy: 0.5590\n",
            "Epoch 83/200\n",
            "197/197 [==============================] - 1s 4ms/step - loss: 1.3276 - categorical_accuracy: 0.5901 - val_loss: 1.5219 - val_categorical_accuracy: 0.5605\n",
            "Epoch 84/200\n",
            "197/197 [==============================] - 1s 4ms/step - loss: 1.3520 - categorical_accuracy: 0.5813 - val_loss: 1.4986 - val_categorical_accuracy: 0.5605\n",
            "Epoch 85/200\n",
            "197/197 [==============================] - 1s 4ms/step - loss: 1.3068 - categorical_accuracy: 0.5913 - val_loss: 1.5119 - val_categorical_accuracy: 0.5697\n",
            "Epoch 86/200\n",
            "197/197 [==============================] - 1s 4ms/step - loss: 1.2958 - categorical_accuracy: 0.5905 - val_loss: 1.6032 - val_categorical_accuracy: 0.5237\n",
            "Epoch 87/200\n",
            "197/197 [==============================] - 1s 4ms/step - loss: 1.2729 - categorical_accuracy: 0.6127 - val_loss: 1.4410 - val_categorical_accuracy: 0.5697\n",
            "Epoch 88/200\n",
            "197/197 [==============================] - 1s 4ms/step - loss: 1.2624 - categorical_accuracy: 0.6113 - val_loss: 1.4829 - val_categorical_accuracy: 0.5972\n",
            "Epoch 89/200\n",
            "197/197 [==============================] - 1s 4ms/step - loss: 1.2514 - categorical_accuracy: 0.6125 - val_loss: 1.5293 - val_categorical_accuracy: 0.5636\n",
            "Epoch 90/200\n",
            "197/197 [==============================] - 1s 4ms/step - loss: 1.1846 - categorical_accuracy: 0.6261 - val_loss: 1.5444 - val_categorical_accuracy: 0.5605\n",
            "Epoch 91/200\n",
            "197/197 [==============================] - 1s 4ms/step - loss: 1.2299 - categorical_accuracy: 0.6087 - val_loss: 1.4729 - val_categorical_accuracy: 0.5865\n",
            "Epoch 92/200\n",
            "197/197 [==============================] - 1s 4ms/step - loss: 1.1898 - categorical_accuracy: 0.6282 - val_loss: 1.3805 - val_categorical_accuracy: 0.6095\n",
            "Epoch 93/200\n",
            "197/197 [==============================] - 1s 4ms/step - loss: 1.1478 - categorical_accuracy: 0.6250 - val_loss: 1.3677 - val_categorical_accuracy: 0.6141\n",
            "Epoch 94/200\n",
            "197/197 [==============================] - 1s 4ms/step - loss: 1.1150 - categorical_accuracy: 0.6531 - val_loss: 1.3829 - val_categorical_accuracy: 0.6080\n",
            "Epoch 95/200\n",
            "197/197 [==============================] - 1s 4ms/step - loss: 1.1534 - categorical_accuracy: 0.6425 - val_loss: 1.4930 - val_categorical_accuracy: 0.5773\n",
            "Epoch 96/200\n",
            "197/197 [==============================] - 1s 4ms/step - loss: 1.1010 - categorical_accuracy: 0.6483 - val_loss: 1.5073 - val_categorical_accuracy: 0.5513\n",
            "Epoch 97/200\n",
            "197/197 [==============================] - 1s 4ms/step - loss: 1.0709 - categorical_accuracy: 0.6657 - val_loss: 1.3876 - val_categorical_accuracy: 0.6110\n",
            "Epoch 98/200\n",
            "197/197 [==============================] - 1s 4ms/step - loss: 1.0823 - categorical_accuracy: 0.6663 - val_loss: 1.3342 - val_categorical_accuracy: 0.6126\n",
            "Epoch 99/200\n",
            "197/197 [==============================] - 1s 4ms/step - loss: 1.0506 - categorical_accuracy: 0.6721 - val_loss: 1.3350 - val_categorical_accuracy: 0.6309\n",
            "Epoch 100/200\n",
            "197/197 [==============================] - 1s 4ms/step - loss: 1.0914 - categorical_accuracy: 0.6546 - val_loss: 1.3428 - val_categorical_accuracy: 0.6187\n",
            "Epoch 101/200\n",
            "197/197 [==============================] - 1s 4ms/step - loss: 0.9910 - categorical_accuracy: 0.6836 - val_loss: 1.8855 - val_categorical_accuracy: 0.4793\n",
            "Epoch 102/200\n",
            "197/197 [==============================] - 1s 4ms/step - loss: 1.0671 - categorical_accuracy: 0.6629 - val_loss: 1.3372 - val_categorical_accuracy: 0.6141\n",
            "Epoch 103/200\n",
            "197/197 [==============================] - 1s 4ms/step - loss: 0.9868 - categorical_accuracy: 0.6879 - val_loss: 1.3926 - val_categorical_accuracy: 0.6080\n",
            "Epoch 104/200\n",
            "197/197 [==============================] - 1s 4ms/step - loss: 0.9916 - categorical_accuracy: 0.6878 - val_loss: 1.3113 - val_categorical_accuracy: 0.6432\n",
            "Epoch 105/200\n",
            "197/197 [==============================] - 1s 4ms/step - loss: 1.0150 - categorical_accuracy: 0.6709 - val_loss: 1.3726 - val_categorical_accuracy: 0.6202\n",
            "Epoch 106/200\n",
            "197/197 [==============================] - 1s 4ms/step - loss: 0.9377 - categorical_accuracy: 0.7107 - val_loss: 1.3105 - val_categorical_accuracy: 0.6325\n",
            "Epoch 107/200\n",
            "197/197 [==============================] - 1s 4ms/step - loss: 0.9378 - categorical_accuracy: 0.7075 - val_loss: 1.3142 - val_categorical_accuracy: 0.6187\n",
            "Epoch 108/200\n",
            "197/197 [==============================] - 1s 4ms/step - loss: 0.9266 - categorical_accuracy: 0.7070 - val_loss: 1.2673 - val_categorical_accuracy: 0.6478\n",
            "Epoch 109/200\n",
            "197/197 [==============================] - 1s 4ms/step - loss: 0.9257 - categorical_accuracy: 0.7065 - val_loss: 1.2815 - val_categorical_accuracy: 0.6355\n",
            "Epoch 110/200\n",
            "197/197 [==============================] - 1s 4ms/step - loss: 0.9434 - categorical_accuracy: 0.7003 - val_loss: 1.3137 - val_categorical_accuracy: 0.6217\n",
            "Epoch 111/200\n",
            "197/197 [==============================] - 1s 4ms/step - loss: 0.9270 - categorical_accuracy: 0.7051 - val_loss: 1.2995 - val_categorical_accuracy: 0.6340\n",
            "Epoch 112/200\n",
            "197/197 [==============================] - 1s 4ms/step - loss: 0.9060 - categorical_accuracy: 0.6993 - val_loss: 1.2866 - val_categorical_accuracy: 0.6309\n",
            "Epoch 113/200\n",
            "197/197 [==============================] - 1s 4ms/step - loss: 0.8723 - categorical_accuracy: 0.7142 - val_loss: 1.2429 - val_categorical_accuracy: 0.6217\n",
            "Epoch 114/200\n",
            "197/197 [==============================] - 1s 4ms/step - loss: 0.8341 - categorical_accuracy: 0.7260 - val_loss: 1.5494 - val_categorical_accuracy: 0.5697\n",
            "Epoch 115/200\n",
            "197/197 [==============================] - 1s 4ms/step - loss: 0.8568 - categorical_accuracy: 0.7242 - val_loss: 1.3634 - val_categorical_accuracy: 0.6018\n",
            "Epoch 116/200\n",
            "197/197 [==============================] - 1s 4ms/step - loss: 0.8119 - categorical_accuracy: 0.7433 - val_loss: 1.2545 - val_categorical_accuracy: 0.6248\n",
            "Epoch 117/200\n",
            "197/197 [==============================] - 1s 4ms/step - loss: 0.8560 - categorical_accuracy: 0.7219 - val_loss: 1.2720 - val_categorical_accuracy: 0.6417\n",
            "Epoch 118/200\n",
            "197/197 [==============================] - 1s 4ms/step - loss: 0.8172 - categorical_accuracy: 0.7386 - val_loss: 1.2138 - val_categorical_accuracy: 0.6554\n",
            "Epoch 119/200\n",
            "197/197 [==============================] - 1s 4ms/step - loss: 0.8055 - categorical_accuracy: 0.7372 - val_loss: 1.1922 - val_categorical_accuracy: 0.6631\n",
            "Epoch 120/200\n",
            "197/197 [==============================] - 1s 4ms/step - loss: 0.8034 - categorical_accuracy: 0.7273 - val_loss: 1.2678 - val_categorical_accuracy: 0.6478\n",
            "Epoch 121/200\n",
            "197/197 [==============================] - 1s 4ms/step - loss: 0.8420 - categorical_accuracy: 0.7302 - val_loss: 1.3153 - val_categorical_accuracy: 0.6172\n",
            "Epoch 122/200\n",
            "197/197 [==============================] - 1s 4ms/step - loss: 0.7660 - categorical_accuracy: 0.7604 - val_loss: 1.1975 - val_categorical_accuracy: 0.6692\n",
            "Epoch 123/200\n",
            "197/197 [==============================] - 1s 4ms/step - loss: 0.7499 - categorical_accuracy: 0.7504 - val_loss: 1.3954 - val_categorical_accuracy: 0.6156\n",
            "Epoch 124/200\n",
            "197/197 [==============================] - 1s 4ms/step - loss: 0.7962 - categorical_accuracy: 0.7382 - val_loss: 1.2382 - val_categorical_accuracy: 0.6600\n",
            "Epoch 125/200\n",
            "197/197 [==============================] - 1s 4ms/step - loss: 0.7826 - categorical_accuracy: 0.7482 - val_loss: 1.1997 - val_categorical_accuracy: 0.6662\n",
            "Epoch 126/200\n",
            "197/197 [==============================] - 1s 4ms/step - loss: 0.7787 - categorical_accuracy: 0.7444 - val_loss: 1.2108 - val_categorical_accuracy: 0.6524\n",
            "Epoch 127/200\n",
            "197/197 [==============================] - 1s 4ms/step - loss: 0.7511 - categorical_accuracy: 0.7570 - val_loss: 1.2285 - val_categorical_accuracy: 0.6432\n",
            "Epoch 128/200\n",
            "197/197 [==============================] - 1s 4ms/step - loss: 0.7337 - categorical_accuracy: 0.7652 - val_loss: 1.2662 - val_categorical_accuracy: 0.6524\n",
            "Epoch 129/200\n",
            "197/197 [==============================] - 1s 4ms/step - loss: 0.7045 - categorical_accuracy: 0.7784 - val_loss: 1.2016 - val_categorical_accuracy: 0.6692\n",
            "Epoch 130/200\n",
            "197/197 [==============================] - 1s 4ms/step - loss: 0.7057 - categorical_accuracy: 0.7673 - val_loss: 1.6108 - val_categorical_accuracy: 0.5926\n",
            "Epoch 131/200\n",
            "197/197 [==============================] - 1s 4ms/step - loss: 0.7025 - categorical_accuracy: 0.7749 - val_loss: 1.1963 - val_categorical_accuracy: 0.6769\n",
            "Epoch 132/200\n",
            "197/197 [==============================] - 1s 4ms/step - loss: 0.7121 - categorical_accuracy: 0.7621 - val_loss: 1.2393 - val_categorical_accuracy: 0.6631\n",
            "Epoch 133/200\n",
            "197/197 [==============================] - 1s 4ms/step - loss: 0.7121 - categorical_accuracy: 0.7712 - val_loss: 1.4452 - val_categorical_accuracy: 0.6018\n",
            "Epoch 134/200\n",
            "197/197 [==============================] - 1s 4ms/step - loss: 0.7198 - categorical_accuracy: 0.7703 - val_loss: 1.3037 - val_categorical_accuracy: 0.6539\n",
            "Epoch 135/200\n",
            "197/197 [==============================] - 1s 4ms/step - loss: 0.6683 - categorical_accuracy: 0.7847 - val_loss: 1.2049 - val_categorical_accuracy: 0.6631\n",
            "Epoch 136/200\n",
            "197/197 [==============================] - 1s 4ms/step - loss: 0.6791 - categorical_accuracy: 0.7813 - val_loss: 1.1350 - val_categorical_accuracy: 0.6769\n",
            "Epoch 137/200\n",
            "197/197 [==============================] - 1s 4ms/step - loss: 0.6345 - categorical_accuracy: 0.7901 - val_loss: 1.1614 - val_categorical_accuracy: 0.6815\n",
            "Epoch 138/200\n",
            "197/197 [==============================] - 1s 4ms/step - loss: 0.6563 - categorical_accuracy: 0.7912 - val_loss: 1.2762 - val_categorical_accuracy: 0.6432\n",
            "Epoch 139/200\n",
            "197/197 [==============================] - 1s 4ms/step - loss: 0.6523 - categorical_accuracy: 0.7850 - val_loss: 1.2235 - val_categorical_accuracy: 0.6539\n",
            "Epoch 140/200\n",
            "197/197 [==============================] - 1s 4ms/step - loss: 0.6657 - categorical_accuracy: 0.7860 - val_loss: 1.0703 - val_categorical_accuracy: 0.6845\n",
            "Epoch 141/200\n",
            "197/197 [==============================] - 1s 4ms/step - loss: 0.6102 - categorical_accuracy: 0.8025 - val_loss: 1.1137 - val_categorical_accuracy: 0.6861\n",
            "Epoch 142/200\n",
            "197/197 [==============================] - 1s 4ms/step - loss: 0.6413 - categorical_accuracy: 0.7875 - val_loss: 1.1935 - val_categorical_accuracy: 0.6708\n",
            "Epoch 143/200\n",
            "197/197 [==============================] - 1s 4ms/step - loss: 0.6378 - categorical_accuracy: 0.7957 - val_loss: 1.1429 - val_categorical_accuracy: 0.6708\n",
            "Epoch 144/200\n",
            "197/197 [==============================] - 1s 4ms/step - loss: 0.6201 - categorical_accuracy: 0.7982 - val_loss: 1.1001 - val_categorical_accuracy: 0.7014\n",
            "Epoch 145/200\n",
            "197/197 [==============================] - 1s 4ms/step - loss: 0.6127 - categorical_accuracy: 0.8024 - val_loss: 1.1297 - val_categorical_accuracy: 0.6891\n",
            "Epoch 146/200\n",
            "197/197 [==============================] - 1s 4ms/step - loss: 0.6150 - categorical_accuracy: 0.7945 - val_loss: 1.1391 - val_categorical_accuracy: 0.6769\n",
            "Epoch 147/200\n",
            "197/197 [==============================] - 1s 4ms/step - loss: 0.6105 - categorical_accuracy: 0.8041 - val_loss: 1.1786 - val_categorical_accuracy: 0.6922\n",
            "Epoch 148/200\n",
            "197/197 [==============================] - 1s 4ms/step - loss: 0.5745 - categorical_accuracy: 0.8082 - val_loss: 1.1803 - val_categorical_accuracy: 0.6983\n",
            "Epoch 149/200\n",
            "197/197 [==============================] - 1s 4ms/step - loss: 0.5638 - categorical_accuracy: 0.8127 - val_loss: 1.1955 - val_categorical_accuracy: 0.6738\n",
            "Epoch 150/200\n",
            "197/197 [==============================] - 1s 4ms/step - loss: 0.5865 - categorical_accuracy: 0.8073 - val_loss: 1.1498 - val_categorical_accuracy: 0.6876\n",
            "Epoch 151/200\n",
            "197/197 [==============================] - 1s 4ms/step - loss: 0.5791 - categorical_accuracy: 0.8073 - val_loss: 1.2750 - val_categorical_accuracy: 0.6432\n",
            "Epoch 152/200\n",
            "197/197 [==============================] - 1s 4ms/step - loss: 0.5601 - categorical_accuracy: 0.8151 - val_loss: 1.2275 - val_categorical_accuracy: 0.6738\n",
            "Epoch 153/200\n",
            "197/197 [==============================] - 1s 4ms/step - loss: 0.5895 - categorical_accuracy: 0.8066 - val_loss: 1.1466 - val_categorical_accuracy: 0.6876\n",
            "Epoch 154/200\n",
            "197/197 [==============================] - 1s 4ms/step - loss: 0.5593 - categorical_accuracy: 0.8188 - val_loss: 1.0880 - val_categorical_accuracy: 0.6907\n",
            "Epoch 155/200\n",
            "197/197 [==============================] - 1s 4ms/step - loss: 0.5367 - categorical_accuracy: 0.8186 - val_loss: 1.0741 - val_categorical_accuracy: 0.7029\n",
            "Epoch 156/200\n",
            "197/197 [==============================] - 1s 4ms/step - loss: 0.5273 - categorical_accuracy: 0.8200 - val_loss: 1.0910 - val_categorical_accuracy: 0.7136\n",
            "Epoch 157/200\n",
            "197/197 [==============================] - 1s 4ms/step - loss: 0.5342 - categorical_accuracy: 0.8171 - val_loss: 1.0938 - val_categorical_accuracy: 0.6937\n",
            "Epoch 158/200\n",
            "197/197 [==============================] - 1s 4ms/step - loss: 0.5248 - categorical_accuracy: 0.8314 - val_loss: 1.1993 - val_categorical_accuracy: 0.6784\n",
            "Epoch 159/200\n",
            "197/197 [==============================] - 1s 4ms/step - loss: 0.5748 - categorical_accuracy: 0.8164 - val_loss: 1.0769 - val_categorical_accuracy: 0.7044\n",
            "Epoch 160/200\n",
            "197/197 [==============================] - 1s 4ms/step - loss: 0.5264 - categorical_accuracy: 0.8261 - val_loss: 1.1751 - val_categorical_accuracy: 0.6815\n",
            "Epoch 161/200\n",
            "197/197 [==============================] - 1s 4ms/step - loss: 0.5279 - categorical_accuracy: 0.8286 - val_loss: 1.1768 - val_categorical_accuracy: 0.6830\n",
            "Epoch 162/200\n",
            "197/197 [==============================] - 1s 4ms/step - loss: 0.5341 - categorical_accuracy: 0.8265 - val_loss: 1.1587 - val_categorical_accuracy: 0.6907\n",
            "Epoch 163/200\n",
            "197/197 [==============================] - 1s 4ms/step - loss: 0.5226 - categorical_accuracy: 0.8221 - val_loss: 1.0695 - val_categorical_accuracy: 0.7167\n",
            "Epoch 164/200\n",
            "197/197 [==============================] - 1s 4ms/step - loss: 0.5096 - categorical_accuracy: 0.8437 - val_loss: 1.0992 - val_categorical_accuracy: 0.7029\n",
            "Epoch 165/200\n",
            "197/197 [==============================] - 1s 4ms/step - loss: 0.5377 - categorical_accuracy: 0.8234 - val_loss: 1.0750 - val_categorical_accuracy: 0.7029\n",
            "Epoch 166/200\n",
            "197/197 [==============================] - 1s 4ms/step - loss: 0.4546 - categorical_accuracy: 0.8538 - val_loss: 1.0885 - val_categorical_accuracy: 0.6891\n",
            "Epoch 167/200\n",
            "197/197 [==============================] - 1s 4ms/step - loss: 0.4980 - categorical_accuracy: 0.8281 - val_loss: 1.0965 - val_categorical_accuracy: 0.7060\n",
            "Epoch 168/200\n",
            "197/197 [==============================] - 1s 4ms/step - loss: 0.5016 - categorical_accuracy: 0.8416 - val_loss: 1.1741 - val_categorical_accuracy: 0.6861\n",
            "Epoch 169/200\n",
            "197/197 [==============================] - 1s 4ms/step - loss: 0.4982 - categorical_accuracy: 0.8298 - val_loss: 1.1363 - val_categorical_accuracy: 0.7167\n",
            "Epoch 170/200\n",
            "197/197 [==============================] - 1s 4ms/step - loss: 0.4737 - categorical_accuracy: 0.8416 - val_loss: 1.2044 - val_categorical_accuracy: 0.6907\n",
            "Epoch 171/200\n",
            "197/197 [==============================] - 1s 4ms/step - loss: 0.4709 - categorical_accuracy: 0.8447 - val_loss: 1.1685 - val_categorical_accuracy: 0.6784\n",
            "Epoch 172/200\n",
            "197/197 [==============================] - 1s 4ms/step - loss: 0.4351 - categorical_accuracy: 0.8601 - val_loss: 1.1224 - val_categorical_accuracy: 0.7090\n",
            "Epoch 173/200\n",
            "197/197 [==============================] - 1s 4ms/step - loss: 0.4536 - categorical_accuracy: 0.8440 - val_loss: 1.1094 - val_categorical_accuracy: 0.6937\n",
            "Epoch 174/200\n",
            "197/197 [==============================] - 1s 4ms/step - loss: 0.4691 - categorical_accuracy: 0.8399 - val_loss: 1.1626 - val_categorical_accuracy: 0.6799\n",
            "Epoch 175/200\n",
            "197/197 [==============================] - 1s 4ms/step - loss: 0.4546 - categorical_accuracy: 0.8566 - val_loss: 1.0817 - val_categorical_accuracy: 0.7136\n",
            "Epoch 176/200\n",
            "197/197 [==============================] - 1s 4ms/step - loss: 0.4489 - categorical_accuracy: 0.8562 - val_loss: 1.1010 - val_categorical_accuracy: 0.7060\n",
            "Epoch 177/200\n",
            "197/197 [==============================] - 1s 4ms/step - loss: 0.4499 - categorical_accuracy: 0.8549 - val_loss: 1.1835 - val_categorical_accuracy: 0.6937\n",
            "Epoch 178/200\n",
            "197/197 [==============================] - 1s 4ms/step - loss: 0.4262 - categorical_accuracy: 0.8601 - val_loss: 1.1890 - val_categorical_accuracy: 0.6907\n",
            "Epoch 179/200\n",
            "197/197 [==============================] - 1s 4ms/step - loss: 0.4377 - categorical_accuracy: 0.8541 - val_loss: 1.1066 - val_categorical_accuracy: 0.7152\n",
            "Epoch 180/200\n",
            "197/197 [==============================] - 1s 4ms/step - loss: 0.4266 - categorical_accuracy: 0.8597 - val_loss: 1.1558 - val_categorical_accuracy: 0.7014\n",
            "Epoch 181/200\n",
            "197/197 [==============================] - 1s 4ms/step - loss: 0.4502 - categorical_accuracy: 0.8499 - val_loss: 1.2330 - val_categorical_accuracy: 0.6845\n",
            "Epoch 182/200\n",
            "197/197 [==============================] - 1s 4ms/step - loss: 0.4536 - categorical_accuracy: 0.8507 - val_loss: 1.1003 - val_categorical_accuracy: 0.7152\n",
            "Epoch 183/200\n",
            "197/197 [==============================] - 1s 4ms/step - loss: 0.4283 - categorical_accuracy: 0.8530 - val_loss: 1.0803 - val_categorical_accuracy: 0.7075\n",
            "Epoch 184/200\n",
            "197/197 [==============================] - 1s 4ms/step - loss: 0.4220 - categorical_accuracy: 0.8610 - val_loss: 1.1488 - val_categorical_accuracy: 0.7014\n",
            "Epoch 185/200\n",
            "197/197 [==============================] - 1s 4ms/step - loss: 0.3962 - categorical_accuracy: 0.8661 - val_loss: 1.1703 - val_categorical_accuracy: 0.6738\n",
            "Epoch 186/200\n",
            "197/197 [==============================] - 1s 4ms/step - loss: 0.4393 - categorical_accuracy: 0.8583 - val_loss: 1.1024 - val_categorical_accuracy: 0.7029\n",
            "Epoch 187/200\n",
            "197/197 [==============================] - 1s 4ms/step - loss: 0.4000 - categorical_accuracy: 0.8655 - val_loss: 1.1179 - val_categorical_accuracy: 0.6953\n",
            "Epoch 188/200\n",
            "197/197 [==============================] - 1s 4ms/step - loss: 0.4418 - categorical_accuracy: 0.8576 - val_loss: 1.1026 - val_categorical_accuracy: 0.7060\n",
            "Epoch 189/200\n",
            "197/197 [==============================] - 1s 4ms/step - loss: 0.3926 - categorical_accuracy: 0.8721 - val_loss: 1.1095 - val_categorical_accuracy: 0.6983\n",
            "Epoch 190/200\n",
            "197/197 [==============================] - 1s 4ms/step - loss: 0.3870 - categorical_accuracy: 0.8691 - val_loss: 1.1028 - val_categorical_accuracy: 0.6968\n",
            "Epoch 191/200\n",
            "197/197 [==============================] - 1s 4ms/step - loss: 0.3835 - categorical_accuracy: 0.8730 - val_loss: 1.1112 - val_categorical_accuracy: 0.6953\n",
            "Epoch 192/200\n",
            "197/197 [==============================] - 1s 4ms/step - loss: 0.3583 - categorical_accuracy: 0.8813 - val_loss: 1.0820 - val_categorical_accuracy: 0.7090\n",
            "Epoch 193/200\n",
            "197/197 [==============================] - 1s 4ms/step - loss: 0.4193 - categorical_accuracy: 0.8607 - val_loss: 1.1629 - val_categorical_accuracy: 0.7014\n",
            "Epoch 194/200\n",
            "197/197 [==============================] - 1s 4ms/step - loss: 0.4019 - categorical_accuracy: 0.8653 - val_loss: 1.1514 - val_categorical_accuracy: 0.6983\n",
            "Epoch 195/200\n",
            "197/197 [==============================] - 1s 4ms/step - loss: 0.3868 - categorical_accuracy: 0.8727 - val_loss: 1.1443 - val_categorical_accuracy: 0.7121\n",
            "Epoch 196/200\n",
            "197/197 [==============================] - 1s 4ms/step - loss: 0.3927 - categorical_accuracy: 0.8690 - val_loss: 1.1736 - val_categorical_accuracy: 0.6876\n",
            "Epoch 197/200\n",
            "197/197 [==============================] - 1s 4ms/step - loss: 0.3716 - categorical_accuracy: 0.8702 - val_loss: 1.1064 - val_categorical_accuracy: 0.7198\n",
            "Epoch 198/200\n",
            "197/197 [==============================] - 1s 4ms/step - loss: 0.3943 - categorical_accuracy: 0.8696 - val_loss: 1.1307 - val_categorical_accuracy: 0.7106\n",
            "Epoch 199/200\n",
            "197/197 [==============================] - 1s 4ms/step - loss: 0.4216 - categorical_accuracy: 0.8651 - val_loss: 1.0901 - val_categorical_accuracy: 0.7167\n",
            "Epoch 200/200\n",
            "197/197 [==============================] - 1s 4ms/step - loss: 0.3411 - categorical_accuracy: 0.8924 - val_loss: 1.1359 - val_categorical_accuracy: 0.7121\n"
          ],
          "name": "stdout"
        }
      ]
    },
    {
      "cell_type": "markdown",
      "metadata": {
        "id": "QmgOQTUHla7s"
      },
      "source": [
        "### Evaluate model"
      ]
    },
    {
      "cell_type": "markdown",
      "metadata": {
        "id": "gPoo0Ru5BPFI"
      },
      "source": [
        "\n",
        "\n",
        "####Plotting function to see test and validation accuracy\n"
      ]
    },
    {
      "cell_type": "code",
      "metadata": {
        "id": "W__YZ3HnBNdb"
      },
      "source": [
        "### To plot test,train,and validation accuracy metrics.\n",
        "\n",
        "def plot_metric(history, metric):\n",
        "    history_dict = history.history\n",
        "    values = history_dict[metric]\n",
        "    if 'val_' + metric in history_dict.keys():  \n",
        "        val_values = history_dict['val_' + metric]\n",
        "\n",
        "    epochs = range(1, len(values) + 1)\n",
        "\n",
        "    if 'val_' + metric in history_dict.keys():  \n",
        "        plt.plot(epochs, val_values, label='Validation')\n",
        "    plt.semilogy(epochs, values, label='Training')\n",
        "\n",
        "    if 'val_' + metric in history_dict.keys():  \n",
        "        plt.title('Training and validation %s' % metric)\n",
        "    else:\n",
        "        plt.title('Training %s' % metric)\n",
        "    plt.xlabel('Epochs')\n",
        "    plt.ylabel(metric.capitalize())\n",
        "    plt.legend()\n",
        "    plt.grid()\n",
        "\n",
        "    plt.show() "
      ],
      "execution_count": 17,
      "outputs": []
    },
    {
      "cell_type": "code",
      "metadata": {
        "colab": {
          "base_uri": "https://localhost:8080/",
          "height": 945
        },
        "id": "h5Je_tJf_-vG",
        "outputId": "7e929872-1fd5-4a7f-972a-4ae8769675f7"
      },
      "source": [
        "### Graphics to see the possible overfitting during training\n",
        "\n",
        "plot_metric(h,'loss')\n",
        "plot_metric(h,'categorical_accuracy')"
      ],
      "execution_count": 18,
      "outputs": [
        {
          "output_type": "display_data",
          "data": {
            "image/png": "[encoded data removed]",
            "text/plain": [
              "<Figure size 748.8x514.8 with 1 Axes>"
            ]
          },
          "metadata": {
            "tags": [],
            "needs_background": "light"
          }
        },
        {
          "output_type": "display_data",
          "data": {
            "image/png": "[encoded data removed]",
            "text/plain": [
              "<Figure size 748.8x514.8 with 1 Axes>"
            ]
          },
          "metadata": {
            "tags": [],
            "needs_background": "light"
          }
        }
      ]
    },
    {
      "cell_type": "code",
      "metadata": {
        "colab": {
          "base_uri": "https://localhost:8080/"
        },
        "id": "EpRFkGy-mfR1",
        "outputId": "93da5a76-886b-4c3e-85bd-e9e3cb2f6e9d"
      },
      "source": [
        "### Evaluate the accuracy of model. \n",
        "\n",
        "model.evaluate(test_images,OneHotTest)"
      ],
      "execution_count": 19,
      "outputs": [
        {
          "output_type": "stream",
          "text": [
            "23/23 [==============================] - 0s 5ms/step - loss: 1.0617 - categorical_accuracy: 0.7184\n"
          ],
          "name": "stdout"
        },
        {
          "output_type": "execute_result",
          "data": {
            "text/plain": [
              "[1.0617307424545288, 0.718406617641449]"
            ]
          },
          "metadata": {
            "tags": []
          },
          "execution_count": 19
        }
      ]
    },
    {
      "cell_type": "code",
      "metadata": {
        "colab": {
          "base_uri": "https://localhost:8080/",
          "height": 518
        },
        "id": "jfeWjuQuXNrF",
        "outputId": "e3fbf561-a383-43f5-8333-8815878edae8"
      },
      "source": [
        "### Get predictions \n",
        "predictions = model.predict_classes(test_images)\n",
        "\n",
        "### Create dictionary to pass the predictions to names\n",
        "l1 = list(range(len(mushrooms_directory)))\n",
        "l2 = list(np.unique(labels))\n",
        "d = dict(zip(l1,l2))\n",
        "\n",
        "### Get predictions in name format\n",
        "predictions_labels=[]\n",
        "for i in predictions:\n",
        "  predictions_labels.append(d[i])\n",
        "\n",
        "### Confusion matrix\n",
        "cm = confusion_matrix(test_labels,predictions_labels,l2)\n",
        "sns.heatmap(cm,annot=True,cmap=\"YlGnBu\")"
      ],
      "execution_count": 21,
      "outputs": [
        {
          "output_type": "stream",
          "text": [
            "/usr/local/lib/python3.7/dist-packages/tensorflow/python/keras/engine/sequential.py:450: UserWarning: `model.predict_classes()` is deprecated and will be removed after 2021-01-01. Please use instead:* `np.argmax(model.predict(x), axis=-1)`,   if your model does multi-class classification   (e.g. if it uses a `softmax` last-layer activation).* `(model.predict(x) > 0.5).astype(\"int32\")`,   if your model does binary classification   (e.g. if it uses a `sigmoid` last-layer activation).\n",
            "  warnings.warn('`model.predict_classes()` is deprecated and '\n"
          ],
          "name": "stderr"
        },
        {
          "output_type": "execute_result",
          "data": {
            "text/plain": [
              "<matplotlib.axes._subplots.AxesSubplot at 0x7f331e58d550>"
            ]
          },
          "metadata": {
            "tags": []
          },
          "execution_count": 21
        },
        {
          "output_type": "display_data",
          "data": {
            "image/png": "[encoded data removed]",
            "text/plain": [
              "<Figure size 748.8x514.8 with 2 Axes>"
            ]
          },
          "metadata": {
            "tags": [],
            "needs_background": "light"
          }
        }
      ]
    },
    {
      "cell_type": "markdown",
      "metadata": {
        "id": "VerxmCnyEqW1"
      },
      "source": [
        "## Save objects to keep and load in the Streamlit App"
      ]
    },
    {
      "cell_type": "code",
      "metadata": {
        "id": "_NjePVrjqMfx"
      },
      "source": [
        "### Save the model \n",
        "model.save(\"model_mushrooms_SGD.h5\")\n",
        "\n",
        "### Save the mushroom labels list\n",
        "pd.Series(l2).to_csv('mushrooms_labels.csv',sep='|')"
      ],
      "execution_count": 22,
      "outputs": []
    },
    {
      "cell_type": "markdown",
      "metadata": {
        "id": "XTGE36V5lhyC"
      },
      "source": [
        "## Get the 3 mushrooms more similar to the one we choose"
      ]
    },
    {
      "cell_type": "code",
      "metadata": {
        "colab": {
          "base_uri": "https://localhost:8080/",
          "height": 198
        },
        "id": "UWfb_eClAKYl",
        "outputId": "0ac213dc-3434-498d-a255-66a99400e413"
      },
      "source": [
        "### Doing random predictions, this time for mushroom in the position 189 in test_images\n",
        "\n",
        "y_pred = model.predict_proba(test_images)\n",
        "df = pd.DataFrame(y_pred[189], columns = ['probabilities'])\n",
        "df['labels']=l2\n",
        "df_sort = df.sort_values('probabilities',ascending = False)[0:3]\n",
        "df_sort=df_sort.reset_index(drop=True)\n",
        "df_sort"
      ],
      "execution_count": 23,
      "outputs": [
        {
          "output_type": "stream",
          "text": [
            "/usr/local/lib/python3.7/dist-packages/tensorflow/python/keras/engine/sequential.py:425: UserWarning: `model.predict_proba()` is deprecated and will be removed after 2021-01-01. Please use `model.predict()` instead.\n",
            "  warnings.warn('`model.predict_proba()` is deprecated and '\n"
          ],
          "name": "stderr"
        },
        {
          "output_type": "execute_result",
          "data": {
            "text/html": [
              "<div>\n",
              "<style scoped>\n",
              "    .dataframe tbody tr th:only-of-type {\n",
              "        vertical-align: middle;\n",
              "    }\n",
              "\n",
              "    .dataframe tbody tr th {\n",
              "        vertical-align: top;\n",
              "    }\n",
              "\n",
              "    .dataframe thead th {\n",
              "        text-align: right;\n",
              "    }\n",
              "</style>\n",
              "<table border=\"1\" class=\"dataframe\">\n",
              "  <thead>\n",
              "    <tr style=\"text-align: right;\">\n",
              "      <th></th>\n",
              "      <th>probabilities</th>\n",
              "      <th>labels</th>\n",
              "    </tr>\n",
              "  </thead>\n",
              "  <tbody>\n",
              "    <tr>\n",
              "      <th>0</th>\n",
              "      <td>0.991433</td>\n",
              "      <td>Boletus erythropus</td>\n",
              "    </tr>\n",
              "    <tr>\n",
              "      <th>1</th>\n",
              "      <td>0.003422</td>\n",
              "      <td>Boletus edulis</td>\n",
              "    </tr>\n",
              "    <tr>\n",
              "      <th>2</th>\n",
              "      <td>0.001918</td>\n",
              "      <td>Amanita pantherina</td>\n",
              "    </tr>\n",
              "  </tbody>\n",
              "</table>\n",
              "</div>"
            ],
            "text/plain": [
              "   probabilities              labels\n",
              "0       0.991433  Boletus erythropus\n",
              "1       0.003422      Boletus edulis\n",
              "2       0.001918  Amanita pantherina"
            ]
          },
          "metadata": {
            "tags": []
          },
          "execution_count": 23
        }
      ]
    },
    {
      "cell_type": "markdown",
      "metadata": {
        "id": "aAY31WWibLqp"
      },
      "source": [
        "# Streamlit"
      ]
    },
    {
      "cell_type": "markdown",
      "metadata": {
        "id": "lrhLEPToXHvE"
      },
      "source": [
        "## Installing Ngrok for Streamlit"
      ]
    },
    {
      "cell_type": "code",
      "metadata": {
        "colab": {
          "resources": {
            "http://localhost:8080/nbextensions/google.colab/files.js": {
              "data": "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",
              "ok": true,
              "headers": [
                [
                  "content-type",
                  "application/javascript"
                ]
              ],
              "status": 200,
              "status_text": "OK"
            }
          },
          "base_uri": "https://localhost:8080/",
          "height": 407
        },
        "id": "6aUPZ-eCXYb3",
        "outputId": "533c8d86-067b-467d-a21b-6335b89e52c2"
      },
      "source": [
        "### Import the zipfile ngrok-stable-inux-amd64.zip, is neccesary for installation\n",
        "from google.colab import files\n",
        "uploaded = files.upload()\n",
        "\n",
        "### Unzip the zipfile\n",
        "!unzip /content/ngrok-stable-linux-amd64.zip\n",
        "\n",
        "### Authentication\n",
        "!ngrok authtoken 1s4dWx40WEPgxZOREhcu4JZc5JL_79bCSDk2c3hVJ38GTc2zz\n",
        "\n",
        "### Public url with port 80, to have access to the app\n",
        "public_url = ngrok.connect(port = '80')"
      ],
      "execution_count": 24,
      "outputs": [
        {
          "output_type": "display_data",
          "data": {
            "text/html": [
              "\n",
              "     <input type=\"file\" id=\"files-9e963d2f-a82d-4890-8c4a-48df34ef7a59\" name=\"files[]\" multiple disabled\n",
              "        style=\"border:none\" />\n",
              "     <output id=\"result-9e963d2f-a82d-4890-8c4a-48df34ef7a59\">\n",
              "      Upload widget is only available when the cell has been executed in the\n",
              "      current browser session. Please rerun this cell to enable.\n",
              "      </output>\n",
              "      <script src=\"/nbextensions/google.colab/files.js\"></script> "
            ],
            "text/plain": [
              "<IPython.core.display.HTML object>"
            ]
          },
          "metadata": {
            "tags": []
          }
        },
        {
          "output_type": "stream",
          "text": [
            "Saving ngrok-stable-linux-amd64.zip to ngrok-stable-linux-amd64.zip\n",
            "Archive:  /content/ngrok-stable-linux-amd64.zip\n",
            "  inflating: ngrok                   \n",
            "Authtoken saved to configuration file: /root/.ngrok2/ngrok.yml\n"
          ],
          "name": "stdout"
        },
        {
          "output_type": "stream",
          "text": [
            "2021-05-09 00:32:07.719 INFO    pyngrok.ngrok: Opening tunnel named: http-80-46e1d8b7-5e0c-4800-9260-34661610eab7\n",
            "2021-05-09 00:32:07.787 INFO    pyngrok.process.ngrok: t=2021-05-09T00:32:07+0000 lvl=info msg=\"no configuration paths supplied\"\n",
            "2021-05-09 00:32:07.793 INFO    pyngrok.process.ngrok: t=2021-05-09T00:32:07+0000 lvl=info msg=\"using configuration at default config path\" path=/root/.ngrok2/ngrok.yml\n",
            "2021-05-09 00:32:07.795 INFO    pyngrok.process.ngrok: t=2021-05-09T00:32:07+0000 lvl=info msg=\"open config file\" path=/root/.ngrok2/ngrok.yml err=nil\n",
            "2021-05-09 00:32:07.798 INFO    pyngrok.process.ngrok: t=2021-05-09T00:32:07+0000 lvl=info msg=\"starting web service\" obj=web addr=127.0.0.1:4040\n",
            "2021-05-09 00:32:07.862 INFO    pyngrok.process.ngrok: t=2021-05-09T00:32:07+0000 lvl=info msg=\"tunnel session started\" obj=tunnels.session\n",
            "2021-05-09 00:32:07.866 INFO    pyngrok.process.ngrok: t=2021-05-09T00:32:07+0000 lvl=info msg=\"client session established\" obj=csess id=faef5c538f91\n",
            "2021-05-09 00:32:07.875 INFO    pyngrok.process.ngrok: t=2021-05-09T00:32:07+0000 lvl=info msg=start pg=/api/tunnels id=9a200dce92cd8f3e\n",
            "2021-05-09 00:32:07.880 INFO    pyngrok.process.ngrok: t=2021-05-09T00:32:07+0000 lvl=info msg=end pg=/api/tunnels id=9a200dce92cd8f3e status=200 dur=293.5µs\n",
            "2021-05-09 00:32:07.884 INFO    pyngrok.process.ngrok: t=2021-05-09T00:32:07+0000 lvl=info msg=start pg=/api/tunnels id=ad3a00bcb76d872b\n",
            "2021-05-09 00:32:07.889 INFO    pyngrok.process.ngrok: t=2021-05-09T00:32:07+0000 lvl=info msg=end pg=/api/tunnels id=ad3a00bcb76d872b status=200 dur=76.998µs\n",
            "2021-05-09 00:32:07.894 INFO    pyngrok.process.ngrok: t=2021-05-09T00:32:07+0000 lvl=info msg=start pg=/api/tunnels id=591694e94e81f164\n",
            "2021-05-09 00:32:07.921 INFO    pyngrok.process.ngrok: t=2021-05-09T00:32:07+0000 lvl=info msg=\"started tunnel\" obj=tunnels name=\"http-80-46e1d8b7-5e0c-4800-9260-34661610eab7 (http)\" addr=http://localhost:80 url=http://6aa6462713dd.ngrok.io\n",
            "2021-05-09 00:32:07.923 INFO    pyngrok.process.ngrok: t=2021-05-09T00:32:07+0000 lvl=info msg=\"started tunnel\" obj=tunnels name=http-80-46e1d8b7-5e0c-4800-9260-34661610eab7 addr=http://localhost:80 url=https://6aa6462713dd.ngrok.io\n",
            "2021-05-09 00:32:07.928 INFO    pyngrok.process.ngrok: t=2021-05-09T00:32:07+0000 lvl=info msg=end pg=/api/tunnels id=591694e94e81f164 status=201 dur=45.773453ms\n"
          ],
          "name": "stderr"
        }
      ]
    },
    {
      "cell_type": "markdown",
      "metadata": {
        "id": "snsxjgH3M6BE"
      },
      "source": [
        "## Streamlit App\n"
      ]
    },
    {
      "cell_type": "code",
      "metadata": {
        "colab": {
          "base_uri": "https://localhost:8080/"
        },
        "id": "sZxVmmxyctd0",
        "outputId": "40bcbbb8-4c6b-4c1a-efd7-10bc84970e1e"
      },
      "source": [
        "%%writefile app.py\n",
        "\n",
        "### IMPORT LIBRARIES\n",
        "\n",
        "### Streamlit\n",
        "import streamlit as st\n",
        "import altair as alt\n",
        "import pandas as pd\n",
        "import matplotlib.pyplot as plt\n",
        "\n",
        "### Images\n",
        "from matplotlib import image\n",
        "from matplotlib import pyplot\n",
        "from skimage import io\n",
        "import cv2\n",
        "import os\n",
        "import skimage\n",
        "from skimage import data, io, filters, transform\n",
        "import numpy as np\n",
        "\n",
        "### Load model\n",
        "from keras.models import load_model\n",
        "\n",
        "### Deep Learning\n",
        "from tensorflow.keras import optimizers\n",
        "from tensorflow.keras import losses\n",
        "from tensorflow.keras import metrics\n",
        "from tensorflow.keras.utils import to_categorical\n",
        "from tensorflow.keras import models\n",
        "from tensorflow.keras import layers\n",
        "from tensorflow.keras import Input\n",
        "import tensorflow as tf\n",
        "\n",
        "### Random\n",
        "import random \n",
        "\n",
        "### Web scraping packages\n",
        "from bs4 import BeautifulSoup\n",
        "import requests\n",
        "import itertools\n",
        "from urllib.request import Request, urlopen\n",
        "import urllib.request\n",
        "\n",
        "### Title, subheader and first paragraphs\n",
        "st.title('Mushrooms Classification')\n",
        "st.subheader('App to know what mushroom is your picture')\n",
        "st.markdown(\"Hello everybody and welcome to this interactive website on **mushrooms classification**.\")\n",
        "st.markdown(\"This work consists on classifying different types of mushrooms from images, using the famous convolutional neural networks (CNN) as a method.\")\n",
        "st.markdown(\"Put a mushroom and get the probability that it is a type of mushroom among the different species studied, and you will also get the 3 most likely mushrooms it is.\")\n",
        "st.markdown(\"Please, put a picture of your choice\")\n",
        "\n",
        "### Load the model saved before.\n",
        "model = load_model('model_mushrooms_SGD.h5')\n",
        "\n",
        "### Read the mushrooms_labels.csv\n",
        "l2 = pd.read_csv('mushrooms_labels.csv',sep='|')\n",
        "l2 = l2['0'].to_list()\n",
        "\n",
        "### Programming the App\n",
        "try:\n",
        "\n",
        "  ### Charge the picture of your choice\n",
        "  picture = st.file_uploader('picture',type='jpg')\n",
        "\n",
        "  ### Display the picture chosen in the app\n",
        "  st.image(picture)\n",
        "\n",
        "  ### Standarize pixels\n",
        "  image_rgb=io.imread(picture)/255.0\n",
        "\n",
        "  ### Resize photo, this time (28,28)\n",
        "  data_picture = cv2.resize(image_rgb, (28, 28))\n",
        "\n",
        "  ### Predict which mushroom is in the picture and giving the 3 more similar to it.\n",
        "  pictures = np.array([data_picture])\n",
        "  pred_photos = model.predict_proba(pictures)\n",
        "  df = pd.DataFrame(pred_photos[0], columns = ['probabilities'])\n",
        "  df['labels']=l2\n",
        "  df_sort = df.sort_values('probabilities',ascending = False)[0:3]\n",
        "  X=df_sort['probabilities']\n",
        "  Y=df_sort['labels'] \n",
        "\n",
        "  ### Barplot with the information about the 3 mushrooms more similar to the one in the photo\n",
        "  fig = plt.figure(figsize=(12, 8))\n",
        "  plt.bar(range(len(X)), X)\n",
        "  plt.xticks(np.arange(len(X)), Y)\n",
        "  plt.ylabel('probability')\n",
        "  ax = X.plot(kind='bar')\n",
        "  ax.set_xticklabels(Y)\n",
        "  rects = ax.patches\n",
        "  for rect, label in zip(rects, X):\n",
        "      height = rect.get_height()\n",
        "      ax.text(rect.get_x() + rect.get_width() / 10, height+0.01, label,\n",
        "              ha='left', va='bottom')\n",
        "  st.pyplot(fig)\n",
        "\n",
        "  ### Text with the percentage of accuracy and the mushroom more similar to the one in the photo\n",
        "  probability = str(round(df_sort['probabilities'][:-2]*100,2).reset_index()['probabilities'][0])\n",
        "  label = df_sort['labels'][:-2].reset_index()['labels'][0]\n",
        "  text = f\"Your choice has **{probability} %** to be **{label}** mushroom\"\n",
        "  st.markdown(text)\n",
        "\n",
        "  ### Show pictures similars to the one that the model thinks is in the photo\n",
        "  st.markdown(\"Here, you have other different pictures of this mushroom\")\n",
        "  \n",
        "  url = 'https://www.google.com/search?q='+label+'&tbm=isch&hl=es&sa=X&ved=2ahUKEwjw_M7z2NfuAhUMpRoKHbPQAokQgowBegQIARAX&biw=1905&bih=852'\n",
        "  response = requests.get(url)\n",
        "  soup = BeautifulSoup(response.content,'html.parser')\n",
        "  images = soup.find_all(\"img\")         \n",
        "  images = images[1::]\n",
        "  random_photos = random.sample(images, 8)\n",
        "\n",
        "  urls_list = []\n",
        "  for image in random_photos:\n",
        "    image_src = image['src']\n",
        "    urls_list.append(image_src)\n",
        "\n",
        "  st.image(urls_list)\n",
        "\n",
        "except:\n",
        "  pass"
      ],
      "execution_count": 25,
      "outputs": [
        {
          "output_type": "stream",
          "text": [
            "Writing app.py\n"
          ],
          "name": "stdout"
        }
      ]
    },
    {
      "cell_type": "code",
      "metadata": {
        "colab": {
          "base_uri": "https://localhost:8080/"
        },
        "id": "EiZqAAUyilQK",
        "outputId": "6120488a-4eba-48eb-8552-93a0620e01bf"
      },
      "source": [
        "### run the app in the server\n",
        "!streamlit run --server.port 80 app.py&>/dev/null&\n",
        "\n",
        "### Access to the app\n",
        "public_url"
      ],
      "execution_count": 26,
      "outputs": [
        {
          "output_type": "execute_result",
          "data": {
            "text/plain": [
              "<NgrokTunnel: \"http://6aa6462713dd.ngrok.io\" -> \"http://localhost:80\">"
            ]
          },
          "metadata": {
            "tags": []
          },
          "execution_count": 26
        }
      ]
    }
  ]
}