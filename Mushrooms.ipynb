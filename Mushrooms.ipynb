{
 "cells": [
  {
   "cell_type": "markdown",
   "metadata": {},
   "source": [
    "### Installations that we need "
   ]
  },
  {
   "cell_type": "code",
   "execution_count": 1,
   "metadata": {},
   "outputs": [
    {
     "name": "stdout",
     "output_type": "stream",
     "text": [
      "Requirement already satisfied: bing-image-downloader in /home/dsc/anaconda3/lib/python3.8/site-packages (1.0.4)\r\n"
     ]
    }
   ],
   "source": [
    "#We can search images from Bing, better option because it works.\n",
    "! pip install bing-image-downloader"
   ]
  },
  {
   "cell_type": "code",
   "execution_count": 2,
   "metadata": {},
   "outputs": [],
   "source": [
    "#Packages\n",
    "#--Web scraping packages\n",
    "from bs4 import BeautifulSoup\n",
    "import requests\n",
    "#Pandas/numpy for data manipulation\n",
    "import pandas as pd\n",
    "import numpy as np\n",
    "from urllib.request import urlopen"
   ]
  },
  {
   "cell_type": "markdown",
   "metadata": {},
   "source": [
    "###  web scraping in web page to see the mushrooms type"
   ]
  },
  {
   "cell_type": "code",
   "execution_count": 3,
   "metadata": {},
   "outputs": [],
   "source": [
    "clean_titles_all=pd.DataFrame()\n",
    "titles=['Final']\n",
    "url = 'https://www.fungipedia.org/hongos.html?start=0'\n",
    "\n",
    "while 'Final' in list(titles):\n",
    "    html = urlopen(url)\n",
    "    soup = BeautifulSoup(html, 'lxml')\n",
    "    \n",
    "    ## getting the web titles\n",
    "    titles=[]\n",
    "    all_links = soup.find_all(\"a\")\n",
    "    for link in all_links:\n",
    "        titles.append(link.get(\"title\"))\n",
    "        \n",
    "    titles=pd.Series(titles).apply(str)\n",
    "    \n",
    "    titles=titles[titles!='None']\n",
    "    \n",
    "    titles_df=titles.reset_index()\n",
    "    \n",
    "    for phrase in titles_df[0]:\n",
    "        if phrase =='Catálogo de Setas y Hongos':\n",
    "            numero=int((titles_df[titles_df[0]==phrase]['index']))\n",
    "        else:\n",
    "            continue\n",
    "            \n",
    "    titles=titles[titles.index > numero]\n",
    "    \n",
    "    clean_titles=titles[titles.str.len()>6][:-1]\n",
    "    \n",
    "    clean_titles=clean_titles.to_frame()\n",
    "    \n",
    "    siguiente = '='+str(int(url.split('=')[1])+20)\n",
    "    \n",
    "    url = url.split('=')[0] + siguiente\n",
    "    \n",
    "    clean_titles_all = clean_titles_all.append(clean_titles)\n",
    "    \n",
    "clean_titles_all=clean_titles_all.reset_index()\n",
    "\n",
    "del clean_titles_all['index']\n",
    "\n",
    "lista_setas = clean_titles_all[0]\n"
   ]
  },
  {
   "cell_type": "code",
   "execution_count": 4,
   "metadata": {},
   "outputs": [
    {
     "data": {
      "text/plain": [
       "0            Abortiporus biennis\n",
       "1         Adelphella babingtonii\n",
       "2              Agaricus arvensis\n",
       "3            Agaricus campestris\n",
       "4             Agaricus litoralis\n",
       "                 ...            \n",
       "537    Xerocomellus chrysenteron\n",
       "538           Xylaria carpophila\n",
       "539            Xylaria hypoxylon\n",
       "540             Xylaria longipes\n",
       "541           Xylaria polymorpha\n",
       "Name: 0, Length: 542, dtype: object"
      ]
     },
     "execution_count": 4,
     "metadata": {},
     "output_type": "execute_result"
    }
   ],
   "source": [
    "lista_setas"
   ]
  },
  {
   "cell_type": "code",
   "execution_count": 5,
   "metadata": {},
   "outputs": [
    {
     "ename": "SyntaxError",
     "evalue": "invalid syntax (<ipython-input-5-3d78e6c5cd03>, line 1)",
     "output_type": "error",
     "traceback": [
      "\u001b[0;36m  File \u001b[0;32m\"<ipython-input-5-3d78e6c5cd03>\"\u001b[0;36m, line \u001b[0;32m1\u001b[0m\n\u001b[0;31m    hasta aqui\u001b[0m\n\u001b[0m          ^\u001b[0m\n\u001b[0;31mSyntaxError\u001b[0m\u001b[0;31m:\u001b[0m invalid syntax\n"
     ]
    }
   ],
   "source": [
    "hasta aqui"
   ]
  },
  {
   "cell_type": "markdown",
   "metadata": {},
   "source": [
    "### We need web scraping to take photos of google (bing)"
   ]
  },
  {
   "cell_type": "code",
   "execution_count": null,
   "metadata": {},
   "outputs": [],
   "source": [
    "from bing_image_downloader import downloader\n",
    "downloader.download('caras españolas', limit=100,  output_dir='dataset', \n",
    "adult_filter_off=True, force_replace=False, timeout=60)"
   ]
  },
  {
   "cell_type": "code",
   "execution_count": null,
   "metadata": {},
   "outputs": [],
   "source": []
  },
  {
   "cell_type": "code",
   "execution_count": null,
   "metadata": {},
   "outputs": [],
   "source": []
  },
  {
   "cell_type": "code",
   "execution_count": null,
   "metadata": {},
   "outputs": [],
   "source": []
  },
  {
   "cell_type": "code",
   "execution_count": null,
   "metadata": {},
   "outputs": [],
   "source": []
  },
  {
   "cell_type": "code",
   "execution_count": null,
   "metadata": {},
   "outputs": [],
   "source": []
  },
  {
   "cell_type": "code",
   "execution_count": null,
   "metadata": {},
   "outputs": [],
   "source": []
  },
  {
   "cell_type": "code",
   "execution_count": null,
   "metadata": {},
   "outputs": [],
   "source": []
  },
  {
   "cell_type": "code",
   "execution_count": null,
   "metadata": {},
   "outputs": [],
   "source": [
    "\n"
   ]
  },
  {
   "cell_type": "markdown",
   "metadata": {},
   "source": [
    "## Otra forma"
   ]
  },
  {
   "cell_type": "markdown",
   "metadata": {},
   "source": [
    "### Load the data"
   ]
  },
  {
   "cell_type": "code",
   "execution_count": null,
   "metadata": {},
   "outputs": [],
   "source": [
    "import numpy as np\n",
    "import pandas as pd"
   ]
  },
  {
   "cell_type": "code",
   "execution_count": null,
   "metadata": {},
   "outputs": [],
   "source": [
    "input_file = '/home/dsc/FP_Mushrooms/Mushrooms_Classification/Mushrooms_file1.zip'\n",
    "data_path= '/home/dsc/FP_Mushrooms/Mushrooms_Classification'"
   ]
  },
  {
   "cell_type": "code",
   "execution_count": null,
   "metadata": {},
   "outputs": [],
   "source": [
    "from zipfile import ZipFile\n",
    "\n",
    "Mushrooms = ZipFile(input_file)\n",
    "Mushrooms.filelist"
   ]
  },
  {
   "cell_type": "code",
   "execution_count": null,
   "metadata": {},
   "outputs": [],
   "source": [
    "len(Mushrooms.filelist)"
   ]
  },
  {
   "cell_type": "code",
   "execution_count": null,
   "metadata": {},
   "outputs": [],
   "source": [
    "csvfile_Mushrooms = Mushrooms.open(Mushrooms.filelist[0])"
   ]
  },
  {
   "cell_type": "code",
   "execution_count": null,
   "metadata": {},
   "outputs": [],
   "source": [
    "csvfile_Mushrooms"
   ]
  },
  {
   "cell_type": "code",
   "execution_count": null,
   "metadata": {},
   "outputs": [],
   "source": [
    "import PIL\n",
    "print('Pillow Version:', PIL.__version__)\n",
    "from PIL import Image"
   ]
  },
  {
   "cell_type": "code",
   "execution_count": null,
   "metadata": {},
   "outputs": [],
   "source": [
    "image = Image.open(csvfile_Mushrooms)"
   ]
  },
  {
   "cell_type": "code",
   "execution_count": null,
   "metadata": {},
   "outputs": [],
   "source": [
    "print(image.format)\n",
    "print(image.mode)\n",
    "print(image.size)\n",
    "image"
   ]
  },
  {
   "cell_type": "code",
   "execution_count": null,
   "metadata": {},
   "outputs": [],
   "source": [
    "# load and display an image with Matplotlib\n",
    "from matplotlib import image\n",
    "from matplotlib import pyplot\n",
    "# load image as pixel array\n",
    "data_picture = image.imread(csvfile_Mushrooms)\n",
    "# summarize shape of the pixel array\n",
    "print(data_picture.dtype)\n",
    "print(data_picture.shape)\n",
    "# display the array of pixels as an image\n",
    "pyplot.imshow(data_picture)\n",
    "pyplot.show()"
   ]
  },
  {
   "cell_type": "code",
   "execution_count": null,
   "metadata": {},
   "outputs": [],
   "source": [
    "data_picture.shape\n"
   ]
  },
  {
   "cell_type": "code",
   "execution_count": null,
   "metadata": {},
   "outputs": [],
   "source": [
    "data_picture[0]\n"
   ]
  },
  {
   "cell_type": "code",
   "execution_count": null,
   "metadata": {},
   "outputs": [],
   "source": [
    "\n"
   ]
  },
  {
   "cell_type": "markdown",
   "metadata": {},
   "source": [
    "## Loading and Preprocessing Data"
   ]
  },
  {
   "cell_type": "code",
   "execution_count": null,
   "metadata": {},
   "outputs": [],
   "source": [
    "os.mkdir(data_path+'/kaggle/')\n",
    "os.mkdir(data_path+'/kaggle/temp')\n",
    "os.mkdir(data_path+'/kaggle/temp/train')\n",
    "os.mkdir(data_path+'/kaggle/temp/valid')\n",
    "os.mkdir(data_path+'/kaggle/temp/test')\n",
    "os.mkdir(data_path+'/kaggle/working')\n",
    "os.chdir(data_path+'/kaggle/working')"
   ]
  },
  {
   "cell_type": "code",
   "execution_count": null,
   "metadata": {},
   "outputs": [],
   "source": [
    "os.listdir(data_path)"
   ]
  },
  {
   "cell_type": "code",
   "execution_count": null,
   "metadata": {},
   "outputs": [],
   "source": [
    "# Split images (75%/15%/10%) and save to temporary folders:\n",
    "for subfolder in os.listdir(data_path):\n",
    "\n",
    "    # Making a list of all files in current subfolder:\n",
    "    original_path = f'{data_path}/{subfolder}'\n",
    "    original_data = os.listdir(original_path)\n",
    "\n",
    "    # Number of samples in each group:\n",
    "    n_samples = len(original_data)\n",
    "    train_samples = int(n_samples * 0.75)\n",
    "    valid_samples = int(n_samples * 0.9)\n",
    "        \n",
    "    train_path = f'/kaggle/temp/train/{subfolder}'\n",
    "    valid_path = f'/kaggle/temp/valid/{subfolder}'\n",
    "    test_path = f'/kaggle/temp/test/{subfolder}'\n",
    "    \n",
    "    # New class subfolder for training:\n",
    "    os.chdir(data_path+'/kaggle/temp/train')\n",
    "    os.mkdir(subfolder)\n",
    "    \n",
    "    # Training images:\n",
    "    for image in range(train_samples):\n",
    "        original_file = f'{original_path}/{original_data[image]}'\n",
    "        new_file = f'{train_path}/{original_data[image]}'\n",
    "        shutil.copyfile(original_file, new_file)\n",
    "    \n",
    "    # New class subfolder for validation:\n",
    "    os.chdir(data_path+'/kaggle/temp/valid')\n",
    "    os.mkdir(subfolder)\n",
    "    \n",
    "    # Validation images:\n",
    "    for image in range(train_samples, valid_samples):\n",
    "        original_file = f'{original_path}/{original_data[image]}'\n",
    "        new_file = f'{valid_path}/{original_data[image]}'\n",
    "        shutil.copyfile(original_file, new_file)\n",
    "    \n",
    "    # New class subfolder for testing:\n",
    "    os.chdir(data_path+'/kaggle/temp/test')\n",
    "    os.mkdir(subfolder)\n",
    "    \n",
    "    # Test images:\n",
    "    for image in range(valid_samples, n_samples):\n",
    "        original_file = f'{original_path}/{original_data[image]}'\n",
    "        new_file = f'{test_path}/{original_data[image]}'\n",
    "        shutil.copyfile(original_file, new_file)"
   ]
  },
  {
   "cell_type": "code",
   "execution_count": null,
   "metadata": {},
   "outputs": [],
   "source": [
    "nrows = 3\n",
    "ncols = 3\n",
    "\n",
    "pos = 0\n",
    "\n",
    "for subfolder in os.listdir(input_file):\n",
    "    \n",
    "    image_file = os.listdir(os.path.join(input_file, subfolder))[0]\n",
    "    \n",
    "    fig = plt.gcf()\n",
    "    fig.set_size_inches(ncols * 4, nrows * 4)\n",
    "\n",
    "    pos += 1\n",
    "    sp = plt.subplot(nrows, ncols, pos)\n",
    "\n",
    "    cur_image = mpimg.imread(os.path.join(data_path, subfolder, image_file))\n",
    "    plt.imshow(cur_image)\n",
    "    plt.title(subfolder)\n",
    "    plt.axis('Off')"
   ]
  },
  {
   "cell_type": "code",
   "execution_count": null,
   "metadata": {},
   "outputs": [],
   "source": []
  },
  {
   "cell_type": "code",
   "execution_count": null,
   "metadata": {},
   "outputs": [],
   "source": []
  },
  {
   "cell_type": "code",
   "execution_count": null,
   "metadata": {},
   "outputs": [],
   "source": []
  },
  {
   "cell_type": "code",
   "execution_count": null,
   "metadata": {},
   "outputs": [],
   "source": []
  },
  {
   "cell_type": "code",
   "execution_count": null,
   "metadata": {},
   "outputs": [],
   "source": [
    "import requests\n",
    "from bs4 import BeautifulSoup\n",
    "\n",
    "urlmushroom = "
   ]
  },
  {
   "cell_type": "code",
   "execution_count": null,
   "metadata": {},
   "outputs": [],
   "source": []
  },
  {
   "cell_type": "code",
   "execution_count": null,
   "metadata": {},
   "outputs": [],
   "source": []
  },
  {
   "cell_type": "markdown",
   "metadata": {},
   "source": [
    "## Una version"
   ]
  },
  {
   "cell_type": "code",
   "execution_count": null,
   "metadata": {},
   "outputs": [],
   "source": [
    "import pandas as pd\n",
    "import numpy as np\n",
    "import matplotlib as plt\n",
    "import numpy as np # linear algebra\n",
    "import pandas as pd # data processing, CSV file I/O (e.g. pd.read_csv)\n",
    "from subprocess import check_output\n",
    "# Input data files are available in the \"../input/\" directory.\n",
    "# For example, running this (by clicking run or pressing Shift+Enter) will list all files under the input directory\n",
    "\n",
    "import os\n",
    "for dirname, _, filenames in os.walk('/kaggle/input'):\n",
    "    for filename in filenames:\n",
    "        print(os.path.join(dirname, filename))"
   ]
  },
  {
   "cell_type": "code",
   "execution_count": null,
   "metadata": {},
   "outputs": [],
   "source": [
    "import selenium# This is the path I use\n",
    "# DRIVER_PATH = '.../Desktop/Scraping/chromedriver 2'# Put the path for your ChromeDriver here\n",
    "DRIVER_PATH = <YOUR PATH>wd = webdriver.Chrome(executable_path=DRIVER_PATH)"
   ]
  },
  {
   "cell_type": "code",
   "execution_count": null,
   "metadata": {},
   "outputs": [],
   "source": [
    "def fetch_image_urls(query:str, max_links_to_fetch:int, wd:'selenium', sleep_between_interactions:int=1):\n",
    "    def scroll_to_end(wd):\n",
    "        wd.execute_script(\"window.scrollTo(0, document.body.scrollHeight);\")\n",
    "        time.sleep(sleep_between_interactions)    \n",
    "    \n",
    "    # build the google query\n",
    "    search_url = \"https://www.google.com/search?safe=off&site=&tbm=isch&source=hp&q={q}&oq={q}&gs_l=img\"\n",
    "\n",
    "    # load the page\n",
    "    wd.get(search_url.format(q=query))\n",
    "\n",
    "    image_urls = set()\n",
    "    image_count = 0\n",
    "    results_start = 0\n",
    "    while image_count < max_links_to_fetch:\n",
    "        scroll_to_end(wd)\n",
    "\n",
    "        # get all image thumbnail results\n",
    "        thumbnail_results = wd.find_elements_by_css_selector(\"img.Q4LuWd\")\n",
    "        number_results = len(thumbnail_results)\n",
    "        \n",
    "        print(f\"Found: {number_results} search results. Extracting links from {results_start}:{number_results}\")\n",
    "        \n",
    "        for img in thumbnail_results[results_start:number_results]:\n",
    "            # try to click every thumbnail such that we can get the real image behind it\n",
    "            try:\n",
    "                img.click()\n",
    "                time.sleep(sleep_between_interactions)\n",
    "            except Exception:\n",
    "                continue\n",
    "\n",
    "            # extract image urls    \n",
    "            actual_images = wd.find_elements_by_css_selector('img.n3VNCb')\n",
    "            for actual_image in actual_images:\n",
    "                if actual_image.get_attribute('src') and 'http' in actual_image.get_attribute('src'):\n",
    "                    image_urls.add(actual_image.get_attribute('src'))\n",
    "\n",
    "            image_count = len(image_urls)\n",
    "\n",
    "            if len(image_urls) >= max_links_to_fetch:\n",
    "                print(f\"Found: {len(image_urls)} image links, done!\")\n",
    "                break\n",
    "        else:\n",
    "            print(\"Found:\", len(image_urls), \"image links, looking for more ...\")\n",
    "            time.sleep(30)\n",
    "            return\n",
    "            load_more_button = wd.find_element_by_css_selector(\".mye4qd\")\n",
    "            if load_more_button:\n",
    "                wd.execute_script(\"document.querySelector('.mye4qd').click();\")\n",
    "\n",
    "        # move the result startpoint further down\n",
    "        results_start = len(thumbnail_results)\n",
    "\n",
    "    return image_urls"
   ]
  },
  {
   "cell_type": "code",
   "execution_count": null,
   "metadata": {},
   "outputs": [],
   "source": [
    "def persist_image(folder_path:str,url:str):\n",
    "    try:\n",
    "        image_content = requests.get(url).content\n",
    "\n",
    "    except Exception as e:\n",
    "        print(f\"ERROR - Could not download {url} - {e}\")\n",
    "\n",
    "    try:\n",
    "        image_file = io.BytesIO(image_content)\n",
    "        image = Image.open(image_file).convert('RGB')\n",
    "        file_path = os.path.join(folder_path,hashlib.sha1(image_content).hexdigest()[:10] + '.jpg')\n",
    "        with open(file_path, 'wb') as f:\n",
    "            image.save(f, \"JPEG\", quality=85)\n",
    "        print(f\"SUCCESS - saved {url} - as {file_path}\")\n",
    "    except Exception as e:\n",
    "        print(f\"ERROR - Could not save {url} - {e}\")"
   ]
  },
  {
   "cell_type": "code",
   "execution_count": null,
   "metadata": {},
   "outputs": [],
   "source": [
    "def search_and_download(search_term:str,driver_path:str,target_path='./images',number_images=5):\n",
    "    target_folder = os.path.join(target_path,'_'.join(search_term.lower().split(' ')))\n",
    "\n",
    "    if not os.path.exists(target_folder):\n",
    "        os.makedirs(target_folder)\n",
    "\n",
    "    with webdriver.Chrome(executable_path=driver_path) as wd:\n",
    "        res = fetch_image_urls(search_term, number_images, wd=wd, sleep_between_interactions=0.5)\n",
    "        \n",
    "    for elem in res:\n",
    "        persist_image(target_folder,elem)"
   ]
  },
  {
   "cell_type": "code",
   "execution_count": null,
   "metadata": {},
   "outputs": [],
   "source": [
    "search_term = 'Amanita Cesarea'\n",
    "\n",
    "search_and_download(search_term=search_term,driver_path=wd)"
   ]
  },
  {
   "cell_type": "code",
   "execution_count": null,
   "metadata": {},
   "outputs": [],
   "source": [
    "import face_recognition\n",
    "imagen = face_recognition.load_image_file(\"mi_imagen.jpg\")\n",
    "localizaCaras = face_recognition.face_locations(imagen)"
   ]
  },
  {
   "cell_type": "code",
   "execution_count": null,
   "metadata": {},
   "outputs": [],
   "source": []
  }
 ],
 "metadata": {
  "kernelspec": {
   "display_name": "Python 3",
   "language": "python",
   "name": "python3"
  },
  "language_info": {
   "codemirror_mode": {
    "name": "ipython",
    "version": 3
   },
   "file_extension": ".py",
   "mimetype": "text/x-python",
   "name": "python",
   "nbconvert_exporter": "python",
   "pygments_lexer": "ipython3",
   "version": "3.8.5"
  }
 },
 "nbformat": 4,
 "nbformat_minor": 2
}
