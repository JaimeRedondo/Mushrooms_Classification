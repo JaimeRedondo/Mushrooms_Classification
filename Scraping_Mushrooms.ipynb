{
  "nbformat": 4,
  "nbformat_minor": 0,
  "metadata": {
    "kernelspec": {
      "display_name": "Python 3",
      "language": "python",
      "name": "python3"
    },
    "language_info": {
      "codemirror_mode": {
        "name": "ipython",
        "version": 3
      },
      "file_extension": ".py",
      "mimetype": "text/x-python",
      "name": "python",
      "nbconvert_exporter": "python",
      "pygments_lexer": "ipython3",
      "version": "3.8.5"
    },
    "colab": {
      "name": "Scraping_Mushrooms.ipynb",
      "provenance": [],
      "collapsed_sections": [],
      "include_colab_link": true
    },
    "widgets": {
      "application/vnd.jupyter.widget-state+json": {
        "6abbe59dc25e4e5eb643d35de9cdcf2a": {
          "model_module": "@jupyter-widgets/controls",
          "model_name": "HBoxModel",
          "state": {
            "_view_name": "HBoxView",
            "_dom_classes": [],
            "_model_name": "HBoxModel",
            "_view_module": "@jupyter-widgets/controls",
            "_model_module_version": "1.5.0",
            "_view_count": null,
            "_view_module_version": "1.5.0",
            "box_style": "",
            "layout": "IPY_MODEL_0bd415b83cbf47e2ab6bc50f502206cf",
            "_model_module": "@jupyter-widgets/controls",
            "children": [
              "IPY_MODEL_2c95811ceaa94f9aa809fd47dc7635a8",
              "IPY_MODEL_3519479d95964ffd823e0110838da670"
            ]
          }
        },
        "0bd415b83cbf47e2ab6bc50f502206cf": {
          "model_module": "@jupyter-widgets/base",
          "model_name": "LayoutModel",
          "state": {
            "_view_name": "LayoutView",
            "grid_template_rows": null,
            "right": null,
            "justify_content": null,
            "_view_module": "@jupyter-widgets/base",
            "overflow": null,
            "_model_module_version": "1.2.0",
            "_view_count": null,
            "flex_flow": null,
            "width": null,
            "min_width": null,
            "border": null,
            "align_items": null,
            "bottom": null,
            "_model_module": "@jupyter-widgets/base",
            "top": null,
            "grid_column": null,
            "overflow_y": null,
            "overflow_x": null,
            "grid_auto_flow": null,
            "grid_area": null,
            "grid_template_columns": null,
            "flex": null,
            "_model_name": "LayoutModel",
            "justify_items": null,
            "grid_row": null,
            "max_height": null,
            "align_content": null,
            "visibility": null,
            "align_self": null,
            "height": null,
            "min_height": null,
            "padding": null,
            "grid_auto_rows": null,
            "grid_gap": null,
            "max_width": null,
            "order": null,
            "_view_module_version": "1.2.0",
            "grid_template_areas": null,
            "object_position": null,
            "object_fit": null,
            "grid_auto_columns": null,
            "margin": null,
            "display": null,
            "left": null
          }
        },
        "2c95811ceaa94f9aa809fd47dc7635a8": {
          "model_module": "@jupyter-widgets/controls",
          "model_name": "FloatProgressModel",
          "state": {
            "_view_name": "ProgressView",
            "style": "IPY_MODEL_ce345b0e29bf4899879168bab503aa3e",
            "_dom_classes": [],
            "description": "100%",
            "_model_name": "FloatProgressModel",
            "bar_style": "success",
            "max": 49,
            "_view_module": "@jupyter-widgets/controls",
            "_model_module_version": "1.5.0",
            "value": 49,
            "_view_count": null,
            "_view_module_version": "1.5.0",
            "orientation": "horizontal",
            "min": 0,
            "description_tooltip": null,
            "_model_module": "@jupyter-widgets/controls",
            "layout": "IPY_MODEL_8f4c26a2fc264a66ac0b591759e316df"
          }
        },
        "3519479d95964ffd823e0110838da670": {
          "model_module": "@jupyter-widgets/controls",
          "model_name": "HTMLModel",
          "state": {
            "_view_name": "HTMLView",
            "style": "IPY_MODEL_0735d14b1ecd4472b051ed007d4699ff",
            "_dom_classes": [],
            "description": "",
            "_model_name": "HTMLModel",
            "placeholder": "​",
            "_view_module": "@jupyter-widgets/controls",
            "_model_module_version": "1.5.0",
            "value": " 49/49 [11:42&lt;00:00, 14.34s/it]",
            "_view_count": null,
            "_view_module_version": "1.5.0",
            "description_tooltip": null,
            "_model_module": "@jupyter-widgets/controls",
            "layout": "IPY_MODEL_bfb5188935884055a143ac2e5b1d3a3a"
          }
        },
        "ce345b0e29bf4899879168bab503aa3e": {
          "model_module": "@jupyter-widgets/controls",
          "model_name": "ProgressStyleModel",
          "state": {
            "_view_name": "StyleView",
            "_model_name": "ProgressStyleModel",
            "description_width": "initial",
            "_view_module": "@jupyter-widgets/base",
            "_model_module_version": "1.5.0",
            "_view_count": null,
            "_view_module_version": "1.2.0",
            "bar_color": null,
            "_model_module": "@jupyter-widgets/controls"
          }
        },
        "8f4c26a2fc264a66ac0b591759e316df": {
          "model_module": "@jupyter-widgets/base",
          "model_name": "LayoutModel",
          "state": {
            "_view_name": "LayoutView",
            "grid_template_rows": null,
            "right": null,
            "justify_content": null,
            "_view_module": "@jupyter-widgets/base",
            "overflow": null,
            "_model_module_version": "1.2.0",
            "_view_count": null,
            "flex_flow": null,
            "width": null,
            "min_width": null,
            "border": null,
            "align_items": null,
            "bottom": null,
            "_model_module": "@jupyter-widgets/base",
            "top": null,
            "grid_column": null,
            "overflow_y": null,
            "overflow_x": null,
            "grid_auto_flow": null,
            "grid_area": null,
            "grid_template_columns": null,
            "flex": null,
            "_model_name": "LayoutModel",
            "justify_items": null,
            "grid_row": null,
            "max_height": null,
            "align_content": null,
            "visibility": null,
            "align_self": null,
            "height": null,
            "min_height": null,
            "padding": null,
            "grid_auto_rows": null,
            "grid_gap": null,
            "max_width": null,
            "order": null,
            "_view_module_version": "1.2.0",
            "grid_template_areas": null,
            "object_position": null,
            "object_fit": null,
            "grid_auto_columns": null,
            "margin": null,
            "display": null,
            "left": null
          }
        },
        "0735d14b1ecd4472b051ed007d4699ff": {
          "model_module": "@jupyter-widgets/controls",
          "model_name": "DescriptionStyleModel",
          "state": {
            "_view_name": "StyleView",
            "_model_name": "DescriptionStyleModel",
            "description_width": "",
            "_view_module": "@jupyter-widgets/base",
            "_model_module_version": "1.5.0",
            "_view_count": null,
            "_view_module_version": "1.2.0",
            "_model_module": "@jupyter-widgets/controls"
          }
        },
        "bfb5188935884055a143ac2e5b1d3a3a": {
          "model_module": "@jupyter-widgets/base",
          "model_name": "LayoutModel",
          "state": {
            "_view_name": "LayoutView",
            "grid_template_rows": null,
            "right": null,
            "justify_content": null,
            "_view_module": "@jupyter-widgets/base",
            "overflow": null,
            "_model_module_version": "1.2.0",
            "_view_count": null,
            "flex_flow": null,
            "width": null,
            "min_width": null,
            "border": null,
            "align_items": null,
            "bottom": null,
            "_model_module": "@jupyter-widgets/base",
            "top": null,
            "grid_column": null,
            "overflow_y": null,
            "overflow_x": null,
            "grid_auto_flow": null,
            "grid_area": null,
            "grid_template_columns": null,
            "flex": null,
            "_model_name": "LayoutModel",
            "justify_items": null,
            "grid_row": null,
            "max_height": null,
            "align_content": null,
            "visibility": null,
            "align_self": null,
            "height": null,
            "min_height": null,
            "padding": null,
            "grid_auto_rows": null,
            "grid_gap": null,
            "max_width": null,
            "order": null,
            "_view_module_version": "1.2.0",
            "grid_template_areas": null,
            "object_position": null,
            "object_fit": null,
            "grid_auto_columns": null,
            "margin": null,
            "display": null,
            "left": null
          }
        }
      }
    }
  },
  "cells": [
    {
      "cell_type": "markdown",
      "metadata": {
        "id": "view-in-github",
        "colab_type": "text"
      },
      "source": [
        "<a href=\"https://colab.research.google.com/github/JaimeRedondo/Mushrooms_Classification/blob/master/Scraping_Mushrooms.ipynb\" target=\"_parent\"><img src=\"https://colab.research.google.com/assets/colab-badge.svg\" alt=\"Open In Colab\"/></a>"
      ]
    },
    {
      "cell_type": "markdown",
      "metadata": {
        "id": "nkeu_MBSizCk"
      },
      "source": [
        "# WEB SCRAPING "
      ]
    },
    {
      "cell_type": "markdown",
      "metadata": {
        "id": "qyyVPkl1izCu"
      },
      "source": [
        "### Imports and Libraries"
      ]
    },
    {
      "cell_type": "code",
      "metadata": {
        "colab": {
          "base_uri": "https://localhost:8080/"
        },
        "id": "InTbE9rkizCv",
        "outputId": "7bad0cb9-0689-47ae-9f98-415f50c3ee29"
      },
      "source": [
        "#working with images\n",
        "! pip install opencv-python\n",
        "from matplotlib import image\n",
        "from matplotlib import pyplot\n",
        "from skimage import io\n",
        "import cv2\n",
        "import os\n",
        "\n",
        "#--Web scraping packages\n",
        "from bs4 import BeautifulSoup\n",
        "import requests\n",
        "import itertools\n",
        "from urllib.request import Request, urlopen\n",
        "import urllib.request\n",
        "\n",
        "#Pandas/numpy for data manipulation\n",
        "import pandas as pd\n",
        "import numpy as np\n",
        "from urllib.request import urlopen\n",
        "\n",
        "#barrita de progreso\n",
        "from tqdm.notebook import tqdm\n",
        "from time import sleep \n",
        "\n",
        "#Visualize data\n",
        "%pylab inline\n",
        "plt.style.use('seaborn-talk')"
      ],
      "execution_count": 1,
      "outputs": [
        {
          "output_type": "stream",
          "text": [
            "Requirement already satisfied: opencv-python in /usr/local/lib/python3.7/dist-packages (4.1.2.30)\n",
            "Requirement already satisfied: numpy>=1.14.5 in /usr/local/lib/python3.7/dist-packages (from opencv-python) (1.19.5)\n",
            "Populating the interactive namespace from numpy and matplotlib\n"
          ],
          "name": "stdout"
        }
      ]
    },
    {
      "cell_type": "markdown",
      "metadata": {
        "id": "_BIHLrY-izCz"
      },
      "source": [
        "### Scraping the species of mushrooms we want, only the names at the moment"
      ]
    },
    {
      "cell_type": "code",
      "metadata": {
        "id": "5MeQear1izC1"
      },
      "source": [
        "#function to have 542 species of muchrooms over the world\n",
        "\n",
        "def get_all_mushrooms():\n",
        "    mushroom_dct = {}\n",
        "\n",
        "    for idx in tqdm(range(0, 541, 20)):\n",
        "        url = f\"https://www.fungipedia.org/hongos.html?start={idx}\"\n",
        "        req = Request(\n",
        "            url,\n",
        "            headers={\"User-Agent\": \"Mozilla&5.0\"},\n",
        "        )\n",
        "\n",
        "        html = urlopen(req)\n",
        "        soup = BeautifulSoup(html, \"html.parser\")\n",
        "        \n",
        "        mushrooms = soup.find_all(class_=\"gris\")\n",
        "        for m in mushrooms:\n",
        "            mushroom_dct[m.get(\"title\")] = m.get(\"href\")\n",
        "            \n",
        "    return mushroom_dct"
      ],
      "execution_count": 2,
      "outputs": []
    },
    {
      "cell_type": "code",
      "metadata": {
        "colab": {
          "base_uri": "https://localhost:8080/"
        },
        "id": "EZ7pB9RpizC3",
        "outputId": "e7accd3d-f209-461c-dc4d-060505f110af"
      },
      "source": [
        "#Functions that gets a dictionary (setas_dct) from a webpage with the url \"https://www.fungipedia.org....\"\"\n",
        "#with all mushrooms with their name and url., after doing this, we decide to use also Guadalajara Mushrooms, but\n",
        "#this is to scrape the names of more than 500 mushrooms from fungipedia or 49 mushrooms exclusively from \n",
        "#Guadalajara.This is the find mushrooms cell.\n",
        "\n",
        "print(\"Choose between All the regions or only Guadalajara Mushrooms\")\n",
        "\n",
        "def get_mushrooms_region(Region=input()):\n",
        "    \n",
        "    if Region == 'All':\n",
        "        #mushrooms_dct is a dictionary with Info about all mushrooms in the webpage (542)\n",
        "        #mushrooms_dct_short is a dictionary with Info about the first 10 mushrooms in the webpage (10)\n",
        "\n",
        "        mushrooms_dct = get_all_mushrooms()\n",
        "        print(f\"Mushrooms found: {len(mushrooms_dct)}\")\n",
        "\n",
        "        N = 10\n",
        "        print(f\"Info about the first {N} mushrooms\")\n",
        "\n",
        "        mushrooms_dct_short = dict(itertools.islice(mushrooms_dct.items(), 10))\n",
        "        for name, link in mushrooms_dct_short.items():\n",
        "            print(f\"Mushroom {name} in {link}\")\n",
        "    \n",
        "        #separate between names an urls mushrooms    \n",
        "        mushrooms_names,mushrooms_urls=list(mushrooms_dct.keys()), list(mushrooms_dct.values())\n",
        "\n",
        "        mushrooms_names_10,mushrooms_urls_10 = list(mushrooms_dct_short.keys()), list(mushrooms_dct_short.values())\n",
        "        \n",
        "        return mushrooms_names\n",
        "        \n",
        "    elif Region == 'Guadalajara':\n",
        "        #I put the 50 most commons classes of Guadalajara\n",
        "            \n",
        "        mushrooms_names = ['Agaricus arvensis','Agaricus bitorquis','Agaricus campestris','Agaricus sylvaticus','Amanita caesarea','Amanita citrina',\n",
        "                     'Amanita curtipes','Amanita muscaria','Amanita pantherina','Amanita phalloides','Boletus aereus','Boletus aestivalis','Boletus edulis',\n",
        "                     'Boletus erythropus','Boletus luridus','Boletus pinophilus','Boletus satanas','Cantharellus cibarius','Clitocybe gibba','Clitocybe odora',\n",
        "                     'Cratarellus cornucopioide','Cratarellus lutescens','Ganoderma lucidum','Lactarius controversus','Lactarius controversus','Lactarius deliciosus',\n",
        "                     'Lactarius rufus','Lactarius sanguifluus','Lepista nuda','Macrolepiota mastoidea','Macrolepiota procera','Marasmius oreades','Morchella elata',\n",
        "                     'Morchella esculenta','Morchella vulgaris','Pleurotus eryngii','Pleurotus ostreatus','Russula chloroides','Russula cyanoxantha','Russula vesca',\n",
        "                     'Sparasis crispa','Suillus luteus','Terfecia leptoderma','Tricholoma columbetta','Tricholoma equestre','Tricholoma portentosum','Tuber aestivum',\n",
        "                     'Tuber brumale','Tuber melanosporum']\n",
        "            \n",
        "        print('You choose Guadalajara Mushrooms')\n",
        "        \n",
        "        return mushrooms_names\n",
        "    \n",
        "    else:\n",
        "        \n",
        "        print('The region must be All or Guadalajara, please, try again:')\n",
        "        return get_mushrooms_region(Region=input())\n",
        "        \n",
        "        \n",
        "Mushrooms_names = get_mushrooms_region()"
      ],
      "execution_count": 3,
      "outputs": [
        {
          "output_type": "stream",
          "text": [
            "Choose between All the regions or only Guadalajara Mushrooms\n",
            "Guadalajara\n",
            "You choose Guadalajara Mushrooms\n"
          ],
          "name": "stdout"
        }
      ]
    },
    {
      "cell_type": "code",
      "metadata": {
        "id": "l26EDALzizC5"
      },
      "source": [
        "#we save in a csv the list of mushrooms names to not always \n",
        "\n",
        "pd.Series(Mushrooms_names).to_csv('mushrooms_names.csv',sep='|')"
      ],
      "execution_count": 4,
      "outputs": []
    },
    {
      "cell_type": "code",
      "metadata": {
        "id": "Fje3Tl_2izC5"
      },
      "source": [
        "#We read the csv with the names. We do this so as not to always run the find mushrooms cell.\n",
        "\n",
        "Mushrooms_names=pd.read_csv('mushrooms_names.csv',sep='|')\n",
        "Mushrooms_names=list(Mushrooms_names['0'])"
      ],
      "execution_count": 5,
      "outputs": []
    },
    {
      "cell_type": "code",
      "metadata": {
        "colab": {
          "base_uri": "https://localhost:8080/"
        },
        "id": "coipY6YNizC6",
        "outputId": "61df583d-6d46-4774-c414-4d943a3b017a"
      },
      "source": [
        "#function to download the images from an url and save in a folder, if we choose All regions, we\n",
        "#are going to download 20 images for each mushroom, if we choose Guadalajara, we are going to download 300\n",
        "# for each mushroom: \n",
        "\n",
        "print(\"Where do you want to save the photos?, example: /home/dsc/FP_Mushrooms/Mushrooms_Classification_Guadalajara\")\n",
        "print(\"If you want your current path write 'Default'\")\n",
        "\n",
        "path_output = input()\n",
        "\n",
        "if path_output == 'Default':\n",
        "    path_output = os.getcwd()+'/'\n",
        "else:\n",
        "    path_output = path_output\n",
        "\n",
        "def downloader(url,folder,scroll_until):\n",
        "    \n",
        "    try:\n",
        "    \n",
        "        os.chdir(os.path.join(os.getcwd(),path_output))\n",
        "\n",
        "        try:\n",
        "            os.mkdir(os.path.join(os.getcwd(),folder))\n",
        "        except:\n",
        "            print(mushroom+' folder already created')\n",
        "\n",
        "        os.chdir(os.path.join(os.getcwd(),path_output+folder))\n",
        "\n",
        "        num_res = scroll_until\n",
        "        \n",
        "        ## scrape 20 images from 20 images of google images until the num_res we consider necessary\n",
        "\n",
        "        for start in range(0, num_res, 20):\n",
        "\n",
        "            response = requests.get(url.format(start))\n",
        "\n",
        "            soup = BeautifulSoup(response.content,'html.parser')\n",
        "\n",
        "            images = soup.find_all(\"img\")\n",
        "\n",
        "            number = 0 + start\n",
        "            \n",
        "            for image in images[1::]:\n",
        "\n",
        "                image_src = image['src']\n",
        "\n",
        "                urllib.request.urlretrieve(image_src, str(number) + \".jpg\")\n",
        "\n",
        "                number += 1\n",
        "    except:\n",
        "        print('The Mushroom '+folder+' has had some errors in the download , to revise')"
      ],
      "execution_count": 6,
      "outputs": [
        {
          "output_type": "stream",
          "text": [
            "Where do you want to save the photos?, example: /home/dsc/FP_Mushrooms/Mushrooms_Classification_Guadalajara\n",
            "If you want your current path write 'Default'\n",
            "Default\n"
          ],
          "name": "stdout"
        }
      ]
    },
    {
      "cell_type": "code",
      "metadata": {
        "colab": {
          "base_uri": "https://localhost:8080/"
        },
        "id": "opvnNKyiizC7",
        "outputId": "df395916-9448-4a25-faf7-581ad7e545d6"
      },
      "source": [
        "print(\"How many images per mushroom do you want? minimum 20, give a number multiple of 20 (20,40,60...)\")\n",
        "\n",
        "scroll_until=int(input())"
      ],
      "execution_count": 7,
      "outputs": [
        {
          "output_type": "stream",
          "text": [
            "How many images per mushroom do you want? minimum 20, give a number multiple of 20 (20,40,60...)\n",
            "160\n"
          ],
          "name": "stdout"
        }
      ]
    },
    {
      "cell_type": "code",
      "metadata": {
        "colab": {
          "base_uri": "https://localhost:8080/",
          "height": 84,
          "referenced_widgets": [
            "6abbe59dc25e4e5eb643d35de9cdcf2a",
            "0bd415b83cbf47e2ab6bc50f502206cf",
            "2c95811ceaa94f9aa809fd47dc7635a8",
            "3519479d95964ffd823e0110838da670",
            "ce345b0e29bf4899879168bab503aa3e",
            "8f4c26a2fc264a66ac0b591759e316df",
            "0735d14b1ecd4472b051ed007d4699ff",
            "bfb5188935884055a143ac2e5b1d3a3a"
          ]
        },
        "id": "2Vn3iDI5izC8",
        "outputId": "224fdb69-9537-451c-d440-6e347892e497"
      },
      "source": [
        "for mushroom in tqdm(Mushrooms_names):\n",
        "    \n",
        "    url = 'https://www.google.com/search?q='+mushroom+'&tbm=isch&hl=es&sa=X&ved=2ahUKEwjw_M7z2NfuAhUMpRoKHbPQAokQgowBegQIARAX&biw=1905&bih=852&start={}'\n",
        "    \n",
        "    downloader(url,mushroom,scroll_until)\n",
        "    \n",
        "#volvemos a nuestro directorio  \n",
        "os.chdir(os.path.join(os.getcwd(),path_output))"
      ],
      "execution_count": 8,
      "outputs": [
        {
          "output_type": "display_data",
          "data": {
            "application/vnd.jupyter.widget-view+json": {
              "model_id": "6abbe59dc25e4e5eb643d35de9cdcf2a",
              "version_minor": 0,
              "version_major": 2
            },
            "text/plain": [
              "HBox(children=(FloatProgress(value=0.0, max=49.0), HTML(value='')))"
            ]
          },
          "metadata": {
            "tags": []
          }
        },
        {
          "output_type": "stream",
          "text": [
            "Lactarius controversus folder already created\n",
            "\n"
          ],
          "name": "stdout"
        }
      ]
    }
  ]
}